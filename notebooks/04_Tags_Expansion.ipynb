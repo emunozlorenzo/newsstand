{
 "cells": [
  {
   "cell_type": "markdown",
   "metadata": {},
   "source": [
    "# TAGS: Expansión"
   ]
  },
  {
   "cell_type": "markdown",
   "metadata": {},
   "source": [
    "## 1. Import Libraries"
   ]
  },
  {
   "cell_type": "code",
   "execution_count": 15,
   "metadata": {},
   "outputs": [
    {
     "name": "stdout",
     "output_type": "stream",
     "text": [
      "showing info https://raw.githubusercontent.com/nltk/nltk_data/gh-pages/index.xml\n"
     ]
    },
    {
     "data": {
      "text/plain": [
       "True"
      ]
     },
     "execution_count": 15,
     "metadata": {},
     "output_type": "execute_result"
    }
   ],
   "source": [
    "# NLTK\n",
    "import nltk\n",
    "from nltk.tokenize import word_tokenize\n",
    "from nltk.corpus import stopwords\n",
    "nltk.download()"
   ]
  },
  {
   "cell_type": "code",
   "execution_count": 1,
   "metadata": {},
   "outputs": [],
   "source": [
    "import feedparser\n",
    "from gensim.summarization.summarizer import summarize\n",
    "from gensim.summarization import keywords\n",
    "import urllib.request\n",
    "from urllib.request import urlopen\n",
    "from bs4 import BeautifulSoup\n",
    "import requests\n",
    "import googletrans\n",
    "import datetime\n",
    "from termcolor import colored\n",
    "from IPython.display import display, Markdown, Latex, HTML\n",
    "import re\n",
    "from IPython.display import Image"
   ]
  },
  {
   "cell_type": "code",
   "execution_count": 2,
   "metadata": {},
   "outputs": [],
   "source": [
    "def get_only_text(url):\n",
    "    \n",
    "    \"\"\"\n",
    "    return the title and the text of the article at the \n",
    "    specified url\n",
    "    \"\"\"\n",
    "    \n",
    "    page=urlopen(url)\n",
    "    soup=BeautifulSoup(page,\"html.parser\")\n",
    "    text=' '.join(map(lambda p: p.text, soup.find_all('p')))\n",
    "    # Eliminar Última Hora\n",
    "    rest = soup.find_all('p', attrs={'class' : \"line-clamp_x2 ue-c-widget__article-headline\"})[0].text\n",
    "    index = text.find(rest)\n",
    "    final_text = text[:index]\n",
    "    return [final_text,soup.title.text]\n",
    "\n",
    "def find_between( s, first, last ):\n",
    "    try:\n",
    "        start = s.index( first ) + len( first )\n",
    "        end = s.index( last, start )\n",
    "        return s[start:end]\n",
    "    except ValueError:\n",
    "        return \"\""
   ]
  },
  {
   "cell_type": "code",
   "execution_count": 3,
   "metadata": {},
   "outputs": [],
   "source": [
    "def expansion_news(expansion_entries,word_count=100):\n",
    "    expansion = {}\n",
    "    for i in range(len(expansion_entries)):\n",
    "        noticia = {'newspaper':None,'title':None,'headline':None,'summarise':None,'date':None,\n",
    "                   'link':None,'text':None,'img':None}\n",
    "        # Periodico\n",
    "        noticia['newspaper'] = find_between(s=expansion_entries[i]['id'], first='www.', last='.' )\n",
    "        # Title\n",
    "        noticia['title'] = expansion_entries[i]['title']\n",
    "        # Headline\n",
    "        index = expansion_entries[i]['summary_detail']['value'].find('&nbsp')\n",
    "        if index != -1:\n",
    "            noticia['headline'] = expansion_entries[i]['summary_detail']['value'][:index]\n",
    "        else:\n",
    "            noticia['headline'] = re.sub(pattern='&quot;',repl='\"',string=expansion_entries[i]['summary_detail']['value'])\n",
    "        # Date\n",
    "        noticia['date'] = {'date1':expansion_entries[i]['published'],'date2':expansion_entries[i]['published_parsed']}\n",
    "        # Link\n",
    "        noticia['link'] = expansion_entries[i]['id']\n",
    "        # Text\n",
    "        text = get_only_text(expansion_entries[i]['id'])[0]\n",
    "        noticia['text'] = text\n",
    "        # Summarise\n",
    "        if text.find('Para seguir leyendo') == -1:\n",
    "            noticia['summarise'] = summarize(text, word_count=word_count)\n",
    "        else:\n",
    "            noticia['summarise'] = 'Premium Content'\n",
    "        # Image\n",
    "        noticia['img'] = expansion_entries[i]['media_content'][0]['url']\n",
    "        expansion.update({'Noticia'+'_'+str(\"%02d\")%(i+1):noticia})\n",
    "    return expansion"
   ]
  },
  {
   "cell_type": "code",
   "execution_count": 4,
   "metadata": {},
   "outputs": [
    {
     "name": "stdout",
     "output_type": "stream",
     "text": [
      "Total Entradas Expansión: 35\n"
     ]
    }
   ],
   "source": [
    "url_expansion = 'https://e00-expansion.uecdn.es/rss/empresasbanca.xml'\n",
    "expansion = feedparser.parse(url_expansion)\n",
    "expansion_entries = expansion['entries']\n",
    "\n",
    "print('Total Entradas Expansión:',len(expansion_entries))"
   ]
  },
  {
   "cell_type": "code",
   "execution_count": 12,
   "metadata": {},
   "outputs": [],
   "source": [
    "##Creating a list of stop words and adding custom stopwords\n",
    "stop_words = set(stopwords.words(\"spanish\"))\n",
    "##Creating a list of custom stopwords\n",
    "new_words = []\n",
    "stop_words = stop_words.union(new_words)"
   ]
  },
  {
   "cell_type": "code",
   "execution_count": 40,
   "metadata": {},
   "outputs": [
    {
     "data": {
      "text/plain": [
       "{'title': 'Bankinter coloca 350 millones en bonos convertibles con un cupón del 6,25%',\n",
       " 'title_detail': {'type': 'text/plain',\n",
       "  'language': None,\n",
       "  'base': 'https://e00-expansion.uecdn.es/rss/empresasbanca.xml',\n",
       "  'value': 'Bankinter coloca 350 millones en bonos convertibles con un cupón del 6,25%'},\n",
       " 'summary': 'Bankinter ha colocado una oferta de valores perpetuos eventualmente convertibles en acciones ordinarias de la entidad por un importe máximo de 350 millones de euros, que devengarán un cupón trimestral del 6,25%.&nbsp;<a href=\"https://www.expansion.com/empresas/banca/2020/07/08/5f05903c468aeb65678b457e.html\">Leer</a><img src=\"http://secure-uk.imrworldwide.com/cgi-bin/m?cid=es-widgetueditorial&amp;cg=rss-expansion&amp;ci=es-widgetueditorial&amp;si=https://www.expansion.com/rss/empresas/banca.xml\" alt=\"\"/>',\n",
       " 'summary_detail': {'type': 'text/html',\n",
       "  'language': None,\n",
       "  'base': 'https://e00-expansion.uecdn.es/rss/empresasbanca.xml',\n",
       "  'value': 'Bankinter ha colocado una oferta de valores perpetuos eventualmente convertibles en acciones ordinarias de la entidad por un importe máximo de 350 millones de euros, que devengarán un cupón trimestral del 6,25%.&nbsp;<a href=\"https://www.expansion.com/empresas/banca/2020/07/08/5f05903c468aeb65678b457e.html\">Leer</a><img src=\"http://secure-uk.imrworldwide.com/cgi-bin/m?cid=es-widgetueditorial&amp;cg=rss-expansion&amp;ci=es-widgetueditorial&amp;si=https://www.expansion.com/rss/empresas/banca.xml\" alt=\"\"/>'},\n",
       " 'authors': [{'name': 'EP'}],\n",
       " 'author': 'EP',\n",
       " 'author_detail': {'name': 'EP'},\n",
       " 'links': [{'rel': 'alternate',\n",
       "   'type': 'text/html',\n",
       "   'href': 'https://www.expansion.com/empresas/banca/2020/07/08/5f05903c468aeb65678b457e.html'}],\n",
       " 'link': 'https://www.expansion.com/empresas/banca/2020/07/08/5f05903c468aeb65678b457e.html',\n",
       " 'tags': [{'term': 'Empresas', 'scheme': None, 'label': None},\n",
       "  {'term': 'Banca', 'scheme': None, 'label': None}],\n",
       " 'content': [{'type': 'text/html',\n",
       "   'language': None,\n",
       "   'base': 'https://e00-expansion.uecdn.es/rss/empresasbanca.xml',\n",
       "   'value': 'Bankinter ha colocado una oferta de valores perpetuos eventualmente convertibles en acciones ordinarias de la entidad por un importe máximo de 350 millones de euros, que devengarán un cupón trimestral del 6,25%.'}],\n",
       " 'media_content': [{'url': 'https://e00-expansion.uecdn.es/assets/multimedia/imagenes/2020/07/08/15942000383227.jpg',\n",
       "   'medium': 'image',\n",
       "   'width': '660',\n",
       "   'height': '440'}],\n",
       " 'media_thumbnail': [{'url': 'https://e00-expansion.uecdn.es/assets/multimedia/imagenes/2020/07/08/15942000383227_150x0.jpg',\n",
       "   'width': '150',\n",
       "   'height': '100'}],\n",
       " 'href': '',\n",
       " 'id': 'https://www.expansion.com/empresas/banca/2020/07/08/5f05903c468aeb65678b457e.html',\n",
       " 'guidislink': False,\n",
       " 'published': 'Wed, 08 Jul 2020 18:17:32 +0200',\n",
       " 'published_parsed': time.struct_time(tm_year=2020, tm_mon=7, tm_mday=8, tm_hour=16, tm_min=17, tm_sec=32, tm_wday=2, tm_yday=190, tm_isdst=0)}"
      ]
     },
     "execution_count": 40,
     "metadata": {},
     "output_type": "execute_result"
    }
   ],
   "source": [
    "expansion_entries[0]"
   ]
  },
  {
   "cell_type": "code",
   "execution_count": 41,
   "metadata": {},
   "outputs": [
    {
     "name": "stdout",
     "output_type": "stream",
     "text": [
      "['bankinter', 'ha', 'colocado', 'una', 'oferta', 'de', 'valores', 'perpetuos', 'eventualmente', 'convertibles', 'en', 'acciones', 'ordinarias', 'de', 'la', 'entidad', 'por', 'un', 'importe', 'máximo', 'de', 'millones', 'de', 'euros', 'que', 'devengarán', 'un', 'cupón', 'trimestral', 'del', 'la', 'alta', 'demanda', 'de', 'esta', 'emisión', 'de', 'deuda', 'conocida', 'como', 'en', 'la', 'jerga', 'financiera', 'que', 'ha', 'superado', 'en', 'veces', 'la', 'oferta', 'con', 'millones', 'de', 'euros', 'ha', 'permitido', 'abaratar', 'el', 'precio', 'en', 'puntos', 'básicos', 'del', 'al', 'estos', 'valores', 'con', 'exclusión', 'del', 'derecho', 'de', 'suscripción', 'preferente', 'son', 'convertibles', 'en', 'renta', 'variable', 'si', 'la', 'relación', 'ratio', 'de', 'capital', 'del', 'banco', 'cae', 'por', 'debajo', 'del', 'y', 'se', 'espera', 'que', 'reciban', 'la', 'calificación', 'por', 's', 'p', 'la', 'fecha', 'de', 'reinicio', 'es', 'de', 'seis', 'años', 'el', 'de', 'julio', 'de', 'esta', 'emisión', 'está', 'dirigida', 'únicamente', 'a', 'inversores', 'cualificados', 'por', 'lo', 'que', 'se', 'excluye', 'a', 'inversores', 'minoristas', 'sin', 'perjuicio', 'de', 'las', 'restricciones', 'de', 'venta', 'adicionales', 'previstas', 'en', 'la', 'documentación', 'relativa', 'a', 'la', 'emisión', 'el', 'banco', 'liderado', 'por', 'maría', 'dolores', 'dancausa', 'solicitará', 'la', 'admisión', 'a', 'negociación', 'de', 'los', 'valores', 'en', 'el', 'mercado', 'global', 'exchange', 'market', 'de', 'la', 'bolsa', 'de', 'irlanda', 'bankinter', 'barclays', 'bbva', 'credit', 'agricole', 'cib', 'y', 'natixis', 'actúan', 'como', 'entidades', 'colocadoras', 'para', 'esta', 'emisión']\n"
     ]
    }
   ],
   "source": [
    "text = get_only_text(expansion_entries[0]['id'])[0]\n",
    "tokens = word_tokenize(text,'spanish')\n",
    "# Quitamos símbolos de puntuación\n",
    "tokens = [word.lower() for word in tokens if word.isalpha()]\n",
    "print(tokens)"
   ]
  },
  {
   "cell_type": "code",
   "execution_count": 42,
   "metadata": {},
   "outputs": [
    {
     "data": {
      "text/plain": [
       "'Bankinter ha colocado una oferta de valores perpetuos eventualmente convertibles en acciones ordinarias de la entidad por un importe máximo de 350 millones de euros, que devengarán un cupón trimestral del 6,25%. La alta demanda de esta emisión de deuda AT1, conocida como \\'cocos\\' en la jerga financiera, que ha superado en 2,2 veces la oferta, con 800 millones de euros, ha permitido abaratar el precio en 25 puntos básicos del 6,5% al 6,25%.  Estos valores, con exclusión del derecho de suscripción preferente, son convertibles en renta variable si la relación ratio de capital CET1 del banco cae por debajo del 5,125%, y se espera que reciban la calificación \\'BB\\' por S&P.  La fecha de reinicio es de seis años, el 17 de julio de 2026. Esta emisión está dirigida \"únicamente a inversores cualificados\", por lo que se excluye a inversores minoristas, sin perjuicio de las restricciones de venta adicionales previstas en la documentación relativa a la emisión.  El banco liderado por María Dolores Dancausa solicitará la admisión a negociación de los valores en el mercado Global Exchange Market de la Bolsa de Irlanda.  Bankinter, Barclays, BBVA, Credit Agricole CIB y Natixis actúan como entidades colocadoras para esta emisión. '"
      ]
     },
     "execution_count": 42,
     "metadata": {},
     "output_type": "execute_result"
    }
   ],
   "source": [
    "text"
   ]
  },
  {
   "cell_type": "code",
   "execution_count": 36,
   "metadata": {},
   "outputs": [
    {
     "name": "stdout",
     "output_type": "stream",
     "text": [
      "Número de Tokens antes de la eliminación de las Stopwords: 437\n",
      "Número de Tokens después de la eliminación de las Stopwords: 224\n"
     ]
    }
   ],
   "source": [
    "clean_tokens = tokens[:]\n",
    "print('Número de Tokens antes de la eliminación de las Stopwords:',len(tokens))\n",
    "for token in tokens:\n",
    "    if token in stopwords.words('spanish'):\n",
    "        clean_tokens.remove(token)\n",
    "print('Número de Tokens después de la eliminación de las Stopwords:',len(clean_tokens))"
   ]
  },
  {
   "cell_type": "code",
   "execution_count": 37,
   "metadata": {
    "scrolled": true
   },
   "outputs": [
    {
     "data": {
      "text/plain": [
       "['banco',\n",
       " 'suizo',\n",
       " 'avisa',\n",
       " 'sólo',\n",
       " 'sortearán',\n",
       " 'integraciones',\n",
       " 'aquellas',\n",
       " 'entidades',\n",
       " 'niveles',\n",
       " 'capital',\n",
       " 'altos',\n",
       " 'garantizar',\n",
       " 'estabilidad',\n",
       " 'sector',\n",
       " 'financiero',\n",
       " 'europeo',\n",
       " 'fusiones',\n",
       " 'bancarias',\n",
       " 'cobran',\n",
       " 'fuerza',\n",
       " 'europa',\n",
       " 'tras',\n",
       " 'relajación',\n",
       " 'banco',\n",
       " 'central',\n",
       " 'europeo',\n",
       " 'bce',\n",
       " 'exigencias',\n",
       " 'capital',\n",
       " 'necesarias',\n",
       " 'impulsar',\n",
       " 'operaciones',\n",
       " 'corporativas',\n",
       " 'ubs',\n",
       " 'prevé',\n",
       " 'entidades',\n",
       " 'bancarias',\n",
       " 'protagonicen',\n",
       " 'fusiones',\n",
       " 'tras',\n",
       " 'pandemia',\n",
       " 'vez',\n",
       " 'disipe',\n",
       " 'incógnita',\n",
       " 'cómo',\n",
       " 'afectará',\n",
       " 'balance',\n",
       " 'bancos',\n",
       " 'después',\n",
       " 'medida',\n",
       " 'visibilidad',\n",
       " 'pérdidas',\n",
       " 'carteras',\n",
       " 'crédito',\n",
       " 'esperamos',\n",
       " 'fusiones',\n",
       " 'adquisiciones',\n",
       " 'mayor',\n",
       " 'estímulo',\n",
       " 'regulatorio',\n",
       " 'señala',\n",
       " 'banco',\n",
       " 'suizo',\n",
       " 'informe',\n",
       " 'reciente',\n",
       " 'remitido',\n",
       " 'clientes',\n",
       " 'gestores',\n",
       " 'bancarios',\n",
       " 'dudan',\n",
       " 'impacto',\n",
       " 'pandemia',\n",
       " 'balances',\n",
       " 'dependerá',\n",
       " 'si',\n",
       " 'rebrotes',\n",
       " 'virus',\n",
       " 'momento',\n",
       " 'aumento',\n",
       " 'impagos',\n",
       " 'conteniendo',\n",
       " 'gracias',\n",
       " 'medidas',\n",
       " 'excepcionales',\n",
       " 'combatir',\n",
       " 'freno',\n",
       " 'económico',\n",
       " 'pandemia',\n",
       " 'moratorias',\n",
       " 'pago',\n",
       " 'hipotecas',\n",
       " 'líneas',\n",
       " 'liquidez',\n",
       " 'garantías',\n",
       " 'públicas',\n",
       " 'cree',\n",
       " 'banca',\n",
       " 'reducir',\n",
       " 'costes',\n",
       " 'tener',\n",
       " 'rendimientos',\n",
       " 'europa',\n",
       " 'intentos',\n",
       " 'fusión',\n",
       " 'frustrados',\n",
       " 'deutsche',\n",
       " 'bank',\n",
       " 'commerzbank',\n",
       " 'alemania',\n",
       " 'unicaja',\n",
       " 'liberbank',\n",
       " 'españa',\n",
       " 'ñas',\n",
       " 'exigencias',\n",
       " 'capital',\n",
       " 'supervisor',\n",
       " 'principales',\n",
       " 'motivos',\n",
       " 'echaron',\n",
       " 'atrás',\n",
       " 'ambas',\n",
       " 'operaciones',\n",
       " 'ahora',\n",
       " 'bce',\n",
       " 'allana',\n",
       " 'camino',\n",
       " 'obliga',\n",
       " 'hacer',\n",
       " 'ampliaciones',\n",
       " 'capital',\n",
       " 'garantía',\n",
       " 'integraciones',\n",
       " 'cualquier',\n",
       " 'caso',\n",
       " 'analistas',\n",
       " 'ubs',\n",
       " 'advierten',\n",
       " 'informe',\n",
       " 'alternativa',\n",
       " 'consolidación',\n",
       " 'tener',\n",
       " 'niveles',\n",
       " 'capital',\n",
       " 'altos',\n",
       " 'garantizar',\n",
       " 'estabilidad',\n",
       " 'sector',\n",
       " 'financiero',\n",
       " 'europa',\n",
       " 'sólo',\n",
       " 'niveles',\n",
       " 'capital',\n",
       " 'altos',\n",
       " 'pueden',\n",
       " 'compensar',\n",
       " 'términos',\n",
       " 'estabilidad',\n",
       " 'sector',\n",
       " 'bancario',\n",
       " 'genera',\n",
       " 'pocas',\n",
       " 'ganancias',\n",
       " 'avisa',\n",
       " 'banco',\n",
       " 'suizo',\n",
       " 'integraciones',\n",
       " 'principal',\n",
       " 'camino',\n",
       " 'ahorrar',\n",
       " 'costes',\n",
       " 'elevar',\n",
       " 'rentabilidad',\n",
       " 'entidades',\n",
       " 'españa',\n",
       " 'sólo',\n",
       " 'bankinter',\n",
       " 'supera',\n",
       " 'coste',\n",
       " 'capital',\n",
       " 'ubs',\n",
       " 'recortes',\n",
       " 'gastos',\n",
       " 'solos',\n",
       " 'suficientes',\n",
       " 'ganar',\n",
       " 'rentabilidad',\n",
       " 'crisis',\n",
       " 'desatada',\n",
       " 'bancos',\n",
       " 'gozaban',\n",
       " 'rentabilidades',\n",
       " 'superiores',\n",
       " 'dos',\n",
       " 'dígitos',\n",
       " 'panorama',\n",
       " 'cambiado',\n",
       " 'drásticamente',\n",
       " 'ubs',\n",
       " 'cree',\n",
       " 'alcanzar',\n",
       " 'rote',\n",
       " 'rentabilidad',\n",
       " 'capital',\n",
       " 'tangible',\n",
       " 'media',\n",
       " 'europa',\n",
       " 'entidades',\n",
       " 'reducir',\n",
       " 'factura',\n",
       " 'costes',\n",
       " 'equivaldría',\n",
       " 'recorte',\n",
       " 'millones',\n",
       " 'euros',\n",
       " 'banco',\n",
       " 'suizo',\n",
       " 'estima',\n",
       " 'rote',\n",
       " 'medio',\n",
       " 'entidades',\n",
       " 'zona',\n",
       " 'euro',\n",
       " 'quedará',\n",
       " 'año']"
      ]
     },
     "execution_count": 37,
     "metadata": {},
     "output_type": "execute_result"
    }
   ],
   "source": [
    "clean_tokens"
   ]
  },
  {
   "cell_type": "code",
   "execution_count": 38,
   "metadata": {},
   "outputs": [
    {
     "name": "stdout",
     "output_type": "stream",
     "text": [
      "capital:8\n",
      "banco:5\n",
      "entidades:5\n",
      "suizo:4\n",
      "europa:4\n",
      "ubs:4\n",
      "sólo:3\n",
      "integraciones:3\n",
      "niveles:3\n",
      "altos:3\n"
     ]
    }
   ],
   "source": [
    "# Top 10\n",
    "freq = nltk.FreqDist(clean_tokens)\n",
    "for key,val in sorted(freq.items(), key=lambda item: item[1],reverse=True)[:10]:\n",
    "    print(key+':'+str(val))"
   ]
  },
  {
   "cell_type": "code",
   "execution_count": null,
   "metadata": {},
   "outputs": [],
   "source": []
  }
 ],
 "metadata": {
  "kernelspec": {
   "display_name": "Python 3",
   "language": "python",
   "name": "python3"
  },
  "language_info": {
   "codemirror_mode": {
    "name": "ipython",
    "version": 3
   },
   "file_extension": ".py",
   "mimetype": "text/x-python",
   "name": "python",
   "nbconvert_exporter": "python",
   "pygments_lexer": "ipython3",
   "version": "3.7.6"
  }
 },
 "nbformat": 4,
 "nbformat_minor": 4
}
