{
 "cells": [
  {
   "cell_type": "markdown",
   "metadata": {},
   "source": [
    "# RSS: Expansión"
   ]
  },
  {
   "cell_type": "markdown",
   "metadata": {},
   "source": [
    "## 1. Import Libraries"
   ]
  },
  {
   "cell_type": "code",
   "execution_count": 124,
   "metadata": {},
   "outputs": [],
   "source": [
    "import feedparser\n",
    "from gensim.summarization.summarizer import summarize\n",
    "from gensim.summarization import keywords\n",
    "import urllib.request\n",
    "from urllib.request import urlopen\n",
    "from bs4 import BeautifulSoup\n",
    "import requests\n",
    "import googletrans\n",
    "import datetime\n",
    "from termcolor import colored\n",
    "from IPython.display import display, Markdown, Latex, HTML\n",
    "import re\n",
    "from IPython.display import Image\n",
    "from wordcloud import WordCloud, STOPWORDS, ImageColorGenerator\n",
    "import matplotlib.pyplot as plt\n",
    "from nltk.corpus import stopwords\n",
    "import numpy as np\n",
    "from PIL import Image"
   ]
  },
  {
   "cell_type": "code",
   "execution_count": 101,
   "metadata": {},
   "outputs": [],
   "source": [
    "def get_only_text(url):\n",
    "    \n",
    "    \"\"\"\n",
    "    return the title and the text of the article at the \n",
    "    specified url\n",
    "    \"\"\"\n",
    "    \n",
    "    page=urlopen(url)\n",
    "    soup=BeautifulSoup(page,\"html.parser\")\n",
    "    text=' '.join(map(lambda p: p.text, soup.find_all('p')))\n",
    "    # Eliminar Última Hora\n",
    "    rest = soup.find_all('p', attrs={'class' : \"line-clamp_x2 ue-c-widget__article-headline\"})[0].text\n",
    "    index = text.find(rest)\n",
    "    final_text = text[:index]\n",
    "    return [final_text,soup.title.text]\n",
    "\n",
    "def find_between( s, first, last ):\n",
    "    try:\n",
    "        start = s.index( first ) + len( first )\n",
    "        end = s.index( last, start )\n",
    "        return s[start:end]\n",
    "    except ValueError:\n",
    "        return \"\"\n",
    "\n",
    "def string_found(string1, string2):\n",
    "    \n",
    "    if re.search(r\"\\b\" + re.escape(string1) + r\"\\b\", string2.lower()):\n",
    "        return True\n",
    "    return False     \n",
    "    \n",
    "def bank_tags(text):\n",
    "    tags = []\n",
    "    dict_banks = {'Santander':['santander'],'BBVA':['bbva'],'Bankinter':['bankinter'],'Bankia':['bankia'],\n",
    "                 'Sabadell':['sabadell'],'ING':['ing'],'Abanca':['abanca'],'Deutsche Bank':['deutsche'],\n",
    "                  'CaixaBank':['caixabank'],'Openbank':['openbank']}\n",
    "    for key,values in dict_banks.items():\n",
    "        for i in values:\n",
    "            if string_found(i,text.lower()):\n",
    "                tags.append(key)\n",
    "                break\n",
    "    return tags"
   ]
  },
  {
   "cell_type": "code",
   "execution_count": 102,
   "metadata": {},
   "outputs": [],
   "source": [
    "def expansion_news(expansion_entries,word_count=100):\n",
    "    expansion = {}\n",
    "    for i in range(len(expansion_entries)):\n",
    "        noticia = {'newspaper':None,'title':None,'headline':None,'summarise':None,'date':None,'link':None,'text':None,'current_date':None,'img':None,'premium':None,'tag':None}\n",
    "        # Periodico\n",
    "        noticia['newspaper'] = find_between(s=expansion_entries[i]['id'], first='www.', last='.' )\n",
    "        # Title\n",
    "        noticia['title'] = expansion_entries[i]['title']\n",
    "        # Headline\n",
    "        index = expansion_entries[i]['summary_detail']['value'].find('&nbsp')\n",
    "        if index != -1:\n",
    "            noticia['headline'] = expansion_entries[i]['summary_detail']['value'][:index]\n",
    "        else:\n",
    "            noticia['headline'] = re.sub(pattern='&quot;',repl='\"',string=expansion_entries[i]['summary_detail']['value'])\n",
    "        # Date\n",
    "        noticia['date'] = {'date1':expansion_entries[i]['published'],'date2':expansion_entries[i]['published_parsed']}\n",
    "        # Link\n",
    "        noticia['link'] = expansion_entries[i]['id']\n",
    "        # Text\n",
    "        text = get_only_text(expansion_entries[i]['id'])[0]\n",
    "        noticia['text'] = text\n",
    "        # Bank Tags\n",
    "        noticia['tag'] = bank_tags(text)\n",
    "        # Summarise\n",
    "        if text.find('Para seguir leyendo') == -1:\n",
    "            noticia['summarise'] = summarize(text, word_count=word_count)\n",
    "            noticia['premium'] = False\n",
    "        else:\n",
    "            noticia['summarise'] = 'Premium Content'\n",
    "            noticia['premium'] = True\n",
    "        # Current Date\n",
    "        noticia['current_date'] = datetime.datetime.now().timetuple()\n",
    "        # Image\n",
    "        noticia['img'] = expansion_entries[i]['media_content'][0]['url']\n",
    "        expansion.update({'Noticia'+'_'+str(\"%02d\")%(i+1):noticia})\n",
    "    return expansion"
   ]
  },
  {
   "cell_type": "markdown",
   "metadata": {},
   "source": [
    "## 2. RSS Expansión"
   ]
  },
  {
   "cell_type": "code",
   "execution_count": 103,
   "metadata": {},
   "outputs": [
    {
     "name": "stdout",
     "output_type": "stream",
     "text": [
      "Total Entradas Expansión: 35\n"
     ]
    }
   ],
   "source": [
    "url_expansion = 'https://e00-expansion.uecdn.es/rss/empresasbanca.xml'\n",
    "expansion = feedparser.parse(url_expansion)\n",
    "expansion_entries = expansion['entries']\n",
    "\n",
    "print('Total Entradas Expansión:',len(expansion_entries))"
   ]
  },
  {
   "cell_type": "code",
   "execution_count": 96,
   "metadata": {},
   "outputs": [],
   "source": [
    "expansion = expansion_news(expansion_entries,word_count=100)"
   ]
  },
  {
   "cell_type": "code",
   "execution_count": 97,
   "metadata": {},
   "outputs": [
    {
     "name": "stdout",
     "output_type": "stream",
     "text": [
      "\u001b[1m\u001b[32mEXPANSION\u001b[0m\n",
      "\u001b[1m\u001b[30mMon, 13 Jul 2020 20:54:26 +0200\u001b[0m\n",
      "\u001b[1m\u001b[35mLos bancos estadounidenses no podrán usar el coronavirus como excusa para cerrar sucursales\u001b[0m\n",
      "\u001b[34mHeadline\u001b[0m\n",
      "El número de sucursales bancarias en EEUU se ha reducido en más de 4.500, alrededor del 6%, desde 2010.\n",
      "\u001b[34mSummarise\u001b[0m\n",
      "\u001b[31mPremium Content\u001b[0m\n",
      "\u001b[34mText\u001b[0m\n",
      "El número de sucursales bancarias en EEUU se ha reducido en más de 4.500, alrededor del 6%, desde 2010. Los bancos estadounidenses no podrán utilizar la Covid-19 como excusa para cerrar sucursales o para obtener concesiones permanentes de las autoridades, según la Oficina del Controlador de la Moneda (OCC por sus siglas en inglés), uno de los principal Para seguir leyendo, hágase Premium ¿Ya es Premium? Inicie sesión Mensual primer mes después 14,99€   Anual primer mes después 7,50€/mes (Pago único de 90€)\n",
      " 4 meses gratis  Descubra qué es Premium   Cancele cuando quiera    Consulte los términos y condiciones del servicio  \n",
      "\u001b[34mTags\u001b[0m\n",
      "[]\n"
     ]
    },
    {
     "data": {
      "text/html": [
       "<img src=\"https://e00-expansion.uecdn.es/assets/multimedia/imagenes/2020/07/13/15946590188136.jpg\" width=\"500\"/>"
      ],
      "text/plain": [
       "<IPython.core.display.Image object>"
      ]
     },
     "metadata": {},
     "output_type": "display_data"
    },
    {
     "data": {
      "text/markdown": [
       "<a href=\"https://www.expansion.com/empresas/banca/2020/07/13/5f0c90f0468aeb93628b461e.html\">Link</a>"
      ],
      "text/plain": [
       "<IPython.core.display.Markdown object>"
      ]
     },
     "metadata": {},
     "output_type": "display_data"
    },
    {
     "name": "stdout",
     "output_type": "stream",
     "text": [
      "\n",
      "\n",
      "\u001b[1m\u001b[32mEXPANSION\u001b[0m\n",
      "\u001b[1m\u001b[30mMon, 13 Jul 2020 11:54:57 +0200\u001b[0m\n",
      "\u001b[1m\u001b[35mEl BEI aporta 757 millones a Banco Santander para financiar a empresas afectadas por el coronavirus\u001b[0m\n",
      "\u001b[34mHeadline\u001b[0m\n",
      "El Banco Europeo de Inversiones (BEI) pondrá a disposición del Banco Santander 757 millones de euros para que la entidad los destine a inyectar liquidez y financiar las inversiones de pequeñas y medianas empresas afectadas por el impacto económico de la pandemia del coronavirus.\n",
      "\u001b[34mSummarise\u001b[0m\n",
      "El Banco Europeo de Inversiones (BEI) pondrá a disposición del Banco Santander 757 millones de euros para que la entidad los destine a inyectar liquidez y financiar las inversiones de pequeñas y medianas empresas afectadas por el impacto económico de la pandemia del coronavirus.\n",
      "En una nota remitida este lunes, ambas entidades explican que el acuerdo permitirá a pymes y empresas de tamaño mediano -\"midcaps\"- acceder a financiación con mejores tipos de interés y plazos de amortización que en el resto del mercado, con el objetivo de acelerar la recuperación del tejido productivo en España.\n",
      "\u001b[34mText\u001b[0m\n",
      "El Banco Europeo de Inversiones (BEI) pondrá a disposición del Banco Santander 757 millones de euros para que la entidad los destine a inyectar liquidez y financiar las inversiones de pequeñas y medianas empresas afectadas por el impacto económico de la pandemia del coronavirus. En una nota remitida este lunes, ambas entidades explican que el acuerdo permitirá a pymes y empresas de tamaño mediano -\"midcaps\"- acceder a financiación con mejores tipos de interés y plazos de amortización que en el resto del mercado, con el objetivo de acelerar la recuperación del tejido productivo en España. Dentro de los acuerdos firmados con el Banco Santander, 100 millones de euros se destinarán específicamente a financiar proyectos de inversión de las pymes que trabajan en el sector agro alimentario y que se han visto afectadas por la crisis provocada por la pandemia. Otros 100 millones se canalizarán a través de Santander Consumer Finance para facilitar liquidez a las pymes españolas afectadas por la crisis, que necesiten renovar sus flotas de transporte con vehículos nuevos \"más eficientes y respetuosos con el medio ambiente\". Esta línea de financiación permitirá también la adquisición de maquinaria agrícola y autobuses, añade la nota. Estos fondos forman parte de las iniciativas que el BEI puso en marcha el pasado marzo para afrontar la crisis provocada por la pandemia, entre ellas la movilización de hasta 28.000 millones de euros en los diferentes países de la UE para aliviar la falta de capital circulante de pymes y midcaps, en colaboración con los intermediarios financieros de esos países. \n",
      "\u001b[34mTags\u001b[0m\n",
      "['Santander']\n"
     ]
    },
    {
     "data": {
      "text/html": [
       "<img src=\"https://e00-expansion.uecdn.es/assets/multimedia/imagenes/2020/07/13/15946336673606.jpg\" width=\"500\"/>"
      ],
      "text/plain": [
       "<IPython.core.display.Image object>"
      ]
     },
     "metadata": {},
     "output_type": "display_data"
    },
    {
     "data": {
      "text/markdown": [
       "<a href=\"https://www.expansion.com/empresas/banca/2020/07/13/5f0c2f50e5fdea95058b45a1.html\">Link</a>"
      ],
      "text/plain": [
       "<IPython.core.display.Markdown object>"
      ]
     },
     "metadata": {},
     "output_type": "display_data"
    },
    {
     "name": "stdout",
     "output_type": "stream",
     "text": [
      "\n",
      "\n",
      "\u001b[1m\u001b[32mEXPANSION\u001b[0m\n",
      "\u001b[1m\u001b[30mMon, 13 Jul 2020 09:37:12 +0200\u001b[0m\n",
      "\u001b[1m\u001b[35mTarjeta amarilla a Elliott\u001b[0m\n",
      "\u001b[34mHeadline\u001b[0m\n",
      "El supervisor busca proteger a los asegurados de MedVida, que son clientes de Sabadell, banco que vendió la firma al fondo activista Elliott.\n",
      "\u001b[34mSummarise\u001b[0m\n",
      "La Dirección General de Seguros y Pensiones ha abierto expediente tras una inspección a MedVida, aseguradora controlada por el fondo activista Elliott a través de Ember y cuyos clientes fueron captados en su día por Sabadell antes de vender la sociedad al inversor británico.\n",
      "Tras la inspección, MedVida (Mediterráneo Vida) se ha visto obligada a reestructurar sus acuerdos con dos sociedades luxemburguesas controladas por Elliott: Water International Finance (WIF) y Water Associates Finance (WAF), a las que transfirió la mayor parte de sus activos financieros destinados a cumplir los compromisos con sus asegurados.\n",
      "\u001b[34mText\u001b[0m\n",
      "El supervisor busca proteger a los asegurados de MedVida, que son clientes de Sabadell, banco que vendió la firma al fondo activista Elliott. La Dirección General de Seguros y Pensiones ha abierto expediente tras una inspección a MedVida, aseguradora controlada por el fondo activista Elliott a través de Ember y cuyos clientes fueron captados en su día por Sabadell antes de vender la sociedad al inversor británico.  Tras la inspección, MedVida (Mediterráneo Vida) se ha visto obligada a reestructurar sus acuerdos con dos sociedades luxemburguesas controladas por Elliott: Water International Finance (WIF) y Water Associates Finance (WAF), a las que transfirió la mayor parte de sus activos financieros destinados a cumplir los compromisos con sus asegurados. Estas dos firmas están obligadas a pagar a MedVida los flujos de efectivo en el mismo momento que lo hagan los activos transferidos. MedVida no tiene actividad comercial, pero sí cuenta con clientes que pagan anualmente las primas previamente contratadas y cuya relación con Sabadell se mantiene. El banco se convirtió en propietario de MedVida al hacerse con la desaparecida Caja del Mediterráneo (CAM). El supervisor del sector no ve con buenos ojos que fondos como Elliott compren aseguradoras o carteras de seguros y ha advertido que estas operaciones deben hacerse preservando los derechos de los clientes y la solvencia de la compañía. De hecho, la protección de los derechos de estos asegurados es el objetivo principal de las modificaciones impuestas por el supervisor a la aseguradora española de Elliott. El objetivo de los fondos que se hacen con estos activos es reinvertirlos en otros diferentes para obtener un mayor rendimiento y generar más beneficios a su favor. Seguros ha obligado a Elliott a aplicar un plan de amortización de los acuerdos con WIF y WAF para los activos transferidos correspondientes al capital y reservas de MedVida. Este requerimiento se realizó en 2019 y la aseguradora ya ha recuperado estos activos y ha presentado al supervisor un plan de acción en el que prevé la aceleración del plan de amortización de los contratos marco suscritos con WIF y WAF para reducir la vida media desde 5,1 años a 4,3 años. La aseguradora ha incorporado en su funcionamiento otras exigencias de Seguros para dar más control a MedVida sobre la cesión de los activos a los dos fondos de Elliott, al tiempo que se reduce su margen de maniobra. Siguiendo los cambios dictados por la Dirección General de Seguros, MedVida recibirá a partir de ahora remuneración por los acuerdos suscritos con WIF y WAF. Mediterráneo Vida tiene contratos de reaseguros con Scor Global y con General Reinsurance, controlada por Warren Buffett. Elliott Management está presente en el mercado asegurador español también a través de Nationale Nederlanden, filial al 100% de NN Group, en el que el inversor tiene un 3%. El fondo ha recomendado a la firma holandesa que salga de España al considerar que su falta de acuerdos de bancaseguros limita su crecimiento. \n",
      "\u001b[34mTags\u001b[0m\n",
      "['Sabadell']\n"
     ]
    },
    {
     "data": {
      "text/html": [
       "<img src=\"https://e00-expansion.uecdn.es/assets/multimedia/imagenes/2020/07/10/15943976392779.jpg\" width=\"500\"/>"
      ],
      "text/plain": [
       "<IPython.core.display.Image object>"
      ]
     },
     "metadata": {},
     "output_type": "display_data"
    },
    {
     "data": {
      "text/markdown": [
       "<a href=\"https://www.expansion.com/empresas/banca/2020/07/13/5f088838e5fdea5b7c8b45d4.html\">Link</a>"
      ],
      "text/plain": [
       "<IPython.core.display.Markdown object>"
      ]
     },
     "metadata": {},
     "output_type": "display_data"
    },
    {
     "name": "stdout",
     "output_type": "stream",
     "text": [
      "\n",
      "\n",
      "\u001b[1m\u001b[32mEXPANSION\u001b[0m\n",
      "\u001b[1m\u001b[30mMon, 13 Jul 2020 07:58:46 +0200\u001b[0m\n",
      "\u001b[1m\u001b[35mSareb dice que podría ganar dinero tras el ahorro de costes\u001b[0m\n",
      "\u001b[34mHeadline\u001b[0m\n",
      "García del Río rechaza una rebaja de precios por el Covid y prevé ahorros de 300 millones tras renegociar con los 'servicers'.\n",
      "\u001b[34mSummarise\u001b[0m\n",
      "Sareb no descarta dar beneficios en alguno de los siete años de vida que le quedan por la reducción de costes financieros y, sobre todo, por el ahorro motivado por un cambio estratégico en su relación con los servicers, explica el director general de la sociedad, Javier García del Río (Córdoba, 1977), cuyo nombramiento como consejero delegado se aprobará en la junta que la compañía celebrará el próximo otoño.\n",
      "\"Esperamos una significativa reducción de nuestros costes financieros y de los gastos de gestión, y confiamos en que la recuperación del mercado acompañe nuestra actividad\", expone, para después anticipar que estas vías reducirán \"significativamente\" las pérdidas de la sociedad, que elevó sus números rojos un 8% en 2019, hasta los 947 millones.\n",
      "\u001b[34mText\u001b[0m\n",
      "García del Río rechaza una rebaja de precios por el Covid y prevé ahorros de 300 millones tras renegociar con los 'servicers'. Sareb no descarta dar beneficios en alguno de los siete años de vida que le quedan por la reducción de costes financieros y, sobre todo, por el ahorro motivado por un cambio estratégico en su relación con los servicers, explica el director general de la sociedad, Javier García del Río (Córdoba, 1977), cuyo nombramiento como consejero delegado se aprobará en la junta que la compañía celebrará el próximo otoño.  García del Río personifica el viraje de Sareb para convertirse en una inmobiliaria. Tomó las riendas del negocio diario de la sociedad un mes antes de la pandemia. Procede de Solvia, uno de los servicers a los que Sareb asignó la gestión de su cartera. \"Esperamos una significativa reducción de nuestros costes financieros y de los gastos de gestión, y confiamos en que la recuperación del mercado acompañe nuestra actividad\", expone, para después anticipar que estas vías reducirán \"significativamente\" las pérdidas de la sociedad, que elevó sus números rojos un 8% en 2019, hasta los 947 millones.  La mayor dificultad de gestión en Sareb son sus elevados costes fijos, que superan los 600 millones. Sareb quiere ahorrarse 300 millones hasta 2027 tras renegociar con los servicers con los que trabaja.  García del Río tiene el reto de buscar nuevas fórmulas para deshacerse de más de 100.000 activos inmobiliarios, la misma cantidad que ha vendido la sociedad desde que se creó en 2012.  ¿Más plazo? \"Sareb tiene fecha de terminación en 2027 y tenemos un plan de negocio que nos permite con cierto apoyo puntual de venta institucional llegar a ese final\", señala el directivo, que admite que el tiempo es una variable que juega a favor del conocido como banco malo. \"Nos tenemos que manejar con 2027, pero es cierto que cualquier extensión sería positiva para la sociedad\", asegura.  El Estado, a través del Frob, inyectó más de 2.000 millones en Sareb. El Frob, dueño del 45,9% de Sareb, da por perdidas estas ayudas, pero García del Río cree que hay tiempo y vincula la recuperación de las ayudas a la evolución del mercado inmobiliario. \"Sareb hizo un cambio de plan de negocio hace dos años reforzando la gestión inmobiliaria. Se trata de compensar con la gestión un precio caro de compra de los activos\", defiende. Sareb, además, mantiene los planes para su promotora pese al Covid y no contempla bajar los precios. \"El Covid solo aporta una dosis adicional de prudencia en algunas decisiones pero sin cambios en la hoja de ruta\", explica.  Sareb lanzó hace un año Árqura Homes con el propósito de invertir hasta el año 2027 2.238 millones en la promoción de 17.095 viviendas. \"Lo que hacemos es internalizar el margen promotor en Sareb, con una cesión del 10% al minoritario\", apunta. Sólo en 2020 el banco malo prevé entregar 651 viviendas, de las cuales 403 procederán de Árqura. La promotora, que se instrumentó a través de un Fondo de Activos Bancarios (FAB), está participada en un 10% por el fondo Värde Partners y gestionado por Aelca.  Asegura que vender una parte del FAB no es una opción en este momento y que el plan pasa por un desarrollo industrial de la cartera de suelo, lanzar promociones y venderlas la cliente final. Aunque apostilla: \"Siempre escuchamos al mercado\". \"Si nos dan una alternativa mejor financieramente, y que no se había considerado antes, lo consultaremos con el minoritario y nos lo pensaremos\", matiza.  García del Río niega que la sociedad sea un \"liquidador agresivo\" y asegura que no bajarán sustancialmente los precios. En cuanto a la relación con los servicers indica que mantendrán los contratos firmados en el 'modelo Íbero' hasta 2022, cuando vencen, mientras avanza en el 'proyecto Esparta' para \"aportar más valor\". \"Algo de concentración es conveniente, será muy difícil trabajar con un único servicer\", anticipa. Ante la posible creación de un banco malo europeo, cree que sería bueno con una gestión especializada para maximizar el valor de los activos.   El todavía director general de Sareb explorará durante su mandato oportunidades para crecer en el mercado de residencial en alquiler ante el interés de los fondos. En cuanto al desarrollo de proyectos build to rent (promoción para alquiler), el directivo reconoce que la compañía cuenta con muchos suelos -fuera de Árqura- con posibilidad de desarrollo y el residencial en renta implica una fuente de demanda adicional que puede ser interesante.  En este sentido, García del Río asegura que \"tanto inversores como asesores\" se han aproximado a Sareb con alguna propuesta. \"No nos podemos mover por modas pero si una operación build to rent mejora nuestros números, la consideraremos\". \n",
      "\u001b[34mTags\u001b[0m\n",
      "[]\n"
     ]
    },
    {
     "data": {
      "text/html": [
       "<img src=\"https://e00-expansion.uecdn.es/assets/multimedia/imagenes/2020/07/12/15945762938658.jpg\" width=\"500\"/>"
      ],
      "text/plain": [
       "<IPython.core.display.Image object>"
      ]
     },
     "metadata": {},
     "output_type": "display_data"
    },
    {
     "data": {
      "text/markdown": [
       "<a href=\"https://www.expansion.com/empresas/banca/2020/07/13/5f0b4e2de5fdea932c8b4603.html\">Link</a>"
      ],
      "text/plain": [
       "<IPython.core.display.Markdown object>"
      ]
     },
     "metadata": {},
     "output_type": "display_data"
    },
    {
     "name": "stdout",
     "output_type": "stream",
     "text": [
      "\n",
      "\n",
      "\u001b[1m\u001b[32mEXPANSION\u001b[0m\n",
      "\u001b[1m\u001b[30mSun, 12 Jul 2020 23:41:38 +0200\u001b[0m\n",
      "\u001b[1m\u001b[35m¿Quién controla a la gestora de mi plan de pensiones?\u001b[0m\n",
      "\u001b[34mHeadline\u001b[0m\n",
      "Media docena de entidades depositarias velan por que se apliquen buenas prácticas en la gestión de los 106.000 millones colocados en fondos de pensiones en España.\n",
      "\u001b[34mSummarise\u001b[0m\n",
      "\u001b[31mPremium Content\u001b[0m\n",
      "\u001b[34mText\u001b[0m\n",
      "Media docena de entidades depositarias velan por que se apliquen buenas prácticas en la gestión de los 106.000 millones colocados en fondos de pensiones en España. ¿Quién vigila que un fondo de pensiones cumpla el itinerario establecido de inversiones, que se ajuste a la normativa del sector y que no hace operaciones en beneficio propio y en detrimento de los partícipes?\n",
      "Son las entidades depositarias las encar Para seguir leyendo, hágase Premium ¿Ya es Premium? Inicie sesión Mensual primer mes después 14,99€   Anual primer mes después 7,50€/mes (Pago único de 90€)\n",
      " 4 meses gratis  Descubra qué es Premium   Cancele cuando quiera    Consulte los términos y condiciones del servicio  \n",
      "\u001b[34mTags\u001b[0m\n",
      "[]\n"
     ]
    },
    {
     "data": {
      "text/html": [
       "<img src=\"https://e00-expansion.uecdn.es/assets/multimedia/imagenes/2020/07/12/15945723032572.jpg\" width=\"500\"/>"
      ],
      "text/plain": [
       "<IPython.core.display.Image object>"
      ]
     },
     "metadata": {},
     "output_type": "display_data"
    },
    {
     "data": {
      "text/markdown": [
       "<a href=\"https://www.expansion.com/empresas/banca/2020/07/12/5f089a7ee5fdea12498b45f9.html\">Link</a>"
      ],
      "text/plain": [
       "<IPython.core.display.Markdown object>"
      ]
     },
     "metadata": {},
     "output_type": "display_data"
    },
    {
     "name": "stdout",
     "output_type": "stream",
     "text": [
      "\n",
      "\n",
      "\u001b[1m\u001b[32mEXPANSION\u001b[0m\n",
      "\u001b[1m\u001b[30mSat, 11 Jul 2020 18:11:02 +0200\u001b[0m\n",
      "\u001b[1m\u001b[35mSantander, el 'demasiado grande para caer' más justo de Europa\u001b[0m\n",
      "\u001b[34mHeadline\u001b[0m\n",
      "La entidad supera holgadamente las exigencias, pero sus rivales están por delante. Su colchón sistémico es del 19%, frente a la media del 25,7%.\n",
      "\u001b[34mSummarise\u001b[0m\n",
      "\u001b[31mPremium Content\u001b[0m\n",
      "\u001b[34mText\u001b[0m\n",
      "La entidad supera holgadamente las exigencias, pero sus rivales están por delante. Su colchón sistémico es del 19%, frente a la media del 25,7%. Santander cumple con creces las exigencias de los reguladores. Incluso con varios años de antelación. El único banco español que está en la lista de las 30 entidades del mundo que tienen la etiqueta de demasiado grandes para caer ha amasado un colchó Para seguir leyendo, hágase Premium ¿Ya es Premium? Inicie sesión Mensual primer mes después 14,99€   Anual primer mes después 7,50€/mes (Pago único de 90€)\n",
      " 4 meses gratis  Descubra qué es Premium   Cancele cuando quiera    Consulte los términos y condiciones del servicio  \n",
      "\u001b[34mTags\u001b[0m\n",
      "['Santander']\n"
     ]
    },
    {
     "data": {
      "text/html": [
       "<img src=\"https://e00-expansion.uecdn.es/assets/multimedia/imagenes/2020/07/10/15943927864618.jpg\" width=\"500\"/>"
      ],
      "text/plain": [
       "<IPython.core.display.Image object>"
      ]
     },
     "metadata": {},
     "output_type": "display_data"
    },
    {
     "data": {
      "text/markdown": [
       "<a href=\"https://www.expansion.com/empresas/banca/2020/07/10/5f087f12e5fdea99438b4582.html\">Link</a>"
      ],
      "text/plain": [
       "<IPython.core.display.Markdown object>"
      ]
     },
     "metadata": {},
     "output_type": "display_data"
    },
    {
     "name": "stdout",
     "output_type": "stream",
     "text": [
      "\n",
      "\n",
      "\u001b[1m\u001b[32mEXPANSION\u001b[0m\n",
      "\u001b[1m\u001b[30mSat, 11 Jul 2020 18:09:22 +0200\u001b[0m\n",
      "\u001b[1m\u001b[35mSabadell e Ibercaja lideran el ránking de los peores CoCos de la banca europea\u001b[0m\n",
      "\u001b[34mHeadline\u001b[0m\n",
      "La pandemia ha dejado un mercado más caro y más selectivo. BBVA y Bankinter apuestan por la seguridad a cambio de pagar más en sus emisiones.\n",
      "\u001b[34mSummarise\u001b[0m\n",
      "Santander, BBVA, CaixaBank o Bankinter han vuelto a ver los beneficios en alguno de sus CoCos y, aunque la mayoría siguen por debajo del nominal del 100% al que fueron vendidos, todos están por encima del 90%.\n",
      "\"Hay cierto temor entre los emisores al impacto que puedan tener los datos macroeconómicos del segundo trimestre cuando se divulguen, a qué pasará en el tercer trimestre y a si eso puede determinar el coste de financiación, así que algunos bancos han adelantado las emisiones\", explica Carlos Cortezo, responsable de Mercado de Capitales para Instituciones Financieras de Société Générale.\n",
      "\u001b[34mText\u001b[0m\n",
      "La pandemia ha dejado un mercado más caro y más selectivo. BBVA y Bankinter apuestan por la seguridad a cambio de pagar más en sus emisiones. El mercado de CoCos ha vuelto a la vida. La deuda con más riesgo de la banca ha pasado su particular cuarentena y está de regreso después de convertirse en la diana de las ventas de los inversores y en el activo a evitar por excelencia durante lo peor de la crisis sanitaria. Pero no todos los bancos están fuera de la zona roja ni la situación es igual a lo que fue. Sabadell, Ibercaja, BBVA y Bankinter dan prueba de ello. El banco catalán y la antigua caja aragonesa están en el grupo de los que siguen arrastrando el estigma y sus CoCos mantienen el cartel de 'no tocar' con las letras del mayor tamaño entre la banca europea. Sabadell es el titular de las dos emisiones de CoCos en euros con peor evolución entre todas las entidades del Viejo Continente, según los datos de Bloomberg. Los 400 millones de euros que vendió en noviembre de 2017 con un cupón del 6,125% están a la cabeza del ránking al cotizar a un precio del 84% de su valor nominal. Los 750 millones colocados en mayo de ese mismo año al 6,5% van detrás. Por cada 100 euros que pagaron los inversores por entrar en la colocación, el mercado da ahora poco más de 86 euros. El tercer CoCo en euros con peor registro es del belga Belfius Bank, pero el cuarto vuelve a ser español. Ibercaja es su dueño y está al 89% del valor al que fue vendido en 2018. A partir de ahí, la lista está copada por nombres como los de Aareal Bank, Deutsche Bank o UniCredit, con colocaciones que igualmente han sido castigadas por la crisis sanitaria. Santander, CaixaBank, Abanca o Bankia también tienen CoCos que destacan en la clasificación de las emisiones con peor evolución de Europa, pero están lejos de la cabeza. Eso no quiere decir que la deuda con más riesgo de Sabadell e Ibercaja no haya mejorado. El banco catalán llegó a tener sus CoCos al 68% de su valor nominal y los del aragonés descendieron por debajo del 80%. La recuperación ha sido intensa en ambos casos, pero menos que en otros bancos y con freno en un territorio que todavía está lejos de los números negros. Brotes verdes El resto de los bancos españoles sigue lejos de los niveles anteriores a la tempestad desatada por el Covid-19, pero varios de ellos tienen ya alguna emisión en positivo, a años luz de los mínimos que tocaron durante lo más duro de la pandemia. Santander, BBVA, CaixaBank o Bankinter han vuelto a ver los beneficios en alguno de sus CoCos y, aunque la mayoría siguen por debajo del nominal del 100% al que fueron vendidos, todos están por encima del 90%. Esta recuperación es la que ha hecho los bancos hayan comenzado a salir en tromba de nuevo al mercado para rellenar sus colchones de CoCos y refinanciar las emisiones que están cerca de vencer. Han sido diez las entidades europeas que se han lanzado al agua desde que los inversores decretaron la reapertura y dos de las operaciones más recientes son españolas. Todos los bancos han tenido el mismo recibimiento. El mercado está abierto, pero los costes no son los que eran. Por mucho que las primas de riesgo se hayan reducido desde las alturas, la factura es muy distinta a la que se pagaba en enero y febrero de este mismo año, y no para bien. \"De poder colocar CoCos con cupones del 4% y el 5% a principios de año, los costes escalaron hasta el 15% durante lo peor del Covid y ahora la media está entre el 6% y el 7%\", resume un directivo de un banco de inversión. \"Los inversores tienen dudas sobre el impacto que tendrá la crisis en el impago de créditos y en la morosidad. La deuda bancaria sigue teniendo una prima sobre la corporativa y los CoCos son los instrumentos en los que se asume más riesgo, así que son los que más están tardando en volver a los niveles precrisis y en los que se aprecia más la selección entre unas entidades y otras\", añade. BBVA y Bankinter han experimentado este cambio. Son los dos bancos españoles que han emitido CoCos cuando se ha reabierto el mercado y han tenido que pagar más de lo que les hubiera tocado en el arranque de año, según aseguran fuentes financieras. Ahorro sustancial En ambos casos, el coste extra les compensa con creces. BBVA ha desembolsado un cupón del 6% por 1.000 millones de euros que servirán para prefinanciar el vencimiento en abril de 2021 de una emisión que le cuesta el 8,875%, así que el ahorro es contundente. Bankinter ha hecho el mismo movimiento. También tiene una colocación que madura el mismo mes de 2021 por la que está pagando el 8,825%. La vendida ahora al 6,25% supone una rebaja sustancial. Ninguno de ellos ha querido esperar a ver si el mercado seguía mejorando para los CoCos, a pesar de que tendrán que desembolsar cupones por partida doble hasta que lleguen los vencimientos de 2021. La situación así lo ha aconsejado. Los inversores son propicios ahora y el futuro está plagado de incertidumbres. \"Hay cierto temor entre los emisores al impacto que puedan tener los datos macroeconómicos del segundo trimestre cuando se divulguen, a qué pasará en el tercer trimestre y a si eso puede determinar el coste de financiación, así que algunos bancos han adelantado las emisiones\", explica Carlos Cortezo, responsable de Mercado de Capitales para Instituciones Financieras de Société Générale.  Los expertos del banco francés creen que habrá un momento clave para determinar la velocidad de recuperación de las economías. Será entre finales de octubre y principios de noviembre, cuando las empresas publicarán sus resultados del tercer trimestre. \"Será entonces cuando el mercado reaccione en un sentido u en otro, dependiendo de lo que digan esos datos\", anticipa Fernando García, director de Mercados de Capitales de la entidad. A eso se unirá la incertidumbre por las elecciones en Estados Unidos, el devenir del Brexit y los episodios de la guerra comercial, que son potenciales focos de volatilidad. De ahí que los bancos estén aprovechando ahora a pesar del mayor coste. \n",
      "\u001b[34mTags\u001b[0m\n",
      "['Santander', 'BBVA', 'Bankinter', 'Bankia', 'Sabadell', 'Abanca', 'Deutsche Bank', 'CaixaBank']\n"
     ]
    },
    {
     "data": {
      "text/html": [
       "<img src=\"https://e00-expansion.uecdn.es/assets/multimedia/imagenes/2020/07/10/15943915719395.jpg\" width=\"500\"/>"
      ],
      "text/plain": [
       "<IPython.core.display.Image object>"
      ]
     },
     "metadata": {},
     "output_type": "display_data"
    },
    {
     "data": {
      "text/markdown": [
       "<a href=\"https://www.expansion.com/empresas/banca/2020/07/11/5f087b48e5fdeaff548b45ac.html\">Link</a>"
      ],
      "text/plain": [
       "<IPython.core.display.Markdown object>"
      ]
     },
     "metadata": {},
     "output_type": "display_data"
    },
    {
     "name": "stdout",
     "output_type": "stream",
     "text": [
      "\n",
      "\n",
      "\u001b[1m\u001b[32mEXPANSION\u001b[0m\n",
      "\u001b[1m\u001b[30mSat, 11 Jul 2020 18:09:01 +0200\u001b[0m\n",
      "\u001b[1m\u001b[35mEuro Automatic Cash negocia para consolidar redes de cajeros en España\u001b[0m\n",
      "\u001b[34mHeadline\u001b[0m\n",
      "La compañía participada por Santander inicia conversaciones con el sector. La crisis del Covid-19 obligará a reducir aún más los costes de la banca.\n",
      "\u001b[34mSummarise\u001b[0m\n",
      "Para las entidades, el traspaso de su red a EAC supondría una doble ventaja, según destaca la compañía: por un lado, mejoran su cuenta de resultados en el corto plazo con unos ingresos extraordinarios por la venta de sus cajeros; por otro, reducen su base de costes fijos al externalizar una parte de su negocio en la que no son tan eficientes como los grandes del sector debido a sus menores economías de escala.\n",
      "Además de contar con una red propia de 2.500 terminales multibanco (procedentes de cajeros desplazados fuera de las oficinas de Santander y Popular) repartidos por toda España, una de las vías de negocio de EAC es la adquisición de redes de otras entidades que optan por externalizar este servicio.\n",
      "\u001b[34mText\u001b[0m\n",
      "La compañía participada por Santander inicia conversaciones con el sector. La crisis del Covid-19 obligará a reducir aún más los costes de la banca. Una red multibancaria con miles de cajeros que den servicio a clientes de distintas entidades. Este es el modelo de negocio de Euro Automatic Cash (EAC), participada a partes iguales por Santander (procedente de Banco Popular) y Credit Mutuel. La compañía ha iniciado conversaciones dentro del sector bancario español para impulsar un proceso de consolidación de las redes de terminales automáticos y ser la principal entidad de servicio de cajeros en España, según explican fuentes de la empresa. La crisis provocada por la pandemia de coronavirus actuará como el detonante de una ronda de consolidación de redes de cajeros dentro de la banca española, en especial en los competidores de menor tamaño, anticipa José Rincón, director general de EAC. \"Estamos aumentando las conversaciones con entidades en los últimos meses y crece el interés por las posibles ventas de redes\", explica. \"Las cuentas de resultados del sector se van a ver presionadas por la crisis y se están buscando mayores sinergias y eficiencias\", añade Rincón, que reconoce que la compañía está manteniendo conversaciones con la práctica totalidad del sector sobre este aspecto y que espera poder anunciar el cierre de nuevos acuerdos en el corto plazo. Para las entidades, el traspaso de su red a EAC supondría una doble ventaja, según destaca la compañía: por un lado, mejoran su cuenta de resultados en el corto plazo con unos ingresos extraordinarios por la venta de sus cajeros; por otro, reducen su base de costes fijos al externalizar una parte de su negocio en la que no son tan eficientes como los grandes del sector debido a sus menores economías de escala. \"Las flotas de menos de 500 cajeros son inviables\", asegura Rincón, que reconoce que es con estas entidades con las que están teniendo contactos más avanzados. Además de contar con una red propia de 2.500 terminales multibanco (procedentes de cajeros desplazados fuera de las oficinas de Santander y Popular) repartidos por toda España, una de las vías de negocio de EAC es la adquisición de redes de otras entidades que optan por externalizar este servicio. Más eficientes \"Somos más eficientes que los bancos y las cajas por nuestras economías de escala. Cuanta mayor es tu flota tienes una mayor capacidad de obtener precios ventajosos\", recalca el consejero delegado de EAC, que indica que son capaces de proporcionar el mismo servicio que los bancos tradicionales a un tercio del coste. Estos ahorros permiten a la compañía ofrecer al sector sus servicios de red de terminales haciendo que éstos bajen sus bases de gastos fijos. \"¿Tiene sentido que haya tres cajeros de tres entidades en una calle, cuando podría haber uno único multibancario?\", se pregunta. La creación de una única gran red de cajeros automáticos no solo pasa por las entidades de menor tamaño. EAC está también en conversaciones para explorar un acuerdo para obtener la gestión de los terminales desplazados de algunos grandes bancos. Es decir, aquellos que no están integrados en una oficina, sino en otro tipo de localización. Los cajeros desplazados suelen estar situados en ubicaciones donde el tránsito de personas es elevado. Por eso, EAC tiene como arrendadores a algunos gestores de infraestructuras como Metro de Madrid o Adif, entre otros. \"Proporcionamos un servicio público y neutral\", reivindica Rincón, quien apunta que la compañía también está jugando un papel contra la exclusión financiera en España, al colaborar con distintos organismos públicos en la instalación de terminales en localidades donde no existe otra alternativa. El modelo de redes de cajeros consolidadas que está promoviendo EAC ya funciona desde hace años en otros países, como señala Ramiro Sánchez-Crespo, socio director de la consultora financiera The Retail Bankers, especializada en el negocio bancario minorista. \"La banca de países como Suecia, Países Bajos o Bélgica ha optado por la vía de la cooperación, constituyendo plataformas de cajeros multibancarios\", asegura. \n",
      "\u001b[34mTags\u001b[0m\n",
      "['Santander']\n"
     ]
    },
    {
     "data": {
      "text/html": [
       "<img src=\"https://e00-expansion.uecdn.es/assets/multimedia/imagenes/2020/07/11/15944836991847.jpg\" width=\"500\"/>"
      ],
      "text/plain": [
       "<IPython.core.display.Image object>"
      ]
     },
     "metadata": {},
     "output_type": "display_data"
    },
    {
     "data": {
      "text/markdown": [
       "<a href=\"https://www.expansion.com/empresas/banca/2020/07/11/5f09e410468aeb381c8b45b3.html\">Link</a>"
      ],
      "text/plain": [
       "<IPython.core.display.Markdown object>"
      ]
     },
     "metadata": {},
     "output_type": "display_data"
    },
    {
     "name": "stdout",
     "output_type": "stream",
     "text": [
      "\n",
      "\n",
      "\u001b[1m\u001b[32mEXPANSION\u001b[0m\n",
      "\u001b[1m\u001b[30mSat, 11 Jul 2020 18:01:19 +0200\u001b[0m\n",
      "\u001b[1m\u001b[35mLa banca respira: la efervescencia de las empresas en el mercado de bonos refuerza su solvencia\u001b[0m\n",
      "\u001b[34mHeadline\u001b[0m\n",
      "Las emisiones permiten a las compañías reducir su dependencia bancaria. Barclays destaca el impacto positivo en capital de las alternativas a las líneas de liquidez.\n",
      "\u001b[34mSummarise\u001b[0m\n",
      "Ya no son el único bastión donde una compañía puede encontrar liquidez y eso despeja el camino hacia la liberación de parte del capital que han comprometido en su respuesta de apoyo al sector corporativo durante la pandemia, según aseguran fuentes financieras.\n",
      "«Los fondos que las empresas están recaudando a través del mercado primario podrían ayudar a reducir la necesidad de usar líneas de crédito», aseguran los analistas de Barclays en un informe sobre la banca de inversión europea.\n",
      "\u001b[34mText\u001b[0m\n",
      "Las emisiones permiten a las compañías reducir su dependencia bancaria. Barclays destaca el impacto positivo en capital de las alternativas a las líneas de liquidez. La banca respira aliviada. La apelación masiva de las empresas al mercado de bonos en España y en toda Europa tiene una repercusión directa para su solvencia. Ya no son el único bastión donde una compañía puede encontrar liquidez y eso despeja el camino hacia la liberación de parte del capital que han comprometido en su respuesta de apoyo al sector corporativo durante la pandemia, según aseguran fuentes financieras. Los bancos se convirtieron en el centro de todas las miradas nada más estallar la crisis del Covid-19. Y también en el destino de todas las llamadas. Las empresas acudieron en tromba a las puertas de las entidades financieras a pedir liquidez en cantidades multimillonarias con el objetivo de reforzarse para afrontar el escenario incierto desatado por la pandemia. La respuesta de los bancos fue tan masiva como las peticiones de ayuda recibidas. Las entidades firmaron préstamos y, sobre todo, líneas de crédito para que el sector corporativo tuviera las espaldas cubiertas. Entre las grandes compañías, Aena, ACS, Red Eléctrica, Grifols o Endesa fueron las que más dispararon su liquidez gracias a este apoyo, pero el movimiento no fue solo español. Europa y el mundo al completo dieron el mismo paso al unísono. Para los bancos fue una cuestión de formar parte de la solución a la crisis y de demostrar su apoyo en los momentos duros, según fuentes de las entidades. Pero no les salió gratis, sobre todo cuando compañías de todo el globo comenzaron a disponer de líneas de crédito inicialmente concebidas para estar en la retaguardia como colchón de protección, pero no para ser usadas de forma efectiva. En un caso, el consumo de capital que se les exige para compensar el riesgo es mínimo; en el otro, es mucho más sustancial. Justo en el momento de mayor tensión ante la perspectiva de una crisis solo semejante a las vividas en periodos bélicos, la banca tuvo que hacer frente con su capital a esas disposiciones. Ahora llega el alivio. Si las compañías pueden hacer uso del mercado de deuda para cubrir sus necesidades de liquidez, la presión sobre la banca se relaja. «Los fondos que las empresas están recaudando a través del mercado primario podrían ayudar a reducir la necesidad de usar líneas de crédito», aseguran los analistas de Barclays en un informe sobre la banca de inversión europea. «Esto puede conducir a una utilización más limitada del balance que beneficia las posiciones de capital de los bancos», añaden. Menos necesidades A eso se une que hay compañías en España que han comenzado a devolver las líneas de crédito pedidas o a reducir sus importes ante un escenario en el que las necesidades son menores de lo que preveían, según afirman fuentes de varios bancos. Otras empresas irán directamente al mercado sin pasar por el sector financiero. Esta tendencia no solo tiene un impacto en capital, sino también en riesgo. Cuanto menos dinero tengan comprometido los bancos en momentos de turbulencias, menores son las probabilidades de que sean impagados. Eso sí, las empresas que están acudiendo al mercado de bonos son las que menos papeletas tienen para entrar en el capítulo de las quiebras o las moratorias. Los inversores de renta fija están recibiendo con los brazos abiertos el papel de las firmas más solventes y no tanto el de las que tienen más riesgo. En España, las compañías no financieras han emitido más de 12.500 millones de euros desde que se desató la pandemia, pero el movimiento ha sido abanderado por Repsol, Iberdrola, Telefónica o Naturgy. Todas las firmas que han salido al mercado tienen el grado de inversión y solo Cellnex está a caballo con el high yield, ya que tiene un ráting en cada lado de la frontera. La situación es igual en Europa. Las empresas con grado de inversión han emitido cerca de 170.000 millones en la moneda única entre abril y mayo, y en cada uno de esos meses el volumen ha sido superior al del mismo periodo del año anterior (en abril fue más del doble), según los datos recogidos por Barclays. La foto del high yield no puede ser más diferente. En marzo no hubo ninguna emisión en euros en esa categoría y las cifras de abril y mayo se quedan en unos 4.500 millones, muy por debajo de 2019. Las malas noticias para la banca pueden proceder de las compañías que no tienen abierto el mercado o para las que todavía es muy caro apelar a él. Y también por las rebajas de ráting de las empresas a las que han concedido préstamos. «Es posible que veamos algo de impacto negativo en los resultados del segundo trimestre derivado de la migración de los rátings como resultado de las rebajas por parte de las agencias», concluye Barclays. \n",
      "\u001b[34mTags\u001b[0m\n",
      "[]\n"
     ]
    },
    {
     "data": {
      "text/html": [
       "<img src=\"https://e00-expansion.uecdn.es/assets/multimedia/imagenes/2020/07/10/15943939534461.jpg\" width=\"500\"/>"
      ],
      "text/plain": [
       "<IPython.core.display.Image object>"
      ]
     },
     "metadata": {},
     "output_type": "display_data"
    },
    {
     "data": {
      "text/markdown": [
       "<a href=\"https://www.expansion.com/empresas/banca/2020/07/11/5f08857fe5fdea12498b45ef.html\">Link</a>"
      ],
      "text/plain": [
       "<IPython.core.display.Markdown object>"
      ]
     },
     "metadata": {},
     "output_type": "display_data"
    },
    {
     "name": "stdout",
     "output_type": "stream",
     "text": [
      "\n",
      "\n"
     ]
    }
   ],
   "source": [
    "yesterday = datetime.datetime.today() - datetime.timedelta(days=1)\n",
    "before_yes = datetime.datetime.today() - datetime.timedelta(days=2)\n",
    "\n",
    "for i in list(expansion.keys()):\n",
    "    if expansion[i]['date']['date2'][2] in [datetime.datetime.today().day,yesterday.day,before_yes.day]:\n",
    "        print(colored((expansion[i]['newspaper']).upper(),'green',attrs=['bold']))\n",
    "        print(colored(expansion[i]['date']['date1'],'grey',attrs=['bold']))\n",
    "        print(colored(expansion[i]['title'],'magenta',attrs=['bold']))\n",
    "        print(colored('Headline','blue'))\n",
    "        print(expansion[i]['headline'])\n",
    "        print(colored('Summarise','blue'))\n",
    "        \n",
    "        if expansion[i]['summarise'] != 'Premium Content':\n",
    "            print(expansion[i]['summarise'])\n",
    "        else:\n",
    "            print(colored(expansion[i]['summarise'],'red'))\n",
    "        print(colored('Text','blue'))\n",
    "        print(expansion[i]['text'])\n",
    "        print(colored('Tags','blue'))\n",
    "        print(expansion[i]['tag'])\n",
    "        url = expansion[i]['img']\n",
    "        display(Image(url=url,width=500))\n",
    "        display(Markdown('<a href=\"'+expansion[i]['link']+'\">Link</a>'))\n",
    "        print('\\n')"
   ]
  },
  {
   "cell_type": "code",
   "execution_count": null,
   "metadata": {},
   "outputs": [],
   "source": []
  }
 ],
 "metadata": {
  "kernelspec": {
   "display_name": "Python 3",
   "language": "python",
   "name": "python3"
  },
  "language_info": {
   "codemirror_mode": {
    "name": "ipython",
    "version": 3
   },
   "file_extension": ".py",
   "mimetype": "text/x-python",
   "name": "python",
   "nbconvert_exporter": "python",
   "pygments_lexer": "ipython3",
   "version": "3.7.1"
  }
 },
 "nbformat": 4,
 "nbformat_minor": 4
}
