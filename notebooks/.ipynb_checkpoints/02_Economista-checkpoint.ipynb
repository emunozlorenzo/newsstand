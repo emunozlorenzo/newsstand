{
 "cells": [
  {
   "cell_type": "markdown",
   "metadata": {},
   "source": [
    "# RSS: Expansión"
   ]
  },
  {
   "cell_type": "markdown",
   "metadata": {},
   "source": [
    "## 1. Import Libraries"
   ]
  },
  {
   "cell_type": "code",
   "execution_count": 2,
   "metadata": {},
   "outputs": [],
   "source": [
    "import feedparser\n",
    "from gensim.summarization.summarizer import summarize\n",
    "from gensim.summarization import keywords\n",
    "import urllib.request\n",
    "from urllib.request import urlopen\n",
    "from bs4 import BeautifulSoup\n",
    "import requests\n",
    "import googletrans\n",
    "import datetime\n",
    "from termcolor import colored\n",
    "from IPython.display import display, Markdown, Latex, HTML\n",
    "import re\n",
    "from IPython.display import Image"
   ]
  },
  {
   "cell_type": "code",
   "execution_count": 3,
   "metadata": {},
   "outputs": [],
   "source": [
    "def get_only_text(url):\n",
    "    \n",
    "    \"\"\"\n",
    "    return the title and the text of the article at the \n",
    "    specified url\n",
    "    \"\"\"\n",
    "    \n",
    "    page=urlopen(url)\n",
    "    soup=BeautifulSoup(page,\"html.parser\")\n",
    "    text=' '.join(map(lambda p: p.text, soup.find_all('p')))\n",
    "    # Eliminar Última Hora\n",
    "    rest = soup.find_all('p', attrs={'class' : \"line-clamp_x2 ue-c-widget__article-headline\"})[0].text\n",
    "    index = text.find(rest)\n",
    "    final_text = text[:index]\n",
    "    return [final_text,soup.title.text]\n",
    "\n",
    "def find_between( s, first, last ):\n",
    "    try:\n",
    "        start = s.index( first ) + len( first )\n",
    "        end = s.index( last, start )\n",
    "        return s[start:end]\n",
    "    except ValueError:\n",
    "        return \"\""
   ]
  },
  {
   "cell_type": "code",
   "execution_count": 20,
   "metadata": {},
   "outputs": [
    {
     "data": {
      "text/plain": [
       "{'title': 'El mercado del plástico reciclado duplicará su valor hasta el año 2027',\n",
       " 'title_detail': {'type': 'text/plain',\n",
       "  'language': None,\n",
       "  'base': 'https://www.eleconomista.es/rss/rss-empresas.php',\n",
       "  'value': 'El mercado del plástico reciclado duplicará su valor hasta el año 2027'},\n",
       " 'links': [{'rel': 'alternate',\n",
       "   'type': 'text/html',\n",
       "   'href': 'http://www.eleconomista.es/empresas-finanzas/noticias/10652734/07/20/El-mercado-del-plastico-reciclado-duplicara-su-valor-hasta-el-ano-2027.html'}],\n",
       " 'link': 'http://www.eleconomista.es/empresas-finanzas/noticias/10652734/07/20/El-mercado-del-plastico-reciclado-duplicara-su-valor-hasta-el-ano-2027.html',\n",
       " 'summary': 'Las empresas apuestan por potenciar el mercado del plástico reciclado, cuyo valor crecerá a un ritmo del 6,8% anual, desde los 30.000 millones de euros registrados en 2019 a los 53.000 millones previstos para 2027, según el informe La ambición empresarial para avanzar hacia la nueva economía de plásticos, presentado este martes por Forética.',\n",
       " 'summary_detail': {'type': 'text/html',\n",
       "  'language': None,\n",
       "  'base': 'https://www.eleconomista.es/rss/rss-empresas.php',\n",
       "  'value': 'Las empresas apuestan por potenciar el mercado del plástico reciclado, cuyo valor crecerá a un ritmo del 6,8% anual, desde los 30.000 millones de euros registrados en 2019 a los 53.000 millones previstos para 2027, según el informe La ambición empresarial para avanzar hacia la nueva economía de plásticos, presentado este martes por Forética.'},\n",
       " 'published': 'Tue, 07 Jul 2020 19:30:52 +0200',\n",
       " 'published_parsed': time.struct_time(tm_year=2020, tm_mon=7, tm_mday=7, tm_hour=17, tm_min=30, tm_sec=52, tm_wday=1, tm_yday=189, tm_isdst=0),\n",
       " 'id': 'http://www.eleconomista.es/empresas-finanzas/noticias/10652734/07/20/El-mercado-del-plastico-reciclado-duplicara-su-valor-hasta-el-ano-2027.html',\n",
       " 'guidislink': False}"
      ]
     },
     "execution_count": 20,
     "metadata": {},
     "output_type": "execute_result"
    }
   ],
   "source": [
    "economista_entries[0]"
   ]
  },
  {
   "cell_type": "code",
   "execution_count": 24,
   "metadata": {},
   "outputs": [],
   "source": [
    "def economista_news(economista_entries,word_count=100):\n",
    "    economista = {}\n",
    "    for i in range(len(economista_entries)):\n",
    "        noticia = {'newspaper':None,'title':None,'headline':None,'summarise':None,'date':None,'link':None,'text':None,'current_date':None,'img':None,'premium':None}\n",
    "        # Periodico\n",
    "        noticia['newspaper'] = find_between(s=economista_entries[i]['id'], first='www.el', last='.' )\n",
    "        # Title\n",
    "        noticia['title'] = economista_entries[i]['title']\n",
    "        # Headline\n",
    "        noticia['headline'] = economista_entries[i]['summary']\n",
    "        # Date\n",
    "        noticia['date'] = {'date1':economista_entries[i]['published'],'date2':economista_entries[i]['published_parsed']}\n",
    "        \n",
    "        economista.update({'Noticia'+'_'+str(\"%02d\")%(i+1):noticia})\n",
    "    return economista"
   ]
  },
  {
   "cell_type": "code",
   "execution_count": 8,
   "metadata": {},
   "outputs": [],
   "source": [
    "        # Periodico\n",
    "        noticia['newspaper'] = find_between(s=economista_entries[i]['id'], first='www.', last='.' )\n",
    "        # Title\n",
    "        noticia['title'] = economista_entries[i]['title']\n",
    "        # Headline\n",
    "        index = economista_entries[i]['summary_detail']['value'].find('&nbsp')\n",
    "        if index != -1:\n",
    "            noticia['headline'] = economista_entries[i]['summary_detail']['value'][:index]\n",
    "        else:\n",
    "            noticia['headline'] = re.sub(pattern='&quot;',repl='\"',string=economista_entries[i]['summary_detail']['value'])\n",
    "        # Date\n",
    "        noticia['date'] = {'date1':economista_entries[i]['published'],'date2':economista_entries[i]['published_parsed']}\n",
    "        # Link\n",
    "        noticia['link'] = economista_entries[i]['id']\n",
    "        # Text\n",
    "        text = get_only_text(economista_entries[i]['id'])[0]\n",
    "        noticia['text'] = text\n",
    "        # Summarise\n",
    "        if text.find('Para seguir leyendo') == -1:\n",
    "            noticia['summarise'] = summarize(text, word_count=word_count)\n",
    "            noticia['premium'] = False\n",
    "        else:\n",
    "            noticia['summarise'] = 'Premium Content'\n",
    "            noticia['premium'] = True\n",
    "        # Current Date\n",
    "        noticia['current_date'] = datetime.datetime.now().timetuple()\n",
    "        # Image\n",
    "        noticia['img'] = economista_entries[i]['media_content'][0]['url']\n",
    "        economista.update({'Noticia'+'_'+str(\"%02d\")%(i+1):noticia})\n",
    "    return economista"
   ]
  },
  {
   "cell_type": "markdown",
   "metadata": {},
   "source": [
    "## 2. RSS Expansión"
   ]
  },
  {
   "cell_type": "code",
   "execution_count": 6,
   "metadata": {},
   "outputs": [
    {
     "name": "stdout",
     "output_type": "stream",
     "text": [
      "Total Entradas Economista: 20\n"
     ]
    }
   ],
   "source": [
    "url_economista = 'https://www.eleconomista.es/rss/rss-empresas.php'\n",
    "economista = feedparser.parse(url_economista)\n",
    "economista_entries = economista['entries']\n",
    "\n",
    "print('Total Entradas Economista:',len(economista_entries))"
   ]
  },
  {
   "cell_type": "code",
   "execution_count": 25,
   "metadata": {},
   "outputs": [],
   "source": [
    "economista = economista_news(economista_entries,word_count=100)"
   ]
  },
  {
   "cell_type": "code",
   "execution_count": 26,
   "metadata": {},
   "outputs": [
    {
     "data": {
      "text/plain": [
       "{'Noticia_01': {'newspaper': 'economista',\n",
       "  'title': 'El mercado del plástico reciclado duplicará su valor hasta el año 2027',\n",
       "  'headline': 'Las empresas apuestan por potenciar el mercado del plástico reciclado, cuyo valor crecerá a un ritmo del 6,8% anual, desde los 30.000 millones de euros registrados en 2019 a los 53.000 millones previstos para 2027, según el informe La ambición empresarial para avanzar hacia la nueva economía de plásticos, presentado este martes por Forética.',\n",
       "  'summarise': None,\n",
       "  'date': None,\n",
       "  'link': None,\n",
       "  'text': None,\n",
       "  'current_date': None,\n",
       "  'img': None,\n",
       "  'premium': None},\n",
       " 'Noticia_02': {'newspaper': 'economista',\n",
       "  'title': 'Ábalos señala que \"sólo se rescatará a las aerolíneas que lo soliciten\"',\n",
       "  'headline': 'El ministro de Transportes, José Luis Ábalos, ha dejado claro que el fondo de 10.000 millones de apoyo a la solvencia sólo se utilizará para rescatar a las aerolíneas que lo soliciten. &quot;No vamos a hacer nada que no sea a requerimiento de las propias compañías, de sus necesidades. A nadie se le va a imponer nada y todo está funcionando a petición y solicitud de las propias aerolíneas, lo digo por los rescates, y así pensamos seguir trabajando. Y estamos en ello, tenemos ese fondo y ahora trabajamos en función de las necesidades que nos permitan las compañías&quot;, ha explicado Ábalos en la rueda de prensa tras el Consejo de Ministros.',\n",
       "  'summarise': None,\n",
       "  'date': None,\n",
       "  'link': None,\n",
       "  'text': None,\n",
       "  'current_date': None,\n",
       "  'img': None,\n",
       "  'premium': None},\n",
       " 'Noticia_03': {'newspaper': 'economista',\n",
       "  'title': 'Lambán subraya que si se realiza el mini-trasvase del Ebro a Santander el Gobierno de Aragón recurrirá a los tribunales',\n",
       "  'headline': 'El presidente del Gobierno de Aragón, Javier Lambán, ha subrayado que si se realiza el mini-trasvase del Ebro a Santander, el Ejecutivo autonómico recurrirá a los tribunales y ha recordado que este territorio está fuera de la cuenca del río.',\n",
       "  'summarise': None,\n",
       "  'date': None,\n",
       "  'link': None,\n",
       "  'text': None,\n",
       "  'current_date': None,\n",
       "  'img': None,\n",
       "  'premium': None},\n",
       " 'Noticia_04': {'newspaper': 'economista',\n",
       "  'title': 'Endesa realiza una inversión de 70.000 euros en varias comarcas de Huesca',\n",
       "  'headline': 'Endesa ha realizado una serie de actuaciones de mejora en la red eléctrica que suministra energía a las localidades de Almunia de San Juan, Albalate de Cinca y Fraga, situadas en las comarcas oscenses de Cinca Medio y Bajo Cinca.',\n",
       "  'summarise': None,\n",
       "  'date': None,\n",
       "  'link': None,\n",
       "  'text': None,\n",
       "  'current_date': None,\n",
       "  'img': None,\n",
       "  'premium': None},\n",
       " 'Noticia_05': {'newspaper': 'economista',\n",
       "  'title': 'Fundación Grupo Siro consigue los primeros 20.000 kilos de alimentos con su campaña \"Multiplicamos tu solidaridad\"',\n",
       "  'headline': 'Fundación Grupo Siro, ha alcanzado los primeros 10.000 euros a favor de Bancos de Alimentos gracias a las donaciones realizadas por particulares y empresas a través de su campaña &quot;Multiplicamos tu solidaridad&quot;.',\n",
       "  'summarise': None,\n",
       "  'date': None,\n",
       "  'link': None,\n",
       "  'text': None,\n",
       "  'current_date': None,\n",
       "  'img': None,\n",
       "  'premium': None},\n",
       " 'Noticia_06': {'newspaper': 'economista',\n",
       "  'title': '¡Todos tecnólogos! Microsoft y LinkedIn impulsarán la digitalización de las personas desempleadas',\n",
       "  'headline': 'En los próximos cinco años se crearan dos millones de nuevos empleos relacionados con la tecnología en España. Son estimaciones de Microsoft elaboradas a partir datos facilitados por LinkedIn. La cara de una moneda que, advierte Pilar López, presidenta de Microsoft en España, también tiene su cruz: &quot;Que el problema de la brecha tecnológica se va a ver agravado tras el Covid-19&quot;.',\n",
       "  'summarise': None,\n",
       "  'date': None,\n",
       "  'link': None,\n",
       "  'text': None,\n",
       "  'current_date': None,\n",
       "  'img': None,\n",
       "  'premium': None},\n",
       " 'Noticia_07': {'newspaper': 'economista',\n",
       "  'title': 'Las rebajas no ayudan a frenar la caída de facturación en las Pymes',\n",
       "  'headline': \"Las cifras de ventas en los pequeños y medianos comercios continúan lejos de los niveles precovid, a pesar de la reactivación de las actividades y la vuelta a la 'nueva' normalidad. Según una encuesta de la Confederación Española de Comercio (CEC), la primera semana de rebajas registra una caída de la facturación de entre un 20% y un 30% respecto al mismo periodo del año anterior, con variaciones según provincias y sectores de actividad, llegando al 50% en los territorios más dependientes del turismo. El gasto medio por persona se situará en estas rebajas en 90 euros. Por sectores, el más afectado es textil y calzado.\",\n",
       "  'summarise': None,\n",
       "  'date': None,\n",
       "  'link': None,\n",
       "  'text': None,\n",
       "  'current_date': None,\n",
       "  'img': None,\n",
       "  'premium': None},\n",
       " 'Noticia_08': {'newspaper': 'economista',\n",
       "  'title': 'Escándalo Wirecard: ¿cómo se regula una empresa que actúa como un banco, pero que no lo es?',\n",
       "  'headline': \"La quiebra de la compañía de pagos alemana Wirecard como consecuencia de un fraude contable milmillonario ha mostrado un punto ciego para los 'vigilantes' del sistema financiero mundial: ¿cómo se regula una empresa que actúa como un banco, pero que en realidad no lo es?\",\n",
       "  'summarise': None,\n",
       "  'date': None,\n",
       "  'link': None,\n",
       "  'text': None,\n",
       "  'current_date': None,\n",
       "  'img': None,\n",
       "  'premium': None},\n",
       " 'Noticia_09': {'newspaper': 'economista',\n",
       "  'title': 'Los nueve proyectos innovadores que la Fundación Mapfre elige en un mundo postcovid',\n",
       "  'headline': 'Transformación social e impacto global. Son los principales atributos por los que han destacado los nueve proyectos de innovación social que se han clasificado estos días en las semifinales de unos premios que promueve Fundación MAPFRE desde hace tres años y que tienen como objetivo mejorar la salud, la movilidad sostenible y la innovación aseguradora. Los proyectos finalistas, que en esta edición proceden de Brasil, Ecuador, España y Perú, pretenden dar respuesta a grandes desafíos, como, mejorar la calidad de vida de las personas, reducir la contaminación de las ciudades, apoyar a las personas mayores, entre otros, y hacer frente a las necesidades generadas durante la crisis actual .',\n",
       "  'summarise': None,\n",
       "  'date': None,\n",
       "  'link': None,\n",
       "  'text': None,\n",
       "  'current_date': None,\n",
       "  'img': None,\n",
       "  'premium': None},\n",
       " 'Noticia_10': {'newspaper': 'economista',\n",
       "  'title': 'Denuncian el precio abusivo del remdesivir: 2.000 euros de tratamiento frente a los 6 de producción',\n",
       "  'headline': 'La Fundación Salud por Derecho ha denunciado este martes el &quot;abusivo&quot; precio del fármaco remdesivir para tratar los casos graves de Covid-19, cuyo coste por tratamiento asciende a 2.083 euros, frente a los seis euros que cuesta producirlo.',\n",
       "  'summarise': None,\n",
       "  'date': None,\n",
       "  'link': None,\n",
       "  'text': None,\n",
       "  'current_date': None,\n",
       "  'img': None,\n",
       "  'premium': None},\n",
       " 'Noticia_11': {'newspaper': 'economista',\n",
       "  'title': 'Los empleados de Mercadona descansarán dos días a la semana',\n",
       "  'headline': 'Mercadona ha firmado con los sindicatos UGT y CCOO la implantación en sus más de 1.600 supermercados de la denominada &quot;jornada laboral 5+2&quot;. Como su nombre indica, este sistema organizativo permitirá a los trabajadores trabajar cinco días semanales y librar dos. Su entrada en vigor se producirá el próximo 3 de agosto de 2020, según lo acordado con el &quot;comité intercentros de empresa&quot;, donde están representados todos trabajadores de la compañía valenciana.',\n",
       "  'summarise': None,\n",
       "  'date': None,\n",
       "  'link': None,\n",
       "  'text': None,\n",
       "  'current_date': None,\n",
       "  'img': None,\n",
       "  'premium': None},\n",
       " 'Noticia_12': {'newspaper': 'economista',\n",
       "  'title': 'El Puerto de Barcelona doblará hasta 15.000 las inspecciones del tráfico de mercancías',\n",
       "  'headline': 'El Puerto de Barcelona ha invertido dos millones de euros en la puesta en servicio de un nuevo escáner de contenedores de mercancías que permite hacer las inspecciones también con control remoto.',\n",
       "  'summarise': None,\n",
       "  'date': None,\n",
       "  'link': None,\n",
       "  'text': None,\n",
       "  'current_date': None,\n",
       "  'img': None,\n",
       "  'premium': None},\n",
       " 'Noticia_13': {'newspaper': 'economista',\n",
       "  'title': 'El Gobierno cederá suelo público a coste cero para que fondos privados construyan vivienda social',\n",
       "  'headline': 'El Gobierno abre la puerta a ceder suelo público a coste cero a las empresas privadas para que construyan viviendas de alquiler social. El Consejo de Ministros ha aprobado así una disposición legal para permitir al Ejecutivo no cobrar nada a los fondos o promotores por la explotación de ese suelo público durante un máximo de 75 años.',\n",
       "  'summarise': None,\n",
       "  'date': None,\n",
       "  'link': None,\n",
       "  'text': None,\n",
       "  'current_date': None,\n",
       "  'img': None,\n",
       "  'premium': None},\n",
       " 'Noticia_14': {'newspaper': 'economista',\n",
       "  'title': 'Los préstamos a fondo perdido en EEUU benefician a los allegados a Trump, varios legisladores, Kanye West y Khloe Kardashian',\n",
       "  'headline': 'Ni el mejor de los reality shows hubiera reunido a los multiples protagonistas que enumeran la lista de receptores de préstamos a fondo perdido en Estados Unidos. Esta iniciativa, conocida como Programa de Protección de Nóminas (PPP, por sus siglas en inglés) forma parte del programa de alivio aprobado a finales de marzo y su intención ha sido salvar el mayor número de empleos entre las pequeñas y medianas empresas del país tras el azote de la pandemia del coronavirus.',\n",
       "  'summarise': None,\n",
       "  'date': None,\n",
       "  'link': None,\n",
       "  'text': None,\n",
       "  'current_date': None,\n",
       "  'img': None,\n",
       "  'premium': None},\n",
       " 'Noticia_15': {'newspaper': 'economista',\n",
       "  'title': 'Ribera reivindica como propia la prórroga del bono social que ha presentado Pablo Iglesias',\n",
       "  'headline': \"El Ministerio de Transición Ecológica ha reivindicado como propia la propuesta de ampliar los plazos para el bono social que ha sido adoptada en el Consejo de Ministros a propuesta de la vicepresidenta, Teresa Ribera. La medida ha formado parte de una ampliación del llamado 'escudo social' del Gobierno que ha sido presentado por el vicepresidente segundo, Pablo Iglesias, que asume así un paquete de medidas que tocan a varios departamentos. Pese a eso, la comunicación de la medida no ha recaído en el departamento de Asuntos sociales sino que ha sido el área de Ribera quién ha emitido la correspondiente nota de prensa explicando la medida antes incluso de que se diera a conocer la referencia del Consejo de Ministros.\",\n",
       "  'summarise': None,\n",
       "  'date': None,\n",
       "  'link': None,\n",
       "  'text': None,\n",
       "  'current_date': None,\n",
       "  'img': None,\n",
       "  'premium': None},\n",
       " 'Noticia_16': {'newspaper': 'economista',\n",
       "  'title': 'COMSA Industrial se adjudica dos proyectos de ingeniería en las autopistas de Colombia por 18 millones',\n",
       "  'headline': 'La división Industrial de COMSA Corporación se ha adjudicado dos nuevos contratos de ingeniería en Colombia, por valor de 18 millones de euros.',\n",
       "  'summarise': None,\n",
       "  'date': None,\n",
       "  'link': None,\n",
       "  'text': None,\n",
       "  'current_date': None,\n",
       "  'img': None,\n",
       "  'premium': None},\n",
       " 'Noticia_17': {'newspaper': 'economista',\n",
       "  'title': 'La empresa española Immunostep fabricará test de coronavirus del CSIC con un 98% de fiabilidad',\n",
       "  'headline': 'La necesidad de contar con test de anticuerpos más fiables ha llevado al CSIC a diseñar un prototipo con el 98% de fiabilidad. Ahora, la empresa española Immunostep se encargará de su fabricación. El consejero delegado de la firma, Ricardo Jara, asegura que alcanzarán una producción de 14.000 kits diarios y que estarán en los centros sanitarios en cuestión de semanas.',\n",
       "  'summarise': None,\n",
       "  'date': None,\n",
       "  'link': None,\n",
       "  'text': None,\n",
       "  'current_date': None,\n",
       "  'img': None,\n",
       "  'premium': None},\n",
       " 'Noticia_18': {'newspaper': 'economista',\n",
       "  'title': 'BBVA, contrario a que PwC entregue los datos que unen a Francisco González con el espionaje a Ausbanc',\n",
       "  'headline': 'BBVA ha recurrido el requerimiento que realizó el pasado lunes el juez del caso Villarejo a PwC para que, en un plazo de siete días, aportara a la causa todos los datos, documentos e información  a los que hayan tenido acceso que relacionen al expresidente del banco, Francisco González (FG), con el espionaje a la asociación de consumidores Ausbanc.',\n",
       "  'summarise': None,\n",
       "  'date': None,\n",
       "  'link': None,\n",
       "  'text': None,\n",
       "  'current_date': None,\n",
       "  'img': None,\n",
       "  'premium': None},\n",
       " 'Noticia_19': {'newspaper': 'economista',\n",
       "  'title': 'BBVA permitirá a los clientes conocer en qué comercios online están registradas sus tarjetas',\n",
       "  'headline': 'BBVA lanza una nueva funcionalidad para su aplicación. La app permitirá a partir de octubre a los usuarios conocer en qué comercios online están registradas sus tarjetas. El director de Soluciones Digitales de Pagos de BBVA, Jorge Moreno, ha explicado esta mañana que las tarjetas comienzan a estar registradas en multitud de sitios para realizar compras online que, en ocasiones, el usuario ni recuerda. Así, esta funcionalidad permitirá a los clientes ver en qué sistemas de pago (Google Pay, Apple Pay, Sansung Pay, etc) y comercios (Netflix, Amazon, Uber, etc) están dadas de alta las tarjetas. Asimismo, con posterioridad, en 2021, el usuario podrá tener el control de sus tarjetas en estos comercios y desactivar temporalmente o desvincular por completo sus tarjetas de los mismos.',\n",
       "  'summarise': None,\n",
       "  'date': None,\n",
       "  'link': None,\n",
       "  'text': None,\n",
       "  'current_date': None,\n",
       "  'img': None,\n",
       "  'premium': None},\n",
       " 'Noticia_20': {'newspaper': 'economista',\n",
       "  'title': 'Las consultoras elevan sus ingresos el 5,9% en España gracias al mercado doméstico',\n",
       "  'headline': 'El sector de la consultoría mantiene su ritmo de crecimiento en España y elevó sus ingresos el 5,9% en  2019, hasta los 14.517 millones de euros. Encadena así siete ejercicios  consecutivo de crecimiento y se aleja así de las cifras del año 2012, cuando registró su último dato negativo (-0,9%), según los datos revelados ayer por la Asociación Española de Empresas de Consultoría  (AEC). La cifra positiva está muy ligada a la buena evolución del mercado doméstico, que ha representado el 77,8% de los ingresos totales de la industria (con un crecimiento del 5,5%), pese a que el ritmo de crecimiento del negocio internacional ha sido mayor (7,7%).',\n",
       "  'summarise': None,\n",
       "  'date': None,\n",
       "  'link': None,\n",
       "  'text': None,\n",
       "  'current_date': None,\n",
       "  'img': None,\n",
       "  'premium': None}}"
      ]
     },
     "execution_count": 26,
     "metadata": {},
     "output_type": "execute_result"
    }
   ],
   "source": [
    "economista"
   ]
  },
  {
   "cell_type": "code",
   "execution_count": 64,
   "metadata": {},
   "outputs": [
    {
     "name": "stdout",
     "output_type": "stream",
     "text": [
      "\u001b[1m\u001b[32mEXPANSION\u001b[0m\n",
      "\u001b[1m\u001b[30mWed, 01 Jul 2020 02:19:08 +0200\u001b[0m\n",
      "\u001b[1m\u001b[35mCatalana Occidente recorta su cobertura de seguro de crédito\u001b[0m\n",
      "\u001b[34mHeadline\u001b[0m\n",
      "Las pymes ven reducido el respaldo del seguro para cerrar operaciones comerciales ante el previsible aumento de las insolvencias.\n",
      "\u001b[34mSummarise\u001b[0m\n",
      "\u001b[31mPremium Content\u001b[0m\n",
      "\u001b[34mText\u001b[0m\n",
      "Las pymes ven reducido el respaldo del seguro para cerrar operaciones comerciales ante el previsible aumento de las insolvencias. Catalana Occidente está reduciendo la cobertura que da a sus clientes en el seguro de crédito, tras el estallido de la crisis del Covid-19.\n",
      "Este recorte de la protección, -del 15% de media, según fuentes del sector- no es exclusivo de Catalana Occid Para seguir leyendo, hágase Premium ¿Ya es Premium? Inicie sesión Mensual primer mes después 14,99€   Anual primer mes después 7,50€/mes (Pago único de 90€)\n",
      " 4 meses gratis  Descubra qué es Premium   Cancele cuando quiera    Consulte los términos y condiciones del servicio  \n"
     ]
    },
    {
     "data": {
      "text/html": [
       "<img src=\"https://e00-expansion.uecdn.es/assets/multimedia/imagenes/2020/06/30/15935461539845.jpg\" width=\"500\"/>"
      ],
      "text/plain": [
       "<IPython.core.display.Image object>"
      ]
     },
     "metadata": {},
     "output_type": "display_data"
    },
    {
     "data": {
      "text/markdown": [
       "<a href=\"https://www.expansion.com/empresas/banca/2020/07/01/5efba8e1468aebde618b45fe.html\">Link</a>"
      ],
      "text/plain": [
       "<IPython.core.display.Markdown object>"
      ]
     },
     "metadata": {},
     "output_type": "display_data"
    },
    {
     "name": "stdout",
     "output_type": "stream",
     "text": [
      "\n",
      "\n",
      "\u001b[1m\u001b[32mEXPANSION\u001b[0m\n",
      "\u001b[1m\u001b[30mWed, 01 Jul 2020 02:18:39 +0200\u001b[0m\n",
      "\u001b[1m\u001b[35mLa apuesta de Intesa por España\u001b[0m\n",
      "\u001b[34mHeadline\u001b[0m\n",
      "La entidad quiere ampliar su base de clientes más allá de las grandes empresas españolas.\n",
      "\u001b[34mSummarise\u001b[0m\n",
      "\u001b[31mPremium Content\u001b[0m\n",
      "\u001b[34mText\u001b[0m\n",
      "La entidad quiere ampliar su base de clientes más allá de las grandes empresas españolas. Intesa Sanpaolo quiere crecer en banca de inversión en España. Y ahora cuenta con dos banqueros más para conseguir ese objetivo.\n",
      "El responsable de la sucursal española, Juan Pontoni, ha fichado a Javier Vidal como director de Originación de DCM (sig Para seguir leyendo, hágase Premium ¿Ya es Premium? Inicie sesión Mensual primer mes después 14,99€   Anual primer mes después 7,50€/mes (Pago único de 90€)\n",
      " 4 meses gratis  Descubra qué es Premium   Cancele cuando quiera    Consulte los términos y condiciones del servicio  \n"
     ]
    },
    {
     "data": {
      "text/html": [
       "<img src=\"https://e00-expansion.uecdn.es/assets/multimedia/imagenes/2020/06/30/15935458406467.jpg\" width=\"500\"/>"
      ],
      "text/plain": [
       "<IPython.core.display.Image object>"
      ]
     },
     "metadata": {},
     "output_type": "display_data"
    },
    {
     "data": {
      "text/markdown": [
       "<a href=\"https://www.expansion.com/empresas/banca/2020/07/01/5efba7c6468aeb76208b4625.html\">Link</a>"
      ],
      "text/plain": [
       "<IPython.core.display.Markdown object>"
      ]
     },
     "metadata": {},
     "output_type": "display_data"
    },
    {
     "name": "stdout",
     "output_type": "stream",
     "text": [
      "\n",
      "\n",
      "\u001b[1m\u001b[32mEXPANSION\u001b[0m\n",
      "\u001b[1m\u001b[30mWed, 01 Jul 2020 01:10:48 +0200\u001b[0m\n",
      "\u001b[1m\u001b[35mEl Covid tendrá un impacto fuerte en los balances de la banca\u001b[0m\n",
      "\u001b[34mHeadline\u001b[0m\n",
      "\n",
      "\u001b[34mSummarise\u001b[0m\n",
      "El Banco de España está convencido de que esta crisis, a diferencia de la de 2008, ha cogido al sector financiero con una buena posición de capital, a pesar de que su ratio de solvencia esté por debajo del promedio europeo.\n",
      "En este sentido, advierte también que la recuperación de los créditos dudosos y su posterior venta (al capital riesgo) puede ser \"más complejo durante un tiempo\".\n",
      "Durante marzo y abril, la inyección de financiación bancaria a las empresas para cubrir necesidades de liquidez ha sido de 98.000 millones de euros.\n",
      "\u001b[34mText\u001b[0m\n",
      " El Banco de España está convencido de que esta crisis, a diferencia de la de 2008, ha cogido al sector financiero con una buena posición de capital, a pesar de que su ratio de solvencia esté por debajo del promedio europeo. Pero no oculta que esta recesión provocará un súbito aumento de la morosidad que afectará a los balances.  \"El Covid-19 tendrá un impacto significativo sobre la calidad de la cartera crediticia de las entidades que dependerá de la severidad final de la crisis. Por ello, los supervisores deberemos mantenernos vigilantes y estar dispuestos para dar una respuesta contundente a los riesgos para la estabilidad financiera en caso de que estos se materialicen\", afirma el gobernador, Pablo Hernández de Cos.  Correlación La experiencia histórica dice que cada punto de caída del PIB provoca un aumento de 0,7% de la morosidad. Teniendo en cuenta que el Banco de España prevé una caída del PIB del 15% en 2020 en su peor escenario, la tasa de impagos se iría al 10,5%. Se trataría de un repunte importante en relación al 4,8% actual, aunque no se alcanzarían los máximos de casi el 14% de la anterior crisis. El supervisor admite que esta estimación teórica puede cumplirse. En este sentido, advierte también que la recuperación de los créditos dudosos y su posterior venta (al capital riesgo) puede ser \"más complejo durante un tiempo\".  En la crisis financiera global, la existencia de las provisiones genéricas dotó a las entidades españolas de un colchón de 26.000 millones para poder hacer frente a las pérdidas crediticias. Los fondos que pueden liberarse ahora para absorber pérdidas ascienden a 93.000 millones. El Banco de España adviertió ayer de que el Covid va a alargar todavía más en el tiempo el entorno de bajos tipos de interés y le preocupa que el sector se vea tentado a protagonizar una \"asunción excesiva de riesgos\". El supervisor advierte que estará muy alerta para evitar que suceda.  Durante marzo y abril, la inyección de financiación bancaria a las empresas para cubrir necesidades de liquidez ha sido de 98.000 millones de euros. Esta cantidad multiplica por dos el flujo crediticio a la economía real frente al mismo periodo de 2019. De esa cifra, 34.600 millones fueron créditos ICO. Fuera del programa de avales públicos también ha habido mucha actividad. El crédito no ICO ha crecido un 32% durante los dos primeros meses de Covid.  Según el supervisor, la financiación bancaria ha permitido cubrir el 23% de las necesidades estimadas de liquidez de las empresas entre marzo y diciembre de 2020.  Los sectores de actividad más afectados por el Covid (comercio, hostelería y transporte) tienen un peso del 25,6% en el stock de crédito, la mitad del 47% que suponía el crédito promotor y constructor en 2008. \n"
     ]
    },
    {
     "data": {
      "text/html": [
       "<img src=\"https://e00-expansion.uecdn.es/assets/multimedia/imagenes/2020/06/30/15935537522319.jpg\" width=\"500\"/>"
      ],
      "text/plain": [
       "<IPython.core.display.Image object>"
      ]
     },
     "metadata": {},
     "output_type": "display_data"
    },
    {
     "data": {
      "text/markdown": [
       "<a href=\"https://www.expansion.com/empresas/banca/2020/07/01/5efbb374468aebac668b45ff.html\">Link</a>"
      ],
      "text/plain": [
       "<IPython.core.display.Markdown object>"
      ]
     },
     "metadata": {},
     "output_type": "display_data"
    },
    {
     "name": "stdout",
     "output_type": "stream",
     "text": [
      "\n",
      "\n",
      "\u001b[1m\u001b[32mEXPANSION\u001b[0m\n",
      "\u001b[1m\u001b[30mWed, 01 Jul 2020 01:08:55 +0200\u001b[0m\n",
      "\u001b[1m\u001b[35mLos bancos de Wall Street ingresan comisiones récord por las operaciones de financiación durante la pandemia\u001b[0m\n",
      "\u001b[34mHeadline\u001b[0m\n",
      "Las comisiones totales de la banca de inversión suben un 9% con respecto al primer semestre de 2019, según Refinitiv.\n",
      "\u001b[34mSummarise\u001b[0m\n",
      "\u001b[31mPremium Content\u001b[0m\n",
      "\u001b[34mText\u001b[0m\n",
      "Las comisiones totales de la banca de inversión suben un 9% con respecto al primer semestre de 2019, según Refinitiv. Las comisiones de los bancos de inversión se dispararon a un récord de 57.000 millones de dólares (50.800 millones de euros) en los seis primeros meses del este año, impulsadas por las lucrativas ventas de deuda llevadas a cabo por las compañías para Para seguir leyendo, hágase Premium ¿Ya es Premium? Inicie sesión Mensual primer mes después 14,99€   Anual primer mes después 7,50€/mes (Pago único de 90€)\n",
      " 4 meses gratis  Descubra qué es Premium   Cancele cuando quiera    Consulte los términos y condiciones del servicio  \n"
     ]
    },
    {
     "data": {
      "text/html": [
       "<img src=\"https://e00-expansion.uecdn.es/assets/multimedia/imagenes/2020/06/30/15935455674076.jpg\" width=\"500\"/>"
      ],
      "text/plain": [
       "<IPython.core.display.Image object>"
      ]
     },
     "metadata": {},
     "output_type": "display_data"
    },
    {
     "data": {
      "text/markdown": [
       "<a href=\"https://www.expansion.com/empresas/banca/2020/07/01/5efb931b468aeb772f8b45e1.html\">Link</a>"
      ],
      "text/plain": [
       "<IPython.core.display.Markdown object>"
      ]
     },
     "metadata": {},
     "output_type": "display_data"
    },
    {
     "name": "stdout",
     "output_type": "stream",
     "text": [
      "\n",
      "\n",
      "\u001b[1m\u001b[32mEXPANSION\u001b[0m\n",
      "\u001b[1m\u001b[30mWed, 01 Jul 2020 01:06:19 +0200\u001b[0m\n",
      "\u001b[1m\u001b[35mSantander refuerza su organigrama para su transformación digital\u001b[0m\n",
      "\u001b[34mHeadline\u001b[0m\n",
      "El grupo nombra a un ex alto ejecutivo de Amazon como presidente de Santander Consumer Finance y vicepresidente de Openbank. Será también asesor de Ana Botín en temas tecnológicos.\n",
      "\u001b[34mSummarise\u001b[0m\n",
      "\u001b[31mPremium Content\u001b[0m\n",
      "\u001b[34mText\u001b[0m\n",
      "El grupo nombra a un ex alto ejecutivo de Amazon como presidente de Santander Consumer Finance y vicepresidente de Openbank. Será también asesor de Ana Botín en temas tecnológicos. Santander ha remodelado su organigrama de primer nivel para incorporar más talento tecnológico en la cúpula del grupo.\n",
      "Santander ha fichado a Sebastian Gunningham, ex alto ejecutivo de Amazon, como presidente no ejecutivo de Santander Consumer Fina Para seguir leyendo, hágase Premium ¿Ya es Premium? Inicie sesión Mensual primer mes después 14,99€   Anual primer mes después 7,50€/mes (Pago único de 90€)\n",
      " 4 meses gratis  Descubra qué es Premium   Cancele cuando quiera    Consulte los términos y condiciones del servicio  \n"
     ]
    },
    {
     "data": {
      "text/html": [
       "<img src=\"https://e00-expansion.uecdn.es/assets/multimedia/imagenes/2020/06/30/15935530135552.jpg\" width=\"500\"/>"
      ],
      "text/plain": [
       "<IPython.core.display.Image object>"
      ]
     },
     "metadata": {},
     "output_type": "display_data"
    },
    {
     "data": {
      "text/markdown": [
       "<a href=\"https://www.expansion.com/empresas/banca/2020/07/01/5efbaf64e5fdea59588b45f4.html\">Link</a>"
      ],
      "text/plain": [
       "<IPython.core.display.Markdown object>"
      ]
     },
     "metadata": {},
     "output_type": "display_data"
    },
    {
     "name": "stdout",
     "output_type": "stream",
     "text": [
      "\n",
      "\n",
      "\u001b[1m\u001b[32mEXPANSION\u001b[0m\n",
      "\u001b[1m\u001b[30mTue, 30 Jun 2020 23:12:11 +0200\u001b[0m\n",
      "\u001b[1m\u001b[35mNueva línea del ICO para facilitar la inversión y el circulante\u001b[0m\n",
      "\u001b[34mHeadline\u001b[0m\n",
      "El 30 de junio era la fecha tope que tenían los bancos individualmente para materializar las peticiones de créditos avalados que les han solicitado autónomos, pymes y resto de empresas de acuerdo a las cuotas que el Instituto de Crédito Oficial (ICO) ha adjudicado a cada entidad en función de la cuota de mercado en cada uno de los segmentos de negocio.\n",
      "\u001b[34mSummarise\u001b[0m\n",
      "\u001b[31mPremium Content\u001b[0m\n",
      "\u001b[34mText\u001b[0m\n",
      "El 30 de junio era la fecha tope que tenían los bancos individualmente para materializar las peticiones de créditos avalados que les han solicitado autónomos, pymes y resto de empresas de acuerdo a las cuotas que el Instituto de Crédito Oficial (ICO) ha adjudicado a cada entidad en función de la cuota de mercado en cada uno de los segmentos de negocio. Las cantidades que no hayan sido adjudicadas en esa fecha (no solo las del último tramo de 12.500 millones de euros sino los sobrantes de tres de los cuatros tramos anteriores) se repartirán entre los bancos que hayan agotado todo lo que tenían adjud Para seguir leyendo, hágase Premium ¿Ya es Premium? Inicie sesión Mensual primer mes después 14,99€   Anual primer mes después 7,50€/mes (Pago único de 90€)\n",
      " 4 meses gratis  Descubra qué es Premium   Cancele cuando quiera    Consulte los términos y condiciones del servicio  \n"
     ]
    },
    {
     "data": {
      "text/html": [
       "<img src=\"https://e00-expansion.uecdn.es/assets/multimedia/imagenes/2020/06/25/15930781059049.jpg\" width=\"500\"/>"
      ],
      "text/plain": [
       "<IPython.core.display.Image object>"
      ]
     },
     "metadata": {},
     "output_type": "display_data"
    },
    {
     "data": {
      "text/markdown": [
       "<a href=\"https://www.expansion.com/empresas/banca/2020/06/25/5ef47188e5fdea073c8b45b0.html\">Link</a>"
      ],
      "text/plain": [
       "<IPython.core.display.Markdown object>"
      ]
     },
     "metadata": {},
     "output_type": "display_data"
    },
    {
     "name": "stdout",
     "output_type": "stream",
     "text": [
      "\n",
      "\n",
      "\u001b[1m\u001b[32mEXPANSION\u001b[0m\n",
      "\u001b[1m\u001b[30mTue, 30 Jun 2020 19:04:11 +0200\u001b[0m\n",
      "\u001b[1m\u001b[35mCinco bancos bajan los tipos del 'revolving' tras el fallo del Supremo\u001b[0m\n",
      "\u001b[34mHeadline\u001b[0m\n",
      "Cinco de los bancos más fuertes en el negocio de las tarjetas revolving han rebajado ya los tipos de interés que cobran por este tipo de financiación como reacción a la jurisprudencia dictada en marzo por el Supremo.\n",
      "\u001b[34mSummarise\u001b[0m\n",
      "Cinco de los bancos más fuertes en el negocio de las tarjetas revolving han rebajado ya los tipos de interés que cobran por este tipo de financiación como reacción a la jurisprudencia dictada en marzo por el Supremo.\n",
      "El descenso más notable es el que ha realizado Sabadell en las condiciones de su tarjeta Visa Shopping Sabadell, que ahora cobra un 18,86% TAE, muy por debajo del 26,82% que aplicaba antes de la sentencia del Supremo.\n",
      "Santander ha realizado una reducción de cinco puntos porcentuales en las condiciones de su tarjeta Mi otra 1,2,3, que ahora cobra un 19,56% de interés a quienes la utilizan para fraccionar la financiación de compras.\n",
      "\u001b[34mText\u001b[0m\n",
      "Cinco de los bancos más fuertes en el negocio de las tarjetas revolving han rebajado ya los tipos de interés que cobran por este tipo de financiación como reacción a la jurisprudencia dictada en marzo por el Supremo. El alto tribunal falló que tipos «notablemente superiores» al 20% debían considerarse usurarios. WiZink, el banco con mayor penetración en esta actividad y afectado directamente por la sentencia, fue el primero en mover ficha. Ese mismo mes redujo su catálogo de tarjetas revolving a un solo plástico y ha pasado de cobrar un promedio casi un 27% a un 21,94% TAE. Recientemente se le han unido otras cuatro entidades más, todas ellas muy relevantes en este segmento de negocio, según el barómetro realizado por la asociación de consumidores Asufin. Bankintercard ha disminuido el tipo medio que aplica en sus tarjetas del 26,82% TAE al 19,99% actual. El descenso más notable es el que ha realizado Sabadell en las condiciones de su tarjeta Visa Shopping Sabadell, que ahora cobra un 18,86% TAE, muy por debajo del 26,82% que aplicaba antes de la sentencia del Supremo. Santander ha realizado una reducción de cinco puntos porcentuales en las condiciones de su tarjeta Mi otra 1,2,3, que ahora cobra un 19,56% de interés a quienes la utilizan para fraccionar la financiación de compras. La lista de rebajas se completa con la tarjeta Visa Shopping DB, de Deutsche Bank, que ha pasado de estar aplicando un tipo TAE del 23,87% a cobrar un 18,16%. Según Asufin, de promedio la banca está cobrando ahora un 22,86%, un 2,34% menos que antes de la sentencia. \n"
     ]
    },
    {
     "data": {
      "text/html": [
       "<img src=\"https://e00-expansion.uecdn.es/assets/multimedia/imagenes/2020/06/30/15935366285556.jpg\" width=\"500\"/>"
      ],
      "text/plain": [
       "<IPython.core.display.Image object>"
      ]
     },
     "metadata": {},
     "output_type": "display_data"
    },
    {
     "data": {
      "text/markdown": [
       "<a href=\"https://www.expansion.com/empresas/banca/2020/06/30/5efb58c7468aeb76208b45ff.html\">Link</a>"
      ],
      "text/plain": [
       "<IPython.core.display.Markdown object>"
      ]
     },
     "metadata": {},
     "output_type": "display_data"
    },
    {
     "name": "stdout",
     "output_type": "stream",
     "text": [
      "\n",
      "\n",
      "\u001b[1m\u001b[32mEXPANSION\u001b[0m\n",
      "\u001b[1m\u001b[30mTue, 30 Jun 2020 18:52:00 +0200\u001b[0m\n",
      "\u001b[1m\u001b[35mSantander ficha a tres expertos americanos  para su  transformación digital\u001b[0m\n",
      "\u001b[34mHeadline\u001b[0m\n",
      "Banco Santander ha anunciado hoy el nombramiento de tres expertos en tecnología para impulsar su estrategia y transformación digital. Se trata de tres estadounidenses que proceden de Goldman, de Amazon y de la firma de servicios profesionales Cognizant.\n",
      "\u001b[34mSummarise\u001b[0m\n",
      "Chávez, de nacionalidad estadounidense, aporta una amplia experiencia en el sector financiero tras haber trabajado veinte años en Goldman Sachs, donde fue socio desde 2006 y miembro del comité de dirección desde 2012, hasta que abandonó la entidad a final de 2019.\n",
      "Además, Banco Santander nombrará a Sebastian Gunningham presidente de Santander Consumer Finance y vicepresidente de Openbank, sujeto a la aprobación regulatoria, y también será asesor sénior de la presidenta en tecnología.\n",
      "D'Souza, de nacionalidad estadounidense, es miembro del Consejo Asesor Internacional de Santander desde 2016 y cofundador de Cognizant, una empresa líder de servicios profesionales.\n",
      "\u001b[34mText\u001b[0m\n",
      "Banco Santander ha anunciado hoy el nombramiento de tres expertos en tecnología para impulsar su estrategia y transformación digital. Se trata de tres estadounidenses que proceden de Goldman, de Amazon y de la firma de servicios profesionales Cognizant. La comisión de nombramientos ha propuesto la incorporación de R. Martin Chávez como nuevo consejero independiente. Sustituirá a Esther Giménez-Salinas, que deja el consejo tras ocho años. Chávez, de nacionalidad estadounidense, aporta una amplia experiencia en el sector financiero tras haber trabajado veinte años en Goldman Sachs, donde fue socio desde 2006 y miembro del comité de dirección desde 2012, hasta que abandonó la entidad a final de 2019. Comenzó su carrera como ingeniero de software y fundó distintas empresas tecnológicas en Silicon Valley y Nueva York, de modo que también aporta experiencia digital al consejo. Chávez formará parte de las comisiones de retribuciones; de supervisión de riesgos, regulación y cumplimiento, y de innovación y tecnología. Su nombramiento está sujeto a las aprobaciones regulatorias correspondientes y se espera que sea sometido a la aprobación de la próxima junta de accionistas, que previsiblemente se celebrará en octubre. Además, Banco Santander nombrará a Sebastian Gunningham presidente de Santander Consumer Finance y vicepresidente de Openbank, sujeto a la aprobación regulatoria, y también será asesor sénior de la presidenta en tecnología. Gunningham, de nacionalidad estadounidense, ha ocupado distintas funciones en Amazon como director general con responsabilidad sobre Amazon Marketplace y otras unidades tecnológicas, incluido el servicio de pagos de Amazon. También ha trabajado en Apple, First Data, Oracle y WeWork. Sustituirá a Antonio Escámez como presidente de Santander Consumer Finance y vicepresidente de Openbank. Escámez seguirá siendo consejero en ambas entidades. Por último, Francisco D'Souza reforzará su colaboración con la entidad y desde ahora será el asesor estratégico del grupo para el desarrollo de Santander Global Platform (SGP). Dará apoyo al consejo para establecer e implementar la estrategia y los modelos de negocio de todas las actividades, existentes y nuevas, que se están desarrollando dentro de SGP.  D'Souza, de nacionalidad estadounidense, es miembro del Consejo Asesor Internacional de Santander desde 2016 y cofundador de Cognizant, una empresa líder de servicios profesionales. Como consejero delegado de Cognizant, lideró un periodo de crecimiento, transformación, innovación y éxito, lo que permitió multiplicar por 10 los ingresos. En 2015 y 2017, la revista Fortune le incluyó en la lista de empresarios del año. Ana Botín, presidenta de Banco Santander, afirma qu: \"Marty, Sebastian y Frank tienen una amplia experiencia y aportarán gran valor al grupo en el desarrollo y la ejecución de nuestra transformación digital. Los tres tienen destacadas carreras y estoy encantada de contar con ellos para seguir desarrollando nuestra estrategia de ser la mejor plataforma abierta de servicios financieros. En nombre del consejo, también me gustaría agradecer a Esther Giménez-Salinas y Antonio Escámez su gran aportación al grupo. Ambos han contribuido al crecimiento del banco los últimos años, y su conocimiento y experiencia han sido de gran ayuda\". \n"
     ]
    },
    {
     "data": {
      "text/html": [
       "<img src=\"https://e00-expansion.uecdn.es/assets/multimedia/imagenes/2020/06/30/15935370946302.jpg\" width=\"500\"/>"
      ],
      "text/plain": [
       "<IPython.core.display.Image object>"
      ]
     },
     "metadata": {},
     "output_type": "display_data"
    },
    {
     "data": {
      "text/markdown": [
       "<a href=\"https://www.expansion.com/empresas/banca/2020/06/30/5efb6da4e5fdea7f638b463c.html\">Link</a>"
      ],
      "text/plain": [
       "<IPython.core.display.Markdown object>"
      ]
     },
     "metadata": {},
     "output_type": "display_data"
    },
    {
     "name": "stdout",
     "output_type": "stream",
     "text": [
      "\n",
      "\n",
      "\u001b[1m\u001b[32mEXPANSION\u001b[0m\n",
      "\u001b[1m\u001b[30mTue, 30 Jun 2020 18:28:22 +0200\u001b[0m\n",
      "\u001b[1m\u001b[35mBanco Sabadell completa la venta de su gestora y refuerza su solvencia con 349 millones\u001b[0m\n",
      "\u001b[34mHeadline\u001b[0m\n",
      "Banco Sabadell ha cerrado la alianza estratégica con Amundi, que implica la venta del 100% de su gestora por un importe de 430 millones de euros, una operación con la que la entidad refuerza su solvencia con 349 millones de euros en plusvalías.\n",
      "\u001b[34mSummarise\u001b[0m\n",
      "Banco Sabadell ha cerrado la alianza estratégica con Amundi, que implica la venta del 100% de su gestora por un importe de 430 millones de euros, una operación con la que la entidad refuerza su solvencia con 349 millones de euros en plusvalías.\n",
      "Además, es posible que se reciban hasta 30 millones de euros adicionales a las 430 millones del total del importe de la operación, pagaderos en 2024 y sujetos a los rendimientos futuros y a los activos bajo gestión que mantenga Sabadell Asset Management (AM) de clientes del banco.\n",
      "\u001b[34mText\u001b[0m\n",
      "Banco Sabadell ha cerrado la alianza estratégica con Amundi, que implica la venta del 100% de su gestora por un importe de 430 millones de euros, una operación con la que la entidad refuerza su solvencia con 349 millones de euros en plusvalías. Las plusvalías que genera deshacerse de este activo reforzarán la posición de capital de Banco Sabadell y contribuirá a la ratio CET 1 'fully loaded' con 43 puntos básicos.   No obstante, en este momento se reconocerán 293 millones de euros en plusvalías, mientras que los 56 millones de euros restantes, correspondiente a 7 puntos básicos de CET1 'fully-loaded', están sujetos a determinadas garantías vigentes a lo largo del periodo del acuerdo de distribución, por lo que aflorarán proporcionalmente durante los próximos 10 años.   Además, es posible que se reciban hasta 30 millones de euros adicionales a las 430 millones del total del importe de la operación, pagaderos en 2024 y sujetos a los rendimientos futuros y a los activos bajo gestión que mantenga Sabadell Asset Management (AM) de clientes del banco.   El acuerdo de venta de Sabadell AM, que incluye la gestora de Sabadell Luxemburgo y excluye Sabadell Urquijo Gestión --sus activos serán transferidos al banco--, fue anunciado el pasado mes de enero y ha sido ahora cuando ha recibido las autorizaciones regulatorias pertinentes.  A su vez, la alianza estratégica suscrita con Amundi supone la distribución de productos de dicha compañía a través de la red comercial de Banco Sabadell en España. No obstante, Sabadell AM y Amundi serán dos entidades independientes para preservar la operativa actual de los fondos de inversión y planes de pensiones de cada entidad, que no sufrirán cambios.   De esta forma, no implica ningún cambio en los fondos de inversión o planes de pensiones existentes. Al contrario, permitirá a los clientes del banco acceder a nuevas oportunidades de inversión y a una gama más amplia de productos.   Para Banco Sabadell, el objetivo de la transacción es impulsar su oferta y acceder a las soluciones y herramientas de Amundi, aumentando además su compromiso con la inversión socialmente responsable al incluir productos en materia de sostenibilidad, temas sociales y gobierno corporativo.   Asimismo, le proporciona acceso a la experiencia de Amundi en la prestación de servicios a redes comerciales y mejora la escala, lo que proporciona ahorros y disminuye las necesidades de inversión, además de que potencia las capacidades digitales de Banco Sabadell en este segmento y le permite \"concentrarse plenamente en la captación de clientes y en la gestión de las relaciones con los mismos\".   De su lado, Amundi se beneficia con esta adquisición de la fuerte implantación territorial de Banco Sabadell a través de sus oficinas y refuerza significativamente su posición en España, un importante mercado de ahorro en Europa, desplegando sus capacidades en el Viejo Continente a través de redes minoristas. \n"
     ]
    },
    {
     "data": {
      "text/html": [
       "<img src=\"https://e00-expansion.uecdn.es/assets/multimedia/imagenes/2020/06/30/15935344567653.jpg\" width=\"500\"/>"
      ],
      "text/plain": [
       "<IPython.core.display.Image object>"
      ]
     },
     "metadata": {},
     "output_type": "display_data"
    },
    {
     "data": {
      "text/markdown": [
       "<a href=\"https://www.expansion.com/empresas/banca/2020/06/30/5efb680fe5fdea0e068b45d2.html\">Link</a>"
      ],
      "text/plain": [
       "<IPython.core.display.Markdown object>"
      ]
     },
     "metadata": {},
     "output_type": "display_data"
    },
    {
     "name": "stdout",
     "output_type": "stream",
     "text": [
      "\n",
      "\n",
      "\u001b[1m\u001b[32mEXPANSION\u001b[0m\n",
      "\u001b[1m\u001b[30mTue, 30 Jun 2020 16:37:01 +0200\u001b[0m\n",
      "\u001b[1m\u001b[35mMapfre ofrece servicios de asistencia adaptados a personas con discapacidad auditiva\u001b[0m\n",
      "\u001b[34mHeadline\u001b[0m\n",
      "Mapfre ofrece servicios de asistencia adaptados a personas con discapacidad auditiva que podrían ayudar a sus clientes para solicitar asistencia en viaje o realizar sus gestiones a través de diferentes sistemas como mensajes SMS, videointerpretación o mediante la app de la aseguradora.\n",
      "\u001b[34mSummarise\u001b[0m\n",
      "Mapfre ofrece servicios de asistencia adaptados a personas con discapacidad auditiva que podrían ayudar a sus clientes para solicitar asistencia en viaje o realizar sus gestiones a través de diferentes sistemas como mensajes SMS, videointerpretación o mediante la app de la aseguradora.\n",
      "Para facilitar su acceso promueve la utilización del servicio de SMS, disponible las 24 horas todos los días del año, mediante el cual el asegurado podrá gestionar cualquier incidente en su póliza de autos u hogar tan solo enviando un mensaje de texto acompañado de sus datos.\n",
      "\u001b[34mText\u001b[0m\n",
      "Mapfre ofrece servicios de asistencia adaptados a personas con discapacidad auditiva que podrían ayudar a sus clientes para solicitar asistencia en viaje o realizar sus gestiones a través de diferentes sistemas como mensajes SMS, videointerpretación o mediante la app de la aseguradora. Desde principios de este año, la compañía ha realizado cerca de 100 gestiones por esta vía, en sus seguros de autos y hogar. Para facilitar su acceso promueve la utilización del servicio de SMS, disponible las 24 horas todos los días del año, mediante el cual el asegurado podrá gestionar cualquier incidente en su póliza de autos u hogar tan solo enviando un mensaje de texto acompañado de sus datos. Los servicios de videointerpretación y de chat se encuentran a su vez disponibles de lunes a viernes entre las 10.30 y las 18.30 horas, con todas las herramientas necesarias para gestionar y facilitar las peticiones de las personas aseguradas mediante lenguaje de signos a través de un teléfono móvil, ordenador o tablet.  A través de la aplicación de Mapfre, todos los asegurados con discapacidad auditiva podrán seguir las indicaciones desde el menú para solicitar asistencia en carretera, también de manera muy sencilla. \n"
     ]
    },
    {
     "data": {
      "text/html": [
       "<img src=\"https://e00-expansion.uecdn.es/assets/multimedia/imagenes/2020/06/30/15935275027749.jpg\" width=\"500\"/>"
      ],
      "text/plain": [
       "<IPython.core.display.Image object>"
      ]
     },
     "metadata": {},
     "output_type": "display_data"
    },
    {
     "data": {
      "text/markdown": [
       "<a href=\"https://www.expansion.com/empresas/banca/2020/06/30/5efb4be8468aebac668b45eb.html\">Link</a>"
      ],
      "text/plain": [
       "<IPython.core.display.Markdown object>"
      ]
     },
     "metadata": {},
     "output_type": "display_data"
    },
    {
     "name": "stdout",
     "output_type": "stream",
     "text": [
      "\n",
      "\n",
      "\u001b[1m\u001b[32mEXPANSION\u001b[0m\n",
      "\u001b[1m\u001b[30mTue, 30 Jun 2020 09:55:38 +0200\u001b[0m\n",
      "\u001b[1m\u001b[35mSantander ficha de JPMorgan su nuevo presidente en Reino Unido\u001b[0m\n",
      "\u001b[34mHeadline\u001b[0m\n",
      "William Vereker, quien trabajó en UBS con Andrea Orcel, sustituirá a Shriti Vadera tras el verano.\n",
      "\u001b[34mSummarise\u001b[0m\n",
      "\u001b[31mPremium Content\u001b[0m\n",
      "\u001b[34mText\u001b[0m\n",
      "William Vereker, quien trabajó en UBS con Andrea Orcel, sustituirá a Shriti Vadera tras el verano. Un ejecutivo con una larga trayectoria en banca mayorista, y que también pasó por la administración de la primera ministra Theresa May, va a ser nombrado presidente de Santander UK este año. William Vereker, que ahora es vicepresidente de banca de in Para seguir leyendo, hágase Premium ¿Ya es Premium? Inicie sesión Mensual primer mes después 14,99€   Anual primer mes después 7,50€/mes (Pago único de 90€)\n",
      " 4 meses gratis  Descubra qué es Premium   Cancele cuando quiera    Consulte los términos y condiciones del servicio  \n"
     ]
    },
    {
     "data": {
      "text/html": [
       "<img src=\"https://e00-expansion.uecdn.es/assets/multimedia/imagenes/2020/06/30/15935036746581.jpg\" width=\"500\"/>"
      ],
      "text/plain": [
       "<IPython.core.display.Image object>"
      ]
     },
     "metadata": {},
     "output_type": "display_data"
    },
    {
     "data": {
      "text/markdown": [
       "<a href=\"https://www.expansion.com/empresas/banca/2020/06/30/5efaefea468aebe05c8b457e.html\">Link</a>"
      ],
      "text/plain": [
       "<IPython.core.display.Markdown object>"
      ]
     },
     "metadata": {},
     "output_type": "display_data"
    },
    {
     "name": "stdout",
     "output_type": "stream",
     "text": [
      "\n",
      "\n",
      "\u001b[1m\u001b[32mEXPANSION\u001b[0m\n",
      "\u001b[1m\u001b[30mTue, 30 Jun 2020 00:49:28 +0200\u001b[0m\n",
      "\u001b[1m\u001b[35mKlarna, la mayor 'fintech' de Europa, aterriza en España\u001b[0m\n",
      "\u001b[34mHeadline\u001b[0m\n",
      "La 'start up' sueca lanza su plataforma de pagos a través de Internet de la mano de Michael Kors.\n",
      "\u001b[34mSummarise\u001b[0m\n",
      "\u001b[31mPremium Content\u001b[0m\n",
      "\u001b[34mText\u001b[0m\n",
      "La 'start up' sueca lanza su plataforma de pagos a través de Internet de la mano de Michael Kors. La mayor fintech de Europa pone sus ojos en España. La start up sueca Klarna lanzará a finales de julio en nuestro país su plataforma de financiación al consumo, que permite financiar las compras directamente desde la web de una tienda.\n",
      "Para este la Para seguir leyendo, hágase Premium ¿Ya es Premium? Inicie sesión Mensual primer mes después 14,99€   Anual primer mes después 7,50€/mes (Pago único de 90€)\n",
      " 4 meses gratis  Descubra qué es Premium   Cancele cuando quiera    Consulte los términos y condiciones del servicio  \n"
     ]
    },
    {
     "data": {
      "text/html": [
       "<img src=\"https://e00-expansion.uecdn.es/assets/multimedia/imagenes/2020/06/29/15934601065664.jpg\" width=\"500\"/>"
      ],
      "text/plain": [
       "<IPython.core.display.Image object>"
      ]
     },
     "metadata": {},
     "output_type": "display_data"
    },
    {
     "data": {
      "text/markdown": [
       "<a href=\"https://www.expansion.com/empresas/banca/2020/06/30/5efa5b5c468aeb32558b45ba.html\">Link</a>"
      ],
      "text/plain": [
       "<IPython.core.display.Markdown object>"
      ]
     },
     "metadata": {},
     "output_type": "display_data"
    },
    {
     "name": "stdout",
     "output_type": "stream",
     "text": [
      "\n",
      "\n",
      "\u001b[1m\u001b[32mEXPANSION\u001b[0m\n",
      "\u001b[1m\u001b[30mTue, 30 Jun 2020 00:37:16 +0200\u001b[0m\n",
      "\u001b[1m\u001b[35mSantander alerta de una exposición de 600 millones a la quiebra de la aerolínea chilena Latam\u001b[0m\n",
      "\u001b[34mHeadline\u001b[0m\n",
      "La filial chilena, con un riesgo de 490 millones, y la matriz española, con otros 125 millones, se sitúan entre los seis mayores acreedores sin garantías.\n",
      "\u001b[34mSummarise\u001b[0m\n",
      "\u001b[31mPremium Content\u001b[0m\n",
      "\u001b[34mText\u001b[0m\n",
      "La filial chilena, con un riesgo de 490 millones, y la matriz española, con otros 125 millones, se sitúan entre los seis mayores acreedores sin garantías. Santander alerta contra la factura que la recesión económica provocada por el coronavirus está pasando a su negocio, en esta ocasión, en Chile. Tras el aviso lanzado hace mes y medio sobre el impacto de la pandemia en sus filiales mexicana y estadoun Para seguir leyendo, hágase Premium ¿Ya es Premium? Inicie sesión Mensual primer mes después 14,99€   Anual primer mes después 7,50€/mes (Pago único de 90€)\n",
      " 4 meses gratis  Descubra qué es Premium   Cancele cuando quiera    Consulte los términos y condiciones del servicio  \n"
     ]
    },
    {
     "data": {
      "text/html": [
       "<img src=\"https://e00-expansion.uecdn.es/assets/multimedia/imagenes/2020/06/29/15934553928513.jpg\" width=\"500\"/>"
      ],
      "text/plain": [
       "<IPython.core.display.Image object>"
      ]
     },
     "metadata": {},
     "output_type": "display_data"
    },
    {
     "data": {
      "text/markdown": [
       "<a href=\"https://www.expansion.com/empresas/banca/2020/06/29/5efa359ce5fdea37498b45df.html\">Link</a>"
      ],
      "text/plain": [
       "<IPython.core.display.Markdown object>"
      ]
     },
     "metadata": {},
     "output_type": "display_data"
    },
    {
     "name": "stdout",
     "output_type": "stream",
     "text": [
      "\n",
      "\n",
      "\u001b[1m\u001b[32mEXPANSION\u001b[0m\n",
      "\u001b[1m\u001b[30mTue, 30 Jun 2020 00:12:48 +0200\u001b[0m\n",
      "\u001b[1m\u001b[35mWirecard se dispara un 154% por el interés del capital riesgo en sus activos\u001b[0m\n",
      "\u001b[34mHeadline\u001b[0m\n",
      "También sobrevuela la compañía el gigante francés Worldline, que en febrero adquirió Ingenico, competidor directo, en una operación valorada en 7.800 millones de euros.\n",
      "\u001b[34mSummarise\u001b[0m\n",
      "\u001b[31mPremium Content\u001b[0m\n",
      "\u001b[34mText\u001b[0m\n",
      "También sobrevuela la compañía el gigante francés Worldline, que en febrero adquirió Ingenico, competidor directo, en una operación valorada en 7.800 millones de euros. La quiebra de Wirecard ha despertado el apetito del capital riesgo por parte de sus activos. La firma alemana, que se dedica a liquidar pagos electrónicos de ecommerce con los bancos, es una de las grandes a nivel europeo y llegó a valer en Bolsa 25. Para seguir leyendo, hágase Premium ¿Ya es Premium? Inicie sesión Mensual primer mes después 14,99€   Anual primer mes después 7,50€/mes (Pago único de 90€)\n",
      " 4 meses gratis  Descubra qué es Premium   Cancele cuando quiera    Consulte los términos y condiciones del servicio  \n"
     ]
    },
    {
     "data": {
      "text/html": [
       "<img src=\"https://e00-expansion.uecdn.es/assets/multimedia/imagenes/2020/06/29/15934561524674.jpg\" width=\"500\"/>"
      ],
      "text/plain": [
       "<IPython.core.display.Image object>"
      ]
     },
     "metadata": {},
     "output_type": "display_data"
    },
    {
     "data": {
      "text/markdown": [
       "<a href=\"https://www.expansion.com/empresas/banca/2020/06/30/5efa3a4ce5fdeafd728b45fa.html\">Link</a>"
      ],
      "text/plain": [
       "<IPython.core.display.Markdown object>"
      ]
     },
     "metadata": {},
     "output_type": "display_data"
    },
    {
     "name": "stdout",
     "output_type": "stream",
     "text": [
      "\n",
      "\n",
      "\u001b[1m\u001b[32mEXPANSION\u001b[0m\n",
      "\u001b[1m\u001b[30mMon, 29 Jun 2020 16:17:34 +0200\u001b[0m\n",
      "\u001b[1m\u001b[35mSoftBank obtendrá una plusvalía de 5.000 millones con la venta de su participación en T-Mobile\u001b[0m\n",
      "\u001b[34mHeadline\u001b[0m\n",
      "El grupo dirigido por Masayoshi Son había adelantado el pasado 23 de junio su intención de desprenderse del 65% de su participación en T-Mobile.\n",
      "\u001b[34mSummarise\u001b[0m\n",
      "El conglomerado japonés SoftBank espera contabilizar una plusvalía de 600.000 millones de yenes (4.952 millones de euros) por la venta de 198,3 millones de acciones de T-Mobile US, el equivalente a dos terceras partes de su participación en la operadora estadounidense, tras lo que la compañía llevará a cabo una recompra de bonos de hasta 200.000 millones de yenes (1.650 millones de euros) para reducir su endeudamiento.\n",
      "El grupo dirigido por Masayoshi Son había adelantado el pasado 23 de junio su intención de desprenderse del 65% de su participación en T-Mobile US en una operación valorada en unos 21.000 millones de dólares (18.623 millones de euros) que fue completada el pasado viernes.\n",
      "\u001b[34mText\u001b[0m\n",
      "El grupo dirigido por Masayoshi Son había adelantado el pasado 23 de junio su intención de desprenderse del 65% de su participación en T-Mobile. El conglomerado japonés SoftBank espera contabilizar una plusvalía de 600.000 millones de yenes (4.952 millones de euros) por la venta de 198,3 millones de acciones de T-Mobile US, el equivalente a dos terceras partes de su participación en la operadora estadounidense, tras lo que la compañía llevará a cabo una recompra de bonos de hasta 200.000 millones de yenes (1.650 millones de euros) para reducir su endeudamiento.   \"Esta plusvalía consiste de la ganancia por la venta de acciones y la revaluación del valor de las acciones que continúa ostentando SoftBank Group\", precisó la compañía.   El grupo dirigido por Masayoshi Son había adelantado el pasado 23 de junio su intención de desprenderse del 65% de su participación en T-Mobile US en una operación valorada en unos 21.000 millones de dólares (18.623 millones de euros) que fue completada el pasado viernes.   Asimismo, el grupo nipón ha informado de que entre el 30 de junio y el 17 de julio de 2020 llevará a cabo la recompra de un máximo de 200.000 millones de yenes en deuda subordinada no garantizada de la compañía.   La semana pasada, la compañía japonesa anunció que invertirá hasta 500.000 millones de yenes (4.151 millones de euros) en la recompra de un máximo de 115 millones de acciones de la compañía entre el 26 de junio de 2020 y el 31 de marzo de 2021 como parte del plan para reducir sus activos en 4,5 billones de yenes (38.834 millones de euros) con el objetivo de rebajar su nivel de deuda y aumentar sus reservas de liquidez. \n"
     ]
    },
    {
     "data": {
      "text/html": [
       "<img src=\"https://e00-expansion.uecdn.es/assets/multimedia/imagenes/2020/06/29/15934401759376.jpg\" width=\"500\"/>"
      ],
      "text/plain": [
       "<IPython.core.display.Image object>"
      ]
     },
     "metadata": {},
     "output_type": "display_data"
    },
    {
     "data": {
      "text/markdown": [
       "<a href=\"https://www.expansion.com/empresas/banca/2020/06/29/5ef9f7f3468aebd0768b45d9.html\">Link</a>"
      ],
      "text/plain": [
       "<IPython.core.display.Markdown object>"
      ]
     },
     "metadata": {},
     "output_type": "display_data"
    },
    {
     "name": "stdout",
     "output_type": "stream",
     "text": [
      "\n",
      "\n",
      "\u001b[1m\u001b[32mEXPANSION\u001b[0m\n",
      "\u001b[1m\u001b[30mMon, 29 Jun 2020 12:02:29 +0200\u001b[0m\n",
      "\u001b[1m\u001b[35mLa banca europea clausurará 40.000 sucursales o el 25% de su red en tres años\u001b[0m\n",
      "\u001b[34mHeadline\u001b[0m\n",
      "La banca europea clausurará 40.000 sucursales o el 25% de su red en los próximos tres años ante el menor rol que las oficinas van a tener para los clientes a tenor del avance de la adopción digital en el sector financiero, acelerado por el efecto del confinamiento durante la pandemia del Covid-19.\n",
      "\u001b[34mSummarise\u001b[0m\n",
      "La banca europea clausurará 40.000 sucursales o el 25% de su red en los próximos tres años ante el menor rol que las oficinas van a tener para los clientes a tenor del avance de la adopción digital en el sector financiero, acelerado por el efecto del confinamiento durante la pandemia del Covid-19.\n",
      "Según Kearney, el 70% de las operaciones bancarias más comunes en Europa se realizará online en tres años y los contact centers digitales \"se convertirán en el primer punto de contacto de los clientes de la banca\".\n",
      "\u001b[34mText\u001b[0m\n",
      "La banca europea clausurará 40.000 sucursales o el 25% de su red en los próximos tres años ante el menor rol que las oficinas van a tener para los clientes a tenor del avance de la adopción digital en el sector financiero, acelerado por el efecto del confinamiento durante la pandemia del Covid-19. Se trata de una de las principales conclusiones del 'Radar de la Banca Europea' que elabora anualmente la consultora y cuya última edición ha divulgado este lunes. Se trataría de acelerar un proceso que ya ha venido protagonizando el sector en los últimos años. Solo entre 2009 y 2019 el número de sucursales ha caído desde 240.000 a 165.000 en toda Europa.  El estudio prevé que el ajuste varíe según el país, ya que en los últimos años algunos mercados ya han recortado significativamente el número de sucursales, y espera que las sucursales bancarias cuenten principalmente con asesores altamente cualificados para centrarse en productos más complejos, como hipotecas, seguros de vida, pensiones y asesoramiento de inversiones.  Buena parte del nuevo ajuste en la red de sucursales vendrá influído por la necesidad de economizar costes para encarar la crisis provocada por el Covid-19. La consultora cree que la banca española necesita ajustar sus costes entre 2.000 y 3.000 millones de euros, y el conjunto de la banca europea se enfrenta al reto de reducir los suyos \"en más de 35.000 millones de euros para aminorar el efecto de la crisis desencadenada por la pandemia\".  Pero igualmente valorar la aceleración en la digitalización de servicios financieros y hábitos de los clientes con el confinamiento. Según Kearney, el 70% de las operaciones bancarias más comunes en Europa se realizará online en tres años y los contact centers digitales \"se convertirán en el primer punto de contacto de los clientes de la banca\".  Conforme a sus estimaciones, en la actualidad un 53% de los europeos acude a internet para informarse y adquirir productos y servicios bancarios y la cifra subirá al 65% en el año 2025. En el caso de las operaciones como aperturas de cuentas bancarias, créditos de consumo o solicitudes de las tarjetas de crédito, se estima que el 70% de las mismas se realizará online en los próximos tres años.  Según el presidente de Kearney en España, Pedro Mateache, los consumidores \"han demostrado que pueden interactuar con los bancos de forma digital\" con el confinamiento y esto supone \"una gran oportunidad para el sector financiero de avanzar en la digitalización de sus servicios, especialmente desde la perspectiva de revisar y mejorar sus procesos de experiencia del cliente\".  A la vez que la sucursal tendrá tendencia a mutar hacia un espacio con gestores especializados, la consultora cree que, en un futuro, \"muchos clientes que aún desean hablar con alguien en persona serán más propensos a utilizar el servicio de atención al cliente, ya sea a través de webchat, vídeollamadas, chatbots o por teléfono, que visitar una sucursal\".  Así los call centers podrían convertirse en el \"punto de contacto clave para los clientes de futuro\", al ofrecer una combinación entre acceso remoto y contacto personal, pudiendo asumir consultas más complejas y dar soporte adicional al canal online. \n"
     ]
    },
    {
     "data": {
      "text/html": [
       "<img src=\"https://e00-expansion.uecdn.es/assets/multimedia/imagenes/2020/06/29/15934248264297.jpg\" width=\"500\"/>"
      ],
      "text/plain": [
       "<IPython.core.display.Image object>"
      ]
     },
     "metadata": {},
     "output_type": "display_data"
    },
    {
     "data": {
      "text/markdown": [
       "<a href=\"https://www.expansion.com/empresas/banca/2020/06/29/5ef9bc29e5fdea35248b45df.html\">Link</a>"
      ],
      "text/plain": [
       "<IPython.core.display.Markdown object>"
      ]
     },
     "metadata": {},
     "output_type": "display_data"
    },
    {
     "name": "stdout",
     "output_type": "stream",
     "text": [
      "\n",
      "\n",
      "\u001b[1m\u001b[32mEXPANSION\u001b[0m\n",
      "\u001b[1m\u001b[30mMon, 29 Jun 2020 11:38:10 +0200\u001b[0m\n",
      "\u001b[1m\u001b[35mEl Banco de España 'congela' el colchón anticíclico hasta que el impacto del Covid se disipe\u001b[0m\n",
      "\u001b[34mHeadline\u001b[0m\n",
      "El Banco de España ha decidido no activar el colchón anticíclico que podía exigir a las entidades por su exposición crediticia ante la situación creada por el Covid-19 y lo mantendrá así \"por un período de tiempo prolongado\" o, al menos, \"hasta que los principales efectos económicos y financieros derivados de la crisis del coronavirus se hayan disipado y se haya retornado a una senda de recuperación\".\n",
      "\u001b[34mSummarise\u001b[0m\n",
      "El Banco de España ha decidido no activar el colchón anticíclico que podía exigir a las entidades por su exposición crediticia ante la situación creada por el Covid-19 y lo mantendrá así \"por un período de tiempo prolongado\" o, al menos, \"hasta que los principales efectos económicos y financieros derivados de la crisis del coronavirus se hayan disipado y se haya retornado a una senda de recuperación\".\n",
      "En la actual coyuntura el Banco de España detalla que la provisión de crédito a la economía real por parte de las entidades de crédito \"es una parte esencial de la estrategia para mitigar el impacto de la perturbación del coronavirus y asegurar que la reactivación económica se produce de la forma más rápida posible\".\n",
      "\u001b[34mText\u001b[0m\n",
      "El Banco de España ha decidido no activar el colchón anticíclico que podía exigir a las entidades por su exposición crediticia ante la situación creada por el Covid-19 y lo mantendrá así \"por un período de tiempo prolongado\" o, al menos, \"hasta que los principales efectos económicos y financieros derivados de la crisis del coronavirus se hayan disipado y se haya retornado a una senda de recuperación\". La decisión comunicada por el organismo este lunes tiene lugar después de que a finales del pasado año abriese la puerta precisamente a lo contrario, a requerir a las entidades acopiar provisiones y hacer hucha a la luz del comportamiento del crédito y sector inmobiliario.  Sin embargo, la situación creada por la pandemia ha decidido a las autoridades supervisoras y reguladoras precisamente a aliviar la carga de capital y liquidez a los bancos para que se vuelquen en ayudar a la reactivación, con la provisión de financiación que necesitan empresas y familias.  El colchón anticíclico es un instrumento macroprudencial por el que los supervisores pueden demandar acopiar recursos propios durante períodos expansivos a fin de que puedan ser liberado durante una fase subsiguiente de contracción. Al acumular recursos se refuerza la solvencia del sector durante las fases de crecimiento, que es cuando habitualmente se produce una acumulación de riesgos, y ayuda a mitigar la disminución del flujo de crédito nuevo a la economía cuando dichos riesgos se materializan.  En la actual coyuntura el Banco de España detalla que la provisión de crédito a la economía real por parte de las entidades de crédito \"es una parte esencial de la estrategia para mitigar el impacto de la perturbación del coronavirus y asegurar que la reactivación económica se produce de la forma más rápida posible\".  Si bien es una decisión que revisa de manera trimestral, el organismo prevé que continuarán 'congelado' en el 0% o no que reclamará la construcción de este colchón \"durante los próximos trimestres\".  Para evaluar si procede o no ponerlo en marcha, el organismo monitoriza un conjunto de indicadores macroeconómicos, que en la situación creada por el Covid-19 cree que podrían dar signos contradictorios por el impacto de la pandemia y las medidas que se están adoptando para mitigarlo. Por ello, avanza que prestará atención especial a otro tipo de indicadores como el de Riesgo Sistémico, que permite realizar un seguimiento en tiempo real del nivel estimado de las tensiones sistémicas en los mercados financieros. Este indicador repuntó bruscamente en España tras el estallido de la crisis y actualmente se encuentra estabilizado en niveles que sugieren un alto grado de estrés macrofinanciero, al igual que ocurre en el resto de países de nuestro entorno, detalló. \n"
     ]
    },
    {
     "data": {
      "text/html": [
       "<img src=\"https://e00-expansion.uecdn.es/assets/multimedia/imagenes/2020/06/29/15934233884379.jpg\" width=\"500\"/>"
      ],
      "text/plain": [
       "<IPython.core.display.Image object>"
      ]
     },
     "metadata": {},
     "output_type": "display_data"
    },
    {
     "data": {
      "text/markdown": [
       "<a href=\"https://www.expansion.com/empresas/banca/2020/06/29/5ef9b678e5fdea853c8b4626.html\">Link</a>"
      ],
      "text/plain": [
       "<IPython.core.display.Markdown object>"
      ]
     },
     "metadata": {},
     "output_type": "display_data"
    },
    {
     "name": "stdout",
     "output_type": "stream",
     "text": [
      "\n",
      "\n",
      "\u001b[1m\u001b[32mEXPANSION\u001b[0m\n",
      "\u001b[1m\u001b[30mMon, 29 Jun 2020 10:37:07 +0200\u001b[0m\n",
      "\u001b[1m\u001b[35mAndbank se alía con Inveready para ofrecer fondos de capital riesgo a sus clientes\u001b[0m\n",
      "\u001b[34mHeadline\u001b[0m\n",
      "El banco contará con un periodo de exclusividad en la comercialización de aquellos proyectos de inversión de Inveready que considere que pueden aportar valor a las carteras de los clientes de banca privada.\n",
      "\u001b[34mSummarise\u001b[0m\n",
      "El banco contará con un periodo de exclusividad en la comercialización de aquellos proyectos de inversión de Inveready que considere que pueden aportar valor a las carteras de los clientes de banca privada.\n",
      "Andbank España e Inveready han llegado a un acuerdo por el cual la sociedad gestora ofrecerá a los clientes de Andbank la inversión en los fondos de capital riesgo gestionados por Inveready.\n",
      "Andbank España contará con un periodo de exclusividad en la comercialización de aquellos proyectos de inversión de Inveready que considere que pueden aportar valor a las carteras de los clientes.\n",
      "\u001b[34mText\u001b[0m\n",
      "El banco contará con un periodo de exclusividad en la comercialización de aquellos proyectos de inversión de Inveready que considere que pueden aportar valor a las carteras de los clientes de banca privada. Andbank España e Inveready han llegado a un acuerdo por el cual la sociedad gestora ofrecerá a los clientes de Andbank la inversión en los fondos de capital riesgo gestionados por Inveready. Andbank España contará con un periodo de exclusividad en la comercialización de aquellos proyectos de inversión de Inveready que considere que pueden aportar valor a las carteras de los clientes. Andbank España lleva varios años distribuyendo con gran éxito oportunidades de inversión de Inveready en sus centros de banca privada. Entre ellos se encuentran: el fondo Inveready Convertible Finance, el Inveready First Capital III o Gaea Inversión. \"En nuestra génesis como gestora estaba democratizar el acceso al capital riesgo. Andbank es una de las bancas privadas pioneras en este aspecto, compartiendo esta visión al ofrecer a sus clientes este tipo de activo para descorrelacionar sus carteras y obtener retornos atractivos a largo plazo\", socio general de Inveready, Josep Maria Echarri. Por su parte, Carlos Aso, consejero delegado de Andbank España, considera que \"incrementar nuestras alianzas con la mejor gestora de venture capital nos permitirá ofrecer oportunidades de inversión únicas y exclusivas a nuestros clientes\" Inveready invierte en empresas de base tecnológica con diferentes estrategias de inversión: venture capital en tecnología digital, venture capital en ciencias de la salud, venture debt y obligaciones convertibles para empresas cotizadas en mercados alternativos europeos.  Andbank España, que cerró 2019 con un volumen de negocio de 10.600 millones de euros, cuenta en la actualidad con una red de 19 centros de banca privada, 105 agentes financieros y 60 contratos con ESIs. \n"
     ]
    },
    {
     "data": {
      "text/html": [
       "<img src=\"https://e00-expansion.uecdn.es/assets/multimedia/imagenes/2020/06/29/15934193265688.jpg\" width=\"500\"/>"
      ],
      "text/plain": [
       "<IPython.core.display.Image object>"
      ]
     },
     "metadata": {},
     "output_type": "display_data"
    },
    {
     "data": {
      "text/markdown": [
       "<a href=\"https://www.expansion.com/catalunya/2020/06/29/5ef9a827e5fdea37498b45b4.html\">Link</a>"
      ],
      "text/plain": [
       "<IPython.core.display.Markdown object>"
      ]
     },
     "metadata": {},
     "output_type": "display_data"
    },
    {
     "name": "stdout",
     "output_type": "stream",
     "text": [
      "\n",
      "\n"
     ]
    }
   ],
   "source": [
    "yesterday = datetime.datetime.today() - datetime.timedelta(days=1)\n",
    "before_yes = datetime.datetime.today() - datetime.timedelta(days=2)\n",
    "\n",
    "for i in list(expansion.keys()):\n",
    "    if expansion[i]['date']['date2'][2] in [datetime.datetime.today().day,yesterday.day,before_yes.day]:\n",
    "        print(colored((expansion[i]['newspaper']).upper(),'green',attrs=['bold']))\n",
    "        print(colored(expansion[i]['date']['date1'],'grey',attrs=['bold']))\n",
    "        print(colored(expansion[i]['title'],'magenta',attrs=['bold']))\n",
    "        print(colored('Headline','blue'))\n",
    "        print(expansion[i]['headline'])\n",
    "        print(colored('Summarise','blue'))\n",
    "        \n",
    "        if expansion[i]['summarise'] != 'Premium Content':\n",
    "            print(expansion[i]['summarise'])\n",
    "        else:\n",
    "            print(colored(expansion[i]['summarise'],'red'))\n",
    "        print(colored('Text','blue'))\n",
    "        print(expansion[i]['text'])\n",
    "        url = expansion[i]['img']\n",
    "        display(Image(url=url,width=500))\n",
    "        display(Markdown('<a href=\"'+expansion[i]['link']+'\">Link</a>'))\n",
    "        print('\\n')"
   ]
  },
  {
   "cell_type": "code",
   "execution_count": null,
   "metadata": {},
   "outputs": [],
   "source": []
  }
 ],
 "metadata": {
  "kernelspec": {
   "display_name": "Python 3",
   "language": "python",
   "name": "python3"
  },
  "language_info": {
   "codemirror_mode": {
    "name": "ipython",
    "version": 3
   },
   "file_extension": ".py",
   "mimetype": "text/x-python",
   "name": "python",
   "nbconvert_exporter": "python",
   "pygments_lexer": "ipython3",
   "version": "3.7.6"
  }
 },
 "nbformat": 4,
 "nbformat_minor": 4
}
