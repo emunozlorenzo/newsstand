{
 "cells": [
  {
   "cell_type": "markdown",
   "metadata": {},
   "source": [
    "# RSS: Economista"
   ]
  },
  {
   "cell_type": "markdown",
   "metadata": {},
   "source": [
    "## 1. Import Libraries"
   ]
  },
  {
   "cell_type": "code",
   "execution_count": 46,
   "metadata": {},
   "outputs": [],
   "source": [
    "import feedparser\n",
    "from gensim.summarization.summarizer import summarize\n",
    "from gensim.summarization import keywords\n",
    "import urllib.request\n",
    "from urllib.request import urlopen\n",
    "from bs4 import BeautifulSoup\n",
    "import requests\n",
    "import googletrans\n",
    "import datetime\n",
    "from termcolor import colored\n",
    "from IPython.display import display, Markdown, Latex, HTML\n",
    "import re\n",
    "from IPython.display import Image\n",
    "import urllib"
   ]
  },
  {
   "cell_type": "code",
   "execution_count": 37,
   "metadata": {},
   "outputs": [],
   "source": [
    "def get_only_text1(url):\n",
    "    \n",
    "    \"\"\"\n",
    "    return the title and the text of the article at the \n",
    "    specified url\n",
    "    \"\"\"\n",
    "    \n",
    "    page=urlopen(url)\n",
    "    soup=BeautifulSoup(page,\"html.parser\")\n",
    "    text=' '.join(map(lambda p: p.text, soup.find_all('p')))\n",
    "    # Eliminar Última Hora\n",
    "    rest = soup.find_all('p', attrs={'class' : \"line-clamp_x2 ue-c-widget__article-headline\"})[0].text\n",
    "    index = text.find(rest)\n",
    "    final_text = text[:index]\n",
    "    return [final_text,soup.title.text]\n",
    "\n",
    "def get_only_text(url):\n",
    "    \n",
    "    \"\"\"\n",
    "    return the title and the text of the article at the \n",
    "    specified url\n",
    "    \"\"\"\n",
    "    \n",
    "    page=urlopen(url)\n",
    "    soup=BeautifulSoup(page,\"html.parser\")\n",
    "    text=' '.join(map(lambda p: p.text, soup.find_all('p')))\n",
    "    return [text,soup.title.text]\n",
    "\n",
    "def find_between( s, first, last ):\n",
    "    try:\n",
    "        start = s.index( first ) + len( first )\n",
    "        end = s.index( last, start )\n",
    "        return s[start:end]\n",
    "    except ValueError:\n",
    "        return \"\""
   ]
  },
  {
   "cell_type": "code",
   "execution_count": 79,
   "metadata": {},
   "outputs": [],
   "source": [
    "def economista_news(economista_entries,word_count=100):\n",
    "    economista = {}\n",
    "    for i in range(len(economista_entries)):\n",
    "        noticia = {'newspaper':None,'title':None,'headline':None,'summarise':None,'date':None,'link':None,'text':None,'current_date':None,'img':None,'premium':None}\n",
    "        # Periodico\n",
    "        noticia['newspaper'] = find_between(s=economista_entries[i]['id'], first='www.el', last='.' )\n",
    "        # Title\n",
    "        noticia['title'] = economista_entries[i]['title']\n",
    "        # Headline\n",
    "        headline =  re.sub(pattern='&quot;',repl='\"',string=economista_entries[i]['summary_detail']['value'])\n",
    "        noticia['headline'] = headline\n",
    "        # Date\n",
    "        noticia['date'] = {'date1':economista_entries[i]['published'],'date2':economista_entries[i]['published_parsed']}\n",
    "        # Link\n",
    "        noticia['link'] = economista_entries[i]['id']\n",
    "        # Text\n",
    "        text = get_only_text(economista_entries[i]['id'])[0][len(headline)+1:]\n",
    "        noticia['text'] = text\n",
    "        # Summarise\n",
    "        noticia['summarise'] = summarize(text, word_count=word_count)\n",
    "        # Current Date\n",
    "        noticia['current_date'] = datetime.datetime.now().timetuple()\n",
    "        # Image\n",
    "        noticia['img'] = None\n",
    "        economista.update({'Noticia'+'_'+str(\"%02d\")%(i+1):noticia})\n",
    "    return economista"
   ]
  },
  {
   "cell_type": "markdown",
   "metadata": {},
   "source": [
    "## 2. RSS Economista"
   ]
  },
  {
   "cell_type": "code",
   "execution_count": 80,
   "metadata": {},
   "outputs": [
    {
     "name": "stdout",
     "output_type": "stream",
     "text": [
      "Total Entradas Economista: 20\n"
     ]
    }
   ],
   "source": [
    "url_economista = 'https://www.eleconomista.es/rss/rss-empresas.php'\n",
    "economista = feedparser.parse(url_economista)\n",
    "economista_entries = economista['entries']\n",
    "\n",
    "print('Total Entradas Economista:',len(economista_entries))"
   ]
  },
  {
   "cell_type": "code",
   "execution_count": 81,
   "metadata": {},
   "outputs": [],
   "source": [
    "economista = economista_news(economista_entries,word_count=100)"
   ]
  },
  {
   "cell_type": "code",
   "execution_count": 82,
   "metadata": {},
   "outputs": [
    {
     "name": "stdout",
     "output_type": "stream",
     "text": [
      "\u001b[1m\u001b[32mECONOMISTA\u001b[0m\n",
      "\u001b[1m\u001b[30mTue, 07 Jul 2020 21:57:50 +0200\u001b[0m\n",
      "\u001b[1m\u001b[35mEl Gobierno moviliza 1.773 millones más para ayudar al transporte\u001b[0m\n",
      "\u001b[34mHeadline\u001b[0m\n",
      "El Consejo de Ministros aprobó ayer el Real Decreto que el transporte de mercancías y pasajeros por carretera llevaba semanas esperando. Aunque los detalles publicados de las ayudas a \"la reactivación económica\" no cubren ni de lejos las medidas solicitadas por las patronales para asegurar la supervivencia del sector, sí que recogen una de las principales demandas: el aplazamiento de las cuotas de renting o leasing de los vehículos. El texto, presentado por el ministro José Luis Ábalos, también incluye un balón de oxigeno para Renfe y Seittsa y  medidas de alivio el sector portuario, elevando el presupuesto de este nuevo plan a los 1.773 millones.\n",
      "\u001b[34mSummarise\u001b[0m\n",
      "El texto, presentado por el ministro José Luis Ábalos, también incluye un balón de oxigeno para Renfe y Seittsa y  medidas de alivio el sector portuario, elevando el presupuesto de este nuevo plan a los 1.773 millones.\n",
      "Más allá de las ayudas económicas, el decreto incluye otros dos ejes: medidas para proteger la salud de los trabajadores y viajeros garantizando la disponibilidad de los vienes y servicios esenciales y para \"reducir las cargas administrativas simplificando los procedimientos y trámites para la reactivación\", explicó Ábalos en la rueda de prensa posterior al Consejo de Ministros, en la que especificó que se amplía tres meses la vigencia de las ITVs.\n",
      "\u001b[34mText\u001b[0m\n",
      "El Consejo de Ministros aprobó ayer el Real Decreto que el transporte de mercancías y pasajeros por carretera llevaba semanas esperando. Aunque los detalles publicados de las ayudas a \"la reactivación económica\" no cubren ni de lejos las medidas solicitadas por las patronales para asegurar la supervivencia del sector, sí que recogen una de las principales demandas: el aplazamiento de las cuotas de renting o leasing de los vehículos. El texto, presentado por el ministro José Luis Ábalos, también incluye un balón de oxigeno para Renfe y Seittsa y  medidas de alivio el sector portuario, elevando el presupuesto de este nuevo plan a los 1.773 millones. Así, las ayudas para garantizar la liquidez de las empresa de transporte del sector privado se centran en aprobar moratorias en los pagos de los leasing, renting o cualquier tipo de crédito vinculado a la adquisición de vehículos de mercancías de más de 3,5 toneladas y autobuses de transporte discrecional, uno de los sectores que más sufre la crisis. \"Esta medida permitiría un aplazamiento de hasta 250 millones de euros para el transporte discrecional de viajeros y de hasta 330 millones en el caso de mercancías\", señala el Ministerio. También se han aprobado medidas para el reequilibrio de las concesiones de las líneas de autobús interurbano de competencia estatal. Las compañías tendrán que demostrar las pérdidas causadas por el coronavirus (caída de ingresos y mayores gastos por la limpieza y seguridad), eliminando de la cuenta los ahorros generados por los Erte y las expediciones anuladas. Este reequilibrio está valorado en 14 millones. En este punto, Ábalos ha recordado que las concesiones de obra pública y autopistas también tienen derecho a un ajuste de sus contratos si acreditan pérdidas por la pandemia.  En cuando a las empresas públicas, ha elevado la capacidad de endeudamiento de Renfe para que pueda captar liquidez en el mercado y músculo financiero con el que recuperar la actividad con más solvencia y velocidad, tal y como adelantó este diario. \"La norma aumenta la capacidad de endeudamiento de Renfe hasta los 1.000 millones, con el fin de compensar la caída de demanda e impulsar la recuperación de servicios\", señala Transportes en un comunicado, en el que también explica que se van a aportar 110 millones de euros extra a Seittsa \"para que pueda atender sus compromisos de obras públicas en el medio plazo\". Las medidas también incluyen recortes en las tasas portuarias por 63 millones, que se añaden a las medidas ya aprobadas para el sector por 250 millones. \"Estos fondos se suman a los 800 millones ya comprometidos y destinados al transporte público en las comunidades autónomas\", explica Ábalos, que todavía tiene pendiente aclarar qué pasa con los autobuses de la EMT. Más allá de las ayudas económicas, el decreto incluye otros dos ejes: medidas para proteger la salud de los trabajadores y viajeros garantizando la disponibilidad de los vienes y servicios esenciales y para \"reducir las cargas administrativas simplificando los procedimientos y trámites para la reactivación\", explicó Ábalos en la rueda de prensa posterior al Consejo de Ministros, en la que especificó que se amplía tres meses la vigencia de las ITVs. \"En lo que se refiere al sector aéreo, este decreto establece la obligatoriedad de las medidas que tomamos como recomendaciones de Agencia Europea de Seguridad Aérea (Easa) sobre las que se establecieron las directrices de seguridad para el transporte aéreo, bien en instalaciones aeroportuarias, bien en los aviones. Este decreto hace que sean obligatorias\", aseguró Ábalos, que, como ejemplo, señaló que va a estar prohibido que los viajeros entren a la terminal con acompañantes.  El Real Decreto también incluye un apartado para la vivienda. Además de las prórrogas a las ayudas al alquiler y la moratoria de hipotecas, que se podrán pedir hasta septiembre, y tendrán una duración de tres meses, Ábalos ha anunciado una modificación legal para poder ceder suelo público a coste cero a las empresas privadas para que construyan vivienda social para alquiler. \"El pago del canon tiene que ver con la limitación de esos alquileres sociales y esta disposición nos permite que el canon pueda llegar a ser cero. No tiene por qué ser cero, dependerá de los precios, de lo que se construya y dónde se construya. Pero nos permite, en un momento dado, que los constructores no tengan que pagarlo\", explicó Ábalos. La concesión de los suelos tendrá una duración máxima de 75 años y los promotores estarán obligados a mantener los edificios y gestionar los alquileres durante ese periodo.  El Ministerio de Transición Ecológica ha reivindicado como propia la propuesta de ampliar los plazos para el bono social, que ha sido adoptada en el Consejo de Ministros a propuesta de la vicepresidenta, Teresa Ribera. La medida ha formado parte de una ampliación del llamado escudo social del Gobierno, que ha sido presentado por el vicepresidente segundo, Pablo Iglesias, que asume así un paquete de medidas que tocan a varios. Pese a eso, la comunicación de la medida no ha recaído en el departamento de Asuntos Sociales, sino que ha sido el área de Teresa Ribera quién ha emitido la nota. Iglesias ha agradecido, por su parte, la colaboración de Ábalos, pero no ha citado a la vicepresidenta Ribera, que no participó en la rueda de prensa, pese a que se ha dado luz verde a otras dos importantes medidas en materia energética. La prórroga del bono social beneficiará a los 25.900 autónomos que se habían acogido a esta medida, así como a los más de 70.000 usuarios que tenían que renovar la prestación.   En el decreto se prorroga la prohibición de suspender el suministro de agua, energía eléctrica y gas en ningún domicilio que sea primera vivienda. Esta prohibición, habilitada durante el estado alarma, se amplía hasta el 30 de septiembre y no se podrán realizar cortes incluso aunque conste dicha posibilidad en los contratos suscritos. La prohibición de cortes en los suministros está dirigida exclusivamente a a la vivienda habitual de particulares, cuestión que el consumidor podrá acreditar a través de cualquier medio documental. Se amplía igualmente el periodo de tiempo por el que no computará a efectos de los plazos comprendidos entre el requerimiento fehaciente de pago y la suspensión de suministro. Por tanto, si el primer aviso de pago se ha producido desde el inicio del estado de alarma hasta el 30 de septiembre, los plazos que han de transcurrir hasta que se pueda cortar el suministro empezarán a contar el 1 de octubre. Por otro lado, el Consejo de Ministros ha autorizado la tramitación urgente de los reales decretos que regulan el nuevo régimen de subastas de energías renovables y el procedimiento y los criterios generales de acceso y conexión a las redes de transporte y distribución eléctricas. Con ello, el Gobierno agiliza la tramitación de sendas normas, que contribuyen a dotar de certidumbre y seguridad jurídica al marco normativo energético, preparándolo para el despliegue ordenado de energías renovables que vivirá el sistema energético español en los próximos años. Esta masiva penetración renovable -60 gigavatios hasta 2030- tendrá un efecto tractor sobre la cadena de valor industrial y la competitividad del país, generando actividad económica y empleo sostenible, en el contexto de la reactivación económica tras el covid para tratar de atraer una inversión de 90.000 millones. ¿No eres usuario?\n"
     ]
    },
    {
     "data": {
      "text/markdown": [
       "<a href=\"http://www.eleconomista.es/empresas-finanzas/noticias/10652978/07/20/El-Gobierno-moviliza-1773-millones-mas-para-ayudar-al-transporte-.html\">Link</a>"
      ],
      "text/plain": [
       "<IPython.core.display.Markdown object>"
      ]
     },
     "metadata": {},
     "output_type": "display_data"
    },
    {
     "name": "stdout",
     "output_type": "stream",
     "text": [
      "\n",
      "\n",
      "\u001b[1m\u001b[32mECONOMISTA\u001b[0m\n",
      "\u001b[1m\u001b[30mTue, 07 Jul 2020 21:36:35 +0200\u001b[0m\n",
      "\u001b[1m\u001b[35mLos puertos se 'vacían' de pasajeros y perderán el 15% de las mercancías\u001b[0m\n",
      "\u001b[34mHeadline\u001b[0m\n",
      "Aena ha reabierto la terminal 1 de Barajas, parte del Dique Longitudinal de El Prat y el módulo A de Palma ante el aumento de los vuelos internacionales. Así, mientras el número de operaciones aéreas diarias se ha triplicado desde que se reabrieron las fronteras, los puertos siguen cerrados a cal y canto a los cruceros.\n",
      "\u001b[34mSummarise\u001b[0m\n",
      "Al veto a los cruceros, publicado en el BOE el 27 de junio, se suma la decisión de Marruecos de mantener cerradas las fronteras con España, lo que obliga a cancelar la operación Paso del Estrecho; que el año pasado movió 3,34 millones de pasajeros y 760.215 vehículos, y el descenso de la demanda en los ferrys, que sí que operan.\n",
      "De momento, Costa Cruceros tiene pensado fletar un buque en agosto desde Italia, pero todavía no tiene definido el itinerario porque la actividad sigue muy restringida para el sector, que el año pasado movió 10,6 millones de pasajeros en España.\n",
      "\u001b[34mText\u001b[0m\n",
      "Aena ha reabierto la terminal 1 de Barajas, parte del Dique Longitudinal de El Prat y el módulo A de Palma ante el aumento de los vuelos internacionales. Así, mientras el número de operaciones aéreas diarias se ha triplicado desde que se reabrieron las fronteras, los puertos siguen cerrados a cal y canto a los cruceros. La decisión del Gobierno de extender sine die la prohibición a la entrada de \"los buques de pasaje de tipo crucero que realicen viajes internacionales\" pese al levantamiento del estado de alarma, deja en el aire la reactivación de una industria que en 2017, últimos datos disponibles, aportó 4.252 millones a la economía española y empleó a 31.322 personas. Además, la medida, que contempla excepciones a discreción de Marina Mercante, contribuye a mantener medio vacías las terminales de pasajeros, que cerraron mayo con 216.851 viajeros frente a los 2,8 millones registrados en el mismo mes de 2019.     Al veto a los cruceros, publicado en el BOE el 27 de junio, se suma la decisión de Marruecos de mantener cerradas las fronteras con España, lo que obliga a cancelar la operación Paso del Estrecho; que el año pasado movió 3,34 millones de pasajeros y 760.215 vehículos, y el descenso de la demanda en los ferrys, que sí que operan. Si se elimina a los cruceristas de las estadísticas, el tráfico de pasajeros cayó en mayo un 87%, pese al inicio de la desescalada. Puertos no se atreve a dar una estimación la evolución del tráfico para este año, que acumula un descenso del 56%, ni de cuándo se va a recuperar.  La decisión de restringir la entrada de turistas por mar afecta principalmente a puertos como el de Barcelona, Palma, Las Palmas y Valencia, que concentran el grueso de las escalas, y ha sentado como un jarro de agua fría en la industria, pese a que muchas compañías ya tenían previsto empezar a operar en el Mediterráneo en otoño y a que se espera que el arranque sea muy lento. La cuestión es que no tienen visibilidad sobre cuándo se van a abrir los puertos ni de las medidas de seguridad que se impondrán por parte del Gobierno, por lo que tienen problemas para preparar la desescalada. De momento, Costa Cruceros tiene pensado fletar un buque en agosto desde Italia, pero todavía no tiene definido el itinerario porque la actividad sigue muy restringida para el sector, que el año pasado movió 10,6 millones de pasajeros en España. Norwegian espera volver a operar en septiembre.  \"Estamos negociando con el Gobierno que se puedan reabrir los puertos a los cruceros en unas semanas. Aunque la industria ya ha puesto en marcha muchas medidas se seguridad, queremos poder adaptarnos a las que imponga el Ejecutivo para ir poco a poco retomando la actividad. La idea es primero gatear y luego andar para poder volver a correr, como en 2019. El sector es muy rentable, las reservas para 2021 van bien y se recuperará rápido\", explica Alfredo Serrano, presidente de la patronal de cruceros CLIA en nuestro país. Pero España no es el único país en el que no pueden entrar los buques. Los cruceros llevan parados desde que estalló la crisis y de momento siguen sin actividad en sus principales mercados -China, EEUU y Alemania-. Así, a mediados de junio Carnival, que ha perdido 4.400 millones de dólares en su segundo trimestre, reconoció que le era \"imposible predecir cuándo va a poder volver a las operaciones normales\". La crisis ya se ha llevado por delante a Pullmantur, que ha quebrado; ha obligado a Norwegian Cruise Line a pedir 1.850 millones de euros en créditos para garantizar su liquidez y ha llevado a Carnival a reducir su flota en seis barcos y retrasar las entregas previstas. Todas las compañías publican pérdidas milmillonarias. Además de los pasajeros, el tráfico de mercancías se ha visto fuertemente afectado por el coronavirus pese a ser una actividad esencial. Los últimos datos publicados por Puertos del Estado refleja una caída del 25% en el número de toneladas movidas en la red, lo que más que duplica el descenso registrado en abril. La sociedad estatal espera que la actividad siga a la baja lo que queda de año aunque confía en que la caída se modere y cerrar el ejercicio con un retroceso del 15% \"si la cosa no se tuerce\". De cara al año que viene se prevén subidas de doble dígito, aunque no se recuperarán los niveles de 2019 hasta 2022.  El tráfico de mercancías también se está viendo impactado por el cierre de las plantas de carbón y ya en 2019 se registró un descenso del 11% en graneles sólidos. Sólo en mayo de este año de pandemia, este tipo de mercancías ha descendido un 30%, más que la media, y en el acumulado del año retrocede un 19,5%. El tráfico total pierde el 10% en los cinco primeros meses. Así, junio también ha sido flojo y se espera un julio a la baja puesto que la demanda no se está recuperando. No en vano, el tráfico de mercancía por carretera cae el 30% ante el descenso de la demanda nacional e internacional, que ha llevado a romper los flujos de cargas y obligar a muchos camiones a realizar viajes en vacío. \"Los puertos son un reflejo de la economía y del comercio mundial y si la economía ha sufrido un revés y la demanda no termina de remontar al final se nota en el tránsito de mercancías\" En Algeciras, que principalmente se dedica al tránsito de contenedores, la caída que se registra en lo que va de año es del 4,8% debido a que la exportación ha contenido la caída de la actividad nacional. En los cinco primeros meses del año el descenso global del tráfico de contenedores (teus) es del 9,38% pero solo en mayo se ha desplomado un 22%. Por su parte Baleares registra un descenso del 31,7% del tráfico de mercancías, Tarragona del 23% y Barcelona del 17%. Bahía de Cádiz es el único que sube con un alza del 24% en los cinco primeros meses del año.  \"Los puertos son un reflejo de la economía y del comercio mundial y si la economía ha sufrido un revés y la demanda no termina de remontar al final se nota en el tránsito de mercancías\", explican fuentes de Puertos del Estados. La paralización de la red portuaria se va a traducir en un fuerte descenso de ingresos por la menor actividad y la reducción de las tasas y las moratorias. En total, han aprobado medidas para generar ahorros de 250 millones a navieras, terminales, etc. ¿No eres usuario?\n"
     ]
    },
    {
     "data": {
      "text/markdown": [
       "<a href=\"http://www.eleconomista.es/empresas-finanzas/noticias/10652947/07/20/Los-puertos-se-vacian-de-pasajeros-y-perderan-el-15-de-las-mercancias-.html\">Link</a>"
      ],
      "text/plain": [
       "<IPython.core.display.Markdown object>"
      ]
     },
     "metadata": {},
     "output_type": "display_data"
    },
    {
     "name": "stdout",
     "output_type": "stream",
     "text": [
      "\n",
      "\n",
      "\u001b[1m\u001b[32mECONOMISTA\u001b[0m\n",
      "\u001b[1m\u001b[30mTue, 07 Jul 2020 19:30:52 +0200\u001b[0m\n",
      "\u001b[1m\u001b[35mEl mercado del plástico reciclado duplicará su valor hasta el año 2027\u001b[0m\n",
      "\u001b[34mHeadline\u001b[0m\n",
      "Las empresas apuestan por potenciar el mercado del plástico reciclado, cuyo valor crecerá a un ritmo del 6,8% anual, desde los 30.000 millones de euros registrados en 2019 a los 53.000 millones previstos para 2027, según el informe La ambición empresarial para avanzar hacia la nueva economía de plásticos, presentado este martes por Forética.\n",
      "\u001b[34mSummarise\u001b[0m\n",
      "Las empresas apuestan por potenciar el mercado del plástico reciclado, cuyo valor crecerá a un ritmo del 6,8% anual, desde los 30.000 millones de euros registrados en 2019 a los 53.000 millones previstos para 2027, según el informe La ambición empresarial para avanzar hacia la nueva economía de plásticos, presentado este martes por Forética.\n",
      "Prevé también la introducción de un impuesto sobre los residuos plásticos, como el planteado por Bruselas, de 0,8 euros por kilo sobre los que no se reciclen, para fomentar la recuperación y la incorporación del plástico reciclado en el ciclo productivo industrial.\n",
      "\u001b[34mText\u001b[0m\n",
      "Las empresas apuestan por potenciar el mercado del plástico reciclado, cuyo valor crecerá a un ritmo del 6,8% anual, desde los 30.000 millones de euros registrados en 2019 a los 53.000 millones previstos para 2027, según el informe La ambición empresarial para avanzar hacia la nueva economía de plásticos, presentado este martes por Forética. El documento, que recoge las experiencias y las prácticas con relación al plástico de Endesa, ING, Vía Célere, Grupo Antolín, Saica, Nestlé, P&G, Ecoembes, Cereales Siro, Lafarge Holcim y Red Eléctrica de España, hace un detallado repaso a la coyuntura del mercado del plástico, las externalidades negativas de su mala gestión y las principales normas que lo regulan.     En la presentación del Informe han participado Daniel Calleja, director general de Medio Ambiente de la Comisión Europea, quien ha destacado el \"compromiso\" de la UE con la Economía Circular, e Ismael Aznar Cano, director general de Calidad y Evaluación Ambiental del Ministerio para la Transición Ecológica, quien se ha centrado en la reciente Estrategia española de Economía Circular y en la legislación que permitirá desarrollarla, como el Anteproyecto de Ley de residuos y suelos contaminados. El informe de Forética identifica tres posibles escenarios futuros para el mercado del plástico, que en todo el mundo mueve más de medio billón de dólares anuales y crece a un ritmo del 3,5% anual. En el caso de España, mantiene la actividad de 4.000 empresas con una facturación de 30.000 millones al año. El primero, Plastic as usual, el menos probable a la luz de la tendencia global, a pesar de que en muchos países no prevén restricciones, permitiría el mantenimiento de los modelos de negocio tradicionales, sin preocuparse por los impactos ambientales de la mala gestión. El segundo, Carbon pricing, basado en un precio a las emisiones de CO2, es el más defendido por las empresas para la transición hacia una economía sostenible. Prevé también la introducción de un impuesto sobre los residuos plásticos, como el planteado por Bruselas, de 0,8 euros por kilo sobre los que no se reciclen, para fomentar la recuperación y la incorporación del plástico reciclado en el ciclo productivo industrial.     Este impuesto es distinto al propuesto por el Gobierno, sobre todo tipo de plástico, de 0,45 euros por kilo, al objeto de frenar su uso y recaudar unos 725 millones anuales. Las empresas del sector rechazan su aplicación indiscriminada y alertan de que amenaza 35.000 puestos de trabajo. El tercer escenario, Phase-out, la prohibición directa, como se prevé para algunos plásticos de un solo uso en la UE y España a partir del año que viene, encierra consecuencias no deseadas, como la falta de alternativas eficientes, la destrucción de empleo o la desestructuración de las cadenas de valor. Por todo ello la apuesta es por el reciclado del plástico que, además de crecer al doble que el resto del mercado, emite mucho menos CO2 que el plástico virgen; concretamente, el plástico virgen emite 1,6 veces más CO2 que el reciclado. ¿No eres usuario?\n"
     ]
    },
    {
     "data": {
      "text/markdown": [
       "<a href=\"http://www.eleconomista.es/empresas-finanzas/noticias/10652734/07/20/El-mercado-del-plastico-reciclado-duplicara-su-valor-hasta-el-ano-2027.html\">Link</a>"
      ],
      "text/plain": [
       "<IPython.core.display.Markdown object>"
      ]
     },
     "metadata": {},
     "output_type": "display_data"
    },
    {
     "name": "stdout",
     "output_type": "stream",
     "text": [
      "\n",
      "\n",
      "\u001b[1m\u001b[32mECONOMISTA\u001b[0m\n",
      "\u001b[1m\u001b[30mTue, 07 Jul 2020 18:53:26 +0200\u001b[0m\n",
      "\u001b[1m\u001b[35mÁbalos señala que \"sólo se rescatará a las aerolíneas que lo soliciten\"\u001b[0m\n",
      "\u001b[34mHeadline\u001b[0m\n",
      "El ministro de Transportes, José Luis Ábalos, ha dejado claro que el fondo de 10.000 millones de apoyo a la solvencia sólo se utilizará para rescatar a las aerolíneas que lo soliciten. \"No vamos a hacer nada que no sea a requerimiento de las propias compañías, de sus necesidades. A nadie se le va a imponer nada y todo está funcionando a petición y solicitud de las propias aerolíneas, lo digo por los rescates, y así pensamos seguir trabajando. Y estamos en ello, tenemos ese fondo y ahora trabajamos en función de las necesidades que nos permitan las compañías\", ha explicado Ábalos en la rueda de prensa tras el Consejo de Ministros.\n",
      "\u001b[34mSummarise\u001b[0m\n",
      "El ministro de Transportes, José Luis Ábalos, ha dejado claro que el fondo de 10.000 millones de apoyo a la solvencia sólo se utilizará para rescatar a las aerolíneas que lo soliciten.\n",
      "Pues a partir de las necesidades financieras que las propias compañías nos han pasado\" \"La semana pasada abordamos una línea de 10.000 millones para sectores estratégicos en los que claramente se incluyen las compañías aéreas.\n",
      "En cuando a las empresas públicas, ha elevado la capacidad de endeudamiento de Renfe para que pueda recuperar la actividad y las frecuencias con más solvencia y velocidad, tal y como adelantó este diario.\n",
      "\u001b[34mText\u001b[0m\n",
      "El ministro de Transportes, José Luis Ábalos, ha dejado claro que el fondo de 10.000 millones de apoyo a la solvencia sólo se utilizará para rescatar a las aerolíneas que lo soliciten. \"No vamos a hacer nada que no sea a requerimiento de las propias compañías, de sus necesidades. A nadie se le va a imponer nada y todo está funcionando a petición y solicitud de las propias aerolíneas, lo digo por los rescates, y así pensamos seguir trabajando. Y estamos en ello, tenemos ese fondo y ahora trabajamos en función de las necesidades que nos permitan las compañías\", ha explicado Ábalos en la rueda de prensa tras el Consejo de Ministros. En este punto, el responsable de la cartera de Transportes ha dejado entrever que el fondo prácticamente se ha conformado a imagen y semejanza de las necesidades que las aerolíneas les han ido trasmitiendo en las reuniones que han tenido prácticamente a diario. \"¿Cómo hemos cuantificado el fondo de 10.000 millones? Pues a partir de las necesidades financieras que las propias compañías nos han pasado\" \"La semana pasada abordamos una línea de 10.000 millones para sectores estratégicos en los que claramente se incluyen las compañías aéreas. ¿Cómo hemos cuantificado además esto? Pues a partir de las necesidades financieras que las propias compañías nos han pasado. Cada compañía nos ha dicho cuales eran sus necesidades financieras y hemos cifrado esas necesidades con un fondo de esas características que atiende a lo que nos han planteado\", ha abundado el ministro, que ha hecho gala de mantener un contacto constante, \"casi a diario\", con las aerolíneas puesto que tienen \"una gran necesidad\" y \"tampoco son tantas\". Según recoge el BOE, el Fondo de apoyo a la solvencia de empresas estratégicas, que será gestionado por SEPI, \"dispondrá de una dotación inicial de 10.000 millones de euros para la toma de instrumentos financieros, incluyendo deuda, instrumentos híbridos o participaciones en el capital social de las empresas anteriormente referidas\". Esto implica que el Ejecutivo podría utilizar el fondo para comprar emisiones de deuda de las aerolíneas a tipos muy bajos para mejorar su liquidez sin poner en riesgo su solvencia con el pago de altos intereses o devoluciones a corto plazo.     De momento, ninguna compañía aérea ha comunicado públicamente su intención de ser rescatada dando entrada al Gobierno en su capital. Varias informaciones han señalado directamente a Iberia como principal destinataria de este salvavidas pero fuentes del sector aseguran que no ha pedido un rescate nunca y no tiene previsto hacerlo. Otra cosa que sería que lograra la financiación vía emisiones de deuda subordinada. La aerolínea de IAG ha logrado 750 millones de financiación del ICO y empezó la crisis con unos 2.000 millones de caja aunque quema unos siete millones de euros al día y tiene más difícil emprender el camino de la recuperación por su fuerte exposición al largo radio, cuya reactivación todavía está en aire por el coronavirus. Hay otras compañías, como Air Europa, que están en peor situación  y necesitan ayudas de forma más directa y urgente. En este caso, fuentes del sector explican que el Gobierno estaría muy interesado en que la operación de compra por parte de Iberia saliera adelante. De todas formas, a primera vista, este fondo se aleja de las medidas que el sector aéreo ha pedido públicamente. En el Consejo de Ministros se ha aprobado un Real Decreto Ley que contiene un conjunto de medidas necesarias para \"la reactivación económica en los ámbitos de los transportes y de la vivienda, para hacer frente al impacto del Covid-19\". \"El Real Decreto se articula en tres apartados: proteger la seguridad y la salud de los trabajadores y pasajeros para reactivar el transporte; proporcionar liquidez a las empresas del sector para preservar su viabilidad, potenciar su actividad e impulsar la recuperación, y reducir las cargas administrativas simplificando los procedimientos y trámites para la reactivación\", ha explicado Ábalos en la rueda de prensa tras el Consejo de Ministros en la que Pablo Iglesias ha aprovechado para manipular la pregunta de una periodista y acusarla de \"llamar delincuentes a los que no pueden pagar\", cuando la cuestión poco tenía que ver. Las ayudas para garantizar la liquidez de las empresa de transporte del sector privado se centrar en aprobar moratorias en los pagos de los leasing, renting y cualquier otro tipo de crédito vinculado a la adquisición de vehículos de transporte o autobuses de transporte discrecional, uno de los sectores que más está sufriendo la crisis. \"Esta medida permitiría un aplazamiento de hasta 250 millones de euros para el transporte discrecional de viajeros y de hasta 330 millones de euros en el caso del transporte de mercancías\", señala el Ministerio en una nota.  También se han aprobado medidas para el reequilibrio de las concesiones de las líneas de autobús interurbanos de competencia estatal. Las compañías tendrán que demostrar las perdidas causadas por el covid eliminando los ahorros generados por los Erte y las frecuencias no ofrecidas. Este reequilibrio está valorado en 14 millones.  En cuando a las empresas públicas, ha elevado la capacidad de endeudamiento de Renfe para que pueda recuperar la actividad y las frecuencias con más solvencia y velocidad, tal y como adelantó este diario. \"La norma aumenta la capacidad de endeudamiento de Renfe hasta los 1.000 millones con el fin de compensar la caída de demanda e impulsar la recuperación de servicios\", señala Transportes en un comunicado en el que también explica los \"110 millones de euros de aportación extraordinaria a SEITTSA para que pueda atender sus compromisos de obras públicas en el medio plazo\". ¿No eres usuario?\n"
     ]
    },
    {
     "data": {
      "text/markdown": [
       "<a href=\"http://www.eleconomista.es/empresas-finanzas/noticias/10652645/07/20/Abalos-senala-que-solo-se-rescatara-a-las-aerolineas-que-lo-soliciten.html\">Link</a>"
      ],
      "text/plain": [
       "<IPython.core.display.Markdown object>"
      ]
     },
     "metadata": {},
     "output_type": "display_data"
    },
    {
     "name": "stdout",
     "output_type": "stream",
     "text": [
      "\n",
      "\n",
      "\u001b[1m\u001b[32mECONOMISTA\u001b[0m\n",
      "\u001b[1m\u001b[30mTue, 07 Jul 2020 18:44:20 +0200\u001b[0m\n",
      "\u001b[1m\u001b[35mLambán subraya que si se realiza el mini-trasvase del Ebro a Santander el Gobierno de Aragón recurrirá a los tribunales\u001b[0m\n",
      "\u001b[34mHeadline\u001b[0m\n",
      "El presidente del Gobierno de Aragón, Javier Lambán, ha subrayado que si se realiza el mini-trasvase del Ebro a Santander, el Ejecutivo autonómico recurrirá a los tribunales y ha recordado que este territorio está fuera de la cuenca del río.\n",
      "\u001b[34mSummarise\u001b[0m\n",
      "El presidente del Gobierno de Aragón, Javier Lambán, ha subrayado que si se realiza el mini-trasvase del Ebro a Santander, el Ejecutivo autonómico recurrirá a los tribunales y ha recordado que este territorio está fuera de la cuenca del río.\n",
      "\"Ese trasvase lo es técnicamente hablando porque transfiere agua de la cuenca del Ebro a un territorio que está fuera de ella, es algo que la propia Unión Europea dejó claro hace años que no se puede hacer\", ha detallado Lambán.\n",
      "\u001b[34mText\u001b[0m\n",
      "El presidente del Gobierno de Aragón, Javier Lambán, ha subrayado que si se realiza el mini-trasvase del Ebro a Santander, el Ejecutivo autonómico recurrirá a los tribunales y ha recordado que este territorio está fuera de la cuenca del río. \"Ese trasvase lo es técnicamente hablando porque transfiere agua de la cuenca del Ebro a un territorio que está fuera de ella, es algo que la propia Unión Europea dejó claro hace años que no se puede hacer\", ha detallado Lambán. Asimismo, ha añadido que Aragón en su Estatuto de Autonomía prohíbe los trasvases de agua del Ebro. El presidente autonómico ha realizado estas declaraciones este martes, durante su participación en una charla-coloquio digital, organizada por la Asociación para el Progreso de la Dirección (APD) y Deloitte, con el título 'De vuelta a la normalidad en la Comunidad de Aragón' y donde ha respondido a las preguntas de los integrantes de la asociación y asistentes. \"El Estatuto nos obliga a los gobiernos a actuar con contundencia cada vez que se produce un trasvase de cualquier naturaleza y eso es lo que vamos a hacer en este momento\". Así, ha confirmado que este jueves, en el Pleno de las Cortes de Aragón, se ratificará la posición del Gobierno autonómico y ha remarcado que, si al final se produce el trasvase, su Ejecutivo recurrirá a los tribunales, para defender el derecho a que \"el agua del Ebro transcurra íntegramente y se utilice exclusivamente dentro de la cuenca del Ebro\". Lambán ha aclarado que este trasvase se produce de manera coyuntural desde hace \"bastantes años\" porque a Santander le hacen falta \"cuatro o cinco hectómetros cúbicos de agua de consumo humano\" y, \"desde luego, Aragón nunca se ha negado, pero de manera coyuntural y solo cuando se necesite\", mientras que el \"salto\" que se da ahora \"es convertir ese trasvase en estructural, lo que va contra nuestro Estatuto y la legislación europea\". Por eso, ha pedido a la ministra para la Transición Ecológica, Teresa Ribera, que tenga \"sensibilidad\". \"Si Cantabria necesita cinco hectómetros de agua en un momento determinado, no seremos nosotros quienes se lo neguemos, pero sí que defenderemos nuestro derecho a que no exista trasvase\". ¿No eres usuario?\n"
     ]
    },
    {
     "data": {
      "text/markdown": [
       "<a href=\"http://www.eleconomista.es/aragon/noticias/10652621/07/20/Lamban-subraya-que-si-se-realiza-el-minitrasvase-del-Ebro-a-Santander-el-Gobierno-de-Aragon-recurrira-a-los-tribunales.html\">Link</a>"
      ],
      "text/plain": [
       "<IPython.core.display.Markdown object>"
      ]
     },
     "metadata": {},
     "output_type": "display_data"
    },
    {
     "name": "stdout",
     "output_type": "stream",
     "text": [
      "\n",
      "\n",
      "\u001b[1m\u001b[32mECONOMISTA\u001b[0m\n",
      "\u001b[1m\u001b[30mTue, 07 Jul 2020 18:34:31 +0200\u001b[0m\n",
      "\u001b[1m\u001b[35mEndesa realiza una inversión de 70.000 euros en varias comarcas de Huesca\u001b[0m\n",
      "\u001b[34mHeadline\u001b[0m\n",
      "Endesa ha realizado una serie de actuaciones de mejora en la red eléctrica que suministra energía a las localidades de Almunia de San Juan, Albalate de Cinca y Fraga, situadas en las comarcas oscenses de Cinca Medio y Bajo Cinca.\n",
      "\u001b[34mSummarise\u001b[0m\n",
      "Endesa ha realizado una serie de actuaciones de mejora en la red eléctrica que suministra energía a las localidades de Almunia de San Juan, Albalate de Cinca y Fraga, situadas en las comarcas oscenses de Cinca Medio y Bajo Cinca.\n",
      "Esta mejora tecnológica, que ha contado con una inversión de 70.000 euros, facilitará la operatividad de las instalaciones y minimizará el riesgo de incidencia y el tiempo de reposición del suministro en este nudo eléctrico.\n",
      "Los trabajos, que beneficiarán de forma directa a 2.000 clientes de la comarca, forman parte del programa de mejora de instalaciones desarrollado anualmente por Endesa con el objeto de consolidar la calidad de servicio.\n",
      "\u001b[34mText\u001b[0m\n",
      "Endesa ha realizado una serie de actuaciones de mejora en la red eléctrica que suministra energía a las localidades de Almunia de San Juan, Albalate de Cinca y Fraga, situadas en las comarcas oscenses de Cinca Medio y Bajo Cinca. La compañía ha instalado nuevos sistemas de protección, control y telemando en laas líneas de media tensión Cinca-Almunia y Fraga-Zaidín.  Esta mejora tecnológica, que ha contado con una inversión de 70.000 euros, facilitará la operatividad de las instalaciones y minimizará el riesgo de incidencia y el tiempo de reposición del suministro en este nudo eléctrico. Los trabajos, que beneficiarán de forma directa a 2.000 clientes de la comarca, forman parte del programa de mejora de instalaciones desarrollado anualmente por Endesa con el objeto de consolidar la calidad de servicio. ¿No eres usuario?\n"
     ]
    },
    {
     "data": {
      "text/markdown": [
       "<a href=\"http://www.eleconomista.es/aragon/noticias/10652588/07/20/Endesa-realiza-una-inversion-de-70000-euros-en-varias-comarcas-de-Huesca.html\">Link</a>"
      ],
      "text/plain": [
       "<IPython.core.display.Markdown object>"
      ]
     },
     "metadata": {},
     "output_type": "display_data"
    },
    {
     "name": "stdout",
     "output_type": "stream",
     "text": [
      "\n",
      "\n",
      "\u001b[1m\u001b[32mECONOMISTA\u001b[0m\n",
      "\u001b[1m\u001b[30mTue, 07 Jul 2020 18:13:31 +0200\u001b[0m\n",
      "\u001b[1m\u001b[35mFundación Grupo Siro consigue los primeros 20.000 kilos de alimentos con su campaña \"Multiplicamos tu solidaridad\"\u001b[0m\n",
      "\u001b[34mHeadline\u001b[0m\n",
      "Fundación Grupo Siro, ha alcanzado los primeros 10.000 euros a favor de Bancos de Alimentos gracias a las donaciones realizadas por particulares y empresas a través de su campaña \"Multiplicamos tu solidaridad\".\n",
      "\u001b[34mSummarise\u001b[0m\n",
      "Fundación Grupo Siro, ha alcanzado los primeros 10.000 euros a favor de Bancos de Alimentos gracias a las donaciones realizadas por particulares y empresas a través de su campaña \"Multiplicamos tu solidaridad\".\n",
      "Hasta la fecha 145 donantes han participado en la campaña, entre ellos colaboradores de Cerealto Siro Foods que han destinado una cantidad de su nómina, particulares a través de la plataforma de crowfunding gofundme.com y empresas que han realizado donaciones a través de Fundación Grupo Siro.\n",
      "\u001b[34mText\u001b[0m\n",
      "Fundación Grupo Siro, ha alcanzado los primeros 10.000 euros a favor de Bancos de Alimentos gracias a las donaciones realizadas por particulares y empresas a través de su campaña \"Multiplicamos tu solidaridad\". La Fundación doblará las aportaciones de los 145 donantes que han participado hasta 20.000 euros que se traducirán en 20.000 kilos de alimentos que entregará a FESBAL (Federación Española de Bancos de Alimentos). Hasta la fecha 145 donantes han participado en la campaña, entre ellos colaboradores de Cerealto Siro Foods que han destinado una cantidad de su nómina, particulares a través de la plataforma de crowfunding gofundme.com y empresas que han realizado donaciones a través de Fundación Grupo Siro. Es el caso por ejemplo de la compañía AMBINOR, Consultora en medio ambiente y sostenibilidad, que ha querido sumarse a esta campaña a favor de los Bancos de Alimentos con una aportación económica de 3.000 euros, que Fundación Siro duplicará para convertirlos en 6.000 kilos de alimentos. La campaña \"Multiplicamos tu solidaridad\" permanecerá activa hasta el 31 de julio para que particulares puedan seguir realizando sus aportaciones fácilmente a través de la plataforma GoFundMe.com y haciendo click en este enlace, mientras que empresas pueden manifestar su interés en participar escribiendo a comunicacion@fundaciongruposiro.com. Cada donante puede elegir la cantidad de su aportación, a partir de 5 euros, importe que Fundación Grupo Siro doblará económicamente para convertir cada euro donado en 2 kilos de alimentos que irán destinados directamente a Bancos de Alimentos a través de FESBAL. Estos primeros 20.000 kilos obtenidos a través de la campaña \"Multiplicamos tu solidaridad\" suman ya 60.000 kilos de alimentos que Fundación Grupo Siro y Cerealto Siro Foods han donado desde el inicio de la crisis sanitaria para atender las necesidades de alimentación de los colectivos más vulnerables especialmente afectados por la crisis económica que ha generado la pandemia de la COVID-19. ¿No eres usuario?\n"
     ]
    },
    {
     "data": {
      "text/markdown": [
       "<a href=\"http://www.eleconomista.es/castilla_y_leon/noticias/10652539/07/20/Fundacion-Grupo-Siro-consigue-los-primeros-20000-kilos-de-alimentos-con-su-campana-Multiplicamos-tu-solidaridad.html\">Link</a>"
      ],
      "text/plain": [
       "<IPython.core.display.Markdown object>"
      ]
     },
     "metadata": {},
     "output_type": "display_data"
    },
    {
     "name": "stdout",
     "output_type": "stream",
     "text": [
      "\n",
      "\n",
      "\u001b[1m\u001b[32mECONOMISTA\u001b[0m\n",
      "\u001b[1m\u001b[30mTue, 07 Jul 2020 18:11:16 +0200\u001b[0m\n",
      "\u001b[1m\u001b[35m¡Todos tecnólogos! Microsoft y LinkedIn impulsarán la digitalización de las personas desempleadas\u001b[0m\n",
      "\u001b[34mHeadline\u001b[0m\n",
      "En los próximos cinco años se crearan dos millones de nuevos empleos relacionados con la tecnología en España. Son estimaciones de Microsoft elaboradas a partir datos facilitados por LinkedIn. La cara de una moneda que, advierte Pilar López, presidenta de Microsoft en España, también tiene su cruz: \"Que el problema de la brecha tecnológica se va a ver agravado tras el Covid-19\".\n",
      "\u001b[34mSummarise\u001b[0m\n",
      "Son estimaciones de Microsoft elaboradas a partir datos facilitados por LinkedIn. La cara de una moneda que, advierte Pilar López, presidenta de Microsoft en España, también tiene su cruz: \"Que el problema de la brecha tecnológica se va a ver agravado tras el Covid-19\".\n",
      "\"Tenemos la oportunidad de proporcionar a las personas que se encuentran en proceso de búsqueda de empleo las herramientas que necesitan para adquirir las habilidades digitales más demandas por las empresas,\" ha declarado Ángel Sáenz de Cenzano, country manager de LinkedIn para España y Portugal, durante la presentación.\n",
      "case 2 : jQuery(parrafos[1]).after(jQuery(\"div[class='b300 pub_mob251']\")); break;\n",
      "default: jQuery(parrafos[2]).after(jQuery(\"div[class='b300 pub_mob251']\"));\n",
      "\u001b[34mText\u001b[0m\n",
      "En los próximos cinco años se crearan dos millones de nuevos empleos relacionados con la tecnología en España. Son estimaciones de Microsoft elaboradas a partir datos facilitados por LinkedIn. La cara de una moneda que, advierte Pilar López, presidenta de Microsoft en España, también tiene su cruz: \"Que el problema de la brecha tecnológica se va a ver agravado tras el Covid-19\". Para tratar de paliar el efecto de las carencias digitales y contribuir a la recuperación económica tras la crisis sanitaria, los dos gigantes tecnológicos han unido fuerzas en un proyecto global. Su objetivo: facilitar formación tecnológica gratuita a personas desempleadas y ayudar al reciclaje de los profesionales en clave digital. La iniciativa, presentada esta semana, se vertebra a través de cuatro ejes: analítica de datos para identificar oportunidades de empleo, formación en habilidades digitales, acceso ventajoso a certificaciones oficiales y herramientas adicionales para la búsqueda de empleo. Antes de la pandemia, España ocupaba el puesto 13 en la economía mundial. Una posición de privilegio que ya no lo es tanto cuando se habla en términos de competitividad (23), y que desciende dramáticamente hasta el lugar 61 en el Ranking del Foro Económico Mundial sobre habilidades digitales. Las previsiones futuras no son mucho más halagüeñas. Según un estudio de IDC, en los próximos meses el 90% de las organizaciones españolas sufrirá reajustes en proyectos, retrasos en el lanzamiento de productos o servicios o pedida de ingresos por la escasez de conocimientos digitales. La misma fuente afirma que un 46% de las compañías nacionales tiene problemas para encontrar los perfiles digitales que necesita. Unos números, que según Pilar López, dejan un amplio margen de mejora. \"Nos encaminamos hacia una sociedad mucho más digital, en la que tanto los trabajos que se mantengan como los nuevos que surjan requerirán nuevas capacidades digitales, y es imprescindible que los profesionales aumenten y mejoren estas capacidades\". Precisamente facilitar ese reciclaje profesional es la meta que se ha marcado este plan, que forma parte de un proyecto global de impulso a la formación de Microsoft Corporation y moviliza diferentes plataformas, soluciones y recursos formativos de Microsoft, LinkedIn y GitHub. \"Tenemos la oportunidad de proporcionar a las personas que se encuentran en proceso de búsqueda de empleo las herramientas que necesitan para adquirir las habilidades digitales más demandas por las empresas,\" ha declarado Ángel Sáenz de Cenzano, country manager de LinkedIn para España y Portugal, durante la presentación.    Con 690 millones de usuarios activos, 50 millones de empresas en su radar, 11 millones de posiciones gestionadas y 36.000 habilidades profesionales puestas en juego, LinkedIn se ha convertido en la gran Bolsa de Empleo planetaria. Ahora, la red social profesional pone esta ingente cantidad de información acerca de tendencias de empleo, perfiles más demandados y oportunidades laborales en cada área geográfica, recogida en su Economic Graph, a disposición de empresas y representantes públicos \"para ayudarles a entender mejor qué esta ocurriendo en sus mercados y tomar mejores decisiones\", ha anunciado Sáenz de Cenzano.\n",
      "Fruto de ese análisis de sus propios datos, LinkedIn ha identificado diez perfiles relacionadas con la tecnología \"con una fuerte demanda hoy y que seguirán teniéndola en el futuro\", ha explicado el directivo. Administrador de TI, analista de datos, analista financiero, desarrollador de software, diseñador gráfico, especialista en gestión de proyectos, especialista en servicio al cliente, marketing digital, soporte técnico y ventas conforman este top-ten de nichos de empleo digital. Formación La formación es uno de los pilares de este plan conjunto. Microsoft ofrecerá acceso a su plataforma de formación gratuita Microsoft Learn, con cerca de cien cursos gratuitos en español sobre las principales tecnologías de la compañía. Por su parte, LinkedIn recuerda que durante el periodo comprendido entre marzo y abril se han consumido en España 216.000 horas en LinkedIn Learning, lo que supone un incremento del 280% respecto al periodo de referencia anterior. Para responder a esa creciente necesidad, la red social ha diseñado cuatro rutas de aprendizaje en habilidades blandas que incluyen diferentes cursos gratuitos en búsqueda de empleo, habilidades interpersonales, transformación digital y diversidad e inclusión.\n",
      "En los últimos años las certificaciones oficiales de Microsoft se han convertido en un destacado pasaporte para el empleo. Unas titulaciones que, ha recordado Pilar López, son muy valoradas por los empleadores y que \"no solo sirven a los profesionales para acreditar su conocimiento avanzado sobre una determinada tecnología, sino que son usadas por las propias empresas como un indicador de su nivel de competitividad\". Hasta el 31 de marzo de 2021 Microsoft va a facilitar el acceso a sus certificaciones a las personas cuyo trabajo se haya visto impactado por el Covid-19. Para ello, ofrece la posibilidad de realizar estos exámenes a un precio \"simbólico\" de 15 dólares, frente a los entre 100 y 150 que cuestan normalmente.\n",
      "La cuarta palanca de este paquete de medidas consiste en habilitar una serie de herramientas de orientación práctica para la mejora de la empleabilidad, muchas de las cuales estarán disponibles en el espacio opportunity.linkedin.com. Una de ellas es un servicio de ayuda tutorial para la realización de entrevistas, ofrecido gratuitamente por LinkedIn sobre la base de tecnología de Inteligencia artificial de Microsoft. \"El entrenamiento es vital para afrontar con garantías una entrevista de trabajo. Con esta funcionalidad, los aspirantes podrán realizar ensayos de entrevistas y obtener un feedback muy valioso que les ayudará cuando llegue el momento de enfrentarse a una situación real\", ha destacado Ángel Sáenz de Cenzano. España como punta de lanza Este proyecto se ha marcado el ambicioso objetivo de digitalizar a 25 millones de personas en todo el mundo. En el caso español, Pilar López cree que se rebasará la cifra que sobre el papel le corresponde proporcionalmente a nuestro país. \"El potencial de España es enorme. Es el país de la UE con mayor número de profesionales de IT en relación a su población, pero además existe un gran deseo de avanzar en el camino de la digitalización. Todos los programas de formación que hemos puesto en marcha a nivel país en estos meses se han consumido y, de hecho, tenemos una demanda superior a la que somos capaces de satisfacer\". Por otra parte, ha recalcado, \"es imposible que las empresas nacionales pueden cubrir esos dos millones de nuevos empleos que van a llegar únicamente acudiendo al mercado. Cubrir esas capacitaciones pasa necesariamente por entrenar y reciclar a las personas en habilidades digitales\".\n",
      "El acto de presentación ha servido también para invitar a otras entidades, públicas y privadas, tercer sector y representantes políticos, a sumarse a una iniciativa que \"no puede limitarse al impulso dos empresas\". \"Hacemos una llamada para hacer de este proyecto en un verdadero Proyecto País\", ha apremiado la presidenta de Microsoft \"Se necesita la acción coordinada del Gobierno y del sector privado. Invertir en las personas e incentivar a las empresas para que contraten y eleven las capacidades digitales de sus profesionales. Y además no hay tiempo que perder. Porque de nuestra capacidad para mejorar esos niveles de digitalización dependerá en buena medida el éxito o el fracaso de la economía post-Covid-19\"\n",
      "\t\t\t\tif (dispositivo=='mobile'){\n",
      "\t\t\t\t\tjQuery(\"div[class='b300 pub_desk251']\").remove();\n",
      "\t\t\t\t\tif(gts_gpt != 'sync'){ googletag.cmd.push(function() { googletag.display('300x251'); });}else{googletag.display('300x251'); }\n",
      "\t\t\t\t}\n",
      "\t\t\t\n",
      "\n",
      "\t\t\t\t\t\t\tif (dispositivo=='mobile'){\n",
      "\t\t\t\t\t\t\t\tparrafos = jQuery(\".Article__paragraphGroup p:not(:empty)\");\n",
      "\t\t\t\t\t\t\t\tswitch(parrafos.length){\n",
      "\t\t\t\t\t\t\t\t\tcase 1 : jQuery(\"div[class='b300 pub_mob250']\").after(jQuery(\"div[class='b300 pub_mob251']\")); break;\n",
      "\t\t\t\t\t\t\t\t\tcase 2 : jQuery(parrafos[1]).after(jQuery(\"div[class='b300 pub_mob251']\")); break;\n",
      "\t\t\t\t\t\t\t\t\tdefault: jQuery(parrafos[2]).after(jQuery(\"div[class='b300 pub_mob251']\"));\n",
      "\t\t\t\t\t\t\t\t}\n",
      "\t\t\t\t\t\t\t}\n",
      "\t\t\t\t\t\t\n",
      "                            parrafos = jQuery(\".Article__paragraphGroup>p:not(:empty)\");\n",
      "                            parrafo_posicion = 5>parrafos.length?parrafos[parrafos.length-1]:parrafos[4];\n",
      "                            div = document.createElement(\"div\");\n",
      "                            div.id = \"contentbox1\";\n",
      "                            div.className = \"contentbox\";\n",
      "                            parrafo_posicion.after(div);\n",
      "                            jQuery(\"#contentbox1\").html(\"<div id='contentbox-inline'></div>\");\n",
      "                        \n",
      "\n",
      "\n",
      "\n",
      "\n",
      "\n",
      "\n",
      "\n",
      "\n",
      "\n",
      "\n",
      "\n",
      "\n",
      "\n",
      "\n",
      "LinkedIn: \"Las empresas deben adaptarse para ofrecer más valor al empleado\"\n",
      "\n",
      "\n",
      "\t\t\t\t\tjQuery(function(){jQuery(\"caja-noticia\")[0].innerHTML=jQuery(\"caja-noticia-s\")[0].innerHTML;\n",
      "\t\t\t\t\tjQuery(\"caja-noticia\")[0].innerHTML = jQuery(\"caja-noticia\")[0].innerHTML.replace(\"lazy lazy-loading\", \"lazy lazy-loading lazy-loaded\")});\n",
      "\t\t\t\t\n",
      "comentariosforum1WhatsAppFacebookTwitterLinkedin\n",
      "\n",
      " Con 690 millones de usuarios activos, 50 millones de empresas en su radar, 11 millones de posiciones gestionadas y 36.000 habilidades profesionales puestas en juego, LinkedIn se ha convertido en la gran Bolsa de Empleo planetaria. Ahora, la red social profesional pone esta ingente cantidad de información acerca de tendencias de empleo, perfiles más demandados y oportunidades laborales en cada área geográfica, recogida en su Economic Graph, a disposición de empresas y representantes públicos \"para ayudarles a entender mejor qué esta ocurriendo en sus mercados y tomar mejores decisiones\", ha anunciado Sáenz de Cenzano. Fruto de ese análisis de sus propios datos, LinkedIn ha identificado diez perfiles relacionadas con la tecnología \"con una fuerte demanda hoy y que seguirán teniéndola en el futuro\", ha explicado el directivo. Administrador de TI, analista de datos, analista financiero, desarrollador de software, diseñador gráfico, especialista en gestión de proyectos, especialista en servicio al cliente, marketing digital, soporte técnico y ventas conforman este top-ten de nichos de empleo digital. La formación es uno de los pilares de este plan conjunto. Microsoft ofrecerá acceso a su plataforma de formación gratuita Microsoft Learn, con cerca de cien cursos gratuitos en español sobre las principales tecnologías de la compañía. Por su parte, LinkedIn recuerda que durante el periodo comprendido entre marzo y abril se han consumido en España 216.000 horas en LinkedIn Learning, lo que supone un incremento del 280% respecto al periodo de referencia anterior. Para responder a esa creciente necesidad, la red social ha diseñado cuatro rutas de aprendizaje en habilidades blandas que incluyen diferentes cursos gratuitos en búsqueda de empleo, habilidades interpersonales, transformación digital y diversidad e inclusión. En los últimos años las certificaciones oficiales de Microsoft se han convertido en un destacado pasaporte para el empleo. Unas titulaciones que, ha recordado Pilar López, son muy valoradas por los empleadores y que \"no solo sirven a los profesionales para acreditar su conocimiento avanzado sobre una determinada tecnología, sino que son usadas por las propias empresas como un indicador de su nivel de competitividad\". Hasta el 31 de marzo de 2021 Microsoft va a facilitar el acceso a sus certificaciones a las personas cuyo trabajo se haya visto impactado por el Covid-19. Para ello, ofrece la posibilidad de realizar estos exámenes a un precio \"simbólico\" de 15 dólares, frente a los entre 100 y 150 que cuestan normalmente. La cuarta palanca de este paquete de medidas consiste en habilitar una serie de herramientas de orientación práctica para la mejora de la empleabilidad, muchas de las cuales estarán disponibles en el espacio opportunity.linkedin.com. Una de ellas es un servicio de ayuda tutorial para la realización de entrevistas, ofrecido gratuitamente por LinkedIn sobre la base de tecnología de Inteligencia artificial de Microsoft. \"El entrenamiento es vital para afrontar con garantías una entrevista de trabajo. Con esta funcionalidad, los aspirantes podrán realizar ensayos de entrevistas y obtener un feedback muy valioso que les ayudará cuando llegue el momento de enfrentarse a una situación real\", ha destacado Ángel Sáenz de Cenzano. Este proyecto se ha marcado el ambicioso objetivo de digitalizar a 25 millones de personas en todo el mundo. En el caso español, Pilar López cree que se rebasará la cifra que sobre el papel le corresponde proporcionalmente a nuestro país. \"El potencial de España es enorme. Es el país de la UE con mayor número de profesionales de IT en relación a su población, pero además existe un gran deseo de avanzar en el camino de la digitalización. Todos los programas de formación que hemos puesto en marcha a nivel país en estos meses se han consumido y, de hecho, tenemos una demanda superior a la que somos capaces de satisfacer\". Por otra parte, ha recalcado, \"es imposible que las empresas nacionales pueden cubrir esos dos millones de nuevos empleos que van a llegar únicamente acudiendo al mercado. Cubrir esas capacitaciones pasa necesariamente por entrenar y reciclar a las personas en habilidades digitales\". El acto de presentación ha servido también para invitar a otras entidades, públicas y privadas, tercer sector y representantes políticos, a sumarse a una iniciativa que \"no puede limitarse al impulso dos empresas\". \"Hacemos una llamada para hacer de este proyecto en un verdadero Proyecto País\", ha apremiado la presidenta de Microsoft \"Se necesita la acción coordinada del Gobierno y del sector privado. Invertir en las personas e incentivar a las empresas para que contraten y eleven las capacidades digitales de sus profesionales. Y además no hay tiempo que perder. Porque de nuestra capacidad para mejorar esos niveles de digitalización dependerá en buena medida el éxito o el fracaso de la economía post-Covid-19\" ¿No eres usuario? Cuidado con hacer religiones en la economía.La \"digitalización\" suena muy bien, porque lo asociamos con \"ser más inteligente\", pero el control de la energía y de las industrias primarias es lo que saca adelante la economía. La producción eficiente de energía renovable es lo que va a hacer rico a los países. Las empresas de software en EEUU despiden a sus empleados pasados los 40. Y el centro mundial de la digitalización se ha convertido en un caos con una desigualdad brutal donde la gente se emprende a tiros por la calle.De nuevo recordar que Darwin no dijo que sobrevive el más listo o el más fuerte, sino el que mejor se adapta. Y el que mejor se adapte será el país que garantice su autoabastecimiento energético y de agua potable y de riego. Cada año más de decenas de millones de toneladas de biomasa acaban quemándose en incendios en España. Si se utilicen bien dejaríamos de importan petroleo por valor de miles de millones de euros garantizando el empleo local. Por allí hay que empezar.Y esto lo firma alguien que se gana la vida con la \"digitalización\", pero que no es tan tonto para caer en el error de dejarse llevar por su ego.Recordar también que Microsoft es experta en sacarle el dinero a la gente con licencias, software defectuoso y monopolios ilegales.\n"
     ]
    },
    {
     "data": {
      "text/markdown": [
       "<a href=\"http://www.eleconomista.es/telecomunicaciones-tecnologia/noticias/10652532/07/20/Todos-tecnologos-Microsoft-y-LinkedIn-impulsaran-la-digitalizacion-de-las-personas-desempleadas.html\">Link</a>"
      ],
      "text/plain": [
       "<IPython.core.display.Markdown object>"
      ]
     },
     "metadata": {},
     "output_type": "display_data"
    },
    {
     "name": "stdout",
     "output_type": "stream",
     "text": [
      "\n",
      "\n",
      "\u001b[1m\u001b[32mECONOMISTA\u001b[0m\n",
      "\u001b[1m\u001b[30mTue, 07 Jul 2020 18:01:23 +0200\u001b[0m\n",
      "\u001b[1m\u001b[35mLas rebajas no ayudan a frenar la caída de facturación en las Pymes\u001b[0m\n",
      "\u001b[34mHeadline\u001b[0m\n",
      "Las cifras de ventas en los pequeños y medianos comercios continúan lejos de los niveles precovid, a pesar de la reactivación de las actividades y la vuelta a la 'nueva' normalidad. Según una encuesta de la Confederación Española de Comercio (CEC), la primera semana de rebajas registra una caída de la facturación de entre un 20% y un 30% respecto al mismo periodo del año anterior, con variaciones según provincias y sectores de actividad, llegando al 50% en los territorios más dependientes del turismo. El gasto medio por persona se situará en estas rebajas en 90 euros. Por sectores, el más afectado es textil y calzado.\n",
      "\u001b[34mSummarise\u001b[0m\n",
      "Según una encuesta de la Confederación Española de Comercio (CEC), la primera semana de rebajas registra una caída de la facturación de entre un 20% y un 30% respecto al mismo periodo del año anterior, con variaciones según provincias y sectores de actividad, llegando al 50% en los territorios más dependientes del turismo.\n",
      "Como ya había adelantado la Confederación, la campaña de rebajas no va a servir para paliar la difícil situación que vive el sector del comercio y sólo le dará un respiro temporal dinamizando el consumo y reactivando las ventas de forma puntual.\n",
      "\u001b[34mText\u001b[0m\n",
      "Las cifras de ventas en los pequeños y medianos comercios continúan lejos de los niveles precovid, a pesar de la reactivación de las actividades y la vuelta a la 'nueva' normalidad. Según una encuesta de la Confederación Española de Comercio (CEC), la primera semana de rebajas registra una caída de la facturación de entre un 20% y un 30% respecto al mismo periodo del año anterior, con variaciones según provincias y sectores de actividad, llegando al 50% en los territorios más dependientes del turismo. El gasto medio por persona se situará en estas rebajas en 90 euros. Por sectores, el más afectado es textil y calzado. Como ya había adelantado la Confederación, la campaña de rebajas no va a servir para paliar la difícil situación que vive el sector del comercio y sólo le dará un respiro temporal dinamizando el consumo y reactivando las ventas de forma puntual.  El adelanto de las rebajas y los agresivos descuentos en las grandes superficies y, posteriormente, en las tiendas físicas, acentuados este año por la atípica situación del comercio tras más de dos meses y medio cerrados, tampoco han ayudado. \"Las pocas ventas que se están produciendo en los pequeños comercios se hacen con descuentos muy agresivos; los comerciantes necesitan eliminar el stock y lo hacen sin apenas márgenes de beneficio. Es pan para hoy y hambre para mañana\", señala Pedro Campo, presidente de la CEC. La CEC ve imprescindible volver a los periodos tradicionales de rebajas previos a la liberalización de 2012 para recuperar el impacto positivo de las mismas, así como el objetivo con el que fueron creadas: dar salida al stock acumulado a precios competitivos. En cuanto a empleo en el sector, entre diciembre de 2019 y junio de 2020 el comercio minorista experimentó una caída en el número de afiliados del 4,3%, entre el régimen general y el de autónomos. Y la situación a final de año no va a mejorar; la Confederación prevé que el cierre de tiendas se produzca en cascada, ya que desde que se levantó el estado de alarma, el 10% de tiendas del pequeño comercio no ha llegado ni a abrir, a lo que se sumará otro 10% que cerrará de aquí a final de año. Esto supone que, sin ayudas urgentes y específicas para el sector, el 20% de los comercios situados a pie de calle cerrará sus puertas de aquí a diciembre, un porcentaje que asciende hasta la alarmante cifra del 50% en el caso de los pequeños y medianos comercios ubicados en locales de centros comerciales.  Por ello desde la CEC ve imprescindible adoptar una serie de medidas para salvar al sector. Entre sus propuestas, la Confederación solicita que se adopten medidas de apoyo fiscal y financiero que garanticen la liquidez a los comercios, el aplazamiento del pago de la deuda tributaria y suspensión del pago de tributos, la reducción drástica del recargo de equivalencia o garantizar las mismas normas de funcionamiento para todos los operadores de comercio con independencia de que el canal de venta sea offline u online. Además, considera fundamental posibilitar la tramitación de nuevos ERTEs en función a la evolución y fases del desconfinamiento, con el fin de garantizar la sostenibilidad y el empleo de las empresas. ¿No eres usuario?\n"
     ]
    },
    {
     "data": {
      "text/markdown": [
       "<a href=\"http://www.eleconomista.es/empresas-finanzas/noticias/10652503/07/20/Las-rebajas-no-ayudan-a-frenar-la-caida-de-facturacion-en-las-Pymes.html\">Link</a>"
      ],
      "text/plain": [
       "<IPython.core.display.Markdown object>"
      ]
     },
     "metadata": {},
     "output_type": "display_data"
    },
    {
     "name": "stdout",
     "output_type": "stream",
     "text": [
      "\n",
      "\n",
      "\u001b[1m\u001b[32mECONOMISTA\u001b[0m\n",
      "\u001b[1m\u001b[30mTue, 07 Jul 2020 17:12:21 +0200\u001b[0m\n",
      "\u001b[1m\u001b[35mEscándalo Wirecard: ¿cómo se regula una empresa que actúa como un banco, pero que no lo es?\u001b[0m\n",
      "\u001b[34mHeadline\u001b[0m\n",
      "La quiebra de la compañía de pagos alemana Wirecard como consecuencia de un fraude contable milmillonario ha mostrado un punto ciego para los 'vigilantes' del sistema financiero mundial: ¿cómo se regula una empresa que actúa como un banco, pero que en realidad no lo es?\n",
      "\u001b[34mSummarise\u001b[0m\n",
      "La quiebra de la compañía de pagos alemana Wirecard como consecuencia de un fraude contable milmillonario ha mostrado un punto ciego para los 'vigilantes' del sistema financiero mundial: ¿cómo se regula una empresa que actúa como un banco, pero que en realidad no lo es?\n",
      "En los últimos días los títulos de la empresa de pagos han vivido repuntes puntuales ante los rumores de que el capital riesgo u otras compañías del sector, como la gigante francesa Worldline, están interesados en comprarle activos.\n",
      "En Europa, una empresa cruza la línea hacia las finanzas y todo el escrutinio regulatorio que conlleva cuando más del 50% de su negocio está asociado con actividades financieras como préstamos y depósitos, según la EBA.\n",
      "\u001b[34mText\u001b[0m\n",
      "La quiebra de la compañía de pagos alemana Wirecard como consecuencia de un fraude contable milmillonario ha mostrado un punto ciego para los 'vigilantes' del sistema financiero mundial: ¿cómo se regula una empresa que actúa como un banco, pero que en realidad no lo es? El pasado 26 de junio, la fintech alemana Wirecard anunció que había comenzado los trámites para declararse insolvente. La compañía pasó a ser así la primera de la historia que quiebra con sus acciones cotizando en el Dax 30, el principal índice de la bolsa de Frankfurt.  El día 18 del pasado mes dio a conocer un 'agujero' de 1.900 millones de euros en sus cuentas. Una enorme cuantía de dinero que, según admitió escasos días después, es muy probable que realmente no haya existido nunca.  Desde aquel día Wirecard ha vivido una auténtica debacle en bolsa. Sus acciones se han desplomado cerca de un 98%, ya que actualmente se mueven en torno a los 2,5 euros frente a los 104,5 euros en los que acabaron la jornada justo anterior a que se descubriera el fraude contable. El 26 de junio llegaron a tocar un precio mínimo en 1,080 euros.   En los últimos días los títulos de la empresa de pagos han vivido repuntes puntuales ante los rumores de que el capital riesgo u otras compañías del sector, como la gigante francesa Worldline, están interesados en comprarle activos.  Asimismo, el banco germano Deutsche Bank estudia darle apoyó financiero. Pero este martes la entidad ha frenado las expectativas. \"Cuando hay una oportunidad de ocuparse de la tecnología, por supuesto que lo analizamos, pero las compras deben crear siempre valor para los accionistas\", ha declarado el presidente de Deutsche Bank, Christian Sewing, según informa EFE.  Con todo, el de Wirecard es el mayor escándalo empresarial vivido en Alemania desde hace años, socavando la reputación del país como centro de negocios y financiero.  Además, ha dejado en evidencia que la compañía de pagos germana, considerada durante años la fintech estrella del país (incluso se conocía coloquialmente como la 'Paypal alemana'), ha escapado del estricto control del supervisor bursátil alemán (BaFin), ya que este se centró en la unidad bancaria de la empresa en lugar de en Wirecard en su conjunto.  Ante los hechos, el Gobierno de Alemania está estudiando quién regula a quién, lo que también puede suponer un replanteamiento de la regulación de la industria de fintech en general. A medida que los bancos se recuperaron después de la crisis financiera de 2008 e invirtieron miles de millones para afrontar los litigios resultantes, en vez de en nueva tecnología, otras compañías aparecieron. Wirecard y otras empresas competidoras como Adyen NV procesan los pagos mucho más rápido que los bancos tradicionales, además de ofrecer a los clientes más herramientas para gestionar sus riesgos y para aprender de sus propios hábitos de consumo.  Asimismo, grandes tecnológicas como Amazon y Alphabet (matriz de Google) ponen cada vez más el foco en los servicios financieros.  Sin embargo, en la actualidad algunas parcelas dentro del sector fintech no están supervisados, sobre todo en el área de las criptomonedas. Según la Autoridad Bancaria Europea (EBA, por sus siglas en inglés), en torno al 31% de las empresas fintech en Europa no están sujetas a ninguna regulación. \"Necesitamos una regulación que trate a los bancos y no bancos en igualdad de condiciones\", defendió Benoit Coeure, jefe de innovación del Banco de Pagos Internacionales (BPI, más conocido como 'el banco central para bancos centrales'), en una entrevista para Bloomberg TV el viernes.  En muchos casos ya existen solapamientos regulatorios, pero algunos expertos afirman que se deben cubrir más vacíos legales para garantizar que las compañías digitales sean supervisadas como firmas financieras. En Europa, una empresa cruza la línea hacia las finanzas y todo el escrutinio regulatorio que conlleva cuando más del 50% de su negocio está asociado con actividades financieras como préstamos y depósitos, según la EBA. De esta forma, Wirecard no fue clasificada como una compañía financiera en los análisis de BaFin y otras instituciones. \"El verdadero problema es que BaFin no utilizó los poderes que ya tenía\", defendió Sven Giegold, miembro del Parlamento Europeo para el Partido Verde, en declaraciones recogidas por Bloomberg. \"Esto es negligencia del supervisor, por lo que es necesario un nuevo enfoque para la regulación financiera de las fintech\", añadió. Si bien catalogar a Wirecard como una compañía financiera le habría dado a BaFin más control, también es cierto que el 'perro guardián' germano ya contaba con señales de alerta antes de que saliera a la luz el escándalo: BaFin recibió documentos que señalaban irregularidades contables en la empresa en enero de 2019 (es decir, hace año y medio). Por ello, el organismo ha sido duramente criticado por haber actuado con mucha lentitud. ¿No eres usuario? Ya tenía medio olvidado mis recelos con la excesiva intromisión de las tecnológicas en el negocio bancario... espero que no veamos ningún cataclismo económico por la intromisión de las americanas.\n"
     ]
    },
    {
     "data": {
      "text/markdown": [
       "<a href=\"http://www.eleconomista.es/empresas-finanzas/noticias/10652342/07/20/Escandalo-Wirecard-como-se-regula-una-empresa-que-actua-como-un-banco-pero-que-en-realidad-no-los-es.html\">Link</a>"
      ],
      "text/plain": [
       "<IPython.core.display.Markdown object>"
      ]
     },
     "metadata": {},
     "output_type": "display_data"
    },
    {
     "name": "stdout",
     "output_type": "stream",
     "text": [
      "\n",
      "\n",
      "\u001b[1m\u001b[32mECONOMISTA\u001b[0m\n",
      "\u001b[1m\u001b[30mTue, 07 Jul 2020 16:49:30 +0200\u001b[0m\n",
      "\u001b[1m\u001b[35mLos nueve proyectos innovadores que la Fundación Mapfre elige en un mundo postcovid\u001b[0m\n",
      "\u001b[34mHeadline\u001b[0m\n",
      "Transformación social e impacto global. Son los principales atributos por los que han destacado los nueve proyectos de innovación social que se han clasificado estos días en las semifinales de unos premios que promueve Fundación MAPFRE desde hace tres años y que tienen como objetivo mejorar la salud, la movilidad sostenible y la innovación aseguradora. Los proyectos finalistas, que en esta edición proceden de Brasil, Ecuador, España y Perú, pretenden dar respuesta a grandes desafíos, como, mejorar la calidad de vida de las personas, reducir la contaminación de las ciudades, apoyar a las personas mayores, entre otros, y hacer frente a las necesidades generadas durante la crisis actual .\n",
      "\u001b[34mSummarise\u001b[0m\n",
      "Los proyectos finalistas, que en esta edición proceden de Brasil, Ecuador, España y Perú, pretenden dar respuesta a grandes desafíos, como, mejorar la calidad de vida de las personas, reducir la contaminación de las ciudades, apoyar a las personas mayores, entre otros, y hacer frente a las necesidades generadas durante la crisis actual .\n",
      "Jurado de expertos Un grupo de expertos elegidos por Fundación MAPFRE e IE University, socio académico de estos premios, han elegido los proyectos con mayor potencial de impacto social, así como los más viables desde el punto de vista técnico, económico y organizativo, y los que mejor se han adaptado a esta nueva situación.\n",
      "\u001b[34mText\u001b[0m\n",
      "Transformación social e impacto global. Son los principales atributos por los que han destacado los nueve proyectos de innovación social que se han clasificado estos días en las semifinales de unos premios que promueve Fundación MAPFRE desde hace tres años y que tienen como objetivo mejorar la salud, la movilidad sostenible y la innovación aseguradora. Los proyectos finalistas, que en esta edición proceden de Brasil, Ecuador, España y Perú, pretenden dar respuesta a grandes desafíos, como, mejorar la calidad de vida de las personas, reducir la contaminación de las ciudades, apoyar a las personas mayores, entre otros, y hacer frente a las necesidades generadas durante la crisis actual . Mejora de la salud y tecnología digital En esta categoría han llegado a la final: Instituto Laura Fresatto (Brasil), que ha desarrollado una plataforma de inteligencia artificial que envía señales tempranas a los profesionales de la salud de pacientes con riesgo de deterioro clínico, contribuyendo así a reducir la mortalidad y la estancia hospitalaria. También destacan Hope (Perú), un kit de análisis de muestras de ADN con auto-toma, sencillo y de bajo coste, que detecta las cepas de alto riesgo del VPH y permite prevenir el cáncer de cuello uterino en mujeres; y i4life (España), un dispositivo inteligente que se acopla a un bastón y que es capaz de emitir estímulos visuales y táctiles para ayudar a que las personas con Párkinson y Alzhéimer ganen confianza e independencia. Innovación aseguradora En esta categoría se han clasificado: Electroware (Brasil), una sencilla plataforma de bajo coste y fácil instalación que proporciona información sobre la calidad de la energía y contribuye a reducir el riesgo de daños eléctricos; Saving the planet you have innovative health insurance (Perú), programa que proporciona a personas vulnerables y afectadas por tuberculosis la posibilidad de realizar actividades de reciclaje de residuos sólidos y obtener, con los fondos recaudados, un seguro de salud; y Pensium (España), una solución que facilita que las personas mayores dependientes puedan  financiar sus cuidados asistenciales, en residencia privada o en su domicilio, sin necesidad de vender su casa. Movilidad sostenible y seguridad vial En esta categoría destacan tres proyectos: Guiaderodas (Brasil), app colaborativa móvil que permite a las personas con discapacidad y movilidad limitada, verificar y revisar el nivel de accesibilidad que existe en un lugar concreto; Clipp-MaaS (Ecuador), plataforma multimodal que permite diseñar un plan de movilidad a medida, a través de todas las opciones de transporte disponibles en una ciudad; y Bastón Egara (España), un mango de asistencia inteligente, que se adapta a los bastones que utilizan las personas ciegas y que permite evitar colisiones dolorosas con obstáculos situados por encima de la cintura. Jurado de expertos Un grupo de expertos elegidos por Fundación MAPFRE e IE University, socio académico de estos premios, han elegido los proyectos con mayor potencial de impacto social, así como los más viables desde el punto de vista técnico, económico y organizativo, y los que mejor se han adaptado a esta nueva situación. Red de innovadores Los proyectos participantes forman ya parte de Red Innova, una comunidad emprendedora con más de 60 startups -incluidos los ganadores de pasadas ediciones, que comparten proyectos y experiencias, y que ha sido especialmente activa durante el confinamiento. En este sentido, muchos de los emprendedores sociales han adaptado sus servicios a las necesidades generadas por la pandemia, como por ejemplo a través de la producción de material sanitario con impresoras 3D, ofreciendo servicios gratuitos de atención psicológica, atendiendo a agricultores por vía telemática, y aportando rehabilitación o monitorización remota online, entre otros.  Mentoring y visibilidad ante inversores Los nueve finalistas recibirán apoyo, orientación y ayuda para comunicar y desarrollar de la forma más efectiva sus propuestas a través de coaching y accederán a un plan de relaciones públicas para potenciar la visibilidad de sus proyectos ante potenciales inversores y financiadores. Final: Madrid, 29 de octubre Fundación MAPFRE espera poder celebrar una gran final como en las ediciones anteriores, lo que dependerá de las medidas de seguridad vigentes en ese momento. La ceremonia se adaptará a los protocolos recomendados por las autoridades y a las realidades de los países que participan en el certamen. ¿No eres usuario?\n"
     ]
    },
    {
     "data": {
      "text/markdown": [
       "<a href=\"http://www.eleconomista.es/empresas-finanzas/noticias/10652274/07/20/Los-nueve-proyectos-innovadores-que-la-Fundacion-Mapfre-elige-en-un-mundo-postcovid.html\">Link</a>"
      ],
      "text/plain": [
       "<IPython.core.display.Markdown object>"
      ]
     },
     "metadata": {},
     "output_type": "display_data"
    },
    {
     "name": "stdout",
     "output_type": "stream",
     "text": [
      "\n",
      "\n",
      "\u001b[1m\u001b[32mECONOMISTA\u001b[0m\n",
      "\u001b[1m\u001b[30mTue, 07 Jul 2020 16:24:48 +0200\u001b[0m\n",
      "\u001b[1m\u001b[35mDenuncian el precio abusivo del remdesivir: 2.000 euros de tratamiento frente a los 6 de producción\u001b[0m\n",
      "\u001b[34mHeadline\u001b[0m\n",
      "La Fundación Salud por Derecho ha denunciado este martes el \"abusivo\" precio del fármaco remdesivir para tratar los casos graves de Covid-19, cuyo coste por tratamiento asciende a 2.083 euros, frente a los seis euros que cuesta producirlo.\n",
      "\u001b[34mSummarise\u001b[0m\n",
      "La Fundación Salud por Derecho ha denunciado este martes el \"abusivo\" precio del fármaco remdesivir para tratar los casos graves de Covid-19, cuyo coste por tratamiento asciende a 2.083 euros, frente a los seis euros que cuesta producirlo.\n",
      "\"Otros países como el nuestro van a tener que detraer recursos de otras partidas sanitarias igualmente o más necesarias\" Y se ha referido en concreto al uso de licencias obligatorias para suspender temporalmente la patente de un medicamento y poder producir genéricos, provocando así una bajada de los precios y asegurando una mayor producción y el abastecimiento.\n",
      "case 2 : jQuery(parrafos[1]).after(jQuery(\"div[class='b300 pub_mob251']\")); break;\n",
      "default: jQuery(parrafos[2]).after(jQuery(\"div[class='b300 pub_mob251']\"));\n",
      "\u001b[34mText\u001b[0m\n",
      "La Fundación Salud por Derecho ha denunciado este martes el \"abusivo\" precio del fármaco remdesivir para tratar los casos graves de Covid-19, cuyo coste por tratamiento asciende a 2.083 euros, frente a los seis euros que cuesta producirlo. La directora de Salud por Derecho, Vanessa López, ha recordado además que existe una enorme cantidad de dinero público invertido en el desarrollo de este fármaco y en sus ensayos clínicos que, ha advertido, no han demostrado una reducción significativa de la mortalidad en los pacientes. \"El precio de los medicamentos debería ir relacionado con lo que cuesta desarrollarlos y producirlos, más un beneficio justo y razonable, sobre todo teniendo en cuenta el esfuerzo público que se ha invertido en toda la cadena de I+D\", ha subrayado. En este sentido, ha recordado a los gobiernos que, ante la escalada continuada en el precio de los fármacos y en casos como el actual, inmersos en una enorme crisis de salud pública, existen fórmulas que permiten asegurar precios justos y asequibles. \"Otros países como el nuestro van a tener que detraer recursos de otras partidas sanitarias igualmente o más necesarias\" Y se ha referido en concreto al uso de licencias obligatorias para suspender temporalmente la patente de un medicamento y poder producir genéricos, provocando así una bajada de los precios y asegurando una mayor producción y el abastecimiento. \"El elevado y abusivo precio del remdesivir va a suponer una barrera de acceso para los países, sobre todo, los más pobres. Otros países como el nuestro, en caso de poder adquirirlo, van a tener que detraer recursos de otras partidas sanitarias igualmente o más necesarias\", ha lamentado. Además, ha recordado que EEUU ha anunciado la compra de casi la totalidad de la producción del remdesivir para los próximos tres meses -unos 500.000 tratamientos- , por lo que \"no solo nos encontramos ante un problema de precio abusivo, también de suministro\".    En casos como el actual, o ante los precios \"desorbitados\" de fármacos para la hepatitis C o el cáncer, las autoridades nacionales deben de hacer uso de las licencias obligatorias que permiten al país que la aplica suspender temporalmente una patente para que una empresa pueda producirlo como genérico, pagando a la empresa titular de la patente una compensación económica, señala.\n",
      "\"Es esperable que en los próximos meses salgan nuevos medicamentos y vacunas para la Covid-19 y tenemos ahora la oportunidad de hacer las cosas de manera diferente y mejor\", anima.\n",
      "\t\t\t\tif (dispositivo=='mobile'){\n",
      "\t\t\t\t\tjQuery(\"div[class='b300 pub_desk251']\").remove();\n",
      "\t\t\t\t\tif(gts_gpt != 'sync'){ googletag.cmd.push(function() { googletag.display('300x251'); });}else{googletag.display('300x251'); }\n",
      "\t\t\t\t}\n",
      "\t\t\t\n",
      "\n",
      "\t\t\t\t\t\t\tif (dispositivo=='mobile'){\n",
      "\t\t\t\t\t\t\t\tparrafos = jQuery(\".Article__paragraphGroup p:not(:empty)\");\n",
      "\t\t\t\t\t\t\t\tswitch(parrafos.length){\n",
      "\t\t\t\t\t\t\t\t\tcase 1 : jQuery(\"div[class='b300 pub_mob250']\").after(jQuery(\"div[class='b300 pub_mob251']\")); break;\n",
      "\t\t\t\t\t\t\t\t\tcase 2 : jQuery(parrafos[1]).after(jQuery(\"div[class='b300 pub_mob251']\")); break;\n",
      "\t\t\t\t\t\t\t\t\tdefault: jQuery(parrafos[2]).after(jQuery(\"div[class='b300 pub_mob251']\"));\n",
      "\t\t\t\t\t\t\t\t}\n",
      "\t\t\t\t\t\t\t}\n",
      "\t\t\t\t\t\t\n",
      "                            parrafos = jQuery(\".Article__paragraphGroup>p:not(:empty)\");\n",
      "                            parrafo_posicion = 5>parrafos.length?parrafos[parrafos.length-1]:parrafos[4];\n",
      "                            div = document.createElement(\"div\");\n",
      "                            div.id = \"contentbox1\";\n",
      "                            div.className = \"contentbox\";\n",
      "                            parrafo_posicion.after(div);\n",
      "                            jQuery(\"#contentbox1\").html(\"<div id='contentbox-inline'></div>\");\n",
      "                        \n",
      "\n",
      "\n",
      "\n",
      "\n",
      "\n",
      "\n",
      "\n",
      "\n",
      "\n",
      "\n",
      "\n",
      "\n",
      "\n",
      "\n",
      "\n",
      "La UE autoriza la venta del remdesivir contra el coronavirus\n",
      "\n",
      "\n",
      "\t\t\t\t\tjQuery(function(){jQuery(\"caja-noticia\")[0].innerHTML=jQuery(\"caja-noticia-s\")[0].innerHTML;\n",
      "\t\t\t\t\tjQuery(\"caja-noticia\")[0].innerHTML = jQuery(\"caja-noticia\")[0].innerHTML.replace(\"lazy lazy-loading\", \"lazy lazy-loading lazy-loaded\")});\n",
      "\t\t\t\t\n",
      "Relacionados\n",
      "La Agencia Europea del Medicamento avala el remdesivir de Gilead como el primer tratamiento contra el covid-19\n",
      "\n",
      "\n",
      "comentariosforum5WhatsAppFacebookTwitterLinkedin\n",
      "\n",
      " En casos como el actual, o ante los precios \"desorbitados\" de fármacos para la hepatitis C o el cáncer, las autoridades nacionales deben de hacer uso de las licencias obligatorias que permiten al país que la aplica suspender temporalmente una patente para que una empresa pueda producirlo como genérico, pagando a la empresa titular de la patente una compensación económica, señala. \"Es esperable que en los próximos meses salgan nuevos medicamentos y vacunas para la Covid-19 y tenemos ahora la oportunidad de hacer las cosas de manera diferente y mejor\", anima. ¿No eres usuario? COMO DIRIA RR . . . . \"¡ES EL MERCADO AMIGO!\". Y el \"listo\" de Trump a comprarlo como un loco fanfarrón. Todo puede ser que después de ese impulso comprador, se arrepienta y les pague solo el coste de producción en base a vete a saber qué... eso sí sería muy trumpiano. Tranquilos, que Trump ya se habrá llevado su mordida. ¿O sois tan ingenuos como para pensar que piensa en alguien más que él? 4. Muy grave sería eso incluso para él, pero si es así, antes o después la Justicia tomará cartas en el asunto, sobre todo si pierde las elecciones.\n"
     ]
    },
    {
     "data": {
      "text/markdown": [
       "<a href=\"http://www.eleconomista.es/empresas-finanzas/noticias/10652217/07/20/Denuncian-el-precio-abusivo-del-remdesivir-2000-euros-de-tratamiento-frente-a-los-6-de-produccion.html\">Link</a>"
      ],
      "text/plain": [
       "<IPython.core.display.Markdown object>"
      ]
     },
     "metadata": {},
     "output_type": "display_data"
    },
    {
     "name": "stdout",
     "output_type": "stream",
     "text": [
      "\n",
      "\n",
      "\u001b[1m\u001b[32mECONOMISTA\u001b[0m\n",
      "\u001b[1m\u001b[30mTue, 07 Jul 2020 16:21:30 +0200\u001b[0m\n",
      "\u001b[1m\u001b[35mLos empleados de Mercadona descansarán dos días a la semana\u001b[0m\n",
      "\u001b[34mHeadline\u001b[0m\n",
      "Mercadona ha firmado con los sindicatos UGT y CCOO la implantación en sus más de 1.600 supermercados de la denominada \"jornada laboral 5+2\". Como su nombre indica, este sistema organizativo permitirá a los trabajadores trabajar cinco días semanales y librar dos. Su entrada en vigor se producirá el próximo 3 de agosto de 2020, según lo acordado con el \"comité intercentros de empresa\", donde están representados todos trabajadores de la compañía valenciana.\n",
      "\u001b[34mSummarise\u001b[0m\n",
      "Pero, además, esta nueva jornada laboral introduce una iniciativa pionera en el sector, ya que todos los trabajadores de los supermercados de Mercadona dispondrán de 8 fines de semana largos al año (sábado, domingo y lunes)\", añade Mercadona.\n",
      "\"Durante todo este tiempo, muchas han sido las iniciativas incorporadas, desde apostar por el empleo estable y de calidad, a hacerlo de forma decidida por la igualdad; o compartir el 25% del beneficio generado con la plantilla, reforzar las medidas de conciliación y que el salario mínimo en Mercadona sea un 50% superior al Salario Mínimo Interprofesional cuando una persona lleva 4 años en nuestra empresa, algo que actualmente sucede con el 90 % de la plantilla\", argumentó.\n",
      "\u001b[34mText\u001b[0m\n",
      "Mercadona ha firmado con los sindicatos UGT y CCOO la implantación en sus más de 1.600 supermercados de la denominada \"jornada laboral 5+2\". Como su nombre indica, este sistema organizativo permitirá a los trabajadores trabajar cinco días semanales y librar dos. Su entrada en vigor se producirá el próximo 3 de agosto de 2020, según lo acordado con el \"comité intercentros de empresa\", donde están representados todos trabajadores de la compañía valenciana. La medida será implantada de forma oficial tras haber superado con éxito \"una prueba de horarios en 31 supermercados de la compañía\". \"Permitirá a todo el personal de tiendas trabajar 5 días a la semana y disfrutar de 2 días de descanso. Pero, además, esta nueva jornada laboral introduce una iniciativa pionera en el sector, ya que todos los trabajadores de los supermercados de Mercadona dispondrán de 8 fines de semana largos al año (sábado, domingo y lunes)\", añade Mercadona. La secretaria sindicato-sectorial de Comercio de la FeSMC de UGT, Ana Micó, aplaudió la iniciativa. \"Desde UGT valoramos positivamente el acuerdo de modificación sustancial de condiciones de trabajo que hoy rubricamos y que se ha revelado, desde el primer momento, como un referente en el sector de comercio y en concreto en el sector supermercados\", afirmó. \"Estamos ante la materialización del compromiso que asumió UGT con las trabajadoras y los trabajadores de Mercadona y que fue llevado a la negociación del convenio y concretado a través del Observatorio creado para articular la participación de todas las partes que, durante un año y medio, hemos trabajado para la consecución de este acuerdo, al posibilitar a las personas que trabajan en Mercadona el disfrute de 2 días de descanso semanales y de 8 fines de semana de calidad al año\", agregó la representante.     Por su parte, Ángeles Rodríguez, responsable estatal de Comercio de la Federación de Servicios de CCOO, valoró que este acuerdo \"supone un hito para el sector de supermercados en España\". \"La plantilla de Mercadona va a ser la primera del sector en poder disfrutar de tres días libres seguidos: sábado, domingo y lunes\", remarcó. \"Para CCOO este acuerdo es un ejemplo de lo que se puede conseguir desde una negociación con visión de futuro, y demuestra que en el sector de comercio se pueden aplicar medidas que permitan una mejor conciliación de la vida laboral y personal\", subrayó. La directora de Relaciones Laborales de Mercadona, Ruth García, agregó que la jornada laboral 5+2 \"representa un paso muy importante en la mejora continua de las condiciones laborales que caracteriza a la compañía desde hace más de 25 años\". \"Durante todo este tiempo, muchas han sido las iniciativas incorporadas, desde apostar por el empleo estable y de calidad, a hacerlo de forma decidida por la igualdad; o compartir el 25% del beneficio generado con la plantilla, reforzar las medidas de conciliación y que el salario mínimo en Mercadona sea un 50% superior al Salario Mínimo Interprofesional cuando una persona lleva 4 años en nuestra empresa, algo que actualmente sucede con el 90 % de la plantilla\", argumentó. ¿No eres usuario? El tonto de mercadona siempre va a lo fácil: cuatro marcas y si quieres las tomas y sino las dejas; en la pandemia, cuando más se necesitaba, deja el servicio On-Line. Anda y que te dennnnn A esto se le llama devolución de derechos laborales, nada de concesiones.\n"
     ]
    },
    {
     "data": {
      "text/markdown": [
       "<a href=\"http://www.eleconomista.es/distribucion/noticias/10652214/07/20/Los-empleados-de-Mercadona-descansaran-dos-dias-a-la-semana.html\">Link</a>"
      ],
      "text/plain": [
       "<IPython.core.display.Markdown object>"
      ]
     },
     "metadata": {},
     "output_type": "display_data"
    },
    {
     "name": "stdout",
     "output_type": "stream",
     "text": [
      "\n",
      "\n",
      "\u001b[1m\u001b[32mECONOMISTA\u001b[0m\n",
      "\u001b[1m\u001b[30mTue, 07 Jul 2020 15:55:35 +0200\u001b[0m\n",
      "\u001b[1m\u001b[35mEl Puerto de Barcelona doblará hasta 15.000 las inspecciones del tráfico de mercancías\u001b[0m\n",
      "\u001b[34mHeadline\u001b[0m\n",
      "El Puerto de Barcelona ha invertido dos millones de euros en la puesta en servicio de un nuevo escáner de contenedores de mercancías que permite hacer las inspecciones también con control remoto.\n",
      "\u001b[34mSummarise\u001b[0m\n",
      "Al incorporar el sistema en remoto se garantiza que las inspecciones puedan hacerse las 24 horas del día durante los siete días de la semana, sin necesidad de que haya un inspector en el centro de aduanas del puerto.\n",
      "Por su parte, Isidoro García Millán, delegado especial de la AEAT en Cataluña, recordó que \"la Agencia Tributaria y el Puerto de Barcelona tienen una larga historia de colaboración y que en este momento es especialmente importante que todas las administraciones sigan trabajando juntas para mejorar los servicios a los ciudadanos ya las empresas \".\n",
      "\u001b[34mText\u001b[0m\n",
      "El Puerto de Barcelona ha invertido dos millones de euros en la puesta en servicio de un nuevo escáner de contenedores de mercancías que permite hacer las inspecciones también con control remoto. Esta instalación la primera que se instala en los puertos españoles permite revisar los productos y objetos que hay en el interior de los contenedores con una alta precisión para evitar la importación o exportación de tráficos ilícitos y sin necesidad de proceder a la apertura de los contenedores. Al incorporar el sistema en remoto se garantiza que las inspecciones puedan hacerse las 24 horas del día durante los siete días de la semana, sin necesidad de que haya un inspector en el centro de aduanas del puerto. La inversión del Puerto de Barcelona es fruto de la colaboración con las autoridades aduaneras y de la Agencia Estatal de la Administración Tributaria en Cataluña (AEAT). Se trata de una prueba piloto que se irá incorporando a otros puertos del conjunto del Estado, previsiblemente en los próximos meses se instalará uno en Tenerife. En la actualidad el servicio de inspecciones del puerto realizaba entre 6.500 y 7.100 revisiones anuales de contenedores de mercancías y, según la jefe de la Dependencia Regional de Aduanas e IIEE de Catalunya, Almudena Escobedo, esta cifra podrá doblarse con el uso del nuevo escáner. En las últimas semanas, las empresas REM Transportes y Naviera Armas-Trasmediterránea, que utilizan este servicio regularmente, han cedido sus vehículos tanto para realizar estas pruebas como la formación técnica de los profesionales encargados de su funcionamiento, que gestionará la Aduana de Barcelona. El director del Puerto de Barcelona, José Alberto Carbonell, destacó que la inspección es una herramienta importante para garantizar la eficacia y agilidad de las inspecciones y subrayó que \"el comercio internacional, las exportaciones y las importaciones, serán la base para recuperar el crecimiento económico y superar la actual crisis\" provocada por el Covid-19. Por su parte, Isidoro García Millán, delegado especial de la AEAT en Cataluña, recordó que \"la Agencia Tributaria y el Puerto de Barcelona tienen una larga historia de colaboración y que en este momento es especialmente importante que todas las administraciones sigan trabajando juntas para mejorar los servicios a los ciudadanos ya las empresas \". ¿No eres usuario?\n"
     ]
    },
    {
     "data": {
      "text/markdown": [
       "<a href=\"http://www.eleconomista.es/catalunya/noticias/10652144/07/20/El-Puerto-de-Barcelona-doblara-hasta-15000-las-inspecciones-del-trafico-de-mercancias.html\">Link</a>"
      ],
      "text/plain": [
       "<IPython.core.display.Markdown object>"
      ]
     },
     "metadata": {},
     "output_type": "display_data"
    },
    {
     "name": "stdout",
     "output_type": "stream",
     "text": [
      "\n",
      "\n",
      "\u001b[1m\u001b[32mECONOMISTA\u001b[0m\n",
      "\u001b[1m\u001b[30mTue, 07 Jul 2020 15:37:16 +0200\u001b[0m\n",
      "\u001b[1m\u001b[35mEl Gobierno cederá suelo público a coste cero para que fondos privados construyan vivienda social\u001b[0m\n",
      "\u001b[34mHeadline\u001b[0m\n",
      "El Gobierno abre la puerta a ceder suelo público a coste cero a las empresas privadas para que construyan viviendas de alquiler social. El Consejo de Ministros ha aprobado así una disposición legal para permitir al Ejecutivo no cobrar nada a los fondos o promotores por la explotación de ese suelo público durante un máximo de 75 años.\n",
      "\u001b[34mSummarise\u001b[0m\n",
      "El Consejo de Ministros ha aprobado así una disposición legal para permitir al Ejecutivo no cobrar nada a los fondos o promotores por la explotación de ese suelo público durante un máximo de 75 años.\n",
      "\"El pago del canon tiene que ver con la limitación de esos alquileres sociales y esta disposición nos permite que el canon pueda llegar a ser cero\" El ministro ya anunció el año pasado este proyecto para ampliar el parque de vivienda público de España, que supone un 2,5% del total frente al 5% de la media europea, contando con la colaboración público-privada.\n",
      "\u001b[34mText\u001b[0m\n",
      "El Gobierno abre la puerta a ceder suelo público a coste cero a las empresas privadas para que construyan viviendas de alquiler social. El Consejo de Ministros ha aprobado así una disposición legal para permitir al Ejecutivo no cobrar nada a los fondos o promotores por la explotación de ese suelo público durante un máximo de 75 años. \"El pago del canon tiene que ver con la limitación de esos alquileres sociales y esta disposición nos permite que el canon pueda llegar a ser cero. No tiene por qué ser cero, dependerá de los precios, de lo que se construya y dónde se construya. Pero nos permite, en un momento dado, que los constructores no tengan que pagarlo\", ha explicado José Luis Ábalos, ministro de Transportes, Movilidad y Vivienda, en la rueda de prensa posterior a la celebración del Consejo de Ministros. \"El pago del canon tiene que ver con la limitación de esos alquileres sociales y esta disposición nos permite que el canon pueda llegar a ser cero\" El ministro ya anunció el año pasado este proyecto para ampliar el parque de vivienda público de España, que supone un 2,5% del total frente al 5% de la media europea, contando con la colaboración público-privada. El programa implica que el Gobierno de la Nación aporta, a través del SEPES, suelo de titularidad estatal para que fondos, promotoras o constructores privados levanten vivienda para alquiler social y gestionen esas rentas y edificios durante el periodo de la concesión. La idea es sacar los terrenos a licitación y que las empresas presenten sus proyectos de inversión.  \"Creo que es una medida muy incentivadora cuyo objetivo es dinamizar la economía y al mismo tiempo ir generando un parque de vivienda pública que no tenemos en este país y que incluso a ido a menos por determinadas políticas públicas\", ha señalado Ábalos. Cuando se presentó por primera vez esta iniciativa (octubre de 2019), el ministro de Transportes señaló que estaba en contacto con los distintos ministerios para identificar el suelo público disponible y establecer cuánto se podría destinar a la promoción de vivienda pública. Asimismo, señaló que su objetivo es que el modelo fuera replicable en todos los niveles de la administración para que las ayuntamientos y las autonomía destinaran suelo de su titularidad a este tipo de iniciativa, que una primera fase contemplaba la construcción de 20.000 viviendas.  En ese momento también se explicó que los terrenos se adjudicarían a los inversores privados durante unos 50 años, espacio temporal que ha aumentado a un máximo de 75 años en función del proyecto y la zona, y que después se tendrían que devolver al Estado para que engrosara la planta de vivienda público. Ahora no ha especificado si habrá opción a prorrogar las concesiones.     La idea inicial era que en los pliegos se fijaran las rentabilidades que podrán lograr los inversores con el cobro de los alquileres, que no estaba previsto que llegara al 10%. Ábalos justificó el atractivo del programa porque permite ahorrar el coste del suelo a los fondos, que supone el 40% del coste total de la promoción.  Dentro las medidas de vivienda, el Consejo de Ministros también ha aprobado otras medidas de ayudas al alquiler y que persiguen optimizar la eficiencia de los fondos del Plan Estatal de Vivienda 2018-2021, que actualmente obran en poder de las comunidades autónomas y de las ciudades de Ceuta y Melilla. \"Se flexibilizan las condiciones, incrementando de forma efectiva la inversión en 2020 y 2021 y permitiendo a estas administraciones territoriales redirigir la financiación y las ayudas donde sea más necesario\", señala el ministerio. ¿No eres usuario? ESTE PLAN LLEVAN INTENTANDO PONER YA MUCHAS DÉCADAS PERO HAY MUCHOS INTERES CREADOS, EN LA MAFIA DE LA CONSTRUCCIÓN DONDE NO SE PUEDA CHUPAR NADA NO INTERESA REALIZAR NADA PRIMERA REGLA DEL ESPECULADOR. Esto no servirá de nada si no se controlan las ganancias del promotor ni los precios a los que se va a vender. Ejemplo en Barcelona se esta construyendo vivienda etiquetada como VPO pero el promotor la vende a 250.000  !!! Ninguna persona con sueldo mil eurista puede pagar eso !! Alomejor ya es demasiado tarde,,, los que pueden comprar son gente que ya casi tiene 50 años que se chuparon la crisis del 2008 y la del Covid. Los que venden son jubilados de mas de 70 años y a precio de oro. Los jovenes de 18 a 30 años por estudios y empleo precario no pueden comprar nada. Los de mas de 30 años con lo que tienen ahorrado  y el sueldo no se pueden plantear viviendas de 300.000 a 500.000 euros que se están construyendo por promotores privados en las grandes ciudades. Que las construyan ya que me voy a okuparlas hoy mismo El gobierno pretende que una persona viva toda su vida de alquiler? Que clase de progreso es este ? Vamos para atrás como los cangrejos. A este paso quien tenga un piso en propiedad va a ser considerado de lujo ! Se debe construir vivienda para venta no debemos ser menos que nuestros padres o nuestros abuelos. ¿ cómo que a coste cero? . A coste cero para el comprador, pero previamente ese suelo habrá sido adquirido por el Estado previo robo a los ciudadanos.Algo me dice que los compradores de ese suelo serán amiguitos. Y por supuesto con comisiones de por medio. Eso no es capitalimo ni liberalismo. Es Capitalismo de Estado. O también llamado PREVARICACIÓN. Ceder suelo a fondos privados especulativos ?? Joder luego nos quejábamos que se vendia en Madrid vivienda vpo a fondos privados. Esto es peor ya que se le da permiso para construir gratis !! Asi yo también monto un negocio a costa del dinero y los derechos de los demás. !! CUMPLE CON TU OBLIGACIÓN, DANDO LAS EXPLICACIONESQUE PRECISAN QUIENES TE PAGAN,ESTAFADOR, ZAMPABOLLOS.....LO DE DELCYLO DE DELCYLO DE DELCY............,,,,,,,,,,,,,................. ¿ QUÉ TRAJO,QUÉ SE LLEVÓ.......?MIENTRAS TANTO,SIGUE ¡¡¡¡¡  ZAMPANDO  !!!!!! JAJAJAJAJAJAJAJAUna medida social tras otra y el facherío (y sus palmeros, esos que no se han enterado que llevan corbata PERO SON CURRITOS) no para de ladrar.Pero qué divertidos van a ser (al menos) estos cuatro años.A ladrar, perros! Un gran país : Donde a los temporeros inmigrantes se les da mascarillas, pero sin agua donde los alojamos; un lugar donde la violencia de genero está tipificada como pandemia, donde todos somos iguales ante la ley ( algunos no deben ni presentarse ante ella), los intermediarios se llevan al 99% de los beneficios, donde el honor de pertenecer a él da privilegios sobre los que son del clan, etc, etc. No se discernir entre si vivimos una pandemia o en una pandemia. Es ilegal....ya que altera el mercado y la libre competencia al favorecer a uno respecto a otro.....Todo esto sera parado por el alto tribunal de turno ademas del enesimo tiron de orejas desde Bruselas....que no se que espera para intervenir ya a España......No veo la hora de que lleguen los calvinistas rabiosos con la motosierra de recortar para salvaguardar los ahorros de la gente de sus paises de origen.....va a ser apocaliptico para los mamadores de lo publicoDificil de entender para juntaletras analfabetos funcionales de las mas minimas normas de economia y de como funciona el sitio en el que estamos la UE.....para experimentos mejor Cuba, Corea del Norte, Ecuador, Nicaragua, Venezuela y fin de la lista comunista de paises fallidos... #10, confundes facherío con libertad de mercado( con conceptos opuestos). Por favor, hazte un favor y sale del agujero de envidia en el que estás inmerso. Lee un poco, y trabaja más si quieres vivir mejor. Personalmente estoy hasta los mismísimos de trabajar y pagar impuestos para mantener vagos y envidiosos como tú.¿ qué quieres, que te regalen una casita con el dinero expoliado a los que sí trabajan de verdad?. Ahora, después de leer el comentario, LADRA, Y LADRA MUY FUERTE. La vivienda social NUNCA ha de ser destinada a venta.SIEMPRE ha de estar destinada al alquiler social, ya que es la principal herramienta par suavizar los precios en el mercado inmobiliario.Así es como funciona el norte de europa donde el precio de la vivienda no supone una ruina para la clase media.\n"
     ]
    },
    {
     "data": {
      "text/markdown": [
       "<a href=\"http://www.eleconomista.es/empresas-finanzas/noticias/10652096/07/20/El-Gobierno-cedera-suelo-publico-a-coste-cero-para-que-fondos-privados-construyan-vivienda-social.html\">Link</a>"
      ],
      "text/plain": [
       "<IPython.core.display.Markdown object>"
      ]
     },
     "metadata": {},
     "output_type": "display_data"
    },
    {
     "name": "stdout",
     "output_type": "stream",
     "text": [
      "\n",
      "\n",
      "\u001b[1m\u001b[32mECONOMISTA\u001b[0m\n",
      "\u001b[1m\u001b[30mTue, 07 Jul 2020 15:13:24 +0200\u001b[0m\n",
      "\u001b[1m\u001b[35mLos préstamos a fondo perdido en EEUU benefician a los allegados a Trump, varios legisladores, Kanye West y Khloe Kardashian\u001b[0m\n",
      "\u001b[34mHeadline\u001b[0m\n",
      "Ni el mejor de los reality shows hubiera reunido a los multiples protagonistas que enumeran la lista de receptores de préstamos a fondo perdido en Estados Unidos. Esta iniciativa, conocida como Programa de Protección de Nóminas (PPP, por sus siglas en inglés) forma parte del programa de alivio aprobado a finales de marzo y su intención ha sido salvar el mayor número de empleos entre las pequeñas y medianas empresas del país tras el azote de la pandemia del coronavirus.\n",
      "\u001b[34mSummarise\u001b[0m\n",
      "El Departamento del Tesoro y la Administración de Pequeñas Empresas (SBA, por sus siglas en inglés) daban a conocer esta semana los detalles de las cerca de 700.000 compañías y entidades que solicitaron este tipo de ayudas, cuyo fondo total alcanzó alrededor de 670.000 millones de dólares.\n",
      "Princeton Forrestal LLC, una filial de Kushner Cos que compró el Princeton Marriott Hotel en 2018, recibió un préstamo de entre 1 y 2 millones de dólares, según los datos de la SBA.\n",
      "El Departamento del Tesoro justificó que estos fondos han ayudado a salvar 50 millones de empleos y más del 75% de las nóminas de los pequeños negocios.\n",
      "\u001b[34mText\u001b[0m\n",
      "Ni el mejor de los reality shows hubiera reunido a los multiples protagonistas que enumeran la lista de receptores de préstamos a fondo perdido en Estados Unidos. Esta iniciativa, conocida como Programa de Protección de Nóminas (PPP, por sus siglas en inglés) forma parte del programa de alivio aprobado a finales de marzo y su intención ha sido salvar el mayor número de empleos entre las pequeñas y medianas empresas del país tras el azote de la pandemia del coronavirus. El Departamento del Tesoro y la Administración de Pequeñas Empresas (SBA, por sus siglas en inglés) daban a conocer esta semana los detalles de las cerca de 700.000 compañías y entidades que solicitaron este tipo de ayudas, cuyo fondo total alcanzó alrededor de 670.000 millones de dólares. Entre las beneficiadas se incluyen múltiples empresas asociadas con el propio presidente de EEUU, Donald Trump, sus familiares y algunos de sus allegados.  Así, por ejemplo, Irongate Azrep Bw LLC, un socio de la Trump Organization en un hotel y edificio residencial en Waikiki, Hawai, recibió un préstamo de entre 2 y 5 millones de dólares, según los datos publicados. Por otro lado, compañías propiedad de la familia de Jared Kushner, el asesor principal de la Casa Blanca y yerno de Trump, también recibieron varios préstamos. Princeton Forrestal LLC, una filial de Kushner Cos que compró el Princeton Marriott Hotel en 2018, recibió un préstamo de entre 1 y 2 millones de dólares, según los datos de la SBA.     Otras empresas receptoras de estos préstamos están ligadas a funcionarios de la administración Trump, entre ellas una compañía a la secretaria de Educación, Betsy DeVos, recibió al menos 6 millones de dólares. Perdue Inc, una compañía de camiones con sede en Bonaire, Georgia, fundada por el secretario de Agricultura, Sonny Perdue, recibió un préstamo de entre 150.000 y 350.000 dólares. Pero la concesión de estos préstamos también salpica a los demócratas. EDI Associates, una compañía vinculada al marido de la presidenta de la Cámara de Representantes, Nancy Pelosi, recibió entre 250.000 y 500.00 dólares en ayudas a fondo perdido. Varias entidades relacionadas con legisladores tanto demócratas como republicanos en el Capitolio también aparecen en la lista de préstamos del programa. Además se incluye a Monzack Mersky McLaughlin and Browder, un bufete de abogados en el que trabajó hace 49 años el ex vicepresidente de EEUU y actual aspirante a la Casa Blanca, Joe Biden. Además de la clase política, la compañía de producción del cantante Kanye West, Yeezy, obtuvo un préstamo de entre 2 millones y 5 millones de dólares, que ayudaron a mantener 160 empleos. Su cuñada, Khloe Kardashian, también recibió fondos para su compañía de ropa, de la que es copropietaria con Emma Grede, Good American. Según los registros, recibieron entre 1 y 2 millones de dólares, para salvar 57 puestos de trabajo. En un comunicado, la compañía indicó que ni Kardashian ni Grede han cobrado un sueldo desde que comenzó la pandemia. El Departamento del Tesoro justificó que estos fondos han ayudado a salvar 50 millones de empleos y más del 75% de las nóminas de los pequeños negocios. La cantidad media de los préstamos solicitados se situó en los 107.000 dólares aunque los prestatarios pueden obtener hasta un máximo de 10 millones de dólares.  En los datos publicados no se incluyeron los aproximadamente 30.000 millones de dólares en préstamos que fueron devueltos por entidades que posteriormente no podían acceder a estos fondos por no cumplir con los requisitos y solo se han divulgado los nombres de las empresas que obtuvieron más de 150.000 dólares. El pasado 5 de junio, Trump rubricó una ley que implementó cambios clave en las condiciones de condonación de estos préstamos. Entre los más significativos se incluye la posibilidad de los prestatarios de gastar el crédito en las 24 semanas posteriores a la fecha de origen, en lugar de las ocho semanas fijadas anteriormente.  También se extendió del 30 de junio hasta finales de año, el plazo para volver a contratar a los empleados y revertir los recortes salariales de más del 25%. Si no se restablecen el empleo y los salarios antes de dicho plazo, se reducirá proporcionalmente la condonación de los préstamos. ¿No eres usuario?\n"
     ]
    },
    {
     "data": {
      "text/markdown": [
       "<a href=\"http://www.eleconomista.es/empresas-finanzas/noticias/10652030/07/20/Los-prestamos-a-fondo-perdido-en-EEUU-benefician-a-los-allegados-a-Trump-varios-legisladores-Kanye-West-y-Khloe-Kardashian.html\">Link</a>"
      ],
      "text/plain": [
       "<IPython.core.display.Markdown object>"
      ]
     },
     "metadata": {},
     "output_type": "display_data"
    },
    {
     "name": "stdout",
     "output_type": "stream",
     "text": [
      "\n",
      "\n",
      "\u001b[1m\u001b[32mECONOMISTA\u001b[0m\n",
      "\u001b[1m\u001b[30mTue, 07 Jul 2020 15:10:30 +0200\u001b[0m\n",
      "\u001b[1m\u001b[35mRibera reivindica como propia la prórroga del bono social que ha presentado Pablo Iglesias\u001b[0m\n",
      "\u001b[34mHeadline\u001b[0m\n",
      "El Ministerio de Transición Ecológica ha reivindicado como propia la propuesta de ampliar los plazos para el bono social que ha sido adoptada en el Consejo de Ministros a propuesta de la vicepresidenta, Teresa Ribera. La medida ha formado parte de una ampliación del llamado 'escudo social' del Gobierno que ha sido presentado por el vicepresidente segundo, Pablo Iglesias, que asume así un paquete de medidas que tocan a varios departamentos. Pese a eso, la comunicación de la medida no ha recaído en el departamento de Asuntos sociales sino que ha sido el área de Ribera quién ha emitido la correspondiente nota de prensa explicando la medida antes incluso de que se diera a conocer la referencia del Consejo de Ministros.\n",
      "\u001b[34mSummarise\u001b[0m\n",
      "El Ministerio de Transición Ecológica ha reivindicado como propia la propuesta de ampliar los plazos para el bono social que ha sido adoptada en el Consejo de Ministros a propuesta de la vicepresidenta, Teresa Ribera.\n",
      "Pese a eso, la comunicación de la medida no ha recaído en el departamento de Asuntos sociales sino que ha sido el área de Ribera quién ha emitido la correspondiente nota de prensa explicando la medida antes incluso de que se diera a conocer la referencia del Consejo de Ministros.\n",
      "Esta prohibición, habilitada durante el estado alarma, se amplía hasta el 30 de septiembre y no se podrán realizar cortes incluso aunque conste dicha posibilidad en los contratos de suministro o acceso suscritos por los consumidores.\n",
      "\u001b[34mText\u001b[0m\n",
      "El Ministerio de Transición Ecológica ha reivindicado como propia la propuesta de ampliar los plazos para el bono social que ha sido adoptada en el Consejo de Ministros a propuesta de la vicepresidenta, Teresa Ribera. La medida ha formado parte de una ampliación del llamado 'escudo social' del Gobierno que ha sido presentado por el vicepresidente segundo, Pablo Iglesias, que asume así un paquete de medidas que tocan a varios departamentos. Pese a eso, la comunicación de la medida no ha recaído en el departamento de Asuntos sociales sino que ha sido el área de Ribera quién ha emitido la correspondiente nota de prensa explicando la medida antes incluso de que se diera a conocer la referencia del Consejo de Ministros. Iglesias ha agradecido, por su parte, la colaboración de Ábalos en la rueda de prensa del Consejo de Ministros pero no ha citado a la vicepresidenta Ribera que no participó en la rueda de prensa pese a que el Consejo de ministros ha dado luz verde a otras dos importantes medidas en materia energética. La prórroga del bono social beneficiará a los 25.900 autónomos que se habían acogido a esta medida, así como a los más de 70.000 usarios que tenían que renovar la prestación. En el decreto que ha sido aprobado se prorroga la prohibición de suspender el suministro de agua, energía eléctrica y gas en ningún domicilio que tenga la consideración de primera vivienda. Esta prohibición, habilitada durante el estado alarma, se amplía hasta el 30 de septiembre y no se podrán realizar cortes incluso aunque conste dicha posibilidad en los contratos de suministro o acceso suscritos por los consumidores. La prohibición de cortes de agua, electricidad y gas natural, gases manufacturados y gases licuados de petróleo por canalización está dirigida exclusivamente a particulares y para los suministros adscritos a su vivienda habitual, cuestión que el consumidor podrá acreditar a través de cualquier medio documental que acredite esta circunstancia. Se amplía igualmente el periodo de tiempo por el que no computará a efectos de los plazos comprendidos entre el requerimiento fehaciente de pago y la suspensión de suministro por impago. Por tanto, si el primer aviso de pago se ha producido desde el inicio del estado de alarma hasta el 30 de septiembre, los plazos que han de transcurrir hasta que el suministrador pueda cortar el suministro empezarán a contar desde el próximo 1 de octubre. Por otro lado, el Consejo de Ministros ha autorizado la tramitación urgente de los reales decretos que regulan el nuevo régimen de subastas de energías renovables y el procedimiento y los criterios generales de acceso y conexión a las redes de transporte y distribución eléctricas. Con ello, el Gobierno agiliza la tramitación de sendas normas, que contribuyen a dotar de certidumbre y seguridad jurídica al marco normativo energético, preparándolo para el despliegue ordenado de energías renovables que vivirá el sistema energético español en los próximos años. Esta masiva penetración renovable están planificados unos 60 gigavatios hasta 2030- tendrá un efecto tractor sobre la cadena de valor industrial y la competitividad del país, generando actividad económica y empleo sostenible, en el contexto de la reactivación económica tras el COVID-19 para tratar de atraer una inversión cercana a los 90.000 millones euros. ¿No eres usuario?\n"
     ]
    },
    {
     "data": {
      "text/markdown": [
       "<a href=\"http://www.eleconomista.es/energia/noticias/10652023/07/20/Ribera-reivindica-como-propia-la-prorroga-del-bono-social-que-ha-presentado-Pablo-Iglesias.html\">Link</a>"
      ],
      "text/plain": [
       "<IPython.core.display.Markdown object>"
      ]
     },
     "metadata": {},
     "output_type": "display_data"
    },
    {
     "name": "stdout",
     "output_type": "stream",
     "text": [
      "\n",
      "\n",
      "\u001b[1m\u001b[32mECONOMISTA\u001b[0m\n",
      "\u001b[1m\u001b[30mTue, 07 Jul 2020 15:05:10 +0200\u001b[0m\n",
      "\u001b[1m\u001b[35mCOMSA Industrial se adjudica dos proyectos de ingeniería en las autopistas de Colombia por 18 millones\u001b[0m\n",
      "\u001b[34mHeadline\u001b[0m\n",
      "La división Industrial de COMSA Corporación se ha adjudicado dos nuevos contratos de ingeniería en Colombia, por valor de 18 millones de euros.\n",
      "\u001b[34mSummarise\u001b[0m\n",
      " Ancón Sur. Los trabajos se llevarán a cabo en dos túneles paralelos de 1.500 metros, los de Sinifaná, y otros dos de 3.500 metros, los de Amagá, en los que el negocio también realizará el mantenimiento durante 2 años del sistema de control SCADA, los PLCs (Controlador Lógico Programable), las comunicaciones, el control de ventilación, iluminación, detección y extinción de incendios, señalización y radares, entre otros servicios.\n",
      "En paralelo, la compañía se ha adjudicado también el contrato de suministro, instalación y puesta en marcha del SCADA de control, los PLC y las comunicaciones de los 2 túneles paralelos de Mulatos que tienen una longitud de 2.500 metros.\n",
      "\u001b[34mText\u001b[0m\n",
      "La división Industrial de COMSA Corporación se ha adjudicado dos nuevos contratos de ingeniería en Colombia, por valor de 18 millones de euros. La compañía desarrollará los programas de ingeniería correspondientes a la instalación de sistemas ITS (Intelligent Traffic Systems) en los túneles de Sinifaná y Amagá en la Autopista Conexión Pacífico 1, así como en el Túnel de Mulatos en la Pacífico 2. Estos proyectos incluyen el suministro, instalación y puesta en marcha de los sistemas ITS para los túneles de la carretera entre Bolomolo  Camino C.  Ancón Sur. Los trabajos se llevarán a cabo en dos túneles paralelos de 1.500 metros, los de Sinifaná, y otros dos de 3.500 metros, los de Amagá, en los que el negocio también realizará el mantenimiento durante 2 años del sistema de control SCADA, los PLCs (Controlador Lógico Programable), las comunicaciones, el control de ventilación, iluminación, detección y extinción de incendios, señalización y radares, entre otros servicios.  En Colombia, uno de los 20 países en los que está presente la compañía, los equipos de ingeniería ya están implementando los sistemas de control de tráfico en el tercer tercio del Corredor Bogotá-Villavicencio y también en los túneles de la Línea ubicados en la Cordillera Central de los Andes.  En paralelo, la compañía se ha adjudicado también el contrato de suministro, instalación y puesta en marcha del SCADA de control, los PLC y las comunicaciones de los 2 túneles paralelos de Mulatos que tienen una longitud de 2.500 metros. El plazo de ejecución es de 6 meses. COMSA Corporación mantuvo un crecimiento sostenido durante 2019 y cerró el año con unas ventas globales por valor de 777 millones de euros. El grupo pasó a consolidar por el método de puesta en equivalencia desde enero de 2019, por lo que la cifra de facturación es inferior a los 1.101 millones de 2018 al no contemplarse los resultados de Trakcja, su filial en Polonia. No obstante, la comparativa de los datos con el mismo método de consolidación es un 5,8% superior. ¿No eres usuario?\n"
     ]
    },
    {
     "data": {
      "text/markdown": [
       "<a href=\"http://www.eleconomista.es/catalunya/noticias/10651991/07/20/COMSA-Industrial-se-adjudica-dos-proyectos-de-ingenieria-en-las-autopistas-de-Colombia-por-18-millones.html\">Link</a>"
      ],
      "text/plain": [
       "<IPython.core.display.Markdown object>"
      ]
     },
     "metadata": {},
     "output_type": "display_data"
    },
    {
     "name": "stdout",
     "output_type": "stream",
     "text": [
      "\n",
      "\n",
      "\u001b[1m\u001b[32mECONOMISTA\u001b[0m\n",
      "\u001b[1m\u001b[30mTue, 07 Jul 2020 13:31:11 +0200\u001b[0m\n",
      "\u001b[1m\u001b[35mLa empresa española Immunostep fabricará test de coronavirus del CSIC con un 98% de fiabilidad\u001b[0m\n",
      "\u001b[34mHeadline\u001b[0m\n",
      "La necesidad de contar con test de anticuerpos más fiables ha llevado al CSIC a diseñar un prototipo con el 98% de fiabilidad. Ahora, la empresa española Immunostep se encargará de su fabricación. El consejero delegado de la firma, Ricardo Jara, asegura que alcanzarán una producción de 14.000 kits diarios y que estarán en los centros sanitarios en cuestión de semanas.\n",
      "\u001b[34mSummarise\u001b[0m\n",
      "case 2 : jQuery(parrafos[1]).after(jQuery(\"div[class='b300 pub_mob251']\")); break;\n",
      "default: jQuery(parrafos[2]).after(jQuery(\"div[class='b300 pub_mob251']\"));\n",
      "\"Con el nuevo test se solventan estos problemas ya que es una tecnología española, fabricada en España y que permitirá cubrir tanto la demanda nacional como la de otros países que lo puedan necesitar, y, además, cuenta con una fiabilidad del 98 por ciento\", ha comentado.\n",
      "\"Con el nuevo test se solventan estos problemas ya que es una tecnología española, fabricada en España y que permitirá cubrir tanto la demanda nacional como la de otros países que lo puedan necesitar, y, además, cuenta con una fiabilidad del 98 por ciento\", ha comentado.\n",
      "\u001b[34mText\u001b[0m\n",
      "La necesidad de contar con test de anticuerpos más fiables ha llevado al CSIC a diseñar un prototipo con el 98% de fiabilidad. Ahora, la empresa española Immunostep se encargará de su fabricación. El consejero delegado de la firma, Ricardo Jara, asegura que alcanzarán una producción de 14.000 kits diarios y que estarán en los centros sanitarios en cuestión de semanas. La fiabilidad ha sido evidenciada mediante los estudios realizados junto a los servicios madrileños de Inmunología del Hospital Universitario La Princesa y del Hospital Universitario de la Paz. \"Este test es un ejemplo de cómo los años de investigación básica dan sus frutos\", ha comentado la presidenta del CSIC, Rosa Menéndez, tras puntualizar el trabajo ha sido desarrollado por cuatro grupos de investigación del Centro Nacional de Biotecnología (CNB-CSIC). Por su parte, Jara ha confirmado que los kit serán del tipo ELISA, un sistema mucho más fiable que los primeros test rápidos con los que se contaba al principio de la pandemia. De hecho, los infectólogos siempre han afirmado que es la mejor manera de identificar a los anticuerpos que genera el cuerpo humano tras su contacto con el coronavirus.     El jefe del área de Estrategia Comercial e Internacionalización del CSIC, Javier Maira Vidal, ha asegurado que con estos test se solventará el problema de no alcanzar más del 80% de fiabilidad, en el mejor de los casos, que aportaban los otros test de anticuerpos. \"Con el nuevo test se solventan estos problemas ya que es una tecnología española, fabricada en España y que permitirá cubrir tanto la demanda nacional como la de otros países que lo puedan necesitar, y, además, cuenta con una fiabilidad del 98 por ciento\", ha comentado. \n",
      "Durante la presentación del nuevo test, Menéndez ha destacado la importancia que para el CSIC tienen las donaciones privadas, ya que les permiten que puedan realizar sus proyectos. De hecho, ha informado de que han recibido más de 12 millones de euros a través de este tipo de donaciones. \"Sin ellos no hubiera sido posible\", ha asegurado.\n",
      "\t\t\t\tif (dispositivo=='mobile'){\n",
      "\t\t\t\t\tjQuery(\"div[class='b300 pub_desk251']\").remove();\n",
      "\t\t\t\t\tif(gts_gpt != 'sync'){ googletag.cmd.push(function() { googletag.display('300x251'); });}else{googletag.display('300x251'); }\n",
      "\t\t\t\t}\n",
      "\t\t\t\n",
      "\n",
      "\t\t\t\t\t\t\tif (dispositivo=='mobile'){\n",
      "\t\t\t\t\t\t\t\tparrafos = jQuery(\".Article__paragraphGroup p:not(:empty)\");\n",
      "\t\t\t\t\t\t\t\tswitch(parrafos.length){\n",
      "\t\t\t\t\t\t\t\t\tcase 1 : jQuery(\"div[class='b300 pub_mob250']\").after(jQuery(\"div[class='b300 pub_mob251']\")); break;\n",
      "\t\t\t\t\t\t\t\t\tcase 2 : jQuery(parrafos[1]).after(jQuery(\"div[class='b300 pub_mob251']\")); break;\n",
      "\t\t\t\t\t\t\t\t\tdefault: jQuery(parrafos[2]).after(jQuery(\"div[class='b300 pub_mob251']\"));\n",
      "\t\t\t\t\t\t\t\t}\n",
      "\t\t\t\t\t\t\t}\n",
      "\t\t\t\t\t\t\n",
      "                            parrafos = jQuery(\".Article__paragraphGroup>p:not(:empty)\");\n",
      "                            parrafo_posicion = 5>parrafos.length?parrafos[parrafos.length-1]:parrafos[4];\n",
      "                            div = document.createElement(\"div\");\n",
      "                            div.id = \"contentbox1\";\n",
      "                            div.className = \"contentbox\";\n",
      "                            parrafo_posicion.after(div);\n",
      "                            jQuery(\"#contentbox1\").html(\"<div id='contentbox-inline'></div>\");\n",
      "                        \n",
      "\n",
      "\n",
      "\n",
      "\n",
      "\n",
      "\n",
      "\n",
      "\n",
      "\n",
      "\n",
      "\n",
      "\n",
      "\n",
      "\n",
      "Grifols pone a disposición de España 1,5 millones de test moleculares para el virus la próxima semana\n",
      "\n",
      "\n",
      "\t\t\t\t\tjQuery(function(){jQuery(\"caja-noticia\")[0].innerHTML=jQuery(\"caja-noticia-s\")[0].innerHTML;\n",
      "\t\t\t\t\tjQuery(\"caja-noticia\")[0].innerHTML = jQuery(\"caja-noticia\")[0].innerHTML.replace(\"lazy lazy-loading\", \"lazy lazy-loading lazy-loaded\")});\n",
      "\t\t\t\t\n",
      "comentariosforum0WhatsAppFacebookTwitterLinkedin\n",
      "\n",
      " El jefe del área de Estrategia Comercial e Internacionalización del CSIC, Javier Maira Vidal, ha asegurado que con estos test se solventará el problema de no alcanzar más del 80% de fiabilidad, en el mejor de los casos, que aportaban los otros test de anticuerpos. \"Con el nuevo test se solventan estos problemas ya que es una tecnología española, fabricada en España y que permitirá cubrir tanto la demanda nacional como la de otros países que lo puedan necesitar, y, además, cuenta con una fiabilidad del 98 por ciento\", ha comentado.  Durante la presentación del nuevo test, Menéndez ha destacado la importancia que para el CSIC tienen las donaciones privadas, ya que les permiten que puedan realizar sus proyectos. De hecho, ha informado de que han recibido más de 12 millones de euros a través de este tipo de donaciones. \"Sin ellos no hubiera sido posible\", ha asegurado. ¿No eres usuario?\n"
     ]
    },
    {
     "data": {
      "text/markdown": [
       "<a href=\"http://www.eleconomista.es/empresas-finanzas/noticias/10651674/07/20/La-empresa-espanola-Immunostep-fabricara-test-de-coronavirus-del-CSIC-con-un-98-de-fiabilidad.html\">Link</a>"
      ],
      "text/plain": [
       "<IPython.core.display.Markdown object>"
      ]
     },
     "metadata": {},
     "output_type": "display_data"
    },
    {
     "name": "stdout",
     "output_type": "stream",
     "text": [
      "\n",
      "\n",
      "\u001b[1m\u001b[32mECONOMISTA\u001b[0m\n",
      "\u001b[1m\u001b[30mTue, 07 Jul 2020 12:53:43 +0200\u001b[0m\n",
      "\u001b[1m\u001b[35mBBVA, contrario a que PwC entregue los datos que unen a Francisco González con el espionaje a Ausbanc\u001b[0m\n",
      "\u001b[34mHeadline\u001b[0m\n",
      "BBVA ha recurrido el requerimiento que realizó el pasado lunes el juez del caso Villarejo a PwC para que, en un plazo de siete días, aportara a la causa todos los datos, documentos e información  a los que hayan tenido acceso que relacionen al expresidente del banco, Francisco González (FG), con el espionaje a la asociación de consumidores Ausbanc.\n",
      "\u001b[34mSummarise\u001b[0m\n",
      "Sin embargo, la entidad esgrime en su recurso, al que ha tenido acceso la agencia Efe, que el requerimiento del juez vulnera el derecho de defensa de BBVA y considera la imposibilidad de cumplir el plazo de una semana dado el volumen de información almacena.\n",
      "PUES PARA IR PREGONANDO \"SU ABSOLUTA COLABORACIÓN\" EN ESTE TURBIO ASUNTO LA VERDAD ES QUE LO DISIMULAN BASTANTE BIEN.LO SIGUIENTE QUE VENDERA BBVA ES QUE ES \"UN BANCO ETICO\".\n",
      "PARA IR PREGONANDO \"SU ABSOLUTA COLABORACIÓN\" EN ESTE TURBIO ASUNTO LA VERDAD ES QUE LO DISIMULAN BASTANTE BIEN.LO SIGUIENTE QUE VENDERA BBVA ES QUE ES \"UN BANCO ETICO\".\n",
      "\u001b[34mText\u001b[0m\n",
      " BBVA ha recurrido el requerimiento que realizó el pasado lunes el juez del caso Villarejo a PwC para que, en un plazo de siete días, aportara a la causa todos los datos, documentos e información  a los que hayan tenido acceso que relacionen al expresidente del banco, Francisco González (FG), con el espionaje a la asociación de consumidores Ausbanc.  El magistrado de la Audiencia Nacional, Manuel García-Castellón, solicitó a la consultora la entrega de más 3.500 datos almacenados a los que tuvo acceso para realizar el informe. Sin embargo, la entidad esgrime en su recurso, al que ha tenido acceso la agencia Efe, que el requerimiento del juez vulnera el derecho de defensa de BBVA y considera la imposibilidad de cumplir el plazo de una semana dado el volumen de información almacena. Además, critica que realizar ese trabajo sería recursos de la defensa en beneficio de la acusación, en referencia al presidente de Ausbanc, Luis Pineda, personado en la causa y que solicitó la información.     El banco esgrime que PwC es un \"asistente técnico\" de la entidad, contratado por ella, y por tanto la actuación de la consultora se enmarca en el ejercicio del propio derecho de defensa de BBVA. Por tanto, entiende que se trata de una figura necesariamente protegida por el derecho de defensa y el deber de secreto profesional del abogado, con lo que el requerimiento judicial sería nulo de pleno derecho. Además, BBVA asegura en su escrito que PwC no dispone en la actualidad de esos 3.503 hits en carpetas separadas, listas para ser entregadas al Juzgado. Según el banco, la selección de los datos que el Juzgado pide requiere una ardua tarea para la consultora de análisis, procesado y extracción al que tendría que dedicar recursos y tiempo. La entidad considera que esta inversión perjudicaría económicamente al banco y beneficiaría a la acusación de Pineda. El banco asegura que ha puesto a disposición del juez y de la Fiscalía Anticorrupción los 2,3 millones de hits vinculados a la contratación del excomisario de policía por parte de la entidad y refiere que dentro de ese \"universo\" de información están los 3.506 hit que buscan. ¿No eres usuario? PUES PARA IR PREGONANDO \"SU ABSOLUTA COLABORACIÓN\" EN ESTE TURBIO ASUNTO LA VERDAD ES QUE LO DISIMULAN BASTANTE BIEN.LO SIGUIENTE QUE VENDERA BBVA ES QUE ES \"UN BANCO ETICO\". PARA IR PREGONANDO \"SU ABSOLUTA COLABORACIÓN\" EN ESTE TURBIO ASUNTO LA VERDAD ES QUE LO DISIMULAN BASTANTE BIEN.LO SIGUIENTE QUE VENDERA BBVA ES QUE ES \"UN BANCO ETICO\". ¿Bueno, y a este gangster cuándo lo encarcelan por alarma social?. ¿Este pájaro se va a ir siempre de rositas?\n"
     ]
    },
    {
     "data": {
      "text/markdown": [
       "<a href=\"http://www.eleconomista.es/empresas-finanzas/noticias/10651523/07/20/BBVA-contrario-a-que-se-entregue-los-datos-que-unan-a-Francisco-Gonzalez-con-el-espionaje-a-Ausbanc.html\">Link</a>"
      ],
      "text/plain": [
       "<IPython.core.display.Markdown object>"
      ]
     },
     "metadata": {},
     "output_type": "display_data"
    },
    {
     "name": "stdout",
     "output_type": "stream",
     "text": [
      "\n",
      "\n"
     ]
    }
   ],
   "source": [
    "yesterday = datetime.datetime.today() - datetime.timedelta(days=1)\n",
    "before_yes = datetime.datetime.today() - datetime.timedelta(days=2)\n",
    "\n",
    "for i in list(economista.keys()):\n",
    "    if economista[i]['date']['date2'][2] in [datetime.datetime.today().day,yesterday.day,before_yes.day]:\n",
    "        print(colored((economista[i]['newspaper']).upper(),'green',attrs=['bold']))\n",
    "        print(colored(economista[i]['date']['date1'],'grey',attrs=['bold']))\n",
    "        print(colored(economista[i]['title'],'magenta',attrs=['bold']))\n",
    "        print(colored('Headline','blue'))\n",
    "        print(economista[i]['headline'])\n",
    "        print(colored('Summarise','blue'))\n",
    "        \n",
    "        if economista[i]['summarise'] != 'Premium Content':\n",
    "            print(economista[i]['summarise'])\n",
    "        else:\n",
    "            print(colored(economista[i]['summarise'],'red'))\n",
    "        print(colored('Text','blue'))\n",
    "        print(economista[i]['text'])\n",
    "        display(Markdown('<a href=\"'+economista[i]['link']+'\">Link</a>'))\n",
    "        print('\\n')"
   ]
  }
 ],
 "metadata": {
  "kernelspec": {
   "display_name": "Python 3",
   "language": "python",
   "name": "python3"
  },
  "language_info": {
   "codemirror_mode": {
    "name": "ipython",
    "version": 3
   },
   "file_extension": ".py",
   "mimetype": "text/x-python",
   "name": "python",
   "nbconvert_exporter": "python",
   "pygments_lexer": "ipython3",
   "version": "3.7.6"
  }
 },
 "nbformat": 4,
 "nbformat_minor": 4
}
