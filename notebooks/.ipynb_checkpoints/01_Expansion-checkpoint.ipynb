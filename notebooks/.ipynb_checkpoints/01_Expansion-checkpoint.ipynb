{
 "cells": [
  {
   "cell_type": "markdown",
   "metadata": {},
   "source": [
    "# RSS: Expansión"
   ]
  },
  {
   "cell_type": "markdown",
   "metadata": {},
   "source": [
    "## 1. Import Libraries"
   ]
  },
  {
   "cell_type": "code",
   "execution_count": 1,
   "metadata": {},
   "outputs": [],
   "source": [
    "import feedparser\n",
    "from gensim.summarization.summarizer import summarize\n",
    "from gensim.summarization import keywords\n",
    "import urllib.request\n",
    "from urllib.request import urlopen\n",
    "from bs4 import BeautifulSoup\n",
    "import requests\n",
    "import googletrans\n",
    "import datetime\n",
    "from termcolor import colored\n",
    "from IPython.display import display, Markdown, Latex, HTML\n",
    "import re\n",
    "from IPython.display import Image"
   ]
  },
  {
   "cell_type": "code",
   "execution_count": 2,
   "metadata": {},
   "outputs": [],
   "source": [
    "def get_only_text(url):\n",
    "    \n",
    "    \"\"\"\n",
    "    return the title and the text of the article at the \n",
    "    specified url\n",
    "    \"\"\"\n",
    "    \n",
    "    page=urlopen(url)\n",
    "    soup=BeautifulSoup(page,\"html.parser\")\n",
    "    text=' '.join(map(lambda p: p.text, soup.find_all('p')))\n",
    "    # Eliminar Última Hora\n",
    "    rest = soup.find_all('p', attrs={'class' : \"line-clamp_x2 ue-c-widget__article-headline\"})[0].text\n",
    "    index = text.find(rest)\n",
    "    final_text = text[:index]\n",
    "    return [final_text,soup.title.text]\n",
    "\n",
    "def find_between( s, first, last ):\n",
    "    try:\n",
    "        start = s.index( first ) + len( first )\n",
    "        end = s.index( last, start )\n",
    "        return s[start:end]\n",
    "    except ValueError:\n",
    "        return \"\""
   ]
  },
  {
   "cell_type": "code",
   "execution_count": 3,
   "metadata": {},
   "outputs": [],
   "source": [
    "def expansion_news(expansion_entries,word_count=100):\n",
    "    expansion = {}\n",
    "    for i in range(len(expansion_entries)):\n",
    "        noticia = {'newspaper':None,'title':None,'headline':None,'summarise':None,'date':None,'link':None,'text':None,'current_date':None,'img':None,'premium':None}\n",
    "        # Periodico\n",
    "        noticia['newspaper'] = find_between(s=expansion_entries[i]['id'], first='www.', last='.' )\n",
    "        # Title\n",
    "        noticia['title'] = expansion_entries[i]['title']\n",
    "        # Headline\n",
    "        index = expansion_entries[i]['summary_detail']['value'].find('&nbsp')\n",
    "        if index != -1:\n",
    "            noticia['headline'] = expansion_entries[i]['summary_detail']['value'][:index]\n",
    "        else:\n",
    "            noticia['headline'] = re.sub(pattern='&quot;',repl='\"',string=expansion_entries[i]['summary_detail']['value'])\n",
    "        # Date\n",
    "        noticia['date'] = {'date1':expansion_entries[i]['published'],'date2':expansion_entries[i]['published_parsed']}\n",
    "        # Link\n",
    "        noticia['link'] = expansion_entries[i]['id']\n",
    "        # Text\n",
    "        text = get_only_text(expansion_entries[i]['id'])[0]\n",
    "        noticia['text'] = text\n",
    "        # Summarise\n",
    "        if text.find('Para seguir leyendo') == -1:\n",
    "            noticia['summarise'] = summarize(text, word_count=word_count)\n",
    "            noticia['premium'] = False\n",
    "        else:\n",
    "            noticia['summarise'] = 'Premium Content'\n",
    "            noticia['premium'] = True\n",
    "        # Current Date\n",
    "        noticia['current_date'] = datetime.datetime.now().timetuple()\n",
    "        # Image\n",
    "        noticia['img'] = expansion_entries[i]['media_content'][0]['url']\n",
    "        expansion.update({'Noticia'+'_'+str(\"%02d\")%(i+1):noticia})\n",
    "    return expansion"
   ]
  },
  {
   "cell_type": "markdown",
   "metadata": {},
   "source": [
    "## 2. RSS Expansión"
   ]
  },
  {
   "cell_type": "code",
   "execution_count": 4,
   "metadata": {},
   "outputs": [
    {
     "name": "stdout",
     "output_type": "stream",
     "text": [
      "Total Entradas Expansión: 35\n"
     ]
    }
   ],
   "source": [
    "url_expansion = 'https://e00-expansion.uecdn.es/rss/empresasbanca.xml'\n",
    "expansion = feedparser.parse(url_expansion)\n",
    "expansion_entries = expansion['entries']\n",
    "\n",
    "print('Total Entradas Expansión:',len(expansion_entries))"
   ]
  },
  {
   "cell_type": "code",
   "execution_count": 5,
   "metadata": {},
   "outputs": [],
   "source": [
    "expansion = expansion_news(expansion_entries,word_count=100)"
   ]
  },
  {
   "cell_type": "code",
   "execution_count": 6,
   "metadata": {},
   "outputs": [
    {
     "name": "stdout",
     "output_type": "stream",
     "text": [
      "\u001b[1m\u001b[32mEXPANSION\u001b[0m\n",
      "\u001b[1m\u001b[30mWed, 08 Jul 2020 18:17:32 +0200\u001b[0m\n",
      "\u001b[1m\u001b[35mBankinter coloca 350 millones en bonos convertibles con un cupón del 6,25%\u001b[0m\n",
      "\u001b[34mHeadline\u001b[0m\n",
      "Bankinter ha colocado una oferta de valores perpetuos eventualmente convertibles en acciones ordinarias de la entidad por un importe máximo de 350 millones de euros, que devengarán un cupón trimestral del 6,25%.\n",
      "\u001b[34mSummarise\u001b[0m\n",
      "Bankinter ha colocado una oferta de valores perpetuos eventualmente convertibles en acciones ordinarias de la entidad por un importe máximo de 350 millones de euros, que devengarán un cupón trimestral del 6,25%.\n",
      "La alta demanda de esta emisión de deuda AT1, conocida como 'cocos' en la jerga financiera, que ha superado en 2,2 veces la oferta, con 800 millones de euros, ha permitido abaratar el precio en 25 puntos básicos del 6,5% al 6,25%.\n",
      "Bankinter, Barclays, BBVA, Credit Agricole CIB y Natixis actúan como entidades colocadoras para esta emisión.\n",
      "\u001b[34mText\u001b[0m\n",
      "Bankinter ha colocado una oferta de valores perpetuos eventualmente convertibles en acciones ordinarias de la entidad por un importe máximo de 350 millones de euros, que devengarán un cupón trimestral del 6,25%. La alta demanda de esta emisión de deuda AT1, conocida como 'cocos' en la jerga financiera, que ha superado en 2,2 veces la oferta, con 800 millones de euros, ha permitido abaratar el precio en 25 puntos básicos del 6,5% al 6,25%.  Estos valores, con exclusión del derecho de suscripción preferente, son convertibles en renta variable si la relación ratio de capital CET1 del banco cae por debajo del 5,125%, y se espera que reciban la calificación 'BB' por S&P.  La fecha de reinicio es de seis años, el 17 de julio de 2026. Esta emisión está dirigida \"únicamente a inversores cualificados\", por lo que se excluye a inversores minoristas, sin perjuicio de las restricciones de venta adicionales previstas en la documentación relativa a la emisión.  El banco liderado por María Dolores Dancausa solicitará la admisión a negociación de los valores en el mercado Global Exchange Market de la Bolsa de Irlanda.  Bankinter, Barclays, BBVA, Credit Agricole CIB y Natixis actúan como entidades colocadoras para esta emisión. \n"
     ]
    },
    {
     "data": {
      "text/html": [
       "<img src=\"https://e00-expansion.uecdn.es/assets/multimedia/imagenes/2020/07/08/15942000383227.jpg\" width=\"500\"/>"
      ],
      "text/plain": [
       "<IPython.core.display.Image object>"
      ]
     },
     "metadata": {},
     "output_type": "display_data"
    },
    {
     "data": {
      "text/markdown": [
       "<a href=\"https://www.expansion.com/empresas/banca/2020/07/08/5f05903c468aeb65678b457e.html\">Link</a>"
      ],
      "text/plain": [
       "<IPython.core.display.Markdown object>"
      ]
     },
     "metadata": {},
     "output_type": "display_data"
    },
    {
     "name": "stdout",
     "output_type": "stream",
     "text": [
      "\n",
      "\n",
      "\u001b[1m\u001b[32mEXPANSION\u001b[0m\n",
      "\u001b[1m\u001b[30mWed, 08 Jul 2020 13:34:59 +0200\u001b[0m\n",
      "\u001b[1m\u001b[35mNickel, el banco digital de BNP Paribas, aspira a alcanzar 700.000 cuentas en España en 2024\u001b[0m\n",
      "\u001b[34mHeadline\u001b[0m\n",
      "BNP Paribas ha presentado este miércoles Nickel España, el banco digital que lanzará \"a finales de verano\" siguiendo el modelo implantado en Francia, basado en la colaboración con loteros, y que aspira a alcanzar 700.000 cuentas en los próximos cuatro años.\n",
      "\u001b[34mSummarise\u001b[0m\n",
      "Nickel permitirá al cliente abrir en 5 minutos una cuenta corriente en cualquier establecimiento de loterías y estancos asociados sin ninguna condición de ingresos, y ofrecerá servicios básicos como una tarjeta vinculada para pagar en todo el mundo, realizar compras \"online\" y retirar dinero en efectivo.\n",
      "Si bien dispondrá de un servicio telefónico de atención asentado en España, el cliente realizará sus operaciones físicas en los establecimientos adheridos, los cuales \"dan la seguridad de que se cumplirán con los requisitos\" al ser puntos de venta que, por su naturaleza, \"cuentan con la licencia del Estado\".\n",
      "\u001b[34mText\u001b[0m\n",
      "BNP Paribas ha presentado este miércoles Nickel España, el banco digital que lanzará \"a finales de verano\" siguiendo el modelo implantado en Francia, basado en la colaboración con loteros, y que aspira a alcanzar 700.000 cuentas en los próximos cuatro años. Aunque estaba previsto el lanzamiento de un programa piloto en Valencia esta primavera, Nickel España se pondrá en marcha al mismo tiempo en todo el territorio, ha explicado su consejero delegado, Javier Ramírez, y ha añadido que, de momento, hay adheridos más de 100 puntos de venta de la red Fenamix, que distribuyen, junto con otros productos, loterías y apuestas del Estado. Según Ramírez, Nickel surge como \"alternativa\" tanto al cierre de sucursales en los barrios como a los costes, que pueden superan los 200 euros al año, a los que tienen que hacer frente los clientes que no tienen domiciliada su nómina en un banco tradicional. También apunta a convertirse en una opción no sólo en las ciudades sino también en la llamada \"España vaciada\", ha apuntado el presidente del grupo Nickel, Thomas Courtois, que ha puesto de ejemplo a Francia, donde \"un 60 % de sus puntos de venta\" se encuentra en este tipo de pueblos. Nickel permitirá al cliente abrir en 5 minutos una cuenta corriente en cualquier establecimiento de loterías y estancos asociados sin ninguna condición de ingresos, y ofrecerá servicios básicos como una tarjeta vinculada para pagar en todo el mundo, realizar compras \"online\" y retirar dinero en efectivo. En la cuenta, que dispondrá de un número IBAN español, se podrán ingresar nóminas, pagar recibos o realizar transferencias. Asimismo, se dispondrá de una aplicación móvil en la que se podrá consultar movimientos, organizar transferencias, pausar la tarjeta o cancelarla si se pierde o la roban. Si bien dispondrá de un servicio telefónico de atención asentado en España, el cliente realizará sus operaciones físicas en los establecimientos adheridos, los cuales \"dan la seguridad de que se cumplirán con los requisitos\" al ser puntos de venta que, por su naturaleza, \"cuentan con la licencia del Estado\". En ellos, se podrá ingresar o retirar dinero en efectivo -con un tope máximo semanal de retirada de 350 euros-, sustituir tarjeta o emitir un certificado de cuenta, ha indicado Ramírez, que confía en que en 2024 haya unos 3.000 establecimientos activos. Para darse de alta se deberá disponer de DNI, pasaporte, permiso de residencia o cualquier otro documento que acredite estar en situación legal en España, y podrá hacerse bien a través de la aplicación móvil o en los \"tótem\" o \"tablets\" ubicadas en los puntos de venta. Cada año, el cliente tendrá que pagar 20 euros por su suscripción, mientras que cada ingreso o retirada de dinero tendrá un coste adicional de 0,50 céntimos que se destinarán al establecimiento como remuneración. En otras operaciones, como las transferencias internacionales en el extranjero, también deberá abonarse una cantidad en concepto de transacción en caso de tener coste; asimismo, la tarifa a aplicar de perder la tarjeta será de 10 euros. \"Transmitimos números muy claros, transparentes y sin sorpresas, ya que en muchos casos los consumidores dicen que pagan comisiones que no se esperan por transacciones. Tenemos muy claro lo que vamos a cobrar y no vamos a cobrar nada fuera de eso\", han aseverado. Nickel, que cumple con la normativa del Banco de España y del Banco de Francia y está formando a los vendedores de estos puntos de colaboración, sólo ofrecerá servicios básicos, con lo que productos como las hipotecas quedan fuera de su comercialización. A principios de año, BNP Paribas explicó que quería exportar el modelo de negocio de Nickel a otros países europeos, empezando por España, y con la ambición de sumar otros seis hasta 2024, entre ellos Portugal, Bélgica, Italia y Austria. También en 2024 el banco espera contar con 4 millones de clientes en Francia, donde actualmente tiene 1,7 millones de cuentas, y quiere ampliar su red de distribución de los cerca de 6.000 a los 10.000 puntos de venta de la mano de su socio, la confederación francesa de estanqueros. \"La clave del éxito en Francia es una oferta con mucha transparencia\", ha dicho Courtois, que ha destacado que sólo el mes pasado \"se abrieron más de 38.000 cuentas en un mes\". \n"
     ]
    },
    {
     "data": {
      "text/html": [
       "<img src=\"https://e00-expansion.uecdn.es/assets/multimedia/imagenes/2020/07/08/15942080827280.jpg\" width=\"500\"/>"
      ],
      "text/plain": [
       "<IPython.core.display.Image object>"
      ]
     },
     "metadata": {},
     "output_type": "display_data"
    },
    {
     "data": {
      "text/markdown": [
       "<a href=\"https://www.expansion.com/empresas/banca/2020/07/08/5f05af58468aeb7a128b45d3.html\">Link</a>"
      ],
      "text/plain": [
       "<IPython.core.display.Markdown object>"
      ]
     },
     "metadata": {},
     "output_type": "display_data"
    },
    {
     "name": "stdout",
     "output_type": "stream",
     "text": [
      "\n",
      "\n",
      "\u001b[1m\u001b[32mEXPANSION\u001b[0m\n",
      "\u001b[1m\u001b[30mWed, 08 Jul 2020 13:26:50 +0200\u001b[0m\n",
      "\u001b[1m\u001b[35mLas reclamaciones a la banca caen un 26% al haber menos quejas hipotecarias\u001b[0m\n",
      "\u001b[34mHeadline\u001b[0m\n",
      "El Banco de España recibió 14.638 reclamaciones en 2019, un 25,7% menos que un año antes, principalmente por la caída de las quejas relacionadas con hipotecas, sin embargo, registró \"un aumento notable\" de las disputas de clientes con sus entidades por tarjetas.\n",
      "\u001b[34mSummarise\u001b[0m\n",
      "El Banco de España recibió 14.638 reclamaciones en 2019, un 25,7% menos que un año antes, principalmente por la caída de las quejas relacionadas con hipotecas, sin embargo, registró \"un aumento notable\" de las disputas de clientes con sus entidades por tarjetas.\n",
      "En el caso de las tarjetas, algunas reclamaciones fueron por las condiciones de comercialización de las denominadas \"revolving\", que permiten aplazar el pago de las compras, pero también hubo quejas por fraudes informáticos ante el creciente uso del pago con tarjetas en comercios electrónicos, explican fuentes desde el Banco de España.\n",
      "\u001b[34mText\u001b[0m\n",
      "El Banco de España recibió 14.638 reclamaciones en 2019, un 25,7% menos que un año antes, principalmente por la caída de las quejas relacionadas con hipotecas, sin embargo, registró \"un aumento notable\" de las disputas de clientes con sus entidades por tarjetas. Según la Memoria de Reclamaciones publicada este miércoles por el Banco de España, la mayoría de las quejas presentadas el año pasado por clientes financieros seguían siendo por hipotecas, pero suponen el 30,5%, cuando en 2018 eran el 54% y en 2017 superó el 81%. A continuación figuran las reclamaciones por cuentas y depósitos, un 19,5%, frente al 14,5% de un año antes, y en tercer lugar las quejas relacionadas con tarjetas, que supusieron el 17,9% del total, muy por encima del 9,5% de un año antes. En el caso de las tarjetas, algunas reclamaciones fueron por las condiciones de comercialización de las denominadas \"revolving\", que permiten aplazar el pago de las compras, pero también hubo quejas por fraudes informáticos ante el creciente uso del pago con tarjetas en comercios electrónicos, explican fuentes desde el Banco de España. De las 14.638 reclamaciones recibidas por el Banco de España en 2019, 7.483 no prosperaron porque algunas directamente no se admitieron y en otras porque la información era incompleta o se dio traslado a organismos como la Comisión Nacional del Mercado de Valores o la Dirección General de Seguros. También 1.368 quejas de clientes al final no fueron admitidas por alguna cuestión sobrevenida, a las que se suman 146 reclamaciones en las que fue directamente el cliente quien desistió. Eso permitió que se cerraran 5.641 informes o allanamientos y el grueso, exactamente 4.037, fue a favor del cliente, con 2.953 rectificaciones, un 73,1%, porcentaje récord en la serie histórica. El Banco de España cree que detrás de ese dato posiblemente hay un cambio de actitud de las entidades, que a comienzos de la década, en 2010, apenas rectificaban en un 48% de los casos. Aún así, aunque el cliente haya conseguido una mayor proporción de rectificaciones en 2019, el dinero devuelto por los bancos rondaría los 2,5 millones de euros, una cifra similar a la de un año antes, cuando fue de 2,63 millones \n"
     ]
    },
    {
     "data": {
      "text/html": [
       "<img src=\"https://e00-expansion.uecdn.es/assets/multimedia/imagenes/2020/07/08/15942074798795.jpg\" width=\"500\"/>"
      ],
      "text/plain": [
       "<IPython.core.display.Image object>"
      ]
     },
     "metadata": {},
     "output_type": "display_data"
    },
    {
     "data": {
      "text/markdown": [
       "<a href=\"https://www.expansion.com/empresas/banca/2020/07/08/5f05ad6e468aebbb798b45ae.html\">Link</a>"
      ],
      "text/plain": [
       "<IPython.core.display.Markdown object>"
      ]
     },
     "metadata": {},
     "output_type": "display_data"
    },
    {
     "name": "stdout",
     "output_type": "stream",
     "text": [
      "\n",
      "\n",
      "\u001b[1m\u001b[32mEXPANSION\u001b[0m\n",
      "\u001b[1m\u001b[30mWed, 08 Jul 2020 11:11:28 +0200\u001b[0m\n",
      "\u001b[1m\u001b[35mLas hipotecas a tipo fijo representan ya el 45% de las nuevas contrataciones\u001b[0m\n",
      "\u001b[34mHeadline\u001b[0m\n",
      "La AHE prevé que la pandemia influya en la tasa de dudosidad y presione la rentabilidad de los bancos.\n",
      "\u001b[34mSummarise\u001b[0m\n",
      "Según ha resaltado en su informe entorno económico-financiero de balance de 2019 y primer trimestre de 2020, esta modalidad repuntó debido a \"unas ofertas muy competitivas que presenta el mercado en este terreno\", representando casi el 45% de nuevas contrataciones en el promedio de 2020 (contando con los últimos meses de marzo y abril, de menor actividad), tras permanecer estable en el entorno del 30%-34% de la financiación en los ejercicios previos.\n",
      "\u001b[34mText\u001b[0m\n",
      "La AHE prevé que la pandemia influya en la tasa de dudosidad y presione la rentabilidad de los bancos. La Asociación Hipotecaria Española (AHE) ha constatado que la formalización de nuevos préstamos con un tipo de interés fijo ha intensificado su tendencia ascendente desde finales de año, alcanzando casi el 45% de las nuevas contrataciones en 2020.   Según ha resaltado en su informe entorno económico-financiero de balance de 2019 y primer trimestre de 2020, esta modalidad repuntó debido a \"unas ofertas muy competitivas que presenta el mercado en este terreno\", representando casi el 45% de nuevas contrataciones en el promedio de 2020 (contando con los últimos meses de marzo y abril, de menor actividad), tras permanecer estable en el entorno del 30%-34% de la financiación en los ejercicios previos.   En general, las caídas de los tipos de interés han sido más acusadas en las contrataciones a tipo de interés fijo que en las de interés variable. Según la AHE, \"parece lógico pensar\" que se mantendrá el escenario de tipos extraordinariamente bajos durante este año, a la vista de las actuaciones intervencionistas acometidas por el Banco Central Europeo (BCE).   Los tipos de interés efectivos se encuentran rozando mínimos por el entorno de tipos cero y de la presión competitiva entre entidades, situándose en 2019 el promedio del tipo de interés medio ponderado en el 1,99%, frente al 1,97% registrado en 2018, pese a registrar su mínimo histórico en el cierre de 2019, tras cerrar con una tasa del 1,69%.   La AHE también ha resaltado que el entorno expansivo ha incidido en gran medida sobre la cotización del Euríbor a 12 meses, que en agosto de 2019 afrontó su mínimo histórico (-0,356%), para posteriormente iniciar una \"suave y gradual senda de escalada\", hasta el -0,081% que alcanzó en mayo, un repunte de \"escasa incidencia\" sobre la cuota hipotecaria, que se produce en un contexto de cierta incertidumbre.   Por otro lado, la Asociación Hipotecaria ha realizado un análisis del mercado hipotecario y del negocio bancario en el entorno de pandemia de coronavirus, que probablemente interrumpirá la evolución favorable de saneamiento de los balances de las entidades.   En este sentido, estima que los préstamos experimentarán \"algún nivel de deterioro contable, en mayor o menor grado, dependiendo del grado e intensidad de la reactivación económica, una vez concluyan los periodos de carencia previstos en las moratorias\" decretadas por el Gobierno y pactadas por los bancos.   La AHE ve \"posible\" que las tasas de dudosidad de los próximos meses estén influidas por la nueva situación, caracterizada por \"una economía afectada por la crisis y una cartera que en parte ha sido objeto de moratoria\", mientras que las autoridades han liberado temporalmente y de forma excepcional a las entidades de la obligación de tener que revisar a la baja la clasificación contable de los préstamos acogidos a estas moratorias.   El aumento de las pérdidas por deterioro de la calidad de los activos, junto a los ajustes procedentes de las cotizaciones bursátiles y al menor volumen de actividad esperada derivado del empeoramiento de la actividad económica, también \"tendrá su incidencia sobre la rentabilidad de los bancos, ya en sí misma afectada por el entorno de tipos de interés bajos\", ha advertido la Asociación Hipotecaria.   En cualquier caso, ha destacado que, sin perjuicio de las \"significativas\" implicaciones económicas que la crisis del coronavirus supondrá sobre el conjunto del sistema, actualmente el sector bancario en su conjunto goza de mejor salud financiera que en la crisis financiera de 2007, la economía se encuentra \"mucho menos apalancada\" y los niveles de capitalización y liquidez de la banca se han visto reforzados \"sustancialmente\" en cumplimiento con los requisitos regulatorios.   Además, la AHE sostiene que las decisiones adoptadas por algunos bancos relativas a la suspensión temporal de dividendos y el resto de medidas de contingencia puestas en marcha \"contrarrestan los efectos negativos y dibujan un escenario menos dramático que aquel que se vivió hace una década\". \n"
     ]
    },
    {
     "data": {
      "text/html": [
       "<img src=\"https://e00-expansion.uecdn.es/assets/multimedia/imagenes/2020/07/08/15941994434438.jpg\" width=\"500\"/>"
      ],
      "text/plain": [
       "<IPython.core.display.Image object>"
      ]
     },
     "metadata": {},
     "output_type": "display_data"
    },
    {
     "data": {
      "text/markdown": [
       "<a href=\"https://www.expansion.com/ahorro/2020/07/08/5f058db2468aeba0628b4605.html\">Link</a>"
      ],
      "text/plain": [
       "<IPython.core.display.Markdown object>"
      ]
     },
     "metadata": {},
     "output_type": "display_data"
    },
    {
     "name": "stdout",
     "output_type": "stream",
     "text": [
      "\n",
      "\n",
      "\u001b[1m\u001b[32mEXPANSION\u001b[0m\n",
      "\u001b[1m\u001b[30mWed, 08 Jul 2020 00:29:00 +0200\u001b[0m\n",
      "\u001b[1m\u001b[35mEl negocio de Western Union cae\u001b[0m\n",
      "\u001b[34mHeadline\u001b[0m\n",
      "A la lista de industrias donde el coronavirus ha provocado un cambio radical hay que sumar las transferencias de dinero.\n",
      "\u001b[34mSummarise\u001b[0m\n",
      "\u001b[31mPremium Content\u001b[0m\n",
      "\u001b[34mText\u001b[0m\n",
      "A la lista de industrias donde el coronavirus ha provocado un cambio radical hay que sumar las transferencias de dinero. Los giros globales caerán un 20% este año a 445.000 millones de dólares, según el Banco Mundial. La pandemia paralizó grandes partes de la economía global y ha dejado sin trabajo a millones de personas, en especial en la parte mas baja de la escala e Para seguir leyendo, hágase Premium ¿Ya es Premium? Inicie sesión Mensual primer mes después 14,99€   Anual primer mes después 7,50€/mes (Pago único de 90€)\n",
      " 4 meses gratis  Descubra qué es Premium   Cancele cuando quiera    Consulte los términos y condiciones del servicio  \n"
     ]
    },
    {
     "data": {
      "text/html": [
       "<img src=\"https://e00-expansion.uecdn.es/assets/multimedia/imagenes/2020/07/07/15941509831123.jpg\" width=\"500\"/>"
      ],
      "text/plain": [
       "<IPython.core.display.Image object>"
      ]
     },
     "metadata": {},
     "output_type": "display_data"
    },
    {
     "data": {
      "text/markdown": [
       "<a href=\"https://www.expansion.com/empresas/banca/2020/07/08/5f04d0e4e5fdea00068b45b1.html\">Link</a>"
      ],
      "text/plain": [
       "<IPython.core.display.Markdown object>"
      ]
     },
     "metadata": {},
     "output_type": "display_data"
    },
    {
     "name": "stdout",
     "output_type": "stream",
     "text": [
      "\n",
      "\n",
      "\u001b[1m\u001b[32mEXPANSION\u001b[0m\n",
      "\u001b[1m\u001b[30mWed, 08 Jul 2020 00:22:34 +0200\u001b[0m\n",
      "\u001b[1m\u001b[35mUBS prevé más fusiones de bancos tras la pandemia\u001b[0m\n",
      "\u001b[34mHeadline\u001b[0m\n",
      "El banco suizo avisa de que sólo sortearán las integraciones aquellas entidades con niveles de capital \"muy altos\" para garantizar la estabilidad del sector financiero europeo.\n",
      "\u001b[34mSummarise\u001b[0m\n",
      "El banco suizo avisa de que sólo sortearán las integraciones aquellas entidades con niveles de capital \"muy altos\" para garantizar la estabilidad del sector financiero europeo.\n",
      "En cualquier caso, los analistas de UBS advierten en su informe de que la alternativa a la consolidación será tener niveles de capital \"muy altos\" para garantizar la estabilidad del sector financiero en Europa.\n",
      "Pero este panorama ha cambiado drásticamente: UBS cree que para alcanzar una ROTE (rentabilidad sobre capital tangible) del 10% media en Europa, las entidades tendrían que reducir un 25% su factura de costes, lo que equivaldría a un recorte de unos 47.000 millones de euros.\n",
      "\u001b[34mText\u001b[0m\n",
      "El banco suizo avisa de que sólo sortearán las integraciones aquellas entidades con niveles de capital \"muy altos\" para garantizar la estabilidad del sector financiero europeo. Las fusiones bancarias cobran fuerza en Europa, sobre todo tras la relajación del Banco Central Europeo (BCE) de las exigencias de capital necesarias para impulsar las operaciones corporativas. UBS prevé que las entidades bancarias protagonicen más fusiones tras la pandemia, una vez que se disipe la incógnita de cómo afectará al balance de los bancos.  \"Después del Covid-19, a medida que haya más visibilidad de las pérdidas en las carteras de crédito, esperamos más fusiones y adquisiciones con un mayor estímulo regulatorio\", señala el banco suizo en un informe reciente remitido a sus clientes.  Los gestores bancarios dudan sobre el impacto de la pandemia en los balances, que dependerá de si hay o no más rebrotes del virus. De momento, el aumento de impagos se está conteniendo gracias a las medidas excepcionales para combatir el freno económico por la pandemia, como las moratorias en el pago de las hipotecas y las líneas de liquidez con garantías públicas.  Cree que la banca tiene que reducir un 25% los costes para tener rendimientos del 10% en Europa Los intentos de fusión frustrados en 2019 fueron el de Deutsche Bank y Commerzbank en Alemania, y el de Unicaja y Liberbank en España. Pero ñas exigencias de capital del supervisor fueron uno de los principales motivos que echaron atrás ambas operaciones. Ahora, el BCE allana el camino y no obliga a hacer ampliaciones de capital como garantía de las integraciones. En cualquier caso, los analistas de UBS advierten en su informe de que la alternativa a la consolidación será tener niveles de capital \"muy altos\" para garantizar la estabilidad del sector financiero en Europa. \"Sólo los niveles de capital muy altos pueden compensar en términos de estabilidad a un sector bancario que genera pocas ganancias\", avisa el banco suizo.  Las integraciones son el principal camino para ahorrar costes y elevar la rentabilidad de las entidades. En España, sólo Bankinter supera el coste de capital. Para UBS, los recortes de gastos no serán por sí solos suficientes para ganar en rentabilidad. Antes de la crisis desatada en 2008, los bancos gozaban de rentabilidades superiores a los dos dígitos. Pero este panorama ha cambiado drásticamente: UBS cree que para alcanzar una ROTE (rentabilidad sobre capital tangible) del 10% media en Europa, las entidades tendrían que reducir un 25% su factura de costes, lo que equivaldría a un recorte de unos 47.000 millones de euros. El banco suizo estima que el ROTE medio de las entidades de la zona euro se quedará en el 4% este año. \n"
     ]
    },
    {
     "data": {
      "text/html": [
       "<img src=\"https://e00-expansion.uecdn.es/assets/multimedia/imagenes/2020/07/07/15941394322320.jpg\" width=\"500\"/>"
      ],
      "text/plain": [
       "<IPython.core.display.Image object>"
      ]
     },
     "metadata": {},
     "output_type": "display_data"
    },
    {
     "data": {
      "text/markdown": [
       "<a href=\"https://www.expansion.com/empresas/banca/2020/07/08/5f04a3b4e5fdea73298b4640.html\">Link</a>"
      ],
      "text/plain": [
       "<IPython.core.display.Markdown object>"
      ]
     },
     "metadata": {},
     "output_type": "display_data"
    },
    {
     "name": "stdout",
     "output_type": "stream",
     "text": [
      "\n",
      "\n",
      "\u001b[1m\u001b[32mEXPANSION\u001b[0m\n",
      "\u001b[1m\u001b[30mWed, 08 Jul 2020 00:16:15 +0200\u001b[0m\n",
      "\u001b[1m\u001b[35mLa morosidad hipotecaria deja de caer por el Covid\u001b[0m\n",
      "\u001b[34mHeadline\u001b[0m\n",
      "La dudosidad del crédito hipotecario concedido a hogares y empresas empezó a mostrar \"señales de deterioro\" en el primer trimestre de 2020 en comparación con el inmediatamente anterior debido a la crisis del coronavirus, tras seis años de mejora.\n",
      "\u001b[34mSummarise\u001b[0m\n",
      "La dudosidad del crédito hipotecario concedido a hogares y empresas empezó a mostrar \"señales de deterioro\" en el primer trimestre de 2020 en comparación con el inmediatamente anterior debido a la crisis del coronavirus, tras seis años de mejora.\n",
      "En general, se observa una ralentización generalizada en el saneamiento en las distintas rúbricas del crédito, continúa la AHE, que añade que en el destinado a la compra de vivienda, la tasa de dudosidad pasó del 4,0% del primer trimestre de 2019 al 3,4% de un año después, una mejora que \"apenas se mantiene\" en comparación intertrimestral.\n",
      "\u001b[34mText\u001b[0m\n",
      "La dudosidad del crédito hipotecario concedido a hogares y empresas empezó a mostrar \"señales de deterioro\" en el primer trimestre de 2020 en comparación con el inmediatamente anterior debido a la crisis del coronavirus, tras seis años de mejora. Las medidas extraordinarias adoptadas por el Gobierno, con la colaboración de la banca, como las moratorias y los préstamos con aval del ICO, permitirán suavizar \"en gran medida\" los efectos negativos de esta situación en las economías de los citados agentes privados, según un informe publicado ayer por la Asociación Hipotecaria Española (AHE). La dudosidad o morosidad de las hipotecas a familias y empresas terminó marzo en el 4,8%, apenas un 0,2% por encima de la registrada en el trimestre anterior, explicó la AHE, que añade que el indicador siguió mejorando en términos interanuales en 0,9 puntos porcentuales.  En general, se observa una ralentización generalizada en el saneamiento en las distintas rúbricas del crédito, continúa la AHE, que añade que en el destinado a la compra de vivienda, la tasa de dudosidad pasó del 4,0% del primer trimestre de 2019 al 3,4% de un año después, una mejora que \"apenas se mantiene\" en comparación intertrimestral. En el crédito para la rehabilitación de vivienda, la ratio de dudosidad se situó en el 5,2% en el primer trimestre, frente al 5,5% del trimestre anterior. Frente al cuarto trimestre de 2019, el crédito dudoso experimentó un alza del 1,2%. \n"
     ]
    },
    {
     "data": {
      "text/html": [
       "<img src=\"https://e00-expansion.uecdn.es/assets/multimedia/imagenes/2020/07/07/15941589316592.jpg\" width=\"500\"/>"
      ],
      "text/plain": [
       "<IPython.core.display.Image object>"
      ]
     },
     "metadata": {},
     "output_type": "display_data"
    },
    {
     "data": {
      "text/markdown": [
       "<a href=\"https://www.expansion.com/empresas/banca/2020/07/08/5f04ef73e5fdeaf43d8b4672.html\">Link</a>"
      ],
      "text/plain": [
       "<IPython.core.display.Markdown object>"
      ]
     },
     "metadata": {},
     "output_type": "display_data"
    },
    {
     "name": "stdout",
     "output_type": "stream",
     "text": [
      "\n",
      "\n",
      "\u001b[1m\u001b[32mEXPANSION\u001b[0m\n",
      "\u001b[1m\u001b[30mTue, 07 Jul 2020 20:58:32 +0200\u001b[0m\n",
      "\u001b[1m\u001b[35mSantander entra en la batalla por captar hipotecas de la competencia\u001b[0m\n",
      "\u001b[34mHeadline\u001b[0m\n",
      "Lanza la campaña 'Trae tu hipoteca a Santander'. El banco, que ofrece un traje a medida, da respuesta en \"menos de 24 horas\". Intenta paliar el frenazo en la nueva producción por la crisis.\n",
      "\u001b[34mSummarise\u001b[0m\n",
      "\u001b[31mPremium Content\u001b[0m\n",
      "\u001b[34mText\u001b[0m\n",
      "Lanza la campaña 'Trae tu hipoteca a Santander'. El banco, que ofrece un traje a medida, da respuesta en \"menos de 24 horas\". Intenta paliar el frenazo en la nueva producción por la crisis. Santander busca vías para intentar sostener el negocio y la cuenta de resultados, en un escenario marcado por la recesión económica provocada por la pandemia del Covid-19. En los últimos días, el banco ha incorporado a suescaparate comercial la campa Para seguir leyendo, hágase Premium ¿Ya es Premium? Inicie sesión Mensual primer mes después 14,99€   Anual primer mes después 7,50€/mes (Pago único de 90€)\n",
      " 4 meses gratis  Descubra qué es Premium   Cancele cuando quiera    Consulte los términos y condiciones del servicio  \n"
     ]
    },
    {
     "data": {
      "text/html": [
       "<img src=\"https://e00-expansion.uecdn.es/assets/multimedia/imagenes/2020/07/07/15941432225050.jpg\" width=\"500\"/>"
      ],
      "text/plain": [
       "<IPython.core.display.Image object>"
      ]
     },
     "metadata": {},
     "output_type": "display_data"
    },
    {
     "data": {
      "text/markdown": [
       "<a href=\"https://www.expansion.com/empresas/banca/2020/07/07/5f04b34de5fdea1d4c8b462a.html\">Link</a>"
      ],
      "text/plain": [
       "<IPython.core.display.Markdown object>"
      ]
     },
     "metadata": {},
     "output_type": "display_data"
    },
    {
     "name": "stdout",
     "output_type": "stream",
     "text": [
      "\n",
      "\n",
      "\u001b[1m\u001b[32mEXPANSION\u001b[0m\n",
      "\u001b[1m\u001b[30mTue, 07 Jul 2020 17:00:51 +0200\u001b[0m\n",
      "\u001b[1m\u001b[35mNueva York multa a Deutsche Bank por omitir la supervisión financiera de Jeffrey Epstein\u001b[0m\n",
      "\u001b[34mHeadline\u001b[0m\n",
      "La acción impositiva del regulador ha concluido con un acuerdo de pago de 150 millones de dólares.\n",
      "\u001b[34mSummarise\u001b[0m\n",
      "El departamento de Servicios Financieros del estado de Nueva York anunció este martes que impuesto a Deutsche Bank una multa de 150 millones de dólares por \"fallos de procedimiento, errores y negligencias\" en la supervisión de las cuentas del magnate Jeffrey Epstein, acusado de tráfico sexual de menores y que se suicidó el año pasado en prisión.\n",
      "Deutsche Bank, a través de su rama estadounidense, \"procesó cientos de transacciones por valor de millones de dólares que, como mínimo, deberían haber generado un escrutinio adicional\", entre las que el regulador cita pagos a personas sobre las que recaían \"alegaciones públicas\" de haber ayudado a Epstein a abusar de mujeres jóvenes.\n",
      "\u001b[34mText\u001b[0m\n",
      "La acción impositiva del regulador ha concluido con un acuerdo de pago de 150 millones de dólares. El departamento de Servicios Financieros del estado de Nueva York anunció este martes que impuesto a Deutsche Bank una multa de 150 millones de dólares por \"fallos de procedimiento, errores y negligencias\" en la supervisión de las cuentas del magnate Jeffrey Epstein, acusado de tráfico sexual de menores y que se suicidó el año pasado en prisión. La superintendente del ente regulador financiero, Linda Lacewell, explicó en un comunicado que \"Deutsche Bank no supervisó adecuadamente la actividad contable a nombre de este delincuente sexual registrado, pese a que había mucha información pública disponible en cuanto a las circunstancias que rodeaban la mala conducta criminal del Sr. Epstein\". Se trata de la primera acción impositiva de un regulador contra una institución financiera por su trato con Epstein y ha concluido con un acuerdo de pago, indicó el Departamento. Deutsche Bank, a través de su rama estadounidense, \"procesó cientos de transacciones por valor de millones de dólares que, como mínimo, deberían haber generado un escrutinio adicional\", entre las que el regulador cita pagos a personas sobre las que recaían \"alegaciones públicas\" de haber ayudado a Epstein a abusar de mujeres jóvenes. El departamento financiero de Nueva York señala que en las cuentas de Epstein se registraron pagos para \"arreglos de compensación\" por valor de 7 millones de dólares y decenas de pagos a bufetes de abogados por valor de 6 millones, \"en lo que parecen haber sido los gastos legales del Sr. Epstein y sus co-conspiradores\". Asimismo, cita \"pagos a modelos rusas; pagos para matrículas escolares, hoteles y alquilares de viviendas de mujeres y (en coherencia con las alegaciones previas de mala conducta) pagos directos a numerosas mujeres con apellidos del Este de Europa\", así como \"retiradas de efectivo periódicas\" que alcanzaron los 800.000 dólares en unos cuatro años. Nueva York señala que el banco incurrió en \"una serie de fallos de procedimiento, errores y negligencias\" al gestionar y supervisar las cuentas de Epstein, lo que resultó en que a lo largo de su relación con el magnate \"muy pocas transacciones problemáticas fueron cuestionadas\" e incluso cuando sí lo fueron, \"se despejaron normalmente sin una explicación satisfactoria\". Epstein se suicidó en agosto de 2019 en una prisión de Nueva York, a la espera de un juicio en el que estaba acusado de crear una red de tráfico sexual de menores y de abusar de decenas de niñas en sus mansiones de Nueva York y Florida en un periodo a principios de la década de los 2000. En 2008, el magnate financiero llegó a un acuerdo con la Fiscalía de Florida para cerrar una investigación similar y se declaró culpable de cargos estatales menores, fue condenado a 13 meses de cárcel, llegó a un acuerdo económico con las víctimas y se registró como delincuente sexual. La semana pasada, la británica Ghislaine Maxwell, socia y expareja de Epstein, fue detenida en el estado de New Hampshire (EE.UU.) y acusada de ayudar al magnate en esa trama de abuso sexual a menores tras permanecer en paradero desconocido durante un año. \n"
     ]
    },
    {
     "data": {
      "text/html": [
       "<img src=\"https://e00-expansion.uecdn.es/assets/multimedia/imagenes/2020/07/07/15941339563280.jpg\" width=\"500\"/>"
      ],
      "text/plain": [
       "<IPython.core.display.Image object>"
      ]
     },
     "metadata": {},
     "output_type": "display_data"
    },
    {
     "data": {
      "text/markdown": [
       "<a href=\"https://www.expansion.com/empresas/banca/2020/07/07/5f048e15e5fdea3e648b4624.html\">Link</a>"
      ],
      "text/plain": [
       "<IPython.core.display.Markdown object>"
      ]
     },
     "metadata": {},
     "output_type": "display_data"
    },
    {
     "name": "stdout",
     "output_type": "stream",
     "text": [
      "\n",
      "\n",
      "\u001b[1m\u001b[32mEXPANSION\u001b[0m\n",
      "\u001b[1m\u001b[30mTue, 07 Jul 2020 13:37:28 +0200\u001b[0m\n",
      "\u001b[1m\u001b[35mDeutsche Bank frena las expectativas de comprar negocios de Wirecard\u001b[0m\n",
      "\u001b[34mHeadline\u001b[0m\n",
      "El consejero delegado de Deutsche Bank, Christian Sewing, ha frenado hoy las expectativas de adquisición de partes de la compañía de sistemas de pago electrónicos Wirecard tras su insolvencia.\n",
      "\u001b[34mSummarise\u001b[0m\n",
      "El consejero delegado de Deutsche Bank, Christian Sewing, ha frenado hoy las expectativas de adquisición de partes de la compañía de sistemas de pago electrónicos Wirecard tras su insolvencia.\n",
      "Sewing dijo en una vídeoconferencia que \"la tecnología de pagos es interesante para Deutsche Bank, como uno de los bancos líderes en los servicios de pagos en todo el mundo\".\n",
      "\"Cuando hay una oportunidad de ocuparse de la tecnología, por supuesto que lo analizamos, pero las compras deben crear siempre valor para los accionistas\", añadió Sewing.\n",
      "Deutsche Bank dijo la semana pasada que estaba dispuesto a ayudar financieramente a Wirecard Bank, que no está afectado por la insolvencia, en caso necesario.\n",
      "\u001b[34mText\u001b[0m\n",
      "El consejero delegado de Deutsche Bank, Christian Sewing, ha frenado hoy las expectativas de adquisición de partes de la compañía de sistemas de pago electrónicos Wirecard tras su insolvencia. Sewing dijo en una vídeoconferencia que \"la tecnología de pagos es interesante para Deutsche Bank, como uno de los bancos líderes en los servicios de pagos en todo el mundo\". \"Cuando hay una oportunidad de ocuparse de la tecnología, por supuesto que lo analizamos, pero las compras deben crear siempre valor para los accionistas\", añadió Sewing. Wirecard se declaró el 25 de junio insolvente tras reconocer un agujero contable de 1.900 millones de euros y seis filiales lo han hecho posteriormente. Deutsche Bank dijo la semana pasada que estaba dispuesto a ayudar financieramente a Wirecard Bank, que no está afectado por la insolvencia, en caso necesario. \n"
     ]
    },
    {
     "data": {
      "text/html": [
       "<img src=\"https://e00-expansion.uecdn.es/assets/multimedia/imagenes/2020/07/07/15941218156267.jpg\" width=\"500\"/>"
      ],
      "text/plain": [
       "<IPython.core.display.Image object>"
      ]
     },
     "metadata": {},
     "output_type": "display_data"
    },
    {
     "data": {
      "text/markdown": [
       "<a href=\"https://www.expansion.com/empresas/banca/2020/07/07/5f045e6ce5fdea3e648b4612.html\">Link</a>"
      ],
      "text/plain": [
       "<IPython.core.display.Markdown object>"
      ]
     },
     "metadata": {},
     "output_type": "display_data"
    },
    {
     "name": "stdout",
     "output_type": "stream",
     "text": [
      "\n",
      "\n",
      "\u001b[1m\u001b[32mEXPANSION\u001b[0m\n",
      "\u001b[1m\u001b[30mTue, 07 Jul 2020 11:01:39 +0200\u001b[0m\n",
      "\u001b[1m\u001b[35mDeutsche Bank y Google acuerdan formar una alianza estratégica\u001b[0m\n",
      "\u001b[34mHeadline\u001b[0m\n",
      "Deutsche Bank y Google Cloud han llegado a un acuerdo para establecer una alianza estratégica con carácter multianual con el objetivo de llevar a cabo una transformación del desarrollo del banco y de los servicios financieros que ofrece, para lo que ambas partes han firmado una carta de intenciones y planean rubricar un contrato de varios años de duración en los próximos meses.\n",
      "\u001b[34mSummarise\u001b[0m\n",
      "Deutsche Bank y Google Cloud han llegado a un acuerdo para establecer una alianza estratégica con carácter multianual con el objetivo de llevar a cabo una transformación del desarrollo del banco y de los servicios financieros que ofrece, para lo que ambas partes han firmado una carta de intenciones y planean rubricar un contrato de varios años de duración en los próximos meses.\n",
      "La asociación con Google culmina un proceso de varios meses, después de que el pasado mes de febrero la entidad germana convocara a distintos proveedores de servicios en la nube a presentar sus propuestas para establecer una colaboración como parte de la nueva estrategia del banco.\n",
      "\u001b[34mText\u001b[0m\n",
      "Deutsche Bank y Google Cloud han llegado a un acuerdo para establecer una alianza estratégica con carácter multianual con el objetivo de llevar a cabo una transformación del desarrollo del banco y de los servicios financieros que ofrece, para lo que ambas partes han firmado una carta de intenciones y planean rubricar un contrato de varios años de duración en los próximos meses. La asociación con Google culmina un proceso de varios meses, después de que el pasado mes de febrero la entidad germana convocara a distintos proveedores de servicios en la nube a presentar sus propuestas para establecer una colaboración como parte de la nueva estrategia del banco.   La alianza con Google permitirá a Deutsche Bank acelerar su transición a la nube y desarrollar las capacidades de ingeniería de ambas compañías. Junto con Google Cloud, Deutsche Bank transformará su arquitectura informática y generará un valor considerable para sus clientes.   \"La asociación con Google Cloud será un impulsor importante de nuestra transformación estratégica\", dijo Christian Sewing, consejero delegado de Deutsche Bank. \"Demuestra nuestra determinación de invertir en nuestra tecnología ya que nuestro futuro está fuertemente vinculado a una digitalización exitosa. Se trata tanto de una historia de ingresos como de costes \", añadió.   \"La cooperación con Google Cloud es un avance significativo en nuestra estrategia tecnológica, y transformará la forma en que producimos y brindamos nuestros servicios al cliente\", agregó Bernd Leukert, director de Tecnología, Datos e Innovación del Deutsche Bank y miembro del Consejo de Administración del banco.   \"Durante más de 150 años, Deutsche Bank ha sido pionero en la industria, con un sólido historial de innovación en el sector de servicios financieros\", indicó Sundar Pichai, consejero delegado de Google y Alphabet. \"Estamos entusiasmados con nuestra asociación estratégica y la oportunidad de que Google Cloud sea útil para Deutsche Bank y sus clientes a medida que hacen crecer su negocio y dan forma al futuro de la industria de servicios financieros\", afirmó. \n"
     ]
    },
    {
     "data": {
      "text/html": [
       "<img src=\"https://e00-expansion.uecdn.es/assets/multimedia/imagenes/2020/07/07/15941124020525.jpg\" width=\"500\"/>"
      ],
      "text/plain": [
       "<IPython.core.display.Image object>"
      ]
     },
     "metadata": {},
     "output_type": "display_data"
    },
    {
     "data": {
      "text/markdown": [
       "<a href=\"https://www.expansion.com/empresas/banca/2020/07/07/5f0439e8e5fdeab51d8b45cf.html\">Link</a>"
      ],
      "text/plain": [
       "<IPython.core.display.Markdown object>"
      ]
     },
     "metadata": {},
     "output_type": "display_data"
    },
    {
     "name": "stdout",
     "output_type": "stream",
     "text": [
      "\n",
      "\n",
      "\u001b[1m\u001b[32mEXPANSION\u001b[0m\n",
      "\u001b[1m\u001b[30mTue, 07 Jul 2020 10:55:40 +0200\u001b[0m\n",
      "\u001b[1m\u001b[35mBBVA recurre que se requiera a PWC los datos del 'forensic' que pidió Pineda\u001b[0m\n",
      "\u001b[34mHeadline\u001b[0m\n",
      "BBVA ha recurrido el requerimiento que le hizo el juez del caso Villarejo a un representante de PriceWaterhouseCoopers (PWC) para que entregase en un plazo de siete días los 3.503 hits almacenados para la elaboración del informe \"forensic\" que reclamó la acusación que ejerce el líder de Ausbanc Luis Pineda.\n",
      "\u001b[34mSummarise\u001b[0m\n",
      "BBVA ha recurrido el requerimiento que le hizo el juez del caso Villarejo a un representante de PriceWaterhouseCoopers (PWC) para que entregase en un plazo de siete días los 3.503 hits almacenados para la elaboración del informe \"forensic\" que reclamó la acusación que ejerce el líder de Ausbanc Luis Pineda.\n",
      "\"Para seleccionar los hits incluidos en cada una de esas agrupaciones sería necesario que previamente PwC llevara a cabo un proceso de análisis, procesado y extracción al que tendría que dedicar recursos y tiempo\", una inversión, apunta, que perjudicaría económicamente al banco y beneficiaría a las partes acusadoras como la de Pineda.\n",
      "\u001b[34mText\u001b[0m\n",
      "BBVA ha recurrido el requerimiento que le hizo el juez del caso Villarejo a un representante de PriceWaterhouseCoopers (PWC) para que entregase en un plazo de siete días los 3.503 hits almacenados para la elaboración del informe \"forensic\" que reclamó la acusación que ejerce el líder de Ausbanc Luis Pineda. En su recurso, al que ha tenido acceso Efe, el BBVA considera en primer lugar que ese requerimiento, bajo apercibimiento de desobediencia a la autoridad judicial, \"vulnera el derecho de defensa de BBVA\", además de ser difícil de cumplir dado el volumen de información que hay que buscar, lo que, consideran, supondría a su vez destinar recursos de la defensa en beneficio de la acusación. \"Como resulta de la carta de encargo firmada entre Garrigues y PwC\", expone el recurso, la consultora \"es un asistente técnico de la defensa letrada de BBVA, contratado por la propia defensa letrada de la entidad y su actuación se enmarca en el ejercicio del derecho de defensa\". Por ello entiende que se trata de una figura \"necesariamente protegida por el derecho de defensa y el deber de secreto profesional del abogado\", con lo que el requerimiento judicial sería por tanto nulo \"de pleno derecho\". Así lo reconoció \"expresamente\", dice el escrito, \"el Ministerio Fiscal en la propia declaración del perito, en la que admitió las limitaciones que él mismo tenía como consecuencia de esta condición y provocó que esta parte tuviera que liberar a PwC a los solos efectos de la declaración\". A todo esto, el BBVA añade que se trata de un requerimiento arduo de cumplir y más en tan breve plazo, fundamentalmente porque PWC \"no dispone en este momento de esos 3.503 hits en carpetas separadas, listas para ser entregadas al Juzgado\". \"Para seleccionar los hits incluidos en cada una de esas agrupaciones sería necesario que previamente PwC llevara a cabo un proceso de análisis, procesado y extracción al que tendría que dedicar recursos y tiempo\", una inversión, apunta, que perjudicaría económicamente al banco y beneficiaría a las partes acusadoras como la de Pineda. \"Es más, sería un atentado al derecho de defensa que se utilizase a un asistente de la defensa para hacer un trabajo a la acusación\", plantea. Se queja el banco de que lo tendría que hacer \"ahora para el Sr. Pineda, pero mañana se le podría requerir que lo hiciera para otra acusación o defensa -de hecho la representación procesal del Sr. del Rivero ya lo ha solicitado y esta parte se ha opuesto-, con unas keywords y custodios distintos y en otras líneas de investigación\". Al BBVA le parece \"claro\" además que la solicitud de Pineda \"está enfocada a cuestiones ajenas a esta causa\" y pone como ejemplo que haya pedido la inclusión en el \"forensic\" de la keyword \"Javier López Pérez\", presidente de Credit Services, que ejerce la acusación contra el líder de Ausbanc en la causa por extorsión por la que está siendo juzgado en la Audiencia Nacional. Pineda ejerce la acusación contra el BBVA en el caso Villarejo al aparecer indicios que implicarían al expresidente de la entidad Francisco González y a ex altos cargos del banco en la denuncia que dio pie a la apertura de la causa por la que Pineda está siendo juzgado junto al líder de Manos Limpias, Miguel Bernad. Otra cosa sería, apunta el BBVA, \"si se considera por parte del Juzgado que el trabajo debe realizarse conforme a otros criterios\" para buscar \"dentro del universo de los 2,3 millones de hits que voluntariamente y sin tener ninguna obligación de hacerlo hemos puesto a disposición del Instructor y del Ministerio Fiscal (dentro de los cuales, evidentemente se encuentran los mencionados 3.503 hits)\". Todo ello, eso sí, \"advirtiendo que dentro del mencionado universo existe información cuyo acceso, conocimiento, cesión o revelación vulnerará derechos de esta parte y de terceros, por lo que resulta indispensable\" adoptar medidas de protección. \n"
     ]
    },
    {
     "data": {
      "text/html": [
       "<img src=\"https://e00-expansion.uecdn.es/assets/multimedia/imagenes/2020/07/07/15941117729832.jpg\" width=\"500\"/>"
      ],
      "text/plain": [
       "<IPython.core.display.Image object>"
      ]
     },
     "metadata": {},
     "output_type": "display_data"
    },
    {
     "data": {
      "text/markdown": [
       "<a href=\"https://www.expansion.com/empresas/banca/2020/07/07/5f043881e5fdeac57a8b45d4.html\">Link</a>"
      ],
      "text/plain": [
       "<IPython.core.display.Markdown object>"
      ]
     },
     "metadata": {},
     "output_type": "display_data"
    },
    {
     "name": "stdout",
     "output_type": "stream",
     "text": [
      "\n",
      "\n",
      "\u001b[1m\u001b[32mEXPANSION\u001b[0m\n",
      "\u001b[1m\u001b[30mTue, 07 Jul 2020 10:18:45 +0200\u001b[0m\n",
      "\u001b[1m\u001b[35mBBVA emite 1.000 millones en bonos verdes convertibles en acciones al 6,5%\u001b[0m\n",
      "\u001b[34mHeadline\u001b[0m\n",
      "BBVA ha emitido este martes 1.000 millones de euros en un bono contingente convertible en acciones, los llamados \"cocos\", con un interés de partida del 6,5%, el primer instrumento \"verde\" de estas características que emite una entidad financiera, según ha informado este martes el banco.\n",
      "\u001b[34mSummarise\u001b[0m\n",
      "BBVA ha emitido este martes 1.000 millones de euros en un bono contingente convertible en acciones, los llamados \"cocos\", con un interés de partida del 6,5%, el primer instrumento \"verde\" de estas características que emite una entidad financiera, según ha informado este martes el banco.\n",
      "Según explica BBVA, se trata de la primera emisión de un \"coco\" verde de una entidad financiera \"a nivel mundial\", es decir, que el capital levantado se destinará a proyectos sostenibles, entre ellos las energías renovables.\n",
      "\u001b[34mText\u001b[0m\n",
      "BBVA ha emitido este martes 1.000 millones de euros en un bono contingente convertible en acciones, los llamados \"cocos\", con un interés de partida del 6,5%, el primer instrumento \"verde\" de estas características que emite una entidad financiera, según ha informado este martes el banco. Los \"cocos\" son instrumentos híbridos que tienen elementos de deuda -pagan un interés al comprador- y de capital -pueden absorber pérdidas-, y su principal característica es que pueden convertirse en acciones si el ratio de capital de máxima calidad CET1 desciende por debajo de un determinado nivel. También son perpetuos, es decir, no tienen un vencimiento determinado, aunque se pueden rescatar transcurridos cinco años y medio en este caso, en enero de 2026, y el emisor puede cancelar el pago del cupón, razones por las que estas emisiones van dirigidas solamente a inversores institucionales. Según explica BBVA, se trata de la primera emisión de un \"coco\" verde de una entidad financiera \"a nivel mundial\", es decir, que el capital levantado se destinará a proyectos sostenibles, entre ellos las energías renovables. La emisión se enmarca en el compromiso de BBVA de movilizar 100.000 millones de euros en finanzas sostenibles para 2025 y se destinará a refinanciar la posible amortización anticipada en abril de 2021 de otra emisión de \"cocos\" que salió al mercado en 2016, añade la entidad. \n"
     ]
    },
    {
     "data": {
      "text/html": [
       "<img src=\"https://e00-expansion.uecdn.es/assets/multimedia/imagenes/2020/07/07/15941098410021.jpg\" width=\"500\"/>"
      ],
      "text/plain": [
       "<IPython.core.display.Image object>"
      ]
     },
     "metadata": {},
     "output_type": "display_data"
    },
    {
     "data": {
      "text/markdown": [
       "<a href=\"https://www.expansion.com/empresas/banca/2020/07/07/5f042fdbe5fdea36028b461e.html\">Link</a>"
      ],
      "text/plain": [
       "<IPython.core.display.Markdown object>"
      ]
     },
     "metadata": {},
     "output_type": "display_data"
    },
    {
     "name": "stdout",
     "output_type": "stream",
     "text": [
      "\n",
      "\n",
      "\u001b[1m\u001b[32mEXPANSION\u001b[0m\n",
      "\u001b[1m\u001b[30mTue, 07 Jul 2020 01:40:20 +0200\u001b[0m\n",
      "\u001b[1m\u001b[35mLa banca se prepara para la venta masiva de tóxicos a finales de 2021\u001b[0m\n",
      "\u001b[34mHeadline\u001b[0m\n",
      "Santander, BBVA y Sabadell son los bancos que más activos dañados procedentes de la anterior crisis han vendido a los fondos, según Axis Corporate.\n",
      "\u001b[34mSummarise\u001b[0m\n",
      "\u001b[31mPremium Content\u001b[0m\n",
      "\u001b[34mText\u001b[0m\n",
      "Santander, BBVA y Sabadell son los bancos que más activos dañados procedentes de la anterior crisis han vendido a los fondos, según Axis Corporate. La banca española se prepara para la venta masiva de activos tóxicos una vez que aflore la morosidad real por el impacto de la pandemia. La relajación contable y las medidas para garantizar la liquidez, como las moratorias hipotecarias y en créditos  Para seguir leyendo, hágase Premium ¿Ya es Premium? Inicie sesión Mensual primer mes después 14,99€   Anual primer mes después 7,50€/mes (Pago único de 90€)\n",
      " 4 meses gratis  Descubra qué es Premium   Cancele cuando quiera    Consulte los términos y condiciones del servicio  \n"
     ]
    },
    {
     "data": {
      "text/html": [
       "<img src=\"https://e00-expansion.uecdn.es/assets/multimedia/imagenes/2020/07/07/15941030166758.png\" width=\"500\"/>"
      ],
      "text/plain": [
       "<IPython.core.display.Image object>"
      ]
     },
     "metadata": {},
     "output_type": "display_data"
    },
    {
     "data": {
      "text/markdown": [
       "<a href=\"https://www.expansion.com/empresas/banca/2020/07/07/5f036388e5fdea283f8b45f1.html\">Link</a>"
      ],
      "text/plain": [
       "<IPython.core.display.Markdown object>"
      ]
     },
     "metadata": {},
     "output_type": "display_data"
    },
    {
     "name": "stdout",
     "output_type": "stream",
     "text": [
      "\n",
      "\n",
      "\u001b[1m\u001b[32mEXPANSION\u001b[0m\n",
      "\u001b[1m\u001b[30mTue, 07 Jul 2020 01:27:23 +0200\u001b[0m\n",
      "\u001b[1m\u001b[35m¿Llevará la banca al Ibex a los 8.000 puntos?\u001b[0m\n",
      "\u001b[34mHeadline\u001b[0m\n",
      "Los analistas ven el objetivo del índice para el verano en los 8.300 puntos. Solo lo conseguirá si sube la banca, sector que representa el 20% del Ibex.\n",
      "\u001b[34mSummarise\u001b[0m\n",
      "\u001b[31mPremium Content\u001b[0m\n",
      "\u001b[34mText\u001b[0m\n",
      "Los analistas ven el objetivo del índice para el verano en los 8.300 puntos. Solo lo conseguirá si sube la banca, sector que representa el 20% del Ibex. Nueva sesión de alegría compradora en Bolsa en el sector bancario. El Ibex Banks sumó ayer el 5,28%, hasta los 331 puntos y todos sus valores vivieron un auténtico festival. El mejor fue Bankia, con una subida del 6,25%, que también fue la más abulta Para seguir leyendo, hágase Premium ¿Ya es Premium? Inicie sesión Mensual primer mes después 14,99€   Anual primer mes después 7,50€/mes (Pago único de 90€)\n",
      " 4 meses gratis  Descubra qué es Premium   Cancele cuando quiera    Consulte los términos y condiciones del servicio  \n"
     ]
    },
    {
     "data": {
      "text/html": [
       "<img src=\"https://e00-expansion.uecdn.es/assets/multimedia/imagenes/2020/07/07/15941028886685.png\" width=\"500\"/>"
      ],
      "text/plain": [
       "<IPython.core.display.Image object>"
      ]
     },
     "metadata": {},
     "output_type": "display_data"
    },
    {
     "data": {
      "text/markdown": [
       "<a href=\"https://www.expansion.com/mercados/2020/07/07/5f038c95e5fdea2c298b45d8.html\">Link</a>"
      ],
      "text/plain": [
       "<IPython.core.display.Markdown object>"
      ]
     },
     "metadata": {},
     "output_type": "display_data"
    },
    {
     "name": "stdout",
     "output_type": "stream",
     "text": [
      "\n",
      "\n",
      "\u001b[1m\u001b[32mEXPANSION\u001b[0m\n",
      "\u001b[1m\u001b[30mTue, 07 Jul 2020 01:26:06 +0200\u001b[0m\n",
      "\u001b[1m\u001b[35mAntónio Horta-Osório dejará Lloyds en 2021 tras una década al frente del banco\u001b[0m\n",
      "\u001b[34mHeadline\u001b[0m\n",
      "Entre los candidatos como posibles sucesores figura Antonio Lorenzo, actual ejecutivo de Scottish Widows.\n",
      "\u001b[34mSummarise\u001b[0m\n",
      "\u001b[31mPremium Content\u001b[0m\n",
      "\u001b[34mText\u001b[0m\n",
      "Entre los candidatos como posibles sucesores figura Antonio Lorenzo, actual ejecutivo de Scottish Widows. El portugués António Horta-Osório, consejero delegado de Lloyds desde finales de 2010, anunció ayer que dejará su puesto el año próximo tras una década en la que ha transformado uno de los mayores bancos británicos. Su marcha abre un proceso de suces Para seguir leyendo, hágase Premium ¿Ya es Premium? Inicie sesión Mensual primer mes después 14,99€   Anual primer mes después 7,50€/mes (Pago único de 90€)\n",
      " 4 meses gratis  Descubra qué es Premium   Cancele cuando quiera    Consulte los términos y condiciones del servicio  \n"
     ]
    },
    {
     "data": {
      "text/html": [
       "<img src=\"https://e00-expansion.uecdn.es/assets/multimedia/imagenes/2020/07/06/15940689712706.jpg\" width=\"500\"/>"
      ],
      "text/plain": [
       "<IPython.core.display.Image object>"
      ]
     },
     "metadata": {},
     "output_type": "display_data"
    },
    {
     "data": {
      "text/markdown": [
       "<a href=\"https://www.expansion.com/empresas/banca/2020/07/07/5f039019e5fdeaa8448b4597.html\">Link</a>"
      ],
      "text/plain": [
       "<IPython.core.display.Markdown object>"
      ]
     },
     "metadata": {},
     "output_type": "display_data"
    },
    {
     "name": "stdout",
     "output_type": "stream",
     "text": [
      "\n",
      "\n",
      "\u001b[1m\u001b[32mEXPANSION\u001b[0m\n",
      "\u001b[1m\u001b[30mTue, 07 Jul 2020 00:49:59 +0200\u001b[0m\n",
      "\u001b[1m\u001b[35mUn juez declara gratuita una hipoteca IRPH\u001b[0m\n",
      "\u001b[34mHeadline\u001b[0m\n",
      "El juez Juan Ramón Brigidano, de la Audiencia Provincial de Toledo, ha desestimado un recurso de Banco Popular, dictaminando que el contrato de préstamo ligado al IRPH firmado por los demandantes debe sobrevivir de forma gratuita, sin devengo de interés alguno a favor de la entidad.\n",
      "\u001b[34mSummarise\u001b[0m\n",
      "El juez Juan Ramón Brigidano, de la Audiencia Provincial de Toledo, ha desestimado un recurso de Banco Popular, dictaminando que el contrato de préstamo ligado al IRPH firmado por los demandantes debe sobrevivir de forma gratuita, sin devengo de interés alguno a favor de la entidad.\n",
      "Este dictamen ratifica el fallo del Juzgado de Primera Instancia número 5 de Illescas, que determinó que \"la consecuencia de la declaración de abusividad de la cláusula IRPH no puede ser más que la subsistencia del contrato de préstamo sin devengo de interés alguno a favor de la entidad acreedora, con la obligación de restituir al deudor la totalidad de los importes que por dicho concepto ha percibido durante la vigencia del contrato\".\n",
      "\u001b[34mText\u001b[0m\n",
      "El juez Juan Ramón Brigidano, de la Audiencia Provincial de Toledo, ha desestimado un recurso de Banco Popular, dictaminando que el contrato de préstamo ligado al IRPH firmado por los demandantes debe sobrevivir de forma gratuita, sin devengo de interés alguno a favor de la entidad. Se trata de la primera vez que prospera en segunda instancia un fallo a favor del consumidor que considera que el contrato hipotecario puede mantenerse sin ningún interés, mientras que la entidad tendrá que devolver la totalidad de los importes del índice declarado nulo.   La Audiencia Provincial se ha pronunciado así después de que el Tribunal de Justicia de la Unión Europea (TJUE) concluyera el pasado 3 de marzo que son los jueces nacionales los que deben ejercer el control de transparencia sobre el polémico índice.  Este dictamen ratifica el fallo del Juzgado de Primera Instancia número 5 de Illescas, que determinó que \"la consecuencia de la declaración de abusividad de la cláusula IRPH no puede ser más que la subsistencia del contrato de préstamo sin devengo de interés alguno a favor de la entidad acreedora, con la obligación de restituir al deudor la totalidad de los importes que por dicho concepto ha percibido durante la vigencia del contrato\".  Desde que el TJUE se pronunció hace apenas cuatro meses se han conocido 41 sentencias, de las que 27 han sido favorables al consumidor y, 14, en contra. La mayoría de las sentencias dictadas a favor del consumidor sustituyen el IRPH por el euribor.  \"Es lo justo para el consumidor que los litigios de IRPH se zanjen con préstamos sin remunerar, de lo contrario, no hay efecto disuasorio\", señaló Patricia Suárez, presidenta de Asufin. \n"
     ]
    },
    {
     "data": {
      "text/html": [
       "<img src=\"https://e00-expansion.uecdn.es/assets/multimedia/imagenes/2020/07/07/15940756999085.jpg\" width=\"500\"/>"
      ],
      "text/plain": [
       "<IPython.core.display.Image object>"
      ]
     },
     "metadata": {},
     "output_type": "display_data"
    },
    {
     "data": {
      "text/markdown": [
       "<a href=\"https://www.expansion.com/empresas/banca/2020/07/07/5f03aa83468aeb29488b45b6.html\">Link</a>"
      ],
      "text/plain": [
       "<IPython.core.display.Markdown object>"
      ]
     },
     "metadata": {},
     "output_type": "display_data"
    },
    {
     "name": "stdout",
     "output_type": "stream",
     "text": [
      "\n",
      "\n",
      "\u001b[1m\u001b[32mEXPANSION\u001b[0m\n",
      "\u001b[1m\u001b[30mTue, 07 Jul 2020 00:44:39 +0200\u001b[0m\n",
      "\u001b[1m\u001b[35mCommerzbank: búsqueda urgente de un CEO\u001b[0m\n",
      "\u001b[34mHeadline\u001b[0m\n",
      "Cerberus, uno de los principales accionistas del banco alemán Commerzbank, dijo ayer que la entidad debe encontrar un presidente antes de que se inicie la búsqueda formal de un consejero delegado, informa Reuters.\n",
      "\u001b[34mSummarise\u001b[0m\n",
      "\u001b[31mPremium Content\u001b[0m\n",
      "\u001b[34mText\u001b[0m\n",
      "Cerberus, uno de los principales accionistas del banco alemán Commerzbank, dijo ayer que la entidad debe encontrar un presidente antes de que se inicie la búsqueda formal de un consejero delegado, informa Reuters. El consejero delegado, Martin Zielke, y el presidente del Consejo de Supervisión, Stefan Schmittmann, han presentado sus dimisiones por la presión de Cerberus.\n",
      "Zielke presentó el viernes por sorpresa su dimisión de mutuo acuerdo con el Consejo de S Para seguir leyendo, hágase Premium ¿Ya es Premium? Inicie sesión Mensual primer mes después 14,99€   Anual primer mes después 7,50€/mes (Pago único de 90€)\n",
      " 4 meses gratis  Descubra qué es Premium   Cancele cuando quiera    Consulte los términos y condiciones del servicio  \n"
     ]
    },
    {
     "data": {
      "text/html": [
       "<img src=\"https://e00-expansion.uecdn.es/assets/multimedia/imagenes/2020/07/07/15940754255049.jpg\" width=\"500\"/>"
      ],
      "text/plain": [
       "<IPython.core.display.Image object>"
      ]
     },
     "metadata": {},
     "output_type": "display_data"
    },
    {
     "data": {
      "text/markdown": [
       "<a href=\"https://www.expansion.com/empresas/banca/2020/07/07/5f03a939468aeb1b558b4589.html\">Link</a>"
      ],
      "text/plain": [
       "<IPython.core.display.Markdown object>"
      ]
     },
     "metadata": {},
     "output_type": "display_data"
    },
    {
     "name": "stdout",
     "output_type": "stream",
     "text": [
      "\n",
      "\n",
      "\u001b[1m\u001b[32mEXPANSION\u001b[0m\n",
      "\u001b[1m\u001b[30mTue, 07 Jul 2020 00:34:25 +0200\u001b[0m\n",
      "\u001b[1m\u001b[35mLa fiscalía alemana detiene al segundo ejecutivo de Wirecard\u001b[0m\n",
      "\u001b[34mHeadline\u001b[0m\n",
      "La justicia alemana detiene al ejecutivo de CardSystems Middel East, una división clave en el supuesto fraude de Wirecard.\n",
      "\u001b[34mSummarise\u001b[0m\n",
      "\u001b[31mPremium Content\u001b[0m\n",
      "\u001b[34mText\u001b[0m\n",
      "La justicia alemana detiene al ejecutivo de CardSystems Middel East, una división clave en el supuesto fraude de Wirecard. Los fiscales de Munich detuvieron ayer a Oliver , el ejecutivo de Wirecard que dirigió CardSystems Middle East de Wirecard, el área clave del supuesto fraude de la compañía desde su departamento en Burj Khalifa de Dubai.\n",
      "Bellenhaus, un entusiasta de Para seguir leyendo, hágase Premium ¿Ya es Premium? Inicie sesión Mensual primer mes después 14,99€   Anual primer mes después 7,50€/mes (Pago único de 90€)\n",
      " 4 meses gratis  Descubra qué es Premium   Cancele cuando quiera    Consulte los términos y condiciones del servicio  \n"
     ]
    },
    {
     "data": {
      "text/html": [
       "<img src=\"https://e00-expansion.uecdn.es/assets/multimedia/imagenes/2020/07/07/15940747827603.jpg\" width=\"500\"/>"
      ],
      "text/plain": [
       "<IPython.core.display.Image object>"
      ]
     },
     "metadata": {},
     "output_type": "display_data"
    },
    {
     "data": {
      "text/markdown": [
       "<a href=\"https://www.expansion.com/empresas/banca/2020/07/07/5f03a6e3468aebc2538b45a1.html\">Link</a>"
      ],
      "text/plain": [
       "<IPython.core.display.Markdown object>"
      ]
     },
     "metadata": {},
     "output_type": "display_data"
    },
    {
     "name": "stdout",
     "output_type": "stream",
     "text": [
      "\n",
      "\n",
      "\u001b[1m\u001b[32mEXPANSION\u001b[0m\n",
      "\u001b[1m\u001b[30mTue, 07 Jul 2020 00:14:35 +0200\u001b[0m\n",
      "\u001b[1m\u001b[35mLas autoridades chinas quieren acabar con los accionistas ilegales de los bancos\u001b[0m\n",
      "\u001b[34mHeadline\u001b[0m\n",
      "Los autoridades chinas quieren poner fin a las actividades de los accionistas \"ilegales\" de los bancos, muchos de los cuales utilizaban dichas participaciones para financiar sus propios proyectos.\n",
      "\u001b[34mSummarise\u001b[0m\n",
      "\u001b[31mPremium Content\u001b[0m\n",
      "\u001b[34mText\u001b[0m\n",
      "Los autoridades chinas quieren poner fin a las actividades de los accionistas \"ilegales\" de los bancos, muchos de los cuales utilizaban dichas participaciones para financiar sus propios proyectos. La Comisión Reguladora de la Banca y los Seguros de China (CBIRC) ha publicado una lista de 38 accionistas ilegales que estarán obligados a desinvertir en bancos y compañías de seguros. Entre ellos figuran empresas relacionadas con el banco regional  Para seguir leyendo, hágase Premium ¿Ya es Premium? Inicie sesión Mensual primer mes después 14,99€   Anual primer mes después 7,50€/mes (Pago único de 90€)\n",
      " 4 meses gratis  Descubra qué es Premium   Cancele cuando quiera    Consulte los términos y condiciones del servicio  \n"
     ]
    },
    {
     "data": {
      "text/html": [
       "<img src=\"https://e00-expansion.uecdn.es/assets/multimedia/imagenes/2020/07/06/15940628023579.jpg\" width=\"500\"/>"
      ],
      "text/plain": [
       "<IPython.core.display.Image object>"
      ]
     },
     "metadata": {},
     "output_type": "display_data"
    },
    {
     "data": {
      "text/markdown": [
       "<a href=\"https://www.expansion.com/mercados/2020/07/07/5f037800e5fdeaf43d8b45be.html\">Link</a>"
      ],
      "text/plain": [
       "<IPython.core.display.Markdown object>"
      ]
     },
     "metadata": {},
     "output_type": "display_data"
    },
    {
     "name": "stdout",
     "output_type": "stream",
     "text": [
      "\n",
      "\n",
      "\u001b[1m\u001b[32mEXPANSION\u001b[0m\n",
      "\u001b[1m\u001b[30mMon, 06 Jul 2020 20:38:01 +0200\u001b[0m\n",
      "\u001b[1m\u001b[35mCriteria prescinde de García-Bragado como vicepresidente y seguirá de consejero en Caixabank\u001b[0m\n",
      "\u001b[34mHeadline\u001b[0m\n",
      "El Consejo de Administración de Criteria Caixa no ha renovado a Alejandro García-Bragado como vicepresidente dentro de su estrategia de cumplir con la desconsolidación del holding, ya que es también consejero de Caixabank desde el 2016.\n",
      "\u001b[34mSummarise\u001b[0m\n",
      "Su Consejo de Administración lo integran así y junto a ellos tres el presidente, Isidro Fainé, y el consejero delegado, Marcelino Armenter, y los consejeros Enrique Alcántara-García, José Antonio Asiáin, Jean Louis Chaussade, Marcos Contreras, Isabel Estapé, Eugenio Gay Montalvo, Josep Delfí Guàrdia, Francesc Homs Ferret, Mª Asunción Ortega Enciso y Montserrat Trapé Viladomat.\n",
      "La Comisión Ejecutiva la integrarán en lo sucesivo Isidro Fainé, Marcelino Armenter, José Antonio Asiáin, Marcos Contreras Manrique y Juan José López Burniol, según ha detallado la entidad a la Comisión Nacional del Mercado de Valores (CNMV).\n",
      "\u001b[34mText\u001b[0m\n",
      "El Consejo de Administración de Criteria Caixa no ha renovado a Alejandro García-Bragado como vicepresidente dentro de su estrategia de cumplir con la desconsolidación del holding, ya que es también consejero de Caixabank desde el 2016. Su salida coincide con el vencimiento del mandato, mientras que la sociedad tenedora de las participaciones industriales del grupo sí ha renovado por otro mandato de cuatro años al segundo vicepresidente de Criteria Javier Godó Muntañola y a los consejeros Víctor Grífols Roura y Juan José López Burniol.  Su Consejo de Administración lo integran así y junto a ellos tres el presidente, Isidro Fainé, y el consejero delegado, Marcelino Armenter, y los consejeros Enrique Alcántara-García, José Antonio Asiáin, Jean Louis Chaussade, Marcos Contreras, Isabel Estapé, Eugenio Gay Montalvo, Josep Delfí Guàrdia, Francesc Homs Ferret, Mª Asunción Ortega Enciso y Montserrat Trapé Viladomat.  La Comisión Ejecutiva la integrarán en lo sucesivo Isidro Fainé, Marcelino Armenter, José Antonio Asiáin, Marcos Contreras Manrique y Juan José López Burniol, según ha detallado la entidad a la Comisión Nacional del Mercado de Valores (CNMV).  Dentro de la estrategia de separación de cargos entre empresas del grupo en abril dejó también el cargo de consejero de Caixabank el también consejero delegado de Criteria Marcelino Armenter.  Su renuncia la justificó a la Comisión Nacional del Mercado de Valores (CNMV) \"en el marco de las tendencias de buen gobierno corporativo\" y para evitar eventuales interferencias dado que el holding industrial está diversificando su cartera de inversiones, sobre todo, en empresas cotizadas. \n"
     ]
    },
    {
     "data": {
      "text/html": [
       "<img src=\"https://e00-expansion.uecdn.es/assets/multimedia/imagenes/2020/07/06/15940581954620.jpg\" width=\"500\"/>"
      ],
      "text/plain": [
       "<IPython.core.display.Image object>"
      ]
     },
     "metadata": {},
     "output_type": "display_data"
    },
    {
     "data": {
      "text/markdown": [
       "<a href=\"https://www.expansion.com/empresas/banca/2020/07/06/5f03660ee5fdeaea5d8b45f7.html\">Link</a>"
      ],
      "text/plain": [
       "<IPython.core.display.Markdown object>"
      ]
     },
     "metadata": {},
     "output_type": "display_data"
    },
    {
     "name": "stdout",
     "output_type": "stream",
     "text": [
      "\n",
      "\n",
      "\u001b[1m\u001b[32mEXPANSION\u001b[0m\n",
      "\u001b[1m\u001b[30mMon, 06 Jul 2020 20:34:55 +0200\u001b[0m\n",
      "\u001b[1m\u001b[35mBBVA identifica a 100.000 clientes con dificultades\u001b[0m\n",
      "\u001b[34mHeadline\u001b[0m\n",
      "BBVA ha identificado en el último mes de junio a unos 100.000 clientes en España que podrían estar atravesando dificultades para hacer frente a las cuotas de sus préstamos al consumo o hipotecarios por razones ligadas al Covid-19.\n",
      "\u001b[34mSummarise\u001b[0m\n",
      "BBVA ha identificado en el último mes de junio a unos 100.000 clientes en España que podrían estar atravesando dificultades para hacer frente a las cuotas de sus préstamos al consumo o hipotecarios por razones ligadas al Covid-19.\n",
      "Entre los clientes que han contactado se encuentran aquellos que ya han tenido algún impago o retraso en el pago de sus cuotas, los que están en situación de desempleo o están acogidos a un expediente de regulación temporal de empleo (ERTE) y también aquellos que han solicitado una moratoria del Real Decreto y pueden necesitar ampliarla con otra sectorial.\n",
      "\u001b[34mText\u001b[0m\n",
      "BBVA ha identificado en el último mes de junio a unos 100.000 clientes en España que podrían estar atravesando dificultades para hacer frente a las cuotas de sus préstamos al consumo o hipotecarios por razones ligadas al Covid-19. Los gestores de la entidad se han puesto en contacto con cada uno de ellos con el objetivo de analizar su carga financiera y ofrecerles soluciones mientras sus ingresos no se recuperen, ya que la crisis sanitaria ha provocado la merma de ingresos en miles de familias. BBVA ha realizado este proceso a través de la banca personalizada, que permite analizar los clientes y delimitar así el colectivo teniendo en cuenta, entre otras variables, las tensiones de liquidez, el nivel de endeudamiento o la capacidad de pago. \"Estos modelos son capaces de priorizar aquellos casos cuya gestión es más urgente. Además, el listado se va actualizando a medida que transcurren las semanas y varía la situación de los clientes\", explicó ayer el banco en un comunicado. Los afectados pueden disponer de una solución sobre el pago de cuota impagada sin necesidad de acudir a una moratoria o bien aplazar los pagos a los que tienen que hacer frente. Entre los clientes que han contactado se encuentran aquellos que ya han tenido algún impago o retraso en el pago de sus cuotas, los que están en situación de desempleo o están acogidos a un expediente de regulación temporal de empleo (ERTE) y también aquellos que han solicitado una moratoria del Real Decreto y pueden necesitar ampliarla con otra sectorial. Los bancos han ampliado recientemente hasta el 30 de septiembre las moratorias sectoriales. Se permite aplazar las cuotas hipotecarias, sólo se abonan intereses, hasta un año, y las de los préstamos al consumo durante seis meses. El sector bancario también ha acordado con el Gobierno adelantar la nómina del paro de los trabajadores en ERTE. \n"
     ]
    },
    {
     "data": {
      "text/html": [
       "<img src=\"https://e00-expansion.uecdn.es/assets/multimedia/imagenes/2020/07/06/15940604286299.jpg\" width=\"500\"/>"
      ],
      "text/plain": [
       "<IPython.core.display.Image object>"
      ]
     },
     "metadata": {},
     "output_type": "display_data"
    },
    {
     "data": {
      "text/markdown": [
       "<a href=\"https://www.expansion.com/empresas/banca/2020/07/06/5f036ec2e5fdea283f8b4604.html\">Link</a>"
      ],
      "text/plain": [
       "<IPython.core.display.Markdown object>"
      ]
     },
     "metadata": {},
     "output_type": "display_data"
    },
    {
     "name": "stdout",
     "output_type": "stream",
     "text": [
      "\n",
      "\n",
      "\u001b[1m\u001b[32mEXPANSION\u001b[0m\n",
      "\u001b[1m\u001b[30mMon, 06 Jul 2020 12:13:48 +0200\u001b[0m\n",
      "\u001b[1m\u001b[35mSantander y Mapfre amplían su acuerdo de bancaseguros a Portugal\u001b[0m\n",
      "\u001b[34mHeadline\u001b[0m\n",
      "El banco distribuirá en exclusiva en el país vecino pólizas de automóviles, multirriesgo pymes y seguros de responsabilidad civil de Mapfre.\n",
      "\u001b[34mSummarise\u001b[0m\n",
      "Ambas entidades crearán una aseguradora, que estará controlada en un 50,01% por Mapfre, mientras que Banco Santander Totta será titular del 49,99% restante.\n",
      "El acuerdo suscrito tiene una vigencia de 17 años, por lo que estará en vigor hasta 2037,  A raíz del acuerdo de bancaseguros suscrito en enero del año pasado en España, Santander y la aseguradora acordaron estrechar sus relaciones corporativas, estudiando la posibilidad de implementar acuerdos de similares características en otros mercados.\n",
      "Este acuerdo se ve complementado con la adquisición, por parte de Mapfre Vida, del 100% de una cartera en run-off de seguros de vida riesgo actualmente propiedad de Santander Totta Seguros.\n",
      "\u001b[34mText\u001b[0m\n",
      "El banco distribuirá en exclusiva en el país vecino pólizas de automóviles, multirriesgo pymes y seguros de responsabilidad civil de Mapfre. Ambas entidades crearán una aseguradora, que estará controlada en un 50,01% por Mapfre, mientras que Banco Santander Totta será titular del 49,99% restante. El acuerdo suscrito tiene una vigencia de 17 años, por lo que estará en vigor hasta 2037,  A raíz del acuerdo de bancaseguros suscrito en enero del año pasado en España, Santander y la aseguradora acordaron estrechar sus relaciones corporativas, estudiando la posibilidad de implementar acuerdos de similares características en otros mercados. Esta es la primera materialización de ese compromiso. Este acuerdo se ve complementado con la adquisición, por parte de Mapfre Vida, del 100% de una cartera en run-off de seguros de vida riesgo actualmente propiedad de Santander Totta Seguros. Santander Totta es el mayor banco privado en el mercado portugués.  La previsión es que la nueva sociedad, cuya creación está condicionada a la aprobación de las autoridades competentes, pueda empezar a producir seguros en el cuarto trimestre de 2020. \n"
     ]
    },
    {
     "data": {
      "text/html": [
       "<img src=\"https://e00-expansion.uecdn.es/assets/multimedia/imagenes/2020/07/06/15940304104328.jpg\" width=\"500\"/>"
      ],
      "text/plain": [
       "<IPython.core.display.Image object>"
      ]
     },
     "metadata": {},
     "output_type": "display_data"
    },
    {
     "data": {
      "text/markdown": [
       "<a href=\"https://www.expansion.com/empresas/banca/2020/07/06/5f02f92ee5fdea212c8b4589.html\">Link</a>"
      ],
      "text/plain": [
       "<IPython.core.display.Markdown object>"
      ]
     },
     "metadata": {},
     "output_type": "display_data"
    },
    {
     "name": "stdout",
     "output_type": "stream",
     "text": [
      "\n",
      "\n",
      "\u001b[1m\u001b[32mEXPANSION\u001b[0m\n",
      "\u001b[1m\u001b[30mMon, 06 Jul 2020 10:38:37 +0200\u001b[0m\n",
      "\u001b[1m\u001b[35m\"Estamos prestando mucha atención a nuestra exposición al riesgo de crédito\"\u001b[0m\n",
      "\u001b[34mHeadline\u001b[0m\n",
      "Juan Ortí, presidente de American Express España, señala que la multinacional ha logrado reducir sus costes sin tocar su plantilla durante la pandemia y se ha enfocado en mantener intacta su relación con clientes.\n",
      "\u001b[34mSummarise\u001b[0m\n",
      "\u001b[31mPremium Content\u001b[0m\n",
      "\u001b[34mText\u001b[0m\n",
      "Juan Ortí, presidente de American Express España, señala que la multinacional ha logrado reducir sus costes sin tocar su plantilla durante la pandemia y se ha enfocado en mantener intacta su relación con clientes. El presidente ejecutivo y consejero delegado de American Express en España, Juan Orti (Madrid, 1971), lidera una de las principales filiales de la multinacional estadounidense en el sur de Europa.\n",
      "\n",
      "- ¿Qué impactos prevén por la crisis del Covid-19 y  Para seguir leyendo, hágase Premium ¿Ya es Premium? Inicie sesión Mensual primer mes después 14,99€   Anual primer mes después 7,50€/mes (Pago único de 90€)\n",
      " 4 meses gratis  Descubra qué es Premium   Cancele cuando quiera    Consulte los términos y condiciones del servicio  \n"
     ]
    },
    {
     "data": {
      "text/html": [
       "<img src=\"https://e00-expansion.uecdn.es/assets/multimedia/imagenes/2020/07/06/15940136099303.jpg\" width=\"500\"/>"
      ],
      "text/plain": [
       "<IPython.core.display.Image object>"
      ]
     },
     "metadata": {},
     "output_type": "display_data"
    },
    {
     "data": {
      "text/markdown": [
       "<a href=\"https://www.expansion.com/empresas/banca/2020/07/06/5f02ba1fe5fdeab5138b45c8.html\">Link</a>"
      ],
      "text/plain": [
       "<IPython.core.display.Markdown object>"
      ]
     },
     "metadata": {},
     "output_type": "display_data"
    },
    {
     "name": "stdout",
     "output_type": "stream",
     "text": [
      "\n",
      "\n",
      "\u001b[1m\u001b[32mEXPANSION\u001b[0m\n",
      "\u001b[1m\u001b[30mMon, 06 Jul 2020 08:42:51 +0200\u001b[0m\n",
      "\u001b[1m\u001b[35mHorta-Osório dejará su cargo como consejero delegado de Lloyds el próximo año\u001b[0m\n",
      "\u001b[34mHeadline\u001b[0m\n",
      "El banquero portugués António Horta-Osório ha comunicado al consejo de administración de LLoyds Banking Group su intención de abandonar en 2021 el puesto de consejero delegado de la entidad, que ocupaba desde marzo de 2011, según ha confirmado el banco británico.\n",
      "\u001b[34mSummarise\u001b[0m\n",
      "El banquero portugués António Horta-Osório ha comunicado al consejo de administración de LLoyds Banking Group su intención de abandonar en 2021 el puesto de consejero delegado de la entidad, que ocupaba desde marzo de 2011, según ha confirmado el banco británico.\n",
      "\"Por supuesto, con emociones encontradas, anuncio mi intención de renunciar como consejero delegado de Lloyds Banking Group para junio del próximo año (...) Me ha honrado desempeñar mi parte en la transformación de gran parte de nuestro negocio.\n",
      "Por otro lado, al margen de la salida de Horta-Osório, el consejo de administración de LLoyds ha anunciado el nombramiento de Robin Budenberg como nuevo presidente del banco en sustitución de Norman Blackwell a partir de 2021.\n",
      "\u001b[34mText\u001b[0m\n",
      "El banquero portugués António Horta-Osório ha comunicado al consejo de administración de LLoyds Banking Group su intención de abandonar en 2021 el puesto de consejero delegado de la entidad, que ocupaba desde marzo de 2011, según ha confirmado el banco británico. En este sentido, la entidad ha anunciado que el ejecutivo luso ha acordado \"programar\" su retirada como consejero delegado para apoyar una transición sin sobresaltos en la dirección, con una fecha estimada para finales de junio de 2021.   \"Por supuesto, con emociones encontradas, anuncio mi intención de renunciar como consejero delegado de Lloyds Banking Group para junio del próximo año (...) Me ha honrado desempeñar mi parte en la transformación de gran parte de nuestro negocio. Sé que cuando deje el grupo el próximo año, tiene la fuerza estratégica, operativa y de gestión para desarrollar aún más su posición líder en el mercado\", ha declarado Horta-Osório.   \"Me gustaría aprovechar esta oportunidad para rendir homenaje a la destacada contribución que António Horta-Osório ha hecho para dar la vuelta primero y luego liderar el desarrollo estratégico del Grupo durante la última década\", ha indicado el presidente de la entidad, Norman Blackwell, quien ha destacado el compromiso personal y fuerte visión del portugués, que ha liderado la exitosa privatización del banco tras su rescate en 2009.   Desde 2006 y hasta 2011, António Horta-Osório fue consejero delegado de Santander UK, liderando la expansión de la entidad cántabra en el mercado británico mediante crecimiento orgánico y la integración de las actividades de Abbey, Alliance & Leicester y el negocio de ahorro de Bradford & Bingley.   Por otro lado, al margen de la salida de Horta-Osório, el consejo de administración de LLoyds ha anunciado el nombramiento de Robin Budenberg como nuevo presidente del banco en sustitución de Norman Blackwell a partir de 2021. Budenberg se incorporará al consejo de Lloyds el 1 de octubre de 2020 y asumirá la presidencia a principios de 2021. \n"
     ]
    },
    {
     "data": {
      "text/html": [
       "<img src=\"https://e00-expansion.uecdn.es/assets/multimedia/imagenes/2020/07/06/15940169848055.jpg\" width=\"500\"/>"
      ],
      "text/plain": [
       "<IPython.core.display.Image object>"
      ]
     },
     "metadata": {},
     "output_type": "display_data"
    },
    {
     "data": {
      "text/markdown": [
       "<a href=\"https://www.expansion.com/empresas/banca/2020/07/06/5f02c7b5e5fdea791f8b45b2.html\">Link</a>"
      ],
      "text/plain": [
       "<IPython.core.display.Markdown object>"
      ]
     },
     "metadata": {},
     "output_type": "display_data"
    },
    {
     "name": "stdout",
     "output_type": "stream",
     "text": [
      "\n",
      "\n",
      "\u001b[1m\u001b[32mEXPANSION\u001b[0m\n",
      "\u001b[1m\u001b[30mMon, 06 Jul 2020 07:52:38 +0200\u001b[0m\n",
      "\u001b[1m\u001b[35mCaixaBank estrena plataforma para atraer clientes extranjeros\u001b[0m\n",
      "\u001b[34mHeadline\u001b[0m\n",
      "CaixaBank ha puesto en marcha una plataforma digital para facilitar la captación de clientes extranjeros.\n",
      "\u001b[34mSummarise\u001b[0m\n",
      "\u001b[31mPremium Content\u001b[0m\n",
      "\u001b[34mText\u001b[0m\n",
      "CaixaBank ha puesto en marcha una plataforma digital para facilitar la captación de clientes extranjeros. Se trata de una aplicación que permite a los no residentes abrir rápidamente una cuenta en HolaBank -el programa dirigido a sus clientes internacionales en España- y también solicitar una hipoteca desde sus países de origen e íntegramente de forma di Para seguir leyendo, hágase Premium ¿Ya es Premium? Inicie sesión Mensual primer mes después 14,99€   Anual primer mes después 7,50€/mes (Pago único de 90€)\n",
      " 4 meses gratis  Descubra qué es Premium   Cancele cuando quiera    Consulte los términos y condiciones del servicio  \n"
     ]
    },
    {
     "data": {
      "text/html": [
       "<img src=\"https://e00-expansion.uecdn.es/assets/multimedia/imagenes/2020/07/06/15940145362027.jpg\" width=\"500\"/>"
      ],
      "text/plain": [
       "<IPython.core.display.Image object>"
      ]
     },
     "metadata": {},
     "output_type": "display_data"
    },
    {
     "data": {
      "text/markdown": [
       "<a href=\"https://www.expansion.com/empresas/banca/2020/07/06/5f02bbf6e5fdeac4678b45dc.html\">Link</a>"
      ],
      "text/plain": [
       "<IPython.core.display.Markdown object>"
      ]
     },
     "metadata": {},
     "output_type": "display_data"
    },
    {
     "name": "stdout",
     "output_type": "stream",
     "text": [
      "\n",
      "\n"
     ]
    }
   ],
   "source": [
    "yesterday = datetime.datetime.today() - datetime.timedelta(days=1)\n",
    "before_yes = datetime.datetime.today() - datetime.timedelta(days=2)\n",
    "\n",
    "for i in list(expansion.keys()):\n",
    "    if expansion[i]['date']['date2'][2] in [datetime.datetime.today().day,yesterday.day,before_yes.day]:\n",
    "        print(colored((expansion[i]['newspaper']).upper(),'green',attrs=['bold']))\n",
    "        print(colored(expansion[i]['date']['date1'],'grey',attrs=['bold']))\n",
    "        print(colored(expansion[i]['title'],'magenta',attrs=['bold']))\n",
    "        print(colored('Headline','blue'))\n",
    "        print(expansion[i]['headline'])\n",
    "        print(colored('Summarise','blue'))\n",
    "        \n",
    "        if expansion[i]['summarise'] != 'Premium Content':\n",
    "            print(expansion[i]['summarise'])\n",
    "        else:\n",
    "            print(colored(expansion[i]['summarise'],'red'))\n",
    "        print(colored('Text','blue'))\n",
    "        print(expansion[i]['text'])\n",
    "        url = expansion[i]['img']\n",
    "        display(Image(url=url,width=500))\n",
    "        display(Markdown('<a href=\"'+expansion[i]['link']+'\">Link</a>'))\n",
    "        print('\\n')"
   ]
  },
  {
   "cell_type": "code",
   "execution_count": null,
   "metadata": {},
   "outputs": [],
   "source": []
  }
 ],
 "metadata": {
  "kernelspec": {
   "display_name": "Python 3",
   "language": "python",
   "name": "python3"
  },
  "language_info": {
   "codemirror_mode": {
    "name": "ipython",
    "version": 3
   },
   "file_extension": ".py",
   "mimetype": "text/x-python",
   "name": "python",
   "nbconvert_exporter": "python",
   "pygments_lexer": "ipython3",
   "version": "3.7.6"
  }
 },
 "nbformat": 4,
 "nbformat_minor": 4
}
