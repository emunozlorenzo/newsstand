{
 "cells": [
  {
   "cell_type": "markdown",
   "metadata": {},
   "source": [
    "# RSS: Cinco Días"
   ]
  },
  {
   "cell_type": "markdown",
   "metadata": {},
   "source": [
    "## 1. Import Libraries"
   ]
  },
  {
   "cell_type": "code",
   "execution_count": 1,
   "metadata": {},
   "outputs": [],
   "source": [
    "import feedparser\n",
    "from gensim.summarization.summarizer import summarize\n",
    "from gensim.summarization import keywords\n",
    "import urllib.request\n",
    "from urllib.request import urlopen\n",
    "from bs4 import BeautifulSoup\n",
    "import requests\n",
    "import googletrans\n",
    "import datetime\n",
    "from termcolor import colored\n",
    "from IPython.display import display, Markdown, Latex, HTML\n",
    "import re\n",
    "from IPython.display import Image\n",
    "import urllib"
   ]
  },
  {
   "cell_type": "code",
   "execution_count": 2,
   "metadata": {},
   "outputs": [],
   "source": [
    "def get_only_text1(url):\n",
    "    \n",
    "    \"\"\"\n",
    "    return the title and the text of the article at the \n",
    "    specified url\n",
    "    \"\"\"\n",
    "    \n",
    "    page=urlopen(url)\n",
    "    soup=BeautifulSoup(page,\"html.parser\")\n",
    "    text=' '.join(map(lambda p: p.text, soup.find_all('p')))\n",
    "    # Eliminar Última Hora\n",
    "    rest = soup.find_all('p', attrs={'class' : \"line-clamp_x2 ue-c-widget__article-headline\"})[0].text\n",
    "    index = text.find(rest)\n",
    "    final_text = text[:index]\n",
    "    return [final_text,soup.title.text]\n",
    "\n",
    "def get_only_text(url):\n",
    "    \n",
    "    \"\"\"\n",
    "    return the title and the text of the article at the \n",
    "    specified url\n",
    "    \"\"\"\n",
    "    \n",
    "    page=urlopen(url)\n",
    "    soup=BeautifulSoup(page,\"html.parser\")\n",
    "    text=' '.join(map(lambda p: p.text, soup.find_all('p')))\n",
    "    return [text,soup.title.text]\n",
    "\n",
    "def find_between( s, first, last ):\n",
    "    try:\n",
    "        start = s.index( first ) + len( first )\n",
    "        end = s.index( last, start )\n",
    "        return s[start:end]\n",
    "    except ValueError:\n",
    "        return \"\""
   ]
  },
  {
   "cell_type": "code",
   "execution_count": 3,
   "metadata": {},
   "outputs": [],
   "source": [
    "def cincod_news(cincod_entries,word_count=100):\n",
    "    cincod = {}\n",
    "    for i in range(len(cincod_entries)):\n",
    "        noticia = {'newspaper':None,'title':None,'headline':None,'summarise':None,'date':None,'link':None,'text':None,'current_date':None,'img':None,'premium':None}\n",
    "        # Periodico\n",
    "        noticia['newspaper'] = find_between(s=cincod_entries[i]['id'], first='//', last='.' )\n",
    "        # Title\n",
    "        noticia['title'] = cincod_entries[i]['title']\n",
    "        # Headline\n",
    "        headline =  re.sub(pattern='&quot;',repl='\"',string=cincod_entries[i]['summary_detail']['value'])\n",
    "        noticia['headline'] = headline\n",
    "        # Date\n",
    "        noticia['date'] = {'date1':cincod_entries[i]['published'],'date2':cincod_entries[i]['published_parsed']}\n",
    "        # Link\n",
    "        noticia['link'] = cincod_entries[i]['id']\n",
    "        # Text\n",
    "        text = get_only_text(cincod_entries[i]['id'])[0]\n",
    "        if text.find('»') != -1:\n",
    "            index = get_only_text(cincod_entries[i]['id'])[0].index('»') +3\n",
    "            text = get_only_text(cincod_entries[i]['id'])[0][index:]\n",
    "        noticia['text'] = text\n",
    "        # Summarise\n",
    "        noticia['summarise'] = summarize(text, word_count=word_count)        \n",
    "        # Current Date\n",
    "        noticia['current_date'] = datetime.datetime.now().timetuple()\n",
    "        # Image\n",
    "        if len(cincod_entries[i]['links']) > 1:\n",
    "            noticia['img'] = cincod_entries[i]['links'][1]['href']\n",
    "        else:\n",
    "             noticia['img'] = None\n",
    "        cincod.update({'Noticia'+'_'+str(\"%02d\")%(i+1):noticia})\n",
    "    return cincod"
   ]
  },
  {
   "cell_type": "markdown",
   "metadata": {},
   "source": [
    "## 2. RSS Cinco Días"
   ]
  },
  {
   "cell_type": "code",
   "execution_count": 4,
   "metadata": {},
   "outputs": [
    {
     "name": "stdout",
     "output_type": "stream",
     "text": [
      "Total Entradas Cinco Días: 28\n"
     ]
    }
   ],
   "source": [
    "url_cinco_dias = 'https://cincodias.elpais.com/seccion/rss/companias/'\n",
    "cincod = feedparser.parse(url_cinco_dias)\n",
    "cincod_entries = cincod['entries']\n",
    "\n",
    "print('Total Entradas Cinco Días:',len(cincod_entries))"
   ]
  },
  {
   "cell_type": "code",
   "execution_count": 5,
   "metadata": {},
   "outputs": [],
   "source": [
    "cincod = cincod_news(cincod_entries,word_count=100)"
   ]
  },
  {
   "cell_type": "code",
   "execution_count": 6,
   "metadata": {},
   "outputs": [
    {
     "name": "stdout",
     "output_type": "stream",
     "text": [
      "\u001b[1m\u001b[32mCINCODIAS\u001b[0m\n",
      "\u001b[1m\u001b[30mMon, 13 Jul 2020 18:23:48 +0200\u001b[0m\n",
      "\u001b[1m\u001b[35mAnalog adquiere Maxim para formar un gigante de semiconductores\u001b[0m\n",
      "\u001b[34mHeadline\u001b[0m\n",
      "La operación se realizará íntegramente con intercambio de acciones con lo que se creará una nueva compañía valorada en 68.000 millones de dólares\n",
      "\u001b[34mSummarise\u001b[0m\n",
      "El fabricante de semiconductores Analog Devices anunció hoy la fusión con su rival Maxim, en una operación de unos 20.000 millones de dólares por la que se convertirá en uno de los principales fabricantes de semiconductores.\n",
      "La operación se realizará íntegramente con intercambio de acciones y se espera que culmine en el verano de 2021, con lo que se creará una nueva compañía valorada en 68.000 millones de dólares.\n",
      "La fusión es la más grande anunciada este año en Estados Unidos y una de las más importantes a nivel mundial, según datos de Dealogic.\n",
      "\u001b[34mText\u001b[0m\n",
      "El fabricante de semiconductores Analog Devices anunció hoy la fusión con su rival Maxim, en una operación de unos 20.000 millones de dólares por la que se convertirá en uno de los principales fabricantes de semiconductores. La operación se realizará íntegramente con intercambio de acciones y se espera que culmine en el verano de 2021, con lo que se creará una nueva compañía valorada en 68.000 millones de dólares. Al cierre del viernes la capitalización de Maxim, con sede en San José (California) era de 17.000 millones de dólares, y la de Analog Devices, con sede en Norwood (Massachussets), de unos 46.000 millones. Las compañías informaron el lunes de que la operación se financiará con un intercambio de acciones que dará a los accionistas de Analog el equivalente del 69 % de las acciones y a los de Maxim el 31 % de los nuevos títulos. La fusión es la más grande anunciada este año en Estados Unidos y una de las más importantes a nivel mundial, según datos de Dealogic. La compañía resultante será el principal competidor de Texas Instruments, líder en semiconductores análogos, de importancia en las industrias que requieren control de corriente eléctrica, como en la automoción o en electrodomésticos. Texas Instruments tiene un valor de mercado de unos 119.000 millones de dólares. La fusión anunciada hoy llevaba gestándose años, aunque las conversaciones se detuvieron y reiniciaron en varias ocasiones. El sector de los semiconductores lleva dos años en una fase de integración a la par que la diversificación en el uso de chips en electrónica, en especial en productos conectados a la red con el \"Internet de la Cosas\" aumenta. El año pasado la alemana Infineon Technologies acordó comprar Cypress Semiconductor por 8.400 millones de euros. En 2018, los reguladores de Estados Unidos frustraron la compra de Qualcomm por parte de Broadcom, mientras que China acabó por descarrilar la fusión entre Qualcomm y NXP.\n"
     ]
    },
    {
     "data": {
      "text/html": [
       "<img src=\"https://d500.epimg.net/cincodias/imagenes/2020/07/13/companias/1594656810_236855_1594657293_miniatura_normal.jpg\" width=\"500\"/>"
      ],
      "text/plain": [
       "<IPython.core.display.Image object>"
      ]
     },
     "metadata": {},
     "output_type": "display_data"
    },
    {
     "data": {
      "text/markdown": [
       "<a href=\"https://cincodias.elpais.com/cincodias/2020/07/13/companias/1594656810_236855.html#?ref=rss&format=simple&link=guid\">Link</a>"
      ],
      "text/plain": [
       "<IPython.core.display.Markdown object>"
      ]
     },
     "metadata": {},
     "output_type": "display_data"
    },
    {
     "name": "stdout",
     "output_type": "stream",
     "text": [
      "\n",
      "\n",
      "\u001b[1m\u001b[32mCINCODIAS\u001b[0m\n",
      "\u001b[1m\u001b[30mMon, 13 Jul 2020 15:15:11 +0200\u001b[0m\n",
      "\u001b[1m\u001b[35mMás de 700 concesionarios venderán online coches usados a través de Niw\u001b[0m\n",
      "\u001b[34mHeadline\u001b[0m\n",
      "La plataforma ha sido creada por Faconauto, BBVA y Mutua Madrileña\n",
      "\u001b[34mSummarise\u001b[0m\n",
      "Niw, la plataforma online de venta de coches de ocasión con menos de cinco años de antigüedad, congregará la oferta de más de 700 concesionarios y ha sido impulsada por Faconauto, BBVA y Mutua Madrileña.\n",
      "Los coches de hasta cinco años son los más demandados por los compradores por su buena relación calidad-precio y el estreno de la plataforma llega en un momento clave para los concesionarios, cuyas ventas se desplomaron durante el confinamiento debido al cierre obligado de los establecimientos por el Covid-19.\n",
      "\u001b[34mText\u001b[0m\n",
      "Niw, la plataforma online de venta de coches de ocasión con menos de cinco años de antigüedad, congregará la oferta de más de 700 concesionarios y ha sido impulsada por Faconauto, BBVA y Mutua Madrileña. Esta es la primera vez que los concesionarios oficiales se agrupan en un gran marketplace, en el que se podrá realizar todo el proceso de compra online, sin necesidad de trasladarse a ningún establecimiento. El cliente incluso podrá recibir el vehículo en casa si así lo solicita. La plataforma llega para reforzar las redes de distribución e impulsar la digitalización del sector, según ha explicado este lunes el presidente del consejo de administración de la compañía, Ignacio de Benito, en rueda de prensa virtual. A través de Niw, el usuario tendrá la posibilidad de pagar el vehículo al contado o de financiarlo a través de BBVA, así como contratar un seguro con Mutua Madrileña, y contará con un periodo de devolución de 15 días o 1.000 kilómetros. Por su parte, los concesionarios adheridos a la plataforma pagarán cuotas según una tabla de suscripción. Por ejemplo, el coste de publicitar diez coches es de 155 euros por mes. Faconauto poseerá la mayoría del capital, el 63%, mientras que BBVA y Mutua Madrileña tendrán un 18,5% cada uno. \"Niw viene a convertirse en la plataforma digital de referencia de venta de los vehículos de ocasión. Es una herramienta versátil e integral que responde al crecimiento de las tendencias de compra en el mercado online. Es una buena noticia que permitirá a los concesionarios, tanto si son accionistas como si no, poner a disposición de los clientes un amplio catálogo de hasta 30.000 vehículos y afrontar cualquier contingencia desde un entorno seguro y protegido\", ha señalado la consejera delegada de la empresa y vicepresidenta ejecutiva de Faconauto, Marta Blázquez. Los coches de hasta cinco años son los más demandados por los compradores por su buena relación calidad-precio y el estreno de la plataforma llega en un momento clave para los concesionarios, cuyas ventas se desplomaron durante el confinamiento debido al cierre obligado de los establecimientos por el Covid-19. Según datos de la consultora MSI, la previsión de transferencias para 2021 en España de vehículos de hasta cinco años es de 546.611 unidades, un 13,8% más que el ejercicio actual. Estamos convencidos del gran potencial que tendrá la venta de vehículos de ocasión en la era pos-Covid como palanca de la recuperación económica del sector\", ha subrayado el presidente de Faconauto y consejero de Niw, Gerardo Pérez.\n"
     ]
    },
    {
     "data": {
      "text/html": [
       "<img src=\"https://d500.epimg.net/cincodias/imagenes/2020/07/13/companias/1594645704_787182_1594646059_miniatura_normal.jpg\" width=\"500\"/>"
      ],
      "text/plain": [
       "<IPython.core.display.Image object>"
      ]
     },
     "metadata": {},
     "output_type": "display_data"
    },
    {
     "data": {
      "text/markdown": [
       "<a href=\"https://cincodias.elpais.com/cincodias/2020/07/13/companias/1594645704_787182.html#?ref=rss&format=simple&link=guid\">Link</a>"
      ],
      "text/plain": [
       "<IPython.core.display.Markdown object>"
      ]
     },
     "metadata": {},
     "output_type": "display_data"
    },
    {
     "name": "stdout",
     "output_type": "stream",
     "text": [
      "\n",
      "\n",
      "\u001b[1m\u001b[32mCINCODIAS\u001b[0m\n",
      "\u001b[1m\u001b[30mMon, 13 Jul 2020 13:35:12 +0200\u001b[0m\n",
      "\u001b[1m\u001b[35mLos trabajadores de Nissan trasladan sus protestas a Madrid este miércoles\u001b[0m\n",
      "\u001b[34mHeadline\u001b[0m\n",
      "Exigirán al Gobierno que paralice el ERE para 2.525 personas\n",
      "\u001b[34mSummarise\u001b[0m\n",
      "El Gobierno y la Generalitat han reclamado a Nissan que abra nuevos espacios de diálogo \"para el futuro industrial y laboral en Cataluña\", tras reunirse con representantes de los trabajadores este lunes en Barcelona.\n",
      "El Gobierno y la Generalitat se han comprometido a seguir trabajando con los sindicatos en el futuro industrial de la planta de la Zona Franca de Barcelona, sea en el marco de Nissan o de futuros proyectos industriales que garanticen los puestos de trabajo directos, así como los indirectos vinculados a los proveedores.\n",
      "Por su parte, los comités de empresa de Nissan han reclamado abrir una mesa tripartita \"sin límites en la negociación\" entre gobiernos, empresas y sindicatos para asegurar la continuidad de las plantas en Cataluña.\n",
      "\u001b[34mText\u001b[0m\n",
      "El Gobierno y la Generalitat han reclamado a Nissan que abra nuevos espacios de diálogo \"para el futuro industrial y laboral en Cataluña\", tras reunirse con representantes de los trabajadores este lunes en Barcelona. Ambos Ejecutivos han subrayado en un comunicado que el encuentro ha sido una muestra más de la \"unidad de acción\" para dar respuesta a la decisión de cierre de las plantas de la multinacional japonesa en Barcelona. En concreto, han pedido a la automovilística que abra espacios de diálogo \"más allá del periodo de consultas establecido y con el objetivo de que puedan construir escenarios de futuro a nivel laboral e industrial\". El Gobierno y la Generalitat se han comprometido a seguir trabajando con los sindicatos en el futuro industrial de la planta de la Zona Franca de Barcelona, sea en el marco de Nissan o de futuros proyectos industriales que garanticen los puestos de trabajo directos, así como los indirectos vinculados a los proveedores. En la reunión, por parte del Gobierno, han participado el secretario general de Industria y Pyme, Raül Blanco; la delegada del Gobierno en Cataluña, Teresa Cunillera, y el subdelegado del Gobierno en Barcelona, Carlos Prieto. De la Generalitat, han asistido la directora general de Industria, Matilde Villarroya, y el subdirector general de Inversión Industrial, Jordi Carbonell. También han estado presentes miembros de los sindicatos CC OO, UGT y CGT, como representantes de los trabajadores. Por su parte, los comités de empresa de Nissan han reclamado abrir una mesa tripartita \"sin límites en la negociación\" entre gobiernos, empresas y sindicatos para asegurar la continuidad de las plantas en Cataluña. Trabajadores de las plantas barcelonesas se manifestarán en Madrid este miércoles para reclamar un futuro para las instalaciones. La protesta partirá de la plaza Carlos V a las 11.00 horas, hasta llegar al Congreso de los Diputados, donde los empleados trasladarán a los políticos y al Gobierno la situación en la que queda la plantilla de los centros de Zona Franca, Montcada i Reixac y Sant Andreu de la Barca, según ha informado UGT-Fica. El sindicato denuncia que el cierre de las factorías es una situación \"buscada y premeditada\" por parte de la dirección de la empresa, tanto de Japón como de Europa. \"En estos últimos años la multinacional ha ido eliminando y deslocalizando poco a poco vehículos y ha evitado de manera sistemática que la planta de Zona Franca obtuviese la adquisición de vehículos nuevos, provocando que el nivel productivo fuese cada vez menor\", critica. De este modo, lamenta las \"mentiras\" y las \"promesas incumplidas\" de Nissan. La empresa se comprometió a realizar una inversión de 70 millones de euros en una planta de pintura hace apenas un año. \"Otro ejemplo es la serie de promesas realizadas por el que fuera director general de Nissan España en su día y hoy ejecutor del cierre, Frank Torres, no solo a los trabajadores de Nissan, sino también a la Generalitat y al Gobierno central, entre los que encuentran la creación de más de 1.000 puestos de trabajo en las plantas catalanas, que no se ha cumplido\", subraya UGT. Por todo ello, UGT-Fica va a exigir al Ejecutivo de Pedro Sánchez que se involucre de manera \"contundente\" en el conflicto de Nissan, paralizando el Expediente de Regulación de Empleo (ERE) y eliminando la fecha de diciembre de este año como para el cierre. \"Se ha demostrado históricamente que las plantas de Nissan son competitivas siempre que se otorga vehículos para su fabricación, como ha ocurrido en otros años y con muy poca inversión en las líneas productivas\", insiste la organización sindical. Los sindicatos de las plantas y la compañía vuelven a reunirse mañana bajo la mediación de la Generalitat de Cataluña. La semana pasada los trabajadores exigieron a la empresa que retire el ERE para negociar “sin presión”, pero la empresa, aunque se mostró abierta al diálogo, se negó. Nissan Motor Ibérica está dispuesta a alargar los plazos del periodo de consultas, aunque “siempre bajo el paraguas del ERE”. En concreto, la cifra total de despidos es de 2.525 personas, después de que la multinacional decidiese mantener el centro de recambios de El Prat, donde trabajan unas 110 personas, y se abriera a dejar fuera del expediente a otras 400 personas: 300 del centro de I+D y 100 del área de compras.\n"
     ]
    },
    {
     "data": {
      "text/html": [
       "<img src=\"https://d500.epimg.net/cincodias/imagenes/2020/07/13/companias/1594639853_079250_1594640005_miniatura_normal.jpg\" width=\"500\"/>"
      ],
      "text/plain": [
       "<IPython.core.display.Image object>"
      ]
     },
     "metadata": {},
     "output_type": "display_data"
    },
    {
     "data": {
      "text/markdown": [
       "<a href=\"https://cincodias.elpais.com/cincodias/2020/07/13/companias/1594639853_079250.html#?ref=rss&format=simple&link=guid\">Link</a>"
      ],
      "text/plain": [
       "<IPython.core.display.Markdown object>"
      ]
     },
     "metadata": {},
     "output_type": "display_data"
    },
    {
     "name": "stdout",
     "output_type": "stream",
     "text": [
      "\n",
      "\n",
      "\u001b[1m\u001b[32mCINCODIAS\u001b[0m\n",
      "\u001b[1m\u001b[30mMon, 13 Jul 2020 11:47:17 +0200\u001b[0m\n",
      "\u001b[1m\u001b[35mAena pasa de los 300 vuelos diarios de mayo a más de 2.000 en julio\u001b[0m\n",
      "\u001b[34mHeadline\u001b[0m\n",
      "Refuerza el control sanitario en los aeropuertos con 1.000 personas de dos empresas y un coste de 20 millones\n",
      "\u001b[34mSummarise\u001b[0m\n",
      "El gestor público de la red, Aena, habla ya de 2.000 operaciones diarias (despegues y aterrizajes) en esta primera mitad de julio en comparación con las 400 operaciones diarias de junio (subieron a cerca de 1.000 a finales de mes) y las 300 por jornada que contabilizaba en mayo.\n",
      "El volumen de pasajeros cae un 96,1% frente a junio de 2019 y el derrumbe del tráfico en el primer semestre fue del 66% Este nuevo mes de mínima actividad deja un balance en el primer semestre de 43,47 millones de viajeros, lo que representa un retroceso del 66% respecto a la primera mitad de un 2019 que terminó marcando el récord de tráfico para Aena.\n",
      "\u001b[34mText\u001b[0m\n",
      "El tráfico aéreo se recupera poco a poco en los aeropuertos españoles. El gestor público de la red, Aena, habla ya de 2.000 operaciones diarias (despegues y aterrizajes) en esta primera mitad de julio en comparación con las 400 operaciones diarias de junio (subieron a cerca de 1.000 a finales de mes) y las 300 por jornada que contabilizaba en mayo. Con todo, el cierre de junio siguió ofreciendo la imagen de un fuerte derrumbe de la actividad en comparación con 2019 y las 2.000 operaciones de julio distan de las 7.700 que fueron operadas de media en julio del pasado ejercicio. Los aeropuertos de Aena atendieron el pasado mes a 1,05 millones de viajeros, lo que multiplica casi por cuatro los 267.000 usuarios de mayo. En cuanto a operaciones, los 43.640 movimientos de junio dejan muy atrás los menos de 18.000 del mes anterior. En el comparativo con junio de 2019, el volumen de pasajeros cae un 96,1% “por los límites a la movilidad impuestos por el estado de alarma hasta el 21 de junio”, afirma la compañía a través de un comunicado. El número de movimientos es un 80,7% inferior al de junio del pasado ejercicio. El volumen de pasajeros cae un 96,1% frente a junio de 2019 y el derrumbe del tráfico en el primer semestre fue del 66% Este nuevo mes de mínima actividad deja un balance en el primer semestre de 43,47 millones de viajeros, lo que representa un retroceso del 66% respecto a la primera mitad de un 2019 que terminó marcando el récord de tráfico para Aena. Del millón de viajeros contabilizados en el último mes, 717.038 corresponden a vuelos nacionales (un 91% menos que en el mes comparable de 2019), mientras que los 317.570 viajeros internacionales registrados suponen un desplome del 98,4%. Aena ha subrayado esta mañana que las aerolíneas han comenzado a reactivar sus operaciones desde el fin del estado de alarma. Por aeropuertos, Madrid-Barajas rozó los 195.000 pasajeros (un 96,5% menos), mientras que Barcelona-El Prat atendió a 148.903 (-97,1%), Palma de Mallorca declara 127.555 (-96,7%); Gran Canaria aporta 106.541 (-89,1%), y Tenerife Norte cierra la lista de los cinco grandes con 99.703 (-80,6%). La compañía dependiente del Ministerio de Transportes dice estar centrada en la recuperación operativa de sus aeropuertos y en garantizar la seguridad de pasajeros y trabajadores. Una labor realizada en coordinación con las autoridades españolas sanitarias y del transporte, así como con los Estados Miembros de la UE y las asociaciones internacionales de aeropuertos (ACI) y de aerolíneas (IATA). Aena ha implantado en sus 46 aeropuertos y 2 helipuertos en España “todas las recomendaciones sobre limpieza, distancia de seguridad, higiene y comunicación de la EASA (Agencia Europea de Seguridad Aérea) y del ECDC (Centro Europeo para el Control y la Prevención de Enfermedades), traspuestas a norma en España”. Para llevar a cabo los controles de viajeros procedentes del exterior, Aena está apoyando al Ministerio de Sanidad tanto con medios humanos como tecnológicos. En el primer caso, dos empresas prestan servicios de apoyo de personal sanitario y refuerzo en todos los aeropuertos. El importe de estos servicios, que han permitido un refuerzo de más de 1.000 personas, asciende a cerca de unos 20 millones de euros. En el segundo, mediante la instalación de cámaras termográficas que permiten la toma de temperatura de los pasajeros de forma fluida e imperceptible, y con el desarrollo tecnológico del PLC (Passenger Location Card). Los controles establecidos en materia sanitaria incorporan tres filtros de seguridad: toma de temperatura; control documental (PLC), basado en las declaraciones responsables con información sanitaria y de contacto que permite la trazabilidad o el seguimiento por parte de las Comunidades Autónomas; y un control visual. Además, los casos sospechosos pasan a un control secundario donde personal sanitario valora la situación clínica y epidemiológica del pasajero. La finalidad última de todas las medidas implementadas en los aeropuertos es la protección y la generación de confianza, para recuperar el tráfico de manera segura y facilitar la movilidad, el turismo y la actividad económica.\n"
     ]
    },
    {
     "ename": "ValueError",
     "evalue": "No image data found. Expecting filename, url, or data.",
     "output_type": "error",
     "traceback": [
      "\u001b[1;31m---------------------------------------------------------------------------\u001b[0m",
      "\u001b[1;31mValueError\u001b[0m                                Traceback (most recent call last)",
      "\u001b[1;32m<ipython-input-6-9b2900aeb173>\u001b[0m in \u001b[0;36m<module>\u001b[1;34m\u001b[0m\n\u001b[0;32m     18\u001b[0m         \u001b[0mprint\u001b[0m\u001b[1;33m(\u001b[0m\u001b[0mcincod\u001b[0m\u001b[1;33m[\u001b[0m\u001b[0mi\u001b[0m\u001b[1;33m]\u001b[0m\u001b[1;33m[\u001b[0m\u001b[1;34m'text'\u001b[0m\u001b[1;33m]\u001b[0m\u001b[1;33m)\u001b[0m\u001b[1;33m\u001b[0m\u001b[1;33m\u001b[0m\u001b[0m\n\u001b[0;32m     19\u001b[0m         \u001b[0murl\u001b[0m \u001b[1;33m=\u001b[0m \u001b[0mcincod\u001b[0m\u001b[1;33m[\u001b[0m\u001b[0mi\u001b[0m\u001b[1;33m]\u001b[0m\u001b[1;33m[\u001b[0m\u001b[1;34m'img'\u001b[0m\u001b[1;33m]\u001b[0m\u001b[1;33m\u001b[0m\u001b[1;33m\u001b[0m\u001b[0m\n\u001b[1;32m---> 20\u001b[1;33m         \u001b[0mdisplay\u001b[0m\u001b[1;33m(\u001b[0m\u001b[0mImage\u001b[0m\u001b[1;33m(\u001b[0m\u001b[0murl\u001b[0m\u001b[1;33m=\u001b[0m\u001b[0murl\u001b[0m\u001b[1;33m,\u001b[0m\u001b[0mwidth\u001b[0m\u001b[1;33m=\u001b[0m\u001b[1;36m500\u001b[0m\u001b[1;33m)\u001b[0m\u001b[1;33m)\u001b[0m\u001b[1;33m\u001b[0m\u001b[1;33m\u001b[0m\u001b[0m\n\u001b[0m\u001b[0;32m     21\u001b[0m         \u001b[0mdisplay\u001b[0m\u001b[1;33m(\u001b[0m\u001b[0mMarkdown\u001b[0m\u001b[1;33m(\u001b[0m\u001b[1;34m'<a href=\"'\u001b[0m\u001b[1;33m+\u001b[0m\u001b[0mcincod\u001b[0m\u001b[1;33m[\u001b[0m\u001b[0mi\u001b[0m\u001b[1;33m]\u001b[0m\u001b[1;33m[\u001b[0m\u001b[1;34m'link'\u001b[0m\u001b[1;33m]\u001b[0m\u001b[1;33m+\u001b[0m\u001b[1;34m'\">Link</a>'\u001b[0m\u001b[1;33m)\u001b[0m\u001b[1;33m)\u001b[0m\u001b[1;33m\u001b[0m\u001b[1;33m\u001b[0m\u001b[0m\n\u001b[0;32m     22\u001b[0m         \u001b[0mprint\u001b[0m\u001b[1;33m(\u001b[0m\u001b[1;34m'\\n'\u001b[0m\u001b[1;33m)\u001b[0m\u001b[1;33m\u001b[0m\u001b[1;33m\u001b[0m\u001b[0m\n",
      "\u001b[1;32m~\\anaconda3\\lib\\site-packages\\IPython\\core\\display.py\u001b[0m in \u001b[0;36m__init__\u001b[1;34m(self, data, url, filename, format, embed, width, height, retina, unconfined, metadata)\u001b[0m\n\u001b[0;32m   1157\u001b[0m             \u001b[0mext\u001b[0m \u001b[1;33m=\u001b[0m \u001b[0mself\u001b[0m\u001b[1;33m.\u001b[0m\u001b[0m_find_ext\u001b[0m\u001b[1;33m(\u001b[0m\u001b[0murl\u001b[0m\u001b[1;33m)\u001b[0m\u001b[1;33m\u001b[0m\u001b[1;33m\u001b[0m\u001b[0m\n\u001b[0;32m   1158\u001b[0m         \u001b[1;32melif\u001b[0m \u001b[0mdata\u001b[0m \u001b[1;32mis\u001b[0m \u001b[1;32mNone\u001b[0m\u001b[1;33m:\u001b[0m\u001b[1;33m\u001b[0m\u001b[1;33m\u001b[0m\u001b[0m\n\u001b[1;32m-> 1159\u001b[1;33m             \u001b[1;32mraise\u001b[0m \u001b[0mValueError\u001b[0m\u001b[1;33m(\u001b[0m\u001b[1;34m\"No image data found. Expecting filename, url, or data.\"\u001b[0m\u001b[1;33m)\u001b[0m\u001b[1;33m\u001b[0m\u001b[1;33m\u001b[0m\u001b[0m\n\u001b[0m\u001b[0;32m   1160\u001b[0m         elif isinstance(data, str) and (\n\u001b[0;32m   1161\u001b[0m             \u001b[0mdata\u001b[0m\u001b[1;33m.\u001b[0m\u001b[0mstartswith\u001b[0m\u001b[1;33m(\u001b[0m\u001b[1;34m'http'\u001b[0m\u001b[1;33m)\u001b[0m \u001b[1;32mor\u001b[0m \u001b[0m_safe_exists\u001b[0m\u001b[1;33m(\u001b[0m\u001b[0mdata\u001b[0m\u001b[1;33m)\u001b[0m\u001b[1;33m\u001b[0m\u001b[1;33m\u001b[0m\u001b[0m\n",
      "\u001b[1;31mValueError\u001b[0m: No image data found. Expecting filename, url, or data."
     ]
    }
   ],
   "source": [
    "yesterday = datetime.datetime.today() - datetime.timedelta(days=1)\n",
    "before_yes = datetime.datetime.today() - datetime.timedelta(days=2)\n",
    "\n",
    "for i in list(cincod.keys()):\n",
    "    if cincod[i]['date']['date2'][2] in [datetime.datetime.today().day,yesterday.day,before_yes.day]:\n",
    "        print(colored((cincod[i]['newspaper']).upper(),'green',attrs=['bold']))\n",
    "        print(colored(cincod[i]['date']['date1'],'grey',attrs=['bold']))\n",
    "        print(colored(cincod[i]['title'],'magenta',attrs=['bold']))\n",
    "        print(colored('Headline','blue'))\n",
    "        print(cincod[i]['headline'])\n",
    "        print(colored('Summarise','blue'))\n",
    "        \n",
    "        if cincod[i]['summarise'] != 'Premium Content':\n",
    "            print(cincod[i]['summarise'])\n",
    "        else:\n",
    "            print(colored(cincod[i]['summarise'],'red'))\n",
    "        print(colored('Text','blue'))\n",
    "        print(cincod[i]['text'])\n",
    "        url = cincod[i]['img']\n",
    "        display(Image(url=url,width=500))\n",
    "        display(Markdown('<a href=\"'+cincod[i]['link']+'\">Link</a>'))\n",
    "        print('\\n')"
   ]
  },
  {
   "cell_type": "code",
   "execution_count": null,
   "metadata": {},
   "outputs": [],
   "source": []
  }
 ],
 "metadata": {
  "kernelspec": {
   "display_name": "Python 3",
   "language": "python",
   "name": "python3"
  },
  "language_info": {
   "codemirror_mode": {
    "name": "ipython",
    "version": 3
   },
   "file_extension": ".py",
   "mimetype": "text/x-python",
   "name": "python",
   "nbconvert_exporter": "python",
   "pygments_lexer": "ipython3",
   "version": "3.7.6"
  }
 },
 "nbformat": 4,
 "nbformat_minor": 4
}
