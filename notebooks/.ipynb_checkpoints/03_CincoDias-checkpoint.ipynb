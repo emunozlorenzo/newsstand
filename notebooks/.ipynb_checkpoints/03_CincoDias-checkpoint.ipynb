{
 "cells": [
  {
   "cell_type": "markdown",
   "metadata": {},
   "source": [
    "# RSS: Cinco Días"
   ]
  },
  {
   "cell_type": "markdown",
   "metadata": {},
   "source": [
    "## 1. Import Libraries"
   ]
  },
  {
   "cell_type": "code",
   "execution_count": 33,
   "metadata": {},
   "outputs": [],
   "source": [
    "import feedparser\n",
    "from gensim.summarization.summarizer import summarize\n",
    "from gensim.summarization import keywords\n",
    "import urllib.request\n",
    "from urllib.request import urlopen\n",
    "from bs4 import BeautifulSoup\n",
    "import requests\n",
    "import googletrans\n",
    "import datetime\n",
    "from termcolor import colored\n",
    "from IPython.display import display, Markdown, Latex, HTML\n",
    "import re\n",
    "from IPython.display import Image\n",
    "import urllib"
   ]
  },
  {
   "cell_type": "code",
   "execution_count": 34,
   "metadata": {},
   "outputs": [],
   "source": [
    "def get_only_text1(url):\n",
    "    \n",
    "    \"\"\"\n",
    "    return the title and the text of the article at the \n",
    "    specified url\n",
    "    \"\"\"\n",
    "    \n",
    "    page=urlopen(url)\n",
    "    soup=BeautifulSoup(page,\"html.parser\")\n",
    "    text=' '.join(map(lambda p: p.text, soup.find_all('p')))\n",
    "    # Eliminar Última Hora\n",
    "    rest = soup.find_all('p', attrs={'class' : \"line-clamp_x2 ue-c-widget__article-headline\"})[0].text\n",
    "    index = text.find(rest)\n",
    "    final_text = text[:index]\n",
    "    return [final_text,soup.title.text]\n",
    "\n",
    "def get_only_text(url):\n",
    "    \n",
    "    \"\"\"\n",
    "    return the title and the text of the article at the \n",
    "    specified url\n",
    "    \"\"\"\n",
    "    \n",
    "    page=urlopen(url)\n",
    "    soup=BeautifulSoup(page,\"html.parser\")\n",
    "    text=' '.join(map(lambda p: p.text, soup.find_all('p')))\n",
    "    return [text,soup.title.text]\n",
    "\n",
    "def find_between( s, first, last ):\n",
    "    try:\n",
    "        start = s.index( first ) + len( first )\n",
    "        end = s.index( last, start )\n",
    "        return s[start:end]\n",
    "    except ValueError:\n",
    "        return \"\""
   ]
  },
  {
   "cell_type": "code",
   "execution_count": 35,
   "metadata": {},
   "outputs": [],
   "source": [
    "def cincod_news(cincod_entries,word_count=100):\n",
    "    cincod = {}\n",
    "    for i in range(len(cincod_entries)):\n",
    "        noticia = {'newspaper':None,'title':None,'headline':None,'summarise':None,'date':None,'link':None,'text':None,'current_date':None,'img':None,'premium':None}\n",
    "        # Periodico\n",
    "        noticia['newspaper'] = find_between(s=cincod_entries[i]['id'], first='//', last='.' )\n",
    "        # Title\n",
    "        noticia['title'] = cincod_entries[i]['title']\n",
    "        # Headline\n",
    "        headline =  re.sub(pattern='&quot;',repl='\"',string=cincod_entries[i]['summary_detail']['value'])\n",
    "        noticia['headline'] = headline\n",
    "        # Date\n",
    "        noticia['date'] = {'date1':cincod_entries[i]['published'],'date2':cincod_entries[i]['published_parsed']}\n",
    "        # Link\n",
    "        noticia['link'] = cincod_entries[i]['id']\n",
    "        # Text\n",
    "        text = get_only_text(cincod_entries[i]['id'])[0]\n",
    "        if text.find('»') != -1:\n",
    "            index = get_only_text(cincod_entries[i]['id'])[0].index('»') +3\n",
    "            text = get_only_text(cincod_entries[i]['id'])[0][index:]\n",
    "        noticia['text'] = text\n",
    "        # Summarise\n",
    "        noticia['summarise'] = summarize(text, word_count=word_count)        \n",
    "        # Current Date\n",
    "        noticia['current_date'] = datetime.datetime.now().timetuple()\n",
    "        # Image\n",
    "        noticia['img'] = cincod_entries[i]['links'][1]['href']\n",
    "        cincod.update({'Noticia'+'_'+str(\"%02d\")%(i+1):noticia})\n",
    "    return cincod"
   ]
  },
  {
   "cell_type": "markdown",
   "metadata": {},
   "source": [
    "## 2. RSS Cinco Días"
   ]
  },
  {
   "cell_type": "code",
   "execution_count": 36,
   "metadata": {},
   "outputs": [
    {
     "name": "stdout",
     "output_type": "stream",
     "text": [
      "Total Entradas Cinco Días: 43\n"
     ]
    }
   ],
   "source": [
    "url_cinco_dias = 'https://cincodias.elpais.com/seccion/rss/companias/'\n",
    "cincod = feedparser.parse(url_cinco_dias)\n",
    "cincod_entries = cincod['entries']\n",
    "\n",
    "print('Total Entradas Cinco Días:',len(cincod_entries))"
   ]
  },
  {
   "cell_type": "code",
   "execution_count": 37,
   "metadata": {},
   "outputs": [],
   "source": [
    "cincod = cincod_news(cincod_entries,word_count=100)"
   ]
  },
  {
   "cell_type": "code",
   "execution_count": 40,
   "metadata": {},
   "outputs": [
    {
     "name": "stdout",
     "output_type": "stream",
     "text": [
      "\u001b[1m\u001b[32mCINCODIAS\u001b[0m\n",
      "\u001b[1m\u001b[30mWed, 8 Jul 2020 19:47:25 +0200\u001b[0m\n",
      "\u001b[1m\u001b[35mDaimler repartirá 1.000 millones en dividendos y anticipa pérdidas en el segundo trimestre\u001b[0m\n",
      "\u001b[34mHeadline\u001b[0m\n",
      "Espera una pérdida operativa antes de extraordinarios en el segundo trimestre y un flujo de caja libre negativo en el negocio industrial\n",
      "\u001b[34mSummarise\u001b[0m\n",
      "El presidente del consejo de supervisión, Manfred Bischoff, ha destacado este miércoles en la junta general de accionistas, que se ha celebrado de forma virtual, que las inversiones necesarias en el futuro no pueden lograrse mediante aumentos de la facturación y de la eficiencia normales porque la demanda de coches ha bajado debido al Covid-19.\n",
      "\"La propuesta de dividendo tiene en cuenta una ponderación cuidadosa y cautelosa de los intereses de todos los accionistas con los que la compañía se considera comprometida, así como la situación actual del negocio, especialmente las perspectivas de liquidez\" y ventas, ha dicho el presidente del consejo de supervisión, Manfred Bischoff.\n",
      "\u001b[34mText\u001b[0m\n",
      "El fabricante automovilístico Daimler ha aprobado un programa de disciplina de costes, que afecta a todas las áreas del grupo y es una condición para lograr el éxito en el futuro, con el fin de afrontar los efectos de la pandemia de coronavirus en la demanda. El presidente del consejo de supervisión, Manfred Bischoff, ha destacado este miércoles en la junta general de accionistas, que se ha celebrado de forma virtual, que las inversiones necesarias en el futuro no pueden lograrse mediante aumentos de la facturación y de la eficiencia normales porque la demanda de coches ha bajado debido al Covid-19. En la junta, la dirección y el consejo de supervisión han propuesto el reparto de un dividendo de 0,90 euros por acción por 2019 (3,25 euros por 2018). \"La propuesta de dividendo tiene en cuenta una ponderación cuidadosa y cautelosa de los intereses de todos los accionistas con los que la compañía se considera comprometida, así como la situación actual del negocio, especialmente las perspectivas de liquidez\" y ventas, ha dicho el presidente del consejo de supervisión, Manfred Bischoff. Daimler repartirá 1.000 millones de euros a los accionistas por el ejercicio 2019, frente a los 3.500 millones de euros por el de 2018. En cuanto a las ventas, las de Mercedes-Benz bajaron casi un 19% en el primer semestre, hasta 870.000 unidades; su situación mejoró entre abril y junio, y en China registró el mejor segundo trimestre en ventas de su historia. El consejero delegado de Daimler y de Mercedes-Benz, Ola Källenius, ha apuntado que son \"cautelosamente optimistas\". \"En cuanto aumente la demanda, podremos incrementar de nuevo la producción de forma rápida y eficiente\", ha añadido. También ha considerado que deben acelerar la velocidad hacia la descarbonización de sus vehículos. La división de camiones de Daimler redujo sus entregas un 38% en la primera mitad del año, hasta 150.000 unidades, debido a la pandemia y la debilidad del mercado, especialmente en Europa y Norteamérica. La entrada de pedidos ha sido positiva las últimas semanas en casi todas las marcas. Los servicios de movilidad de Daimler disminuyeron un 2% el volumen de contratos en los seis primeros meses del ejercicio, hasta 155.000 millones de euros, aunque en China ya se produjo una recuperación y en el segundo trimestre se pudo compensar los efectos negativos del primer trimestre. Daimler espera una pérdida operativa antes de extraordinarios en el segundo trimestre y un flujo de caja libre negativo en el negocio industrial, así como una notable bajada de la facturación, aunque las ventas de turismos han mejorado en las últimas semanas.\n"
     ]
    },
    {
     "data": {
      "text/html": [
       "<img src=\"https://d500.epimg.net/cincodias/imagenes/2020/07/08/companias/1594230290_842594_1594230381_miniatura_normal.jpg\" width=\"500\"/>"
      ],
      "text/plain": [
       "<IPython.core.display.Image object>"
      ]
     },
     "metadata": {},
     "output_type": "display_data"
    },
    {
     "data": {
      "text/markdown": [
       "<a href=\"https://cincodias.elpais.com/cincodias/2020/07/08/companias/1594230290_842594.html#?ref=rss&format=simple&link=guid\">Link</a>"
      ],
      "text/plain": [
       "<IPython.core.display.Markdown object>"
      ]
     },
     "metadata": {},
     "output_type": "display_data"
    },
    {
     "name": "stdout",
     "output_type": "stream",
     "text": [
      "\n",
      "\n",
      "\u001b[1m\u001b[32mCINCODIAS\u001b[0m\n",
      "\u001b[1m\u001b[30mWed, 8 Jul 2020 19:26:18 +0200\u001b[0m\n",
      "\u001b[1m\u001b[35mFitch sigue a Moody's y mantiene el rating de El Corte Inglés pese a la pandemia\u001b[0m\n",
      "\u001b[34mHeadline\u001b[0m\n",
      "Calcula una caída de los ingresos del 27% para este ejercicio\n",
      "\u001b[34mSummarise\u001b[0m\n",
      "Fitch argumenta la perspectiva negativa por la incertidumbre acerca de la recuperación de la economía española en los próximos tres años, que podría \"retrasar\" la senda de la reducción de deuda iniciada por El Corte Inglés.\n",
      "Según los cálculos de la agencia, la compañía que dirige Víctor del Pozo cerrará el ejercicio 2020 con una caída de los ingresos del 27%, debido al retroceso en la venta de no alimentación y también de la facturación de la agencia de viajes.\n",
      "Fitch estima que en el ejercicio 2021 habrá un rebote de los ingresos pero estos seguirán un 10% por debajo de los que tuvo el grupo en el ejercicio 2019, de 15.260 millones.\n",
      "\u001b[34mText\u001b[0m\n",
      "La agencia de calificación Fitch ha decidido mantener la nota crediticia de El Corte Inglés, al igual que hizo Moody's hace escasas fechas. Aunque la perspectiva a largo plazo se mantiene en negativa, Fitch descarta una rebaja inminente debido a la mejora de la liquidez del grupo de distribución. Este cerró un crédito de 1.311 millones de euros en abril para afrontar el impacto de la pandemia, que conllevó el cierre de la mayor parte de sus tiendas, salvo supermercados y espacios de alimentación. Un crédito que convirtió a ICO en su tramo principal y extendió su vencimiento a cinco años. Fitch argumenta la perspectiva negativa por la incertidumbre acerca de la recuperación de la economía española en los próximos tres años, que podría \"retrasar\" la senda de la reducción de deuda iniciada por El Corte Inglés. Según los cálculos de la agencia, la compañía que dirige Víctor del Pozo cerrará el ejercicio 2020 con una caída de los ingresos del 27%, debido al retroceso en la venta de no alimentación y también de la facturación de la agencia de viajes. Retrocesos que en parte compensará el negocio de alimentación, que durante el confinamiento disparó su demanda tanto física como online. Fitch estima que en el ejercicio 2021 habrá un rebote de los ingresos pero estos seguirán un 10% por debajo de los que tuvo el grupo en el ejercicio 2019, de 15.260 millones. \"El cierre de los grandes almacenes de El Corte Inglés desde mediados de marzo a finales de mayo condujo a una caída significativa de los ingresos y los beneficios y puso una presión temporal sobre la liquidez. Esperamos más presión en el sector del retail de España en los próximos 18 meses, con una caída del 12% del gastso del consumidor en 2020 seguido de un rebote de solo el 4% en 2021\", dice la agencia.\n"
     ]
    },
    {
     "data": {
      "text/html": [
       "<img src=\"https://d500.epimg.net/cincodias/imagenes/2020/07/08/companias/1594228805_179623_1594229158_miniatura_normal.jpg\" width=\"500\"/>"
      ],
      "text/plain": [
       "<IPython.core.display.Image object>"
      ]
     },
     "metadata": {},
     "output_type": "display_data"
    },
    {
     "data": {
      "text/markdown": [
       "<a href=\"https://cincodias.elpais.com/cincodias/2020/07/08/companias/1594228805_179623.html#?ref=rss&format=simple&link=guid\">Link</a>"
      ],
      "text/plain": [
       "<IPython.core.display.Markdown object>"
      ]
     },
     "metadata": {},
     "output_type": "display_data"
    },
    {
     "name": "stdout",
     "output_type": "stream",
     "text": [
      "\n",
      "\n",
      "\u001b[1m\u001b[32mCINCODIAS\u001b[0m\n",
      "\u001b[1m\u001b[30mWed, 8 Jul 2020 18:45:59 +0200\u001b[0m\n",
      "\u001b[1m\u001b[35mLa justicia británica no ve probado que Fridman participara en una trama para hacer presidente a Trump\u001b[0m\n",
      "\u001b[34mHeadline\u001b[0m\n",
      "El dueño de Dia aparecía en el llamado Dossier Steele, que describía supuestas injerencias rusas en las elecciones de 2016\n",
      "\u001b[34mSummarise\u001b[0m\n",
      "La justicia británica ha dado la razón al empresario ruso y propietario de Dia, Mijail Fridman, frente a las acusaciones de haber participado en una supuesta trama rusa que interfirió durante las elecciones estadounidenses 2016 para favorecer la victoria de Donald Trump.\n",
      "El juez Mark Warby ha exonerado a Fridman y a otros dos empresarios rusos, Petr Aven y German Khan, de las acusaciones que aparecían contra ellos en el llamado Dossier Steele, una investigación privada firmada por un antiguo miembro de los servicios secretos británico, Christopher Steele, que describía los supuestos vínculos entre el gobierno y a oligarquía rusas y la candidatura de Trump, y que fue filtrado y publicado por diversos medios estadounidenses.\n",
      "\u001b[34mText\u001b[0m\n",
      "La justicia británica ha dado la razón al empresario ruso y propietario de Dia, Mijail Fridman, frente a las acusaciones de haber participado en una supuesta trama rusa que interfirió durante las elecciones estadounidenses 2016 para favorecer la victoria de Donald Trump. El juez Mark Warby ha exonerado a Fridman y a otros dos empresarios rusos, Petr Aven y German Khan, de las acusaciones que aparecían contra ellos en el llamado Dossier Steele, una investigación privada firmada por un antiguo miembro de los servicios secretos británico, Christopher Steele, que describía los supuestos vínculos entre el gobierno y a oligarquía rusas y la candidatura de Trump, y que fue filtrado y publicado por diversos medios estadounidenses. En concreto, Fridman aparecía como uno de los vínculos financieros al ser fundador y propietario, junto a Aven y Khan, de Alfa Bank, uno de los principales bancos de Rusia. El dossier describía que estos entregaron grandes cantidades de “dinero ilícito” a Vladimir Putin durante los años 90. Sin embargo, el juez sentenció, según se conoció hoy, que el dossier no llevó a cabo los pasos razonables para “verificar las acusaciones”. Además, condena a Orbis Business Intelligence, la empresa de Steele responsable del informe y demandada por Fridman, a pagar a cada uno de los tres empresarios una indemnización de 18.000 libras, unos 20.000 euros al cambio actual. “No hay nada que arroje dudas sobre el papel del sr. Fridman en este tema”, dice la sentencia según reflejó la agencia Bloomberg. El magnate ruso declaró en un comunicado publicado por la misma agencia que “desde que estas odiosas acusaciones se hicieron públicas en enero de 2017, mis socios y yo nos hemos mantenido decididos en nuestra determinación de demostrar que no son ciertas y a través de este caso lo hemos logrado”. Steele tiene otra demanda abierta por otro empresario ruso también relacionado con la victoria de Trump, Aleksej Gubarev, dueño de una empresa tecnológica rusa mencionada en el informe.\n"
     ]
    },
    {
     "data": {
      "text/html": [
       "<img src=\"https://d500.epimg.net/cincodias/imagenes/2020/07/08/companias/1594226623_823992_1594226702_miniatura_normal.jpg\" width=\"500\"/>"
      ],
      "text/plain": [
       "<IPython.core.display.Image object>"
      ]
     },
     "metadata": {},
     "output_type": "display_data"
    },
    {
     "data": {
      "text/markdown": [
       "<a href=\"https://cincodias.elpais.com/cincodias/2020/07/08/companias/1594226623_823992.html#?ref=rss&format=simple&link=guid\">Link</a>"
      ],
      "text/plain": [
       "<IPython.core.display.Markdown object>"
      ]
     },
     "metadata": {},
     "output_type": "display_data"
    },
    {
     "name": "stdout",
     "output_type": "stream",
     "text": [
      "\n",
      "\n",
      "\u001b[1m\u001b[32mCINCODIAS\u001b[0m\n",
      "\u001b[1m\u001b[30mWed, 8 Jul 2020 18:38:19 +0200\u001b[0m\n",
      "\u001b[1m\u001b[35mBlackrock alcanza el 5,25% de Iberdrola y Goldman Sachs, el 6,89% de ACS\u001b[0m\n",
      "\u001b[34mHeadline\u001b[0m\n",
      "El mayor fondo del mundo alcanza su máximo en la teleco\n",
      "\u001b[34mSummarise\u001b[0m\n",
      "BlackRock ha comunicado a la CNMV que ha alcanzado el 5,25% de las acciones de Iberdrola, desde el 5,09% que tenía hasta ahora.\n",
      "El mayor fondo del mundo se convierte así en el segundo mayor accionista de la empresa presidida por Ignacio Sánchez Galán.\n",
      "Solo está superado por el fondo soberano de Qatar, que tiene un 8,69%.\n",
      "Por detrás, el fondo soberano de Noruega controla un 3,11%.\n",
      "Paralelamente, Goldman Sachs ha aflorado un 6,89% en ACS, desde el 6,79% que controlaba hasta ahora.\n",
      "\u001b[34mText\u001b[0m\n",
      "BlackRock ha comunicado a la CNMV que ha alcanzado el 5,25% de las acciones de Iberdrola, desde el 5,09% que tenía hasta ahora. Se trata de la mayor participación que ha tomado en la historia en el capital de la energética española. El mayor fondo del mundo se convierte así en el segundo mayor accionista de la empresa presidida por Ignacio Sánchez Galán. Solo está superado por el fondo soberano de Qatar, que tiene un 8,69%. Por detrás, el fondo soberano de Noruega controla un 3,11%. Paralelamente, Goldman Sachs ha aflorado un 6,89% en ACS, desde el 6,79% que controlaba hasta ahora. El banco de inversión, que ostenta esta participación a través de derivados financieros en su mayoría, se convierte así en el tercer accionista del grupo de infraestructuras que pilota Florentino Pérez, su primer accionista y dueño del 12,68% del capital. El segundo es Alberto Cortina, con un 9%. Tras estos dos magnates y el banco estadounidense, figuran el banco francés Société Générale con el 5,32%. Y BlackRock, con el 4,98%.\n"
     ]
    },
    {
     "data": {
      "text/html": [
       "<img src=\"https://d500.epimg.net/cincodias/imagenes/2020/07/08/companias/1594225345_502813_1594226215_miniatura_normal.jpg\" width=\"500\"/>"
      ],
      "text/plain": [
       "<IPython.core.display.Image object>"
      ]
     },
     "metadata": {},
     "output_type": "display_data"
    },
    {
     "data": {
      "text/markdown": [
       "<a href=\"https://cincodias.elpais.com/cincodias/2020/07/08/companias/1594225345_502813.html#?ref=rss&format=simple&link=guid\">Link</a>"
      ],
      "text/plain": [
       "<IPython.core.display.Markdown object>"
      ]
     },
     "metadata": {},
     "output_type": "display_data"
    },
    {
     "name": "stdout",
     "output_type": "stream",
     "text": [
      "\n",
      "\n",
      "\u001b[1m\u001b[32mCINCODIAS\u001b[0m\n",
      "\u001b[1m\u001b[30mWed, 8 Jul 2020 18:37:02 +0200\u001b[0m\n",
      "\u001b[1m\u001b[35mSiete de cada diez accionistas de Repsol opta por cobrar el dividendo en acciones\u001b[0m\n",
      "\u001b[34mHeadline\u001b[0m\n",
      "El pago en efectivo de quienes han optado por vender derechos se ha realizado este miércoles\n",
      "\u001b[34mSummarise\u001b[0m\n",
      "Los titulares que han optado por nuevas acciones cuentan con un total de 1.086 millones de derechos sobre la sociedad, lo que ha desencadenado un aumento del capital de más de 60,33 millones de euros.\n",
      "Por otra parte, los titulares del 30,65% de los derechos de asignación gratuita han aceptado el compromiso irrevocable de compra de derechos asumido por Repsol, es decir, han optado por cobrar el dividendo en efectivo, por lo que la compañía ha adquirido un total de 480 millones de derechos por un importe bruto total de 236,16 millones de euros.\n",
      "\u001b[34mText\u001b[0m\n",
      "El 69,35% de los accionistas de Repsol ha optado por recibir el dividendo a través de nuevas acciones de la compañía, que emitirá 60,3 millones de nuevos títulos de un euro de valor nominal cada uno. Según ha informado la petrolera a la Comisión Nacional del Mercado de Valores (CNMV), el aumento de capital llevado a cabo para poder hacer entrega de estos títulos a los accionistas que así lo han decidido ha incrementado el capital social en un 3,85%. Los titulares que han optado por nuevas acciones cuentan con un total de 1.086 millones de derechos sobre la sociedad, lo que ha desencadenado un aumento del capital de más de 60,33 millones de euros. Por otra parte, los titulares del 30,65% de los derechos de asignación gratuita han aceptado el compromiso irrevocable de compra de derechos asumido por Repsol, es decir, han optado por cobrar el dividendo en efectivo, por lo que la compañía ha adquirido un total de 480 millones de derechos por un importe bruto total de 236,16 millones de euros. Repsol ha renunciado a las acciones correspondientes a los derechos de asignación gratuita adquiridos en virtud del indicado compromiso de compra. El pago en efectivo a los accionistas que optaron por vender los derechos de asignación gratuita a Repsol se ha realizado este miércoles. Está previsto que las nuevas acciones queden admitidas a negociación en las Bolsas de Valores el 22 de julio de 2020, y que el 23 de julio de 2020 comience su contratación ordinaria.  \n"
     ]
    },
    {
     "data": {
      "text/html": [
       "<img src=\"https://d500.epimg.net/cincodias/imagenes/2020/07/08/companias/1594226222_356203_1594228649_miniatura_normal.jpg\" width=\"500\"/>"
      ],
      "text/plain": [
       "<IPython.core.display.Image object>"
      ]
     },
     "metadata": {},
     "output_type": "display_data"
    },
    {
     "data": {
      "text/markdown": [
       "<a href=\"https://cincodias.elpais.com/cincodias/2020/07/08/companias/1594226222_356203.html#?ref=rss&format=simple&link=guid\">Link</a>"
      ],
      "text/plain": [
       "<IPython.core.display.Markdown object>"
      ]
     },
     "metadata": {},
     "output_type": "display_data"
    },
    {
     "name": "stdout",
     "output_type": "stream",
     "text": [
      "\n",
      "\n",
      "\u001b[1m\u001b[32mCINCODIAS\u001b[0m\n",
      "\u001b[1m\u001b[30mWed, 8 Jul 2020 18:32:41 +0200\u001b[0m\n",
      "\u001b[1m\u001b[35mBruno Mattucci sustituye a Marco Toro como consejero director general de Nissan Iberia\u001b[0m\n",
      "\u001b[34mHeadline\u001b[0m\n",
      "Toro vuelve a Italia casi siete años después\n",
      "\u001b[34mSummarise\u001b[0m\n",
      "Nissan ha nombrado a Bruno Mattucci, actual presidente y consejero delegado de la compañía en Italia, consejero director general de Nissan Iberia, en sustitución de Marco Toro, que asumirá dicha responsabilidad en el mercado italiano.\n",
      "Mattucci será el responsable comercial de la compañía en España y Portugal y, al igual que Toro en Italia, reportará desde el 1 de agosto de forma directa ante el vicepresidente senior de Ventas y Marketing de Nissan en Europa, Roel de Vries.\n",
      "Por su parte, el nuevo consejero director general de Nissan Iberia es graduado en Ingeniería Electrónica por la Universidad de La Sapienza de Roma y desde 2014 ejercía como presidente y consejero delegado de Nissan Italia.\n",
      "\u001b[34mText\u001b[0m\n",
      "Nissan ha nombrado a Bruno Mattucci, actual presidente y consejero delegado de la compañía en Italia, consejero director general de Nissan Iberia, en sustitución de Marco Toro, que asumirá dicha responsabilidad en el mercado italiano. Mattucci será el responsable comercial de la compañía en España y Portugal y, al igual que Toro en Italia, reportará desde el 1 de agosto de forma directa ante el vicepresidente senior de Ventas y Marketing de Nissan en Europa, Roel de Vries. La compañía automovilística ha explicado en un comunicado que dicho cambio está en línea con los planes de desarrollo profesional de sus directivos. Toro vuelve a su país tras casi siete años como responsable del área comercial de Nissan en España y Portugal, en los que la firma nipona ha pasado de vender 40.000 vehículos a 70.000 por año. Por su parte, el nuevo consejero director general de Nissan Iberia es graduado en Ingeniería Electrónica por la Universidad de La Sapienza de Roma y desde 2014 ejercía como presidente y consejero delegado de Nissan Italia. Mattucci entró a formar parte de Nissan en 1993 como responsable de zona de posventa y desde entonces ha ocupado diferentes puestos de responsabilidad en las áreas de posventa, ventas y desarrollo de red. En 2002 se convirtió en director general de Marketing de Nissan en Italia y en 2010 pasó a ser director general de Nissan en Austria. Con motivo de su nombramiento, el directivo ha asegurado que desde agosto iniciará una nueva etapa profesional y persona en un mercado \"más complejo y competitivo\" que el italiano y que representa el segundo mercado en importancia para Nissan en Europa.\n"
     ]
    },
    {
     "data": {
      "text/html": [
       "<img src=\"https://d500.epimg.net/cincodias/imagenes/2020/07/08/companias/1594225756_400463_1594225869_miniatura_normal.jpg\" width=\"500\"/>"
      ],
      "text/plain": [
       "<IPython.core.display.Image object>"
      ]
     },
     "metadata": {},
     "output_type": "display_data"
    },
    {
     "data": {
      "text/markdown": [
       "<a href=\"https://cincodias.elpais.com/cincodias/2020/07/08/companias/1594225756_400463.html#?ref=rss&format=simple&link=guid\">Link</a>"
      ],
      "text/plain": [
       "<IPython.core.display.Markdown object>"
      ]
     },
     "metadata": {},
     "output_type": "display_data"
    },
    {
     "name": "stdout",
     "output_type": "stream",
     "text": [
      "\n",
      "\n",
      "\u001b[1m\u001b[32mCINCODIAS\u001b[0m\n",
      "\u001b[1m\u001b[30mWed, 8 Jul 2020 16:53:15 +0200\u001b[0m\n",
      "\u001b[1m\u001b[35mDeliveroo, Uber Eats, Glovo y Stuart firman un acuerdo de buenas prácticas con asociaciones de repartidores\u001b[0m\n",
      "\u001b[34mHeadline\u001b[0m\n",
      "El acuerdo, que busca mejorar la seguridad de los repartidores y establecer planes de trabajo conjunto, llega mientras Trabajo planea regular a los ‘riders’ como asalariados antes de que acabe el verano\n",
      "\u001b[34mSummarise\u001b[0m\n",
      "El acuerdo, fruto de meses de diálogo según han explicado las compañías en un comunicado, nace con el objetivo de mejorar e impulsar el desarrollo del sector en España, estableciendo compromisos para garantizar la seguridad de los repartidores y mejorar la transparencia en las relaciones entre ambas partes.\n",
      "Las plataformas también se comprometen a establecer mecanismos de seguimiento para detectar y actuar cuando se produzcan incidencias que puedan afectar al normal desarrollo del servicio por situaciones meteorológicas \"priorizando siempre la seguridad de los repatidores\", una de las principales peticiones realizadas por las asociaciones de repartidores.\n",
      "\u001b[34mText\u001b[0m\n",
      "Las plataformas digitales de reparto a domicilio Deliveroo, Stuart, Glovo y Uber Eats han firmado un acuerdo sectorial de buenas prácticas con las principales asociaciones de repartidores en España: la Asociación Española de Riders Mensajeros (Asoriders), la Asociación Profesional de Riders Autónomos (APRA) y la Asociación Autónoma de Riders (AAR), que representan a más de 1.500 repartidores en todo el territorio. El acuerdo, fruto de meses de diálogo según han explicado las compañías en un comunicado, nace con el objetivo de mejorar e impulsar el desarrollo del sector en España, estableciendo compromisos para garantizar la seguridad de los repartidores y mejorar la transparencia en las relaciones entre ambas partes. Este acuerdo se produce mientras el Ministerio de Trabajo ha informado de que quiere regular a los riders como asalariados antes de que acabe el verano. La ley, que pretende sacar adelante la ministra Yolanda Díaz, regulará la situación laboral de los repartidores como trabajadores por cuenta ajena. Quieren, dice el Ejecutivo, evitar los \"falsos autónomos\" en las plataformas digitales. Según el comunicado emitido por las plataformas, el acuerdo sellado con las citadas organizaciones recoge diferentes medidas orientadas a aumentar las garantías y protecciones mediante protocolos de actuación en casos de emergencia, como los que pueden venir provocados por factores meteorológicos o sanitarios, como la actual situación provocada por el coronavirus. En concreto, las empresas se comprometen a seguir fomentando las medidas de higiene y seguridad necesarias durante las distintas fases de la crisis sanitaria para evitar contagios por coronavirus en la actividad de reparto, \"facilitando los recursos apropiados para la protección de los repartidores o la coordinación con los mismos, así como con restaurantes, comercios y agentes sociales, para garantizar el reparto seguro, evitar las aglomeraciones y mantener la distancia social de seguridad\" señalan en la nota. Las plataformas también se comprometen a establecer mecanismos de seguimiento para detectar y actuar cuando se produzcan incidencias que puedan afectar al normal desarrollo del servicio por situaciones meteorológicas \"priorizando siempre la seguridad de los repatidores\", una de las principales peticiones realizadas por las asociaciones de repartidores. El acuerdo también contempla aspectos relacionados con la lucha contra el fraude y la cesión no autorizada de cuentas, para lo que ambas partes proponen establecer mecanismos de detección y control. Ambas partes se comprometen igualmente a mantener un diálogo permanente, para lo que crearán canales de contacto directo. Las plataformas aseguran que informarán a las asociaciones de los cambios operativos relevantes que puedan afectar a los repartidores para darles estabilidad y confianza. José Luis Zimmermann, director general de la patronal Adigital, explica que las plataformas digitales de reparto de domicilio y las asociaciones de repartidores llevan meses trabajando y asegura que este acuerdo marca \"un verdadero punto de inflexión que esperamos sea el inicio de una colaboración a largo plazo\". \"Esto es más importante si cabe en un contexto como el actual, en el que el servicio que facilitan estas empresas y los repartidores que trabajan con ellas ha demostrado ser clave para la reactivación de la actividad hostelera y el comercio local\". Las asociaciones firmantes aseguran que las medidas que han negociado con las plataformas suponen \"un avance\" y añaden que esperan que \"esto solo sea un primer paso\". \n"
     ]
    },
    {
     "data": {
      "text/html": [
       "<img src=\"https://d500.epimg.net/cincodias/imagenes/2020/07/08/companias/1594218784_056607_1594219662_miniatura_normal.jpg\" width=\"500\"/>"
      ],
      "text/plain": [
       "<IPython.core.display.Image object>"
      ]
     },
     "metadata": {},
     "output_type": "display_data"
    },
    {
     "data": {
      "text/markdown": [
       "<a href=\"https://cincodias.elpais.com/cincodias/2020/07/08/companias/1594218784_056607.html#?ref=rss&format=simple&link=guid\">Link</a>"
      ],
      "text/plain": [
       "<IPython.core.display.Markdown object>"
      ]
     },
     "metadata": {},
     "output_type": "display_data"
    },
    {
     "name": "stdout",
     "output_type": "stream",
     "text": [
      "\n",
      "\n",
      "\u001b[1m\u001b[32mCINCODIAS\u001b[0m\n",
      "\u001b[1m\u001b[30mWed, 8 Jul 2020 16:04:22 +0200\u001b[0m\n",
      "\u001b[1m\u001b[35mLos sindicatos reclaman a Nissan que retire el ERE para negociar \"sin presión\"\u001b[0m\n",
      "\u001b[34mHeadline\u001b[0m\n",
      "El fabricante japonés espera concluir la negociación de los despidos para finales de mes\n",
      "\u001b[34mSummarise\u001b[0m\n",
      "Las mismas fuentes han señalado que mientras los trabajadores intentan que la negociación se centre en la viabilidad de las plantas de Zona Franca, Sant Andreu de la Barca y Montcada i Reixac, la empresa tan solo busca la forma de ejecutar el cierre.\n",
      "La semana pasada los trabajadores ya se negaron a firmar el inicio de negociación del ERE con el que la multinacional nipona despedirá a unas 2.500 personas y cerrará sus plantas de Zona Franca, Montcada i Reixac y Sant Andreu de la Barca.\n",
      "\u001b[34mText\u001b[0m\n",
      "Los sindicatos de las plantas barcelonesas de Nissan han reclamado este miércoles a la multinacional japonesa que retire el ERE presentado para 2.525 trabajadores, pero la empresa se ha negado, aunque ha mostrado disposición al diálogo. Fuentes sindicales han explicado a CincoDías que los trabajadores quieren negociar \"sin presión\", mientras que Nissan Motor Ibérica está dispuesta a alargar los plazos del periodo de consultas, aunque \"siempre bajo el paraguas del ERE\". Las mismas fuentes han señalado que mientras los trabajadores intentan que la negociación se centre en la viabilidad de las plantas de Zona Franca, Sant Andreu de la Barca y Montcada i Reixac, la empresa tan solo busca la forma de ejecutar el cierre. \"Ante la petición por parte de la representación de los trabajadores de suspensión o retirada del ERE, la compañía ha indicado que no puede atender esta demanda dado que el marco legal de dicho procedimiento es el que garantiza la seguridad jurídica necesaria para todas las partes\", ha señalado Nissan en un comunicado. Centenares de trabajadores de Nissan se han concentrado esta mañana ante los servicios territoriales de la consejería de Trabajo para reivindicar sus empleos entre gritos de \"Nissan no se cierra\". La próxima reunión de mediación se ha convocado para el próximo martes. Según la empresa, el Departament de Treball de la Generalitat ha propuesto a ambas partes un calendario de reuniones: 14, 21, 23, 28 y 30 de julio. Los sindicatos de Nissan plantaron este lunes a la empresa en la que tendría que haber sido la primera reunión del proceso oficial de consultas sobre el cierre de las factorías catalanas en diciembre de este año. La semana pasada los trabajadores ya se negaron a firmar el inicio de negociación del ERE con el que la multinacional nipona despedirá a unas 2.500 personas y cerrará sus plantas de Zona Franca, Montcada i Reixac y Sant Andreu de la Barca. En concreto, la cifra total de despidos es de 2.525 personas, después de que la multinacional decidiese mantener el centro de recambios de El Prat, donde trabajan unas 110 personas, y se abriera a dejar fuera del expediente a otras 400 personas: 300 del centro de I+D y 100 del área de compras.\n"
     ]
    },
    {
     "data": {
      "text/html": [
       "<img src=\"https://d500.epimg.net/cincodias/imagenes/2020/07/08/companias/1594216580_625480_1594216984_miniatura_normal.jpg\" width=\"500\"/>"
      ],
      "text/plain": [
       "<IPython.core.display.Image object>"
      ]
     },
     "metadata": {},
     "output_type": "display_data"
    },
    {
     "data": {
      "text/markdown": [
       "<a href=\"https://cincodias.elpais.com/cincodias/2020/07/08/companias/1594216580_625480.html#?ref=rss&format=simple&link=guid\">Link</a>"
      ],
      "text/plain": [
       "<IPython.core.display.Markdown object>"
      ]
     },
     "metadata": {},
     "output_type": "display_data"
    },
    {
     "name": "stdout",
     "output_type": "stream",
     "text": [
      "\n",
      "\n",
      "\u001b[1m\u001b[32mCINCODIAS\u001b[0m\n",
      "\u001b[1m\u001b[30mWed, 8 Jul 2020 15:38:34 +0200\u001b[0m\n",
      "\u001b[1m\u001b[35mVodafone firma otro acuerdo de teletrabajo para extenderlo más allá de marzo de 2021\u001b[0m\n",
      "\u001b[34mHeadline\u001b[0m\n",
      "Diseña un plan, bautizado como Future Workplace, con el smartworking como punto clave\n",
      "\u001b[34mSummarise\u001b[0m\n",
      "Vodafone España está diseñando nuevos planes para extender el teletrabajo para buena parte de la plantilla, dentro del actual escenario de incertidumbre por la pandemia del Covid-19.\n",
      "En este contexto, la operadora ha alcanzado un acuerdo con los sindicatos mayoritarios para la puesta en marcha de un plan piloto, que combine el trabajo presencial en las sedes con el teletrabajo.\n",
      "La adscripción al plan es voluntaria, y está abierta a los trabajadores del grupo Vodafone España, siempre y cuando sus puestos sean susceptibles de trabajar en remoto y no requieran la presencia física en las sedes o tiendas.\n",
      "\u001b[34mText\u001b[0m\n",
      "Vodafone España está diseñando nuevos planes para extender el teletrabajo para buena parte de la plantilla, dentro del actual escenario de incertidumbre por la pandemia del Covid-19. La operadora está diseñando un proyecto, bautizado como Future Workplace, en el que el smartworking es uno de los puntos clave. En este contexto, la operadora ha alcanzado un acuerdo con los sindicatos mayoritarios para la puesta en marcha de un plan piloto, que combine el trabajo presencial en las sedes con el teletrabajo. Según fuentes sindicales, el objetivo de la compañía es aumentar los días de teletrabajo a partir del 14 de septiembre, con un escenario todavía de muy baja ocupación de los centros de trabajo. Estas fuentes señalan que el porcentaje de trabajo en remoto se ampliará, a partir del citado 14 de septiembre, hasta un máximo del 60% de la jornada. Es decir, tres a la semana laboral. Este aumento es una medida encuadrada en el actual escenario de la pandemia. La duración del piloto se extenderá hasta final del actual ejercicio fiscal, el 31 de marzo de 2021, si bien podría extenderse un mínimo de seis meses más, desde la incorporación del 100% de la plantilla. La teleco precisa que esta prueba piloto tiene un carácter experimental, indicando que hasta que no se pruebe con el 100% de la plantilla incorporada en una situación de normalidad, las conclusiones no serán fiables. La adscripción al plan es voluntaria, y está abierta a los trabajadores del grupo Vodafone España, siempre y cuando sus puestos sean susceptibles de trabajar en remoto y no requieran la presencia física en las sedes o tiendas. Es una medida flexible, pudiendo disfrutarse en días alternos o consecutivos hasta alcanzar semanalmente el máximo porcentaje permitido y siempre que se disfrute a jornada completa, necesidades organizativas del departamento, siempre con el límite del porcentaje máximo de smartworking permitido. La participación en el programa de smartworking no supone ninguna variación en el horario de trabajo ni tampoco en las demás condiciones y obligaciones laborales, que deberán ser igualmente observadas y cumplidas. Vodafone seguirá suministrando los equipos necesarios a los empleados. Así, facilitará al empleado un terminal móvil 5G con tarifa ilimitada de voz y datos y que permite tener conectividad para trabajar desde cualquier lugar; un ordenador portátil con conectividad o posibilidad de hacer tethering con el móvil. La teleco seguirá subvencionando el 50% del coste de la conectividad de banda ancha en casa. La empresa se ha reservado el derecho a modificar, en cualquier momento y de manera unilateral, tanto la duración del piloto como cualquiera de sus características, previa comunicación a sindicatos y trabajadores. Vodafone ha introducido esta herramienta ante las incertidumbres abiertas, tanto legislativas, al estar en proceso de desarrollo la nueva ley de teletrabajo, como sanitarias, puesto que podría darse otra situación de confinamiento como la que tuvo lugar entre marzo y mayo.\n"
     ]
    },
    {
     "data": {
      "text/html": [
       "<img src=\"https://d500.epimg.net/cincodias/imagenes/2020/07/08/companias/1594215201_293056_1594215322_miniatura_normal.jpg\" width=\"500\"/>"
      ],
      "text/plain": [
       "<IPython.core.display.Image object>"
      ]
     },
     "metadata": {},
     "output_type": "display_data"
    },
    {
     "data": {
      "text/markdown": [
       "<a href=\"https://cincodias.elpais.com/cincodias/2020/07/08/companias/1594215201_293056.html#?ref=rss&format=simple&link=guid\">Link</a>"
      ],
      "text/plain": [
       "<IPython.core.display.Markdown object>"
      ]
     },
     "metadata": {},
     "output_type": "display_data"
    },
    {
     "name": "stdout",
     "output_type": "stream",
     "text": [
      "\n",
      "\n",
      "\u001b[1m\u001b[32mCINCODIAS\u001b[0m\n",
      "\u001b[1m\u001b[30mWed, 8 Jul 2020 13:17:01 +0200\u001b[0m\n",
      "\u001b[1m\u001b[35mFernando Alonso vuelve a la Fórmula 1 con Renault\u001b[0m\n",
      "\u001b[34mHeadline\u001b[0m\n",
      "El piloto llevaba fuera de la F1 desde 2018\n",
      "\u001b[34mSummarise\u001b[0m\n",
      "El piloto español Fernando Alonso vuelve a la Fórmula 1 de la mano del equipo Renault, donde ya militó durante dos etapas (2003-06 y 2008-09) y que este miércoles ha confirmado su vuelta para 2021, cuando ocupará la vacante de Daniel Ricciardo y formará pareja con Esteban Ocon.\n",
      "Alonso, que logró sus dos títulos mundiales con el equipo francés, llevaba fuera de la F1 desde 2018, cuando cerró su segunda etapa en McLaren, y acompañará a Carlos Sainz como representación española en la parrilla.\n",
      "\u001b[34mText\u001b[0m\n",
      "El piloto español Fernando Alonso vuelve a la Fórmula 1 de la mano del equipo Renault, donde ya militó durante dos etapas (2003-06 y 2008-09) y que este miércoles ha confirmado su vuelta para 2021, cuando ocupará la vacante de Daniel Ricciardo y formará pareja con Esteban Ocon. Alonso, que logró sus dos títulos mundiales con el equipo francés, llevaba fuera de la F1 desde 2018, cuando cerró su segunda etapa en McLaren, y acompañará a Carlos Sainz como representación española en la parrilla. Renault no ha detallado la duración del acuerdo con el asturiano, que cumplirá 39 años dentro de tres semanas. Alonso abandonó la F1 en 2018 con un balance de 314 Grandes Premios, 32 victorias, 22 'pole positions' y 97 podios en sus 17 años de competición, en los que sobresalen los títulos mundiales de 2005 y 2006 y un triple subcampeonato con Ferrari. Tras estos magníficos números se escondía también el sinsabor de despedirse del 'gran circo' sin haber sumado una victoria desde la temporada 2013, en el Gran Premio de España en Montmeló, y sin haber subido al podio desde el Gran Premio de Hungría de 2014. En total, 1.899 puntos acumulados, pero sólo 132 en sus últimas cuatro campañas con McLaren. El ovetense devolvió la emoción en España por la F1 cuando aterrizó en 2001 al volante de un Minardi, con 19 años, 'propiedad' de Renault y señalado como una apuesta para el futuro. Fue duodécimo en Australia y cerró aquel año sin poder puntuar, pasando al siguiente a ser probador de la marca del rombo para 'madurarle'. La maniobra le salió bien a Flavio Briatore y el asturiano volvió a la parrilla en 2003, donde, en plena 'era Michael Schumacher', fue protagonista con su primera victoria, en Hungaroring, además de otros tres podios, entre ellos un segundo puesto en Montmeló. En 2004 siguió progresando y aunque no ganó, ya rozó el podio mundialista (cuarto), paso previo para imponer su dominio en las dos siguientes. En 2005, Fernando Alonso entró en la historia del deporte español con el primero de sus dos títulos mundiales, siendo entonces el más joven en lograrlo con 24 años. Ni siquiera tuvo que esperar al final, coronándose en Brasil, dos carreras antes, y por delante de Kimi Raikkonen (McLaren-Mercedes). Pero más emocionante fue al año siguiente, sobre todo porque su rival era el mismísimo 'Kaiser' Schumacher y su Ferrari. El español supo mantener los nervios de acero ante el alemán, siete veces campeón del mundo y que jugó todas sus bazas. Las victorias del germano en Monza y China, más el abandono del asturiano en Italia, lo apretó todo a falta de dos carreras, pero la avería del 'bólido rojo' en Japón acabó con la resistencia de 'Schumi', aunque el ovetense tuvo que sentenciar en Brasil. Debut Ese segundo título llegó con Alonso habiendo firmado su paso a McLaren a finales de 2005. En Woking, esperaba seguir aumentando su palmarés, pero vivió un año complicado que aunque le hizo pelear hasta el último Gran Premio por el título, le dejó tercero. Ron Dennis, jefe del equipo, no gestionó bien su convivencia con el ya pujante y 'rookie' Lewis Hamilton, cuyo punto álgido fue en Hungría y el recordado incidente en la calificación con ambos pilotos bloqueándose. Al final, Ferrari se coronó en Interlagos con Raikkonen. Toda la turbulencia provocó su primer regreso a Renault, donde no pudo pelear por el título, pero saboreó dos triunfos en 2008, consecutivos, en Singapur y Japón. El primero quedó marcado por la polémica después de que un año después, Nelsinho Piquet, denunciase que le obligaron a estrellarse aposta para provocar la salida del 'safety car' y favorecer a por entonces su compañero. La FIA expulsó por ello de por vida a Flavio Briatore. Pero pese a estos dos años llenos de luces y sombras, Ferrari no había perdido de vista a Alonso y apostó claramente por él para intentar recuperar el título mundial. En Maranello pasó cinco temporadas donde volvió a ser claro candidato al título, pese a no tener el mejor coche, algo que le pertenecía a Red Bull. El ovetense peleó hasta en tres ocasiones por su tercer entorchado (2010, 2012 y 2013), pero en todas ellas salió ganador Sebastian Vettel, con mención especial al de 2010 donde la mala estrategia de la escudería italian en Abu Dabi le facilitó la victoria al de Heppenheim. 'Triple corona' Su último año con el 'Cavallino Rampante' ya no fue tan boyante y sólo pudo ser sexto en la general del Mundial, un adiós amargo que le llevó de vuelta a Woking en busca de revivir la exitosa alianza que iba a firmar con Honda para su motor. Pero nada fructificó y la prestigiosa marca japonesa no logró dar con la tecla y el monoplaza no era competitivo y su mejora escasa, tampoco con Renault como fabricante en 2018. Cuatro quintos puestos fueron sus mejores resultados en los cuatro años donde nunca pudo estar delante, donde a él le gustaba, y tampoco peleando en las calificaciones de los sábados. Su 'aburrimiento' y su carácter competitivo le hicieron mirar hacia otras disciplinas. Tras pasar por la Indy Car, y proclamarse vencedor en el Mundial de Resistencia o las 24 Horas de Le Mans, su última gran aventura fue el Rally Dakar, donde cumplió un papel meritorio y finalizó decimotercero -mejor novato- rozando el triunfo en la octava etapa, donde acabó segundo. A Alonso tan solo le quedan las 500 Millas de Indianápolis para culminar la 'Triple Corona', pero ese reto deberá esperar porque la F1 ha vuelto a llamar a su puerta.\n"
     ]
    },
    {
     "data": {
      "text/html": [
       "<img src=\"https://d500.epimg.net/cincodias/imagenes/2020/07/08/companias/1594214478_885098_1594214575_miniatura_normal.jpg\" width=\"500\"/>"
      ],
      "text/plain": [
       "<IPython.core.display.Image object>"
      ]
     },
     "metadata": {},
     "output_type": "display_data"
    },
    {
     "data": {
      "text/markdown": [
       "<a href=\"https://cincodias.elpais.com/cincodias/2020/07/08/companias/1594214478_885098.html#?ref=rss&format=simple&link=guid\">Link</a>"
      ],
      "text/plain": [
       "<IPython.core.display.Markdown object>"
      ]
     },
     "metadata": {},
     "output_type": "display_data"
    },
    {
     "name": "stdout",
     "output_type": "stream",
     "text": [
      "\n",
      "\n",
      "\u001b[1m\u001b[32mCINCODIAS\u001b[0m\n",
      "\u001b[1m\u001b[30mWed, 8 Jul 2020 13:11:26 +0200\u001b[0m\n",
      "\u001b[1m\u001b[35mBNP lanza en España su neobanco Nickel a través de estancos y puntos de venta de lotería\u001b[0m\n",
      "\u001b[34mHeadline\u001b[0m\n",
      "La compañía se estrenará para finales de este verano y ofrecerá una cuenta corriente y una tarjeta Mastercard por 20 euros al año\n",
      "\u001b[34mSummarise\u001b[0m\n",
      "Courtois explicó que la decisión de iniciar la expansión internacional por España se debe a que el país cuenta con una red potente de estancos y puntos de venta de loteria (20.000 en total) y al tamaño del mercado \"suficientemente grande para invertir\", además de ser \"favorable\" para Nickel la tendencia del sector bancario español a reducir su red de sucursales.\n",
      "Courtois aseguró que el lanzamiento de Nickel, que establece un límite de importe retirado de efectivo a 350 euros máximo en siete días, no supone una canibalización con otros servicios de BNP Paribas, pues esta compañía no ofrece en España ese tipo de cuenta corriente.\n",
      "\u001b[34mText\u001b[0m\n",
      "El gigante banciario francés BNP Paribas ha anunciado el inminente lanzamiento en España de su neobanco Nickel, operativo en Francia desde 2014. La nueva compañía ofrecerá cuentas corrientes, sin ninguna condición de ingresos, depósitos o patrimonio, y una tarjeta mastercard asociada a ella. ¿La novedad? No lo hará a través de una red bancaria tradicional, sino utilizando una red de establecimientos de lotería y de estancos. El cliente pagará por ello 20 euros al año y el proceso de crear la cuenta llevará 5 minutos. El modelo, que trata de competir con la banca tracional, \"es totalmente disruptivo. Hemos sacado al banco del banco y lo llevamos a donde más sentido tiene que esté, al barrio”, aseguró Javier Ramírez Zarzosa, consejero delegado de la nueva fintech en España. La compañía desembarca en España tras lograr sumar 1,7 millones de cuentas en Francia, donde ya tienen más de 6.000 puntos de ventas asociados. Solo en el último mes lograron más de 38.000 cuentas en ese país. “El objetivo es replicar aquí el éxito que hemos logrado en Francia, donde ya somos la tercera red de distribución de cuentas corrientes más importante del país”, señaló Thomas Courtois, presidente de Nickel. España es el segundo país donde desembarca la compañía, aunque los planes es expandir el proyecto a otros siete países europeos más en un plazo de cuatro años. Desde la cuenta se podrán realizar las operaciones más habituales, como ingresar y retirar efectivo, domiciliar recibos y realizar transferencias. La tarjeta, al ser Mastercard, permite retirar efectivo en todo el mundo. Además, Nickel pone a disposición de sus clientes una app y una web desde donde seguir sus movimientos en tiempo real y realizar todas sus operaciones 100% online. Ramírez insistió en que Nickel busca ser \"la cuenta del barrio\". Su compañía, dijo, trata de ser una \"alternativa\" tanto al cierre de sucursales en los barrios como a los costes, \"que pueden superar los 200 euros al año\" para los clientes que no tienen domiciliada su nómina en un banco tradicional. \"Nosotros queremos ser muy transparentes con lo que cobramos, algo que no siempre ocurre: ofrecemos esa suscripción por 20 euros al año, sin condiciones, y cobramos una comisión de 50 céntimos por transacción que recibe directamente el establecimiento de lotería o estanco, no Nickel\". En otras operaciones, como las transferencias internacionales en el extranjero, también deberá abonarse una cantidad en concepto de transacción en caso de tener coste; asimismo, la tarifa a aplicar de perder la tarjeta será de 10 euros. El lanzamiento está previsto para finales de este verano. Ya se han adherido más de 100 puntos de venta al proyecto y la ambición de la entidad es alcanzar en España las 700.000 cuentas y los 3.000 puntos de venta activos en cuatro años. Courtois explicó que la decisión de iniciar la expansión internacional por España se debe a que el país cuenta con una red potente de estancos y puntos de venta de loteria (20.000 en total) y al tamaño del mercado \"suficientemente grande para invertir\", además de ser \"favorable\" para Nickel la tendencia del sector bancario español a reducir su red de sucursales. En este sentido, el ejecutivo explicó cómo Nickel está teniendo un gran éxito en la Francia vaciada, (un 60% de sus puntos de venta está en este tipo de pueblos), \"y creemos que la capilaridad de la red nos permitirá facilitar el acceso a los servicios bancarios de la España vaciada\". \"Es esta capilaridad lo que nos da ese concepto de barrio, que es donde está la gente. Queremos que la gente recupere la cercanía y el contacto con los servicios bancarios\", reiteró Ramírez. Los directivos destacaron que todos los puntos de venta de lotería y estancos que formen parte de Nickel deben ser autorizados por el Banco de España, que ya ha aprobado los primeros 50 puntos. Igualmente, resaltó que la cuenta corriente que abre el usuario tiene IBAN español. La compañía contará igualmente con un servicio de atención al cliente en Sevilla y Madrid, pues aunque el   personal de los establecimientos de la red reciben la formación reglamentaria que exige el Banco de España y podrán resolver dudas, no tendrán acceso a los sistemas finales del banco. El consejero delegado de Nickel en España precisó que contarán con puntos de venta distribuidos por toda España, incluido Baleares y Canarias. Según Ramírez, la adhesión de estancos y puntos de venta de lotería al sistema de Nickel es beneficiosa para todos. \"Los clientes recuperan el trato personal y estos comercios, a los que se provee del equipamiento preciso para poder ofrecer nuestro servicio, diversifican sus fuentes de ingresos\". El directivo también destacó la \"amplitud horaria\" de los establecimientos que conformarán su red en España y la garantía y seguridad que da el hecho de que estos comercios necesiten tener una licencia del Estado. La compañía, totalmente independiente, opera bajo el respaldo de BNP Paribas tras comprarla en 2017. Hoy cuenta con más de 400 empleados. En España, la firma contará con un equipo permanente de 50 personas. Courtois aseguró que el lanzamiento de Nickel, que establece un límite de importe retirado de efectivo a 350 euros máximo en siete días, no supone una canibalización con otros servicios de BNP Paribas, pues esta compañía no ofrece en España ese tipo de cuenta corriente. Para darse de alta en Nickel los clientes deberán disponer de DNI, pasaporte, permiso de residencia o cualquier otro documento que acredite estar en situación legal en España, y podrá hacerse tanto desde la aplicación móvil o en los TPV y tabletas ubicadas en los puntos de venta.\n"
     ]
    },
    {
     "data": {
      "text/html": [
       "<img src=\"https://d500.epimg.net/cincodias/imagenes/2020/07/08/companias/1594206273_818028_1594206575_miniatura_normal.jpg\" width=\"500\"/>"
      ],
      "text/plain": [
       "<IPython.core.display.Image object>"
      ]
     },
     "metadata": {},
     "output_type": "display_data"
    },
    {
     "data": {
      "text/markdown": [
       "<a href=\"https://cincodias.elpais.com/cincodias/2020/07/08/companias/1594206273_818028.html#?ref=rss&format=simple&link=guid\">Link</a>"
      ],
      "text/plain": [
       "<IPython.core.display.Markdown object>"
      ]
     },
     "metadata": {},
     "output_type": "display_data"
    },
    {
     "name": "stdout",
     "output_type": "stream",
     "text": [
      "\n",
      "\n",
      "\u001b[1m\u001b[32mCINCODIAS\u001b[0m\n",
      "\u001b[1m\u001b[30mWed, 8 Jul 2020 12:39:34 +0200\u001b[0m\n",
      "\u001b[1m\u001b[35mLa CNMC pone pegas a la compra de una fábrica de Siro por Bimbo por los acuerdos con Mercadona\u001b[0m\n",
      "\u001b[34mHeadline\u001b[0m\n",
      "Al convertirse en su proveedor, Bimbo reforzaría su posición tanto en marca blanca como en marca de fabricante\n",
      "\u001b[34mSummarise\u001b[0m\n",
      "Como dice la CNMC, la operación de compra \"incluye un acuerdo comercial entre Bimbo y Mercadona para el suministro de pan envasado para la marca blanca\", en el que ha detectado \"una serie de riesgos a la competencia por el refuerzo de la posición de Bimbo como fabricante de marca, por las potenciales vinculaciones entre los mercados de la panificación con marca del distribuidor y con marca del fabricante y por el establecimiento de Bimbo como fabricante prioritario de Mercadona para productos con marca blanca\".\n",
      "\u001b[34mText\u001b[0m\n",
      "La CNMC ha autorizado durante el mes de junio, en primera fase, la adquisición por parte de Bimbo de una panificadora que pertenecía al Grupo Siro ubicada en Paterna (Valencia). Un acuerdo alcanzado en el último trimestre del año pasado y que, entre otros efectos, convertía a Bimbo en proveedor de pan de molde de Mercadona, puesto que casi toda la producción de dicha planta se vendía bajo la enseña Hacendado, la marca blanca de la compañía de supermercados de Juan Roig. Sin embargo, la autorización de la CNMC viene de la mano de una serie de condiciones o compromisos, no por la operación de compra como tal, de la que \"no se derivan problemas de competencia al constatarse la existencia de alternativas competitivas en el mercado mayorista peninsular de pan envasado de marca blanca\". Las pegas que pone la autoridad de competencia están relacionadas precisamente con los acuerdos comerciales que ahora unen a Bimbo y Mercadona, tanto en su posición de proveedor de pan de molde de marca blanca como en la de fabricante de sus propios productos. Como dice la CNMC, la operación de compra \"incluye un acuerdo comercial entre Bimbo y Mercadona para el suministro de pan envasado para la marca blanca\", en el que ha detectado \"una serie de riesgos a la competencia por el refuerzo de la posición de Bimbo como fabricante de marca, por las potenciales vinculaciones entre los mercados de la panificación con marca del distribuidor y con marca del fabricante y por el establecimiento de Bimbo como fabricante prioritario de Mercadona para productos con marca blanca\". Es decir, la CNMC considera que el acuerdo refuerza la posición de Bimbo dentro de los supermercados de Mercadona, el primer operador del país con cerca del 25% de cuota de mercado, al poner en sus estanterías tanto el pan de molde Hacendado que han comenzado a fabricar en Paterna, como sus distintas variedades vendidas bajo su marca habitual.  Por ello, Competencia subordina la autorización a la compra de la fábrica de Siro al cumplimiento de una serie de compromisos \"para solucionar los problemas de competencia detectados\". Entre ellos, que Bimbo debe eliminar cualquier vinculación contractual entre los productos que venda en Mercadona bajo su marca y los de marca blanca que suministre desde la fábrica de Paterna. Además, el fabricante se compromete a no iniciar negociaciones con la compañía de supermercados para introducir en ellos productos adicionales a los que ya vendía bajo su marca antes de comprar la fábrica de Paterna, como tampoco a introducir nuevos productos de panificación bajo la marca Hacendado.  De forma adicional, Bimbo se compromete a no acordar con Mercadona su designación como fabricante prioritario en productos que no sean panes de marca blanca en nuevos contratos de suministros. \"Con estos compromisos se persigue eliminar cualquier potencial vinculación, ya sea contractual o de facto, identificada entre los productos de la categoría de panificación con marcas propiedad de Bimbo y el suministro a Mercadona de pan envasado para su marca blanca; así como eliminar cualquier duda sobre una potencial consideración de Bimbo como fabricante prioritario para el desarrollo de productos adicionales a los pactados de la categoría de panificación con marca blanca\", explica la CNMC.\n"
     ]
    },
    {
     "data": {
      "text/html": [
       "<img src=\"https://d500.epimg.net/cincodias/imagenes/2020/07/08/companias/1594204438_149592_1594204651_miniatura_normal.jpg\" width=\"500\"/>"
      ],
      "text/plain": [
       "<IPython.core.display.Image object>"
      ]
     },
     "metadata": {},
     "output_type": "display_data"
    },
    {
     "data": {
      "text/markdown": [
       "<a href=\"https://cincodias.elpais.com/cincodias/2020/07/08/companias/1594204438_149592.html#?ref=rss&format=simple&link=guid\">Link</a>"
      ],
      "text/plain": [
       "<IPython.core.display.Markdown object>"
      ]
     },
     "metadata": {},
     "output_type": "display_data"
    },
    {
     "name": "stdout",
     "output_type": "stream",
     "text": [
      "\n",
      "\n",
      "\u001b[1m\u001b[32mCINCODIAS\u001b[0m\n",
      "\u001b[1m\u001b[30mWed, 8 Jul 2020 12:22:27 +0200\u001b[0m\n",
      "\u001b[1m\u001b[35mLa presencia de mujeres en los consejos de administración sube cuatro puntos en 2019\u001b[0m\n",
      "\u001b[34mHeadline\u001b[0m\n",
      "Un informe de la CNMV establece que representan el 23,7% del total\n",
      "\u001b[34mSummarise\u001b[0m\n",
      "Suponen el 23,7% del total, frente a la recomendación del regulador de que esta ratio alcance el 30% en 2020, fijado en el Código de Buen Gobierno.\n",
      "En cuanto a las empresas que forman el Ibex 35 este porcentaje se eleva hasta el 27,5%, frente al 23,9% de 2018.\n",
      "En cuanto a las empresas de fuera del selectivo con una capitalización superior a los 500 millones las mujeres suponen el 22% del consejo y en el resto son el 21,1%.\n",
      "En cuanto a la alta dirección, en las empresas del Ibex había una presencia femenina del 15,7%.\n",
      "\u001b[34mText\u001b[0m\n",
      "La presencia de mujeres en los consejos de administración aumentó en cuatro puntos en 2019, según informe publicado este miércoles por la CNMV. Suponen el 23,7% del total, frente a la recomendación del regulador de que esta ratio alcance el 30% en 2020, fijado en el Código de Buen Gobierno. En 2018 esta cifra estaba en el 19,9%, mientras que en la alta dirección el porcentaje es el mismo que en 2019, el 16%. En cuanto a las empresas que forman el Ibex 35 este porcentaje se eleva hasta el 27,5%, frente al 23,9% de 2018. Las cifras publicadas este 8 de julio por la CNMV coinciden con las adelantadas por CincoDías hace más de seis meses. Hay una única diferencia, la CNMV deja fuera de su análisis a ArcelorMittal por no tratarse de una empresa española. Desde el cierre del ejercicio, sin embargo, como ha adelantado también CincoDías, los cambios de composición de los consejos de las empresas del Ibex aprobados y propuestos a las juntas generales han provocado que las empresas del Ibex hayan superado por primera vez el listón del 30%. En cuanto a las empresas de fuera del selectivo con una capitalización superior a los 500 millones las mujeres suponen el 22% del consejo y en el resto son el 21,1%. La última revisión del Código de Buen Gobierno eleva la recomendación hasta el 40% en 2022. Y recomienda a las firmas a fomentar el número de altas directivas. Por categorías de consejeros, aumenta la presencia de mujeres entre los independientes. Son el 36,9% del total, frente al 30,6% en 2018. Después se encuentran los dominicales, una categoría donde las mujeres suponen el 17,3%. Por el contrario, destaca el escaso número de consejeras ejecutivas, apenas el 5,5%. Esta cifra ha crecido en 2019 un punto porcentual. En cuanto a la alta dirección, en las empresas del Ibex había una presencia femenina del 15,7%. En las empresas de más de 500 millones de capitalización la cifra fue del 17,7%, y el 13,4% en las de menos de 500 millones.\n"
     ]
    },
    {
     "data": {
      "text/html": [
       "<img src=\"https://d500.epimg.net/cincodias/imagenes/2020/07/08/companias/1594203332_151447_1594203590_miniatura_normal.jpg\" width=\"500\"/>"
      ],
      "text/plain": [
       "<IPython.core.display.Image object>"
      ]
     },
     "metadata": {},
     "output_type": "display_data"
    },
    {
     "data": {
      "text/markdown": [
       "<a href=\"https://cincodias.elpais.com/cincodias/2020/07/08/companias/1594203332_151447.html#?ref=rss&format=simple&link=guid\">Link</a>"
      ],
      "text/plain": [
       "<IPython.core.display.Markdown object>"
      ]
     },
     "metadata": {},
     "output_type": "display_data"
    },
    {
     "name": "stdout",
     "output_type": "stream",
     "text": [
      "\n",
      "\n",
      "\u001b[1m\u001b[32mCINCODIAS\u001b[0m\n",
      "\u001b[1m\u001b[30mWed, 8 Jul 2020 12:16:46 +0200\u001b[0m\n",
      "\u001b[1m\u001b[35mIAG recorta las alas de Level: cierra en París y se centra en salvar la base de Barcelona\u001b[0m\n",
      "\u001b[34mHeadline\u001b[0m\n",
      "La dirección traslada a la plantilla la dificultad de mantener las operaciones en su integridad en plena crisis para los viajes de larga distancia\n",
      "\u001b[34mSummarise\u001b[0m\n",
      "Esta low cost dedicada al largo radio fue creada en 2017 con base en el aeropuerto catalán.\n",
      "Tras meses de observación del mercado, fue la presión de los vuelos baratos de Norwegian la que dio impulso a la aventura de IAG en el largo radio de bajo coste.\n",
      "Al frente de Level, gestionada desde su nacimiento por Iberia, está Fernando Candela, quien pasó a la low cost de largo radio desde Iberia Express.\n",
      "En medio de la actual crisis, que desde IAG se califica de histórica para la aviación, la filial austriaca de Level, dependiente de Vueling, quebró el pasado mes de junio.\n",
      "\u001b[34mText\u001b[0m\n",
      "El holding de aerolíneas IAG ha decidido reducir el alcance de una de sus apuestas más jóvenes e inicialmente prometedoras: la aerolínea de bajo coste Level. En el marco de la crisis generada por el coronavirus, la dirección ha dado el paso de cerrar en muy corto plazo las operaciones desde París. Con ello se busca un ahorro de costes que el grupo está impulsando en todas las líneas de negocio, lo que también incluye reducción de flota en Iberia o British Airways, despidos generalizados y una reestructuración de las programaciones. Fuentes del sector aéreo afirman que Level consigue por el momento mantenerse en el aeropuerto barcelonés de El Prat. Esta low cost dedicada al largo radio fue creada en 2017 con base en el aeropuerto catalán. Tras meses de observación del mercado, fue la presión de los vuelos baratos de Norwegian la que dio impulso a la aventura de IAG en el largo radio de bajo coste. Al frente de Level, gestionada desde su nacimiento por Iberia, está Fernando Candela, quien pasó a la low cost de largo radio desde Iberia Express. En medio de la actual crisis, que desde IAG se califica de histórica para la aviación, la filial austriaca de Level, dependiente de Vueling, quebró el pasado mes de junio. La aerolínea Level arrancó en Barcelona con una flota inicial formada por dos Airbus A330 y destinos hacia Los Angeles, San Francisco, Punta Cana y Buenos Aires. Posteriormente, a  finales de 2017, la compañía dio el salto a París, con centro de operaciones en el aeropuerto de Orly. Level Francia fue construida sobre la base de OpenSkies, cuya denominación pasó a Level France en 2018. La crisis sanitaria ha sido la puntilla para una filial que venía perdiendo dinero. Desde la compañía se reconoce que se ha comunicado formalmente al comité de empresa la propuesta del cese de operaciones y la apertura de un plan recolocaciones. La ronda de consultas con los representantes de los trabajadores arrancará el 15 de julio y se mantendrán durante un periodo de tres meses. La renuncia a Level Francia está relacionada con la política de IAG de no mantener negocios que presentaban escasos visos de viabilidad incluso antes de la pandemia.\n"
     ]
    },
    {
     "data": {
      "text/html": [
       "<img src=\"https://d500.epimg.net/cincodias/imagenes/2020/07/08/companias/1594202183_398230_1594203062_miniatura_normal.jpg\" width=\"500\"/>"
      ],
      "text/plain": [
       "<IPython.core.display.Image object>"
      ]
     },
     "metadata": {},
     "output_type": "display_data"
    },
    {
     "data": {
      "text/markdown": [
       "<a href=\"https://cincodias.elpais.com/cincodias/2020/07/08/companias/1594202183_398230.html#?ref=rss&format=simple&link=guid\">Link</a>"
      ],
      "text/plain": [
       "<IPython.core.display.Markdown object>"
      ]
     },
     "metadata": {},
     "output_type": "display_data"
    },
    {
     "name": "stdout",
     "output_type": "stream",
     "text": [
      "\n",
      "\n",
      "\u001b[1m\u001b[32mCINCODIAS\u001b[0m\n",
      "\u001b[1m\u001b[30mWed, 8 Jul 2020 11:45:55 +0200\u001b[0m\n",
      "\u001b[1m\u001b[35mSeat invertirá 5.000 millones en electrificación y nuevos equipos para Martorell hasta 2025\u001b[0m\n",
      "\u001b[34mHeadline\u001b[0m\n",
      "La compañía manda un mensaje de compromiso y apuesta por España\n",
      "\u001b[34mSummarise\u001b[0m\n",
      "La automovilística española invertirá 5.000 millones de euros en los próximos cinco años en nuevos proyectos de I+D para electrificar su gama y en nuevos equipos e instalaciones para las plantas de Martorell, Barcelona y Componentes.\n",
      "La firma, propiedad del grupo Volkswagen, se está preparando así para el desarrollo de nuevos modelos y asumir la producción de nuevos proyectos con los que asegurar el empleo e impulsar su futuro.\n",
      "Isensee también ha avanzado que la marca abrirá una nueva oficina en la Rambla de Barcelona con un equipo de más de 150 desarrolladores de software que crearán aplicaciones y soluciones digitales para impulsar Seat y Cupra, además de definir soluciones digitales para el consorcio automovilístico alemán.\n",
      "\u001b[34mText\u001b[0m\n",
      "Seat se está preparando para el futuro. La automovilística española invertirá 5.000 millones de euros en los próximos cinco años en nuevos proyectos de I+D para electrificar su gama y en nuevos equipos e instalaciones para las plantas de Martorell, Barcelona y Componentes. Así lo ha anunciado este miércoles el presidente interino de la empresa, Carsten Isensee, en rueda de prensa en Casa Seat (Barcelona). La firma, propiedad del grupo Volkswagen, se está preparando así para el desarrollo de nuevos modelos y asumir la producción de nuevos proyectos con los que asegurar el empleo e impulsar su futuro. Seat cuenta con una plantilla de más de 15.000 empleados y tres centros de producción: Martorell, Barcelona y componentes. Además, también posee un centro técnico y otro de diseño dentro de su planta de ensamblaje. Casa Seat y Seat:Code, el centro de desarrollo de software, están situados en pleno centro de la Ciudad Condal. Isensee también ha avanzado que la marca abrirá una nueva oficina en la Rambla de Barcelona con un equipo de más de 150 desarrolladores de software que crearán aplicaciones y soluciones digitales para impulsar Seat y Cupra, además de definir soluciones digitales para el consorcio automovilístico alemán. La firma ya ha incorporado a 20 personas a Seat:Code y contratará a otras 100 en los próximos meses. En total, el grupo Volkswagen invertirá 44.000 millones de euros en el desarrollo de automóviles eléctricos, conducción autónoma y nuevos servicios de movilidad hasta 2023. Isensee, que ejerce como presidente interino desde la marcha de Luca de Meo a Renault, ha señalado que la pandemia de coronavirus ha pausado el desarrollo positivo de los resultados de la empresa. De hecho, en el primer trimestre del curso perdió 48 millones, frente a los 89 millones de beneficio que registró en mismo periodo de 2019. La española no había experimentado números rojos en un primer trimestre desde 2014.. Cerró 2019 con unos resultados financieros récord por cuarto año consecutivo. Obtuvo un beneficio neto de 346 millones de euros en el último año en el que De Meo estuvo al frente, lo que supone un incremento del 17,5% en comparación con el ejercicio precedente. El directivo, que ha esquivado hasta en dos ocasiones responder si continuará o no como presidente, ha advertido de que el mayor impacto del Covid-19 se reflejará en las cuentas del segundo trimestre, debido al cierre de plantas de producción y concesionarios por las medidas de confinamiento. No obstante, se ha mostrado optimista ante la segunda mitad del ejercicio. \"En las últimas semanas hemos comenzado a observar una ligera mejora desde que reanudamos la actividad. Confiamos en una recuperación, al menos parcialmente, durante la segunda mitad de 2020\", ha afirmado. Según Isensee, Martorell produce ya \"prácticamente al mismo nivel\" previo a la crisis, con 1.900 coches por día. La factoría catalana comenzará a ensamblar en la línea 2 el nuevo Cupra Formentor, que será el coche oficial del Fútbol Club Barcelona, y la versión híbrida enchufable del León en el segundo semestre del año. Asimismo, ha asegurado que el deseo de Seat es producir un modelo 100% eléctrico en Martorell a partir de 2025 y que las plantas de Barcelona y Componentes están cerca de recuperar los volúmenes anteriores a la pandemia. No obstante,ha condicionado la llegada de un modelo eléctrico a la instalación catalana al apoyo del Gobierno al sector de la automoción. \"Necesitamos las ayudas de las Administraciones. Sin eso, sería muy difícil fabricar un vehículo eléctrico en España\", ha aseverado Isensee. Por otro lado, ha valorado que el Plan de Impulso de la Cadena de Valor de la Industria de la Automoción del Ejecutivo, con 3.750 millones de euros de presupuesto, va en la dirección correcta y que beneficiará a toda la cadena de valor y ayudará a hacer frente a los efectos del Covid-19 con su visión a medio y largo plazo. \"Seat desea ser líder en este proyecto a escala de país y con la inversión de hoy documentamos nuestro pleno compromiso y cooperación. El plan de inversión de Seat es nuestra forma de atender el futuro con determinación y optimismo\", ha apuntado. Seat ha decidido finalmente que el concept car el-Born se lance bajo la marca Cupra. \"El Cupra el-Born ofrece todos los genes de la marca Cupra y es el ejemplo vivo de que el desempeño y la electrificación son una gran combinación. Nos permitirá dar un paso importante dentro de la era de la electrificación, conseguir más ventas e incrementar el margen comercial\", ha explicado el vicepresidente Comercial y de Marketing de Seat y consejero delegado de Cupra, Wayne Griffiths. El el-Born se ha diseñado y desarrollado en Barcelona, pero se fabricará en la planta del grupo Volkswagen en Zwickau (Alemania) bajo la plataforma MEB. Llegará al mercado en 2021. Según Griffiths, Cupra podría alcanzar los 1.000 millones de beneficio cuando toda su gama esté en el mercado. Seat MÓ, la nueva marca de micromovilidad de la compañía, estrena este jueves un modelo de suscripción en Barcelona. Permitirá acceso a la moto 100% eléctrica de la marca por días, semanas o meses y no tendrá obligación de permanencia. El precio del servicio es de 149 euros al mes a partir de tres meses de alquiler. La empresa también pondrá en marcha un servicio de motosharing en Barcelona en las próximas semanas.    \n"
     ]
    },
    {
     "data": {
      "text/html": [
       "<img src=\"https://d500.epimg.net/cincodias/imagenes/2020/07/08/companias/1594199077_662259_1594207049_miniatura_normal.jpg\" width=\"500\"/>"
      ],
      "text/plain": [
       "<IPython.core.display.Image object>"
      ]
     },
     "metadata": {},
     "output_type": "display_data"
    },
    {
     "data": {
      "text/markdown": [
       "<a href=\"https://cincodias.elpais.com/cincodias/2020/07/08/companias/1594199077_662259.html#?ref=rss&format=simple&link=guid\">Link</a>"
      ],
      "text/plain": [
       "<IPython.core.display.Markdown object>"
      ]
     },
     "metadata": {},
     "output_type": "display_data"
    },
    {
     "name": "stdout",
     "output_type": "stream",
     "text": [
      "\n",
      "\n",
      "\u001b[1m\u001b[32mCINCODIAS\u001b[0m\n",
      "\u001b[1m\u001b[30mWed, 8 Jul 2020 08:33:17 +0200\u001b[0m\n",
      "\u001b[1m\u001b[35mAudax sube en Bolsa tras comprar la comercializadora de electricidad de Eon en Hungría\u001b[0m\n",
      "\u001b[34mHeadline\u001b[0m\n",
      "Dice que con esta operación aumentaría su cartera de clientes en alrededor de 80.000 clientes e incrementaría su volumen de energía suministrada\n",
      "\u001b[34mSummarise\u001b[0m\n",
      "Mediante esta operación, Audax Renovables espera alcanzar una participación de aproximadamente el 25% en el suministro minorista de electricidad a pymes, grandes clientes industriales y municipales, aumentando su cartera de clientes en alrededor de 80.000 clientes, e incrementaría su volumen de energía suministrada en hasta de 6TWh/año adicionales.\n",
      "La compañía española de energías renovables explica que con esta operación se convierte de este modo en uno de los \"actores más relevantes\" en el mercado húngaro de electricidad, lo que supone un importante avance en la diversificación geográfica del Grupo.\n",
      "Se espera que la operación se complete entre el tercer y cuarto trimestre del presente ejercicio.\n",
      "\u001b[34mText\u001b[0m\n",
      "Audax Renovables ha suscrito un contrato de compraventa para la adquisición del 100%del capital social de la sociedad E.ON Energiakereskedelmi Kft, comercializadora húngara de electricidad, tsl y como ha explicado la compañía española a la Comisión Nacional del Mercado de Valores (CNMV).  Las acciones de la compañía de energias renovables suben un 6,5% gracias a esta operación. El vendedor de las citadas participaciones es Eon. Hungária Zrt., una subsidiaria de la multinacional alemana Eon, compañía que cotiza, entre otras, en la Bolsa de Frankfurt. Mediante esta operación, Audax Renovables espera alcanzar una participación de aproximadamente el 25% en el suministro minorista de electricidad a pymes, grandes clientes industriales y municipales, aumentando su cartera de clientes en alrededor de 80.000 clientes, e incrementaría su volumen de energía suministrada en hasta de 6TWh/año adicionales. La compañía española de energías renovables explica que con esta operación se convierte de este modo en uno de los \"actores más relevantes\" en el mercado húngaro de electricidad, lo que supone un importante avance en la diversificación geográfica del Grupo. La operaciónestá sujeta a determinadas condiciones suspensivas, además de tener que contar con las preceptivas autorizaciones regulatorias necesarias por parte de los organismos europeos y húngaros competentes. Se espera que la operación se complete entre el tercer y cuarto trimestre del presente ejercicio.\n"
     ]
    },
    {
     "data": {
      "text/html": [
       "<img src=\"https://d500.epimg.net/cincodias/imagenes/2020/07/08/companias/1594189547_203642_1594189712_miniatura_normal.jpg\" width=\"500\"/>"
      ],
      "text/plain": [
       "<IPython.core.display.Image object>"
      ]
     },
     "metadata": {},
     "output_type": "display_data"
    },
    {
     "data": {
      "text/markdown": [
       "<a href=\"https://cincodias.elpais.com/cincodias/2020/07/08/companias/1594189547_203642.html#?ref=rss&format=simple&link=guid\">Link</a>"
      ],
      "text/plain": [
       "<IPython.core.display.Markdown object>"
      ]
     },
     "metadata": {},
     "output_type": "display_data"
    },
    {
     "name": "stdout",
     "output_type": "stream",
     "text": [
      "\n",
      "\n",
      "\u001b[1m\u001b[32mCINCODIAS\u001b[0m\n",
      "\u001b[1m\u001b[30mWed, 8 Jul 2020 06:30:26 +0200\u001b[0m\n",
      "\u001b[1m\u001b[35mEl ICO se estrena con ACS en la financiación a la energía eólica marina\u001b[0m\n",
      "\u001b[34mHeadline\u001b[0m\n",
      "Participa con 67 millones en el proyecto escocés Kincardine\n",
      "\u001b[34mSummarise\u001b[0m\n",
      "El mayor proyecto diseñado hasta el momento para la creación de un parque eólico marino flotante, el que ACS está levantando en Escocia a través de su filial Cobra, ha atraído el interés del banco público español ICO.\n",
      "Cobra, por su parte, tiene en cartera más de 2.500 megavatios de eólica flotante con una inversión estimada de 10.500 millones de euros para los próximos diez años, especialmente en el desarrollo de parques en Asia.\n",
      "\u001b[34mText\u001b[0m\n",
      "El mayor proyecto diseñado hasta el momento para la creación de un parque eólico marino flotante, el que ACS está levantando en Escocia a través de su filial Cobra, ha atraído el interés del banco público español ICO. La constructora que preside Florentino Pérez cerró días atrás una ronda de financiación para sufragar el coste de la infraestructura, por 380 millones de libras (425 millones de euros), y, según ha podido saber Cinco Días, el ICO ha tomado una de las posiciones del sindicado con 60 millones de libras (67 millones de euros). Más allá de las cifras, se trata del estreno de la entidad financiera en el prometedor terreno de la energía eólica offshore. Un paso que responde a la estrategia de acompañar a empresas españolas en nuevas oportunidades de negocio. El parque escocés de Kincardine, con la citada inversión estimada de 380 millones de libras, está llamado a convertirse en el mayor parque eólico comercial flotante del mundo. Pero también ha sido tomado como referente de la financiación verde, con un préstamo que se ha estructurado como Green Loan bajo los requisitos de la Loan Market Assotiation (LMA). Esta operación sindicada ha sido coordinada por Natixis, que actuó además como uno de los principales mandated lead arrangers, aseguradores y colocadores de la transacción. La financiación ha obtenido la etiqueta Certificado de Bonos Climáticos, otorgada por la Iniciativa de Bonos Climáticos (CBI), siendo esta la primera certificación de estas características para un proyecto eólico flotante en alta mar. Vigeo Eiris, por su parte, es quien ha ejecutado el mandato de verificación de los criterios de energía renovable de generación marina. Estos parámetros científicos aseguran que el préstamo certificado es consistente con el límite de calentamiento en dos grados incluido en el Acuerdo de París. El parque eólico de Kincardine contará con una potencia instalada de 50 megavatios (MW) en el mar del Norte, unos 15 kilómetros mar adentro desde la costa escocesa de Aberdeen. Entre sus particularidades figura el uso de tecnología para profundidades superiores a los 50 metros, lo que permite que los aerogeneradores no vayan fijados a la plataforma marina. Con ello, se busca reducir el impacto respecto a la eólica off shore tradicional, aprovechar zonas de instalación con menores restricciones medioambientales y con mayor intensidad de viento, y competir favorablemente en costas profundas como las de Estados Unidos y Japón. Además de la presencia de Cobra como promotor, constructor y operador de la instalación, el proyecto también cuenta con Navantia y Windar como proveedoras de las plataformas. De hecho, el ICO justifica su presencia en la financiación como vía para que la industria española ocupe un lugar preferente en este tipo de nuevos desarrollos. Otra compañía que pone su firma en el proyecto Kincardine Offshore Windfarm es Repsol. Y es que la infraestructura se basará en el sistema Windfloat, patente en la que la petrolera participa con un 25% del capital. Además de esta entrada en la financiación de la eólica marina, el Instituto de Crédito Oficial participa en proyectos con intereses españoles en 15 países y con financiación en siete monedas distintas. La sostenibilidad se ha convertido en denominador común de los desarrollos que está respaldando. Cobra, por su parte, tiene en cartera más de 2.500 megavatios de eólica flotante con una inversión estimada de 10.500 millones de euros para los próximos diez años, especialmente en el desarrollo de parques en Asia. Turbinas de Vestas. El parque eólico Kincardine estará equipado con seis turbinas (una de 2 MW y cinco de 9,5 MW) suministradas por MHI Vestas. Estas irán sobre estructuras flotantes semisumergibles diseñadas por Principle Power. ACS cuenta con un contrato de suministro (PPA) con el operador eléctrico británico OFGEM por 20 años. Socio mayoritario. Cobra tiene el 90% del capital de la planta y lleva tiempo barajando la posibilidad de dar entrada a nuevos socios. Su intención es quedarse con un mínimo del 20% y la operación del proyecto. A pleno rendimiento este año. está siendo ejecutado en aguas con profundidades de 60 a 80 metros. La previsión es que la instalación esté en pleno funcionamiento en el cuarto trimestre de 2020.\n"
     ]
    },
    {
     "data": {
      "text/html": [
       "<img src=\"https://d500.epimg.net/cincodias/imagenes/2020/07/07/companias/1594138756_143092_1594138833_miniatura_normal.jpg\" width=\"500\"/>"
      ],
      "text/plain": [
       "<IPython.core.display.Image object>"
      ]
     },
     "metadata": {},
     "output_type": "display_data"
    },
    {
     "data": {
      "text/markdown": [
       "<a href=\"https://cincodias.elpais.com/cincodias/2020/07/07/companias/1594138756_143092.html#?ref=rss&format=simple&link=guid\">Link</a>"
      ],
      "text/plain": [
       "<IPython.core.display.Markdown object>"
      ]
     },
     "metadata": {},
     "output_type": "display_data"
    },
    {
     "name": "stdout",
     "output_type": "stream",
     "text": [
      "\n",
      "\n",
      "\u001b[1m\u001b[32mCINCODIAS\u001b[0m\n",
      "\u001b[1m\u001b[30mWed, 8 Jul 2020 06:30:12 +0200\u001b[0m\n",
      "\u001b[1m\u001b[35mLos pilotos de British Airways buscan un pacto para reducir los despidos\u001b[0m\n",
      "\u001b[34mHeadline\u001b[0m\n",
      "El sindicato BALPA se aleja de la batalla abierta por Unite con IAG\n",
      "\u001b[34mSummarise\u001b[0m\n",
      "Los pilotos de British Airways, representados por el potente sindicato británico BALPA, se han distanciado definitivamente de los tripulantes de cabina de pasajeros (TCPs) en el tira y afloja con la compañía de IAG por los 12.000 despidos anunciados.\n",
      "Mientras la central Unite, mayoritaria entre los TCPs, ha lanzado una ofensiva total contra el holding de aerolíneas en busca de frenar el ajuste, BALPA ultima un acuerdo que sirva para dar viabilidad a la empresa y recortar los despidos previstos.\n",
      "Sentar a BALPA en la mesa de negociación del ajuste ya fue un logro para la mayor aerolínea de IAG, que busca emprender el vuelo sin conflicto laboral tras la parálisis obligada por la crisis sanitaria.\n",
      "\u001b[34mText\u001b[0m\n",
      "Los pilotos de British Airways, representados por el potente sindicato británico BALPA, se han distanciado definitivamente de los tripulantes de cabina de pasajeros (TCPs) en el tira y afloja con la compañía de IAG por los 12.000 despidos anunciados. Mientras la central Unite, mayoritaria entre los TCPs, ha lanzado una ofensiva total contra el holding de aerolíneas en busca de frenar el ajuste, BALPA ultima un acuerdo que sirva para dar viabilidad a la empresa y recortar los despidos previstos. Las bases del mismo están ya negro sobre blanco, y la propuesta habría sido dirigida a la plantilla para su votación. Fuentes cercanas a las conversaciones afirman que más de un 60% de los 4.300 pilotos afectados por el ajuste podrían salvar sus puestos de trabajo a cambio de concesiones salariales y acuerdos de flexibilidad. Sky News asegura haber tenido acceso a documentación en la que British dibuja un escenario de 1.130 bajas ente los pilotos, solo un 26% de las inicialmente previstas. BALPA viene de pactar una rebaja del 20% en las nóminas de los pilotos de Ryanair durante los cuatro próximos años BALPA viene de pactar una rebaja del 20% en las nóminas de los pilotos de Ryanair durante los cuatro próximos años con el fin de adaptar los costes de la aerolínea irlandesa a las nuevas condiciones de mercado, impuestas por la pandemia de la Covid-19. Sentar a BALPA en la mesa de negociación del ajuste ya fue un logro para la mayor aerolínea de IAG, que busca emprender el vuelo sin conflicto laboral tras la parálisis obligada por la crisis sanitaria. Un acuerdo con este colectivo sería un balón de oxígeno para la dirección que lidera Álex Cruz y para la propia IAG. Pese a ello, sobrevuelan amenazas de huelga entre los TCPs, al tiempo que Unite ha plantado cara en Bruselas al intento de adquisición de Air Europa por Iberia, y reclama, tanto en Reino Unido como en España, que se revisen los slots (permisos de despegue y aterrizaje) de British e Iberia, respectivamente, en Heathrow y Barajas. En el caso de Ryanair, nueve de cada diez pilotos afiliados a BALPA han aceptado el tijeretazo salarial de un 20% hasta entrado 2024, al tiempo que también renuncian a parte de las vacaciones. Donde la low cost dijo en mayo que despediría a 330 pilotos, rebaja ahora la cifra hasta en entorno de los 70. El sindicato sigue una estrategia similar en British Airways o en Easyjet, donde los recortes previstos son de mayor volumen.\n"
     ]
    },
    {
     "data": {
      "text/html": [
       "<img src=\"https://d500.epimg.net/cincodias/imagenes/2020/07/07/companias/1594141229_641155_1594141476_miniatura_normal.jpg\" width=\"500\"/>"
      ],
      "text/plain": [
       "<IPython.core.display.Image object>"
      ]
     },
     "metadata": {},
     "output_type": "display_data"
    },
    {
     "data": {
      "text/markdown": [
       "<a href=\"https://cincodias.elpais.com/cincodias/2020/07/07/companias/1594141229_641155.html#?ref=rss&format=simple&link=guid\">Link</a>"
      ],
      "text/plain": [
       "<IPython.core.display.Markdown object>"
      ]
     },
     "metadata": {},
     "output_type": "display_data"
    },
    {
     "name": "stdout",
     "output_type": "stream",
     "text": [
      "\n",
      "\n",
      "\u001b[1m\u001b[32mCINCODIAS\u001b[0m\n",
      "\u001b[1m\u001b[30mWed, 8 Jul 2020 06:29:33 +0200\u001b[0m\n",
      "\u001b[1m\u001b[35mHP Enterprise reduce un 5,4% sus ingresos en España, pero recorta sus pérdidas un 92%\u001b[0m\n",
      "\u001b[34mHeadline\u001b[0m\n",
      "Su cifra de negocios en 2019 alcanzó los 359,8 millones y sus pérdidas fueron de 773.909 euros.\n",
      "\u001b[34mSummarise\u001b[0m\n",
      "Hewlett Packard Enterprise (HPE), la compañía dedicada a proveer soluciones y servicios TI para empresas, cerró su ejercicio de 2019 con unos ingresos de 359,8 millones en España.\n",
      "Su cifra de negocios se redujo en más de 20,6 millones frente al ejercicio de 2018, lo que supone una caída del 5,4%, según las cuentas presentadas por la compañía en el Registro Mercantil.\n",
      "En 2019, sus pérdidas fueron de 773.909 euros, frente a los 10 millones del año anterior, un recorte del 92,26%.\n",
      "Concretamente, pasó de unas pérdidas de 8,7 millones en 2018 a un beneficio de 860.000 euros, lo que supone una variación del 109%.\n",
      "\u001b[34mText\u001b[0m\n",
      "Hewlett Packard Enterprise (HPE), la compañía dedicada a proveer soluciones y servicios TI para empresas, cerró su ejercicio de 2019 con unos ingresos de 359,8 millones en España. Su cifra de negocios se redujo en más de 20,6 millones frente al ejercicio de 2018, lo que supone una caída del 5,4%, según las cuentas presentadas por la compañía en el Registro Mercantil. Esta variación negativa se trasladó al margen bruto, que se redujo en un 11,38%. La tecnológica se mantiene en pérdidas, aunque ha ido reduciendo su resultado negativo en los últimos ejercicios. En 2019, sus pérdidas fueron de 773.909 euros, frente a los 10 millones del año anterior, un recorte del 92,26%. Las pérdidas de la empresa en 2017 se elevaron a 27 millones. Pese al resultado neto negativo, la compañía cerró el ejercicio con un resultado de explotación (ebit) positivo. Concretamente, pasó de unas pérdidas de 8,7 millones en 2018 a un beneficio de 860.000 euros, lo que supone una variación del 109%. El Ebitda de HPE también pasó de negativo a positivo, produciéndose un aumento del 139,57%. En este sentido, cabe destacar que los gastos de personal de la compañía se redujeron en un 9,58% pasando de 108,2 millones en 2018 a 97,8 millones en 2019, y que la empresa obtuvo otros ingresos de explotación de 39,2 millones, un 39,51% más que en 2018. Estos ingresos proceden principalmente de la facturación a nivel mundial al resto de empresas del grupo. El fondo de maniobra en 2019 creció un 42,48% frente al ejercicio anterior, pasando de 35,5 millones a 50,6 millones. Estas cifras indican que en ambos años la firma contaba con un grado óptimo de liquidez y que los activos a corto plazo eran siendo financiados con recursos a largo plazo. En relación al resultado financiero, tanto en 2018 como en 2019 fue negativo, sin embargo las pérdidas se han visto reducidas en un 44,38% entre ambos ejercicios. Esto es debido principalmente a las diferencias de cambio que pasan de ser negativas en 2018 a positivas en 2019, aumentando un 103,42%. La compañía pagó 731.769 en impuestos el último año. HPE dejó de estar en causa de disolución en 2019. La firma cerró con un patrimonio neto positivo de 8,1 millones, tras una aportación de su socio único de 10 millones con fecha 30 de noviembre de 2018, que se sumaba a otra aportación de 30 millones en 2017. La compañía sigue pendiente de un juicio por la reclamación de 21 millones de un ex directivo de HPE. En diciembre de 2016 un anterior empleado de la empresa interpuso una reclamación a las sociedades Hewlett Packard Holding Iberia, HP Printing and Computing Solutions, HP Inc, Hewlett Packard Enterprise, Hewlett Packard Servicios España y Willis Towers por la cantidad citada. El juicio para resolver la demanda iba a tener lugar el pasado 3 de marzo, tras celebrarse un acto de conciliación con el reclamante sin alcanzar ningún acuerdo en febrero de 2017. Finalmente se pospuso al 29 de abril de 2020, si bien se ha vuelto a retrasar debido a la situación de pandemia actual. La compañía ha provisionado 3 millones para hacer frente a esta reclamación, tras solicitar a un asesor externo e independiente una evaluación del riesgo, así como la estimación del posible impacto monetario que se pudiera derivar de dicha reclamación.\n"
     ]
    },
    {
     "data": {
      "text/html": [
       "<img src=\"https://d500.epimg.net/cincodias/imagenes/2020/07/07/companias/1594153970_758182_1594154174_miniatura_normal.jpg\" width=\"500\"/>"
      ],
      "text/plain": [
       "<IPython.core.display.Image object>"
      ]
     },
     "metadata": {},
     "output_type": "display_data"
    },
    {
     "data": {
      "text/markdown": [
       "<a href=\"https://cincodias.elpais.com/cincodias/2020/07/07/companias/1594153970_758182.html#?ref=rss&format=simple&link=guid\">Link</a>"
      ],
      "text/plain": [
       "<IPython.core.display.Markdown object>"
      ]
     },
     "metadata": {},
     "output_type": "display_data"
    },
    {
     "name": "stdout",
     "output_type": "stream",
     "text": [
      "\n",
      "\n",
      "\u001b[1m\u001b[32mCINCODIAS\u001b[0m\n",
      "\u001b[1m\u001b[30mWed, 8 Jul 2020 06:29:15 +0200\u001b[0m\n",
      "\u001b[1m\u001b[35mOrange y Telefónica calientan la pugna en el negocio mayorista con nuevos acuerdos\u001b[0m\n",
      "\u001b[34mHeadline\u001b[0m\n",
      "Ambas han firmado nuevos pactos con Euskaltel y MásMóvil\n",
      "Las alianzas se han extendido a la fibra óptica y el móvil\n",
      "\u001b[34mSummarise\u001b[0m\n",
      "“El acuerdo confirma la validez de una estrategia mayorista, gracias a la cual la compañía continúa con sus despliegues eficientes de red en España, al mismo tiempo que refuerza su situación en el mercado retail”, dijo Orange, que recordó que es el único operador que comparte sus redes con todos los players del mercado a través de los distintos acuerdos de compartición, coinversión, mutualización o RAN sharing, tanto en infraestructuras fijas como móviles.\n",
      "Y es que una de las estrategias aplicadas por la compañía en los últimos tiempos es la de atraer a sus redes de fibra a los clientes de otras operadoras a través de estos acuerdos.\n",
      "\u001b[34mText\u001b[0m\n",
      "Telefónica y Orange parecen haber reabierto la pugna en el negocio mayorista de telecomunicaciones en el mercado español. Ambas han acelerado en la firma de nuevos acuerdos con otras telecos para atraerlas hacia sus redes, tanto de fibra óptica como de telefonía móvil. El último movimiento fue protagonizado ayer por Orange España. La compañía anunció una ampliación de sus acuerdos con Euskaltel en las redes de fibra óptica, de tal forma que la operadora vasca, que se encuentra en pleno proceso de expansión por el conjunto del mercado español con la marca Virgin Telco, podrá acceder en bitstream a 1,8 millones de hogares del futuro despliegue de fibra de Orange. Con anterioridad, a mediados de junio, Orange alcanzó un acuerdo de acceso mayorista bitstream con MásMóvil, su principal cliente mayorista, por el cual ambas partes desplegarán entre 2,20 y 2,75 millones de unidades inmobiliarias de fibra óptica entre 2020 y 2023. En este escenario, Orange indicó que el nuevo acuerdo con Euskaltel refuerza su apuesta por la compartición de sus redes fijas y móviles, optimizar el uso de las mismas, así como rentabilizar al máximo sus inversiones en infraestructuras. “El acuerdo confirma la validez de una estrategia mayorista, gracias a la cual la compañía continúa con sus despliegues eficientes de red en España, al mismo tiempo que refuerza su situación en el mercado retail”, dijo Orange, que recordó que es el único operador que comparte sus redes con todos los players del mercado a través de los distintos acuerdos de compartición, coinversión, mutualización o RAN sharing, tanto en infraestructuras fijas como móviles. Telefónica Frente a esta posición, Telefónica también ha respondido en los últimos días con una ampliación de sus acuerdos con MásMóvil, tanto en red fija como en móvil, y con Euskaltel. En el primero de los contratos, firmado a finales de junio, MásMóvil aseguraba a Telefónica unos compromisos anuales mínimos de facturación mayorista de aproximadamente 100 millones de euros para los próximos cinco años. De igual forma, a principios de julio, Telefónica firmó un acuerdo con Euskaltel para la prestación del servicio mayorista NEBA sobre fibra (NEBA FTTH) en zonas exentas de la regulación mayorista de fibra óptica de la red de la propia operadora. En las circunstancias actuales, de fuerte competencia en el ámbito minorista por las crecientes promociones comerciales por parte de todas las operadoras, y que está mermando los ingresos en este ámbito, el segmento mayorista gana relevancia en las cuentas de resultados de los grandes grupos de infraestructuras de telecos. Telefónica y Orange, que cuentan con las mayores redes de fibra, se están centrando, especialmente, en las operadoras alternativas que están registrando crecimiento, como las citadas MásMóvil y Euskaltel. En el caso de Orange España, el ámbito mayorista fue el único que registró crecimiento en el primer trimestre, un 4,8% en términos interanuales, y aporta más del 17% de los ingresos de la compañía. Orange recordó ayer que este negocio aportó en 2019 más de 900 millones de euros en ingresos. En Telefónica, la situación es similar. En el primer trimestre, los ingresos de mayorista y otros en España crecieron un 10,4% impulsados por la fibra y la televisión. Y es que una de las estrategias aplicadas por la compañía en los últimos tiempos es la de atraer a sus redes de fibra a los clientes de otras operadoras a través de estos acuerdos. La teleco cerró marzo con 2,292 millones de accesos mayoristas de fibra óptica, un 33% más que a la conclusión del mismo mes en el año anterior.\n"
     ]
    },
    {
     "data": {
      "text/html": [
       "<img src=\"https://d500.epimg.net/cincodias/imagenes/2020/07/08/companias/1594161617_802119_1594161927_miniatura_normal.jpg\" width=\"500\"/>"
      ],
      "text/plain": [
       "<IPython.core.display.Image object>"
      ]
     },
     "metadata": {},
     "output_type": "display_data"
    },
    {
     "data": {
      "text/markdown": [
       "<a href=\"https://cincodias.elpais.com/cincodias/2020/07/08/companias/1594161617_802119.html#?ref=rss&format=simple&link=guid\">Link</a>"
      ],
      "text/plain": [
       "<IPython.core.display.Markdown object>"
      ]
     },
     "metadata": {},
     "output_type": "display_data"
    },
    {
     "name": "stdout",
     "output_type": "stream",
     "text": [
      "\n",
      "\n",
      "\u001b[1m\u001b[32mCINCODIAS\u001b[0m\n",
      "\u001b[1m\u001b[30mWed, 8 Jul 2020 06:28:55 +0200\u001b[0m\n",
      "\u001b[1m\u001b[35mAmancio Ortega: un imperio levantado sobre los dividendos de Inditex\u001b[0m\n",
      "\u001b[34mHeadline\u001b[0m\n",
      "Desde 1998 el fundador del grupo textil ha ingresado cerca de 11.500 millones por este concepto\n",
      "\u001b[34mSummarise\u001b[0m\n",
      "Su cartera, de más de 15.000 millones de euros en 2019, es más grande que la de las grandes compañías especializadas en el sector inmobiliario, aunque a diferencia de compañías como Merlin o Colonial su foco, sobre todo en los últimos años, ha estado más centrado en propiedades internacionales.\n",
      "Barcelona también ha sido objetivo de sus inversiones, con compras en Paseo de Gracia, pero en los últimos años Amancio Ortega ha puesto el foco en el mercado exterior, con dos destinos principales: EE UU y Londres.\n",
      "\u001b[34mText\u001b[0m\n",
      "Con los registros alcanzados en 2019, puede afirmarse sin incurrir en ningún tipo de exageración que Amancio Ortega ha levantado todo un imperio inmobiliario bajo sus pies. Su cartera, de más de 15.000 millones de euros en 2019, es más grande que la de las grandes compañías especializadas en el sector inmobiliario, aunque a diferencia de compañías como Merlin o Colonial su foco, sobre todo en los últimos años, ha estado más centrado en propiedades internacionales. Algo que le permite su vasta fortuna, que Forbes cifra en la actualidad en 63.000 millones de dólares, unos 56.000 millones de euros al cambio actual. Parte de culpa tiene en esa cifra su patrimonio inmobiliario, que ha ido creciendo sobre todo en los últimos 15 años, un periodo de tiempo en el que la empresa que fundó, Inditex, se convirtió en un gigante global, al igual que los dividendos que repartía cada año. Solo con la retribución que percibió el año pasado por el beneficio de 2018, 1.626 millones, cubrió el 80% de las compras de inmuebles que hizo en 2019, que se elevaron a 2.065. Echando la vista un poco más atrás, desde 1998, Amancio Ortega ha percibido cerca de 11.500 millones de euros gracias a las acciones que ha mantenido en la compañía textil, que en ese periodo ha repartido entre sus accionistas algo más de 19.300 millones de euros. Algo menos del 60% de esa cantidad ha ido a parar a Amancio Ortega, que ha mantenido un paquete accionarial por ese porcentaje durante ese periodo, aunque desde la salida a Bolsa de 2001 este se ha mantenido en el 59,29%, primero a través de la sociedad Gartler, y después mediante Pontegadea con un 50,01% y Partler 2006, con el porcentaje restante. Después de la reestructuración societaria anunciada ayer por el empresario, ese 9,28% pasa ahora a la sociedad Partler Participaciones, donde también aglutina desde ahora su participación en Enagás. Es complicado ponerle una fecha de inicio al apetito inversor de Ortega en el sector inmobiliario, así como ponerle número a todas sus propiedades, aunque las principales dejan ver la evolución en su estrategia. Una de las primeras operaciones de las que se tiene conocimiento mediático fue en 2004, cuando Ortega se hizo con la que entonces era la sede corporativa de Terra en Madrid, ubicada en el número 92 del Paseo de la Castellana. La operación estuvo valorada en algo más de 57 millones de euros, una cifra que puede considerarse modesta observando las operaciones que les siguieron, también en esa misma avenida, una de las predilectas para Ortega. Allí cuenta con tres edificios más, además del antes citado: en el 35, que compró en 2005 por alrededor de 100 millones; en el 24, que formó parte de la compra de un lote a Banco Santander que se elevó a 458 millones; y en el 79, adquirido en 2006 también por algo más de 100 millones y donde hoy se ubica el Zara más grande del mundo. Aunque en la capital, las principales fueron las de Torre Cepsa, por la que desembolsó 490 millones en 2015, y las de Torre Picasso (2011) y Gran Vía 32 (2015), ambas por 100 millones. Barcelona también ha sido objetivo de sus inversiones, con compras en Paseo de Gracia, pero en los últimos años Amancio Ortega ha puesto el foco en el mercado exterior, con dos destinos principales: EE UU y Londres. Ambos mercados copan las operaciones más cuantiosas. La mayor ha sido la más reciente, la adquisición de The Post Building, en la capital británica, un bloque de oficinas con 30.000 metros cuadrados de superficie por el que ha pagado 700 millones. Algo menos, 680, invirtió en 2018 por el Adelphi Building, también en Londres, 14.000 metros cuadrados de oficinas en 13 plantas. Las sedes corporativas son, junto a los espacios comerciales, los objetivos principales de Pontegadea. Ejemplo de ello son también las dos compras que hizo en Seattle, ambas el año pasado. La primera, la del complejo de oficinas Troy Block, en el que Amazon tiene una de sus principales sedes. El precio fue de 656 millones. La segunda fue la de Arbor Blocks, donde Facebook tiene su segunda sede mundial, por 377 millones. Pese a ese creciente apetito exterior, que también se extiende a países como Francia, Canadá o Corea del Sur, el 61% de su cartera inmobiliaria sigue estando en territorio europeo.\n"
     ]
    },
    {
     "data": {
      "text/html": [
       "<img src=\"https://d500.epimg.net/cincodias/imagenes/2020/07/08/companias/1594165476_097048_1594165590_miniatura_normal.jpg\" width=\"500\"/>"
      ],
      "text/plain": [
       "<IPython.core.display.Image object>"
      ]
     },
     "metadata": {},
     "output_type": "display_data"
    },
    {
     "data": {
      "text/markdown": [
       "<a href=\"https://cincodias.elpais.com/cincodias/2020/07/08/companias/1594165476_097048.html#?ref=rss&format=simple&link=guid\">Link</a>"
      ],
      "text/plain": [
       "<IPython.core.display.Markdown object>"
      ]
     },
     "metadata": {},
     "output_type": "display_data"
    },
    {
     "name": "stdout",
     "output_type": "stream",
     "text": [
      "\n",
      "\n",
      "\u001b[1m\u001b[32mCINCODIAS\u001b[0m\n",
      "\u001b[1m\u001b[30mTue, 7 Jul 2020 19:41:09 +0200\u001b[0m\n",
      "\u001b[1m\u001b[35mEl Consejo de Ministros da luz verde a la entrada de los fondos extranjeros en MásMóvil\u001b[0m\n",
      "\u001b[34mHeadline\u001b[0m\n",
      "Da luz verde a la inversión extranjera dentro de la opa sobre la teleco de KKR, Cinven y Providence\n",
      "\u001b[34mSummarise\u001b[0m\n",
      "De igual forma, los fondos señalaron que la operación está sujeta a la obtención de los permisos del Banco de España, respecto de la adquisición por la sociedad oferente y sus accionistas de una participación significativa indirecta en el capital del establecimiento financiero de crédito entidad de pago en el cual una filial de MásMóvil (Xfera Móviles) ostenta un 49% del capital social y los derechos de voto.\n",
      "La opa también debe recibir el visto bueno de la Secretaría de Estado de Telecomunicaciones e Infraestructuras Digitales del Ministerio de Asuntos Económicos y Transformación Digital, con respecto de las concesiones de dominio público radioeléctrico de las que es titular una filial de la teleco (Xfera Móviles).\n",
      "\u001b[34mText\u001b[0m\n",
      "Paso importante en la opa sobre MásMóvil presentada por los fondos KKR, Cinven y Providence. El Consejo de Ministros de este martes ha autorizado la inversión extranjera en la teleco, de conformidad con lo establecido en la Ley 19/2003, sobre régimen jurídico de los movimientos de capitales y de las transacciones económicas con el exterior, y sobre determinadas medidas de prevención del blanqueo de capitales, y previo informe favorable de la Junta de Inversiones Exteriores. En la referencia del Consejo de Ministros se indica que la sociedad inversora es Lorca Telecom Bidco, controlada por los citados fondos, que tiene intención de adquirir el 100% del capital social de MásMóvil. KKR, Cinven y Providence lanzaron el pasado 1 de junio una opa sobre la totalidad de las acciones de MásMóvil, valorada en 2.963,57 millones de euros, a razón de 22,50 euros en efectivo por título. La intención de los fondos, que han llegado a un acuerdo de compraventa con la mayoría de los principales accionistas de la teleco, es excluir a la operadora de cotización. La operación necesita todavía recibir distintas autorizaciones. En el anuncio de la opa, los fondos indicaron que la opa se encuentra sujeta a la autorización de la Comisión Europea en virtud de lo previsto en el Reglamento sobre el control de las concentraciones entre empresas. Los inversores señalaron entonces que procederán a realizar las presentaciones y notificaciones a la Comisión Europea. De igual forma, explicaron que pedirán la autorización de las autoridades de la competencia de China, Israel, Turquía y Serbia, debido a su presencia en otras compañías de estos países. De igual forma, los fondos señalaron que la operación está sujeta a la obtención de los permisos del Banco de España, respecto de la adquisición por la sociedad oferente y sus accionistas de una participación significativa indirecta en el capital del establecimiento financiero de crédito entidad de pago en el cual una filial de MásMóvil (Xfera Móviles) ostenta un 49% del capital social y los derechos de voto. La opa también debe recibir el visto bueno de la Secretaría de Estado de Telecomunicaciones e Infraestructuras Digitales del Ministerio de Asuntos Económicos y Transformación Digital, con respecto de las concesiones de dominio público radioeléctrico de las que es titular una filial de la teleco (Xfera Móviles).\n"
     ]
    },
    {
     "data": {
      "text/html": [
       "<img src=\"https://d500.epimg.net/cincodias/imagenes/2020/07/07/companias/1594143621_698338_1594144271_miniatura_normal.jpg\" width=\"500\"/>"
      ],
      "text/plain": [
       "<IPython.core.display.Image object>"
      ]
     },
     "metadata": {},
     "output_type": "display_data"
    },
    {
     "data": {
      "text/markdown": [
       "<a href=\"https://cincodias.elpais.com/cincodias/2020/07/07/companias/1594143621_698338.html#?ref=rss&format=simple&link=guid\">Link</a>"
      ],
      "text/plain": [
       "<IPython.core.display.Markdown object>"
      ]
     },
     "metadata": {},
     "output_type": "display_data"
    },
    {
     "name": "stdout",
     "output_type": "stream",
     "text": [
      "\n",
      "\n",
      "\u001b[1m\u001b[32mCINCODIAS\u001b[0m\n",
      "\u001b[1m\u001b[30mTue, 7 Jul 2020 19:38:53 +0200\u001b[0m\n",
      "\u001b[1m\u001b[35mRamón Galcerán, nuevo presidente de Grant Thorton en España\u001b[0m\n",
      "\u001b[34mHeadline\u001b[0m\n",
      "Sustituye a Alejandro Martínez Borrell\n",
      "\u001b[34mSummarise\u001b[0m\n",
      "Grant Thornton ha elegido a Ramón Galcerán como su nuevo presidente en España para los próximos cuatro años.\n",
      "Cede el testigo tras más de treinta años de trabajo en la Firma, de la que es socio fundador.\n",
      "De esta manera, Ramón Galcerán asume el liderazgo de la que es la sexta firma de servicios profesionales en el mundo y en España.\n",
      "Galcerán se incorporó a Grant Thornton en 2003 y durante todo este tiempo ha sido testigo de un desarrollo exponencial de la compañía dentro del mercado de servicios profesionales de nuestro país.\n",
      "\u001b[34mText\u001b[0m\n",
      "Grant Thornton ha elegido a Ramón Galcerán como su nuevo presidente en España para los próximos cuatro años. Asumirá este cargo el próximo 1 de septiembre de 2020, momento en el que el actual presidente, Alejandro Martínez Borrell, dejará la presidencia. Cede el testigo tras más de treinta años de trabajo en la Firma, de la que es socio fundador. De esta manera, Ramón Galcerán asume el liderazgo de la que es la sexta firma de servicios profesionales en el mundo y en España. Su nombramiento viene respaldado por la totalidad de miembros de la Junta de Socios, tras haber formado parte del Consejo de Administración y del Comité de Dirección, así como a dirigir la línea de Financial Advisory desde 2008. Galcerán se incorporó a Grant Thornton en 2003 y durante todo este tiempo ha sido testigo de un desarrollo exponencial de la compañía dentro del mercado de servicios profesionales de nuestro país. Es licenciado en Administración y Dirección de Empresas y MBA por ESADE y por la Community of European Management School (CEMS). Cuenta, además, con un postgrado en liderazgo por Harvard University. Es miembro del Colegio de Economistas de Cataluña y fundador de su Grupo de Trabajo de Fusiones y Adquisiciones y colabora con asociaciones como ACGE. \"Es todo un orgullo y una gran responsabilidad comenzar a liderar la Firma en un momento decisivo para nuestros clientes y el tejido empresarial español, inmerso en una tarea de recuperación y reimpulso sin precedentes. Se nos reconoce por nuestra cercanía, por nuestra especialización y nuestra calidad de servicio y ahora más que nunca vamos a continuar por esa senda, marcando el rumbo en nuestro segmento y construyendo una firma de referencia en España\", explica Ramón Galcerán.\n"
     ]
    },
    {
     "data": {
      "text/html": [
       "<img src=\"https://d500.epimg.net/cincodias/imagenes/2020/07/07/companias/1594133936_272718_1594143389_miniatura_normal.jpg\" width=\"500\"/>"
      ],
      "text/plain": [
       "<IPython.core.display.Image object>"
      ]
     },
     "metadata": {},
     "output_type": "display_data"
    },
    {
     "data": {
      "text/markdown": [
       "<a href=\"https://cincodias.elpais.com/cincodias/2020/07/07/companias/1594133936_272718.html#?ref=rss&format=simple&link=guid\">Link</a>"
      ],
      "text/plain": [
       "<IPython.core.display.Markdown object>"
      ]
     },
     "metadata": {},
     "output_type": "display_data"
    },
    {
     "name": "stdout",
     "output_type": "stream",
     "text": [
      "\n",
      "\n",
      "\u001b[1m\u001b[32mCINCODIAS\u001b[0m\n",
      "\u001b[1m\u001b[30mTue, 7 Jul 2020 18:56:40 +0200\u001b[0m\n",
      "\u001b[1m\u001b[35mCellnex alcanza un nuevo máximo histórico en Bolsa y supera a Telefónica en capitalización\u001b[0m\n",
      "\u001b[34mHeadline\u001b[0m\n",
      "Cellnex analiza una ampliación de capital ante posibles oportunidades de compra\n",
      "\u001b[34mSummarise\u001b[0m\n",
      "Este precio otorga a Cellnex una capitalización bursátil de 21.520 millones de euros, que convierten a la empresa en líder de las telecomunicaciones en Bolsa en España, por delante de Telefónica.\n",
      "De todas formas, Telefónica tiene previsto que las nuevas acciones procedentes de la ampliación de capital para el scrip dividend, un total de 136,30 millones de títulos, empiecen a cotizar la próxima semana (el 16 de julio).\n",
      "De esta forma, al precio actual de cotización, este paquete de acciones tendría un valor de mercado de 555,4 millones de euros, con lo que el valor total de todas las acciones de la operadora rondaría los 21.712 millones de euros.\n",
      "\u001b[34mText\u001b[0m\n",
      "Cellnex sigue su imparable camino en los mercados financieros. La compañía ha alcanzado hoy un nuevo máximo histórico intradía en Bolsa al alcanzar la cota de los 56,38 euros. De hecho, ha superado por primera vez los 56 euros. Finalmente, ha cerrado la jornada con un leve retroceso del 0,11%, hasta 55,84 euros. Este precio otorga a Cellnex una capitalización bursátil de 21.520 millones de euros, que convierten a la empresa en líder de las telecomunicaciones en Bolsa en España, por delante de Telefónica. La operadora ha caído hoy un 3,2%, hasta 4,075 euros, con lo que su valor de mercado se ha situado al cierre de la jornada en 21.157 millones de euros, según figura en su página web corporativa. De todas formas, Telefónica tiene previsto que las nuevas acciones procedentes de la ampliación de capital para el scrip dividend, un total de 136,30 millones de títulos, empiecen a cotizar la próxima semana (el 16 de julio). De esta forma, al precio actual de cotización, este paquete de acciones tendría un valor de mercado de 555,4 millones de euros, con lo que el valor total de todas las acciones de la operadora rondaría los 21.712 millones de euros. Lo cierto es que la trayectoria de ambas empresas a lo largo del año es muy diferente. Cellnex acumula una revalorización anual cercana al 46%, tras haber duplicado su valor en 2019, mientras que Telefónica cede un 34%. Cellnex está contando con un amplio respaldo del mercado angte su perspectiva de crecimiento en el segmento de las infraestructuras de telecomunicaciones. La compañía está analizando realizar una ampliación de capital, tal y como adelantó Cinco Días el pasado 11 de junio. En el mercado se están disparando las especulaciones. Según publica Bloomberg, el aumento de capital podría ser de hasta 3.000 millones de euros. El pasado año, Cellnex realizó dos aumentos de capital, uno en primavera y otro en otoño, por un importe conjunto de 3.700 millones. La situación en los mercados es propicia ante la fuerte liquidez existente, como consecuencia de la actividad de los bancos centrales, así como por la perspectiva del mantenimiento de los bajos tipos de interés y la ausencia de inflación. La ampliación de capital dependerá de la posible materialización de nuevas operaciones de adquisición de activos. Cellnex ha cerrado dos compras este año en Portugal y está pendiente de completar la adquisición de las torres de telecomunicaciones de Arqiva en Reino Unido. Cellnex ya se ha convertido en el primer proveedor independiente de infraestructuras de telecomunicaciones en Europa. Una vez que cierre todas las operaciones que tiene en marcha, alcanzará un parque de más de 61.000 emplazamientos de telefonía móvil, repartidos entre España, Italia, Francia, Portugal, Suiza, Holanda, Reino Unido e Irlanda. Telefónica, por el contrario, se ha visto penalizada por el sentimiento inversor que teme un empeoramiento de las condiciones económicas en España, su mercado principal, donde, además, hay una creciente guerra de precios entre operadoras, lo que podría penalizar sus ingresos. Además, la acción de Telefónica se ha visto penalizada por la depreciación de monedas latinoamericanas como el peso argentino y el real brasileño, por el agravamiento de la crisis en estos países, derivado del contagio del Covid-19. En cualquier caso, la mayoría de las operadoras europeas ha sufrido castigos en Bolsa durante 2020.\n"
     ]
    },
    {
     "data": {
      "text/html": [
       "<img src=\"https://d500.epimg.net/cincodias/imagenes/2020/07/07/companias/1594136514_268387_1594136660_miniatura_normal.jpg\" width=\"500\"/>"
      ],
      "text/plain": [
       "<IPython.core.display.Image object>"
      ]
     },
     "metadata": {},
     "output_type": "display_data"
    },
    {
     "data": {
      "text/markdown": [
       "<a href=\"https://cincodias.elpais.com/cincodias/2020/07/07/companias/1594136514_268387.html#?ref=rss&format=simple&link=guid\">Link</a>"
      ],
      "text/plain": [
       "<IPython.core.display.Markdown object>"
      ]
     },
     "metadata": {},
     "output_type": "display_data"
    },
    {
     "name": "stdout",
     "output_type": "stream",
     "text": [
      "\n",
      "\n",
      "\u001b[1m\u001b[32mCINCODIAS\u001b[0m\n",
      "\u001b[1m\u001b[30mTue, 7 Jul 2020 18:27:31 +0200\u001b[0m\n",
      "\u001b[1m\u001b[35mLa británica Ineo negocia la compra de la planta de Daimler en Hambach (Francia)\u001b[0m\n",
      "\u001b[34mHeadline\u001b[0m\n",
      "El grupo alemán busca flexibilizar y adaptar su producción a las condiciones actuales de mercado que ha provocado el Covid-19\n",
      "\u001b[34mSummarise\u001b[0m\n",
      "Ineos Automotive está negociando con Daimler la compra de la planta de Mercedes-Benz en Hambach (Francia) para fabricar su nuevo modelo todoterreno Grenadier.\n",
      "El consejero delegado de la firma, Dirk Heilmann, ha señalado que la sobrecapacidad ha sido un \"desafío\" para el conjunto del sector y que la crisis del coronavirus les ha abierto nuevas opciones como la adquisición de esta fábrica en Francia.\n",
      "Daimler anunció la semana pasada que estaba estudiando la venta de la planta con el propósito de mejorar su estructura de costes y aumentar la eficiencia, sobre todo tras el impacto que ha provocado la crisis del coronavirus en el sector.\n",
      "\u001b[34mText\u001b[0m\n",
      "Ineos Automotive está negociando con Daimler la compra de la planta de Mercedes-Benz en Hambach (Francia) para fabricar su nuevo modelo todoterreno Grenadier. La empresa busca evitar así la construcción de nuevas fábricas y aprovechar las capacidades productivas de la instalación del grupo alemán, según ha informado en un comunicado la compañía fundada por el millonario y defensor del Brexit Jim Ratcliffe. De hecho, Ineos ha paralizado la construcción de las plantas de Gales y Portugal, en las que preveía fabricar el Grenadier. Si finalmente se hace con el centro de Daimler, centralizará toda la producción en Francia. Este movimiento se produce en un momento en el que la pandemia del Covid-19 ha impactado negativamente en todo el sector automovilístico, desencadenando una sobrecapacidad en todo el continente, y que ahora Ineos quiere aprovechar. Pese a que la planta de Hambach es la cuna de los modelos Smart EQ fortwo, Daimler introdujo recientemente una línea dedicada a la construcción de todocaminos, que tienen un tamaño similar al futuro Grenadier. El consejero delegado de la firma, Dirk Heilmann, ha señalado que la sobrecapacidad ha sido un \"desafío\" para el conjunto del sector y que la crisis del coronavirus les ha abierto nuevas opciones como la adquisición de esta fábrica en Francia. \"El Covid-19 ha tenido un impacto en nuestros cronogramas de construcción, que ha retrasado los trabajos de limpieza del terreno y la construcción por las medidas de distanciamiento social. La seguridad es, por supuesto, primordial, pero también tenemos la obligación de hacer lo correcto para el negocio, por lo que debemos evaluar estas nuevas oportunidades para mantener o mejorar nuestros plazos\", ha aseverado Heilmann. Daimler anunció la semana pasada que estaba estudiando la venta de la planta con el propósito de mejorar su estructura de costes y aumentar la eficiencia, sobre todo tras el impacto que ha provocado la crisis del coronavirus en el sector. Según explicó la empresa, se trata de flexibilizar y adaptar la producción a las condiciones actuales de mercado, que ha registrado un hundimiento de las ventas a raíz de las medidas de confinamiento puestas en marcha por todos los gobiernos.    \n"
     ]
    },
    {
     "data": {
      "text/html": [
       "<img src=\"https://d500.epimg.net/cincodias/imagenes/2020/07/07/companias/1594139029_632511_1594139142_miniatura_normal.jpg\" width=\"500\"/>"
      ],
      "text/plain": [
       "<IPython.core.display.Image object>"
      ]
     },
     "metadata": {},
     "output_type": "display_data"
    },
    {
     "data": {
      "text/markdown": [
       "<a href=\"https://cincodias.elpais.com/cincodias/2020/07/07/companias/1594139029_632511.html#?ref=rss&format=simple&link=guid\">Link</a>"
      ],
      "text/plain": [
       "<IPython.core.display.Markdown object>"
      ]
     },
     "metadata": {},
     "output_type": "display_data"
    },
    {
     "name": "stdout",
     "output_type": "stream",
     "text": [
      "\n",
      "\n",
      "\u001b[1m\u001b[32mCINCODIAS\u001b[0m\n",
      "\u001b[1m\u001b[30mTue, 7 Jul 2020 17:34:29 +0200\u001b[0m\n",
      "\u001b[1m\u001b[35mSantander se prepara para el efecto del covid en su capital\u001b[0m\n",
      "\u001b[34mHeadline\u001b[0m\n",
      "Sus previsiones pasan por que la ratio CET-1 ronde el 12% al final del año\n",
      "\u001b[34mSummarise\u001b[0m\n",
      "Su ratio CET1, una medida clave de la fortaleza de capital, podría disminuir incluso después de que el banco reciba un impulso esperado de 20-25 puntos base por la disminución de los requisitos de capital por parte de los reguladores europeos, dijo una persona con conocimiento del asunto sin dar más detalles.\n",
      "El banco espera otro impulso de 10-20 puntos base a su índice CET1 para fin de año a través de una medida que permite a los prestamistas incluir inversiones en software como parte de su capital, dijo la persona, que pidió no ser identificada porque la información es privada.\n",
      "\u001b[34mText\u001b[0m\n",
      "Banco Santander enfrenta un potencial golpe a sus niveles de capital en el segundo trimestre después de que aumentara los préstamos a las empresas afectadas por el brote de covid-19, lo que hace que sea más difícil alcanzar el extremo superior de su rango objetivo. Su ratio CET1, una medida clave de la fortaleza de capital, podría disminuir incluso después de que el banco reciba un impulso esperado de 20-25 puntos base por la disminución de los requisitos de capital por parte de los reguladores europeos, dijo una persona con conocimiento del asunto sin dar más detalles. El banco más grande de España ha enfrentado durante mucho tiempo las críticas de los inversionistas por tener menos reservas financieras que sus pares europeos, aunque argumenta que su modelo es más resistente al estrés. La crisis del virus y la decisión de Santander de participar fuertemente en un programa de préstamos respaldado por el Estado para pequeñas empresas puede amenazar su objetivo de aumentar la relación CET1 hacia el extremo superior de su objetivo de 11% a 12% este año. El 31 de marzo se situaba en 11,58%. El banco espera otro impulso de 10-20 puntos base a su índice CET1 para fin de año a través de una medida que permite a los prestamistas incluir inversiones en software como parte de su capital, dijo la persona, que pidió no ser identificada porque la información es privada. Santander declinó hacer comentarios. Las acciones de Santander cayeron por las noticias y se cotizaron con una baja de 2,4% a las 2:24 p.m. en Madrid. La acción ha caído un 39% este año, en comparación con una caída de 45% del índice STOXX Europe Banking. El Banco Central Europeo pidió a los prestamistas que utilicen sus reservas de capital para mantener fluyendo los préstamos durante la pandemia. También les ha permitido usar deuda subordinada para ayudar a cumplir con una medida clave de fortaleza financiera, lo que reduce su requisito mínimo de capital común. Además de eso, el BCE está dando a los bancos más tiempo para abordar las deficiencias, como lidiar con sus existencias de préstamos incobrables o mejorar sus modelos de riesgo. El alivio de los reguladores debería evitar que el capital caiga más y Santander probablemente comenzará a reconstruir sus reservas durante el segundo semestre, dijo la persona. Las medidas adoptadas por la Unión Europea incluyen diferir los mayores requisitos de ratios de apalancamiento de los bancos por un año hasta enero de 2023. La medida es la relación entre el capital del banco y sus exposiciones. Santander ha sido uno de los bancos más activos en el programa de préstamos covid-19 de España, con el que el Gobierno respalda préstamos por un valor de 100.000 millones de euros (US$112.000 millones). El banco espera haber prestado 32.000 millones de euros bajo el plan para cuando se agoten las garantías actuales, dijo la persona. En marzo tenía 84.500 millones de euros de préstamos pendientes para pymes españolas. Santander hizo provisiones por 1.600 millones de euros en el primer trimestre específicamente por pérdidas relacionadas con el virus, mientras que las provisiones totales aumentaron a un récord de 3.900 millones de euros, lo que provocó una caída de 82% en los ingresos netos, dijo el banco en abril. El programa de préstamos de España se implementó en tramos, lo permite al Gobierno realizar ajustes a medida que avanzaba. Las empresas españolas habían recibido 85.200 millones de euros en financiación al 1 de julio. El Gobierno ha estado garantizando 80% de los préstamos a las pymes y 70% a las grandes empresas, mientras que los bancos asumen el riesgo restante. La semana pasada, el Gobierno prometió 40.000 millones de euros adicionales en las llamadas garantías de préstamos ICO para inyectar más fondos a las empresas españolas en dificultades. Santander ha prestado por encima de su cuota de mercado. Se le asignó alrededor de 27% del tramo final de 28.000 millones de préstamos ICO, dijo la persona. Eso se compara con una participación de mercado de 25% en préstamos para pymes.\n"
     ]
    },
    {
     "data": {
      "text/html": [
       "<img src=\"https://d500.epimg.net/cincodias/imagenes/2020/07/07/companias/1594135328_874475_1594135952_miniatura_normal.jpg\" width=\"500\"/>"
      ],
      "text/plain": [
       "<IPython.core.display.Image object>"
      ]
     },
     "metadata": {},
     "output_type": "display_data"
    },
    {
     "data": {
      "text/markdown": [
       "<a href=\"https://cincodias.elpais.com/cincodias/2020/07/07/companias/1594135328_874475.html#?ref=rss&format=simple&link=guid\">Link</a>"
      ],
      "text/plain": [
       "<IPython.core.display.Markdown object>"
      ]
     },
     "metadata": {},
     "output_type": "display_data"
    },
    {
     "name": "stdout",
     "output_type": "stream",
     "text": [
      "\n",
      "\n",
      "\u001b[1m\u001b[32mCINCODIAS\u001b[0m\n",
      "\u001b[1m\u001b[30mTue, 7 Jul 2020 15:49:29 +0200\u001b[0m\n",
      "\u001b[1m\u001b[35mMercadona implanta la jornada laboral de 5 días en sus supermercados\u001b[0m\n",
      "\u001b[34mHeadline\u001b[0m\n",
      "Los empleados trabajarán cinco días a la semana y descansarán dos\n",
      "\u001b[34mSummarise\u001b[0m\n",
      "De este modo, Mercadona quiere reforzar su \"compromiso con el empleo estable y de calidad\" y con la puesta en marcha de \"medidas pioneras de conciliación laboral y familiar\", que la compañía lleva a cabo desde hace más de 25 años, cuando decidió iniciar el proceso de convertir en fijos a toda la plantilla.\n",
      "A partir del 3 de agosto, los trabajadores de Mercadona podrán disfrutar de 2 días de descanso semanales y de 8 fines de semana \"de calidad\" al año compuestos por sábado, domingo y lunes.\n",
      "\u001b[34mText\u001b[0m\n",
      "Mercadona implantará la jornada laboral 5+2 en todas sus tiendas a partir del próximo 3 de agosto. La medida, que se incorpora tras haber realizado una prueba de horarios en 31 supermercados, permitirá a todo el personal de tienda trabajar 5 días a la semana y disfrutar de 2 días de descanso. Además, introduce una iniciativa pionera en el sector, ya que todos los trabajadores de los supermercados de Mercadona dispondrán de 8 fines de semana largos al año (sábado, domingo y lunes). Así lo ha firmado la compañía que preside Juan Roig con el Comité Intercentros de Empresa, formado por la Unión General de Trabajadores (UGT) y Comisiones Obreras (CCOO), en el marco del Observatorio del Convenio Colectivo que la representación social y la empresa crearon en 2019 para impulsar medidas de este tipo, han anunciado en un comunicado conjunto. De este modo, Mercadona quiere reforzar su \"compromiso con el empleo estable y de calidad\" y con la puesta en marcha de \"medidas pioneras de conciliación laboral y familiar\", que la compañía lleva a cabo desde hace más de 25 años, cuando decidió iniciar el proceso de convertir en fijos a toda la plantilla. La medida es fruto del compromiso de la empresa con la creación de valor para su plantilla, así como de la labor de impulso realizada desde el Observatorio, cuyo \"diálogo fluido\" permite estudiar e implementar propuestas como las hoy acordadas entre Mercadona y los sindicatos, resalta el comunicado. La secretaria sectorial de comercio de la FeSMC de UGT, Ana Micó, ha valorado la \"modificación sustancial\" de las condiciones de trabajo que ahora se rubrican como un \"referente en el sector de comercio y en concreto en el sector supermercados\". A partir del 3 de agosto, los trabajadores de Mercadona podrán disfrutar de 2 días de descanso semanales y de 8 fines de semana \"de calidad\" al año compuestos por sábado, domingo y lunes. \"Es la materialización de un compromiso que UGT mantenía con los empleados y para el que ha trabajado de manera intensa y exhaustiva durante un año y medio\", ha subrayado. También la responsable estatal de Comercio de la Federación de Servicios de CCOO, Ángeles Rodríguez, ha resaltado que este acuerdo supone un \"hito para el sector de supermercados en España\". La plantilla de Mercadona, ha apuntado, va a ser \"la primera del sector\" en poder disfrutar de tres días libres seguidos: sábado, domingo y lunes. Para CCOO este acuerdo es un \"ejemplo de lo que se puede conseguir desde una negociación con visión de futuro, y demuestra que en el sector del comercio se pueden aplicar medidas que permitan una mejor conciliación de la vida laboral y personal\". Condiciones laborales Desde la compañía, la directora de Relaciones Laborales de Mercadona, Ruth García, ha celebrado que este es \"un día muy especial para Mercadona porque la jornada laboral 5+2 representa un paso muy importante en la mejora continua de las condiciones laborales que caracteriza a la compañía desde hace más de 25 años\". Durante todo este tiempo, muchas han sido las iniciativas incorporadas, desde apostar por el empleo estable y de calidad, a hacerlo de forma decidida por la igualdad; o compartir el 25% del beneficio generado con la plantilla, reforzar las medidas de conciliación y que el salario mínimo en Mercadona sea un 50% superior al Salario Mínimo Interprofesional cuando una persona lleva 4 años en nuestra empresa, algo que actualmente sucede con el 90% de la plantilla. \"Estamos convencidos de que este es el camino para seguir mejorando. Y también, de que ninguna de estas medidas sería hoy una realidad sin nuestro Modelo de Calidad Total y las aportaciones de las trabajadoras, los trabajadores y de sus representantes sindicales. Son ellos, sin duda, las personas que formamos Mercadona, las que contribuyen a que continuemos avanzando para estar a la vanguardia y ser pionera en aspectos laborales y sociales\", concluye la directora de Relaciones Laborales de Mercadona, Ruth García.\n"
     ]
    },
    {
     "data": {
      "text/html": [
       "<img src=\"https://d500.epimg.net/cincodias/imagenes/2020/07/07/companias/1594130974_155680_1594131455_miniatura_normal.jpg\" width=\"500\"/>"
      ],
      "text/plain": [
       "<IPython.core.display.Image object>"
      ]
     },
     "metadata": {},
     "output_type": "display_data"
    },
    {
     "data": {
      "text/markdown": [
       "<a href=\"https://cincodias.elpais.com/cincodias/2020/07/07/companias/1594130974_155680.html#?ref=rss&format=simple&link=guid\">Link</a>"
      ],
      "text/plain": [
       "<IPython.core.display.Markdown object>"
      ]
     },
     "metadata": {},
     "output_type": "display_data"
    },
    {
     "name": "stdout",
     "output_type": "stream",
     "text": [
      "\n",
      "\n",
      "\u001b[1m\u001b[32mCINCODIAS\u001b[0m\n",
      "\u001b[1m\u001b[30mTue, 7 Jul 2020 13:44:06 +0200\u001b[0m\n",
      "\u001b[1m\u001b[35mLa Cámara de Comercio apuesta por fomentar la transición hacia la digitalización con incentivos fiscales\u001b[0m\n",
      "\u001b[34mHeadline\u001b[0m\n",
      "Pide que se equiparen las deducciones por digitalización a las de I+D+i\n",
      "\u001b[34mSummarise\u001b[0m\n",
      "Además, defiende que la nueva ley de teletrabajo sea \"muy flexible\" y \"equilibrada\", y recomienda fomentar la transición hacia la digitalización con incentivos fiscales similares a las deducciones que existen actualmente para el I+D+i.\n",
      "\"La transición digital no es una opción sino una necesidad y es fundamental establecer condiciones apropiadas para que sea inclusiva, sostenible social y financieramente y equilibrada y justa\", ha señalado el presidente de la Cámara de Comercio de España, José Luis Bonet, en rueda de prensa telemática.\n",
      "\u001b[34mText\u001b[0m\n",
      "La Cámara de Comercio de España aboga porque se impulse la transformación digital aprovechando la coyuntura que ha provocado la crisis del Covid-19, que ha forzado al teletrabajo a muchas empresas. En este sentido, ha pedido al Gobierno que elabore un nuevo marco normativo que permita afrontar \"con garantías\" una transición digital \"inclusiva, sostenible, equilibrada y justa\". Además, defiende que la nueva ley de teletrabajo sea \"muy flexible\" y \"equilibrada\", y recomienda fomentar la transición hacia la digitalización con incentivos fiscales similares a las deducciones que existen actualmente para el I+D+i. El Comité de Digitalización de la Cámara de Comercio de España ha presentado este martes un documento que recoge 65 propuestas para que la economía y la sociedad española den el salto definitivo hacia la digitalización, denominado Iniciativa para la Transición Digital y que elaboró antes de que estallara la crisis sanitaria. \"La transición digital no es una opción sino una necesidad y es fundamental establecer condiciones apropiadas para que sea inclusiva, sostenible social y financieramente y equilibrada y justa\", ha señalado el presidente de la Cámara de Comercio de España, José Luis Bonet, en rueda de prensa telemática. Entre las principales medidas que recoge el informe destacan las fiscales, con incentivos al emprendimiento y con una tasa digital, ya sea al amparo de la OCDE, de Europa o a nivel nacional. También aboga por equiparar las deducciones por \"digitalización\" a las de I+D+i, revisando y ampliando los límites para la aplicación de deducciones, por crear un certificado de pyme 100% digital con incentivos fiscales asociados a las empresas que lo obtengan y por mejorar la fiscalidad de las opciones sobre acciones (stock options) como herramienta fundamental para atraer y retener talento. Además, apuesta por crear un programa de impulso de la inversión privada en startups y pymes de base innovadora con beneficios fiscales que reconozcan y favorezcan esa inversión y por impulsar la colaboración público privada. En el ámbito laboral, el organismo señala que se debe revisar la normativa para abordar los diferentes modelos de teletetrabajo. En este sentido, Bonet ha indicado que aunque el teletrabajo es un valor añadido, \"la presencia física es clave y necesaria en las relaciones humanas\", y ha incidido en que \"debe buscarse una regulación muy flexible y muy de entendimiento de la gente dentro de las organizaciones\". \"Hay que ver ventajas y también todas las desviaciones que pueda haber, y poner sentido común en la regulación\", ha aseverado. Por su parte, el presidente de la Comisión de Digitalización, Carlos López Blanco, ha puntualizado que la transición digital debe tener las mismas reglas para todos, subrayando que en el teletrabajo se debe huir de los prejuicios de que es un \"chollo para trabajar menos o de los que dicen que se trabaja más\". Otras medidas por las que aboga la Cámara para abordar la transición ecológica son la aprobación urgente de la carta de Derechos Digitales, el apagón analógico para que toda la administración sea digital, la implantación definitiva de la factura electrónica, un Plan Renove de aplicaciones informáticas con ayudas públicas y promover con incentivos los programas de compra de tecnologías innovadoras. Todo ello enmarcado en una Ley de base que debe regirse en los valores económicos comunes con la UE, en una competencia equilibrada y en la participación de los agentes sociales.\n"
     ]
    },
    {
     "data": {
      "text/html": [
       "<img src=\"https://d500.epimg.net/cincodias/imagenes/2020/07/07/companias/1594115516_388509_1594122148_miniatura_normal.jpg\" width=\"500\"/>"
      ],
      "text/plain": [
       "<IPython.core.display.Image object>"
      ]
     },
     "metadata": {},
     "output_type": "display_data"
    },
    {
     "data": {
      "text/markdown": [
       "<a href=\"https://cincodias.elpais.com/cincodias/2020/07/07/companias/1594115516_388509.html#?ref=rss&format=simple&link=guid\">Link</a>"
      ],
      "text/plain": [
       "<IPython.core.display.Markdown object>"
      ]
     },
     "metadata": {},
     "output_type": "display_data"
    },
    {
     "name": "stdout",
     "output_type": "stream",
     "text": [
      "\n",
      "\n",
      "\u001b[1m\u001b[32mCINCODIAS\u001b[0m\n",
      "\u001b[1m\u001b[30mTue, 7 Jul 2020 13:33:41 +0200\u001b[0m\n",
      "\u001b[1m\u001b[35mEl mercado de coches de ocasión cae un 28,4% en el semestre\u001b[0m\n",
      "\u001b[34mHeadline\u001b[0m\n",
      "El mercado de segunda mano se recupera del \"shock\" que sufrió durante los meses de confinamiento por la pandemia\n",
      "\u001b[34mSummarise\u001b[0m\n",
      "Tan solo en junio, bajaron un 5,9% frente al mismo mes del año pasado, hasta 164.334 operaciones, lo que representa una recuperación en V de la crisis provocada por el Covid-19, según la patronal de la distribución.\n",
      "Asimismo, la asociación ha indicado que el esfuerzo promocional realizado por las redes de distribución para poder dar salida al stock acumulado durante el confinamiento y el carácter retroactivo de las ayudas del Plan Renove son los motivos que han impulsado que las ventas de modelos de entre cinco y seis meses de antigüedad, que subieron un 70% el mes pasado.\n",
      "\u001b[34mText\u001b[0m\n",
      "Las ventas de vehículos de ocasión en España cayeron un 28,4% en el primer semestre del año en comparación con la primera mitad de 2019, hasta 774.793 unidades, según datos de Ideauto para la Asociación Nacional de Vendedores de Vehículos a Motor, Reparación y Recambios (Ganvam). Tan solo en junio, bajaron un 5,9% frente al mismo mes del año pasado, hasta 164.334 operaciones, lo que representa una recuperación en V de la crisis provocada por el Covid-19, según la patronal de la distribución. Ganvam ha subrayado que el mercado de segunda mano se está recuperando del \"shock\" que sufrió durante los meses de confinamiento por la pandemia, ya que llegaron a descender hasta un 65% en mayo, con 68.119 operaciones. \"El usado se convierte en un valor refugio en tiempos de incertidumbre económica\", han destacado desde Ganvam, resaltando que por cada automóvil nuevo se vendieron 1,9 usados en junio. Asimismo, la asociación ha indicado que el esfuerzo promocional realizado por las redes de distribución para poder dar salida al stock acumulado durante el confinamiento y el carácter retroactivo de las ayudas del Plan Renove son los motivos que han impulsado que las ventas de modelos de entre cinco y seis meses de antigüedad, que subieron un 70% el mes pasado. La directora de Comunicación de Ganvam, Tania Puche, ha señalado que el hecho de que el Renove no obligue al distribuidor adelantar el importe de la ayuda \"ha supuesto un impulso para la venta de estos seminuevos en junio\". \"Ampliar el rango de edad de los seminuevos acogidos al plan, permitiría al comprador acceder a una mayor oferta -porque al final el stock de usados de pocos meses es muy reducido-, lo que no solo dinamiza las ventas, sino que acelera el ritmo de renovación del parque y la retirada de vehículos más antiguos\", ha aseverado.\n"
     ]
    },
    {
     "data": {
      "text/html": [
       "<img src=\"https://d500.epimg.net/cincodias/imagenes/2020/07/07/companias/1594121427_911039_1594121533_miniatura_normal.jpg\" width=\"500\"/>"
      ],
      "text/plain": [
       "<IPython.core.display.Image object>"
      ]
     },
     "metadata": {},
     "output_type": "display_data"
    },
    {
     "data": {
      "text/markdown": [
       "<a href=\"https://cincodias.elpais.com/cincodias/2020/07/07/companias/1594121427_911039.html#?ref=rss&format=simple&link=guid\">Link</a>"
      ],
      "text/plain": [
       "<IPython.core.display.Markdown object>"
      ]
     },
     "metadata": {},
     "output_type": "display_data"
    },
    {
     "name": "stdout",
     "output_type": "stream",
     "text": [
      "\n",
      "\n",
      "\u001b[1m\u001b[32mCINCODIAS\u001b[0m\n",
      "\u001b[1m\u001b[30mTue, 7 Jul 2020 13:14:44 +0200\u001b[0m\n",
      "\u001b[1m\u001b[35mEl textil redujo un 26% las ventas en junio pese a la reapertura de las tiendas y los descuentos\u001b[0m\n",
      "\u001b[34mHeadline\u001b[0m\n",
      "El sector cierra el semestre con una caída del 39%, según Acotex\n",
      "\u001b[34mSummarise\u001b[0m\n",
      "Un periodo en el que se completó la desescalada en buena parte del país y en el que la mayor parte de los comercios pudieron reabrir sus puertas, aunque con limitaciones de aforo y durante varios días también de superficie dependiendo de su ubicación, si bien los descuentos se sucedieron durante las semanas previas al comienzo \"oficial\" de las rebajas, ya a finales de mes.\n",
      "La caída, profunda respecto al mismo mes del año pasado, sí es más moderada que en mayo y sobre todo que en abril, cuando las ventas de todo el sector se derrumbaron casi un 90% por el cierre obligado de las tiendas durante el estado de alarma, siendo el canal online el único que generaba ingresos.\n",
      "\u001b[34mText\u001b[0m\n",
      "El sector textil sufrió una caída del 26% en sus ventas del mes de junio, según datos de la patronal Acotex. Un periodo en el que se completó la desescalada en buena parte del país y en el que la mayor parte de los comercios pudieron reabrir sus puertas, aunque con limitaciones de aforo y durante varios días también de superficie dependiendo de su ubicación, si bien los descuentos se sucedieron durante las semanas previas al comienzo \"oficial\" de las rebajas, ya a finales de mes. La caída, profunda respecto al mismo mes del año pasado, sí es más moderada que en mayo y sobre todo que en abril, cuando las ventas de todo el sector se derrumbaron casi un 90% por el cierre obligado de las tiendas durante el estado de alarma, siendo el canal online el único que generaba ingresos. En mayo la caída fue algo menor, pero importante, del 72,6%. Durante ese mes comenzaron a abrir las primeras tiendas de forma gradual, según su superficie y su ubicación, y con medidas de restricción de aforo. En el acumulado del año la caída alcanza el 39%, lo que supone cerrar el peor primer semestre para el sector desde que se recogen datos. \"En el mes de junio se han podido abrir las tiendas aunque muchas de ellas abrieron avanzado el mes de junio y con restricciones en la movilidad de la ciudadanía\", explican desde Acotex. La asociación explica que \"el comercio textil y complementos se encuentra en una situación muy delicada siendo necesarias medidas urgentes y específicas para el sector. Con este descenso tan importante de ventas no nos valen moratorias en los impuestos, tasas, tributos o en las cuotas de la seguridad social es necesario la condonación de los mismos\". En concreto, Acotex pide liquidez \"y no más endeudamiento\" así como una solución para el pago de los alquileres de los locales, \"a los que no podemos hacer frente mientras sigamos con estos niveles tan bajos de ventas\". También reclaman más flexibilidad y extender los ERTE al menos hasta fin de año.\n"
     ]
    },
    {
     "data": {
      "text/html": [
       "<img src=\"https://d500.epimg.net/cincodias/imagenes/2020/07/07/companias/1594120154_400392_1594120368_miniatura_normal.jpg\" width=\"500\"/>"
      ],
      "text/plain": [
       "<IPython.core.display.Image object>"
      ]
     },
     "metadata": {},
     "output_type": "display_data"
    },
    {
     "data": {
      "text/markdown": [
       "<a href=\"https://cincodias.elpais.com/cincodias/2020/07/07/companias/1594120154_400392.html#?ref=rss&format=simple&link=guid\">Link</a>"
      ],
      "text/plain": [
       "<IPython.core.display.Markdown object>"
      ]
     },
     "metadata": {},
     "output_type": "display_data"
    },
    {
     "name": "stdout",
     "output_type": "stream",
     "text": [
      "\n",
      "\n",
      "\u001b[1m\u001b[32mCINCODIAS\u001b[0m\n",
      "\u001b[1m\u001b[30mTue, 7 Jul 2020 12:10:28 +0200\u001b[0m\n",
      "\u001b[1m\u001b[35mMagneti Marelli revisará la continuidad de 1.200 empleados tras el cierre de Nissan en Barcelona\u001b[0m\n",
      "\u001b[34mHeadline\u001b[0m\n",
      "La empresa contruyó una planta en la Ciudad Condal en línea con la producción del fabricante japonés\n",
      "\u001b[34mSummarise\u001b[0m\n",
      "El presidente de Magneti Marelli, Hiroshi Moriya, ha anunciado este martes que su compañía tendrá que revisar el futuro de 1.200 empleados si no encuentra un nuevo cliente tras el cierre de las plantas de Nissan en Barcelona.\n",
      "Nissan confirmó el 28 de mayo su intención de cerrar sus instalaciones en Barcelona en diciembre de este año como parte de una estrategia global para reducir su capacidad de producción ante la caída de las ventas, que se ha agudizado por los efectos de la pandemia de coronavirus.\n",
      "\u001b[34mText\u001b[0m\n",
      "El presidente de Magneti Marelli, Hiroshi Moriya, ha anunciado este martes que su compañía tendrá que revisar el futuro de 1.200 empleados si no encuentra un nuevo cliente tras el cierre de las plantas de Nissan en Barcelona. \"Teniendo en cuenta que hemos construido una fábrica en línea con la producción de Nissan, tenemos que reducirla de la misma manera\", ha afirmado Moriya en una entrevista al diario financiero japonés Nikkei. Fiat Chrysler Automobiles (FCA) vendió Marelli a la compañía japonesa Calsonic Kansei, controlada por KKR, en octubre de 2018 por 6.200 millones de euros. La empresa, que pasó a llamarse Magneti Marelli, provee a Nissan las lámparas internas de los modelos que ensambla en la Ciudad Condal, además de otros componentes eléctricos. \"Nosotros también tenemos una fábrica en Barcelona. Si no podemos encontrar un cliente, tendremos que considerar reestructurar la situación de 1.200 empleados\", ha añadido el presidente de Marelli. Nissan confirmó el 28 de mayo su intención de cerrar sus instalaciones en Barcelona en diciembre de este año como parte de una estrategia global para reducir su capacidad de producción ante la caída de las ventas, que se ha agudizado por los efectos de la pandemia de coronavirus. Esa decisión dejará en la calle a unos 2.500 empleados de los 3.000 que prestaban servicio en las instalaciones catalanas.\n"
     ]
    },
    {
     "data": {
      "text/html": [
       "<img src=\"https://d500.epimg.net/cincodias/imagenes/2020/07/07/companias/1594116301_904372_1594116532_miniatura_normal.jpg\" width=\"500\"/>"
      ],
      "text/plain": [
       "<IPython.core.display.Image object>"
      ]
     },
     "metadata": {},
     "output_type": "display_data"
    },
    {
     "data": {
      "text/markdown": [
       "<a href=\"https://cincodias.elpais.com/cincodias/2020/07/07/companias/1594116301_904372.html#?ref=rss&format=simple&link=guid\">Link</a>"
      ],
      "text/plain": [
       "<IPython.core.display.Markdown object>"
      ]
     },
     "metadata": {},
     "output_type": "display_data"
    },
    {
     "name": "stdout",
     "output_type": "stream",
     "text": [
      "\n",
      "\n",
      "\u001b[1m\u001b[32mCINCODIAS\u001b[0m\n",
      "\u001b[1m\u001b[30mTue, 7 Jul 2020 11:46:10 +0200\u001b[0m\n",
      "\u001b[1m\u001b[35mBBVA concentra la gestión de las tarjetas dadas de alta en comercios electrónicos en su app\u001b[0m\n",
      "\u001b[34mHeadline\u001b[0m\n",
      "La funcionalidad estará disponible a partir de octubre y da los usuarios un mayor control de los instrumentos de pago que almacenan en la red\n",
      "\u001b[34mSummarise\u001b[0m\n",
      "También podrán gestionar todas las tarjetas adheridas a Google Pay, Apple Pay o Samsung Pay. La nueva funcionalidad de servicios y comercios vinculados a la tarjeta de la aplicación del banco, que estará disponible a partir de octubre, otorga a los usuarios un mayor control de los instrumentos de pago que almacenan en la red, según ha detallado este martes BBVA en rueda de prensa virtual.\n",
      "Según un estudio de BBVA Research sobre el impacto del Covid-19 en el consumo, desde finales de marzo y hasta mediados de mayo, las compras online cayeron menos que las presenciales, lo que incrementó el peso del comercio electrónico en el gasto total.\n",
      "\u001b[34mText\u001b[0m\n",
      "BBVA permitirá a sus clientes gestionar a través de su aplicación móvil todas las tarjetas bancarias que estos hayan dado de alta en comercios o plataformas electrónicas. También podrán gestionar todas las tarjetas adheridas a Google Pay, Apple Pay o Samsung Pay. La nueva funcionalidad de servicios y comercios vinculados a la tarjeta de la aplicación del banco, que estará disponible a partir de octubre, otorga a los usuarios un mayor control de los instrumentos de pago que almacenan en la red, según ha detallado este martes BBVA en rueda de prensa virtual. La entidad está implementando un método de tokenización para reemplazar los datos sensibles de la tarjeta bancaria por un código único identificativo, denominado token y que se emplea durante la transacción digital. De este modo, se elimina la necesidad de exponer los datos reales de la tarjeta para hacer las operaciones digitales más seguras. A través de este método, BBVA detectará en qué comercios electrónicos el cliente ha introducido los datos de sus tarjetas y se los mostrará en la posición global de su app para smartphones. Además, en el primer trimestre de 2021, también se podrán activar y desactivar las tarjetas o borrar los datos de estas de los portales web sin la necesidad de entrar a ellos. Por su parte, en caso de renovación de la tarjeta por caducidad, esta se actualizará automáticamente en los portales donde esté dada de alta. \"La ubicuidad de nuestras credenciales de pago es cada vez más extensa. Tenemos nuestras tarjetas en sitios para comprar online, en dispositivos móviles... En el futuro estará en un coche o en una nevera con el Internet de las cosas. Ahora somos capaces de ofrecer más seguridad y control al cliente\", ha señalado el director de Soluciones de Pagos Digitales de BBVA, Jorge Moreno. Moreno ha insistido en que, gracias a la tokenización de las tarjetas, se incrementa la seguridad a la hora de realizar pagos, ya que los códigos se generan para un comercio y un dispositivo móvil en concreto y no quedan guardados en ningún servidor. Los clientes de BBVA podrán ya visualizar a través de su móvil las tarjetas o pagos en plataformas como Netflix, Paypal, Amazon, Microsoft, Uber o Glovo, entre otras. Según un estudio de BBVA Research sobre el impacto del Covid-19 en el consumo, desde finales de marzo y hasta mediados de mayo, las compras online cayeron menos que las presenciales, lo que incrementó el peso del comercio electrónico en el gasto total. A finales de marzo, el gasto electrónico representaba el 20% del total, frente al 18% del mismo periodo en 2019. Con datos hasta mediados de junio, el banco observa un aumento del gasto online en las categorías ligadas al consumo en el hogar, mientras que retrocede en las relacionadas con desplazamientos debido a las restricciones de movilidad por la pandemia. BBVA subraya que las menores restricciones de movilidad están favoreciendo las compras presenciales con tarjeta, que ganan mayor peso en el gasto total de las compras realizadas con este medio de pago.\n"
     ]
    },
    {
     "data": {
      "text/html": [
       "<img src=\"https://d500.epimg.net/cincodias/imagenes/2020/07/07/companias/1594112552_752297_1594115066_miniatura_normal.jpg\" width=\"500\"/>"
      ],
      "text/plain": [
       "<IPython.core.display.Image object>"
      ]
     },
     "metadata": {},
     "output_type": "display_data"
    },
    {
     "data": {
      "text/markdown": [
       "<a href=\"https://cincodias.elpais.com/cincodias/2020/07/07/companias/1594112552_752297.html#?ref=rss&format=simple&link=guid\">Link</a>"
      ],
      "text/plain": [
       "<IPython.core.display.Markdown object>"
      ]
     },
     "metadata": {},
     "output_type": "display_data"
    },
    {
     "name": "stdout",
     "output_type": "stream",
     "text": [
      "\n",
      "\n",
      "\u001b[1m\u001b[32mCINCODIAS\u001b[0m\n",
      "\u001b[1m\u001b[30mTue, 7 Jul 2020 10:54:46 +0200\u001b[0m\n",
      "\u001b[1m\u001b[35mTelefónica se refuerza en la ciberseguridad al entrar en Nozomi Networks\u001b[0m\n",
      "\u001b[34mHeadline\u001b[0m\n",
      "Está especializada en seguridad y sistemas de control industrial\n",
      "\u001b[34mSummarise\u001b[0m\n",
      "En este caso, la teleco, a través de su vehículo de corporate venture capital, Telefónica Innovation Ventures (TIV), ha realizado una inversión en Nozomi Networks Inc., una compañía estadounidense especializada en seguridad y sistemas de control industrial presente en 16 países que permite visualizar en tiempo real el riesgo cibernético, así como gestionar y mejorar la resiliencia de las operaciones industriales.\n",
      "“Este acuerdo permite a los operadores de infraestructuras industriales obtener visibilidad avanzada y gestionar su seguridad a través de una solución MSSP inteligente”, explica Telefónica, añadiendo que el servicio de seguridad de ElevenPaths integra la solución de Nozomi Networks que proporciona capacidades de gestión de riesgos para todos los clientes con redes industriales e infraestructuras críticas en sectores como el energético y servicios públicos.\n",
      "\u001b[34mText\u001b[0m\n",
      "Telefónica ha lanzado una nueva apuesta en el ámbito de la ciberseguridad, uno de los pilares de crecimiento de la mano de la nueva división Tech. En este caso, la teleco, a través de su vehículo de corporate venture capital, Telefónica Innovation Ventures (TIV), ha realizado una inversión en Nozomi Networks Inc., una compañía estadounidense especializada en seguridad y sistemas de control industrial presente en 16 países que permite visualizar en tiempo real el riesgo cibernético, así como gestionar y mejorar la resiliencia de las operaciones industriales. La compañía no ha precisado el importe de la operación. En un comunicado, la operadora precisa que Nozomi está especializada en en proteger infraestructuras de tecnología operativa (TO) e Internet de las cosas (IoT) en sectores como el energético, el farmacéutico, el manufacturero, el logístico o la industria automotriz. Las soluciones de Nozomi Networks soportan más de 3,6 millones de dispositivos en más de 2.400 instalaciones en los sectores de la energía, manufacturero, la minería, el transporte, los servicios públicos, la automatización de edificios, las ciudades inteligentes e infraestructuras críticas. Los productos de Nozomi Networks se pueden desplegar in situ y en la nube y abarcan los distintos ámbitos de este segmento, para automatizar el arduo trabajo de inventariar, visualizar y supervisar las redes de control industrial mediante el uso innovador de la inteligencia artificial. Los casos de uso se extienden más allá de la ciberseguridad e incluyen la solución de problemas, la gestión de activos y el mantenimiento predictivo. “Con esta inversión en Nozomi Networks queremos reforzar la apuesta de Telefónica por la ciberseguridad en entornos industriales y activos críticos expuestos a continuas y cambiantes amenazas. Para ayudar a minimizar esos riesgos son muy importantes los sistemas de monitorización y detección de amenazas y en este campo la tecnología que desarrolla Nozomi Networks con la utilización de la inteligencia artificial es fundamental para nuestros clientes industriales”, explica Guenia Gawendo, directora de Telefónica Innovation Ventures. La inversión a través de TIV refuerza el acuerdo de colaboración anunciado a principios de año entre ElevenPaths, la compañía de ciberseguridad integrada en la citada Tech y Nozomi Networks. “Este acuerdo permite a los operadores de infraestructuras industriales obtener visibilidad avanzada y gestionar su seguridad a través de una solución MSSP inteligente”, explica Telefónica, añadiendo que el servicio de seguridad de ElevenPaths integra la solución de Nozomi Networks que proporciona capacidades de gestión de riesgos para todos los clientes con redes industriales e infraestructuras críticas en sectores como el energético y servicios públicos. En los próximos cuatro años, se espera una tasa de crecimiento anual compuesta (CAGR) de 23% en el mercado de la seguridad en los sistemas de control industrial (ICS). La financiación total de Nozomi Networks hasta la fecha supera los 54 millones de dólares con inversores de primer nivel, incluyendo GGV Capital, Lux Capital, Energize Ventures y Planven Investments. Con esta inversión, Telefónica Innovation Ventures amplía a 11 el número de startups invertidas, partners tecnológicos vinculados con la estrategia global del grupo y la transformación de la industria telco.\n"
     ]
    },
    {
     "data": {
      "text/html": [
       "<img src=\"https://d500.epimg.net/cincodias/imagenes/2020/07/07/companias/1594111837_772673_1594114016_miniatura_normal.jpg\" width=\"500\"/>"
      ],
      "text/plain": [
       "<IPython.core.display.Image object>"
      ]
     },
     "metadata": {},
     "output_type": "display_data"
    },
    {
     "data": {
      "text/markdown": [
       "<a href=\"https://cincodias.elpais.com/cincodias/2020/07/07/companias/1594111837_772673.html#?ref=rss&format=simple&link=guid\">Link</a>"
      ],
      "text/plain": [
       "<IPython.core.display.Markdown object>"
      ]
     },
     "metadata": {},
     "output_type": "display_data"
    },
    {
     "name": "stdout",
     "output_type": "stream",
     "text": [
      "\n",
      "\n",
      "\u001b[1m\u001b[32mCINCODIAS\u001b[0m\n",
      "\u001b[1m\u001b[30mTue, 7 Jul 2020 10:10:44 +0200\u001b[0m\n",
      "\u001b[1m\u001b[35mIberdrola obtiene en Australia la autorización para su opa sobre Infigen\u001b[0m\n",
      "\u001b[34mHeadline\u001b[0m\n",
      "La oferta es de 0,89 dólares australianos (0,545 euros) por acción, lo que supone valorar la compañía en 869,92 millones de dólares australianos (unos 533 millones de euros)\n",
      "\u001b[34mSummarise\u001b[0m\n",
      "Iberdrola ha obtenido de la Junta de Revisión de Inversiones Extranjeras (FIRB) de Australia la pertinente autorización para su opa sobre Infigen, después de que el consejo de administración de la compañía australiana decidiera por unanimidad recomendar a los accionistas que acepten la propuesta.\n",
      "Infigen es una de las mayores compañías de renovables de Australia con una capacidad instalada de 670 megavatios (MW) y proyectos en cartera por más de 1 gigavatio (GW), y si se cierra la operación Iberdrola se convertiría en el líder del mercado de la región de Australia del Sur por capacidad instalada, con casi 1.000 MW.\n",
      "\u001b[34mText\u001b[0m\n",
      "Iberdrola ha obtenido de la Junta de Revisión de Inversiones Extranjeras (FIRB) de Australia la pertinente autorización para su opa sobre Infigen, después de que el consejo de administración de la compañía australiana decidiera por unanimidad recomendar a los accionistas que acepten la propuesta. La oferta es de 0,89 dólares australianos (0,545 euros) por acción, lo que supone valorar Infigen en 869,92 millones de dólares australianos (unos 533 millones de euros). Iberdrola condicionó su opa a alcanzar una participación de más del 50 % del capital, sobre lo cual ha alcanzado un principio de acuerdo con los principales accionistas de la australiana, The Children's Investmnet Fund (TCI), a los que la compañía española adquirirá un 20 % del capital si las autoridades de su país aprobaban la operación sin condiciones, lo que ha ocurrido hoy. Infigen es una de las mayores compañías de renovables de Australia con una capacidad instalada de 670 megavatios (MW) y proyectos en cartera por más de 1 gigavatio (GW), y si se cierra la operación Iberdrola se convertiría en el líder del mercado de la región de Australia del Sur por capacidad instalada, con casi 1.000 MW.\n"
     ]
    },
    {
     "data": {
      "text/html": [
       "<img src=\"https://d500.epimg.net/cincodias/imagenes/2020/07/07/companias/1594109443_898365_1594109526_miniatura_normal.jpg\" width=\"500\"/>"
      ],
      "text/plain": [
       "<IPython.core.display.Image object>"
      ]
     },
     "metadata": {},
     "output_type": "display_data"
    },
    {
     "data": {
      "text/markdown": [
       "<a href=\"https://cincodias.elpais.com/cincodias/2020/07/07/companias/1594109443_898365.html#?ref=rss&format=simple&link=guid\">Link</a>"
      ],
      "text/plain": [
       "<IPython.core.display.Markdown object>"
      ]
     },
     "metadata": {},
     "output_type": "display_data"
    },
    {
     "name": "stdout",
     "output_type": "stream",
     "text": [
      "\n",
      "\n",
      "\u001b[1m\u001b[32mCINCODIAS\u001b[0m\n",
      "\u001b[1m\u001b[30mTue, 7 Jul 2020 09:30:50 +0200\u001b[0m\n",
      "\u001b[1m\u001b[35mSamsung anticipa un aumento del 22,7% del beneficio operativo en el segundo trimestre\u001b[0m\n",
      "\u001b[34mHeadline\u001b[0m\n",
      "El gigante de Suwon advirtió de que sus ventas entre abril y junio serán un 7,35% inferiores a las del segundo trimestre de 2019\n",
      "\u001b[34mSummarise\u001b[0m\n",
      "Samsung Electronics espera contabilizar un beneficio operativo de 8,1 billones de wones (5.995 millones de euros) en el segundo trimestre de 2020, lo que supondría un incremento del 22,7% en comparación con su resultado del mismo periodo del año pasado, a pesar del impacto de la pandemia de Covid-19, según informó el fabricante surcoreano.\n",
      "No obstante, el gigante de Suwon advirtió de que sus ventas entre abril y junio serán un 7,35% inferiores a las del segundo trimestre de 2019, situándose en 52 billones de wones (38.488 millones de euros.\n",
      "\u001b[34mText\u001b[0m\n",
      "Samsung Electronics espera contabilizar un beneficio operativo de 8,1 billones de wones (5.995 millones de euros) en el segundo trimestre de 2020, lo que supondría un incremento del 22,7% en comparación con su resultado del mismo periodo del año pasado, a pesar del impacto de la pandemia de Covid-19, según informó el fabricante surcoreano. No obstante, el gigante de Suwon advirtió de que sus ventas entre abril y junio serán un 7,35% inferiores a las del segundo trimestre de 2019, situándose en 52 billones de wones (38.488 millones de euros. Según analistas consultados por la agencia surcoreana Yonhap, el negocio de semiconductores de Samsung habría contribuido al buen desempeño general de la compañía en el segundo trimestre, ya que la demanda de chips para servidores utilizados por los centros de datos se mantuvo sólida ante el confinamiento obligado por la pandemia. En este sentido, Moon Ji-hye, una analista de Shinyoung Securities, destacó que los productos de chips de memoria registraron una subida de precio y un aumento en sus exportaciones. Samsung Electronics tiene previsto presentar sus cuentas del segundo trimestre el próximo 30 de julio. En el primer trimestre de 2020, las ventas de Samsung alcanzaron los 55,33 billones de wones (40.950 millones de euros), un 5,6% por encima del dato del primer trimestre de 2019, mientras que su beneficio operativo aumentó un 3,5% interanual, hasta 6,45 billones de wones (4.773 millones de euros).\n"
     ]
    },
    {
     "data": {
      "text/html": [
       "<img src=\"https://d500.epimg.net/cincodias/imagenes/2020/07/07/companias/1594106877_298614_1594107022_miniatura_normal.jpg\" width=\"500\"/>"
      ],
      "text/plain": [
       "<IPython.core.display.Image object>"
      ]
     },
     "metadata": {},
     "output_type": "display_data"
    },
    {
     "data": {
      "text/markdown": [
       "<a href=\"https://cincodias.elpais.com/cincodias/2020/07/07/companias/1594106877_298614.html#?ref=rss&format=simple&link=guid\">Link</a>"
      ],
      "text/plain": [
       "<IPython.core.display.Markdown object>"
      ]
     },
     "metadata": {},
     "output_type": "display_data"
    },
    {
     "name": "stdout",
     "output_type": "stream",
     "text": [
      "\n",
      "\n",
      "\u001b[1m\u001b[32mCINCODIAS\u001b[0m\n",
      "\u001b[1m\u001b[30mTue, 7 Jul 2020 09:28:38 +0200\u001b[0m\n",
      "\u001b[1m\u001b[35mAmancio Ortega reorganiza sus participaciones en Inditex y Enagás\u001b[0m\n",
      "\u001b[34mHeadline\u001b[0m\n",
      "Crea una nueva sociedad, Partler Participaciones, a la que traspasa las acciones que tenía en Partler 2006\n",
      "\u001b[34mSummarise\u001b[0m\n",
      "El fundador de Inditex Amancio Ortega ha reorganizado parte de las acciones que mantiene en el grupo textil gallego así como el 5% que tiene en Enagás, paquete que adquirió en diciembre del año pasado.\n",
      "Así, Ortega ha traspasado el 9,28% que tenía en Inditex a través de la sociedad Partler 2006 a una de nueva creación, Partler Participaciones, como consta en una notificación publicada hoy en la CNMV.\n",
      "Tampoco en ese caso hubo cambio de ningún tipo más allá del societario, puesto que tanto la propiedad como los derechos de votos se mantuvieron bajo el poder de Amancio Ortega.\n",
      "\u001b[34mText\u001b[0m\n",
      "El fundador de Inditex Amancio Ortega ha reorganizado parte de las acciones que mantiene en el grupo textil gallego así como el 5% que tiene en Enagás, paquete que adquirió en diciembre del año pasado. Así, Ortega ha traspasado el 9,28% que tenía en Inditex a través de la sociedad Partler 2006 a una de nueva creación, Partler Participaciones, como consta en una notificación publicada hoy en la CNMV. Se tata de un total de 289,3 millones de títulos que fueron aportados el 3 de julio pasado a un valor de 24,39 euros a la nueva sociedad, lo que valora ese paquete accionarial en algo más de 7.000 millones de euros.  El otro 50,01% del capital de Inditex que sigue bajo propiedad de Ortega lo mantiene en Pontegadea Inversiones. Esta no es la primera reorganización de este tipo que realiza Ortega con sus acciones de Inditex. La última la llevó a cabo en 2013, cuando precisamente traspasó ese 50,01% desde otra de sus sociedades, Gartler, a Pontegadea. Tampoco en ese caso hubo cambio de ningún tipo más allá del societario, puesto que tanto la propiedad como los derechos de votos se mantuvieron bajo el poder de Amancio Ortega. Lo mismo sucede con el 5% que el empresario gallego adquirió de Enagás en diciembre pasado por unos 282 millones de euros. Esta participación la mantenía desde entonces a través de Partler 2006  y ahora la traspasa a Partler Participaciones. Ortega también ha llevado a cabo otra serie de cambios en sus distintas sociedades patrimoniales en los últimos meses para simplificar su estructura. Esto ha consistido en la absorción de la sociedad Grilse, poseedora de activos inmobiliarios en España, por Pontegadea España. Además, Pontegadea Inversiones ha absorbido su filial Pontegadea 2015, donde estaba la participación de casi el 10% en Telxius; y ha escindido de Pontegadea Inversiones la nueva sociedad Pontegadea GB 2020, que agrupa diversos activos inmobiliarios localizados en Gran Bretaña. A medio plazo, el propósito es aislar los riesgos relacionados con el Brexit del resto del grupo, aunque de momento algunos inmuebles británicos dependerán de sociedades diferentes de Pontegadea GB.\n"
     ]
    },
    {
     "data": {
      "text/html": [
       "<img src=\"https://d500.epimg.net/cincodias/imagenes/2020/07/07/companias/1594106692_178486_1594106896_miniatura_normal.jpg\" width=\"500\"/>"
      ],
      "text/plain": [
       "<IPython.core.display.Image object>"
      ]
     },
     "metadata": {},
     "output_type": "display_data"
    },
    {
     "data": {
      "text/markdown": [
       "<a href=\"https://cincodias.elpais.com/cincodias/2020/07/07/companias/1594106692_178486.html#?ref=rss&format=simple&link=guid\">Link</a>"
      ],
      "text/plain": [
       "<IPython.core.display.Markdown object>"
      ]
     },
     "metadata": {},
     "output_type": "display_data"
    },
    {
     "name": "stdout",
     "output_type": "stream",
     "text": [
      "\n",
      "\n",
      "\u001b[1m\u001b[32mCINCODIAS\u001b[0m\n",
      "\u001b[1m\u001b[30mTue, 7 Jul 2020 09:00:12 +0200\u001b[0m\n",
      "\u001b[1m\u001b[35mAmancio Ortega supera los 15.000 millones en propiedades inmobiliarias\u001b[0m\n",
      "\u001b[34mHeadline\u001b[0m\n",
      "El vehículo inversor del fundador de Inditex obtuvo un beneficio neto 1.778 millones de euros en 2019\n",
      "\u001b[34mSummarise\u001b[0m\n",
      "El fundador de Inditex y una de las grandes fortunas del mundo superó durante el año pasado los 15.000 millones de euros en activos de este tipo reunidos bajo el paraguas del Grupo Pontegadea, bajo el que acomete sus inversiones inmobiliarias y empresariales.\n",
      "En concreto, Amancio Ortega finalizó el ejercicio 2019 con una cartera inmobiliaria valorada en 15.163 millones de euros, según Grupo Pontegadea.\n",
      "La única cartera inmobiliaria de una empresa que supera a las de las sociedades controladas por Amancio Ortega es la de El Corte Inglés, valorada en 17.400 millones a cierre del último ejercicio.\n",
      "\u001b[34mText\u001b[0m\n",
      "La cartera inmobiliaria de Amancio Ortega volvió a crecer con fuerza en 2019. El fundador de Inditex y una de las grandes fortunas del mundo superó durante el año pasado los 15.000 millones de euros en activos de este tipo reunidos bajo el paraguas del Grupo Pontegadea, bajo el que acomete sus inversiones inmobiliarias y empresariales. Con esa cifra se convierte en el mayor grupo inmobiliario del país, por delante de Merlin y Colonial. En concreto, Amancio Ortega finalizó el ejercicio 2019 con una cartera inmobiliaria valorada en 15.163 millones de euros, según Grupo Pontegadea. En esta cifra están incluidas todas las propiedades de las diferentes sociedades de cartera, incluidas filiales, que posee el empresario gallego y que aglutina bajo esta denominación. La última cifra, proporcionada el año pasado, rozaba los 10.000 millones, aunque solo tenía en cuenta los activos de Pontegadea Inversiones, una de las varias sociedades que forman parte de ese conglomerado patrimonial, lo que explica parte de ese salto. La única cartera inmobiliaria de una empresa que supera a las de las sociedades controladas por Amancio Ortega es la de El Corte Inglés, valorada en 17.400 millones a cierre del último ejercicio. En este caso no se trata de edificios comerciales y de oficinas destinados al alquiler sino a inmuebles de uso propio. Los inmuebles de Amancio Ortega superan los 12.196 millones en activos de Colonial al cierre de 2019, según datos de su informe anual, y los 12.267,3 millones que reportó Merlin a cierre de dicho ejercicio. Otro motivo del aumento de la cartera inmobiliaria de Ortega es que durante el año pasado ¡ destinó 2.065 millones de euros a  nuevas adquisiciones. Las principales las acometió en EE UU, donde compró los complejos empresariales Troy Block y Arbor Bocks, ambos en Seattle. El primero, ocupado por Amazon, requirió una inversión de 665 millones de euros mientras que por el segundo, donde es casero de Facebook, pagó algo menos de 400 millones. A ellos se suma el bloque de oficinas ubicado en el 815 e Connecticut Avenue, en Washington DC, con 12 plantas y por el que desembolsó alrededor de 200 millones a su hasta entonces propietario, el fondo Blackstone. Otra de sus principales compras del año pasado la llevó a cabo en Londres, donde se hizo con edificio conocido como The Post Building en una operación valorada en 700 millones. El 61% de la cartera inmobiliaria de Ortega está en Europa. Además de inmobiliarias, el empresario también llevó a cabo inversiones corporativas, como la compra del 5% del capital de Enagás por 281 millones. Además, a cierre del año mantenía un 9,99% en Telxius. El grupo Pontegadea cerró el ejercicio 2019 con un beneficio neto de 1.778 millones de euros, un 14% más que en el ejercicio anterior, gracias al incremento de los ingresos por dividendos, que alcanzaron los 1.640 millones, principalmente por los procedentes de Inditex. Estos fueron de 1.626 millones de euros, un 17% más, gracias a la participación del 59,3% que Ortega sigue ostentando en el gigante textil a través tanto de Pontegadea Inversiones como de Partler 2006 (aunque ahora indirectamente a través de otra sociedad llamada Partler Participaciones). Otros 14 millones corresponden a los dividendos del resto de sus participaciones empresariales. A ello hay que sumar los réditos producidos por su negocio inmobiliario, que crecieron en 101 millones, pasando de 520 a 621. Con ello, la cifra de negocios total de Grupo Pontegadea alcanzó los 2.261 millones, un 18% más. No son cifras societarias en sentido estricto, sino que corresponden a la consolidación de las diferentes empresas controladas por Amancio Ortega, a veces sin lazos societarios más allá de la unidad de decisión. Durante 2020, el grupo empresarial de Amancio Ortega ha llevado a cabo una reordenación societaria para simplificar su estructura, según explican desde el mismo. Esta reordenación ha consistido en la absorción de la sociedad Grilse, poseedora de activos inmobiliarios en España, por Pontegadea España. Además, Pontegadea Inversiones ha absorbido su filial Pontegadea 2015, donde estaba la participación de casi el 10% en Telxius; y ha escindido de Pontegadea Inversiones la nueva sociedad Pontegadea GB 2020, que agrupa diversos activos inmobiliarios localizados en Gran Bretaña. A medio plazo, el propósito es aislar los riesgos relacionados con el Brexit del resto del grupo, aunque de momento algunos inmuebles británicos dependerán de sociedades diferentes de Pontegadea GB. Acerca de la crisis del coronavirus, en Pontegadea reconocen que podría afectar potencialmente a la generación de ingresos por arrendamiento y dividendos. Sin ir más lejos, en 2020 'solo' percibirá 646 millones de euros por los dividendos de Inditex, un 60% menos, después de que la textil aprobara un reparto de 0,35 euros por acción. Además, la crisis ha provocado renegociaciones de los alquileres en todo el mundo y en distintos sectores, incluyendo aplazamientos o moratorias debido a la paralización de la actividad.\n"
     ]
    },
    {
     "data": {
      "text/html": [
       "<img src=\"https://d500.epimg.net/cincodias/imagenes/2020/07/06/companias/1594065808_750973_1594066380_miniatura_normal.jpg\" width=\"500\"/>"
      ],
      "text/plain": [
       "<IPython.core.display.Image object>"
      ]
     },
     "metadata": {},
     "output_type": "display_data"
    },
    {
     "data": {
      "text/markdown": [
       "<a href=\"https://cincodias.elpais.com/cincodias/2020/07/06/companias/1594065808_750973.html#?ref=rss&format=simple&link=guid\">Link</a>"
      ],
      "text/plain": [
       "<IPython.core.display.Markdown object>"
      ]
     },
     "metadata": {},
     "output_type": "display_data"
    },
    {
     "name": "stdout",
     "output_type": "stream",
     "text": [
      "\n",
      "\n",
      "\u001b[1m\u001b[32mCINCODIAS\u001b[0m\n",
      "\u001b[1m\u001b[30mTue, 7 Jul 2020 08:54:00 +0200\u001b[0m\n",
      "\u001b[1m\u001b[35mPlatinum Estates invierte 70 millones en un nuevo hotel en la Costa del Sol\u001b[0m\n",
      "\u001b[34mHeadline\u001b[0m\n",
      "Hilton se encargará de la gestión bajo su marca Conrad\n",
      "\u001b[34mSummarise\u001b[0m\n",
      "Hilton anunciará hoy la firma del acuerdo de gestión desde Londres, mientras que en España la presentación del proyecto tendrá lugar en Casares por parte del director del Grupo Hilton para España y Portugal, Carlos Miro, el socio de Platinum Estates en España, Juan Luis Segalerva, y el alcalde de la localidad, José Carrasco.\n",
      "Miro considera que el hotel supone un paso importante para Hilton y su objetivo de extender sus marcas de lujo por todo Europa, mientras la presidenta de Platinum Estates, Roshni Mohinani, dice estar encantado con el acuerdo con Hilton.\n",
      "\u001b[34mText\u001b[0m\n",
      "El Grupo Platinum Estates invertirá unos 70 millones de euros en levantar un nuevo hotel en Casares, entre Estepona y Sotogrande (Málaga). El complejo, propiedad de Markway Inversiones, tendrá 194 habitaciones y será gestionado por Hilton bajo su marca Conrad. Conrad Costa del Sol será la primera propiedad de Conrad Hotels & Resorts en España, abrirá sus puertas a principios de 2022 y creará alrededor de 200 empleos directos, según informaron a CincoDías fuentes de Platinum Estates y Hilton. Hilton anunciará hoy la firma del acuerdo de gestión desde Londres, mientras que en España la presentación del proyecto tendrá lugar en Casares por parte del director del Grupo Hilton para España y Portugal, Carlos Miro, el socio de Platinum Estates en España, Juan Luis Segalerva, y el alcalde de la localidad, José Carrasco. Entre las instalaciones del complejo destacan un spa con piscina interior, varias piscinas exteriores, dos bares y un restaurante de alta cocina. Conrad Costa del Sol se unirá a la cartera de hoteles Conrad Algarve, Conrad Maldives Rangali Island, Conrad Bali, Conrad Bora Bora y Conrad Koh Samui. Miro considera que el hotel supone un paso importante para Hilton y su objetivo de extender sus marcas de lujo por todo Europa, mientras la presidenta de Platinum Estates, Roshni Mohinani, dice estar encantado con el acuerdo con Hilton. “Esperamos continuar trabajando estrechamente con nuestros valiosos socios de la comunidad local para dar vida a este proyecto. La hermosa Costa del Sol continúa atrayendo a turistas nacionales e internacionales por igual, y vemos un gran potencial de inversión en esta área”, subraya. Por su parte, el director global de Conrad Hotels & Resorts , Nils-Arne Schroeder, resalta que el hotel supone una “magnífica” entrada de la marca en España. “Esperamos presentar nuestro lujo exclusivo a la Costa del Sol”, afirma. La crisis sanitaria derivada del coronavirus le ha pillado a la industria hotelera con una ambiciosa hoja de ruta en España, que pasaba por añadir 26.000 habitaciones nuevas a la planta hotelera entre este año y el que viene, y que iba a generar transacciones por valor de 3.500 millones de euros, según un informe de CBRE publicado a principios de mayo.\n"
     ]
    },
    {
     "data": {
      "text/html": [
       "<img src=\"https://d500.epimg.net/cincodias/imagenes/2020/07/06/companias/1594060249_998996_1594060746_miniatura_normal.jpg\" width=\"500\"/>"
      ],
      "text/plain": [
       "<IPython.core.display.Image object>"
      ]
     },
     "metadata": {},
     "output_type": "display_data"
    },
    {
     "data": {
      "text/markdown": [
       "<a href=\"https://cincodias.elpais.com/cincodias/2020/07/06/companias/1594060249_998996.html#?ref=rss&format=simple&link=guid\">Link</a>"
      ],
      "text/plain": [
       "<IPython.core.display.Markdown object>"
      ]
     },
     "metadata": {},
     "output_type": "display_data"
    },
    {
     "name": "stdout",
     "output_type": "stream",
     "text": [
      "\n",
      "\n",
      "\u001b[1m\u001b[32mCINCODIAS\u001b[0m\n",
      "\u001b[1m\u001b[30mTue, 7 Jul 2020 08:48:29 +0200\u001b[0m\n",
      "\u001b[1m\u001b[35mEE UU estudia prohibir TikTok mientras la aplicación abandona Hong Kong tras la nueva ley de seguridad\u001b[0m\n",
      "\u001b[34mHeadline\u001b[0m\n",
      "La aplicación, dirigida por un ex ejecutivo de Walt Disnay, busca distanciarse de sus raíces chinas para atraer a un público global.\n",
      "\u001b[34mSummarise\u001b[0m\n",
      "El movimiento de TikTok resulta interesante porque su salida supone que tanto los usuarios de la app de Hong Kong como los de China Continental quedan excluidos de la versión global de la aplicación, que lleva tiempo luchando para combatir las sospechas de que opera bajo el control del Gobierno de Pekín.\n",
      "Esta situación ha provocado igualmente que grandes empresas tecnológicas como Facebook, Microsoft, Google, Twitter, Zoom y Telegram hayan anunciado en las últimas horas que dejan de colaborar con la policía de Hong Kong en la entrega de datos de sus usuarios mientras analizan las implicaciones de la controvertida nueva normativa y si esta atenta contra los derechos humanos.\n",
      "\u001b[34mText\u001b[0m\n",
      "Los problemas se agravan para TikTok, la aplicación china que sirve para crear y compartir vídeos cortos que está arrasando en todo el mundo. Si la semana pasada fue la India quien prohibió su uso y el grupo hacktivista Anonymous lanzaba una campaña para que los usuarios dejen de usarla tras acusarla de ser un malware operado por el gobierno chino para ejecuta “espionajes masivos”, ahora son los gobiernos de EE UU y Australia quienes barajan restringir su uso. Mike Pompeo, secretario de Estado de EE UU, indicaba en una entrevista a Fox News que están contemplando prohibir tanto TikTok como otras aplicaciones sociales chinas. Preguntado sobre si los estadounidenses deberían descargarse la aplicación, aseguró: “Solo si quieres que tu información privada llegue a manos del partido comunista chino”. El Gobierno de EE UU lleva tiempo alertando sobre los riesgos de seguridad de TikTok, pues cree que el Gobierno chino usa la aplicación para vigilar y distribuir propaganda entre los ciudadanos, informó Reuters. En el caso de Australia, no ha habido fuentes gubernamentales que hayan confirmado que planeen prohibir TikTok, aunque algunos medios como Herald Sun sí han publicado que lo están valorando por las mismas razones de seguridad. Una información que habría sido cuestionada por un portavoz de la compañía en ese país. Una prohibición de TikTok por parte de EE UU, que ya ha vetado a Huawei y ZTE y ha presionado a otros países a seguir sus pasos, elevaría la tensión entre la Administración de Donald Trump y China, enfrascadas en una guerra comercial que dura ya casi dos años. De hecho, hay analistas que creen que la Administración estadonunidense está poniendo trabas a las empresas chinas por su superioridad tecnológica o por el éxito que están alcanzado a nivel global, muchas veces robando protagonismo a sus gigantes tecnológicos. Un portavoz de TikTok ha señalado en respuesta a los comentarios de Pompeo que TikTok está dirigida por el ex ejecutivo de Walt Disney Kevin Mayor y que tienen cientos de empleados expertos en materia de seguridad, producto y políticas públicas en EE UU. No tenemos mayor prioridad que promover una experiencia segura para nuestros usuarios y nunca hemos proporcionado datos de nuestros usuarios al gobierno chino, ni lo haríamos si nos lo pidieran”. Algo que no coincide con los resultados de un análisis reciente de un ingeniero en Reddit, que destapaba serios problemas de privacidad en la aplicación. Quizás tratando de distanciarse de sus raíces chinas para evitar su prohibición en diferentes países, TikTok (que pertenece a la empresa ByteDance) anunció este martes que se retirará de Hong Kong en unos días tras la entrada en vigor de la nueva ley de seguridad nacional que China ha promulgado para la excolonia británica. La app dejará de estar disponible para su descarga en las tiendas de Apple y Google a lo largo de esta semana. Lo que no se sabe es si su empresa matriz relanzará una versión “censurada” de la aplicación en Hong Kong, pues ByteDance opera en China una app gemela de TikTok llamada Douyin. El movimiento de TikTok resulta interesante porque su salida supone que tanto los usuarios de la app de Hong Kong como los de China Continental quedan excluidos de la versión global de la aplicación, que lleva tiempo luchando para combatir las sospechas de que opera bajo el control del Gobierno de Pekín. La estrategia de ByteDance fue lanzar TikTok buscando una audiencia global y esta decisión estratégica de salir de Hong Kong podría ser un paso que le ayude a lograrlo. Como recuerda la BBC, TikTok ha defendido de manera sistemática que los datos de sus usuarios no se almacenan en China ni dan acceso a ellos al Gobierno chino. Sin embargo, la controvertida ley de seguridad nacional de Hong Kong otorga nuevos poderes a las autoridades chinas, lo que ha disparado las preocupaciones sobre la privacidad de los datos. Esta situación ha provocado igualmente que grandes empresas tecnológicas como Facebook, Microsoft, Google, Twitter, Zoom y Telegram hayan anunciado en las últimas horas que dejan de colaborar con la policía de Hong Kong en la entrega de datos de sus usuarios mientras analizan las implicaciones de la controvertida nueva normativa y si esta atenta contra los derechos humanos. King-wa Fu, profesor asociado del Centro de Periodismo y Estudios de Medios de la Universidad de Hong Kong, asegura que se espera que Hong Kong anuncie medidas para regular los medios e internet con un sistema de censura similar a la de China Continental, informa Reuters. “Por eso, [las plataformas] están suspendiendo su colaboración y evaluando la situación. No tengo una bola de cristal, pero creo que se van a imponer más restricciones”.  \n"
     ]
    },
    {
     "data": {
      "text/html": [
       "<img src=\"https://d500.epimg.net/cincodias/imagenes/2020/07/07/companias/1594104214_320589_1594104377_miniatura_normal.jpg\" width=\"500\"/>"
      ],
      "text/plain": [
       "<IPython.core.display.Image object>"
      ]
     },
     "metadata": {},
     "output_type": "display_data"
    },
    {
     "data": {
      "text/markdown": [
       "<a href=\"https://cincodias.elpais.com/cincodias/2020/07/07/companias/1594104214_320589.html#?ref=rss&format=simple&link=guid\">Link</a>"
      ],
      "text/plain": [
       "<IPython.core.display.Markdown object>"
      ]
     },
     "metadata": {},
     "output_type": "display_data"
    },
    {
     "name": "stdout",
     "output_type": "stream",
     "text": [
      "\n",
      "\n",
      "\u001b[1m\u001b[32mCINCODIAS\u001b[0m\n",
      "\u001b[1m\u001b[30mTue, 7 Jul 2020 08:26:40 +0200\u001b[0m\n",
      "\u001b[1m\u001b[35mEuskaltel llegará a 1,8 millones de hogares más gracias a un acuerdo con Orange\u001b[0m\n",
      "\u001b[34mHeadline\u001b[0m\n",
      "La teleco vasca accederá al despliegue de fibra que realizará Orange en los próximos años\n",
      "\u001b[34mSummarise\u001b[0m\n",
      "Euskaltel ha alcanzado un acuerdo con Orange que le permitirá al Grupo acceder en modalidad bitstream a un mínimo de 1,8 millones de hogares de los planes adicionales de despliegue de fibra a realizar por Orange en España en los próximos años.\n",
      "El pasado 22 de abril de 2020, en sus resultados trimestrales, el Grupo Euskaltel anunció que contaba ya con una cobertura a nivel nacional de 13,5 millones de hogares, incluyendo su red propia, así como el acceso a redes de terceros, entre ellos Orange.\n",
      "Además, Euskaltel recordó que la cobertura de red a nivel nacional es un activo clave para sus planes de expansión a nivel nacional, tal y como figura en su plan de negocio 2020-2025.\n",
      "\u001b[34mText\u001b[0m\n",
      "Euskaltel ha alcanzado un acuerdo con Orange que le permitirá al Grupo acceder en modalidad bitstream a un mínimo de 1,8 millones de hogares de los planes adicionales de despliegue de fibra a realizar por Orange en España en los próximos años. Según informa la compañía en un comunicado remitido a la Comisión Nacional del Mercado de Valores (CNMV), dichos despliegues estarán finalizados antes de que termine 2023. Este acuerdo es adicional a los acuerdos de fibra y móvil ya firmados entre el Grupo Euskaltel y Orange anunciados el pasado mes de diciembre de 2019. El pasado 22 de abril de 2020, en sus resultados trimestrales, el Grupo Euskaltel anunció que contaba ya con una cobertura a nivel nacional de 13,5 millones de hogares, incluyendo su red propia, así como el acceso a redes de terceros, entre ellos Orange. El grupo destacó que, de esta manera, cumple el objetivo de contar con una cobertura de 18 millones de hogares al finalizar el segundo trimestre de 2020. Además, Euskaltel recordó que la cobertura de red a nivel nacional es un activo clave para sus planes de expansión a nivel nacional, tal y como figura en su plan de negocio 2020-2025. El pasado 20 de mayo de 2020, el Grupo anunció el lanzamiento de su nueva marca Virgin Telco para acometer dicha expansión nacional.\n"
     ]
    },
    {
     "data": {
      "text/html": [
       "<img src=\"https://d500.epimg.net/cincodias/imagenes/2020/07/07/companias/1594102801_897013_1594102925_miniatura_normal.jpg\" width=\"500\"/>"
      ],
      "text/plain": [
       "<IPython.core.display.Image object>"
      ]
     },
     "metadata": {},
     "output_type": "display_data"
    },
    {
     "data": {
      "text/markdown": [
       "<a href=\"https://cincodias.elpais.com/cincodias/2020/07/07/companias/1594102801_897013.html#?ref=rss&format=simple&link=guid\">Link</a>"
      ],
      "text/plain": [
       "<IPython.core.display.Markdown object>"
      ]
     },
     "metadata": {},
     "output_type": "display_data"
    },
    {
     "name": "stdout",
     "output_type": "stream",
     "text": [
      "\n",
      "\n",
      "\u001b[1m\u001b[32mCINCODIAS\u001b[0m\n",
      "\u001b[1m\u001b[30mTue, 7 Jul 2020 06:14:25 +0200\u001b[0m\n",
      "\u001b[1m\u001b[35m“Si empresas y Gobiernos trabajamos alineados olvidaríamos los cigarrillos en 10 años”\u001b[0m\n",
      "\u001b[34mHeadline\u001b[0m\n",
      "El número dos a nivel ejecutivo de la principal tabaquera del mundo reafirma el potencial de crecimiento de Iqos pese a la crisis del coronavirus\n",
      "\u001b[34mSummarise\u001b[0m\n",
      "De cambio por la proliferación de alternativas al cigarrillo de combustión tradicional, con las grandes corporaciones invirtiendo como nunca en dejar atrás el que es todavía su principal fuente de ingresos.\n",
      "Desde que lo lanzamos hace cinco años nos tomamos en serio el problema de reemplazar los cigarrillos por nuevos productos de riesgo reducido.\n",
      "Sanidad tiene esa posición, de tratar a las alternativas como si fueran lo mismo que los cigarrillos, pero no lo veo acertado, sobre todo desde el punto de vista científico y tampoco para el consumidor.\n",
      "Iqos no está libre de riesgo, pero la pregunta es cuánto mejor es que un cigarrillo.\n",
      "\u001b[34mText\u001b[0m\n",
      "La industria del tabaco vive momentos de cambio y de incertidumbre. De cambio por la proliferación de alternativas al cigarrillo de combustión tradicional, con las grandes corporaciones invirtiendo como nunca en dejar atrás el que es todavía su principal fuente de ingresos. Y de incertidumbre no solo por el efecto que esos cambios pueden tener en sus modelos de negocio a medio plazo, algo en el que también juegan un papel crucial los reguladores, sino también por cómo va a impactar la crisis económica del Covid a un sector muy ligado al poder adquisitivo del consumidor. De todo ello habla el director de operaciones de Philip Morris International, número dos a nivel mundial del principal grupo tabaquero, partícipe y testigo del cambio de etapa que está atravesando el grupo, en el que desde 2008 7.200 millones de dólares (unos 6.400 millones de euros) en investigar y desarrollar alternativas libres de humo al cigarrillo clásico.. ¿Cómo están atravesando la crisis del coronavirus, sobre todo en las semanas más críticas de confinamiento? Ha sido una situación que ha ido extendiéndose país a país. La prioridad fue mantener la seguridad de los trabajadores en una crisis que avanzó de forma muy rápida. Esa velocidad es la que la convierte en una crisis totalmente diferente, por ejemplo, a la de 2008. Aquí se ha cerrado la actividad económica, se han implementado cuarentenas, distancia social... Se han alterado las rutinas y la movilidad. Entre finales de marzo, abril y parte de mayo prácticamente todas las rutinas y hábitos de consumo se interrumpieron, en mayor o menor medida según el país. También para las empresas. La cadena de suministro, la capacidad de producción, de distribución y de llegar a la tienda, todo se vio alterado. Si analizamos por mes, en abril las ventas fueron muy bajas. En las últimas semanas han ido recuperándose en tanto que los mercados han ido reabriendo. Ahora la cadena de suministro vuelve a funcionar, y los clientes vuelven a sus rutinas. Estamos en una trayectoria de mejora. Creo que lo peor ha pasado. Ahora la pregunta es a qué velocidad vamos a recuperarnos. En los resultados del primer trimestre anticipaban un fuerte impacto en el segundo. ¿Ha sido tan malo como esperaban? Obviamente, en ciertos mercados ha habido un menor consumo diario. Se han perdido momentos. Antes podías fumarte un cigarrillo al ir a la oficina, y quizá si trabajas desde casa no lo haces si vives con pareja, con hijos... Los que han ido mejor de lo que pensábamos eran los productos de riesgo reducido, Iqos y Heets [las recargas de Iqos]. Al no producir humo son menos irritantes para la gente que rodea al usuario, y por eso ha podido usarlos con más recurrencia o con menos interrupciones que el cigarrillo tradicional. ¿Puede esta crisis acelerar el crecimiento de Iqos? Si comparas Iqos con los cigarrillos normales en abril y mayo, que han sido los peores meses, la tendencia es totalmente diferente. No ha habido una caída en Heets como la habido en el resto. Se está demostrando incluso más resiliente. Tampoco se han quedado a cero las compras de nuevos clientes. Ahora en España y en otros países vemos una buena recuperación de Iqos, que está beneficiándose del hecho que resuelve un problema, al ofrecer una alternativa a quienes nunca pensaban en dejar de fumar. Creo que cuando todo se normalice, en la era pos-Covid, tendrá una gran oportunidad para crecer. ¿Y no cree aun así que afecte a las previsiones de que Iqos y Heets supongan entre el 38% y el 42% de las ventas en 2025? Como digo, Iqos está respondiendo como preveíamos o incluso mejor. Tenemos el objetivo para 2021 de vender entre 90.000 y 100.000 millones de unidades de Heets y eso está vigente. No sé el futuro, pero el comportamiento de Iqos durante estos meses me ha sorprendido muy positivamente. Pero hay que tomar cada país de forma individual, pero tenemos confianza en Iqos, hay grandes oportunidades. Desde que lo lanzamos hace cinco años nos tomamos en serio el problema de reemplazar los cigarrillos por nuevos productos de riesgo reducido. Ha habido un esfuerzo importante. Más del 95% del gasto en I+D y del 70% del gasto comercial del grupo se ha destinado a ello. Somos muy serios. Si el escenario regulador fuese uno donde los legisladores reconociesen la gran oportunidad y el potencial de esta propuesta, el crecimiento sería más rápido. ¿Esto también lo aplica a España? Sanidad equiparó los cigarrillos a las nuevas alternativas. Aquí con Iqos somos pequeños en comparación con otros países. Sanidad tiene esa posición, de tratar a las alternativas como si fueran lo mismo que los cigarrillos, pero no lo veo acertado, sobre todo desde el punto de vista científico y tampoco para el consumidor. Hablamos con ellos, entiendo las reticencias, pero con los datos en la mano está demostrado que es mejor que continuar fumando los cigarrillos tradicionales. La adopción en Italia o Japón es más rápida, porque el consumidor puede aprender sobre estos productos. Iqos no está libre de riesgo, pero la pregunta es cuánto mejor es que un cigarrillo. Las ventajas son tremendas, y no lo dicen solo nuestras investigaciones. Si todo fuese bien, si empresas y gobiernos trabajásemos alineados, en 10 años podríamos olvidar que la gente fumaba cigarrillos. Espero que el gobierno español y otros puedan apreciar esto y vean que no hay tiempo que perder. Pero Iqos se vende desde hace tiempo en España. ¿Cuál es el obstáculo? Los marcos normativos tienen que diferenciar los productos de combustión de los demás. Tienen que disuadir a la gente de fumar los cigarrillos. Si afirmas que son lo mismo, la gente va a seguir fumando el cigarrillo tradicional. La ciencia respalda las ventajas de estos productos, todas las evidencias indican que son mejores que los cigarrillos. La FDA [la autoridad estadounidense] lo indicaba en su autorización para vender Iqos en EE UU. No digo que confíen en Philip Morris, digo que confíen en la ciencia para resolver el problema del tabaquismo porque estos productos exponen a la gente a un 90% menos de sustancias tóxicas. Los grandes fabricantes han entrado en el cigarrillo electrónico en el último año. Incluso BAT ha lanzado GLO, un rival para Iqos en el tabaco calentado. ¿La competencia puede acelerar la penetración de estos dispositivos? Cuanta más exista, mejor para la gente y la industria. Con el cigarrillo electrónico también hay mensajes confusos. La nicotina no es el generador del daño, sino los componentes del tabaco. En cualquier caso, también lanzaremos al mercado un cigarrillo electrónico. Iqos tiene la mejor tasa de conversión. Los cigarrillos electrónicos no la tienen tan alta, pero van mejorando. ¿Cuándo lanzarán ese dispositivo? Hemos tenido que retrasar los plazos por el Covid, pero a finales de año lo lanzaremos en algunos países de Europa. Juul ha decidido dejar España y otros mercados. ¿Cómo lo analiza? Siguen teniendo éxito en EE UU. Han tenido que afrontar otro tipo de problema. Vender un producto que contiene nicotina conlleva un alto nivel de sensibilidad y responsabilidad con el producto. Se han reagrupado y han cambiado de estrategia.\n"
     ]
    },
    {
     "data": {
      "text/html": [
       "<img src=\"https://d500.epimg.net/cincodias/imagenes/2020/07/06/companias/1594066772_221968_1594067019_miniatura_normal.jpg\" width=\"500\"/>"
      ],
      "text/plain": [
       "<IPython.core.display.Image object>"
      ]
     },
     "metadata": {},
     "output_type": "display_data"
    },
    {
     "data": {
      "text/markdown": [
       "<a href=\"https://cincodias.elpais.com/cincodias/2020/07/06/companias/1594066772_221968.html#?ref=rss&format=simple&link=guid\">Link</a>"
      ],
      "text/plain": [
       "<IPython.core.display.Markdown object>"
      ]
     },
     "metadata": {},
     "output_type": "display_data"
    },
    {
     "name": "stdout",
     "output_type": "stream",
     "text": [
      "\n",
      "\n",
      "\u001b[1m\u001b[32mCINCODIAS\u001b[0m\n",
      "\u001b[1m\u001b[30mTue, 7 Jul 2020 06:13:45 +0200\u001b[0m\n",
      "\u001b[1m\u001b[35mVodafone ultima un plan global de impulso a la digitalización de las pymes\u001b[0m\n",
      "\u001b[34mHeadline\u001b[0m\n",
      "El proyecto es europeo, adaptado a las necesidades de cada país\n",
      "Comercio electrónico y digitalización de procesos, claves\n",
      "\u001b[34mSummarise\u001b[0m\n",
      "Así, la teleco prepara un nuevo plan global para pymes y autónomos, que tendrá una dimensión europea, pero adaptado a las peculiaridades de cada uno de los países en los que tiene operaciones.\n",
      "La operadora va a trabajar de forma concreta con las pymes para mejorar en distintos campos de actuación, según explica Daniel Jiménez, director general de la Unidad de Negocio de Empresas de Vodafone España, que añade que el nuevo programa tiene un periodo de vigencia de tres años.\n",
      "El directivo indica que estas empresas están demandando servicios como el cloud, el wifi y las redes de datos fijas que ayuden a mantener la actividad, con el teletrabajo como uno de los pilares.\n",
      "\u001b[34mText\u001b[0m\n",
      "Vodafone busca acelerar en su presencia en el negocio empresarial, en medio de esta nueva etapa marcada por la revolución tecnológica acelerada por el contagio del coronavirus Covid-19. Así, la teleco prepara un nuevo plan global para pymes y autónomos, que tendrá una dimensión europea, pero adaptado a las peculiaridades de cada uno de los países en los que tiene operaciones. En el caso de España, el plan, bautizado como Vuela, tendrá mucha relevancia, dado el peso de las pymes en el tejido empresarial, con la necesidad de incrementar su tamaño y presencia, a través de los procesos de digitalización. La operadora va a trabajar de forma concreta con las pymes para mejorar en distintos campos de actuación, según explica Daniel Jiménez, director general de la Unidad de Negocio de Empresas de Vodafone España, que añade que el nuevo programa tiene un periodo de vigencia de tres años. “Es el plan Vuela, porque este país ya no puede correr, tiene que volar”, afirma. Entre ellos destaca el comercio electrónico, donde Vodafone va a implantar nuevos modelos de explotación de esta actividad para las pymes. De hecho, la teleco va a orientar su canal de ventas hacia este segmento. “Hay que explicar a las empresas cómo se hacen las cosas, porque no es sencillo”, explica el directivo. Además, Vodafone busca impulsar entre las pequeñas y medianas empresas la digitalización de los modelos de negocio. La operadora quiere que se ponga el foco digital en todo el proceso, incluida la relación con el cliente. De igual forma, la compañía va a impulsar la actividad de las pymes en la digitalización del puesto de trabajo. Este segmento gana relevancia con la movilidad, así como con la aceleración del teletrabajo, tras los periodos de confinamiento decretados en los distintos países para combatir el Covid. A su vez, Vodafone va a impulsar la explotación de la denominada Gigabit Network, infraestructura que permite una velocidad de un gigabit por segundo, de la mano de las redes de fibra óptica y móvil 5G. “El 5G es una apuesta que hay que reforzar”, dice Jiménez, quien recuerda que la crisis del Covid-19 ha puesto en valor a las infraestructuras digitales. En opinión del directivo, las redes de nueva generación están ahí, y ahora hay que construir encima capas de servicios y funcionalidades de uso. El plan también va a contemplar una ayuda a las pymes en el ámbito de la ciberseguridad, ante las crecientes amenazas en la red y el aumento de las vulnerabilidades. El ejecutivo recuerda que incluso los hospitales han sufrido ciberataques durante el periodo de mayor gravedad de la pandemia del Covid, lo que demuestra la importancia de este aspecto. Jiménez indica que Vodafone decidió introducir a los hospitales con los que trabaja en su propia red de seguridad. Asimismo, el plan prevé también un impulso de la teleasistencia, con las empresas que trabajan en este ámbito. Entre otros proyectos, la teleco prevé el desarrollo y consolidación de una plataforma tecnológica de atención al paciente crónico. “La videoconferencia es fundamental en la telemedicina, con el Covid se ha visto”, indica. Educación Vodafone, además, contempla en este proyecto impulsar el modelo de educación en remoto. La teleco, que durante la crisis ha donado cerca de 40.000 tarjetas para uso en esta área, tiene previsto lanzar un vertical de educación, en el que colaborarán tanto la división de empresas como la propia Fundación Vodafone. En cualquier caso, la intención de la compañía pasa por ampliar de forma progresiva los planes de actuación en el ámbito de las pymes. El directivo cree que es necesario reforzar el tejido empresarial de las pymes, para que esté preparado ante el nuevo escenario económico y ante otra posible crisis como la provocada por el covid. El directivo indica que estas empresas están demandando servicios como el cloud, el wifi y las redes de datos fijas que ayuden a mantener la actividad, con el teletrabajo como uno de los pilares. En términos generales, Jiménez advierte de que es necesario que las pymes españolas afronten con decisión el proceso de digitalización. El ejecutivo cita el denominado Índice de Economía y Sociedad Digital (DESI), en el que se indica que, en segmentos como el comercio electrónico, las pymes en España están diez puntos porcentuales por debajo de la media europea, mientras que en capacidades están en “mitad de la clasificación hacia abajo”. Con respecto a las actuaciones de la empresa para hacer frente al impacto del Covid-19, Jiménez destaca los acuerdos con empresas para las desconexiones temporales, mientras la actividad está detenida, así como el aplazamiento de los pagos. Contratos. Vodafone España sigue con su estrategia de crecimiento en el segmento de las administraciones públicas. Así, la teleco ha vuelto a adjudicarse los servicios de telecomunicaciones del Administrador de Infraestructuras Ferroviarias (Adif), por un total de 9,03 millones de euros. Según la teleco, se trata de dos contratos que se han renovado por un período de cuatro años, ampliables a uno más por el importe equivalente a la parte proporcional de los precios establecidos. Vodafone gestiona los servicios de telecos de Adif desde 2006. Servicios. Esta adjudicación incluye los servicios de telecomunicaciones fijas, voz, datos y servicios avanzados. El segundo contrato engloba los servicios en movilidad, como la telefonía móvil, acceso remoto a las redes de datos de Adif, cobertura móvil, internet móvil y soluciones M2M y de internet de las cosas. Móvil 5G. Vodafone señala que la disponibilidad de la red móvil de 5G ha sido uno de los factores clave para que la operadora haya ganado en el último año grandes concursos entre los que se incluyen las comunicaciones de la Guardia Civil, Ministerio de Defensa, la Generalitat de Catalunya, el Gobierno Vasco, la Diputación de Barcelona o el Ayuntamiento de Madrid, junto con la adjudicación de las comunicaciones móviles del Estado en la fase II de CORA en septiembre del pasado año.\n"
     ]
    },
    {
     "data": {
      "text/html": [
       "<img src=\"https://d500.epimg.net/cincodias/imagenes/2020/07/07/companias/1594075095_053635_1594075338_miniatura_normal.jpg\" width=\"500\"/>"
      ],
      "text/plain": [
       "<IPython.core.display.Image object>"
      ]
     },
     "metadata": {},
     "output_type": "display_data"
    },
    {
     "data": {
      "text/markdown": [
       "<a href=\"https://cincodias.elpais.com/cincodias/2020/07/07/companias/1594075095_053635.html#?ref=rss&format=simple&link=guid\">Link</a>"
      ],
      "text/plain": [
       "<IPython.core.display.Markdown object>"
      ]
     },
     "metadata": {},
     "output_type": "display_data"
    },
    {
     "name": "stdout",
     "output_type": "stream",
     "text": [
      "\n",
      "\n",
      "\u001b[1m\u001b[32mCINCODIAS\u001b[0m\n",
      "\u001b[1m\u001b[30mMon, 6 Jul 2020 22:02:58 +0200\u001b[0m\n",
      "\u001b[1m\u001b[35mAcciona cede a cualquier empresa el uso de su aplicación de alerta rápida sobre el covid-19\u001b[0m\n",
      "\u001b[34mHeadline\u001b[0m\n",
      "La aplicación asigna un código QR de salud que permite al empleado acceder con más garantía a los centros de trabajo.\n",
      "\u001b[34mSummarise\u001b[0m\n",
      "Según explicó ayer Acciona, la aplicación ha sido desarrollada por la Dirección General de Tecnología e Innovación de la compañía y pide a los trabajadores y colaboradores que, al margen de otras medidas obligatorias de higiene y prevención, respondan con su teléfono móvil a un sencillo cuestionario de salud antes de acceder cada día a su centro de trabajo.\n",
      "El grupo, ante la buena acogida que, según asegura, está obteniendo la herramienta, ha decidido liberar “de manera gratuita y abierta su código fuente” para que otras empresas, entidades públicas e instituciones de todo tipo puedan aprovecharse también de sus ventajas y afrontar mejor la situación de la pandemia durante la desescalada.\n",
      "\u001b[34mText\u001b[0m\n",
      "Acciona ha decidido liberar el código fuente de la aplicación que ha desarrollado para gestionar con mayor seguridad el regreso de sus empleados a las oficinas. La decisión de la compañía permitirá que la app móvil, que permite que los trabajadores poder testar si su estado de salud es óptimo para acudir a trabajar, pueda ser utilizada por otras empresas e instituciones. Según explicó ayer Acciona, la aplicación ha sido desarrollada por la Dirección General de Tecnología e Innovación de la compañía y pide a los trabajadores y colaboradores que, al margen de otras medidas obligatorias de higiene y prevención, respondan con su teléfono móvil a un sencillo cuestionario de salud antes de acceder cada día a su centro de trabajo. En el caso de que las respuestas sean las óptimas, el trabajador obtiene un código QR verde, una especie de pasaporte, que deberá escanear en los puestos de seguridad de acceso a la empresa. En el supuesto de que el código obtenido sea de color rojo, la aplicación deriva al empleado a los servicios médicos de la compañía. Según Acciona, esta app “refuerza el modelo de alerta rápida y los controles de detección precoz, claves para prevenir contagios y combatir la pandemia”. El grupo, ante la buena acogida que, según asegura, está obteniendo la herramienta, ha decidido liberar “de manera gratuita y abierta su código fuente” para que otras empresas, entidades públicas e instituciones de todo tipo puedan aprovecharse también de sus ventajas y afrontar mejor la situación de la pandemia durante la desescalada. Acciona detalló que el modelo de licencia libre (Affero GPL) tiene una amplia difusión en el mercado y está abierto a otras aportaciones y modificaciones que también se pondrán a disposición de terceros. La compañía defendió que la app cumple con la normativa en materia de protección de datos. “Somos conscientes de que no todo el mundo puede realizar el mismo esfuerzo tecnológico que hemos desarrollado durante estos meses en Acciona, y por eso hemos decidido donar a la sociedad el código fuente de todo el conjunto de aplicaciones”, señaló Raúl Rivero, director de Tecnología de la empresa. Acciona, que gestiona servicios básicos que han seguido operando durante la crisis, recordó que en la actualidad está combinando el trabajo presencial de sus actividades básicas y el teletrabajo. Aproximadamente dos terceras partes de los empleados de la compañía en todo el mundo que pueden teletrabajar lo están haciendo.\n"
     ]
    },
    {
     "data": {
      "text/html": [
       "<img src=\"https://d500.epimg.net/cincodias/imagenes/2020/07/06/companias/1594065503_253859_1594065638_miniatura_normal.jpg\" width=\"500\"/>"
      ],
      "text/plain": [
       "<IPython.core.display.Image object>"
      ]
     },
     "metadata": {},
     "output_type": "display_data"
    },
    {
     "data": {
      "text/markdown": [
       "<a href=\"https://cincodias.elpais.com/cincodias/2020/07/06/companias/1594065503_253859.html#?ref=rss&format=simple&link=guid\">Link</a>"
      ],
      "text/plain": [
       "<IPython.core.display.Markdown object>"
      ]
     },
     "metadata": {},
     "output_type": "display_data"
    },
    {
     "name": "stdout",
     "output_type": "stream",
     "text": [
      "\n",
      "\n"
     ]
    }
   ],
   "source": [
    "yesterday = datetime.datetime.today() - datetime.timedelta(days=1)\n",
    "before_yes = datetime.datetime.today() - datetime.timedelta(days=2)\n",
    "\n",
    "for i in list(cincod.keys()):\n",
    "    if cincod[i]['date']['date2'][2] in [datetime.datetime.today().day,yesterday.day,before_yes.day]:\n",
    "        print(colored((cincod[i]['newspaper']).upper(),'green',attrs=['bold']))\n",
    "        print(colored(cincod[i]['date']['date1'],'grey',attrs=['bold']))\n",
    "        print(colored(cincod[i]['title'],'magenta',attrs=['bold']))\n",
    "        print(colored('Headline','blue'))\n",
    "        print(cincod[i]['headline'])\n",
    "        print(colored('Summarise','blue'))\n",
    "        \n",
    "        if cincod[i]['summarise'] != 'Premium Content':\n",
    "            print(cincod[i]['summarise'])\n",
    "        else:\n",
    "            print(colored(cincod[i]['summarise'],'red'))\n",
    "        print(colored('Text','blue'))\n",
    "        print(cincod[i]['text'])\n",
    "        url = cincod[i]['img']\n",
    "        display(Image(url=url,width=500))\n",
    "        display(Markdown('<a href=\"'+cincod[i]['link']+'\">Link</a>'))\n",
    "        print('\\n')"
   ]
  },
  {
   "cell_type": "code",
   "execution_count": null,
   "metadata": {},
   "outputs": [],
   "source": []
  }
 ],
 "metadata": {
  "kernelspec": {
   "display_name": "Python 3",
   "language": "python",
   "name": "python3"
  },
  "language_info": {
   "codemirror_mode": {
    "name": "ipython",
    "version": 3
   },
   "file_extension": ".py",
   "mimetype": "text/x-python",
   "name": "python",
   "nbconvert_exporter": "python",
   "pygments_lexer": "ipython3",
   "version": "3.7.6"
  }
 },
 "nbformat": 4,
 "nbformat_minor": 4
}
