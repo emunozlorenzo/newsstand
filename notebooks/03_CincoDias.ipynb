{
 "cells": [
  {
   "cell_type": "markdown",
   "metadata": {},
   "source": [
    "# RSS: Cinco Días"
   ]
  },
  {
   "cell_type": "markdown",
   "metadata": {},
   "source": [
    "## 1. Import Libraries"
   ]
  },
  {
   "cell_type": "code",
   "execution_count": 1,
   "metadata": {},
   "outputs": [],
   "source": [
    "import feedparser\n",
    "from gensim.summarization.summarizer import summarize\n",
    "from gensim.summarization import keywords\n",
    "import urllib.request\n",
    "from urllib.request import urlopen\n",
    "from bs4 import BeautifulSoup\n",
    "import requests\n",
    "import googletrans\n",
    "import datetime\n",
    "from termcolor import colored\n",
    "from IPython.display import display, Markdown, Latex, HTML\n",
    "import re\n",
    "from IPython.display import Image\n",
    "import urllib\n",
    "from wordcloud import WordCloud, STOPWORDS, ImageColorGenerator\n",
    "import matplotlib.pyplot as plt\n",
    "from nltk.corpus import stopwords\n",
    "import numpy as np\n",
    "from PIL import Image"
   ]
  },
  {
   "cell_type": "code",
   "execution_count": 2,
   "metadata": {},
   "outputs": [],
   "source": [
    "def get_only_text1(url):\n",
    "    \n",
    "    \"\"\"\n",
    "    return the title and the text of the article at the \n",
    "    specified url\n",
    "    \"\"\"\n",
    "    \n",
    "    page=urlopen(url)\n",
    "    soup=BeautifulSoup(page,\"html.parser\")\n",
    "    text=' '.join(map(lambda p: p.text, soup.find_all('p')))\n",
    "    # Eliminar Última Hora\n",
    "    rest = soup.find_all('p', attrs={'class' : \"line-clamp_x2 ue-c-widget__article-headline\"})[0].text\n",
    "    index = text.find(rest)\n",
    "    final_text = text[:index]\n",
    "    return [final_text,soup.title.text]\n",
    "\n",
    "def get_only_text(url):\n",
    "    \n",
    "    \"\"\"\n",
    "    return the title and the text of the article at the \n",
    "    specified url\n",
    "    \"\"\"\n",
    "    \n",
    "    page=urlopen(url)\n",
    "    soup=BeautifulSoup(page,\"html.parser\")\n",
    "    text=' '.join(map(lambda p: p.text, soup.find_all('p')))\n",
    "    return [text,soup.title.text]\n",
    "\n",
    "def find_between( s, first, last ):\n",
    "    try:\n",
    "        start = s.index( first ) + len( first )\n",
    "        end = s.index( last, start )\n",
    "        return s[start:end]\n",
    "    except ValueError:\n",
    "        return \"\"\n",
    "\n",
    "def string_found(string1, string2):\n",
    "    \n",
    "    if re.search(r\"\\b\" + re.escape(string1) + r\"\\b\", string2.lower()):\n",
    "        return True\n",
    "    return False     \n",
    "    \n",
    "def bank_tags(text):\n",
    "    tags = []\n",
    "    dict_banks = {'Santander':['santander'],'BBVA':['bbva'],'Bankinter':['bankinter'],'Bankia':['bankia'],\n",
    "                 'Sabadell':['sabadell'],'ING':['ing'],'Abanca':['abanca'],'Deutsche Bank':['deutsche'],\n",
    "                  'CaixaBank':['caixabank'],'Openbank':['openbank']}\n",
    "    for key,values in dict_banks.items():\n",
    "        for i in values:\n",
    "            if string_found(i,text.lower()):\n",
    "                tags.append(key)\n",
    "                break\n",
    "    return tags"
   ]
  },
  {
   "cell_type": "code",
   "execution_count": 3,
   "metadata": {},
   "outputs": [],
   "source": [
    "def cincod_news(cincod_entries,word_count=100):\n",
    "    cincod = {}\n",
    "    for i in range(len(cincod_entries)):\n",
    "        noticia = {'newspaper':None,'title':None,'headline':None,'summarise':None,'date':None,'link':None,'text':None,'current_date':None,'img':None,\n",
    "                   'premium':None,'tag':None}\n",
    "        # Periodico\n",
    "        noticia['newspaper'] = find_between(s=cincod_entries[i]['id'], first='//', last='.' )\n",
    "        # Title\n",
    "        noticia['title'] = cincod_entries[i]['title']\n",
    "        # Headline\n",
    "        headline =  re.sub(pattern='&quot;',repl='\"',string=cincod_entries[i]['summary_detail']['value'])\n",
    "        noticia['headline'] = headline\n",
    "        # Date\n",
    "        noticia['date'] = {'date1':cincod_entries[i]['published'],'date2':cincod_entries[i]['published_parsed']}\n",
    "        # Link\n",
    "        noticia['link'] = cincod_entries[i]['id']\n",
    "        # Text\n",
    "        text = get_only_text(cincod_entries[i]['id'])[0]\n",
    "        if text.find('»') != -1:\n",
    "            index = get_only_text(cincod_entries[i]['id'])[0].index('»') +3\n",
    "            text = get_only_text(cincod_entries[i]['id'])[0][index:]\n",
    "        noticia['text'] = text\n",
    "        # Bank Tags\n",
    "        noticia['tag'] = bank_tags(text)\n",
    "        # Summarise\n",
    "        noticia['summarise'] = summarize(text, word_count=word_count)        \n",
    "        # Current Date\n",
    "        noticia['current_date'] = datetime.datetime.now().timetuple()\n",
    "        # Image\n",
    "        if len(cincod_entries[i]['links']) > 1:\n",
    "            noticia['img'] = cincod_entries[i]['links'][1]['href']\n",
    "        else:\n",
    "             noticia['img'] = None\n",
    "        cincod.update({'Noticia'+'_'+str(\"%02d\")%(i+1):noticia})\n",
    "    return cincod"
   ]
  },
  {
   "cell_type": "markdown",
   "metadata": {},
   "source": [
    "## 2. RSS Cinco Días"
   ]
  },
  {
   "cell_type": "code",
   "execution_count": 4,
   "metadata": {},
   "outputs": [
    {
     "name": "stdout",
     "output_type": "stream",
     "text": [
      "Total Entradas Cinco Días: 27\n"
     ]
    }
   ],
   "source": [
    "url_cinco_dias = 'https://cincodias.elpais.com/seccion/rss/companias/'\n",
    "cincod = feedparser.parse(url_cinco_dias)\n",
    "cincod_entries = cincod['entries']\n",
    "\n",
    "print('Total Entradas Cinco Días:',len(cincod_entries))"
   ]
  },
  {
   "cell_type": "code",
   "execution_count": 5,
   "metadata": {},
   "outputs": [],
   "source": [
    "cincod = cincod_news(cincod_entries,word_count=100)"
   ]
  },
  {
   "cell_type": "code",
   "execution_count": 6,
   "metadata": {},
   "outputs": [
    {
     "name": "stdout",
     "output_type": "stream",
     "text": [
      "\u001b[1m\u001b[32mCINCODIAS\u001b[0m\n",
      "\u001b[1m\u001b[30mMon, 20 Jul 2020 21:57:58 +0200\u001b[0m\n",
      "\u001b[1m\u001b[35mIberdrola, primera empresa del Ibex por capitalización, tras superar a Inditex\u001b[0m\n",
      "\u001b[34mHeadline\u001b[0m\n",
      "Cerró la sesión con 71.727,6 millones, frente a los 71.651 millones del grupo textil\n",
      "\u001b[34mSummarise\u001b[0m\n",
      "Iberdrola se convirtió este lunes en la primera empresa del Ibex por capitalización bursátil, tras subir un 1,4% y superar ligeramente a Inditex, que ha sido líder del selectivo en los últimos años.\n",
      "La compañía energética cerró la sesión con 71.727,6 millones de euros de capitalización, a 11,24 euros por acción, mientras que el grupo textil de Amancio Ortega lo hizo a 71.651 millones, a 22,99 euros por título, incluyendo en ambos casos los derechos de cotización del scrip dividend (títulos para retribuir al accionista).\n",
      "\u001b[34mText\u001b[0m\n",
      "Iberdrola se convirtió este lunes en la primera empresa del Ibex por capitalización bursátil, tras subir un 1,4% y superar ligeramente a Inditex, que ha sido líder del selectivo en los últimos años. La compañía energética cerró la sesión con 71.727,6 millones de euros de capitalización, a 11,24 euros por acción, mientras que el grupo textil de Amancio Ortega lo hizo a 71.651 millones, a 22,99 euros por título, incluyendo en ambos casos los derechos de cotización del scrip dividend (títulos para retribuir al accionista). Con este movimiento, indican fuentes próximas a Iberdrola, “se pone de manifiesto el cambio de tendencia en un entorno marcado por la crisis derivada del Covid-19 y por la transición hacia una economía baja en carbono, con el European Green Deal y el PNIEC como claras hojas de ruta para los próximos años”. Además, “el Ibex se convierte así en el primer gran índice bursátil liderado por una compañía enfocada en las energías renovables”, subrayan. En lo que va de año, las acciones de la energética que preside Ignacio Sánchez Galán se ha revalorizado un 29,97 %, mientras que las de Inditex han bajado un 26,9 %, según datos de Infobolsa. Ya el pasado 17 de julio, Iberdrola superó de manera momentánea a Inditex por capitalización, aunque nunca lo había hecho hasta ahora al cierre de una sesión. Los analistas y agencias de calificación coinciden en las buenas perspectivas que se derivan del proceso de transición energética. En el caso concreto de Iberdrola, resaltan su buen posicionamiento para los próximos años y destacan la calidad de sus activos, con gran peso de los ingresos regulados; sus planes de inversión, principalmente, en renovables, y los buenos rendimientos para sus accionistas. Iberdrola, que presenta el miércoles sus resultados semestrales, obtuvo el año pasado un beneficio neto récord de 9 3.406 millones de euros, lo que supuso casi cuatro veces más que el año anterior. La misma tendencia ha seguido el Ebitda del grupo, que ha superado los 10.000 millones de euros en el último ejercicio. Otro de los aspectos que suelen destacar es la buena diversificación geográfica del grupo, presente en países con entornos estables y bajo riesgo, como Estados Unidos, Reino Unido, Brasil, Alemania, Francia o Italia. Y, más recientemente Australia, donde la compañía avanza en su oferta por la empresa eólica Infigen Energy. S&P ha reafirmado recientemente el rating BBB+ con perspectiva estable de Iberdrola, mientras que Goldman Sachs ha elevado su precio objetivo a 11 euros, con recomendación de comprar.\n"
     ]
    },
    {
     "ename": "TypeError",
     "evalue": "'module' object is not callable",
     "output_type": "error",
     "traceback": [
      "\u001b[1;31m---------------------------------------------------------------------------\u001b[0m",
      "\u001b[1;31mTypeError\u001b[0m                                 Traceback (most recent call last)",
      "\u001b[1;32m<ipython-input-6-9b2900aeb173>\u001b[0m in \u001b[0;36m<module>\u001b[1;34m\u001b[0m\n\u001b[0;32m     18\u001b[0m         \u001b[0mprint\u001b[0m\u001b[1;33m(\u001b[0m\u001b[0mcincod\u001b[0m\u001b[1;33m[\u001b[0m\u001b[0mi\u001b[0m\u001b[1;33m]\u001b[0m\u001b[1;33m[\u001b[0m\u001b[1;34m'text'\u001b[0m\u001b[1;33m]\u001b[0m\u001b[1;33m)\u001b[0m\u001b[1;33m\u001b[0m\u001b[1;33m\u001b[0m\u001b[0m\n\u001b[0;32m     19\u001b[0m         \u001b[0murl\u001b[0m \u001b[1;33m=\u001b[0m \u001b[0mcincod\u001b[0m\u001b[1;33m[\u001b[0m\u001b[0mi\u001b[0m\u001b[1;33m]\u001b[0m\u001b[1;33m[\u001b[0m\u001b[1;34m'img'\u001b[0m\u001b[1;33m]\u001b[0m\u001b[1;33m\u001b[0m\u001b[1;33m\u001b[0m\u001b[0m\n\u001b[1;32m---> 20\u001b[1;33m         \u001b[0mdisplay\u001b[0m\u001b[1;33m(\u001b[0m\u001b[0mImage\u001b[0m\u001b[1;33m(\u001b[0m\u001b[0murl\u001b[0m\u001b[1;33m=\u001b[0m\u001b[0murl\u001b[0m\u001b[1;33m,\u001b[0m\u001b[0mwidth\u001b[0m\u001b[1;33m=\u001b[0m\u001b[1;36m500\u001b[0m\u001b[1;33m)\u001b[0m\u001b[1;33m)\u001b[0m\u001b[1;33m\u001b[0m\u001b[1;33m\u001b[0m\u001b[0m\n\u001b[0m\u001b[0;32m     21\u001b[0m         \u001b[0mdisplay\u001b[0m\u001b[1;33m(\u001b[0m\u001b[0mMarkdown\u001b[0m\u001b[1;33m(\u001b[0m\u001b[1;34m'<a href=\"'\u001b[0m\u001b[1;33m+\u001b[0m\u001b[0mcincod\u001b[0m\u001b[1;33m[\u001b[0m\u001b[0mi\u001b[0m\u001b[1;33m]\u001b[0m\u001b[1;33m[\u001b[0m\u001b[1;34m'link'\u001b[0m\u001b[1;33m]\u001b[0m\u001b[1;33m+\u001b[0m\u001b[1;34m'\">Link</a>'\u001b[0m\u001b[1;33m)\u001b[0m\u001b[1;33m)\u001b[0m\u001b[1;33m\u001b[0m\u001b[1;33m\u001b[0m\u001b[0m\n\u001b[0;32m     22\u001b[0m         \u001b[0mprint\u001b[0m\u001b[1;33m(\u001b[0m\u001b[1;34m'\\n'\u001b[0m\u001b[1;33m)\u001b[0m\u001b[1;33m\u001b[0m\u001b[1;33m\u001b[0m\u001b[0m\n",
      "\u001b[1;31mTypeError\u001b[0m: 'module' object is not callable"
     ]
    }
   ],
   "source": [
    "yesterday = datetime.datetime.today() - datetime.timedelta(days=1)\n",
    "before_yes = datetime.datetime.today() - datetime.timedelta(days=2)\n",
    "\n",
    "for i in list(cincod.keys()):\n",
    "    if cincod[i]['date']['date2'][2] in [datetime.datetime.today().day,yesterday.day,before_yes.day]:\n",
    "        print(colored((cincod[i]['newspaper']).upper(),'green',attrs=['bold']))\n",
    "        print(colored(cincod[i]['date']['date1'],'grey',attrs=['bold']))\n",
    "        print(colored(cincod[i]['title'],'magenta',attrs=['bold']))\n",
    "        print(colored('Headline','blue'))\n",
    "        print(cincod[i]['headline'])\n",
    "        print(colored('Summarise','blue'))\n",
    "        \n",
    "        if cincod[i]['summarise'] != 'Premium Content':\n",
    "            print(cincod[i]['summarise'])\n",
    "        else:\n",
    "            print(colored(cincod[i]['summarise'],'red'))\n",
    "        print(colored('Text','blue'))\n",
    "        print(cincod[i]['text'])\n",
    "        url = cincod[i]['img']\n",
    "        display(Image(url=url,width=500))\n",
    "        display(Markdown('<a href=\"'+cincod[i]['link']+'\">Link</a>'))\n",
    "        print('\\n')"
   ]
  },
  {
   "cell_type": "code",
   "execution_count": null,
   "metadata": {},
   "outputs": [],
   "source": []
  }
 ],
 "metadata": {
  "kernelspec": {
   "display_name": "Python 3",
   "language": "python",
   "name": "python3"
  },
  "language_info": {
   "codemirror_mode": {
    "name": "ipython",
    "version": 3
   },
   "file_extension": ".py",
   "mimetype": "text/x-python",
   "name": "python",
   "nbconvert_exporter": "python",
   "pygments_lexer": "ipython3",
   "version": "3.7.6"
  }
 },
 "nbformat": 4,
 "nbformat_minor": 4
}
