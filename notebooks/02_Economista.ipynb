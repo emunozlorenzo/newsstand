{
 "cells": [
  {
   "cell_type": "markdown",
   "metadata": {},
   "source": [
    "# RSS: Economista"
   ]
  },
  {
   "cell_type": "markdown",
   "metadata": {},
   "source": [
    "## 1. Import Libraries"
   ]
  },
  {
   "cell_type": "code",
   "execution_count": 76,
   "metadata": {},
   "outputs": [],
   "source": [
    "import feedparser\n",
    "from gensim.summarization.summarizer import summarize\n",
    "from gensim.summarization import keywords\n",
    "import urllib.request\n",
    "from urllib.request import urlopen\n",
    "from bs4 import BeautifulSoup\n",
    "import requests\n",
    "import datetime\n",
    "from termcolor import colored\n",
    "from IPython.display import display, Markdown, Latex, HTML\n",
    "import re\n",
    "from IPython.display import Image\n",
    "import urllib\n",
    "from wordcloud import WordCloud, STOPWORDS, ImageColorGenerator\n",
    "import matplotlib.pyplot as plt\n",
    "from nltk.corpus import stopwords\n",
    "import numpy as np\n",
    "from PIL import Image"
   ]
  },
  {
   "cell_type": "code",
   "execution_count": 77,
   "metadata": {},
   "outputs": [],
   "source": [
    "def get_only_text1(url):\n",
    "    \n",
    "    \"\"\"\n",
    "    return the title and the text of the article at the \n",
    "    specified url\n",
    "    \"\"\"\n",
    "    \n",
    "    page=urlopen(url)\n",
    "    soup=BeautifulSoup(page,\"html.parser\")\n",
    "    text=' '.join(map(lambda p: p.text, soup.find_all('p')))\n",
    "    # Eliminar Última Hora\n",
    "    rest = soup.find_all('p', attrs={'class' : \"line-clamp_x2 ue-c-widget__article-headline\"})[0].text\n",
    "    index = text.find(rest)\n",
    "    final_text = text[:index]\n",
    "    return [final_text,soup.title.text]\n",
    "\n",
    "def get_only_text(url):\n",
    "    \n",
    "    \"\"\"\n",
    "    return the title and the text of the article at the \n",
    "    specified url\n",
    "    \"\"\"\n",
    "    \n",
    "    page=urlopen(url)\n",
    "    soup=BeautifulSoup(page,\"html.parser\")\n",
    "    text=' '.join(map(lambda p: p.text, soup.find_all('p')))\n",
    "    return [text,soup.title.text]\n",
    "\n",
    "def find_between( s, first, last ):\n",
    "    try:\n",
    "        start = s.index( first ) + len( first )\n",
    "        end = s.index( last, start )\n",
    "        return s[start:end]\n",
    "    except ValueError:\n",
    "        return \"\"\n",
    "\n",
    "def string_found(string1, string2):\n",
    "    \n",
    "    if re.search(r\"\\b\" + re.escape(string1) + r\"\\b\", string2.lower()):\n",
    "        return True\n",
    "    return False     \n",
    "    \n",
    "def bank_tags(text):\n",
    "    tags = []\n",
    "    dict_banks = {'Santander':['santander'],'BBVA':['bbva'],'Bankinter':['bankinter'],'Bankia':['bankia'],\n",
    "                 'Sabadell':['sabadell'],'ING':['ing'],'Abanca':['abanca'],'Deutsche Bank':['deutsche'],\n",
    "                  'CaixaBank':['caixabank'],'Openbank':['openbank']}\n",
    "    for key,values in dict_banks.items():\n",
    "        for i in values:\n",
    "            if string_found(i,text.lower()):\n",
    "                tags.append(key)\n",
    "                break\n",
    "    return tags"
   ]
  },
  {
   "cell_type": "code",
   "execution_count": 78,
   "metadata": {},
   "outputs": [],
   "source": [
    "def economista_news(economista_entries,word_count=100):\n",
    "    economista = {}\n",
    "    for i in range(len(economista_entries)):\n",
    "        noticia = {'newspaper':None,'title':None,'headline':None,'summarise':None,'date':None,'link':None,\n",
    "                   'text':None,'current_date':None,'img':None,'premium':None,'tag':None}\n",
    "        # Periodico\n",
    "        noticia['newspaper'] = find_between(s=economista_entries[i]['id'], first='www.el', last='.' )\n",
    "        # Title\n",
    "        noticia['title'] = economista_entries[i]['title']\n",
    "        # Headline\n",
    "        headline =  re.sub(pattern='&quot;',repl='\"',string=economista_entries[i]['summary_detail']['value'])\n",
    "        noticia['headline'] = headline\n",
    "        # Date\n",
    "        noticia['date'] = {'date1':economista_entries[i]['published'],'date2':economista_entries[i]['published_parsed']}\n",
    "        # Link\n",
    "        noticia['link'] = economista_entries[i]['id']\n",
    "        # Text\n",
    "        text = get_only_text(economista_entries[i]['id'])[0][len(headline)+1:]\n",
    "        if  text.find('\\n\\t\\t\\t\\tif') != -1:\n",
    "            index =  text.find('\\n\\t\\t\\t\\tif')\n",
    "            text = text[:index]\n",
    "        noticia['text'] = text\n",
    "        # Bank Tags\n",
    "        noticia['tag'] = bank_tags(text)\n",
    "        # Summarise\n",
    "        noticia['summarise'] = summarize(text, word_count=word_count)\n",
    "        # Current Date\n",
    "        noticia['current_date'] = datetime.datetime.now().timetuple()\n",
    "        # Image\n",
    "        noticia['img'] = None\n",
    "        economista.update({'Noticia'+'_'+str(\"%02d\")%(i+1):noticia})\n",
    "    return economista"
   ]
  },
  {
   "cell_type": "markdown",
   "metadata": {},
   "source": [
    "## 2. RSS Economista"
   ]
  },
  {
   "cell_type": "code",
   "execution_count": 79,
   "metadata": {},
   "outputs": [
    {
     "name": "stdout",
     "output_type": "stream",
     "text": [
      "Total Entradas Economista: 20\n"
     ]
    }
   ],
   "source": [
    "url_economista = 'https://www.eleconomista.es/rss/rss-empresas.php'\n",
    "economista = feedparser.parse(url_economista)\n",
    "economista_entries = economista['entries']\n",
    "\n",
    "print('Total Entradas Economista:',len(economista_entries))"
   ]
  },
  {
   "cell_type": "code",
   "execution_count": 72,
   "metadata": {},
   "outputs": [
    {
     "name": "stdout",
     "output_type": "stream",
     "text": [
      "http://www.eleconomista.es/empresas-finanzas/noticias/10678098/07/20/Transportes-se-reunira-este-miercoles-con-el-camion-para-evitar-la-huelga.html\n"
     ]
    }
   ],
   "source": [
    "url = economista_entries[0]['id']\n",
    "print(url)\n",
    "page=urlopen(url)\n",
    "soup=BeautifulSoup(page,\"html.parser\")\n",
    "text=' '.join(map(lambda p: p.text, soup.find_all('p')))"
   ]
  },
  {
   "cell_type": "code",
   "execution_count": 74,
   "metadata": {},
   "outputs": [
    {
     "data": {
      "text/plain": [
       "3296"
      ]
     },
     "execution_count": 74,
     "metadata": {},
     "output_type": "execute_result"
    }
   ],
   "source": [
    "text.find('\\n\\t\\t\\t\\tif')"
   ]
  },
  {
   "cell_type": "code",
   "execution_count": 75,
   "metadata": {},
   "outputs": [
    {
     "data": {
      "text/plain": [
       "'El Ministerio de Transportes tiene previsto reunirse este miércoles con el sector del transporte de mercancías por carretera para tratar de acercar posturas y evitar el paro patronal convocado para los próximos 27 y 28 de julio. Según informan fuentes empresariales a este diario, la secretaría general de transportes se puso ayer en contacto con las distintas asociaciones para conocer la disponibilidad de los miembros del grupo negociador del Comité Nacional de Transporte por Carretera, aunque todavía no hay una cita cerrada oficialmente. El Ministerio de Transportes tiene previsto reunirse este miércoles con el sector del transporte de mercancías por carretera para tratar de acercar posturas y evitar el paro patronal convocado para los próximos 27 y 28 de julio. Según informan fuentes empresariales a este diario, la secretaría general de transportes se puso ayer en contacto con las distintas asociaciones para conocer la disponibilidad de los miembros del grupo negociador del Comité Nacional de Transporte por Carretera, aunque todavía no hay una cita cerrada oficialmente. En este punto, fuentes del Ministerio confirman a este diario que la reunión sí que está prevista para el próximo miércoles a media mañana y que asistirán la secretaria general de Transportes, María José Rallo, la directora general de transporte terrestre, Mercedes Gómez y algunos miembros del Comité.    A finales de junio, el sector lanzó un ultimátum al departamento que dirige José Luis Ábalos por la falta de medidas aprobadas para evitar la quiebra de las empresas, que denuncian que la actividad ha caído un 30% y que se han distorsionado los flujos de carga, por lo que muchas veces se ven obligados a realizar viajes en vacío. \\nEn los primeros compases de julio el Gobierno aprobó una serie de medidas para ayudar al transporte por carretera permitiendo que los propietarios de los camiones retrasar el pago de los leasing, renting y cualquier otro tipo de préstamo que tuvieran destinado a la compra de los vehículos pesados. Aunque la medida se encuentra entre las solicitadas por el sector, no ha sido considerada suficiente para desconvocar la huelga. \"La inacción parece quedar atrás, si bien las medidas son insuficientes y solo atienden a una parte del problema\" \"De momento, ahí estamos. Las medidas que se aprobaron el martes pasado son un primer paso del Ministerio en la buena dirección para poner en valor este sector estratégico. La inacción parece quedar atrás, si bien las medidas son insuficientes y solo atienden a una parte del problema\", aseguró Marcos Basante, presidente de Astic en una entrevista con este diario. \\nEn nuestro país hay 102.000 autorizaciones de transportes de mercancía y unos 3,5 o 3,6 camiones de media por licencia por lo que está previsto que paren unos 360.000 camiones esos días. El 97% del Comité ha aprobado las movilizaciones. ¿Qué pide el sector? La rama de mercancías del Comité de Transporte por Carretera pidió medidas enfocadas a conseguir liquidez, así como la racionalización de las cargas que sufre la actividad (pago de impuestos, seguridad social, leasing...) para sobrevivir, además de las reclamaciones históricas como la armonización fiscal en el transporte o su \"oposición al desvío obligatorio de vehículos pesados hacia vías de peaje\".'"
      ]
     },
     "execution_count": 75,
     "metadata": {},
     "output_type": "execute_result"
    }
   ],
   "source": [
    "text[:3296]"
   ]
  },
  {
   "cell_type": "code",
   "execution_count": 80,
   "metadata": {},
   "outputs": [],
   "source": [
    "economista = economista_news(economista_entries,word_count=100)"
   ]
  },
  {
   "cell_type": "code",
   "execution_count": 81,
   "metadata": {},
   "outputs": [
    {
     "name": "stdout",
     "output_type": "stream",
     "text": [
      "\u001b[1m\u001b[32mECONOMISTA\u001b[0m\n",
      "\u001b[1m\u001b[30mMon, 20 Jul 2020 22:09:04 +0200\u001b[0m\n",
      "\u001b[1m\u001b[35mLa industria del cemento perderá el 20% de su negocio en 2020, la mayor caída en ocho años\u001b[0m\n",
      "\u001b[34mHeadline\u001b[0m\n",
      "La industria del cemento en España anticipa un deterioro del consumo de cemento en el entorno del 20% al cierre de 2020 como consecuencia del impacto de la crisis por el Covid-19.\n",
      "\u001b[34mSummarise\u001b[0m\n",
      "Con estas previsiones, el consumo de cemento al final del año se situaría por debajo de los 11,5 millones de toneladas, una cifra que lo devuelve al nivel de hace cinco años y que supone casi la tercera parte de la capacidad que tienen las fábricas españolas, lo que amenaza la continuidad de alguna de ellas.\n",
      "En este entorno, García Brosa, que incide en que \"la palabra que mejor describe la situación actual y la previsión para este año es incertidumbre\", urge la implantación de \"un ajuste en frontera, porque la gran pérdida de exportaciones en el mercado internacional se produce frente a países como Turquía, Egipto, Argelia o Túnez, que no tienen el mismo nivel de compromiso con las emisiones de CO2\".\n",
      "\u001b[34mText\u001b[0m\n",
      "La industria del cemento en España anticipa un deterioro del consumo de cemento en el entorno del 20% al cierre de 2020 como consecuencia del impacto de la crisis por el Covid-19. Así lo prevé la Agrupación de fabricantes de cemento de España (Oficemen), de manera que la segunda mitad del presente ejercicio profundizará en la caída registrada en el primer semestre, que alcanzó el 16,5%, hasta los 6,18 millones de toneladas. Con ello, romperá con tres años consecutivos de crecimiento y registrará el mayor descenso desde 2012, cuando la crisis financiera aún impactaba en esta actividad aquel año cayó el 34%. Tras superar la paralización total que sufrió la construcción durante varias semanas en marzo y abril y pese a la mejora de las últimas semanas, Oficemen no espera un cambio de tendencia en los próximos meses. Su presidente, Víctor García Brosa, señala en una entrevista con elEconomista que el recorte proyectado para este año contrasta con un crecimiento estimado, antes de la pandemia, de alrededor del 2%. Con estas previsiones, el consumo de cemento al final del año se situaría por debajo de los 11,5 millones de toneladas, una cifra que lo devuelve al nivel de hace cinco años y que supone casi la tercera parte de la capacidad que tienen las fábricas españolas, lo que amenaza la continuidad de alguna de ellas. Máxime en un contexto en el que la evolución de las exportaciones ha agudizado si cabe su tendencia bajista por las medidas que lastran su competitividad frente a otros países de fuera de la Unión Europea.  En este entorno, García Brosa, que incide en que \"la palabra que mejor describe la situación actual y la previsión para este año es incertidumbre\", urge la implantación de \"un ajuste en frontera, porque la gran pérdida de exportaciones en el mercado internacional se produce frente a países como Turquía, Egipto, Argelia o Túnez, que no tienen el mismo nivel de compromiso con las emisiones de CO2\".  Además, el directivo advierte de que la recuperación del consumo en el futuro dependerá en gran medida \"de los planes de reactivación que el Gobierno pueda llegar a crear\". Reclama un impulso a la construcción por sus elevados retornos y generación de empleo desde el ámbito de las inversiones en infraestructuras para cumplir la Agenda 2030 y en el de la promoción de vivienda, tanto nueva como social con alquileres a largo plazo, y de rehabilitación. ¿No eres usuario?\n"
     ]
    },
    {
     "data": {
      "text/markdown": [
       "<a href=\"http://www.eleconomista.es/empresas-finanzas/noticias/10678124/07/20/La-industria-del-cemento-perdera-el-20-de-su-negocio-en-2020-la-mayor-caida-en-ocho-anos.html\">Link</a>"
      ],
      "text/plain": [
       "<IPython.core.display.Markdown object>"
      ]
     },
     "metadata": {},
     "output_type": "display_data"
    },
    {
     "name": "stdout",
     "output_type": "stream",
     "text": [
      "\n",
      "\n",
      "\u001b[1m\u001b[32mECONOMISTA\u001b[0m\n",
      "\u001b[1m\u001b[30mMon, 20 Jul 2020 21:41:36 +0200\u001b[0m\n",
      "\u001b[1m\u001b[35mTransportes se reunirá este miércoles con el camión para evitar la huelga\u001b[0m\n",
      "\u001b[34mHeadline\u001b[0m\n",
      "El Ministerio de Transportes tiene previsto reunirse este miércoles con el sector del transporte de mercancías por carretera para tratar de acercar posturas y evitar el paro patronal convocado para los próximos 27 y 28 de julio. Según informan fuentes empresariales a este diario, la secretaría general de transportes se puso ayer en contacto con las distintas asociaciones para conocer la disponibilidad de los miembros del grupo negociador del Comité Nacional de Transporte por Carretera, aunque todavía no hay una cita cerrada oficialmente.\n",
      "\u001b[34mSummarise\u001b[0m\n",
      "Según informan fuentes empresariales a este diario, la secretaría general de transportes se puso ayer en contacto con las distintas asociaciones para conocer la disponibilidad de los miembros del grupo negociador del Comité Nacional de Transporte por Carretera, aunque todavía no hay una cita cerrada oficialmente.\n",
      "\"La inacción parece quedar atrás, si bien las medidas son insuficientes y solo atienden a una parte del problema\" \"De momento, ahí estamos.\n",
      "La inacción parece quedar atrás, si bien las medidas son insuficientes y solo atienden a una parte del problema\", aseguró Marcos Basante, presidente de Astic en una entrevista con este diario.\n",
      "\u001b[34mText\u001b[0m\n",
      "El Ministerio de Transportes tiene previsto reunirse este miércoles con el sector del transporte de mercancías por carretera para tratar de acercar posturas y evitar el paro patronal convocado para los próximos 27 y 28 de julio. Según informan fuentes empresariales a este diario, la secretaría general de transportes se puso ayer en contacto con las distintas asociaciones para conocer la disponibilidad de los miembros del grupo negociador del Comité Nacional de Transporte por Carretera, aunque todavía no hay una cita cerrada oficialmente. En este punto, fuentes del Ministerio confirman a este diario que la reunión sí que está prevista para el próximo miércoles a media mañana y que asistirán la secretaria general de Transportes, María José Rallo, la directora general de transporte terrestre, Mercedes Gómez y algunos miembros del Comité.    A finales de junio, el sector lanzó un ultimátum al departamento que dirige José Luis Ábalos por la falta de medidas aprobadas para evitar la quiebra de las empresas, que denuncian que la actividad ha caído un 30% y que se han distorsionado los flujos de carga, por lo que muchas veces se ven obligados a realizar viajes en vacío. \n",
      "En los primeros compases de julio el Gobierno aprobó una serie de medidas para ayudar al transporte por carretera permitiendo que los propietarios de los camiones retrasar el pago de los leasing, renting y cualquier otro tipo de préstamo que tuvieran destinado a la compra de los vehículos pesados. Aunque la medida se encuentra entre las solicitadas por el sector, no ha sido considerada suficiente para desconvocar la huelga. \"La inacción parece quedar atrás, si bien las medidas son insuficientes y solo atienden a una parte del problema\" \"De momento, ahí estamos. Las medidas que se aprobaron el martes pasado son un primer paso del Ministerio en la buena dirección para poner en valor este sector estratégico. La inacción parece quedar atrás, si bien las medidas son insuficientes y solo atienden a una parte del problema\", aseguró Marcos Basante, presidente de Astic en una entrevista con este diario. \n",
      "En nuestro país hay 102.000 autorizaciones de transportes de mercancía y unos 3,5 o 3,6 camiones de media por licencia por lo que está previsto que paren unos 360.000 camiones esos días. El 97% del Comité ha aprobado las movilizaciones. ¿Qué pide el sector? La rama de mercancías del Comité de Transporte por Carretera pidió medidas enfocadas a conseguir liquidez, así como la racionalización de las cargas que sufre la actividad (pago de impuestos, seguridad social, leasing...) para sobrevivir, además de las reclamaciones históricas como la armonización fiscal en el transporte o su \"oposición al desvío obligatorio de vehículos pesados hacia vías de peaje\".\n"
     ]
    },
    {
     "data": {
      "text/markdown": [
       "<a href=\"http://www.eleconomista.es/empresas-finanzas/noticias/10678098/07/20/Transportes-se-reunira-este-miercoles-con-el-camion-para-evitar-la-huelga.html\">Link</a>"
      ],
      "text/plain": [
       "<IPython.core.display.Markdown object>"
      ]
     },
     "metadata": {},
     "output_type": "display_data"
    },
    {
     "name": "stdout",
     "output_type": "stream",
     "text": [
      "\n",
      "\n",
      "\u001b[1m\u001b[32mECONOMISTA\u001b[0m\n",
      "\u001b[1m\u001b[30mMon, 20 Jul 2020 21:23:26 +0200\u001b[0m\n",
      "\u001b[1m\u001b[35mNorges Bank aumenta su participación en Sabadell por encima del 3%\u001b[0m\n",
      "\u001b[34mHeadline\u001b[0m\n",
      "Norges Bank ha incrementado su participación en Banco Sabadell hasta superar el 3% de su capital social, según consta en los registros de la Comisión Nacional del Mercado de Valores (CNMV).\n",
      "\u001b[34mSummarise\u001b[0m\n",
      "Norges Bank ha incrementado su participación en Banco Sabadell hasta superar el 3% de su capital social, según consta en los registros de la Comisión Nacional del Mercado de Valores (CNMV).\n",
      "Esta operación supone, asimismo, la primera transacción que Norges Bank lleva a cabo desde enero de 2019 en Banco Sabadell, cuando remitió su última actualización al regulador, en la que reducía por primera vez su participación por debajo del 3%.\n",
      "De esta forma, la entidad noruega vuelve a posicionarse como uno de los únicos tres accionistas mayoritarios de Sabadell con una participación por encima de este umbral del 3%, solo por detrás de Sanders Capital y Fintech Europe.\n",
      "\u001b[34mText\u001b[0m\n",
      "Norges Bank ha incrementado su participación en Banco Sabadell hasta superar el 3% de su capital social, según consta en los registros de la Comisión Nacional del Mercado de Valores (CNMV). Este movimiento se produjo el pasado 17 de julio y supuso la adquisición de más de 2.000 títulos de la entidad española, que ahora cotizan a un precio de 0,34 euros por acción. En lo que va de año, Sabadell se ha dejado cerca de un 70% de su valor en el parqué, a raíz del estallido de la crisis sanitaria del coronavirus, que ha lastrado las expectativas del sector financiero. Esta operación supone, asimismo, la primera transacción que Norges Bank lleva a cabo desde enero de 2019 en Banco Sabadell, cuando remitió su última actualización al regulador, en la que reducía por primera vez su participación por debajo del 3%. De esta forma, la entidad noruega vuelve a posicionarse como uno de los únicos tres accionistas mayoritarios de Sabadell con una participación por encima de este umbral del 3%, solo por detrás de Sanders Capital y Fintech Europe. ¿No eres usuario?\n"
     ]
    },
    {
     "data": {
      "text/markdown": [
       "<a href=\"http://www.eleconomista.es/empresas-finanzas/noticias/10678075/07/20/Norges-Bank-aumenta-su-participacion-en-Sabadell-por-encima-del-3.html\">Link</a>"
      ],
      "text/plain": [
       "<IPython.core.display.Markdown object>"
      ]
     },
     "metadata": {},
     "output_type": "display_data"
    },
    {
     "name": "stdout",
     "output_type": "stream",
     "text": [
      "\n",
      "\n",
      "\u001b[1m\u001b[32mECONOMISTA\u001b[0m\n",
      "\u001b[1m\u001b[30mMon, 20 Jul 2020 20:33:11 +0200\u001b[0m\n",
      "\u001b[1m\u001b[35mRTVE cuesta más que Atresmedia y Mediaset y está a la cola en audiencia\u001b[0m\n",
      "\u001b[34mHeadline\u001b[0m\n",
      "RTVE ha cerrado 2019 con unas pérdidas de casi 30 millones, pese a haber elevado levemente sus ingresos, mientras que las dos grandes cadenas privadas (Atresmedia y Mediaset) han logrado aumentar sus beneficios en un contexto de crisis publicitaria. La cadena pública explica que tras sus números rojos se encuentra un aumento de los costes de personal y el cambio en el criterio para deducirse el IVA, que se ha traducido en un gasto extra de unos 60 millones de euros.\n",
      "\u001b[34mSummarise\u001b[0m\n",
      "RTVE ha cerrado 2019 con unas pérdidas de casi 30 millones, pese a haber elevado levemente sus ingresos, mientras que las dos grandes cadenas privadas (Atresmedia y Mediaset) han logrado aumentar sus beneficios en un contexto de crisis publicitaria.\n",
      "La pública cerró 2019 con 6.542 empleados y unos costes de personal del 425 millones, un 7% más  La plantilla es el principal gasto de RTVE, que tiene casi el triple de trabajadores que Atresmedia, que lidera los informativos.\n",
      "Así, los gastos de personal de la cadena que dirige Rosa María Mateo llegaron a los 425 millones en 2019, un 6,9% más, mientras que Mediaset destinó 121,5 millones a pagar a sus trabajadores, y Atresmedia, 161,7 millones.\n",
      "\u001b[34mText\u001b[0m\n",
      " RTVE ha cerrado 2019 con unas pérdidas de casi 30 millones, pese a haber elevado levemente sus ingresos, mientras que las dos grandes cadenas privadas (Atresmedia y Mediaset) han logrado aumentar sus beneficios en un contexto de crisis publicitaria. La cadena pública explica que tras sus números rojos se encuentra un aumento de los costes de personal y el cambio en el criterio para deducirse el IVA, que se ha traducido en un gasto extra de unos 60 millones de euros.  La Corporación cuesta al bolsillo del contribuyente mucho más que el presupuesto que necesitan la dueña de Antena 3 y la de Telecinco para funcionar todo el año y, pese a contar con más recursos y personal, no logra frenar el descenso de la audiencia: terminó 2019 la tercera del ranking con un share del 15,5%, un punto menos que un año antes, y en 2020 sigue a la baja. En concreto, los costes de explotación de RTVE alcanzaron los 976,9 millones, mientras que los de Atresmedia sumaron los 855 millones y los de Mediaset, que no tiene radio, fueron de 662,3 millones de euros.   La pública cerró 2019 con 6.542 empleados y unos costes de personal del 425 millones, un 7% más  La plantilla es el principal gasto de RTVE, que tiene casi el triple de trabajadores que Atresmedia, que lidera los informativos. La Corporación cerró el año pasado con 6.542 empleados, un 1,3% más tras sumar 98 eventuales, mientras que la cadena de Planeta, que también tiene emisora (Onda Cero), concluyó el ejercicio con 2.527 trabajadores. La comparativa con Mediaset, que tiene una plantilla formada por 1.559 trabajadores, es mucho más exagerada por la falta de radio, como ya se ha apuntado. Así, los gastos de personal de la cadena que dirige Rosa María Mateo llegaron a los 425 millones en 2019, un 6,9% más, mientras que Mediaset destinó 121,5 millones a pagar a sus trabajadores, y Atresmedia, 161,7 millones.  En este punto, cabe señalar que los costes en programación de la cadena de Planeta han sido levemente superiores a los registrados por RTVE, que metió la tijera para tratar de frenar las pérdidas. La primera reconoce un gasto en programas de 391,8 millones y la pública, que emite fútbol, de 325 millones. Las cuentas de RTVE muestran un descenso en las aportaciones realizadas por las telecos y las televisiones privadas en abierto debido a que los ingresos publicitarios han caído (Atresmedia ha facturado un 0,3% menos y Mediaset registró una caída del 3,5%). Aun así, el cómputo global arroja un alza del 1,4%, hasta los 987 millones (unos 11 millones más), porque el Ejecutivo ha incrementado la compensación por servicio público, las teles de pago han aportado un 30% más y Hacienda aprobó una inyección extraordinaria de 6,4 millones para compensar los mayores costes por tener que emitir en simulcast por el dividendo digital. Pese a contar con un mayor presupuesto que sus competidoras, que cerraron 2019 con una audiencia global del 28,9% y el 26,2%, la administradora única de RTVE ha reclamado más recursos para ganar telespectadores. \"Para tener más público se necesita dinero. Los programas baratos no venden\", aseguró Mateo en una comparecencia en el Senado a finales de junio.  Para la ejecutiva fue un error retirar la publicidad, ya que su presupuesto ahora no llega a los 1.000 millones, mientras que en 2012 era de 1.200 millones. En este punto, no ha pedido abiertamente que vuelva, sino que las plataformas como Netflix también financien a la cadena pública y que el Gobierno garantice la aportación extra para comprar los Juegos Olímpicos. ¿No eres usuario?\n"
     ]
    },
    {
     "data": {
      "text/markdown": [
       "<a href=\"http://www.eleconomista.es/empresas-finanzas/noticias/10678021/07/20/RTVE-cuesta-mas-que-Atresmedia-y-Mediaset-y-esta-a-la-cola-en-audiencia.html\">Link</a>"
      ],
      "text/plain": [
       "<IPython.core.display.Markdown object>"
      ]
     },
     "metadata": {},
     "output_type": "display_data"
    },
    {
     "name": "stdout",
     "output_type": "stream",
     "text": [
      "\n",
      "\n",
      "\u001b[1m\u001b[32mECONOMISTA\u001b[0m\n",
      "\u001b[1m\u001b[30mMon, 20 Jul 2020 20:33:03 +0200\u001b[0m\n",
      "\u001b[1m\u001b[35m\"Una inteligencia artificial a la europea\"\u001b[0m\n",
      "\u001b[34mHeadline\u001b[0m\n",
      "La inteligencia artificial (IA) es el motor del imparable crecimiento de los intercambios de datos entre personas, personas y máquinas y máquinas entre sí. Alrededor de este concepto se plantean múltiples cuestiones, de orden técnico, económico e incluso ético que están alimentando un debate sobre la centralidad del ser humano en el nuevo orden del conocimiento, tal vez avanzando en lo que José María Lassalle ha calificado de \"humanismo tecnológico\".\n",
      "\u001b[34mSummarise\u001b[0m\n",
      "Tal vez la vertiente ética, que se concreta en el respeto a la autonomía humana, la prevención del daño y la equidad y no discriminacion entre usuarios, beneficiarios y afectados en sus derechos fundamentales por sistemas de IA, sea el rasgo distintivo de esa reflexión de los expertos europeos.\n",
      "\u001b[34mText\u001b[0m\n",
      "La inteligencia artificial (IA) es el motor del imparable crecimiento de los intercambios de datos entre personas, personas y máquinas y máquinas entre sí. Alrededor de este concepto se plantean múltiples cuestiones, de orden técnico, económico e incluso ético que están alimentando un debate sobre la centralidad del ser humano en el nuevo orden del conocimiento, tal vez avanzando en lo que José María Lassalle ha calificado de \"humanismo tecnológico\". La inteligencia artificial se contrapone a la inteligencia natural o intuición, propia de los seres humanos. Según la definición de Kaplan y Heinlein, la IA es \"la capacidad de un sistema de interpretar correctamente información externa, aprender de la misma y de usar tal aprendizaje para ejecutar ciertas tareas y obtener ciertos resultados, mediante un proceso flexible de adaptación\". El célebre matemático Alan Turing, fue un precursor de la IA en la década de los 40 del siglo pasado mediante el desarrollo del concepto de neuronas artificiales, que trata de replicar los procesos lógicos del cerebro humano, si bien formalmente el término fue empleado por primera vez en 1956 por el profesor John McCarthy, quien impulsó el desarrollo del lenguaje de programación propio de la IA, LISP, con la secuencia \"si\", \"entonces\", \"por lo tanto\", que seguimos viendo reflejado en los resultados del análisis masivo de datos, con creciente precisión, dentro de lo que de otro modo podría llegar a intuirse mediante la asociación de una fracción de los datos basada en la experiencia. No en balde, como escribió Rob MacDonald, la IA es el descubrimiento de patrones predominante de correlaciones. La IA es un peldaño en la escalera de la emulación del raciocinio humano con resultados superlativos que han descrito Zikopoulos y Thomas, pues ninguna persona puede almacenar tanta información ni procesar tan rápidamente como lo hace el ordenador más rudimentario capaz de aprender y resolver problemas, mediante la percepción, el procesamiento de lenguaje natural y el movimiento y manipulación de objetos. Impera en la IA un principio de orden, de tal manera que cualquier aproximación al respecto exige una arquitectura de la información, sólida, coherente y expansiva; con datos unificados, aunque estén dispersos pero clasificados para facilitar su análisis, resultando en información obtenida de forma sencilla y accesible, que permita el enriquecimiento y la extrapolación de los mismos datos con fiabilidad y transparencia. La IA ayuda a la creación de procesos y flujos de toma de decisiones inteligentes. Adicionalmente, la confluencia de sistemas cognitivos robustos, consistentes y dinámicos, con la conectividad ultra rápida asociada al 5G puede abrir oportunidades inéditas de mejora de la productividad vinculada a dispositivos conectados entre sí en Internet, sin más intervención humana que la requerida para su programación y control, exigencia de una IA fiable, según el emergente canon europeo y a caballo de la propuesta de mejora del capital humano e incremento del capital tecnológico realizada por el Gobernador del Banco de España en su intervención ante la Comisión para la Reconstrucción Social y Económica de España el 23 de Junio pasado. No obstante tratarse de un fenómeno global y unitario, estamos asistiendo al surgimiento de una IA \"made in Europe\", como la describe el documento \"Directrices éticas para una IA\" del grupo de expertos de alto nivel promovido por la Comisión Europea en 2018, presidido por el finlandés Pekka Ala-Pietilä. Como ocurre con el reglamento general europeo de protección de datos de 2016, se trata de una orientación concreta de la IA en aspectos que deben sustentar y a la vez superar el marco técnico de su diseño, desarrollo y evolución, en lo que son más bien los titanes de Internet norteamericanos los que lideran con logros concretos, que se nutren en parte de los antecedentes académicos a que me he referido y que muestran la intensa y fructífera colaboración entre empresas y centros de investigación, especialmente en los Estados Unidos. Las referidas directrices éticas de la UE para la inteligencia artificial exigen que esta cumpla y respete las leyes, se inspire en principios y valores inequívocamente correctos para el bienestar de los individuos y la convivencia pacífica entre los mismos y sea desde el punto de vista técnico objetivamente robusta. Tal vez la vertiente ética, que se concreta en el respeto a la autonomía humana, la prevención del daño y la equidad y no discriminacion entre usuarios, beneficiarios y afectados en sus derechos fundamentales por sistemas de IA, sea el rasgo distintivo de esa reflexión de los expertos europeos. Adicionalmente, la comunicación del empleo de tales sistemas a quienes puedan acceder o recurrir a los mismos, mediando o no su conocimiento, se plantea como un imperativo ético básico, que debe vincularse a la trazabilidad del uso de los sistemas de IA y a la auditabilidad de sus procesos de diseño, obtención, etiquetado y clasificación de los datos y algoritmos, es decir a una auténtica verificación de la fiabilidad de los sistemas de IA que debe propiciar su extensión y mejora. El Libro Blanco de la Comisión Europea sobre la inteligencia artificial, publicado el 19 de Febrero de 2020 con el subtítulo \"un enfoque de excelencia y confianza\", prevé una \"lista de evaluación\" del cumplimiento incontestable de siete requisitos genéricos de los sistemas de IA, ya formulada por los expertos y que de hecho ha sido probada en 350 organizaciones, dando cierta concreción a los requisitos de fiabilidad de los sistemas de IA: acción y supervisión humana; solidez técnica y seguridad; gestión de la privacidad de datos (conforme al RGPD de la UE); transparencia frente a usuarios, agentes y proveedores de información; diversidad, no discriminacion y equidad; contribución al bienestar ambiental y social y, finalmente, rendición de cuentas, lo que requiere la creación y verificación de registros de información, uso e impactos. Más allá de consideraciones éticas, ciertamente las de mayor trascendencia, es incuestionable que la IA demanda un tratamiento homogéneo si no único a escala planetaria. En función del lugar donde se almacena la mayor parte de los datos que procesan, analizan y tratan las empresas que cuentan sus usuarios o visitantes en Internet en cientos de millones, con una densidad mayor de centros de proceso de datos y que cuentan con los ordenadores más potentes, Europa esta muy por detrás de la escala de Estados Unidos y China, como reconoce el Libro Blanco, siendo que los avances en precisión, utilidad y eficiencia del tratamiento de los datos no se están consiguiendo en Europa, donde todavía albergamos la expectativa, a mi juicio tardía y probablemente innecesaria, de implantar una nube pública comunitaria, \"Gaia-X\", aún atascada en los ministerios de Berlín y Paris. Incuestionablemente, es mucho lo que el público espera de la IA, especialmente en un entorno de aparente vulnerabilidad global frente a la pandemia y a situaciones que pueden amenazar la seguridad y salud de poblaciones enteras. La aplicación con éxito de la IA a la identificación, depuración y enriquecimiento de patrones de información para la resolución de problemas o necesidades servirá a mantener el interés y la inversión en sistemas mejores y más potentes. El desafío es no propiciar el incumplimiento de expectativas por hacer estas últimas difícilmente alcanzables. Eso puede estar ocurriendo en cierta medida con la visión ampliamente compartida del vehículo autónomo, cuya homologación y eventual comercialización carece sin embargo de un horizonte temporal definido. Desde 1973, con el informe \"Lighthill\" del Consejo de Investigación Científica del Reino Unido, se han sucedido las opiniones más pesimistas en relación con los beneficios de la IA, derivando en lo que se han venido a llamar los \"inviernos de la IA\", períodos de estancamiento tecnológico por falta de financiación, como describe \"The Economist\" en la separata Technology Quarterly sobre IA del 13 de Junio pasado, que reconoce que la \"escalera de la IA\" es más empinada de lo esperado, anticipando quizás la cercanía de un Otoño para esta prometedora tecnología, para la que la mitad de los expertos en la misma esperan que supere sus expectativas a partir de 2066, con un avance gradual, a lo largo de una época en la que la que la posible sustitución de la mano de obra humana por las máquinas encontrará enormes obstáculos, sociales y políticos. No obstante, solo se avanza con la experimentación, cada vez más estricta en sus esquemas y objetivos. Europa y el resto del mundo necesitan una IA que sirva a una sociedad más libre y más próspera, a la luz de una visión respetuosa de la dignidad de las personas. Alberto Horcajo es coFundador de Red Colmena ¿No eres usuario?\n"
     ]
    },
    {
     "data": {
      "text/markdown": [
       "<a href=\"http://www.eleconomista.es/firmas/noticias/10678020/07/20/Una-inteligencia-artificial-a-la-europea.html\">Link</a>"
      ],
      "text/plain": [
       "<IPython.core.display.Markdown object>"
      ]
     },
     "metadata": {},
     "output_type": "display_data"
    },
    {
     "name": "stdout",
     "output_type": "stream",
     "text": [
      "\n",
      "\n",
      "\u001b[1m\u001b[32mECONOMISTA\u001b[0m\n",
      "\u001b[1m\u001b[30mMon, 20 Jul 2020 20:31:41 +0200\u001b[0m\n",
      "\u001b[1m\u001b[35mParlem Telecom dobla facturación hasta junio pese al Covid-19\u001b[0m\n",
      "\u001b[34mHeadline\u001b[0m\n",
      "La operadora de telecomunicaciones Parlem Telecom facturó hasta junio 8,1 millones de euros, prácticamente el doble que en el mismo período del año pasado.\n",
      "\u001b[34mSummarise\u001b[0m\n",
      "La operadora de telecomunicaciones Parlem Telecom facturó hasta junio 8,1 millones de euros, prácticamente el doble que en el mismo período del año pasado.\n",
      "La operadora catalana valora positivamente su evolución pese a la situación generada por la pandemia, ya que en 2019 ingresó 4,28 millones.\n",
      "Parlem Telecom, que este mes cumple seis años de vida, prevé cerrar este año con 17,5 millones de facturación, un 70% más que al cierre de 2019, pese a la pandemia, según ha informado en un comunicado.\n",
      "Parlem Telecom cerró el primer semestre de este año con un beneficio bruto de explotación de 98.000 euros, y ha incrementado su base de clientes más de un 40% en comparación con junio de 2019.\n",
      "\u001b[34mText\u001b[0m\n",
      "La operadora de telecomunicaciones Parlem Telecom facturó hasta junio 8,1 millones de euros, prácticamente el doble que en el mismo período del año pasado. La operadora catalana valora positivamente su evolución pese a la situación generada por la pandemia, ya que en 2019 ingresó 4,28 millones. Parlem Telecom, que este mes cumple seis años de vida, prevé cerrar este año con 17,5 millones de facturación, un 70% más que al cierre de 2019, pese a la pandemia, según ha informado en un comunicado. La compañía, que dirige Ernest Pérez-Mas, mantiene así \"buenas perspectivas de crecimiento económico\" para 2020, tras haber facturado 11 millones en 2019 y 5,7 millones el año anterior. Parlem Telecom cerró el primer semestre de este año con un beneficio bruto de explotación de 98.000 euros, y ha incrementado su base de clientes más de un 40% en comparación con junio de 2019. ¿No eres usuario?\n"
     ]
    },
    {
     "data": {
      "text/markdown": [
       "<a href=\"http://www.eleconomista.es/catalunya/noticias/10678019/07/20/Parlem-Telecom-dobla-facturacion-hasta-junio-pese-al-Covid19.html\">Link</a>"
      ],
      "text/plain": [
       "<IPython.core.display.Markdown object>"
      ]
     },
     "metadata": {},
     "output_type": "display_data"
    },
    {
     "name": "stdout",
     "output_type": "stream",
     "text": [
      "\n",
      "\n",
      "\u001b[1m\u001b[32mECONOMISTA\u001b[0m\n",
      "\u001b[1m\u001b[30mMon, 20 Jul 2020 20:15:33 +0200\u001b[0m\n",
      "\u001b[1m\u001b[35mRTVE negocia con Spotify y Sony para distribuir sus contenidos y aplicaciones\u001b[0m\n",
      "\u001b[34mHeadline\u001b[0m\n",
      "RTVE persigue que sus contenidos estén disponibles en el mayor número de plataformas posibles para llegar a todos los públicos, especialmente a aquellos que se alejan cada vez de la televisión tradicional. Así, está negociando con varias telecos, fabricantes de móvil y otras empresas tecnológicas para que incluyan en sus plataformas sus aplicaciones y programas, como Clan o A la Carta.\n",
      "\u001b[34mSummarise\u001b[0m\n",
      "RTVE persigue que sus contenidos estén disponibles en el mayor número de plataformas posibles para llegar a todos los públicos, especialmente a aquellos que se alejan cada vez de la televisión tradicional.\n",
      "En el caso de Spotify, la Corporación ya ha alcanzado un acuerdo legal -están ultimando los detalles comerciales-, que está pendiente de firmarse.\n",
      "Con las telecos están pendientes también de definir los acuerdos comerciales y la idea es que se distribuyan los contenidos a través de las apps, ya que en ambas plataformas están disponibles los canales lineales.\n",
      "\u001b[34mText\u001b[0m\n",
      "RTVE persigue que sus contenidos estén disponibles en el mayor número de plataformas posibles para llegar a todos los públicos, especialmente a aquellos que se alejan cada vez de la televisión tradicional. Así, está negociando con varias telecos, fabricantes de móvil y otras empresas tecnológicas para que incluyan en sus plataformas sus aplicaciones y programas, como Clan o A la Carta. En concreto, la cadena pública está en conversaciones avanzadas con Spotify, Vodafone, Movistar y Sony. Con esta última buscan acordar que algunas de sus aplicaciones estén disponibles a través de la Playstation 5, informan fuentes de la compañía. En el caso de Spotify, la Corporación ya ha alcanzado un acuerdo legal -están ultimando los detalles comerciales-, que está pendiente de firmarse. Con las telecos están pendientes también de definir los acuerdos comerciales y la idea es que se distribuyan los contenidos a través de las apps, ya que en ambas plataformas están disponibles los canales lineales.     Los contenidos de RTVE ya están disponibles en Amazon y Xiaomi, vía la integración de las aplicaciones, y en Radioplayer sirviendo ellos mismos los audios y el stremaing en directo a través de su interfaz. \"También en Orange están accesibles desde hace pocos días nuestras aplicaciones (Clan y A la Carta) vía su decodificador\", señala la radiotelevisión en respuesta a las preguntas de este diario.  Recientemente, RTVE ha llevado a cabo la adaptación de sus aplicaciones al sistema operativo de Huawei, de forma que los contenidos están también accesibles en sus dispositivos de forma nativa. Dentro de los acuerdos con terceras plataformas, la cadena busca tener acceso a los datos de consumo de su contenido y poder servirlo de forma directa por RTVE. ¿No eres usuario?\n"
     ]
    },
    {
     "data": {
      "text/markdown": [
       "<a href=\"http://www.eleconomista.es/empresas-finanzas/noticias/10677990/07/20/RTVE-negocia-con-Spotify-y-Sony-para-distribuir-sus-contenidos-y-aplicaciones.html\">Link</a>"
      ],
      "text/plain": [
       "<IPython.core.display.Markdown object>"
      ]
     },
     "metadata": {},
     "output_type": "display_data"
    },
    {
     "name": "stdout",
     "output_type": "stream",
     "text": [
      "\n",
      "\n",
      "\u001b[1m\u001b[32mECONOMISTA\u001b[0m\n",
      "\u001b[1m\u001b[30mMon, 20 Jul 2020 20:08:02 +0200\u001b[0m\n",
      "\u001b[1m\u001b[35mS&P saca a Deoleo del riesgo de impago y le sube la nota tras concluir con éxito su reestructuración\u001b[0m\n",
      "\u001b[34mHeadline\u001b[0m\n",
      "S&amp;P Global Ratings ha elevado la calificación crediticia de Deoleo hasta 'B-', desde el anterior 'SD', que significaba encontrarse bajo riesgo de impago, tras haber llevado a cabo con éxito su plan de reestructuración, que ha supuesto la reducción de su deuda en 333 millones de euros.\n",
      "\u001b[34mSummarise\u001b[0m\n",
      "S&P explica que la operación supuso una reducción de su deuda sindicada por la que los prestamistas adquieren un 49% de la compañía propietaria de las operaciones del negocio, mientras que el resto de la deuda, 242 millones de euros, serán asignados en un tramo de cinco años de 160 millones y de otro, de 82 millones, de seis años.\n",
      "No obstante, la agencia de calificación advierte que su negocio seguirá expuesto a la volatilidad de precios del aceite de oliva, lo que podría volver a poner en riesgo la rentabilidad y la generación de caja de la compañía.\n",
      "\u001b[34mText\u001b[0m\n",
      "Global Ratings ha elevado la calificación crediticia de Deoleo hasta 'B-', desde el anterior 'SD', que significaba encontrarse bajo riesgo de impago, tras haber llevado a cabo con éxito su plan de reestructuración, que ha supuesto la reducción de su deuda en 333 millones de euros. La agencia calificadora cree que la compañía española propietaria de marcas de aceite como Hojiblanca o Carbonell ha mejorado su rendimiento en las últimas semanas, esperando ahora una generación positiva de caja y una mejora de sus márgenes. Asimismo, la perspectiva 'estable' actual supone que Deoleo cuenta con una \"adecuada\" estructura de capital y posición de liquidez que le permitirá ejecutar su plan de negocio y operar con niveles de endeudamiento inferiores, así como con un adecuado nivel de liquidez. S&P explica que la operación supuso una reducción de su deuda sindicada por la que los prestamistas adquieren un 49% de la compañía propietaria de las operaciones del negocio, mientras que el resto de la deuda, 242 millones de euros, serán asignados en un tramo de cinco años de 160 millones y de otro, de 82 millones, de seis años. No obstante, la agencia de calificación advierte que su negocio seguirá expuesto a la volatilidad de precios del aceite de oliva, lo que podría volver a poner en riesgo la rentabilidad y la generación de caja de la compañía. \"En nuestra opinión, el negocio de Deoleo sigue siendo vulnerable a los cambios en los precios de las materias primas, dada su dependencia del aceite de oliva. La producción mundial se lleva a cabo principalmente en países mediterráneos, especialmente España, y las malas condiciones climáticas o la enfermedad de las plantas podría conducir a una mayor volatilidad de los precios, que en el pasado obstaculizaron las operaciones de Deoleo\", explica S&P. ¿No eres usuario?\n"
     ]
    },
    {
     "data": {
      "text/markdown": [
       "<a href=\"http://www.eleconomista.es/empresas-finanzas/noticias/10677974/07/20/SP-saca-a-Deoleo-del-riesgo-de-impago-y-le-sube-la-nota-tras-concluir-con-exito-su-reestructuracion.html\">Link</a>"
      ],
      "text/plain": [
       "<IPython.core.display.Markdown object>"
      ]
     },
     "metadata": {},
     "output_type": "display_data"
    },
    {
     "name": "stdout",
     "output_type": "stream",
     "text": [
      "\n",
      "\n",
      "\u001b[1m\u001b[32mECONOMISTA\u001b[0m\n",
      "\u001b[1m\u001b[30mMon, 20 Jul 2020 20:00:34 +0200\u001b[0m\n",
      "\u001b[1m\u001b[35mGES construye para el fondo de inversión danés CIP tres parques eólicos en Zaragoza por valor de 15,6 millones\u001b[0m\n",
      "\u001b[34mHeadline\u001b[0m\n",
      "La empresa GES ha iniciado los trabajos de construcción de estos tres nuevos parques eólicos en Zaragoza, que se prevé que puedan estar operativos a finales de este año.\n",
      "\u001b[34mSummarise\u001b[0m\n",
      "La previsión es que en su construcción trabajen una media de 62 trabajadores con un máximo de 80 personas en total, según han indicado las mismas fuentes del sector a elEconomista En este cluster, GES es la empresa responsable de los trabajos de ingeniería, aprovisionamiento y construcción del proyecto y encargada del BOP completo (Balance of Plant), comprendiendo tanto la obra civil, con los más de 26 kilómetros de viales y las 30 cimentaciones y plataformas para los aerogeneradores (potencia de 3,8MW cada uno), de 85 metros que se instalarán en el parque; como la obra eléctrica, que incluye la red de media tensión subterránea con más 24 kilómetros de longitud de zanjas y la línea de evacuación en 220kV de 7 kilómetros que conectará a la red.\n",
      "\u001b[34mText\u001b[0m\n",
      "La empresa GES ha iniciado los trabajos de construcción de estos tres nuevos parques eólicos en Zaragoza, que se prevé que puedan estar operativos a finales de este año. GES está construyendo un nuevo cluster de tres parques eólicos de 114 MW en Zaragoza, que se denomina Alenza, para el fondo de inversion danés Copenhagen Infraestructure Partners (CIP), uno de los mayores fondos especializados en infraestructuras renovables del mundo. El importe del contrato asciende a 15,6 millones de euros, según han apuntado fuentes del sector conocedoras de la operación a elEconomista Este nuevo cluster se localiza entre los términos municipales de Fuendetodos y Azuera, en la provincia de Zaragoza. En esta zona, se está trabajando en los tres parques: Las Majas 6B de 49,6 MW, Las Majas 6C de 49,4 MW y Las Majas 6D de 15,2 MW.  Los parques, que contarán con 30 aerogeneradores, se prevé que puedan estar operativos a finales de 2020. La previsión es que en su construcción trabajen una media de 62 trabajadores con un máximo de 80 personas en total, según han indicado las mismas fuentes del sector a elEconomista En este cluster, GES es la empresa responsable de los trabajos de ingeniería, aprovisionamiento y construcción del proyecto y encargada del BOP completo (Balance of Plant), comprendiendo tanto la obra civil, con los más de 26 kilómetros de viales y las 30 cimentaciones y plataformas para los aerogeneradores (potencia de 3,8MW cada uno), de 85 metros que se instalarán en el parque; como la obra eléctrica, que incluye la red de media tensión subterránea con más 24 kilómetros de longitud de zanjas y la línea de evacuación en 220kV de 7 kilómetros que conectará a la red.  Este no es el único proyecto que GES -proveedor integral de ingeniería, construcción y mantenimiento para energías renovables (eólica y solar)-, está llevando a cabo en la comunidad aragonesa.  El contrato de este cluster se suma a la construcción de la agrupación de parques eólicos de Valdejalón, de 232 MW, que pertenecen también al porfolio Monegros de CIP de 487 MW. Precisamente, en este porfolio de Monegros, GES trabaja en la actualidad en la construcción de 345 MW de parques eólicos. GES es también responsable de la construcción (obra civil y eléctrica e instalación de las turbinas) de los parques eólicos de Valdejalón en los que la previsión es que trabajen de media 72 empleados en la obra, con un máximo de 193, han añadido las mismas fuentes. Los primeros proyectos en Valdejalón ya están produciendo energía y se espera que el resto comiencen a funcionar en los próximos nueve meses. ¿No eres usuario?\n"
     ]
    },
    {
     "data": {
      "text/markdown": [
       "<a href=\"http://www.eleconomista.es/aragon/noticias/10677957/07/20/GES-construye-para-el-fondo-de-inversion-danes-CIP-tres-parques-eolicos-en-Zaragoza-por-valor-de-156-millones-.html\">Link</a>"
      ],
      "text/plain": [
       "<IPython.core.display.Markdown object>"
      ]
     },
     "metadata": {},
     "output_type": "display_data"
    },
    {
     "name": "stdout",
     "output_type": "stream",
     "text": [
      "\n",
      "\n",
      "\u001b[1m\u001b[32mECONOMISTA\u001b[0m\n",
      "\u001b[1m\u001b[30mMon, 20 Jul 2020 19:49:22 +0200\u001b[0m\n",
      "\u001b[1m\u001b[35mEl PIB catalán caerá más de un 10,3% si hay que endurecer el confinamiento\u001b[0m\n",
      "\u001b[34mHeadline\u001b[0m\n",
      "Los sectores económicos de Barcelona y su área metropolitana, así como los alcaldes de los ayuntamientos más afectados por las nuevas medidas de confinamiento que ha decretado la Generalitat, piden a las administraciones competentes que lleven a cabo medidas proporcionales y equilibradas y que midan bien el coste económico de las mismas. Además de exigir claridad en la aplicación y que cese la incertidumbre.\n",
      "\u001b[34mSummarise\u001b[0m\n",
      "\"En tan solo tres días de la aplicación de las nuevas medidas, las ventas han caído significativamente\" El sector del comercio, la restauración y la hostelería que se podría decir que registraba una cierta vuelta a la actividad, se ven ahora conducidos de nuevo a una ralentización, además sumida en la incertidumbre de falta de concreción.\n",
      "\u001b[34mText\u001b[0m\n",
      "Los sectores económicos de Barcelona y su área metropolitana, así como los alcaldes de los ayuntamientos más afectados por las nuevas medidas de confinamiento que ha decretado la Generalitat, piden a las administraciones competentes que lleven a cabo medidas proporcionales y equilibradas y que midan bien el coste económico de las mismas. Además de exigir claridad en la aplicación y que cese la incertidumbre. El servicio de estudios de la Cambra de Comerç de Barcelona advierte de que la afectación \"seguro que es negativa\", pero si además se endurecen las medidas y se alargan en el tiempo, el coste del impacto económico se disparará y la caída del PIB catalán este año sería superior al 10,3%, que es la previsión realizada para un escenario de una cierta recuperación a partir de este mes de julio.     Su responsable, Joan Ramon Rovira, explica que el semiconfinamiento que ha decretado el Govern enterrará de nuevo la poca actividad que se venía registrando en los sectores ya muy castigados en la etapa anterior, los que más relacionados están con la movilidad, es decir, con el ocio, el turismo y la vida social. Y si las medidas deben mantenerse más allá de los 15 días preestablecidos y se alargan hasta agosto, los costes económicos se dispararán como más profunda vuelva a ser la pandemia y se genere pérdida de la actividad, por las posibles empresas que tengan que cerrar y la desaparición de puestos de trabajo.  Advierte también Rovira que la afectación en el crecimiento económico también dependerá de las decisiones que se tomen desde las administraciones, de las medidas quirúrgicas que se apliquen para minimizar el coste sobre las personas y las empresas, para que cuando se acabe la pandemia se pueda recuperar la economía lo más rápido posible.   Los más perjudicados vienen siendo el comercio y la restauración y los hoteles, pasando por el sector del ocio y la cultura. Sus responsables, patronales y sindicatos, apuntan a la necesidad de una mejor política preventiva de la evolución de la pandemia y a la realización de más pruebas PCR que evitaran más contagios y alejaran la sombra de un posible confinamiento total. Porque si una cosa defienden es que ellos \"han hecho los deberes y aplican todas las medidas de seguridad y prevención establecidas\" para controlar los contagios. \"En tan solo tres días de la aplicación de las nuevas medidas, las ventas han caído significativamente\" El sector del comercio, la restauración y la hostelería que se podría decir que registraba una cierta vuelta a la actividad, se ven ahora conducidos de nuevo a una ralentización, además sumida en la incertidumbre de falta de concreción. Desde el gremio de la Restauración de Barcelona, su director Roger Pallarols, califica la situación de \"decreto de cierre por la puerta de atrás\" porque no se les obliga a bajar la persiana pero se limita al 50% el aforo en el interior y a la vez se recomienda al ciudadano que se quede en casa. Comerciantes y restauradores advierten de que en tan solo tres días de la aplicación de las nuevas medidas, las ventas han caído significativamente y ha habido un 70% de  cancelaciones. Desde el Gremio de Hoteles de Barcelona la apreciación es la misma y consideran que la situación es un agravio comparativo porque los clientes potenciales elegirán otros destinos como ya que quedado demostrado con las numerosas cancelaciones que registran algunos establecimientos -y cuyo punto de partida ya fue la obligatoriedad de llevar mascarilla en los espacios públicos- y no descartan que algunos hoteles tengan que volver a cerrar temporalmente y otros tantos ya se plantean dar la temporada por perdido y no abrir.   El sector cultural y del ocio añade que ya habían perdido un tercio de sus ingresos anuales y que dejarlos sin actividad les conduce al cierre. Por su parte, el decano del Col·legi d'Economistes de Catalunya, Anton Gasol, para atajar el impacto económico de la pandemia aconseja unidad de todas las instituciones económicas catalanas y españolas y del sector empresarial en concreto para que se pongan al lado del Gobierno central y se dirijan al Consejo Europeo exigiendo y reclamando la premura de alcanzar un acuerdo entre los 27 de la Unión Europea que sea lo más equitativo posible en relación a las consecuencias que ha tenido el Covid-19 en cada uno de los Estados miembros.  El decano Gasol advierte de que no todo en la Unión Europea es simétrico entre Estados y pone de ejemplo las estructuras productivas y también en temas fiscales, por lo que el acuerdo debería tener en cuenta la realidad de cada Estado miembro. Si está de acuerdo Gasol en que el paquete de medidas del fondo para la recuperación estén condicionados. No obstante, viendo que el acuerdo está siendo dificultoso, Anton Gasol insta al gobierno español a que solicite los fondos del Mecanismo Europeo de Estabilidad (MEDE), en el que ya está disponible una línea de crédito de 240.000 millones de euros para hacer frente a los estragos de la pandemia. España puede pedir hasta un 2% de su PIB, es decir unos 25.000 millones para cubrir costos sanitarios, económicos y sociales directos e indirectos provocados por el Covid-19. Gasol pone de relieve que son unas ayudas con un plazo de retorno de 10 años y a un tipo de interés irrisorio del 0,1% y con misión de apertura y mantenimiento insignificantes. Y el economista se pregunta: ¿Por qué no se hace uso del MEDE? ¿No eres usuario?\n"
     ]
    },
    {
     "data": {
      "text/markdown": [
       "<a href=\"http://www.eleconomista.es/catalunya/noticias/10677938/07/20/El-PIB-catalan-caera-mas-de-un-103-si-hay-que-endurecer-el-confinamiento.html\">Link</a>"
      ],
      "text/plain": [
       "<IPython.core.display.Markdown object>"
      ]
     },
     "metadata": {},
     "output_type": "display_data"
    },
    {
     "name": "stdout",
     "output_type": "stream",
     "text": [
      "\n",
      "\n",
      "\u001b[1m\u001b[32mECONOMISTA\u001b[0m\n",
      "\u001b[1m\u001b[30mMon, 20 Jul 2020 19:19:13 +0200\u001b[0m\n",
      "\u001b[1m\u001b[35mEl fondo de inversión Rural Tecnológico gestionado de Caja Rural, entre los seis mejores de España por rentabilidad\u001b[0m\n",
      "\u001b[34mHeadline\u001b[0m\n",
      "El fondo de inversión Rural Tecnológico Renta Variable FI acumula una rentabilidad del 9,64% durante el primer semestre, siendo superior a la media de los fondos de inversión en esta categoría, que rentan el 5,38%.\n",
      "\u001b[34mSummarise\u001b[0m\n",
      "El fondo de inversión Rural Tecnológico Renta Variable FI acumula una rentabilidad del 9,64% durante el primer semestre, siendo superior a la media de los fondos de inversión en esta categoría, que rentan el 5,38%.\n",
      "El Rural Tecnológico Variable acumula durante los seis primeros meses de 2020 una rentabilidad del 9,64%, que es muy superior a la rentabilidad que han obtenido el resto de los fondos de su categoría, que acumulan en el primer semestre un 5,38% de media, según han explicado desde Caja Rural de Aragón.\n",
      "\u001b[34mText\u001b[0m\n",
      "El fondo de inversión Rural Tecnológico Renta Variable FI acumula una rentabilidad del 9,64% durante el primer semestre, siendo superior a la media de los fondos de inversión en esta categoría, que rentan el 5,38%. Este fondo gestionado Gescooperativo, la gestora de fondos de Caja Rural de Aragón y del Grupo Caja Rural, se ha situado entre los seis mejores fondos de su categoría por rentabilidad en España según Funds People. El Rural Tecnológico Variable acumula durante los seis primeros meses de 2020 una rentabilidad del 9,64%, que es muy superior a la rentabilidad que han obtenido el resto de los fondos de su categoría, que acumulan en el primer semestre un 5,38% de media, según han explicado desde Caja Rural de Aragón.  El fondo invierte principalmente en compañías de los sectores tecnológicos, preferentemente en aquellas que explotan nuevas tecnologías del sector de las telecomunicaciones, Internet, biotecnología, farmacia y otros sectores complementarios en auge en estos momentos. \"Una de las razones de este éxito es el análisis pormenorizado que se realiza de las compañías en las que invierte el fondo, seleccionando empresas que generan elevados y recurrentes flujos de caja y que muestran unos balances muy saneados\", ha explicado Eva Soriano, directora de Banca Privada de Caja Rural de Aragón. Desde su creación, el Rural Tecnológico Renta Variable FI presenta unos resultados consistentes. \"Desde el año 2000, se ha beneficiado al partícipe con beneficios por encima de la media del sector tanto en ejercicios positivos como el año pasado donde obtuvo un 37% de rentabilidad, como en años negativos como el que estamos viviendo en el que al final del primer semestre se ha logrado ese 9,64%\", ha añadido Eva Soriano. Este fondo está dirigido principalmente a personas con un perfil inversor muy arriesgado, a las que ofrece la posibilidad de obtener mayor rentabilidad, a través de la inversión en sectores de crecimiento futuro a nivel mundial. \"Es un fondo estratégico de un perfil inversor de riesgo, para una cartera diversificada y a largo plazo, en la que el cliente puede obtener importantes rentabilidades, como las que venimos observando año a año\", ha señalado la directora de Banca Privada de Caja Rural de Aragón. ¿No eres usuario?\n"
     ]
    },
    {
     "data": {
      "text/markdown": [
       "<a href=\"http://www.eleconomista.es/aragon/noticias/10677884/07/20/El-fondo-de-inversion-Rural-Tecnologico-gestionado-de-Caja-Rural-entre-los-seis-mejores-de-Espana-por-rentabilidad-.html\">Link</a>"
      ],
      "text/plain": [
       "<IPython.core.display.Markdown object>"
      ]
     },
     "metadata": {},
     "output_type": "display_data"
    },
    {
     "name": "stdout",
     "output_type": "stream",
     "text": [
      "\n",
      "\n",
      "\u001b[1m\u001b[32mECONOMISTA\u001b[0m\n",
      "\u001b[1m\u001b[30mMon, 20 Jul 2020 19:08:01 +0200\u001b[0m\n",
      "\u001b[1m\u001b[35mPatronales y sindicatos suscriben con el Govern las bases para la recuperación económica y social\u001b[0m\n",
      "\u001b[34mHeadline\u001b[0m\n",
      "El Govern ha firmado este lunes con agentes económicos y sociales el Acuerdo Nacional de Bases para la Reactivación Económica con Protección Social de Cataluña.\n",
      "\u001b[34mSummarise\u001b[0m\n",
      "Por su parte, el presidente de Foment del Treball, José Sánchez Llibre ha valorado que se haya instrumentalizado una herramienta efectiva para resolver la gravedad de la situación económica y social a través de la voluntad de negociar por el pacto.\n",
      "También han firmado el acuerdo el presidente de Foment del Treball, Josep Sánchez Llibre; el presidente de Pimec, Josep González, y los secretarios generales de CCOO de Catalunya, Javier Pacheco, y de UGT de Catalunya, Camil Ros.\n",
      "\u001b[34mText\u001b[0m\n",
      "El Govern ha firmado este lunes con agentes económicos y sociales el Acuerdo Nacional de Bases para la Reactivación Económica con Protección Social de Cataluña. El presidente de la Generalitat, Quim Torra, ha destacado el consenso alcanzado entre todos: \"Es un compromiso histórico de país para hacer que Cataluña avance hacia la recuperación sin dejar a nadie atrás\". El líder catalán ha puesto en valor que la estrategia pasa por impulsar la economía de la vida, la digitalización, la transición ecológica y la economía del conocimiento, con el objetivo de lograr un crecimiento económico sostenible e inclusivo. Por ello, ha apostado por políticas presupuestarias expansivas que se elaborarán con \"un objetivo de déficit no inferior al 1%\". Por su parte, el presidente de Foment del Treball, José Sánchez Llibre ha valorado que se haya instrumentalizado una herramienta efectiva para resolver la gravedad de la situación económica y social a través de la voluntad de negociar por el pacto. Y tras pedir la colaboración de todos los ciudadanos para evitar que se llegue a un confinamiento total, una situación que la economía no resistiría, el líder patronal ha destacado el compromiso empresarial de luchar para dar el máximo de seguridad sanitaria para todos los trabajadores, para apaciguar el virus, así como poner todos los instrumentos para generar nuevos puestos de trabajo mediante la reindustrialización de todos los sectores de la economía, a través de la colaboración público-privada y la inversión pública. Desde CCOO, se lanzó un pequeño reproche por cuanto, a su entender, este acuerdo se debería haber producido al finalizar el estado de alarma. El sindicato que lidera Javier Pacheco, ??lamenta que se haya perdido un tiempo precioso para una mejor gestión de la epidemia, para evitar sufrimientos a la ciudadanía y en especial al mundo del trabajo, y para poner las bases de una recuperación rápida y bien orientada. \"Se ha hecho evidente que las organizaciones sociales más representativas cuentan con un diagnóstico compartido de la crisis y que se alinean con los Objetivos de Desarrollo Sostenible y el proyecto del New Green Deal\", aseguraba el sindicato en un comunicado. Han participado en el acto, que se ha celebrado en el Palau de la Generalitat, el presidente de Catalunya, Quim Torra; el vicepresidente y conseller de Economía y Hacienda, Pere Aragonès; la consellera de Empresa y Conocimiento, Àngels Chacón, y el conseller de Trabajo, Asuntos Sociales y Familias, Chakir el Homrani. También han firmado el acuerdo el presidente de Foment del Treball, Josep Sánchez Llibre; el presidente de Pimec, Josep González, y los secretarios generales de CCOO de Catalunya, Javier Pacheco, y de UGT de Catalunya, Camil Ros. ¿No eres usuario?\n"
     ]
    },
    {
     "data": {
      "text/markdown": [
       "<a href=\"http://www.eleconomista.es/catalunya/noticias/10677853/07/20/Patronales-y-sindicatos-suscriben-con-el-Govern-las-bases-para-la-recuperacion-economica-y-social.html\">Link</a>"
      ],
      "text/plain": [
       "<IPython.core.display.Markdown object>"
      ]
     },
     "metadata": {},
     "output_type": "display_data"
    },
    {
     "name": "stdout",
     "output_type": "stream",
     "text": [
      "\n",
      "\n",
      "\u001b[1m\u001b[32mECONOMISTA\u001b[0m\n",
      "\u001b[1m\u001b[30mMon, 20 Jul 2020 18:21:31 +0200\u001b[0m\n",
      "\u001b[1m\u001b[35mCellnex ingresa el 48% más y revisa al alza sus previsiones pese al Covid-19\u001b[0m\n",
      "\u001b[34mHeadline\u001b[0m\n",
      "El grupo Cellnex Telecom ha ingresado el 48% más en el primer semestre del año, respecto al mismo periodo del año anterior, hasta los 723 millones de euros, en unos primera mitad del año marcada por la consolidación de las adquisiciones realizadas en el último año, con compras en en Francia e Italia (Iliad), Suiza (Salt), Reino Unido (BT), Irlanda (Cignal) y España (Orange), así como la entrada en la portuguesa Omtel, cerrada el pasado enero.\n",
      "\u001b[34mSummarise\u001b[0m\n",
      "El grupo Cellnex Telecom ha ingresado el 48% más en el primer semestre del año, respecto al mismo periodo del año anterior, hasta los 723 millones de euros, en unos primera mitad del año marcada por la consolidación de las adquisiciones realizadas en el último año, con compras en en Francia e Italia (Iliad), Suiza (Salt), Reino Unido (BT), Irlanda (Cignal) y España (Orange), así como la entrada en la portuguesa Omtel, cerrada el pasado enero.\n",
      "\u001b[34mText\u001b[0m\n",
      "El grupo Cellnex Telecom ha ingresado el 48% más en el primer semestre del año, respecto al mismo periodo del año anterior, hasta los 723 millones de euros, en unos primera mitad del año marcada por la consolidación de las adquisiciones realizadas en el último año, con compras en en Francia e Italia (Iliad), Suiza (Salt), Reino Unido (BT), Irlanda (Cignal) y España (Orange), así como la entrada en la portuguesa Omtel, cerrada el pasado enero. Según informa la compañía española de infraestructuras de telecomunicaciones, el resultado neto del semestre se saldó con unas pérdidas de 43 millones de euros, debido al a las mayores amortizaciones (casi el doble que el periodo comparable de 2019) y los costes financieros (la cuarta parte más) asociados con la referida ampliación del perímetro. Asimismo, el ebitda se disparó el 64%, hasta los 527 millones y el cash-flow libre recurrente se sitúa en los 267 millones de euros. Otra magnitudes del grupo destacan el repunte del 609% de los puntos de presencia (un 5% a perímetro constante), mientras que el ratio de clientes por emplazamiento crece un 3% a perímetro constante.  Igualmente, Cellnex ha acumulado inversiones en el primer semestre de  2.500 millones de euros y ha situado su deuda en los 4.669 millones de euros. La mayor parte de ella (81%) está referencia da tipo fijo, con un coste medio de la deuda del 1,7% y una vida media de 5,7 años. La liquidez disponible a cierre del semestre (tesorería + líneas de crédito) asciende a 7.400 millones de euros, si bien esta se ha reducido a 4.000 millones tras liquidar la operación de Arqiva y cancelar el crédito puente vinculado a la misma. Entre los anuncios más importantes sobresale la revisión al alza de las previsiones del negocio para este año, con una proyección de ebitda de entre 1.160 y 1.180 millones de euros (respecto a una  estimación inicial de entre 1.065 y 1.085 millones de euros) y un crecimiento del flujo de caja libre y recurrente próximo al 70% (respecto a la estimación inicial del 50%).   El ultimo trimestre del curso también estuvo marcado por la crisis del Covid-19, como ocurrió en el resto de las compañías del mundo. Así, Tobías Martinez, consejero delegado de Cellnex Telecom, ha ha destacado \"la aportación de Cellnex a la sociedad ante la excepcionalidad de la crisis del coronavirus: Nos hemos implicado comprometiendo recursos financieros y tecnológicos en proyectos cooperativos para paliar el impacto de la crisis sanitaria a corto plazo, pero también hemos querido apoyar la búsqueda de soluciones clínicas que permitan superar la crisis de salud pública a medio y largo plazo.  En este sentido el acuerdo con el Hospital Clínic de Barcelona y un consorcio de hospitales europeos que firmamos en junio, es una acción decidida, y para nosotros sin precedentes, para destinar unos recursos importantes y extraordinarios a un esfuerzo cooperativo y ambicioso: contribuir a la investigación de alternativas de tratamiento para los enfermos de la COVID-19\". ¿No eres usuario?\n"
     ]
    },
    {
     "data": {
      "text/markdown": [
       "<a href=\"http://www.eleconomista.es/empresas-finanzas/noticias/10677754/07/20/Cellnex-ingresa-el-48-mas-y-revisa-al-alza-sus-previsiones-pese-al-Covid19.html\">Link</a>"
      ],
      "text/plain": [
       "<IPython.core.display.Markdown object>"
      ]
     },
     "metadata": {},
     "output_type": "display_data"
    },
    {
     "name": "stdout",
     "output_type": "stream",
     "text": [
      "\n",
      "\n",
      "\u001b[1m\u001b[32mECONOMISTA\u001b[0m\n",
      "\u001b[1m\u001b[30mMon, 20 Jul 2020 18:20:38 +0200\u001b[0m\n",
      "\u001b[1m\u001b[35mAlmirall suscribe un contrato de financiación sindicada de 275 millones de euros\u001b[0m\n",
      "\u001b[34mHeadline\u001b[0m\n",
      "Almirall ha suscrito un contrato de financiación sindicada con un importe de 275 millones de euros, por un plazo inicial de tres años y con la posibilidad de extensión de un año adicional, que será destinado a \"usos generales corporativos\".\n",
      "\u001b[34mSummarise\u001b[0m\n",
      "Así lo ha informado a la Comisión Nacional del Mercado de Valores (CNMV) la farmacéutica española, que suscribe esta financiación en sustitución del anterior contrato que tenía como fecha de vencimiento el mes de febrero del próximo año.\n",
      "La compañía debutó el pasado 22 de junio en el Ibex 35, procedente del Mercado Continuo, tal y como había anunciado en noviembre del año pasado el comité asesor técnico del selectivo madrileño, en sustitución de Mediaset, que ya ha abandonado el índice.\n",
      "\u001b[34mText\u001b[0m\n",
      "Almirall ha suscrito un contrato de financiación sindicada con un importe de 275 millones de euros, por un plazo inicial de tres años y con la posibilidad de extensión de un año adicional, que será destinado a \"usos generales corporativos\". Así lo ha informado a la Comisión Nacional del Mercado de Valores (CNMV) la farmacéutica española, que suscribe esta financiación en sustitución del anterior contrato que tenía como fecha de vencimiento el mes de febrero del próximo año. BBVA ha actuado como coordinadora de la operación, aunque también ha contado con la participación de otros bancos, como el Santander, CaixaBank, BNP Paribas y Banca March. La compañía debutó el pasado 22 de junio en el Ibex 35, procedente del Mercado Continuo, tal y como había anunciado en noviembre del año pasado el comité asesor técnico del selectivo madrileño, en sustitución de Mediaset, que ya ha abandonado el índice. ¿No eres usuario?\n"
     ]
    },
    {
     "data": {
      "text/markdown": [
       "<a href=\"http://www.eleconomista.es/empresas-finanzas/noticias/10677742/07/20/Almirall-suscribe-un-contrato-de-financiacion-sindicada-de-275-millones-de-euros.html\">Link</a>"
      ],
      "text/plain": [
       "<IPython.core.display.Markdown object>"
      ]
     },
     "metadata": {},
     "output_type": "display_data"
    },
    {
     "name": "stdout",
     "output_type": "stream",
     "text": [
      "\n",
      "\n",
      "\u001b[1m\u001b[32mECONOMISTA\u001b[0m\n",
      "\u001b[1m\u001b[30mMon, 20 Jul 2020 16:41:04 +0200\u001b[0m\n",
      "\u001b[1m\u001b[35mEl gigante petrolero Chevron compra Noble por 5.000 millones de dólares en acciones\u001b[0m\n",
      "\u001b[34mHeadline\u001b[0m\n",
      "El gigante petrolero Chevron ha acordado la adquisición de la petrolera Noble Energy por 5.000 millones de dólares en acciones, con lo que amplía su presencia en el sector de la extracción en arenas bituminosas, en crisis por los bajos precios del crudo.\n",
      "\u001b[34mSummarise\u001b[0m\n",
      "El gigante petrolero Chevron ha acordado la adquisición de la petrolera Noble Energy por 5.000 millones de dólares en acciones, con lo que amplía su presencia en el sector de la extracción en arenas bituminosas, en crisis por los bajos precios del crudo.\n",
      "El pasado mes, la consultora Deloitte presentó un estudio en el que estimaba que el 30% de las empresas del sector de las arenas bituminosas pasarían a ser insolventes con precios del barril a 35 dólares, algo que no es un escenario imposible con un barril a unos 40 dólares por la pandemia.\n",
      "\u001b[34mText\u001b[0m\n",
      "El gigante petrolero Chevron ha acordado la adquisición de la petrolera Noble Energy por 5.000 millones de dólares en acciones, con lo que amplía su presencia en el sector de la extracción en arenas bituminosas, en crisis por los bajos precios del crudo. Noble sube con fuerza hoy en la bolsa de Nueva York (más del 5%) tras conocerse la noticia de la compra, que es la más importante en el sector en lo que va de año y se da en un momento de crisis por la baja demanda durante la pandemia de covid-19. En cambio, los títulos de Chevron retroceden en torno a un 2% en la jornada de este lunes.  \"Nuestra sólida hoja contable y disciplina financiera nos da la flexibilidad de ser un comprador de activos de calidad en estos tiempos tan complicados\", indicó en un comunicado el presidente de Chevron, Michael Wirth. Wirth añadió que esperan una sinergias anuales por valor de 300 millones de dólares por esta adquisición. El acuerdo dará acceso a Chevron a la explotación de Leviathan, el mayor yacimiento de gas natural del Mediterráneo oriental, que comenzó a ser productivo el año pasado. Además, Chevron aumentará su presencia en yacimientos en Colorado, Texas occidental y Nuevo México, pese a que las explotaciones de fracking se encuentran en crisis por los bajos precios del petróleo. La compra de Chevron tasa la acción de Noble en los 10,38 dólares, lo que supone una mejora del 7,5% respecto al cierre del viernes y valora a la compañía en unos 13.000 millones de dólares, incluidos 8.000 millones en deuda. El pasado mes, la consultora Deloitte presentó un estudio en el que estimaba que el 30% de las empresas del sector de las arenas bituminosas pasarían a ser insolventes con precios del barril a 35 dólares, algo que no es un escenario imposible con un barril a unos 40 dólares por la pandemia. ¿No eres usuario?\n"
     ]
    },
    {
     "data": {
      "text/markdown": [
       "<a href=\"http://www.eleconomista.es/empresas-finanzas/noticias/10677468/07/20/El-gigante-petrolero-Chevron-compra-Noble-por-5000-millones-de-dolares-en-acciones.html\">Link</a>"
      ],
      "text/plain": [
       "<IPython.core.display.Markdown object>"
      ]
     },
     "metadata": {},
     "output_type": "display_data"
    },
    {
     "name": "stdout",
     "output_type": "stream",
     "text": [
      "\n",
      "\n",
      "\u001b[1m\u001b[32mECONOMISTA\u001b[0m\n",
      "\u001b[1m\u001b[30mMon, 20 Jul 2020 16:28:19 +0200\u001b[0m\n",
      "\u001b[1m\u001b[35mGED vende GTT, el líder en recaudación de impuestos, al fondo AnaCap por 120 millones\u001b[0m\n",
      "\u001b[34mHeadline\u001b[0m\n",
      "El fondo GED Capital ha vendido GTT, la compañía que desarrolla el software más utilizado para la recaudación de impuestos en España, a la gestora británica AnaCap por una cantidad cercana a los 120 millones de euros, según han explicado diferentes fuentes financieras a elEconomista. Con esta operación, AnaCap irrumpe en España, donde hasta la fecha había participado en varios procesos de venta relacionados con el sector financiero como Caser oATG –la filial de gestión hipotecaria de Unicaja–, entre otras. Este fondo suma unos 5.100 millones de euros en activos bajo gestión y es una de las firmas más conocidas a nivel europeo por su especialización en el sector de los servicios financieros.\n",
      "\u001b[34mSummarise\u001b[0m\n",
      "El fondo GED Capital ha vendido GTT, la compañía que desarrolla el software más utilizado para la recaudación de impuestos en España, a la gestora británica AnaCap por una cantidad cercana a los 120 millones de euros, según han explicado diferentes fuentes financieras a elEconomista.\n",
      "Este fondo suma unos 5.100 millones de euros en activos bajo gestión y es una de las firmas más conocidas a nivel europeo por su especialización en el sector de los servicios financieros.\n",
      "Esta inversión de GED, que realizó con su cuarto fondo para el mid-market, se remonta al año 2017, cuando tomó el 75% de la compañía.\n",
      "\u001b[34mText\u001b[0m\n",
      "El fondo GED Capital ha vendido GTT, la compañía que desarrolla el software más utilizado para la recaudación de impuestos en España, a la gestora británica AnaCap por una cantidad cercana a los 120 millones de euros, según han explicado diferentes fuentes financieras a elEconomista. Con esta operación, AnaCap irrumpe en España, donde hasta la fecha había participado en varios procesos de venta relacionados con el sector financiero como Caser oATG la filial de gestión hipotecaria de Unicaja, entre otras. Este fondo suma unos 5.100 millones de euros en activos bajo gestión y es una de las firmas más conocidas a nivel europeo por su especialización en el sector de los servicios financieros. Gestión Tributaria Territorial (GTT) fue fundada en Alicante hace más de tres décadas y se ha convertido en una referencia en la recaudación municipal de impuestos, prestando sus servicios a más de 3.300 instituciones de toda España y Latinoamérica. Entre algunos de sus clientes destacan los ayuntamientos de Valencia, Coruña, Bilbao o del Principado de Asturias, entre otros. El equipo directivo de GTT permanecerá en la firma.  De esta forma, se pone fin al proceso iniciado el pasado otoño, cuando GED contrató al banco de inversión Rothschild para que buscara comprador. El proceso no arrancó oficialmente hasta el pasado febrero, pero no se ha visto paralizado por la pandemia del coronavirus. Es más, toda la transacción se ha negociado durante este tiempo. A su favor ha jugado el gran potencial tecnológico que tiene la compañía algo muy apreciado por los inversores de capital riesgo y el tipo de negocio en el que desarrolla su actividad. Eso atrajo a diferentes fondos, como Carlyle o Oakley Capital, llegando sólo seis a la fase final, de los que tres presentaron oferta en firme.  Esta inversión de GED, que realizó con su cuarto fondo para el mid-market, se remonta al año 2017, cuando tomó el 75% de la compañía. El porcentaje restante se distribuyó entre Oquedo (que también inyectó deuda para financiar esta operación) y el equipo directivo, que daban así salida a la gestora española Realza Capital.La operación ha sido asesorada por  AZ Capital y Cuatrecasas (comprador) y Rothschild, KPMG, Arthur D. Little y King & Wood Mallesons (vendedor). El coronavirus y las modificaciones relativas a la norma de inversiones extranjeras en España no han espantado a los fondos internacionales, que siguen viendo a nuestro país como un buen destino de inversión. Según los datos de Ascri, las gestoras extranjeras coparon el 69% de la inversión en España durante el primer semestre de este año 2020. \n"
     ]
    },
    {
     "data": {
      "text/markdown": [
       "<a href=\"http://www.eleconomista.es/empresas-finanzas/noticias/10677436/07/20/GED-vende-GTT-el-lider-en-recaudacion-de-impuestos-al-fondo-AnaCap-por-120-millones.html\">Link</a>"
      ],
      "text/plain": [
       "<IPython.core.display.Markdown object>"
      ]
     },
     "metadata": {},
     "output_type": "display_data"
    },
    {
     "name": "stdout",
     "output_type": "stream",
     "text": [
      "\n",
      "\n",
      "\u001b[1m\u001b[32mECONOMISTA\u001b[0m\n",
      "\u001b[1m\u001b[30mMon, 20 Jul 2020 16:06:27 +0200\u001b[0m\n",
      "\u001b[1m\u001b[35mLa vacuna de Oxford contra el coronavirus supera su primera prueba en humanos creando dos tipos de inmunidad\u001b[0m\n",
      "\u001b[34mHeadline\u001b[0m\n",
      "La vacuna contra el coronavirus que está desarrollando la Universidad de Oxford junto con AstraZeneca ha mostrado resultados prometedores en las primeras pruebas en humanos, una buena señal de progreso en la búsqueda de una solución médica para derrotar al virus. El medicamento aumenta los niveles de anticuerpos neutralizantes protectores y de células T inmunes que atacan al virus, según los organizadores del estudio. Los resultados fueron publicados el lunes en la revista médica The Lancet.\n",
      "\u001b[34mSummarise\u001b[0m\n",
      "La vacuna contra el coronavirus que está desarrollando la Universidad de Oxford junto con AstraZeneca ha mostrado resultados prometedores en las primeras pruebas en humanos, una buena señal de progreso en la búsqueda de una solución médica para derrotar al virus.\n",
      "\"Estamos viendo muy buenas respuestas inmunitarias, no solo en anticuerpos neutralizantes sino también de células T\", dijo Adrian Hill, director del Instituto Jenner de Oxford, en una entrevista.\n",
      "Moderna, el principal competidor de Oxford por ser el primero en hallar el remedio, publicó resultados la semana pasada de una prueba en etapa inicial que mostró que su vacuna aumenta los niveles de los anticuerpos que luchan contra el virus.\n",
      "\u001b[34mText\u001b[0m\n",
      "La vacuna contra el coronavirus que está desarrollando la Universidad de Oxford junto con AstraZeneca ha mostrado resultados prometedores en las primeras pruebas en humanos, una buena señal de progreso en la búsqueda de una solución médica para derrotar al virus. El medicamento aumenta los niveles de anticuerpos neutralizantes protectores y de células T inmunes que atacan al virus, según los organizadores del estudio. Los resultados fueron publicados el lunes en la revista médica The Lancet. Las acciones de AstraZeneca subieron hasta un 10% en Londres al conocerse los resultados del ensayo.     \"Estamos viendo muy buenas respuestas inmunitarias, no solo en anticuerpos neutralizantes sino también de células T\", dijo Adrian Hill, director del Instituto Jenner de Oxford, en una entrevista. \"Estamos estimulando ambos brazos del sistema inmune\". Los resultados son un nuevo rayo de esperanza para los gobiernos de todo el mundo, que buscan poner fin a una pandemia que ya ha matado a más de 600,000 personas y ha provocado una crisis económica desde su irrupción a principios de este año. Moderna, el principal competidor de Oxford por ser el primero en hallar el remedio, publicó resultados la semana pasada de una prueba en etapa inicial que mostró que su vacuna aumenta los niveles de los anticuerpos que luchan contra el virus. Aunque la producción estimulante de anticuerpos neutralizantes no prueba que una vacuna sea efectiva, se considera un paso inicial importante en las pruebas. Los resultados de las pruebas en animales ya habían demostrado que la vacuna de Oxford-AstraZeneca provoca una respuesta inmune. En todo el mundo, según la Organización Mundial de la Salud, alrededor de 160 vacunas contra el coronavirus se encuentran en diversas etapas de desarrollo. El intento de Oxford está a la cabeza del pelotón y ya ha comenzado las pruebas de la etapa final. AstraZeneca ha dicho que puede comenzar a administrar dosis al Reino Unido a partir de septiembre. \"Queremos que otras compañías tengan vacunas que funcionen igual bien porque así el mundo tendrá más dosis de la vacuna antes\", dijo Hill. \"Creemos que hay una ventaja de tener ambos lados del sistema inmune bien estimulados\". El farmacéutico británico recibió un impulso cuando Estados Unidos prometió hasta 1.200 millones de dólares para el desarrollo. Según su acuerdo con Astra, EE. UU. Podría comenzar a recibir suministros a partir de octubre. El Reino Unido también llegó a un acuerdo de suministro para la vacuna, pero el lunes aseguró el acceso a las vacunas experimentales de otros fabricantes de medicamentos para cubrir sus apuestas y obtener dosis suficientes para cubrir su población de 66 millones. El gobierno de Boris Johnson aseguró acuerdos con Pfizer, BioNTech y Valneva. Las empresas y universidades confían en una variedad de enfoques en la lucha contra la Covid-19. El equipo de Oxford ha desarrollado una tecnología que puede acelerar el proceso mediante el uso de una copia del virus desactivada e inofensiva para transportar parte del material genético del patógeno a las células, lo que genera una respuesta inmune.  La vacuna propuesta está hecha a partir de una versión debilitada de un virus del resfriado común -que también es un coronavirus, pariente lejano del SARS-Cov-2-, que se modifica genéticamente para que no pueda crecer en humanos. Los científicos de la Universidad de Oxford han insertado material genético de la proteína de pico que recubre la superficie del SARS-Cov-2 como una forma de entrenar al sistema inmunitario para que se defienda contra ese tipo de ataques. La plataforma estimula tanto los anticuerpos como los altos niveles de células T asesinas, un tipo de glóbulo blanco que ayuda al sistema inmunitario a destruir la infección.     \"Estamos muy animados\", dijo Hill. Si bien la prueba no demuestra que la vacuna funcione, \"creo que estamos un poco más seguros de que debería funcionar esta semana que la semana pasada\". La vacuna de Oxford desarrolló anticuerpos neutralizantes después de una sola dosis, dijo Hill. Esa puede ser una ventaja importante para aumentar rápidamente la inmunidad. \"No leo eso claramente en los datos de Moderna\", dijo. \"Creo que necesitan dos dosis para ver anticuerpos neutralizantes que de verdad sean protectores\". Este mes comenzará una gran prueba que probará la vacuna de Moderna en un régimen de dos inyecciones. Astra también dará prioridad a una versión de la vacuna de Oxford que también use un par de dosis, dijo Hill. \"Da niveles más altos de anticuerpos, lo cual es importante en el futuro\", dijo. ¿No eres usuario? Ibuprofeno para los O y Paracetamol para A , B y AB. ¿ Del origen del virus nada, no ? ¿ El laboratorio de su creación nadie sabe nada ? ¿ Quizás estos ya la tenían en previsión ? Muy buena noticia. Ánimo Oxford! Ya queda menos para acabar con esta pesadilla. Abrimos largos!! Dios ilumine a quienes trabajan sin descanso y con sus mejores talentos para buscar un remedio a este virus que tanta muerte, desolación y angustia está causando en la Humanidad entera. Gracias por los puntos de desaprobación, queridos cabestros. Quedáis perfectamente retratados. Y ahora seguid hocicando y revolcandaos en las porqueras en las que regurgitais vuestra bilis y vuestra mierda hedionda. Si lo del coronavirus COVID-19 es una emergencia nacional, ¿por qué no están nuestras universidades, CSIC  y demás institutos científicos investigando cura y vacuna?. https://www.pagina12.com.ar/270558-coronavirus-gates-aporto-750-millones-de-dolares-al-proyecto Ferran, como siempre, das en el clavo !!! Me parece una lástima que haya gente que escribe comentarios aquí que demuestra que nunca ha escrito un artículo de opinión y, según parece, deben ser funcionario de alguna organización ya que sólo sabe criticar a los demás sin aportar nada a a cambio. Las organizaciones empresariales como en las que tú y yo hemos estado, son un buen ejemplo.Recuerdos de tu amigo que seguro tiene mucho que decir en estos temas !!! A los demás comentaristas, qué pena que no aportéis nada de valor !!! ¿Qué dice el redactorucho éste de que \"Las acciones de AstraZeneca subieron hasta un 10% en Londres al conocerse los resultados del ensayo.\"?¡Han subido una décima parte! Que levante hace en Cádiz. Investigacion ya, mas del 90 % eran vacunados de la grippe seguro, algun pais lo hara y sabremos toda la verdad sobre esta historia y caera quien caera El virus ya estaba aqui como en las aguas de barcelona en marzo 2019, no habia entradas en uci, ni muertes, pero passo algo con la vacunacion de la grippe y el polisorbato dentro y esto merece una investigacion mundial pero por todos los gobiernos y todos sus cientificos, algun pais descubrira la verdad y muchos deberan dar explicaciones Demasiado rápido van...Mi salud me dice que me espere a un buen remedio. Tanta insistencia con las vacunas mosquea...Y de los que se dicen filántropos no hay que fiarse ni un pelo.Sobre todo de los que han pregonado su deseo de disminuir la población humana... Porfavor mirar el video del youtuber \" la revelion de la granja \" no vacunarvos de la grippe, decirlo a vuestros familiares, es possible que tenga algo que ver con todo lo que passo ! que se haga una macro investigacion,muchos medicos quieren que se investigue esto a tope, quieren vacunar de la grippe ya en el mes de agosto, anticipar ? pero para que ? si la grippe viene mucho mas tarde ! esto es muy grave\n"
     ]
    },
    {
     "data": {
      "text/markdown": [
       "<a href=\"http://www.eleconomista.es/sanidad/noticias/10677406/07/20/La-vacuna-de-Oxford-contra-el-coronavirus-supera-su-primera-prueba-en-humanos-con-buenos-resultados.html\">Link</a>"
      ],
      "text/plain": [
       "<IPython.core.display.Markdown object>"
      ]
     },
     "metadata": {},
     "output_type": "display_data"
    },
    {
     "name": "stdout",
     "output_type": "stream",
     "text": [
      "\n",
      "\n",
      "\u001b[1m\u001b[32mECONOMISTA\u001b[0m\n",
      "\u001b[1m\u001b[30mMon, 20 Jul 2020 14:15:40 +0200\u001b[0m\n",
      "\u001b[1m\u001b[35mEl número de gasolineras bajó en 2019 tras una década de constantes subidas\u001b[0m\n",
      "\u001b[34mHeadline\u001b[0m\n",
      "El número de estaciones de servicio del país acabó el pasado 2019 en 11.602 instalaciones, siete menos que en 2018, en lo que supone el primer descenso desde 2009. Repsol mantiene el primer puesto de la clasificación, con 3.354 gasolineras -cuatro más-, seguida por Cepsa, con 1.522 -igual- y BP, que gana 12, hasta las 759. Kuwait Petroleum dio un gran saldo, al pasar de 77 a 187 puntos de suministro.\n",
      "\u001b[34mSummarise\u001b[0m\n",
      "De acuerdo con la Memoria 2019 de la Asociación de Operadores de Productos Petrolíferos (AOP), que aglutina a Repsol, Cepsa, BP, Galp, Saras y Eni, el principal cambio en la estructura de venta de carburantes al por menor se ha producido con la venta por parte de Saras de la gran mayoría de sus estaciones a Q8, propiedad de Kuwait Petroleum, conocida en mayo del año pasado: Q8 ha pasado de 77 a 187 estaciones de servicio, mientas que Saras sólo conserva cuatro.\n",
      "Este descenso, que supone que se procesaron 2,2 millones menos de toneladas de crudo y materias primas, se debió, principalmente, a las paradas de mantenimiento en las refinerías, concentradas en 2019 más que en otros años, según indicó la AOP.\n",
      "\u001b[34mText\u001b[0m\n",
      "El número de estaciones de servicio del país acabó el pasado 2019 en 11.602 instalaciones, siete menos que en 2018, en lo que supone el primer descenso desde 2009. Repsol mantiene el primer puesto de la clasificación, con 3.354 gasolineras -cuatro más-, seguida por Cepsa, con 1.522 -igual- y BP, que gana 12, hasta las 759. Kuwait Petroleum dio un gran saldo, al pasar de 77 a 187 puntos de suministro. De acuerdo con la Memoria 2019 de la Asociación de Operadores de Productos Petrolíferos (AOP), que aglutina a Repsol, Cepsa, BP, Galp, Saras y Eni, el principal cambio en la estructura de venta de carburantes al por menor se ha producido con la venta por parte de Saras de la gran mayoría de sus estaciones a Q8, propiedad de Kuwait Petroleum, conocida en mayo del año pasado: Q8 ha pasado de 77 a 187 estaciones de servicio, mientas que Saras sólo conserva cuatro.     También crecieron las gasolineras de los hipermercados y los supermercados, que aumentaron de 375 a 391, al igual que las de las cooperativas, incrementándose de 571 a 578 puntos de venta. Aun así, los operadores mayoristas representan casi el 66% de las estaciones de servicio, con un total de 7.650, de las que 6.209 pertenecen a los socios de AOP. En otro orden de cosas, la producción de las refinerías alcanzó los 66,5 millones de toneladas el año pasado, lo que representa una caída del 3,2% respecto al ejercicio anterior, en su primera bajada desde 2013. Este descenso, que supone que se procesaron 2,2 millones menos de toneladas de crudo y materias primas, se debió, principalmente, a las paradas de mantenimiento en las refinerías, concentradas en 2019 más que en otros años, según indicó la AOP. El menor procesamiento de crudo y materias primas repercute en el saldo neto exportador de los combustibles, de 3,3 millones de toneladas, un 31,2% menos que en 2018. Aunque las exportaciones siguieron siendo más altas que las importaciones, el comercio exterior disminuyó en 1,7 millones de toneladas, debido al abastecimiento preferente del mercado nacional. Se exportó la mitad de la producción nacional de gasolinas, 4,7 millones de toneladas.    Por lo que respecta al consumo interno, los gasóleos se mantuvieron como los productos petrolíferos más consumidos en España y aumentaron ligeramente, respecto a 2018, en 27.000 toneladas, aunque su consumo se redujo un 0,4% en la automoción, después de seis años de subidas. \n",
      "El consumo de gasóleos está en torno a 23 millones de toneladas, el 52,8% del consumo de productos petrolíferos en el mercado nacional, y las gasolinas en los 5,3 millones.\n"
     ]
    },
    {
     "data": {
      "text/markdown": [
       "<a href=\"http://www.eleconomista.es/empresas-finanzas/noticias/10677046/07/20/El-numero-de-gasolineras-bajo-en-2019-tras-una-decada-de-constantes-subidas.html\">Link</a>"
      ],
      "text/plain": [
       "<IPython.core.display.Markdown object>"
      ]
     },
     "metadata": {},
     "output_type": "display_data"
    },
    {
     "name": "stdout",
     "output_type": "stream",
     "text": [
      "\n",
      "\n",
      "\u001b[1m\u001b[32mECONOMISTA\u001b[0m\n",
      "\u001b[1m\u001b[30mMon, 20 Jul 2020 13:33:54 +0200\u001b[0m\n",
      "\u001b[1m\u001b[35mRenfe creará una cola virtual para evitar que la web colapse con las ofertas\u001b[0m\n",
      "\u001b[34mHeadline\u001b[0m\n",
      "Renfe da un paso más en la estrategia de mejora de su página web, una de las más criticadas del mercado. El operador ferroviario ya ha iniciado la transformación de su portal con \"el estreno de un nuevo diseño y mejoras en la navegabilidad y usabilidad\" y ahora tiene previsto activar un sistema de colas virtuales para evitar colapsos y abusos durante las grandes ofertas, como los 1.000 billetes de Avlo al día por cinco euros o los 250.000 billetes a 25 euros para celebrar el 25 aniversario del AVE. Con ambas promociones la web de Renfe se bloqueó\n",
      "\u001b[34mSummarise\u001b[0m\n",
      "Los pliegos del contrato, valorado en 216.000 euros, especifican que se deben crear varios tipos de colas y estadios de acceso para evitar abusos en las promociones y que tengan ventaja los usuarios que han accedido a la web antes de que arranque la promoción.\n",
      "Por ejemplo, en el contexto de internacionalización de Renfe, el operador necesita que las colas virtuales se puedan restringir al país en el que se ha lanzado la promoción para evitar que los usuarios del resto de los países tengan que hacer esperas para  acceder a la web.\n",
      "\u001b[34mText\u001b[0m\n",
      "Renfe da un paso más en la estrategia de mejora de su página web, una de las más criticadas del mercado. El operador ferroviario ya ha iniciado la transformación de su portal con \"el estreno de un nuevo diseño y mejoras en la navegabilidad y usabilidad\" y ahora tiene previsto activar un sistema de colas virtuales para evitar colapsos y abusos durante las grandes ofertas, como los 1.000 billetes de Avlo al día por cinco euros o los 250.000 billetes a 25 euros para celebrar el 25 aniversario del AVE. Con ambas promociones la web de Renfe se bloqueó Renfe, que gestiona más de 50 millones de billetes al año y realiza más de 500 millones de transacciones informativas, reconoce que la web no está dimensionada para soportar los altos picos de demanda provocados por las \"ofertas agresivas puntuales\" y que adaptar la página a esos niveles de actividad \"harían inviables económicamente estas ofertas\". Así, en vez de potenciar la web, para solucionar el problema ha optado por gestionar la alta demanda \"asignando a los usuarios un turno de espera\" para acceder a la web y adquirir los billetes. Los pliegos del contrato, valorado en 216.000 euros, especifican que se deben crear varios tipos de colas y estadios de acceso para evitar abusos en las promociones y que tengan ventaja los usuarios que han accedido a la web antes de que arranque la promoción. En concreto, la configuración de las colas virtuales contempla cuatro fases: la ociosa, la pre-cola, la cola y la post-cola.  En la fase ociosa o inicial la cola está creada pero el evento no está activo por lo que aunque el usuario acceda no dispondrá de un número en la cola ni podrá entrar en el sistema. En la pre-cola los viajeros entrarán en un sitio protegido por la cola para evitar que se sature la web, que es el destino final, pero no tendrá número asignado. \"No se da ninguna ventaja a los usuarios que llegan antes del inicio de la promoción\" Los clientes \"serán tratados de manera aleatoria para evitar comportamientos abusivos hasta que se habilite el evento o se permita que los clientes puedan ponerse ya a la espera para obtener un número de cola. De este modo, no se da ninguna ventaja a los usuarios que llegan antes del inicio de la promoción\", explica Renfe en los pliegos. En la fase de la cola tanto los usuarios que están en la pre-cola como los nuevos irán accediendo a la cola virtual con su número de acceso correspondiente y conforme se vaya liberando espacio en la web irán pasando por estricto orden de llegada y hasta la finalización del evento. La post-cola es el lugar al que van \"los usuarios rezagados\" que siguen a la espera cuando los billetes promocionados se han agotado o la campaña ha terminado.     \"Es fundamental disponer en el servicio de estas fases, ya que, sin ellas, los usuarios se pueden acumular en el canal antes del lanzamiento de la promoción y permanecerán en él, actualizando la página una y otra vez hasta que la promoción esté activa\", explica Renfe. Las colas virtuales también deben tener flexibilidad para adaptarse a las distintas necesidades del negocio o de tipos de cliente. Por ejemplo, en el contexto de internacionalización de Renfe, el operador necesita que las colas virtuales se puedan restringir al país en el que se ha lanzado la promoción para evitar que los usuarios del resto de los países tengan que hacer esperas para  acceder a la web. También se persigue que las filas permitan diferenciar entre los usuarios habituales y los VIP para que se pueda enviar a estos últimos a una cola especial que \"deberá estar gestionada de forma independiente y permitir acciones específicas con esos usuarios\". Dentro de las condiciones del servicio que Renfe quiere prestar, se da especial importancia a que el usuario no pierda nunca su sitio en la cola, aunque se le caiga el servidor, y a que se permita interactuar con él para, por ejemplo, informarle de que llega su turno y que no tenga que estar esperando sin hacer otra cosa.  \"El cliente no debe perder su sitio en la cola por razones técnicas tales como la actualización de la página, reinicio del navegador o pérdida de conexión del dispositivo. Mientras los usuarios están en espera, es necesario que se les puedan enviar mensajes en tiempo real y tenerlos al corriente de cualquier información. La notificación debe permitir seguir con el proceso de compra incluso en un dispositivo diferente a aquel desde el que se entró en la cola\", asegura el operador ferroviario. Inicialmente la cola virtual será utilizada para www.renfe.com y avlorenfe.com, que todavia no tiene fecha de lanzamiento, pero la tecnología debe ser flexible con el objetivo de utilizarse para futuras marcas comerciales. El plazo para presentar las ofertas termina el 27 de julio a las 12.00 horas. ¿No eres usuario? Menuda panda de inútiles los responsables informáticos. En el mundo del software es dónde más se nota el capitalismo de amiguetes que vivímos en este país. Nota al margen. Un pc de 600 euros lleva 8 núcleos funcionando a 4 mil millones de operaciones por segundo cada uno. Un disco SSD moderno puede escribir en 10 segundo toda la información de transacciones de Renfe en un año. ¡¡¡Y el sistema se sigue colgando cuando hay picos de uso después de haber gastado decenas de millones de euros!!!.Y no va a cambiar nada porque los que dirigen el cotarro van a seguir haciéndolo. Durante la pandemia, varios retailers impusieron este sistema de colas de espera. Directamente me fui a comprar al retailer que no la tenía. Precisamente la compra online la ventaja competitiva que tiene es el no tener que esperar. Si la eliminas, no hay diferencia con el mundo físico.El problema que hay de fondo es una gestión nefasta a nivel tecnológico. Hay sistemas tan mal hechos que no escalan por muchos recursos que tengas. Y la solución, por mucho que duela, es muy simple: tirar la web entera y rehacerla desde 0, con una perspectiva cloud native, arquitectura basada en microservicios, BBDD NoSQL, etc...Pero claro, eso cuesta dinero (aunque a la larga te va a salir más barato hacer nueva la web que andar parcheándola cada dos por tres).Un saludo. Ahora ademas de doblada, la cola tambien nos la meten virtualmente Lo que deberían hacer es de dejarse de promociones y poner los billetes del AVE a 25 euros, porque cuando hay tanto interés simplemente por el volumen podrían sacar beneficios.Si cobras 70 euros por un billete la gente no sube, y se genera déficit y deuda.El precio del transporte público debe ser asequible.\n"
     ]
    },
    {
     "data": {
      "text/markdown": [
       "<a href=\"http://www.eleconomista.es/empresas-finanzas/noticias/10676875/07/20/Renfe-creara-una-cola-virtual-para-evitar-que-la-web-colapse-con-las-ofertas-.html\">Link</a>"
      ],
      "text/plain": [
       "<IPython.core.display.Markdown object>"
      ]
     },
     "metadata": {},
     "output_type": "display_data"
    },
    {
     "name": "stdout",
     "output_type": "stream",
     "text": [
      "\n",
      "\n",
      "\u001b[1m\u001b[32mECONOMISTA\u001b[0m\n",
      "\u001b[1m\u001b[30mMon, 20 Jul 2020 13:21:33 +0200\u001b[0m\n",
      "\u001b[1m\u001b[35mLos incendios forestales bajan un 40% este 2020 por el confinamiento y el clima\u001b[0m\n",
      "\u001b[34mHeadline\u001b[0m\n",
      "Más lluvias en mayo y junio, y el confinamiento para frenar el estallido de la Covid-19 -por las restricciones a las actividades agrícolas y ganaderas-, han reducido un 40% el número de incendios forestales en España en lo que va de 2020 y en un 55% la superficie arrasada. Para el resto del año, las autoridades se mantienen \"nada tranquilas\", aunque señalan que \"vamos bien\".\n",
      "\u001b[34mSummarise\u001b[0m\n",
      "En su opinión, el descenso se debe a la abundancia de lluvias durante esta primavera, a unas temperaturas suaves y a la crisis de la Covid-19: \"el confinamiento ha ayudado a que hubiera pocos incendios, porque el ser humano es la causa fundamental, y al no estar el ser humano en el monte",
      "\" ha apuntado, antes de añadir que \"pero no porque no hayamos ido de parrillada, sino porque muchas de las actividades rurales que generan incendios forestales de una manera voluntaria o involuntaria no se han producido en este tiempo\".\n",
      "\u001b[34mText\u001b[0m\n",
      "Más lluvias en mayo y junio, y el confinamiento para frenar el estallido de la Covid-19 -por las restricciones a las actividades agrícolas y ganaderas-, han reducido un 40% el número de incendios forestales en España en lo que va de 2020 y en un 55% la superficie arrasada. Para el resto del año, las autoridades se mantienen \"nada tranquilas\", aunque señalan que \"vamos bien\". Durante los últimos 10 años, entre el 1 de enero y el 12 de julio de cada ejercicio, se produjeron una media de 6.058 incendios forestales, mientras que este 2020 se han producido 3.607, un 40% menos. Además, si por estas fechas ya habíamos sufrido cinco grandes incendios -los que afectan a más de 500 hectáreas-, este año sólo hemos padecido tres, lo que se nota en la reducción de la superficie forestal quemada: 18.523 hectáreas, un 55% más pequeña.     Así lo ha señalado esta mañana José Manuel Jaquotot, subdirector de Política Forestal del Ministerio para la Transición Ecológica (Miteco), durante un encuentro telemático con la prensa. En su opinión, el descenso se debe a la abundancia de lluvias durante esta primavera, a unas temperaturas suaves y a la crisis de la Covid-19: \"el confinamiento ha ayudado a que hubiera pocos incendios, porque el ser humano es la causa fundamental, y al no estar el ser humano en el monte",
      "\" ha apuntado, antes de añadir que \"pero no porque no hayamos ido de parrillada, sino porque muchas de las actividades rurales que generan incendios forestales de una manera voluntaria o involuntaria no se han producido en este tiempo\". José Manuel Jaquotot: \"El confinamiento ha ayudado a que hubiera pocos incendios, porque el ser humano es la causa fundamental, y al no estar el ser humano en el monte",
      "\" Calcular el impacto económico de estos desastres es extraordinariamente complejo -varía mucho de un fuego a otro- y no hay datos oficiales. Jaquotot ha apuntado que el presupuesto del Miteco en las actividades directas de prevención y extinción -despliegue de aviones y otros efectivos- asciende a 85 millones de euros, pero a esa cantidad hay que añadir los presupuestos de las comunidades autónomas, que son las competentes en la materia. A la hora de prevenir los incendios, ha recordado que el 70% de la superficie forestal está en manos privadas y que el Miteco sólo puede hacer recomendaciones, aunque ha confiado en que una nueva Estrategia para el sector, a punto de presentarse públicamente, mejore las políticas de prevención. También ha identificado al sector forestal como uno de los más relevantes a la hora de solucionar la despoblación rural mediante más y mejor gestión de los montes. Elena Hernández Paredes, jefa de servicio del Área de Defensa de Incendios Forestales, ha abordado la colaboración internacional del país contra los incendios forestales, destacando que \"somos una referencia internacional, con un dispositivo potente y consolidado, y con mucha experiencia, porque llevamos más de 60 años trabajando\". Elena Hernández: \"España es una referencia internacional, con un dispositivo potente y consolidado, y con mucha experiencia, porque llevamos más de 60 años trabajando\" Hernández ha explicado que España centra su colaboración con los estados vecinos, por una cuestión de proximidad. El sur de Europa concentra tres de cada cuatro incendios de la UE, en Francia, Italia, Grecia, Portugal y España. El año pasado se detectaron 1.170 incendios de extensión superior a 30 hectáreas; más que la media del periodo 2008-2019. La semana pasada, la Agencia Estatal de Meteorología (Aemet) anunció su incorporación a un grupo internacional de instituciones expertas en desastres naturales -erupciones volcánicas, terremotos, tsunamis, meteorología adversa, inundaciones e incendios forestales- que ha promovido la UE para mejorar su gestióndar apoyo a los países miembro en la gestión de desastres naturales, como los incendios forestales. Los trabajos durarán tres años y la idea es que actúe fuera de la UE en una segunda fase. La Aemet trabajará con sus homólogos de Francia, Portugal e Italia, y ofrecerá predicciones de oficio, con tres días de antelación, basadas en informes de viento, temperatura y humedad, y otras, de emergencia, a demanda del servicio de protección civil europeo, específicas para incendios activos y acotadas a la zona afectada, para facilitar su extinción. ¿No eres usuario?\n"
     ]
    },
    {
     "data": {
      "text/markdown": [
       "<a href=\"http://www.eleconomista.es/empresas-finanzas/noticias/10676828/07/20/Los-incendios-forestales-bajan-un-40-este-2020-por-el-confinamiento-y-el-clima.html\">Link</a>"
      ],
      "text/plain": [
       "<IPython.core.display.Markdown object>"
      ]
     },
     "metadata": {},
     "output_type": "display_data"
    },
    {
     "name": "stdout",
     "output_type": "stream",
     "text": [
      "\n",
      "\n"
     ]
    }
   ],
   "source": [
    "yesterday = datetime.datetime.today() - datetime.timedelta(days=1)\n",
    "before_yes = datetime.datetime.today() - datetime.timedelta(days=2)\n",
    "\n",
    "for i in list(economista.keys()):\n",
    "    if economista[i]['date']['date2'][2] in [datetime.datetime.today().day,yesterday.day,before_yes.day]:\n",
    "        print(colored((economista[i]['newspaper']).upper(),'green',attrs=['bold']))\n",
    "        print(colored(economista[i]['date']['date1'],'grey',attrs=['bold']))\n",
    "        print(colored(economista[i]['title'],'magenta',attrs=['bold']))\n",
    "        print(colored('Headline','blue'))\n",
    "        print(economista[i]['headline'])\n",
    "        print(colored('Summarise','blue'))\n",
    "        \n",
    "        if economista[i]['summarise'] != 'Premium Content':\n",
    "            print(economista[i]['summarise'])\n",
    "        else:\n",
    "            print(colored(economista[i]['summarise'],'red'))\n",
    "        print(colored('Text','blue'))\n",
    "        print(economista[i]['text'])\n",
    "        display(Markdown('<a href=\"'+economista[i]['link']+'\">Link</a>'))\n",
    "        print('\\n')"
   ]
  },
  {
   "cell_type": "code",
   "execution_count": null,
   "metadata": {},
   "outputs": [],
   "source": []
  }
 ],
 "metadata": {
  "kernelspec": {
   "display_name": "Python 3",
   "language": "python",
   "name": "python3"
  },
  "language_info": {
   "codemirror_mode": {
    "name": "ipython",
    "version": 3
   },
   "file_extension": ".py",
   "mimetype": "text/x-python",
   "name": "python",
   "nbconvert_exporter": "python",
   "pygments_lexer": "ipython3",
   "version": "3.7.6"
  }
 },
 "nbformat": 4,
 "nbformat_minor": 4
}
