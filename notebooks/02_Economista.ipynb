{
 "cells": [
  {
   "cell_type": "markdown",
   "metadata": {},
   "source": [
    "# RSS: Economista"
   ]
  },
  {
   "cell_type": "markdown",
   "metadata": {},
   "source": [
    "## 1. Import Libraries"
   ]
  },
  {
   "cell_type": "code",
   "execution_count": 2,
   "metadata": {},
   "outputs": [],
   "source": [
    "import feedparser\n",
    "from gensim.summarization.summarizer import summarize\n",
    "from gensim.summarization import keywords\n",
    "import urllib.request\n",
    "from urllib.request import urlopen\n",
    "from bs4 import BeautifulSoup\n",
    "import requests\n",
    "import datetime\n",
    "from termcolor import colored\n",
    "from IPython.display import display, Markdown, Latex, HTML\n",
    "import re\n",
    "from IPython.display import Image\n",
    "import urllib"
   ]
  },
  {
   "cell_type": "code",
   "execution_count": 3,
   "metadata": {},
   "outputs": [],
   "source": [
    "def get_only_text1(url):\n",
    "    \n",
    "    \"\"\"\n",
    "    return the title and the text of the article at the \n",
    "    specified url\n",
    "    \"\"\"\n",
    "    \n",
    "    page=urlopen(url)\n",
    "    soup=BeautifulSoup(page,\"html.parser\")\n",
    "    text=' '.join(map(lambda p: p.text, soup.find_all('p')))\n",
    "    # Eliminar Última Hora\n",
    "    rest = soup.find_all('p', attrs={'class' : \"line-clamp_x2 ue-c-widget__article-headline\"})[0].text\n",
    "    index = text.find(rest)\n",
    "    final_text = text[:index]\n",
    "    return [final_text,soup.title.text]\n",
    "\n",
    "def get_only_text(url):\n",
    "    \n",
    "    \"\"\"\n",
    "    return the title and the text of the article at the \n",
    "    specified url\n",
    "    \"\"\"\n",
    "    \n",
    "    page=urlopen(url)\n",
    "    soup=BeautifulSoup(page,\"html.parser\")\n",
    "    text=' '.join(map(lambda p: p.text, soup.find_all('p')))\n",
    "    return [text,soup.title.text]\n",
    "\n",
    "def find_between( s, first, last ):\n",
    "    try:\n",
    "        start = s.index( first ) + len( first )\n",
    "        end = s.index( last, start )\n",
    "        return s[start:end]\n",
    "    except ValueError:\n",
    "        return \"\""
   ]
  },
  {
   "cell_type": "code",
   "execution_count": 4,
   "metadata": {},
   "outputs": [],
   "source": [
    "def economista_news(economista_entries,word_count=100):\n",
    "    economista = {}\n",
    "    for i in range(len(economista_entries)):\n",
    "        noticia = {'newspaper':None,'title':None,'headline':None,'summarise':None,'date':None,'link':None,'text':None,'current_date':None,'img':None,'premium':None}\n",
    "        # Periodico\n",
    "        noticia['newspaper'] = find_between(s=economista_entries[i]['id'], first='www.el', last='.' )\n",
    "        # Title\n",
    "        noticia['title'] = economista_entries[i]['title']\n",
    "        # Headline\n",
    "        headline =  re.sub(pattern='&quot;',repl='\"',string=economista_entries[i]['summary_detail']['value'])\n",
    "        noticia['headline'] = headline\n",
    "        # Date\n",
    "        noticia['date'] = {'date1':economista_entries[i]['published'],'date2':economista_entries[i]['published_parsed']}\n",
    "        # Link\n",
    "        noticia['link'] = economista_entries[i]['id']\n",
    "        # Text\n",
    "        text = get_only_text(economista_entries[i]['id'])[0][len(headline)+1:]\n",
    "        noticia['text'] = text\n",
    "        # Summarise\n",
    "        noticia['summarise'] = summarize(text, word_count=word_count)\n",
    "        # Current Date\n",
    "        noticia['current_date'] = datetime.datetime.now().timetuple()\n",
    "        # Image\n",
    "        noticia['img'] = None\n",
    "        economista.update({'Noticia'+'_'+str(\"%02d\")%(i+1):noticia})\n",
    "    return economista"
   ]
  },
  {
   "cell_type": "markdown",
   "metadata": {},
   "source": [
    "## 2. RSS Economista"
   ]
  },
  {
   "cell_type": "code",
   "execution_count": 5,
   "metadata": {},
   "outputs": [
    {
     "name": "stdout",
     "output_type": "stream",
     "text": [
      "Total Entradas Economista: 1\n"
     ]
    }
   ],
   "source": [
    "url_economista = 'https://www.eleconomista.es/rss/rss-empresas.php'\n",
    "economista = feedparser.parse(url_economista)\n",
    "economista_entries = economista['entries']\n",
    "\n",
    "print('Total Entradas Economista:',len(economista_entries))"
   ]
  },
  {
   "cell_type": "code",
   "execution_count": 6,
   "metadata": {},
   "outputs": [],
   "source": [
    "economista = economista_news(economista_entries,word_count=100)"
   ]
  },
  {
   "cell_type": "code",
   "execution_count": 7,
   "metadata": {},
   "outputs": [
    {
     "name": "stdout",
     "output_type": "stream",
     "text": [
      "\u001b[1m\u001b[32mECONOMISTA\u001b[0m\n",
      "\u001b[1m\u001b[30mFri, 10 Jul 2020 11:08:13 +0200\u001b[0m\n",
      "\u001b[1m\u001b[35mIberdrola encarga a Ingeteam su mayor batería de ion litio en el mundo\u001b[0m\n",
      "\u001b[34mHeadline\u001b[0m\n",
      "Iberdrola ha adjudicado a Ingeteam el suministro de su mayor sistema de almacenamiento de energía con baterías de ion litio. El proyecto actuará como respaldo del mayor parque eólico terrestre del Reino Unido, Whitelee, cercano a Glasgow, y tendrá una capacidad de almacenamiento de 50 millones de Watios-hora, lo que equivale al consumo medio de 150.000 hogares/hora.\n",
      "\u001b[34mSummarise\u001b[0m\n",
      "El proyecto actuará como respaldo del mayor parque eólico terrestre del Reino Unido, Whitelee, cercano a Glasgow, y tendrá una capacidad de almacenamiento de 50 millones de Watios-hora, lo que equivale al consumo medio de 150.000 hogares/hora.\n",
      "En momentos de baja demanda de energía de los hogares o de la industria, el parque eólico podrá seguir generando a máxima capacidad, y el excedente de energía limpia generada se almacenará en la batería.\n",
      "Cuando la demanda sea inferior a la capacidad de generación de las turbinas del parque eólico con el viento existente, no se \"dejará pasar\" la oportunidad de generar energía limpia.\n",
      "\u001b[34mText\u001b[0m\n",
      "Iberdrola ha adjudicado a Ingeteam el suministro de su mayor sistema de almacenamiento de energía con baterías de ion litio. El proyecto actuará como respaldo del mayor parque eólico terrestre del Reino Unido, Whitelee, cercano a Glasgow, y tendrá una capacidad de almacenamiento de 50 millones de Watios-hora, lo que equivale al consumo medio de 150.000 hogares/hora. Ingeteam suministrará el sistema de control, los convertidores de potencia y las baterías ion litio. La funcionalidad principal de la instalación es dotar a la planta eólica de una mayor capacidad de gestión de la energía entregada al sistema eléctrico en cada momento. Con un sistema de almacenamiento como el que se va a instalar en el parque eólico de Whitelee, la eléctrioca española podrá participar en el mercado de regulación de frecuencia de la red nacional de Reino Unido. Al mismo tiempo, tiene otras funcionalidades adicionales como la del aseguramiento de la capacidad de suministro, realizando un balance óptimo entre generación y consumo, así como permitir el arranque del parque eólico con red desenergizada y aislada de la red principal. Está previsto que la planta entre en operación a finales de este año y que, en el primer trimestre de 2021, concluyan las pruebas de cumplimento de código red del operador de red del Reino Unido. Los sistemas de control y los convertidores de potencia de este contrato serán basados en la tecnología propia del Grupo Ingeteam y se comisionarán en la planta recientemente inaugurada de Ortuella (Bizkaia). El sistema suministrado por Ingeteam es similar a una fuente de alimentación de un ordenador portátil, si bien es un millón de veces más grande y permite además que la energía fluya en los dos sentidos entre la red eléctrica y la batería. El sistema de control y los convertidores de potencia permiten la correcta carga y descarga de la batería. En momentos de baja demanda de energía de los hogares o de la industria, el parque eólico podrá seguir generando a máxima capacidad, y el excedente de energía limpia generada se almacenará en la batería. Cuando la demanda sea inferior a la capacidad de generación de las turbinas del parque eólico con el viento existente, no se \"dejará pasar\" la oportunidad de generar energía limpia. El excedente se almacena en la batería. Cuando la demanda de energía supere a la capacidad de generación limpia con el viento, la planta puede cubrir el exceso de demanda, porque sumará la energía extraída de las baterías y la generada en las turbinas. ¿No eres usuario?\n"
     ]
    },
    {
     "data": {
      "text/markdown": [
       "<a href=\"http://www.eleconomista.es/energia/noticias/10658607/07/20/Iberdrola-encarga-a-Ingeteam-su-mayor-bateria-de-ion-litio-en-el-mundo.html\">Link</a>"
      ],
      "text/plain": [
       "<IPython.core.display.Markdown object>"
      ]
     },
     "metadata": {},
     "output_type": "display_data"
    },
    {
     "name": "stdout",
     "output_type": "stream",
     "text": [
      "\n",
      "\n"
     ]
    }
   ],
   "source": [
    "yesterday = datetime.datetime.today() - datetime.timedelta(days=1)\n",
    "before_yes = datetime.datetime.today() - datetime.timedelta(days=2)\n",
    "\n",
    "for i in list(economista.keys()):\n",
    "    if economista[i]['date']['date2'][2] in [datetime.datetime.today().day,yesterday.day,before_yes.day]:\n",
    "        print(colored((economista[i]['newspaper']).upper(),'green',attrs=['bold']))\n",
    "        print(colored(economista[i]['date']['date1'],'grey',attrs=['bold']))\n",
    "        print(colored(economista[i]['title'],'magenta',attrs=['bold']))\n",
    "        print(colored('Headline','blue'))\n",
    "        print(economista[i]['headline'])\n",
    "        print(colored('Summarise','blue'))\n",
    "        \n",
    "        if economista[i]['summarise'] != 'Premium Content':\n",
    "            print(economista[i]['summarise'])\n",
    "        else:\n",
    "            print(colored(economista[i]['summarise'],'red'))\n",
    "        print(colored('Text','blue'))\n",
    "        print(economista[i]['text'])\n",
    "        display(Markdown('<a href=\"'+economista[i]['link']+'\">Link</a>'))\n",
    "        print('\\n')"
   ]
  },
  {
   "cell_type": "code",
   "execution_count": null,
   "metadata": {},
   "outputs": [],
   "source": []
  }
 ],
 "metadata": {
  "kernelspec": {
   "display_name": "Python 3",
   "language": "python",
   "name": "python3"
  },
  "language_info": {
   "codemirror_mode": {
    "name": "ipython",
    "version": 3
   },
   "file_extension": ".py",
   "mimetype": "text/x-python",
   "name": "python",
   "nbconvert_exporter": "python",
   "pygments_lexer": "ipython3",
   "version": "3.7.6"
  }
 },
 "nbformat": 4,
 "nbformat_minor": 4
}
