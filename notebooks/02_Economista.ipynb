{
 "cells": [
  {
   "cell_type": "markdown",
   "metadata": {},
   "source": [
    "# RSS: Expansión"
   ]
  },
  {
   "cell_type": "markdown",
   "metadata": {},
   "source": [
    "## 1. Import Libraries"
   ]
  },
  {
   "cell_type": "code",
   "execution_count": 46,
   "metadata": {},
   "outputs": [],
   "source": [
    "import feedparser\n",
    "from gensim.summarization.summarizer import summarize\n",
    "from gensim.summarization import keywords\n",
    "import urllib.request\n",
    "from urllib.request import urlopen\n",
    "from bs4 import BeautifulSoup\n",
    "import requests\n",
    "import googletrans\n",
    "import datetime\n",
    "from termcolor import colored\n",
    "from IPython.display import display, Markdown, Latex, HTML\n",
    "import re\n",
    "from IPython.display import Image\n",
    "import urllib"
   ]
  },
  {
   "cell_type": "code",
   "execution_count": 37,
   "metadata": {},
   "outputs": [],
   "source": [
    "def get_only_text1(url):\n",
    "    \n",
    "    \"\"\"\n",
    "    return the title and the text of the article at the \n",
    "    specified url\n",
    "    \"\"\"\n",
    "    \n",
    "    page=urlopen(url)\n",
    "    soup=BeautifulSoup(page,\"html.parser\")\n",
    "    text=' '.join(map(lambda p: p.text, soup.find_all('p')))\n",
    "    # Eliminar Última Hora\n",
    "    rest = soup.find_all('p', attrs={'class' : \"line-clamp_x2 ue-c-widget__article-headline\"})[0].text\n",
    "    index = text.find(rest)\n",
    "    final_text = text[:index]\n",
    "    return [final_text,soup.title.text]\n",
    "\n",
    "def get_only_text(url):\n",
    "    \n",
    "    \"\"\"\n",
    "    return the title and the text of the article at the \n",
    "    specified url\n",
    "    \"\"\"\n",
    "    \n",
    "    page=urlopen(url)\n",
    "    soup=BeautifulSoup(page,\"html.parser\")\n",
    "    text=' '.join(map(lambda p: p.text, soup.find_all('p')))\n",
    "    return [text,soup.title.text]\n",
    "\n",
    "def find_between( s, first, last ):\n",
    "    try:\n",
    "        start = s.index( first ) + len( first )\n",
    "        end = s.index( last, start )\n",
    "        return s[start:end]\n",
    "    except ValueError:\n",
    "        return \"\""
   ]
  },
  {
   "cell_type": "code",
   "execution_count": 40,
   "metadata": {},
   "outputs": [
    {
     "data": {
      "text/plain": [
       "'http://www.eleconomista.es/empresas-finanzas/noticias/10652645/07/20/Abalos-senala-que-solo-se-rescatara-a-las-aerolineas-que-lo-soliciten.html'"
      ]
     },
     "execution_count": 40,
     "metadata": {},
     "output_type": "execute_result"
    }
   ],
   "source": [
    "economista_entries[1]['id']"
   ]
  },
  {
   "cell_type": "code",
   "execution_count": 20,
   "metadata": {},
   "outputs": [
    {
     "data": {
      "text/plain": [
       "{'title': 'El mercado del plástico reciclado duplicará su valor hasta el año 2027',\n",
       " 'title_detail': {'type': 'text/plain',\n",
       "  'language': None,\n",
       "  'base': 'https://www.eleconomista.es/rss/rss-empresas.php',\n",
       "  'value': 'El mercado del plástico reciclado duplicará su valor hasta el año 2027'},\n",
       " 'links': [{'rel': 'alternate',\n",
       "   'type': 'text/html',\n",
       "   'href': 'http://www.eleconomista.es/empresas-finanzas/noticias/10652734/07/20/El-mercado-del-plastico-reciclado-duplicara-su-valor-hasta-el-ano-2027.html'}],\n",
       " 'link': 'http://www.eleconomista.es/empresas-finanzas/noticias/10652734/07/20/El-mercado-del-plastico-reciclado-duplicara-su-valor-hasta-el-ano-2027.html',\n",
       " 'summary': 'Las empresas apuestan por potenciar el mercado del plástico reciclado, cuyo valor crecerá a un ritmo del 6,8% anual, desde los 30.000 millones de euros registrados en 2019 a los 53.000 millones previstos para 2027, según el informe La ambición empresarial para avanzar hacia la nueva economía de plásticos, presentado este martes por Forética.',\n",
       " 'summary_detail': {'type': 'text/html',\n",
       "  'language': None,\n",
       "  'base': 'https://www.eleconomista.es/rss/rss-empresas.php',\n",
       "  'value': 'Las empresas apuestan por potenciar el mercado del plástico reciclado, cuyo valor crecerá a un ritmo del 6,8% anual, desde los 30.000 millones de euros registrados en 2019 a los 53.000 millones previstos para 2027, según el informe La ambición empresarial para avanzar hacia la nueva economía de plásticos, presentado este martes por Forética.'},\n",
       " 'published': 'Tue, 07 Jul 2020 19:30:52 +0200',\n",
       " 'published_parsed': time.struct_time(tm_year=2020, tm_mon=7, tm_mday=7, tm_hour=17, tm_min=30, tm_sec=52, tm_wday=1, tm_yday=189, tm_isdst=0),\n",
       " 'id': 'http://www.eleconomista.es/empresas-finanzas/noticias/10652734/07/20/El-mercado-del-plastico-reciclado-duplicara-su-valor-hasta-el-ano-2027.html',\n",
       " 'guidislink': False}"
      ]
     },
     "execution_count": 20,
     "metadata": {},
     "output_type": "execute_result"
    }
   ],
   "source": [
    "economista_entries[0]"
   ]
  },
  {
   "cell_type": "code",
   "execution_count": 50,
   "metadata": {},
   "outputs": [],
   "source": [
    "def economista_news(economista_entries,word_count=100):\n",
    "    economista = {}\n",
    "    for i in range(len(economista_entries)):\n",
    "        noticia = {'newspaper':None,'title':None,'headline':None,'summarise':None,'date':None,'link':None,'text':None,'current_date':None,'img':None,'premium':None}\n",
    "        # Periodico\n",
    "        noticia['newspaper'] = find_between(s=economista_entries[i]['id'], first='www.el', last='.' )\n",
    "        # Title\n",
    "        noticia['title'] = economista_entries[i]['title']\n",
    "        # Headline\n",
    "        noticia['headline'] = economista_entries[i]['summary']\n",
    "        # Date\n",
    "        noticia['date'] = {'date1':economista_entries[i]['published'],'date2':economista_entries[i]['published_parsed']}\n",
    "        # Link\n",
    "        noticia['link'] = economista_entries[i]['id']\n",
    "        # Text\n",
    "        text = get_only_text(economista_entries[i]['id'])[0]\n",
    "        noticia['text'] = text\n",
    "        # Summarise\n",
    "        noticia['summarise'] = summarize(text, word_count=word_count)\n",
    "        # Current Date\n",
    "        noticia['current_date'] = datetime.datetime.now().timetuple()\n",
    "        # Image\n",
    "        noticia['img'] = None\n",
    "        economista.update({'Noticia'+'_'+str(\"%02d\")%(i+1):noticia})\n",
    "    return economista"
   ]
  },
  {
   "cell_type": "markdown",
   "metadata": {},
   "source": [
    "## 2. RSS Expansión"
   ]
  },
  {
   "cell_type": "code",
   "execution_count": 51,
   "metadata": {},
   "outputs": [
    {
     "name": "stdout",
     "output_type": "stream",
     "text": [
      "Total Entradas Economista: 20\n"
     ]
    }
   ],
   "source": [
    "url_economista = 'https://www.eleconomista.es/rss/rss-empresas.php'\n",
    "economista = feedparser.parse(url_economista)\n",
    "economista_entries = economista['entries']\n",
    "\n",
    "print('Total Entradas Economista:',len(economista_entries))"
   ]
  },
  {
   "cell_type": "code",
   "execution_count": 52,
   "metadata": {},
   "outputs": [],
   "source": [
    "economista = economista_news(economista_entries,word_count=100)"
   ]
  },
  {
   "cell_type": "code",
   "execution_count": 53,
   "metadata": {},
   "outputs": [
    {
     "data": {
      "text/plain": [
       "{'Noticia_01': {'newspaper': 'economista',\n",
       "  'title': 'El mercado del plástico reciclado duplicará su valor hasta el año 2027',\n",
       "  'headline': 'Las empresas apuestan por potenciar el mercado del plástico reciclado, cuyo valor crecerá a un ritmo del 6,8% anual, desde los 30.000 millones de euros registrados en 2019 a los 53.000 millones previstos para 2027, según el informe La ambición empresarial para avanzar hacia la nueva economía de plásticos, presentado este martes por Forética.',\n",
       "  'summarise': 'Las empresas apuestan por potenciar el mercado del plástico reciclado, cuyo valor crecerá a un ritmo del 6,8% anual, desde los 30.000 millones de euros registrados en 2019 a los 53.000 millones previstos para 2027, según el informe La ambición empresarial para avanzar hacia la nueva economía de plásticos, presentado este martes por Forética.\\nLas empresas apuestan por potenciar el mercado del plástico reciclado, cuyo valor crecerá a un ritmo del 6,8% anual, desde los 30.000 millones de euros registrados en 2019 a los 53.000 millones previstos para 2027, según el informe La ambición empresarial para avanzar hacia la nueva economía de plásticos, presentado este martes por Forética.',\n",
       "  'date': {'date1': 'Tue, 07 Jul 2020 19:30:52 +0200',\n",
       "   'date2': time.struct_time(tm_year=2020, tm_mon=7, tm_mday=7, tm_hour=17, tm_min=30, tm_sec=52, tm_wday=1, tm_yday=189, tm_isdst=0)},\n",
       "  'link': 'http://www.eleconomista.es/empresas-finanzas/noticias/10652734/07/20/El-mercado-del-plastico-reciclado-duplicara-su-valor-hasta-el-ano-2027.html',\n",
       "  'text': 'Las empresas apuestan por potenciar el mercado del plástico reciclado, cuyo valor crecerá a un ritmo del 6,8% anual, desde los 30.000 millones de euros registrados en 2019 a los 53.000 millones previstos para 2027, según el informe La ambición empresarial para avanzar hacia la nueva economía de plásticos, presentado este martes por Forética. Las empresas apuestan por potenciar el mercado del plástico reciclado, cuyo valor crecerá a un ritmo del 6,8% anual, desde los 30.000 millones de euros registrados en 2019 a los 53.000 millones previstos para 2027, según el informe La ambición empresarial para avanzar hacia la nueva economía de plásticos, presentado este martes por Forética. El documento, que recoge las experiencias y las prácticas con relación al plástico de Endesa, ING, Vía Célere, Grupo Antolín, Saica, Nestlé, P&G, Ecoembes, Cereales Siro, Lafarge Holcim y Red Eléctrica de España, hace un detallado repaso a la coyuntura del mercado del plástico, las externalidades negativas de su mala gestión y las principales normas que lo regulan.     En la presentación del Informe han participado Daniel Calleja, director general de Medio Ambiente de la Comisión Europea, quien ha destacado el \"compromiso\" de la UE con la Economía Circular, e Ismael Aznar Cano, director general de Calidad y Evaluación Ambiental del Ministerio para la Transición Ecológica, quien se ha centrado en la reciente Estrategia española de Economía Circular\\xa0y en la legislación que permitirá desarrollarla, como el Anteproyecto de Ley de residuos y suelos contaminados. El informe de Forética identifica tres posibles escenarios futuros para el mercado del plástico, que en todo el mundo mueve más de medio billón de dólares anuales y crece a un ritmo del 3,5% anual. En el caso de España, mantiene la actividad de 4.000 empresas con una facturación de 30.000 millones al año. El primero, Plastic as usual, el menos probable a la luz de la tendencia global, a pesar de que en muchos países no prevén restricciones, permitiría el mantenimiento de los modelos de negocio tradicionales, sin preocuparse por los impactos ambientales de la mala gestión. El segundo, Carbon pricing, basado en un precio a las emisiones de CO2, es el más defendido por las empresas para la transición hacia una economía sostenible. Prevé también la introducción de un impuesto sobre los residuos plásticos, como el planteado por Bruselas, de 0,8 euros por kilo sobre los que no se reciclen, para fomentar la recuperación y la incorporación del plástico reciclado en el ciclo productivo industrial.     Este impuesto es distinto al propuesto por el Gobierno, sobre todo tipo de plástico, de 0,45 euros por kilo, al objeto de frenar su uso y recaudar unos 725 millones anuales. Las empresas del sector rechazan su aplicación indiscriminada y alertan de que amenaza 35.000 puestos de trabajo. El tercer escenario, Phase-out, la prohibición directa, como se prevé para algunos plásticos de un solo uso en la UE y España a partir del año que viene, encierra consecuencias no deseadas, como la falta de alternativas eficientes, la destrucción de empleo o la desestructuración de las cadenas de valor. Por todo ello la apuesta es por el reciclado del plástico que, además de crecer al doble que el resto del mercado, emite mucho menos CO2 que el plástico virgen; concretamente, el plástico virgen emite 1,6 veces más CO2 que el reciclado. ¿No eres usuario?',\n",
       "  'current_date': time.struct_time(tm_year=2020, tm_mon=7, tm_mday=7, tm_hour=21, tm_min=51, tm_sec=6, tm_wday=1, tm_yday=189, tm_isdst=-1),\n",
       "  'img': None,\n",
       "  'premium': None},\n",
       " 'Noticia_02': {'newspaper': 'economista',\n",
       "  'title': 'Ábalos señala que \"sólo se rescatará a las aerolíneas que lo soliciten\"',\n",
       "  'headline': 'El ministro de Transportes, José Luis Ábalos, ha dejado claro que el fondo de 10.000 millones de apoyo a la solvencia sólo se utilizará para rescatar a las aerolíneas que lo soliciten. &quot;No vamos a hacer nada que no sea a requerimiento de las propias compañías, de sus necesidades. A nadie se le va a imponer nada y todo está funcionando a petición y solicitud de las propias aerolíneas, lo digo por los rescates, y así pensamos seguir trabajando. Y estamos en ello, tenemos ese fondo y ahora trabajamos en función de las necesidades que nos permitan las compañías&quot;, ha explicado Ábalos en la rueda de prensa tras el Consejo de Ministros.',\n",
       "  'summarise': 'El ministro de Transportes, José Luis Ábalos, ha dejado claro que el fondo de 10.000 millones de apoyo a la solvencia sólo se utilizará para rescatar a las aerolíneas que lo soliciten.\\nEl ministro de Transportes, José Luis Ábalos, ha dejado claro que el fondo de 10.000 millones de apoyo a la solvencia sólo se utilizará para rescatar a las aerolíneas que lo soliciten.\\nPues a partir de las necesidades financieras que las propias compañías nos han pasado\" \"La semana pasada abordamos una línea de 10.000 millones para sectores estratégicos en los que claramente se incluyen las compañías aéreas.',\n",
       "  'date': {'date1': 'Tue, 07 Jul 2020 18:53:26 +0200',\n",
       "   'date2': time.struct_time(tm_year=2020, tm_mon=7, tm_mday=7, tm_hour=16, tm_min=53, tm_sec=26, tm_wday=1, tm_yday=189, tm_isdst=0)},\n",
       "  'link': 'http://www.eleconomista.es/empresas-finanzas/noticias/10652645/07/20/Abalos-senala-que-solo-se-rescatara-a-las-aerolineas-que-lo-soliciten.html',\n",
       "  'text': 'El ministro de Transportes, José Luis Ábalos, ha dejado claro que el fondo de 10.000 millones de apoyo a la solvencia sólo se utilizará para rescatar a las aerolíneas que lo soliciten. \"No vamos a hacer nada que no sea a requerimiento de las propias compañías, de sus necesidades. A nadie se le va a imponer nada y todo está funcionando a petición y solicitud de las propias aerolíneas, lo digo por los rescates, y así pensamos seguir trabajando. Y estamos en ello, tenemos ese fondo y ahora trabajamos en función de las necesidades que nos permitan las compañías\", ha explicado Ábalos en la rueda de prensa tras el Consejo de Ministros. El ministro de Transportes, José Luis Ábalos, ha dejado claro que el fondo de 10.000 millones de apoyo a la solvencia sólo se utilizará para rescatar a las aerolíneas que lo soliciten. \"No vamos a hacer nada que no sea a requerimiento de las propias compañías, de sus necesidades. A nadie se le va a imponer nada y todo está funcionando a petición y solicitud de las propias aerolíneas, lo digo por los rescates, y así pensamos seguir trabajando. Y estamos en ello, tenemos ese fondo y ahora trabajamos en función de las necesidades que nos permitan las compañías\", ha explicado Ábalos en la rueda de prensa tras el Consejo de Ministros. En este punto, el responsable de la cartera de Transportes ha dejado entrever que el fondo prácticamente se ha conformado a imagen y semejanza de las necesidades que las aerolíneas les han ido trasmitiendo en las reuniones que han tenido prácticamente a diario. \"¿Cómo hemos cuantificado el fondo de 10.000 millones? Pues a partir de las necesidades financieras que las propias compañías nos han pasado\" \"La semana pasada abordamos una línea de 10.000 millones para sectores estratégicos en los que claramente se incluyen las compañías aéreas. ¿Cómo hemos cuantificado además esto? Pues a partir de las necesidades financieras que las propias compañías nos han pasado. Cada compañía nos ha dicho cuales eran sus necesidades financieras y hemos cifrado esas necesidades con un fondo de esas características que atiende a lo que nos han planteado\", ha abundado el ministro, que ha hecho gala de mantener un contacto constante, \"casi a diario\", con las aerolíneas puesto que tienen \"una gran necesidad\" y \"tampoco son tantas\". Según recoge el BOE, el Fondo de apoyo a la solvencia de empresas estratégicas, que será gestionado por SEPI, \"dispondrá de una dotación inicial de 10.000 millones de euros para la toma de instrumentos financieros, incluyendo deuda, instrumentos híbridos o participaciones en el capital social de las empresas anteriormente referidas\". Esto implica que el Ejecutivo podría utilizar el fondo para comprar emisiones de deuda de las aerolíneas a tipos muy bajos para mejorar su liquidez sin poner en riesgo su solvencia con el pago de altos intereses o devoluciones a corto plazo.     De momento, ninguna compañía aérea ha comunicado públicamente su intención de ser rescatada dando entrada al Gobierno en su capital. Varias informaciones han señalado directamente a Iberia como principal destinataria de este salvavidas pero fuentes del sector aseguran que no ha pedido un rescate nunca y no tiene previsto hacerlo. Otra cosa que sería que lograra la financiación vía emisiones de deuda subordinada. La aerolínea de IAG ha logrado 750 millones de financiación del ICO y empezó la crisis con unos 2.000 millones de caja aunque quema unos siete millones de euros al día y tiene más difícil emprender el camino de la recuperación por su fuerte exposición al largo radio, cuya reactivación todavía está en aire por el coronavirus. Hay otras compañías, como Air Europa, que están en peor situación  y necesitan ayudas de forma más directa y urgente. En este caso, fuentes del sector explican que el Gobierno estaría muy interesado en que la operación de compra por parte de Iberia saliera adelante. De todas formas, a primera vista, este fondo se aleja de las medidas que el sector aéreo ha pedido públicamente. En el Consejo de Ministros se ha aprobado un Real Decreto Ley que contiene un conjunto de medidas necesarias para \"la reactivación económica en los ámbitos de los transportes y de la vivienda, para hacer frente al impacto del Covid-19\". \"El Real Decreto se articula en tres apartados: proteger la seguridad y la salud de los trabajadores y pasajeros para reactivar el transporte; proporcionar liquidez a las empresas del sector para preservar su viabilidad, potenciar su actividad e impulsar la recuperación, y reducir las cargas administrativas simplificando los procedimientos y trámites para la reactivación\", ha explicado Ábalos en la rueda de prensa tras el Consejo de Ministros en la que Pablo Iglesias ha aprovechado para manipular la pregunta de una periodista y acusarla de \"llamar delincuentes a los que no pueden pagar\", cuando la cuestión poco tenía que ver. Las ayudas para garantizar la liquidez de las empresa de transporte del sector privado se centrar en aprobar moratorias en los pagos de los leasing, renting y cualquier otro tipo de crédito vinculado a la adquisición de vehículos de transporte o autobuses de transporte discrecional, uno de los sectores que más está sufriendo la crisis. \"Esta medida permitiría un aplazamiento de hasta 250 millones de euros para el transporte discrecional de viajeros y de hasta 330 millones de euros en el caso del transporte de mercancías\", señala el Ministerio en una nota.  También se han aprobado medidas para el reequilibrio de las concesiones de las líneas de autobús interurbanos de competencia estatal. Las compañías tendrán que demostrar las perdidas causadas por el covid eliminando los ahorros generados por los Erte y las frecuencias no ofrecidas. Este reequilibrio está valorado en 14 millones.  En cuando a las empresas públicas, ha elevado la capacidad de endeudamiento de Renfe para que pueda recuperar la actividad y las frecuencias con más solvencia y velocidad, tal y como adelantó este diario. \"La norma aumenta la capacidad de endeudamiento de Renfe hasta los 1.000 millones con el fin de compensar la caída de demanda e impulsar la recuperación de servicios\", señala Transportes en un comunicado en el que también explica los \"110 millones de euros de aportación extraordinaria a SEITTSA para que pueda atender sus compromisos de obras públicas en el medio plazo\". ¿No eres usuario?',\n",
       "  'current_date': time.struct_time(tm_year=2020, tm_mon=7, tm_mday=7, tm_hour=21, tm_min=51, tm_sec=6, tm_wday=1, tm_yday=189, tm_isdst=-1),\n",
       "  'img': None,\n",
       "  'premium': None},\n",
       " 'Noticia_03': {'newspaper': 'economista',\n",
       "  'title': 'Lambán subraya que si se realiza el mini-trasvase del Ebro a Santander el Gobierno de Aragón recurrirá a los tribunales',\n",
       "  'headline': 'El presidente del Gobierno de Aragón, Javier Lambán, ha subrayado que si se realiza el mini-trasvase del Ebro a Santander, el Ejecutivo autonómico recurrirá a los tribunales y ha recordado que este territorio está fuera de la cuenca del río.',\n",
       "  'summarise': 'El presidente del Gobierno de Aragón, Javier Lambán, ha subrayado que si se realiza el mini-trasvase del Ebro a Santander, el Ejecutivo autonómico recurrirá a los tribunales y ha recordado que este territorio está fuera de la cuenca del río.\\nEl presidente del Gobierno de Aragón, Javier Lambán, ha subrayado que si se realiza el mini-trasvase del Ebro a Santander, el Ejecutivo autonómico recurrirá a los tribunales y ha recordado que este territorio está fuera de la cuenca del río.',\n",
       "  'date': {'date1': 'Tue, 07 Jul 2020 18:44:20 +0200',\n",
       "   'date2': time.struct_time(tm_year=2020, tm_mon=7, tm_mday=7, tm_hour=16, tm_min=44, tm_sec=20, tm_wday=1, tm_yday=189, tm_isdst=0)},\n",
       "  'link': 'http://www.eleconomista.es/aragon/noticias/10652621/07/20/Lamban-subraya-que-si-se-realiza-el-minitrasvase-del-Ebro-a-Santander-el-Gobierno-de-Aragon-recurrira-a-los-tribunales.html',\n",
       "  'text': 'El presidente del Gobierno de Aragón, Javier Lambán, ha subrayado que si se realiza el mini-trasvase del Ebro a Santander, el Ejecutivo autonómico recurrirá a los tribunales y ha recordado que este territorio está fuera de la cuenca del río. El presidente del Gobierno de Aragón, Javier Lambán, ha subrayado que si se realiza el mini-trasvase del Ebro a Santander, el Ejecutivo autonómico recurrirá a los tribunales y ha recordado que este territorio está fuera de la cuenca del río. \"Ese trasvase lo es técnicamente hablando porque transfiere agua de la cuenca del Ebro a un territorio que está fuera de ella, es algo que la propia Unión Europea dejó claro hace años que no se puede hacer\", ha detallado Lambán. Asimismo, ha añadido que Aragón en su Estatuto de Autonomía prohíbe los trasvases de agua del Ebro. El presidente autonómico ha realizado estas declaraciones este martes, durante su participación en una charla-coloquio digital, organizada por la Asociación para el Progreso de la Dirección (APD) y Deloitte, con el título \\'De vuelta a la normalidad en la Comunidad de Aragón\\' y donde ha respondido a las preguntas de los integrantes de la asociación y asistentes. \"El Estatuto nos obliga a los gobiernos a actuar con contundencia cada vez que se produce un trasvase de cualquier naturaleza y eso es lo que vamos a hacer en este momento\". Así, ha confirmado que este jueves, en el Pleno de las Cortes de Aragón, se ratificará la posición del Gobierno autonómico y ha remarcado que, si al final se produce el trasvase, su Ejecutivo recurrirá a los tribunales, para defender el derecho a que \"el agua del Ebro transcurra íntegramente y se utilice exclusivamente dentro de la cuenca del Ebro\". Lambán ha aclarado que este trasvase se produce de manera coyuntural desde hace \"bastantes años\" porque a Santander le hacen falta \"cuatro o cinco hectómetros cúbicos de agua de consumo humano\" y, \"desde luego, Aragón nunca se ha negado, pero de manera coyuntural y solo cuando se necesite\", mientras que el \"salto\" que se da ahora \"es convertir ese trasvase en estructural, lo que va contra nuestro Estatuto y la legislación europea\". Por eso, ha pedido a la ministra para la Transición Ecológica, Teresa Ribera, que tenga \"sensibilidad\". \"Si Cantabria necesita cinco hectómetros de agua en un momento determinado, no seremos nosotros quienes se lo neguemos, pero sí que defenderemos nuestro derecho a que no exista trasvase\". ¿No eres usuario?',\n",
       "  'current_date': time.struct_time(tm_year=2020, tm_mon=7, tm_mday=7, tm_hour=21, tm_min=51, tm_sec=6, tm_wday=1, tm_yday=189, tm_isdst=-1),\n",
       "  'img': None,\n",
       "  'premium': None},\n",
       " 'Noticia_04': {'newspaper': 'economista',\n",
       "  'title': 'Endesa realiza una inversión de 70.000 euros en varias comarcas de Huesca',\n",
       "  'headline': 'Endesa ha realizado una serie de actuaciones de mejora en la red eléctrica que suministra energía a las localidades de Almunia de San Juan, Albalate de Cinca y Fraga, situadas en las comarcas oscenses de Cinca Medio y Bajo Cinca.',\n",
       "  'summarise': 'Endesa ha realizado una serie de actuaciones de mejora en la red eléctrica que suministra energía a las localidades de Almunia de San Juan, Albalate de Cinca y Fraga, situadas en las comarcas oscenses de Cinca Medio y Bajo Cinca.\\nEndesa ha realizado una serie de actuaciones de mejora en la red eléctrica que suministra energía a las localidades de Almunia de San Juan, Albalate de Cinca y Fraga, situadas en las comarcas oscenses de Cinca Medio y Bajo Cinca.\\nLos trabajos, que beneficiarán de forma directa a 2.000 clientes de la comarca, forman parte del programa de mejora de instalaciones desarrollado anualmente por Endesa con el objeto de consolidar la calidad de servicio.',\n",
       "  'date': {'date1': 'Tue, 07 Jul 2020 18:34:31 +0200',\n",
       "   'date2': time.struct_time(tm_year=2020, tm_mon=7, tm_mday=7, tm_hour=16, tm_min=34, tm_sec=31, tm_wday=1, tm_yday=189, tm_isdst=0)},\n",
       "  'link': 'http://www.eleconomista.es/aragon/noticias/10652588/07/20/Endesa-realiza-una-inversion-de-70000-euros-en-varias-comarcas-de-Huesca.html',\n",
       "  'text': 'Endesa ha realizado una serie de actuaciones de mejora en la red eléctrica que suministra energía a las localidades de Almunia de San Juan, Albalate de Cinca y Fraga, situadas en las comarcas oscenses de Cinca Medio y Bajo Cinca. Endesa ha realizado una serie de actuaciones de mejora en la red eléctrica que suministra energía a las localidades de Almunia de San Juan, Albalate de Cinca y Fraga, situadas en las comarcas oscenses de Cinca Medio y Bajo Cinca. La compañía ha instalado nuevos sistemas de protección, control y telemando en laas líneas de media tensión Cinca-Almunia y Fraga-Zaidín.  Esta mejora tecnológica, que ha contado con una inversión de 70.000 euros, facilitará la operatividad de las instalaciones y minimizará el riesgo de incidencia y el tiempo de reposición del suministro en este nudo eléctrico. Los trabajos, que beneficiarán de forma directa a 2.000 clientes de la comarca, forman parte del programa de mejora de instalaciones desarrollado anualmente por Endesa con el objeto de consolidar la calidad de servicio. ¿No eres usuario?',\n",
       "  'current_date': time.struct_time(tm_year=2020, tm_mon=7, tm_mday=7, tm_hour=21, tm_min=51, tm_sec=7, tm_wday=1, tm_yday=189, tm_isdst=-1),\n",
       "  'img': None,\n",
       "  'premium': None},\n",
       " 'Noticia_05': {'newspaper': 'economista',\n",
       "  'title': 'Fundación Grupo Siro consigue los primeros 20.000 kilos de alimentos con su campaña \"Multiplicamos tu solidaridad\"',\n",
       "  'headline': 'Fundación Grupo Siro, ha alcanzado los primeros 10.000 euros a favor de Bancos de Alimentos gracias a las donaciones realizadas por particulares y empresas a través de su campaña &quot;Multiplicamos tu solidaridad&quot;.',\n",
       "  'summarise': 'Fundación Grupo Siro, ha alcanzado los primeros 10.000 euros a favor de Bancos de Alimentos gracias a las donaciones realizadas por particulares y empresas a través de su campaña \"Multiplicamos tu solidaridad\".\\nFundación Grupo Siro, ha alcanzado los primeros 10.000 euros a favor de Bancos de Alimentos gracias a las donaciones realizadas por particulares y empresas a través de su campaña \"Multiplicamos tu solidaridad\".\\nHasta la fecha 145 donantes han participado en la campaña, entre ellos colaboradores de Cerealto Siro Foods que han destinado una cantidad de su nómina, particulares a través de la plataforma de crowfunding gofundme.com y empresas que han realizado donaciones a través de Fundación Grupo Siro.',\n",
       "  'date': {'date1': 'Tue, 07 Jul 2020 18:13:31 +0200',\n",
       "   'date2': time.struct_time(tm_year=2020, tm_mon=7, tm_mday=7, tm_hour=16, tm_min=13, tm_sec=31, tm_wday=1, tm_yday=189, tm_isdst=0)},\n",
       "  'link': 'http://www.eleconomista.es/castilla_y_leon/noticias/10652539/07/20/Fundacion-Grupo-Siro-consigue-los-primeros-20000-kilos-de-alimentos-con-su-campana-Multiplicamos-tu-solidaridad.html',\n",
       "  'text': 'Fundación Grupo Siro, ha alcanzado los primeros 10.000 euros a favor de Bancos de Alimentos gracias a las donaciones realizadas por particulares y empresas a través de su campaña \"Multiplicamos tu solidaridad\". Fundación Grupo Siro, ha alcanzado los primeros 10.000 euros a favor de Bancos de Alimentos gracias a las donaciones realizadas por particulares y empresas a través de su campaña \"Multiplicamos tu solidaridad\". La Fundación doblará las aportaciones de los 145 donantes que han participado hasta 20.000 euros que se traducirán en 20.000 kilos de alimentos que entregará a FESBAL (Federación Española de Bancos de Alimentos). Hasta la fecha 145 donantes han participado en la campaña, entre ellos colaboradores de Cerealto Siro Foods que han destinado una cantidad de su nómina, particulares a través de la plataforma de crowfunding gofundme.com y empresas que han realizado donaciones a través de Fundación Grupo Siro. Es el caso por ejemplo de la compañía AMBINOR, Consultora en medio ambiente y sostenibilidad, que ha querido sumarse a esta campaña a favor de los Bancos de Alimentos con una aportación económica de 3.000 euros, que Fundación Siro duplicará para convertirlos en 6.000 kilos de alimentos. La campaña \"Multiplicamos tu solidaridad\" permanecerá activa hasta el 31 de julio para que particulares puedan seguir realizando sus aportaciones fácilmente a través de la plataforma GoFundMe.com y haciendo click en este enlace, mientras que empresas pueden manifestar su interés en participar escribiendo a comunicacion@fundaciongruposiro.com. Cada donante puede elegir la cantidad de su aportación, a partir de 5 euros, importe que Fundación Grupo Siro doblará económicamente para convertir cada euro donado en 2 kilos de alimentos que irán destinados directamente a Bancos de Alimentos a través de FESBAL. Estos primeros 20.000 kilos obtenidos a través de la campaña \"Multiplicamos tu solidaridad\" suman ya 60.000 kilos de alimentos que Fundación Grupo Siro y Cerealto Siro Foods han donado desde el inicio de la crisis sanitaria para atender las necesidades de alimentación de los colectivos más vulnerables especialmente afectados por la crisis económica que ha generado la pandemia de la COVID-19. ¿No eres usuario?',\n",
       "  'current_date': time.struct_time(tm_year=2020, tm_mon=7, tm_mday=7, tm_hour=21, tm_min=51, tm_sec=7, tm_wday=1, tm_yday=189, tm_isdst=-1),\n",
       "  'img': None,\n",
       "  'premium': None},\n",
       " 'Noticia_06': {'newspaper': 'economista',\n",
       "  'title': '¡Todos tecnólogos! Microsoft y LinkedIn impulsarán la digitalización de las personas desempleadas',\n",
       "  'headline': 'En los próximos cinco años se crearan dos millones de nuevos empleos relacionados con la tecnología en España. Son estimaciones de Microsoft elaboradas a partir datos facilitados por LinkedIn. La cara de una moneda que, advierte Pilar López, presidenta de Microsoft en España, también tiene su cruz: &quot;Que el problema de la brecha tecnológica se va a ver agravado tras el Covid-19&quot;.',\n",
       "  'summarise': 'Son estimaciones de Microsoft elaboradas a partir datos facilitados por LinkedIn. La cara de una moneda que, advierte Pilar López, presidenta de Microsoft en España, también tiene su cruz: \"Que el problema de la brecha tecnológica se va a ver agravado tras el Covid-19\".\\n\"Tenemos la oportunidad de proporcionar a las personas que se encuentran en proceso de búsqueda de empleo las herramientas que necesitan para adquirir las habilidades digitales más demandas por las empresas,\" ha declarado Ángel Sáenz de Cenzano, country manager de LinkedIn para España y Portugal, durante la presentación.\\ncase 2 : jQuery(parrafos[1]).after(jQuery(\"div[class=\\'b300 pub_mob251\\']\")); break;\\ndefault: jQuery(parrafos[2]).after(jQuery(\"div[class=\\'b300 pub_mob251\\']\"));',\n",
       "  'date': {'date1': 'Tue, 07 Jul 2020 18:11:16 +0200',\n",
       "   'date2': time.struct_time(tm_year=2020, tm_mon=7, tm_mday=7, tm_hour=16, tm_min=11, tm_sec=16, tm_wday=1, tm_yday=189, tm_isdst=0)},\n",
       "  'link': 'http://www.eleconomista.es/telecomunicaciones-tecnologia/noticias/10652532/07/20/Todos-tecnologos-Microsoft-y-LinkedIn-impulsaran-la-digitalizacion-de-las-personas-desempleadas.html',\n",
       "  'text': 'En los próximos cinco años se crearan dos millones de nuevos empleos relacionados con la tecnología en España. Son estimaciones de Microsoft elaboradas a partir datos facilitados por LinkedIn. La cara de una moneda que, advierte Pilar López, presidenta de Microsoft en España, también tiene su cruz: \"Que el problema de la brecha tecnológica se va a ver agravado tras el Covid-19\". En los próximos cinco años se crearan dos millones de nuevos empleos relacionados con la tecnología en España. Son estimaciones de Microsoft elaboradas a partir datos facilitados por LinkedIn. La cara de una moneda que, advierte Pilar López, presidenta de Microsoft en España, también tiene su cruz: \"Que el problema de la brecha tecnológica se va a ver agravado tras el Covid-19\". Para tratar de paliar el efecto de las carencias digitales y contribuir a la recuperación económica tras la crisis sanitaria, los dos gigantes tecnológicos han unido fuerzas en un proyecto global. Su objetivo: facilitar formación tecnológica gratuita a personas desempleadas y ayudar al reciclaje de los profesionales en clave digital. La iniciativa, presentada esta semana, se vertebra a través de cuatro ejes: analítica de datos para identificar oportunidades de empleo, formación en habilidades digitales, acceso ventajoso a certificaciones oficiales y herramientas adicionales para la búsqueda de empleo. Antes de la pandemia, España ocupaba el puesto 13 en la economía mundial. Una posición de privilegio que ya no lo es tanto cuando se habla en términos de competitividad (23), y que desciende dramáticamente hasta el lugar 61 en el Ranking del Foro Económico Mundial sobre habilidades digitales. Las previsiones futuras no son mucho más halagüeñas. Según un estudio de IDC, en los próximos meses el 90% de las organizaciones españolas sufrirá reajustes en proyectos, retrasos en el lanzamiento de productos o servicios o pedida de ingresos por la escasez de conocimientos digitales. La misma fuente afirma que un 46% de las compañías nacionales tiene problemas para encontrar los perfiles digitales que necesita. Unos números, que según Pilar López, dejan un amplio margen de mejora. \"Nos encaminamos hacia una sociedad mucho más digital, en la que tanto los trabajos que se mantengan como los nuevos que surjan requerirán nuevas capacidades digitales, y es imprescindible que los profesionales aumenten y mejoren estas capacidades\". Precisamente facilitar ese reciclaje profesional es la meta que se ha marcado este plan, que forma parte de un proyecto global de impulso a la formación de Microsoft Corporation y moviliza diferentes plataformas, soluciones y recursos formativos de Microsoft, LinkedIn y GitHub. \"Tenemos la oportunidad de proporcionar a las personas que se encuentran en proceso de búsqueda de empleo las herramientas que necesitan para adquirir las habilidades digitales más demandas por las empresas,\" ha declarado Ángel Sáenz de Cenzano, country manager de LinkedIn para España y Portugal, durante la presentación.    Con 690 millones de usuarios activos, 50 millones de empresas en su radar, 11 millones de posiciones gestionadas y 36.000 habilidades profesionales puestas en juego, LinkedIn se ha convertido en la gran Bolsa de Empleo planetaria. Ahora, la red social profesional pone esta ingente cantidad de información acerca de tendencias de empleo, perfiles más demandados y oportunidades laborales en cada área geográfica, recogida en su Economic Graph, a disposición de empresas y representantes públicos \"para ayudarles a entender mejor qué esta ocurriendo en sus mercados y tomar mejores decisiones\", ha anunciado Sáenz de Cenzano.\\nFruto de ese análisis de sus propios datos, LinkedIn ha identificado diez perfiles relacionadas con la tecnología \"con una fuerte demanda hoy y que seguirán teniéndola en el futuro\", ha explicado el directivo. Administrador de TI, analista de datos, analista financiero, desarrollador de software, diseñador gráfico, especialista en gestión de proyectos, especialista en servicio al cliente, marketing digital, soporte técnico y ventas conforman este top-ten de nichos de empleo digital. Formación La formación es uno de los pilares de este plan conjunto. Microsoft ofrecerá acceso a su plataforma de formación gratuita Microsoft Learn, con cerca de cien cursos gratuitos en español sobre las principales tecnologías de la compañía. Por su parte, LinkedIn recuerda que durante el periodo comprendido entre marzo y abril se han consumido en España 216.000 horas en LinkedIn Learning, lo que supone un incremento del 280% respecto al periodo de referencia anterior. Para responder a esa creciente necesidad, la red social ha diseñado cuatro rutas de aprendizaje en habilidades blandas que incluyen diferentes cursos gratuitos en búsqueda de empleo, habilidades interpersonales, transformación digital y diversidad e inclusión.\\nEn los últimos años las certificaciones oficiales de Microsoft se han convertido en un destacado pasaporte para el empleo. Unas titulaciones que, ha recordado Pilar López, son muy valoradas por los empleadores y que \"no solo sirven a los profesionales para acreditar su conocimiento avanzado sobre una determinada tecnología, sino que son usadas por las propias empresas como un indicador de su nivel de competitividad\". Hasta el 31 de marzo de 2021 Microsoft va a facilitar el acceso a sus certificaciones a las personas cuyo trabajo se haya visto impactado por el Covid-19. Para ello, ofrece la posibilidad de realizar estos exámenes a un precio \"simbólico\" de 15 dólares, frente a los entre 100 y 150 que cuestan normalmente.\\nLa cuarta palanca de este paquete de medidas consiste en habilitar una serie de herramientas de orientación práctica para la mejora de la empleabilidad, muchas de las cuales estarán disponibles en el espacio opportunity.linkedin.com. Una de ellas es un servicio de ayuda tutorial para la realización de entrevistas, ofrecido gratuitamente por LinkedIn sobre la base de tecnología de Inteligencia artificial de Microsoft. \"El entrenamiento es vital para afrontar con garantías una entrevista de trabajo. Con esta funcionalidad, los aspirantes podrán realizar ensayos de entrevistas y obtener un feedback muy valioso que les ayudará cuando llegue el momento de enfrentarse a una situación real\", ha destacado Ángel Sáenz de Cenzano. España como punta de lanza Este proyecto se ha marcado el ambicioso objetivo de digitalizar a 25 millones de personas en todo el mundo. En el caso español, Pilar López cree que se rebasará la cifra que sobre el papel le corresponde proporcionalmente a nuestro país. \"El potencial de España es enorme. Es el país de la UE con mayor número de profesionales de IT en relación a su población, pero además existe un gran deseo de avanzar en el camino de la digitalización. Todos los programas de formación que hemos puesto en marcha a nivel país en estos meses se han consumido y, de hecho, tenemos una demanda superior a la que somos capaces de satisfacer\". Por otra parte, ha recalcado, \"es imposible que las empresas nacionales pueden cubrir esos dos millones de nuevos empleos que van a llegar únicamente acudiendo al mercado. Cubrir esas capacitaciones pasa necesariamente por entrenar y reciclar a las personas en habilidades digitales\".\\nEl acto de presentación ha servido también para invitar a otras entidades, públicas y privadas, tercer sector y representantes políticos, a sumarse a una iniciativa que \"no puede limitarse al impulso dos empresas\". \"Hacemos una llamada para hacer de este proyecto en un verdadero Proyecto País\", ha apremiado la presidenta de Microsoft \"Se necesita la acción coordinada del Gobierno y del sector privado. Invertir en las personas e incentivar a las empresas para que contraten y eleven las capacidades digitales de sus profesionales. Y además no hay tiempo que perder. Porque de nuestra capacidad para mejorar esos niveles de digitalización dependerá en buena medida el éxito o el fracaso de la economía post-Covid-19\"\\n\\t\\t\\t\\tif (dispositivo==\\'mobile\\'){\\n\\t\\t\\t\\t\\tjQuery(\"div[class=\\'b300 pub_desk251\\']\").remove();\\n\\t\\t\\t\\t\\tif(gts_gpt != \\'sync\\'){ googletag.cmd.push(function() { googletag.display(\\'300x251\\'); });}else{googletag.display(\\'300x251\\'); }\\n\\t\\t\\t\\t}\\n\\t\\t\\t\\n\\n\\t\\t\\t\\t\\t\\t\\tif (dispositivo==\\'mobile\\'){\\n\\t\\t\\t\\t\\t\\t\\t\\tparrafos = jQuery(\".Article__paragraphGroup p:not(:empty)\");\\n\\t\\t\\t\\t\\t\\t\\t\\tswitch(parrafos.length){\\n\\t\\t\\t\\t\\t\\t\\t\\t\\tcase 1 : jQuery(\"div[class=\\'b300 pub_mob250\\']\").after(jQuery(\"div[class=\\'b300 pub_mob251\\']\")); break;\\n\\t\\t\\t\\t\\t\\t\\t\\t\\tcase 2 : jQuery(parrafos[1]).after(jQuery(\"div[class=\\'b300 pub_mob251\\']\")); break;\\n\\t\\t\\t\\t\\t\\t\\t\\t\\tdefault: jQuery(parrafos[2]).after(jQuery(\"div[class=\\'b300 pub_mob251\\']\"));\\n\\t\\t\\t\\t\\t\\t\\t\\t}\\n\\t\\t\\t\\t\\t\\t\\t}\\n\\t\\t\\t\\t\\t\\t\\n                            parrafos = jQuery(\".Article__paragraphGroup>p:not(:empty)\");\\n                            parrafo_posicion = 5>parrafos.length?parrafos[parrafos.length-1]:parrafos[4];\\n                            div = document.createElement(\"div\");\\n                            div.id = \"contentbox1\";\\n                            div.className = \"contentbox\";\\n                            parrafo_posicion.after(div);\\n                            jQuery(\"#contentbox1\").html(\"<div id=\\'contentbox-inline\\'></div>\");\\n                        \\n\\n\\n\\n\\n\\n\\n\\n\\n\\n\\n\\n\\n\\n\\nLinkedIn: \"Las empresas deben adaptarse para ofrecer más valor al empleado\"\\n\\n\\n\\t\\t\\t\\t\\tjQuery(function(){jQuery(\"caja-noticia\")[0].innerHTML=jQuery(\"caja-noticia-s\")[0].innerHTML;\\n\\t\\t\\t\\t\\tjQuery(\"caja-noticia\")[0].innerHTML = jQuery(\"caja-noticia\")[0].innerHTML.replace(\"lazy lazy-loading\", \"lazy lazy-loading lazy-loaded\")});\\n\\t\\t\\t\\t\\ncomentariosforum1WhatsAppFacebookTwitterLinkedin\\n\\n Con 690 millones de usuarios activos, 50 millones de empresas en su radar, 11 millones de posiciones gestionadas y 36.000 habilidades profesionales puestas en juego, LinkedIn se ha convertido en la gran Bolsa de Empleo planetaria. Ahora, la red social profesional pone esta ingente cantidad de información acerca de tendencias de empleo, perfiles más demandados y oportunidades laborales en cada área geográfica, recogida en su Economic Graph, a disposición de empresas y representantes públicos \"para ayudarles a entender mejor qué esta ocurriendo en sus mercados y tomar mejores decisiones\", ha anunciado Sáenz de Cenzano. Fruto de ese análisis de sus propios datos, LinkedIn ha identificado diez perfiles relacionadas con la tecnología \"con una fuerte demanda hoy y que seguirán teniéndola en el futuro\", ha explicado el directivo. Administrador de TI, analista de datos, analista financiero, desarrollador de software, diseñador gráfico, especialista en gestión de proyectos, especialista en servicio al cliente, marketing digital, soporte técnico y ventas conforman este top-ten de nichos de empleo digital. La formación es uno de los pilares de este plan conjunto. Microsoft ofrecerá acceso a su plataforma de formación gratuita Microsoft Learn, con cerca de cien cursos gratuitos en español sobre las principales tecnologías de la compañía. Por su parte, LinkedIn recuerda que durante el periodo comprendido entre marzo y abril se han consumido en España 216.000 horas en LinkedIn Learning, lo que supone un incremento del 280% respecto al periodo de referencia anterior. Para responder a esa creciente necesidad, la red social ha diseñado cuatro rutas de aprendizaje en habilidades blandas que incluyen diferentes cursos gratuitos en búsqueda de empleo, habilidades interpersonales, transformación digital y diversidad e inclusión. En los últimos años las certificaciones oficiales de Microsoft se han convertido en un destacado pasaporte para el empleo. Unas titulaciones que, ha recordado Pilar López, son muy valoradas por los empleadores y que \"no solo sirven a los profesionales para acreditar su conocimiento avanzado sobre una determinada tecnología, sino que son usadas por las propias empresas como un indicador de su nivel de competitividad\". Hasta el 31 de marzo de 2021 Microsoft va a facilitar el acceso a sus certificaciones a las personas cuyo trabajo se haya visto impactado por el Covid-19. Para ello, ofrece la posibilidad de realizar estos exámenes a un precio \"simbólico\" de 15 dólares, frente a los entre 100 y 150 que cuestan normalmente. La cuarta palanca de este paquete de medidas consiste en habilitar una serie de herramientas de orientación práctica para la mejora de la empleabilidad, muchas de las cuales estarán disponibles en el espacio opportunity.linkedin.com. Una de ellas es un servicio de ayuda tutorial para la realización de entrevistas, ofrecido gratuitamente por LinkedIn sobre la base de tecnología de Inteligencia artificial de Microsoft. \"El entrenamiento es vital para afrontar con garantías una entrevista de trabajo. Con esta funcionalidad, los aspirantes podrán realizar ensayos de entrevistas y obtener un feedback muy valioso que les ayudará cuando llegue el momento de enfrentarse a una situación real\", ha destacado Ángel Sáenz de Cenzano. Este proyecto se ha marcado el ambicioso objetivo de digitalizar a 25 millones de personas en todo el mundo. En el caso español, Pilar López cree que se rebasará la cifra que sobre el papel le corresponde proporcionalmente a nuestro país. \"El potencial de España es enorme. Es el país de la UE con mayor número de profesionales de IT en relación a su población, pero además existe un gran deseo de avanzar en el camino de la digitalización. Todos los programas de formación que hemos puesto en marcha a nivel país en estos meses se han consumido y, de hecho, tenemos una demanda superior a la que somos capaces de satisfacer\". Por otra parte, ha recalcado, \"es imposible que las empresas nacionales pueden cubrir esos dos millones de nuevos empleos que van a llegar únicamente acudiendo al mercado. Cubrir esas capacitaciones pasa necesariamente por entrenar y reciclar a las personas en habilidades digitales\". El acto de presentación ha servido también para invitar a otras entidades, públicas y privadas, tercer sector y representantes políticos, a sumarse a una iniciativa que \"no puede limitarse al impulso dos empresas\". \"Hacemos una llamada para hacer de este proyecto en un verdadero Proyecto País\", ha apremiado la presidenta de Microsoft \"Se necesita la acción coordinada del Gobierno y del sector privado. Invertir en las personas e incentivar a las empresas para que contraten y eleven las capacidades digitales de sus profesionales. Y además no hay tiempo que perder. Porque de nuestra capacidad para mejorar esos niveles de digitalización dependerá en buena medida el éxito o el fracaso de la economía post-Covid-19\" ¿No eres usuario? Cuidado con hacer religiones en la economía.La \"digitalización\" suena muy bien, porque lo asociamos con \"ser más inteligente\", pero el control de la energía y de las industrias primarias es lo que saca adelante la economía. La producción eficiente de energía renovable es lo que va a hacer rico a los países. Las empresas de software en EEUU despiden a sus empleados pasados los 40. Y el centro mundial de la digitalización se ha convertido en un caos con una desigualdad brutal donde la gente se emprende a tiros por la calle.De nuevo recordar que Darwin no dijo que sobrevive el más listo o el más fuerte, sino el que mejor se adapta. Y el que mejor se adapte será el país que garantice su autoabastecimiento energético y de agua potable y de riego. Cada año más de decenas de millones de toneladas de biomasa acaban quemándose en incendios en España. Si se utilicen bien dejaríamos de importan petroleo por valor de miles de millones de euros garantizando el empleo local. Por allí hay que empezar.Y esto lo firma alguien que se gana la vida con la \"digitalización\", pero que no es tan tonto para caer en el error de dejarse llevar por su ego.Recordar también que Microsoft es experta en sacarle el dinero a la gente con licencias, software defectuoso y monopolios ilegales.',\n",
       "  'current_date': time.struct_time(tm_year=2020, tm_mon=7, tm_mday=7, tm_hour=21, tm_min=51, tm_sec=7, tm_wday=1, tm_yday=189, tm_isdst=-1),\n",
       "  'img': None,\n",
       "  'premium': None},\n",
       " 'Noticia_07': {'newspaper': 'economista',\n",
       "  'title': 'Las rebajas no ayudan a frenar la caída de facturación en las Pymes',\n",
       "  'headline': \"Las cifras de ventas en los pequeños y medianos comercios continúan lejos de los niveles precovid, a pesar de la reactivación de las actividades y la vuelta a la 'nueva' normalidad. Según una encuesta de la Confederación Española de Comercio (CEC), la primera semana de rebajas registra una caída de la facturación de entre un 20% y un 30% respecto al mismo periodo del año anterior, con variaciones según provincias y sectores de actividad, llegando al 50% en los territorios más dependientes del turismo. El gasto medio por persona se situará en estas rebajas en 90 euros. Por sectores, el más afectado es textil y calzado.\",\n",
       "  'summarise': 'Según una encuesta de la Confederación Española de Comercio (CEC), la primera semana de rebajas registra una caída de la facturación de entre un 20% y un 30% respecto al mismo periodo del año anterior, con variaciones según provincias y sectores de actividad, llegando al 50% en los territorios más dependientes del turismo.\\nSegún una encuesta de la Confederación Española de Comercio (CEC), la primera semana de rebajas registra una caída de la facturación de entre un 20% y un 30% respecto al mismo periodo del año anterior, con variaciones según provincias y sectores de actividad, llegando al 50% en los territorios más dependientes del turismo.',\n",
       "  'date': {'date1': 'Tue, 07 Jul 2020 18:01:23 +0200',\n",
       "   'date2': time.struct_time(tm_year=2020, tm_mon=7, tm_mday=7, tm_hour=16, tm_min=1, tm_sec=23, tm_wday=1, tm_yday=189, tm_isdst=0)},\n",
       "  'link': 'http://www.eleconomista.es/empresas-finanzas/noticias/10652503/07/20/Las-rebajas-no-ayudan-a-frenar-la-caida-de-facturacion-en-las-Pymes.html',\n",
       "  'text': 'Las cifras de ventas en los pequeños y medianos comercios continúan lejos de los niveles precovid, a pesar de la reactivación de las actividades y la vuelta a la \\'nueva\\' normalidad. Según una encuesta de la Confederación Española de Comercio (CEC), la primera semana de rebajas registra una caída de la facturación de entre un 20% y un 30% respecto al mismo periodo del año anterior, con variaciones según provincias y sectores de actividad, llegando al 50% en los territorios más dependientes del turismo. El gasto medio por persona se situará en estas rebajas en 90 euros. Por sectores, el más afectado es textil y calzado. Las cifras de ventas en los pequeños y medianos comercios continúan lejos de los niveles precovid, a pesar de la reactivación de las actividades y la vuelta a la \\'nueva\\' normalidad. Según una encuesta de la Confederación Española de Comercio (CEC), la primera semana de rebajas registra una caída de la facturación de entre un 20% y un 30% respecto al mismo periodo del año anterior, con variaciones según provincias y sectores de actividad, llegando al 50% en los territorios más dependientes del turismo. El gasto medio por persona se situará en estas rebajas en 90 euros. Por sectores, el más afectado es textil y calzado. Como ya había adelantado la Confederación, la campaña de rebajas no va a servir para paliar la difícil situación que vive el sector del comercio y sólo le dará un respiro temporal dinamizando el consumo y reactivando las ventas de forma puntual.  El adelanto de las rebajas y los agresivos descuentos en las grandes superficies y, posteriormente, en las tiendas físicas, acentuados este año por la atípica situación del comercio tras más de dos meses y medio cerrados, tampoco han ayudado. \"Las pocas ventas que se están produciendo en los pequeños comercios se hacen con descuentos muy agresivos; los comerciantes necesitan eliminar el stock y lo hacen sin apenas márgenes de beneficio. Es pan para hoy y hambre para mañana\", señala Pedro Campo, presidente de la CEC. La CEC ve imprescindible volver a los periodos tradicionales de rebajas previos a la liberalización de 2012 para recuperar el impacto positivo de las mismas, así como el objetivo con el que fueron creadas: dar salida al stock acumulado a precios competitivos. En cuanto a empleo en el sector, entre diciembre de 2019 y junio de 2020 el comercio minorista experimentó una caída en el número de afiliados del 4,3%, entre el régimen general y el de autónomos. Y la situación a final de año no va a mejorar; la Confederación prevé que el cierre de tiendas se produzca en cascada, ya que desde que se levantó el estado de alarma, el 10% de tiendas del pequeño comercio no ha llegado ni a abrir, a lo que se sumará otro 10% que cerrará de aquí a final de año. Esto supone que, sin ayudas urgentes y específicas para el sector, el 20% de los comercios situados a pie de calle cerrará sus puertas de aquí a diciembre, un porcentaje que asciende hasta la alarmante cifra del 50% en el caso de los pequeños y medianos comercios ubicados en locales de centros comerciales.  Por ello desde la CEC ve imprescindible adoptar una serie de medidas para salvar al sector. Entre sus propuestas, la Confederación solicita que se adopten medidas de apoyo fiscal y financiero que garanticen la liquidez a los comercios, el aplazamiento del pago de la deuda tributaria y suspensión del pago de tributos, la reducción drástica del recargo de equivalencia o garantizar las mismas normas de funcionamiento para todos los operadores de comercio con independencia de que el canal de venta sea offline u online. Además, considera fundamental posibilitar la tramitación de nuevos ERTEs en función a la evolución y fases del\\xa0desconfinamiento, con el fin de garantizar la sostenibilidad y el empleo de las empresas. ¿No eres usuario?',\n",
       "  'current_date': time.struct_time(tm_year=2020, tm_mon=7, tm_mday=7, tm_hour=21, tm_min=51, tm_sec=7, tm_wday=1, tm_yday=189, tm_isdst=-1),\n",
       "  'img': None,\n",
       "  'premium': None},\n",
       " 'Noticia_08': {'newspaper': 'economista',\n",
       "  'title': 'Escándalo Wirecard: ¿cómo se regula una empresa que actúa como un banco, pero que no lo es?',\n",
       "  'headline': \"La quiebra de la compañía de pagos alemana Wirecard como consecuencia de un fraude contable milmillonario ha mostrado un punto ciego para los 'vigilantes' del sistema financiero mundial: ¿cómo se regula una empresa que actúa como un banco, pero que en realidad no lo es?\",\n",
       "  'summarise': \"La quiebra de la compañía de pagos alemana Wirecard como consecuencia de un fraude contable milmillonario ha mostrado un punto ciego para los 'vigilantes' del sistema financiero mundial: ¿cómo se regula una empresa que actúa como un banco, pero que en realidad no lo es?\\nLa quiebra de la compañía de pagos alemana Wirecard como consecuencia de un fraude contable milmillonario ha mostrado un punto ciego para los 'vigilantes' del sistema financiero mundial: ¿cómo se regula una empresa que actúa como un banco, pero que en realidad no lo es?\",\n",
       "  'date': {'date1': 'Tue, 07 Jul 2020 17:12:21 +0200',\n",
       "   'date2': time.struct_time(tm_year=2020, tm_mon=7, tm_mday=7, tm_hour=15, tm_min=12, tm_sec=21, tm_wday=1, tm_yday=189, tm_isdst=0)},\n",
       "  'link': 'http://www.eleconomista.es/empresas-finanzas/noticias/10652342/07/20/Escandalo-Wirecard-como-se-regula-una-empresa-que-actua-como-un-banco-pero-que-en-realidad-no-los-es.html',\n",
       "  'text': 'La quiebra de la compañía de pagos alemana Wirecard como consecuencia de un fraude contable milmillonario ha mostrado un punto ciego para los \\'vigilantes\\' del sistema financiero mundial: ¿cómo se regula una empresa que actúa como un banco, pero que en realidad no lo es? La quiebra de la compañía de pagos alemana Wirecard como consecuencia de un fraude contable milmillonario ha mostrado un punto ciego para los \\'vigilantes\\' del sistema financiero mundial: ¿cómo se regula una empresa que actúa como un banco, pero que en realidad no lo es? El pasado 26 de junio, la fintech alemana Wirecard anunció que había comenzado los trámites para declararse insolvente. La compañía pasó a ser así la primera de la historia que quiebra con sus acciones cotizando en el Dax 30, el principal índice de la bolsa de Frankfurt.  El día 18 del pasado mes dio a conocer un \\'agujero\\' de 1.900 millones de euros en sus cuentas. Una enorme cuantía de dinero que, según admitió escasos días después, es muy probable que realmente no haya existido nunca.  Desde aquel día Wirecard ha vivido una auténtica debacle en bolsa. Sus acciones se han desplomado cerca de un 98%, ya que actualmente se mueven en torno a los 2,5 euros frente a los 104,5 euros en los que acabaron la jornada justo anterior a que se descubriera el fraude contable. El 26 de junio llegaron a tocar un precio mínimo en 1,080 euros.   En los últimos días los títulos de la empresa de pagos han vivido repuntes puntuales ante los rumores de que el capital riesgo u otras compañías del sector, como la gigante francesa Worldline, están interesados en comprarle activos.  Asimismo, el banco germano Deutsche Bank estudia darle apoyó financiero. Pero este martes la entidad ha frenado las expectativas. \"Cuando hay una oportunidad de ocuparse de la tecnología, por supuesto que lo analizamos, pero las compras deben crear siempre valor para los accionistas\", ha declarado el presidente de Deutsche Bank, Christian Sewing, según informa EFE.  Con todo, el de Wirecard es el mayor escándalo empresarial vivido en Alemania desde hace años, socavando la reputación del país como centro de negocios y financiero.  Además, ha dejado en evidencia que la compañía de pagos germana, considerada durante años la fintech estrella del país (incluso se conocía coloquialmente como la \\'Paypal alemana\\'), ha escapado del estricto control del supervisor bursátil alemán (BaFin), ya que este se centró en la unidad bancaria de la empresa en lugar de en Wirecard en su conjunto.  Ante los hechos, el Gobierno de Alemania está estudiando quién regula a quién, lo que también puede suponer un replanteamiento de la regulación de la industria de fintech en general. A medida que los bancos se recuperaron después de la crisis financiera de 2008 e invirtieron miles de millones para afrontar los litigios resultantes, en vez de en nueva tecnología, otras compañías aparecieron. Wirecard y otras empresas competidoras como Adyen NV procesan los pagos mucho más rápido que los bancos tradicionales, además de ofrecer a los clientes más herramientas para gestionar sus riesgos y para aprender de sus propios hábitos de consumo.  Asimismo, grandes tecnológicas como Amazon y Alphabet (matriz de Google) ponen cada vez más el foco en los servicios financieros.  Sin embargo, en la actualidad algunas parcelas dentro del sector fintech no están supervisados, sobre todo en el área de las criptomonedas. Según la Autoridad Bancaria Europea (EBA, por sus siglas en inglés), en torno al 31% de las empresas fintech en Europa no están sujetas a ninguna regulación. \"Necesitamos una regulación que trate a los bancos y no bancos en igualdad de condiciones\", defendió Benoit Coeure, jefe de innovación del Banco de Pagos Internacionales (BPI, más conocido como \\'el banco central para bancos centrales\\'), en una entrevista para Bloomberg TV el viernes.  En muchos casos ya existen solapamientos regulatorios, pero algunos expertos afirman que se deben cubrir más vacíos legales\\xa0para garantizar que las compañías digitales sean supervisadas como firmas financieras. En Europa, una empresa cruza la línea hacia las finanzas y todo el escrutinio regulatorio que conlleva cuando más del 50% de su negocio está asociado con actividades financieras como préstamos y depósitos, según la EBA. De esta forma, Wirecard no fue clasificada como una compañía financiera en los análisis de BaFin y otras instituciones. \"El verdadero problema es que BaFin no utilizó los poderes que ya tenía\", defendió Sven Giegold, miembro del Parlamento Europeo para el Partido Verde, en declaraciones recogidas por Bloomberg. \"Esto es negligencia del supervisor, por lo que es necesario un nuevo enfoque para la regulación financiera de las fintech\", añadió. Si bien catalogar a Wirecard como una compañía financiera le habría dado a BaFin más control, también es cierto que el \\'perro guardián\\' germano ya contaba con señales de alerta antes de que saliera a la luz el escándalo: BaFin recibió documentos que señalaban irregularidades contables en la empresa en enero de 2019 (es decir, hace año y medio). Por ello, el organismo ha sido duramente criticado por haber actuado con mucha lentitud. ¿No eres usuario? Ya tenía medio olvidado mis recelos con la excesiva intromisión de las tecnológicas en el negocio bancario... espero que no veamos ningún cataclismo económico por la intromisión de las americanas.',\n",
       "  'current_date': time.struct_time(tm_year=2020, tm_mon=7, tm_mday=7, tm_hour=21, tm_min=51, tm_sec=8, tm_wday=1, tm_yday=189, tm_isdst=-1),\n",
       "  'img': None,\n",
       "  'premium': None},\n",
       " 'Noticia_09': {'newspaper': 'economista',\n",
       "  'title': 'Los nueve proyectos innovadores que la Fundación Mapfre elige en un mundo postcovid',\n",
       "  'headline': 'Transformación social e impacto global. Son los principales atributos por los que han destacado los nueve proyectos de innovación social que se han clasificado estos días en las semifinales de unos premios que promueve Fundación MAPFRE desde hace tres años y que tienen como objetivo mejorar la salud, la movilidad sostenible y la innovación aseguradora. Los proyectos finalistas, que en esta edición proceden de Brasil, Ecuador, España y Perú, pretenden dar respuesta a grandes desafíos, como, mejorar la calidad de vida de las personas, reducir la contaminación de las ciudades, apoyar a las personas mayores, entre otros, y hacer frente a las necesidades generadas durante la crisis actual .',\n",
       "  'summarise': 'Los proyectos finalistas, que en esta edición proceden de Brasil, Ecuador, España y Perú, pretenden dar respuesta a grandes desafíos, como, mejorar la calidad de vida de las personas, reducir la contaminación de las ciudades, apoyar a las personas mayores, entre otros, y hacer frente a las necesidades generadas durante la crisis actual .\\nJurado de expertos Un grupo de expertos elegidos por Fundación MAPFRE e IE University, socio académico de estos premios, han elegido los proyectos con mayor potencial de impacto social, así como los más viables desde el punto de vista técnico, económico y organizativo, y los que mejor se han adaptado a esta nueva situación.',\n",
       "  'date': {'date1': 'Tue, 07 Jul 2020 16:49:30 +0200',\n",
       "   'date2': time.struct_time(tm_year=2020, tm_mon=7, tm_mday=7, tm_hour=14, tm_min=49, tm_sec=30, tm_wday=1, tm_yday=189, tm_isdst=0)},\n",
       "  'link': 'http://www.eleconomista.es/empresas-finanzas/noticias/10652274/07/20/Los-nueve-proyectos-innovadores-que-la-Fundacion-Mapfre-elige-en-un-mundo-postcovid.html',\n",
       "  'text': 'Transformación social e impacto global. Son los principales atributos por los que han destacado los nueve proyectos de innovación social que se han clasificado estos días en las semifinales de unos premios que promueve Fundación MAPFRE desde hace tres años y que tienen como objetivo mejorar la salud, la movilidad sostenible y la innovación aseguradora. Los proyectos finalistas, que en esta edición proceden de Brasil, Ecuador, España y Perú, pretenden dar respuesta a grandes desafíos, como, mejorar la calidad de vida de las personas, reducir la contaminación de las ciudades, apoyar a las personas mayores, entre otros, y hacer frente a las necesidades generadas durante la crisis actual . Transformación social e impacto global. Son los principales atributos por los que han destacado los nueve proyectos de innovación social que se han clasificado estos días en las semifinales de unos premios que promueve Fundación MAPFRE desde hace tres años y que tienen como objetivo mejorar la salud, la movilidad sostenible y la innovación aseguradora. Los proyectos finalistas, que en esta edición proceden de Brasil, Ecuador, España y Perú, pretenden dar respuesta a grandes desafíos, como, mejorar la calidad de vida de las personas, reducir la contaminación de las ciudades, apoyar a las personas mayores, entre otros, y hacer frente a las necesidades generadas durante la crisis actual . Mejora de la salud y tecnología digital En esta categoría han llegado a la final: Instituto Laura Fresatto (Brasil), que ha desarrollado una plataforma de inteligencia artificial que envía señales tempranas a los profesionales de la salud de pacientes con riesgo de deterioro clínico, contribuyendo así a reducir la mortalidad y la estancia hospitalaria. También destacan Hope (Perú), un kit de análisis de muestras de ADN con auto-toma, sencillo y de bajo coste, que detecta las cepas de alto riesgo del VPH y permite prevenir el cáncer de cuello uterino en mujeres; y i4life (España), un dispositivo inteligente que se acopla a un bastón y que es capaz de emitir estímulos visuales y táctiles para ayudar a que las personas con Párkinson y Alzhéimer ganen confianza e independencia. Innovación aseguradora En esta categoría se han clasificado: Electroware (Brasil), una sencilla plataforma de bajo coste y fácil instalación que proporciona información sobre la calidad de la energía y contribuye a reducir el riesgo de daños eléctricos; Saving the planet you have innovative health insurance (Perú), programa que proporciona a personas vulnerables y afectadas por tuberculosis la posibilidad de realizar actividades de reciclaje de residuos sólidos y obtener, con los fondos recaudados, un seguro de salud; y Pensium (España), una solución que facilita que las personas mayores dependientes puedan  financiar sus cuidados asistenciales, en residencia privada o en su domicilio, sin necesidad de vender su casa. Movilidad sostenible y seguridad vial En esta categoría destacan tres proyectos: Guiaderodas (Brasil), app colaborativa móvil que permite a las personas con discapacidad y movilidad limitada, verificar y revisar el nivel de accesibilidad que existe en un lugar concreto; Clipp-MaaS (Ecuador), plataforma multimodal que permite diseñar un plan de movilidad a medida, a través de todas las opciones de transporte disponibles en una ciudad; y Bastón Egara (España), un mango de asistencia inteligente, que se adapta a los bastones que utilizan las personas ciegas y que permite evitar colisiones dolorosas con obstáculos situados por encima de la cintura. Jurado de expertos Un grupo de expertos elegidos por Fundación MAPFRE e IE University, socio académico de estos premios, han elegido los proyectos con mayor potencial de impacto social, así como los más viables desde el punto de vista técnico, económico y organizativo, y los que mejor se han adaptado a esta nueva situación. Red de innovadores Los proyectos participantes forman ya parte de Red Innova, una comunidad emprendedora con más de 60 startups -incluidos los ganadores de pasadas ediciones, que comparten proyectos y experiencias, y que ha sido especialmente activa durante el confinamiento. En este sentido, muchos de los emprendedores sociales han adaptado sus servicios a las necesidades generadas por la pandemia, como por ejemplo a través de la producción de material sanitario con impresoras 3D, ofreciendo servicios gratuitos de atención psicológica, atendiendo a agricultores por vía telemática, y aportando rehabilitación o monitorización remota online, entre otros.  Mentoring y visibilidad ante inversores Los nueve finalistas recibirán apoyo, orientación y ayuda para comunicar y desarrollar de la forma más efectiva sus propuestas a través de coaching y accederán a un plan de relaciones públicas para potenciar la visibilidad de sus proyectos ante potenciales inversores y financiadores. Final: Madrid, 29 de octubre Fundación MAPFRE espera poder celebrar una gran final como en las ediciones anteriores, lo que dependerá de las medidas de seguridad vigentes en ese momento. La ceremonia se adaptará a los protocolos recomendados por las autoridades y a las realidades de los países que participan en el certamen. ¿No eres usuario?',\n",
       "  'current_date': time.struct_time(tm_year=2020, tm_mon=7, tm_mday=7, tm_hour=21, tm_min=51, tm_sec=8, tm_wday=1, tm_yday=189, tm_isdst=-1),\n",
       "  'img': None,\n",
       "  'premium': None},\n",
       " 'Noticia_10': {'newspaper': 'economista',\n",
       "  'title': 'Denuncian el precio abusivo del remdesivir: 2.000 euros de tratamiento frente a los 6 de producción',\n",
       "  'headline': 'La Fundación Salud por Derecho ha denunciado este martes el &quot;abusivo&quot; precio del fármaco remdesivir para tratar los casos graves de Covid-19, cuyo coste por tratamiento asciende a 2.083 euros, frente a los seis euros que cuesta producirlo.',\n",
       "  'summarise': 'La Fundación Salud por Derecho ha denunciado este martes el \"abusivo\" precio del fármaco remdesivir para tratar los casos graves de Covid-19, cuyo coste por tratamiento asciende a 2.083 euros, frente a los seis euros que cuesta producirlo.\\n\"Otros países como el nuestro van a tener que detraer recursos de otras partidas sanitarias igualmente o más necesarias\" Y se ha referido en concreto al uso de licencias obligatorias para suspender temporalmente la patente de un medicamento y poder producir genéricos, provocando así una bajada de los precios y asegurando una mayor producción y el abastecimiento.\\ncase 2 : jQuery(parrafos[1]).after(jQuery(\"div[class=\\'b300 pub_mob251\\']\")); break;\\ndefault: jQuery(parrafos[2]).after(jQuery(\"div[class=\\'b300 pub_mob251\\']\"));',\n",
       "  'date': {'date1': 'Tue, 07 Jul 2020 16:24:48 +0200',\n",
       "   'date2': time.struct_time(tm_year=2020, tm_mon=7, tm_mday=7, tm_hour=14, tm_min=24, tm_sec=48, tm_wday=1, tm_yday=189, tm_isdst=0)},\n",
       "  'link': 'http://www.eleconomista.es/empresas-finanzas/noticias/10652217/07/20/Denuncian-el-precio-abusivo-del-remdesivir-2000-euros-de-tratamiento-frente-a-los-6-de-produccion.html',\n",
       "  'text': 'La Fundación Salud por Derecho ha denunciado este martes el \"abusivo\" precio del fármaco remdesivir para tratar los casos graves de Covid-19, cuyo coste por tratamiento asciende a 2.083 euros, frente a los seis euros que cuesta producirlo. La Fundación Salud por Derecho ha denunciado este martes el \"abusivo\" precio del fármaco remdesivir para tratar los casos graves de Covid-19, cuyo coste por tratamiento asciende a 2.083 euros, frente a los seis euros que cuesta producirlo. La directora de Salud por Derecho, Vanessa López, ha recordado además que existe una enorme cantidad de dinero público invertido en el desarrollo de este fármaco y en sus ensayos clínicos que, ha advertido, no han demostrado una reducción significativa de la mortalidad en los pacientes. \"El precio de los medicamentos debería ir relacionado con lo que cuesta desarrollarlos y producirlos, más un beneficio justo y razonable, sobre todo teniendo en cuenta el esfuerzo público que se ha invertido en toda la cadena de I+D\", ha subrayado. En este sentido, ha recordado a los gobiernos que, ante la escalada continuada en el precio de los fármacos y en casos como el actual, inmersos en una enorme crisis de salud pública, existen fórmulas que permiten asegurar precios justos y asequibles. \"Otros países como el nuestro van a tener que detraer recursos de otras partidas sanitarias igualmente o más necesarias\" Y se ha referido en concreto al uso de licencias obligatorias para suspender temporalmente la patente de un medicamento y poder producir genéricos, provocando así una bajada de los precios y asegurando una mayor producción y el abastecimiento. \"El elevado y abusivo precio del remdesivir va a suponer una barrera de acceso para los países, sobre todo, los más pobres. Otros países como el nuestro, en caso de poder adquirirlo, van a tener que detraer recursos de otras partidas sanitarias igualmente o más necesarias\", ha lamentado. Además, ha recordado que EEUU ha anunciado la compra de casi la totalidad de la producción del remdesivir para los próximos tres meses -unos 500.000 tratamientos- , por lo que \"no solo nos encontramos ante un problema de precio abusivo, también de suministro\".    En casos como el actual, o ante los precios \"desorbitados\" de fármacos para la hepatitis C o el cáncer, las autoridades nacionales deben de hacer uso de las licencias obligatorias que permiten al país que la aplica suspender temporalmente una patente para que una empresa pueda producirlo como genérico, pagando a la empresa titular de la patente una compensación económica, señala.\\n\"Es esperable que en los próximos meses salgan nuevos medicamentos y vacunas para la Covid-19 y tenemos ahora la oportunidad de hacer las cosas de manera diferente y mejor\", anima.\\n\\t\\t\\t\\tif (dispositivo==\\'mobile\\'){\\n\\t\\t\\t\\t\\tjQuery(\"div[class=\\'b300 pub_desk251\\']\").remove();\\n\\t\\t\\t\\t\\tif(gts_gpt != \\'sync\\'){ googletag.cmd.push(function() { googletag.display(\\'300x251\\'); });}else{googletag.display(\\'300x251\\'); }\\n\\t\\t\\t\\t}\\n\\t\\t\\t\\n\\n\\t\\t\\t\\t\\t\\t\\tif (dispositivo==\\'mobile\\'){\\n\\t\\t\\t\\t\\t\\t\\t\\tparrafos = jQuery(\".Article__paragraphGroup p:not(:empty)\");\\n\\t\\t\\t\\t\\t\\t\\t\\tswitch(parrafos.length){\\n\\t\\t\\t\\t\\t\\t\\t\\t\\tcase 1 : jQuery(\"div[class=\\'b300 pub_mob250\\']\").after(jQuery(\"div[class=\\'b300 pub_mob251\\']\")); break;\\n\\t\\t\\t\\t\\t\\t\\t\\t\\tcase 2 : jQuery(parrafos[1]).after(jQuery(\"div[class=\\'b300 pub_mob251\\']\")); break;\\n\\t\\t\\t\\t\\t\\t\\t\\t\\tdefault: jQuery(parrafos[2]).after(jQuery(\"div[class=\\'b300 pub_mob251\\']\"));\\n\\t\\t\\t\\t\\t\\t\\t\\t}\\n\\t\\t\\t\\t\\t\\t\\t}\\n\\t\\t\\t\\t\\t\\t\\n                            parrafos = jQuery(\".Article__paragraphGroup>p:not(:empty)\");\\n                            parrafo_posicion = 5>parrafos.length?parrafos[parrafos.length-1]:parrafos[4];\\n                            div = document.createElement(\"div\");\\n                            div.id = \"contentbox1\";\\n                            div.className = \"contentbox\";\\n                            parrafo_posicion.after(div);\\n                            jQuery(\"#contentbox1\").html(\"<div id=\\'contentbox-inline\\'></div>\");\\n                        \\n\\n\\n\\n\\n\\n\\n\\n\\n\\n\\n\\n\\n\\n\\n\\nLa UE autoriza la venta del remdesivir contra el coronavirus\\n\\n\\n\\t\\t\\t\\t\\tjQuery(function(){jQuery(\"caja-noticia\")[0].innerHTML=jQuery(\"caja-noticia-s\")[0].innerHTML;\\n\\t\\t\\t\\t\\tjQuery(\"caja-noticia\")[0].innerHTML = jQuery(\"caja-noticia\")[0].innerHTML.replace(\"lazy lazy-loading\", \"lazy lazy-loading lazy-loaded\")});\\n\\t\\t\\t\\t\\nRelacionados\\nLa Agencia Europea del Medicamento avala el remdesivir de Gilead como el primer tratamiento contra el covid-19\\n\\n\\ncomentariosforum5WhatsAppFacebookTwitterLinkedin\\n\\n En casos como el actual, o ante los precios \"desorbitados\" de fármacos para la hepatitis C o el cáncer, las autoridades nacionales deben de hacer uso de las licencias obligatorias que permiten al país que la aplica suspender temporalmente una patente para que una empresa pueda producirlo como genérico, pagando a la empresa titular de la patente una compensación económica, señala. \"Es esperable que en los próximos meses salgan nuevos medicamentos y vacunas para la Covid-19 y tenemos ahora la oportunidad de hacer las cosas de manera diferente y mejor\", anima. ¿No eres usuario? COMO DIRIA RR . . . . \"¡ES EL MERCADO AMIGO!\". Y el \"listo\" de Trump a comprarlo como un loco fanfarrón. Todo puede ser que después de ese impulso comprador, se arrepienta y les pague solo el coste de producción en base a vete a saber qué... eso sí sería muy trumpiano. Tranquilos, que Trump ya se habrá llevado su mordida. ¿O sois tan ingenuos como para pensar que piensa en alguien más que él? 4. Muy grave sería eso incluso para él, pero si es así, antes o después la Justicia tomará cartas en el asunto, sobre todo si pierde las elecciones.',\n",
       "  'current_date': time.struct_time(tm_year=2020, tm_mon=7, tm_mday=7, tm_hour=21, tm_min=51, tm_sec=8, tm_wday=1, tm_yday=189, tm_isdst=-1),\n",
       "  'img': None,\n",
       "  'premium': None},\n",
       " 'Noticia_11': {'newspaper': 'economista',\n",
       "  'title': 'Los empleados de Mercadona descansarán dos días a la semana',\n",
       "  'headline': 'Mercadona ha firmado con los sindicatos UGT y CCOO la implantación en sus más de 1.600 supermercados de la denominada &quot;jornada laboral 5+2&quot;. Como su nombre indica, este sistema organizativo permitirá a los trabajadores trabajar cinco días semanales y librar dos. Su entrada en vigor se producirá el próximo 3 de agosto de 2020, según lo acordado con el &quot;comité intercentros de empresa&quot;, donde están representados todos trabajadores de la compañía valenciana.',\n",
       "  'summarise': 'Pero, además, esta nueva jornada laboral introduce una iniciativa pionera en el sector, ya que todos los trabajadores de los supermercados de Mercadona dispondrán de 8 fines de semana largos al año (sábado, domingo y lunes)\", añade Mercadona.\\n\"Durante todo este tiempo, muchas han sido las iniciativas incorporadas, desde apostar por el empleo estable y de calidad, a hacerlo de forma decidida por la igualdad; o compartir el 25% del beneficio generado con la plantilla, reforzar las medidas de conciliación y que el salario mínimo en Mercadona sea un 50% superior al Salario Mínimo Interprofesional cuando una persona lleva 4 años en nuestra empresa, algo que actualmente sucede con el 90 % de la plantilla\", argumentó.',\n",
       "  'date': {'date1': 'Tue, 07 Jul 2020 16:21:30 +0200',\n",
       "   'date2': time.struct_time(tm_year=2020, tm_mon=7, tm_mday=7, tm_hour=14, tm_min=21, tm_sec=30, tm_wday=1, tm_yday=189, tm_isdst=0)},\n",
       "  'link': 'http://www.eleconomista.es/distribucion/noticias/10652214/07/20/Los-empleados-de-Mercadona-descansaran-dos-dias-a-la-semana.html',\n",
       "  'text': 'Mercadona ha firmado con los sindicatos UGT y CCOO la implantación en sus más de 1.600 supermercados de la denominada \"jornada laboral 5+2\". Como su nombre indica, este sistema organizativo permitirá a los trabajadores trabajar cinco días semanales y librar dos. Su entrada en vigor se producirá el próximo 3 de agosto de 2020, según lo acordado con el \"comité intercentros de empresa\", donde están representados todos trabajadores de la compañía valenciana. Mercadona ha firmado con los sindicatos UGT y CCOO la implantación en sus más de 1.600 supermercados de la denominada \"jornada laboral 5+2\". Como su nombre indica, este sistema organizativo permitirá a los trabajadores trabajar cinco días semanales y librar dos. Su entrada en vigor se producirá el próximo 3 de agosto de 2020, según lo acordado con el \"comité intercentros de empresa\", donde están representados todos trabajadores de la compañía valenciana. La medida será implantada de forma oficial tras haber superado con éxito \"una prueba de horarios en 31 supermercados de la compañía\". \"Permitirá a todo el personal de tiendas trabajar 5 días a la semana y disfrutar de 2 días de descanso. Pero, además, esta nueva jornada laboral introduce una iniciativa pionera en el sector, ya que todos los trabajadores de los supermercados de Mercadona dispondrán de 8 fines de semana largos al año (sábado, domingo y lunes)\", añade Mercadona. La secretaria sindicato-sectorial de Comercio de la FeSMC de UGT, Ana Micó, aplaudió la iniciativa. \"Desde UGT valoramos positivamente el acuerdo de modificación sustancial de condiciones de trabajo que hoy rubricamos y que se ha revelado, desde el primer momento, como un referente en el sector de comercio y en concreto en el sector supermercados\", afirmó. \"Estamos ante la materialización del compromiso que asumió UGT con las trabajadoras y los trabajadores de Mercadona y que fue llevado a la negociación del convenio y concretado a través del Observatorio creado para articular la participación de todas las partes que, durante un año y medio, hemos trabajado para la consecución de este acuerdo, al posibilitar a las personas que trabajan en Mercadona el disfrute de 2 días de descanso semanales y de 8 fines de semana de calidad al año\", agregó la representante.     Por su parte, Ángeles Rodríguez, responsable estatal de Comercio de la Federación de Servicios de CCOO, valoró que este acuerdo \"supone un hito para el sector de supermercados en España\". \"La plantilla de Mercadona va a ser la primera del sector en poder disfrutar de tres días libres seguidos: sábado, domingo y lunes\", remarcó. \"Para CCOO este acuerdo es un ejemplo de lo que se puede conseguir desde una negociación con visión de futuro, y demuestra que en el sector de comercio se pueden aplicar medidas que permitan una mejor conciliación de la vida laboral y personal\", subrayó. La directora de Relaciones Laborales de Mercadona, Ruth García, agregó que la jornada laboral 5+2 \"representa un paso muy importante en la mejora continua de las condiciones laborales que caracteriza a la compañía desde hace más de 25 años\". \"Durante todo este tiempo, muchas han sido las iniciativas incorporadas, desde apostar por el empleo estable y de calidad, a hacerlo de forma decidida por la igualdad; o compartir el 25% del beneficio generado con la plantilla, reforzar las medidas de conciliación y que el salario mínimo en Mercadona sea un 50% superior al Salario Mínimo Interprofesional cuando una persona lleva 4 años en nuestra empresa, algo que actualmente sucede con el 90 % de la plantilla\", argumentó. ¿No eres usuario? El tonto de mercadona siempre va a lo fácil: cuatro marcas y si quieres las tomas y sino las dejas; en la pandemia, cuando más se necesitaba, deja el servicio On-Line. Anda y que te dennnnn A esto se le llama devolución de derechos laborales, nada de concesiones.',\n",
       "  'current_date': time.struct_time(tm_year=2020, tm_mon=7, tm_mday=7, tm_hour=21, tm_min=51, tm_sec=9, tm_wday=1, tm_yday=189, tm_isdst=-1),\n",
       "  'img': None,\n",
       "  'premium': None},\n",
       " 'Noticia_12': {'newspaper': 'economista',\n",
       "  'title': 'El Puerto de Barcelona doblará hasta 15.000 las inspecciones del tráfico de mercancías',\n",
       "  'headline': 'El Puerto de Barcelona ha invertido dos millones de euros en la puesta en servicio de un nuevo escáner de contenedores de mercancías que permite hacer las inspecciones también con control remoto.',\n",
       "  'summarise': 'Al incorporar el sistema en remoto se garantiza que las inspecciones puedan hacerse las 24 horas del día durante los siete días de la semana, sin necesidad de que haya un inspector en el centro de aduanas del puerto.\\nPor su parte, Isidoro García Millán, delegado especial de la AEAT en Cataluña, recordó que \"la Agencia Tributaria y el Puerto de Barcelona tienen una larga historia de colaboración y que en este momento es especialmente importante que todas las administraciones sigan trabajando juntas para mejorar los servicios a los ciudadanos ya las empresas \".',\n",
       "  'date': {'date1': 'Tue, 07 Jul 2020 15:55:35 +0200',\n",
       "   'date2': time.struct_time(tm_year=2020, tm_mon=7, tm_mday=7, tm_hour=13, tm_min=55, tm_sec=35, tm_wday=1, tm_yday=189, tm_isdst=0)},\n",
       "  'link': 'http://www.eleconomista.es/catalunya/noticias/10652144/07/20/El-Puerto-de-Barcelona-doblara-hasta-15000-las-inspecciones-del-trafico-de-mercancias.html',\n",
       "  'text': 'El Puerto de Barcelona ha invertido dos millones de euros en la puesta en servicio de un nuevo escáner de contenedores de mercancías que permite hacer las inspecciones también con control remoto. El Puerto de Barcelona ha invertido dos millones de euros en la puesta en servicio de un nuevo escáner de contenedores de mercancías que permite hacer las inspecciones también con control remoto. Esta instalación la primera que se instala en los puertos españoles permite revisar los productos y objetos que hay en el interior de los contenedores con una alta precisión para evitar la importación o exportación de tráficos ilícitos y sin necesidad de proceder a la apertura de los contenedores. Al incorporar el sistema en remoto se garantiza que las inspecciones puedan hacerse las 24 horas del día durante los siete días de la semana, sin necesidad de que haya un inspector en el centro de aduanas del puerto. La inversión del Puerto de Barcelona es fruto de la colaboración con las autoridades aduaneras y de la Agencia Estatal de la Administración Tributaria en Cataluña (AEAT). Se trata de una prueba piloto que se irá incorporando a otros puertos del conjunto del Estado, previsiblemente en los próximos meses se instalará uno en Tenerife. En la actualidad el servicio de inspecciones del puerto realizaba entre 6.500 y 7.100 revisiones anuales de contenedores de mercancías y, según la jefe de la Dependencia Regional de Aduanas e IIEE de Catalunya, Almudena Escobedo, esta cifra podrá doblarse con el uso del nuevo escáner. En las últimas semanas, las empresas REM Transportes y Naviera Armas-Trasmediterránea, que utilizan este servicio regularmente, han cedido sus vehículos tanto para realizar estas pruebas como la formación técnica de los profesionales encargados de su funcionamiento, que gestionará la Aduana de Barcelona. El director del Puerto de Barcelona, José Alberto Carbonell, destacó que la inspección es una herramienta importante para garantizar la eficacia y agilidad de las inspecciones y subrayó que \"el comercio internacional, las exportaciones y las importaciones, serán la base para recuperar el crecimiento económico y superar la actual crisis\" provocada por el Covid-19. Por su parte, Isidoro García Millán, delegado especial de la AEAT en Cataluña, recordó que \"la Agencia Tributaria y el Puerto de Barcelona tienen una larga historia de colaboración y que en este momento es especialmente importante que todas las administraciones sigan trabajando juntas para mejorar los servicios a los ciudadanos ya las empresas \". ¿No eres usuario?',\n",
       "  'current_date': time.struct_time(tm_year=2020, tm_mon=7, tm_mday=7, tm_hour=21, tm_min=51, tm_sec=9, tm_wday=1, tm_yday=189, tm_isdst=-1),\n",
       "  'img': None,\n",
       "  'premium': None},\n",
       " 'Noticia_13': {'newspaper': 'economista',\n",
       "  'title': 'El Gobierno cederá suelo público a coste cero para que fondos privados construyan vivienda social',\n",
       "  'headline': 'El Gobierno abre la puerta a ceder suelo público a coste cero a las empresas privadas para que construyan viviendas de alquiler social. El Consejo de Ministros ha aprobado así una disposición legal para permitir al Ejecutivo no cobrar nada a los fondos o promotores por la explotación de ese suelo público durante un máximo de 75 años.',\n",
       "  'summarise': 'El Consejo de Ministros ha aprobado así una disposición legal para permitir al Ejecutivo no cobrar nada a los fondos o promotores por la explotación de ese suelo público durante un máximo de 75 años.\\n\"El pago del canon tiene que ver con la limitación de esos alquileres sociales y esta disposición nos permite que el canon pueda llegar a ser cero\" El ministro ya anunció el año pasado este proyecto para ampliar el parque de vivienda público de España, que supone un 2,5% del total frente al 5% de la media europea, contando con la colaboración público-privada.',\n",
       "  'date': {'date1': 'Tue, 07 Jul 2020 15:37:16 +0200',\n",
       "   'date2': time.struct_time(tm_year=2020, tm_mon=7, tm_mday=7, tm_hour=13, tm_min=37, tm_sec=16, tm_wday=1, tm_yday=189, tm_isdst=0)},\n",
       "  'link': 'http://www.eleconomista.es/empresas-finanzas/noticias/10652096/07/20/El-Gobierno-cedera-suelo-publico-a-coste-cero-para-que-fondos-privados-construyan-vivienda-social.html',\n",
       "  'text': 'El Gobierno abre la puerta a ceder suelo público a coste cero a las empresas privadas para que construyan viviendas de alquiler social. El Consejo de Ministros ha aprobado así una disposición legal para permitir al Ejecutivo no cobrar nada a los fondos o promotores por la explotación de ese suelo público durante un máximo de 75 años. El Gobierno abre la puerta a ceder suelo público a coste cero a las empresas privadas para que construyan viviendas de alquiler social. El Consejo de Ministros ha aprobado así una disposición legal para permitir al Ejecutivo no cobrar nada a los fondos o promotores por la explotación de ese suelo público durante un máximo de 75 años. \"El pago del canon tiene que ver con la limitación de esos alquileres sociales y esta disposición nos permite que el canon pueda llegar a ser cero. No tiene por qué ser cero, dependerá de los precios, de lo que se construya y dónde se construya. Pero nos permite, en un momento dado, que los constructores no tengan que pagarlo\", ha explicado José Luis Ábalos, ministro de Transportes, Movilidad y Vivienda, en la rueda de prensa posterior a la celebración del Consejo de Ministros. \"El pago del canon tiene que ver con la limitación de esos alquileres sociales y esta disposición nos permite que el canon pueda llegar a ser cero\" El ministro ya anunció el año pasado este proyecto para ampliar el parque de vivienda público de España, que supone un 2,5% del total frente al 5% de la media europea, contando con la colaboración público-privada. El programa implica que el Gobierno de la Nación aporta, a través del SEPES, suelo de titularidad estatal para que fondos, promotoras o constructores privados levanten vivienda para alquiler social y gestionen esas rentas y edificios durante el periodo de la concesión. La idea es sacar los terrenos a licitación y que las empresas presenten sus proyectos de inversión.  \"Creo que es una medida muy incentivadora cuyo objetivo es dinamizar la economía y al mismo tiempo ir generando un parque de vivienda pública que no tenemos en este país y que incluso a ido a menos por determinadas políticas públicas\", ha señalado Ábalos. Cuando se presentó por primera vez esta iniciativa (octubre de 2019), el ministro de Transportes señaló que estaba en contacto con los distintos ministerios para identificar el suelo público disponible y establecer cuánto se podría destinar a la promoción de vivienda pública. Asimismo, señaló que su objetivo es que el modelo fuera replicable en todos los niveles de la administración para que las ayuntamientos y las autonomía destinaran suelo de su titularidad a este tipo de iniciativa, que una primera fase contemplaba la construcción de 20.000 viviendas.  En ese momento también se explicó que los terrenos se adjudicarían a los inversores privados durante unos 50 años, espacio temporal que ha aumentado a un máximo de 75 años en función del proyecto y la zona, y que después se tendrían que devolver al Estado para que engrosara la planta de vivienda público. Ahora no ha especificado si habrá opción a prorrogar las concesiones.     La idea inicial era que en los pliegos se fijaran las rentabilidades que podrán lograr los inversores con el cobro de los alquileres, que no estaba previsto que llegara al 10%. Ábalos justificó el atractivo del programa porque permite ahorrar el coste del suelo a los fondos, que supone el 40% del coste total de la promoción.  Dentro las medidas de vivienda, el Consejo de Ministros también ha aprobado otras medidas de ayudas al alquiler y que persiguen optimizar la eficiencia de los fondos del Plan Estatal de Vivienda 2018-2021, que actualmente obran en poder de las comunidades autónomas y de las ciudades de Ceuta y Melilla. \"Se flexibilizan las condiciones, incrementando de forma efectiva la inversión en 2020 y 2021 y permitiendo a estas administraciones territoriales redirigir la financiación y las ayudas donde sea más necesario\", señala el ministerio. ¿No eres usuario? ESTE PLAN LLEVAN INTENTANDO PONER YA MUCHAS DÉCADAS PERO HAY MUCHOS INTERES CREADOS, EN LA MAFIA DE LA CONSTRUCCIÓN DONDE NO SE PUEDA CHUPAR NADA NO INTERESA REALIZAR NADA PRIMERA REGLA DEL ESPECULADOR. Esto no servirá de nada si no se controlan las ganancias del promotor ni los precios a los que se va a vender. Ejemplo en Barcelona se esta construyendo vivienda etiquetada como VPO pero el promotor la vende a 250.000 \\x80 !!! Ninguna persona con sueldo mil eurista puede pagar eso !! Alomejor ya es demasiado tarde,,, los que pueden comprar son gente que ya casi tiene 50 años que se chuparon la crisis del 2008 y la del Covid. Los que venden son jubilados de mas de 70 años y a precio de oro. Los jovenes de 18 a 30 años por estudios y empleo precario no pueden comprar nada. Los de mas de 30 años con lo que tienen ahorrado  y el sueldo no se pueden plantear viviendas de 300.000 a 500.000 euros que se están construyendo por promotores privados en las grandes ciudades. Que las construyan ya que me voy a okuparlas hoy mismo El gobierno pretende que una persona viva toda su vida de alquiler? Que clase de progreso es este ? Vamos para atrás como los cangrejos. A este paso quien tenga un piso en propiedad va a ser considerado de lujo ! Se debe construir vivienda para venta no debemos ser menos que nuestros padres o nuestros abuelos. ¿ cómo que a coste cero? . A coste cero para el comprador, pero previamente ese suelo habrá sido adquirido por el Estado previo robo a los ciudadanos.Algo me dice que los compradores de ese suelo serán amiguitos. Y por supuesto con comisiones de por medio. Eso no es capitalimo ni liberalismo. Es Capitalismo de Estado. O también llamado PREVARICACIÓN. Ceder suelo a fondos privados especulativos ?? Joder luego nos quejábamos que se vendia en Madrid vivienda vpo a fondos privados. Esto es peor ya que se le da permiso para construir gratis !! Asi yo también monto un negocio a costa del dinero y los derechos de los demás. !! CUMPLE CON TU OBLIGACIÓN, DANDO LAS EXPLICACIONESQUE PRECISAN QUIENES TE PAGAN,ESTAFADOR, ZAMPABOLLOS.....LO DE DELCYLO DE DELCYLO DE DELCY............,,,,,,,,,,,,,................. ¿ QUÉ TRAJO,QUÉ SE LLEVÓ.......?MIENTRAS TANTO,SIGUE ¡¡¡¡¡  ZAMPANDO  !!!!!! JAJAJAJAJAJAJAJAUna medida social tras otra y el facherío (y sus palmeros, esos que no se han enterado que llevan corbata PERO SON CURRITOS) no para de ladrar.Pero qué divertidos van a ser (al menos) estos cuatro años.A ladrar, perros! Un gran país : Donde a los temporeros inmigrantes se les da mascarillas, pero sin agua donde los alojamos; un lugar donde la violencia de genero está tipificada como pandemia, donde todos somos iguales ante la ley ( algunos no deben ni presentarse ante ella), los intermediarios se llevan al 99% de los beneficios, donde el honor de pertenecer a él da privilegios sobre los que son del clan, etc, etc. No se discernir entre si vivimos una pandemia o en una pandemia. Es ilegal....ya que altera el mercado y la libre competencia al favorecer a uno respecto a otro.....Todo esto sera parado por el alto tribunal de turno ademas del enesimo tiron de orejas desde Bruselas....que no se que espera para intervenir ya a España......No veo la hora de que lleguen los calvinistas rabiosos con la motosierra de recortar para salvaguardar los ahorros de la gente de sus paises de origen.....va a ser apocaliptico para los mamadores de lo publicoDificil de entender para juntaletras analfabetos funcionales de las mas minimas normas de economia y de como funciona el sitio en el que estamos la UE.....para experimentos mejor Cuba, Corea del Norte, Ecuador, Nicaragua, Venezuela y fin de la lista comunista de paises fallidos... #10, confundes facherío con libertad de mercado( con conceptos opuestos). Por favor, hazte un favor y sale del agujero de envidia en el que estás inmerso. Lee un poco, y trabaja más si quieres vivir mejor. Personalmente estoy hasta los mismísimos de trabajar y pagar impuestos para mantener vagos y envidiosos como tú.¿ qué quieres, que te regalen una casita con el dinero expoliado a los que sí trabajan de verdad?. Ahora, después de leer el comentario, LADRA, Y LADRA MUY FUERTE. La vivienda social NUNCA ha de ser destinada a venta.SIEMPRE ha de estar destinada al alquiler social, ya que es la principal herramienta par suavizar los precios en el mercado inmobiliario.Así es como funciona el norte de europa donde el precio de la vivienda no supone una ruina para la clase media.',\n",
       "  'current_date': time.struct_time(tm_year=2020, tm_mon=7, tm_mday=7, tm_hour=21, tm_min=51, tm_sec=9, tm_wday=1, tm_yday=189, tm_isdst=-1),\n",
       "  'img': None,\n",
       "  'premium': None},\n",
       " 'Noticia_14': {'newspaper': 'economista',\n",
       "  'title': 'Los préstamos a fondo perdido en EEUU benefician a los allegados a Trump, varios legisladores, Kanye West y Khloe Kardashian',\n",
       "  'headline': 'Ni el mejor de los reality shows hubiera reunido a los multiples protagonistas que enumeran la lista de receptores de préstamos a fondo perdido en Estados Unidos. Esta iniciativa, conocida como Programa de Protección de Nóminas (PPP, por sus siglas en inglés) forma parte del programa de alivio aprobado a finales de marzo y su intención ha sido salvar el mayor número de empleos entre las pequeñas y medianas empresas del país tras el azote de la pandemia del coronavirus.',\n",
       "  'summarise': 'El Departamento del Tesoro y la Administración de Pequeñas Empresas (SBA, por sus siglas en inglés) daban a conocer esta semana los detalles de las cerca de 700.000 compañías y entidades que solicitaron este tipo de ayudas, cuyo fondo total alcanzó alrededor de 670.000 millones de dólares.\\nPrinceton Forrestal LLC, una filial de Kushner Cos que compró el Princeton Marriott Hotel en 2018, recibió un préstamo de entre 1 y 2 millones de dólares, según los datos de la SBA.\\nEl Departamento del Tesoro justificó que estos fondos han ayudado a salvar 50 millones de empleos y más del 75% de las nóminas de los pequeños negocios.',\n",
       "  'date': {'date1': 'Tue, 07 Jul 2020 15:13:24 +0200',\n",
       "   'date2': time.struct_time(tm_year=2020, tm_mon=7, tm_mday=7, tm_hour=13, tm_min=13, tm_sec=24, tm_wday=1, tm_yday=189, tm_isdst=0)},\n",
       "  'link': 'http://www.eleconomista.es/empresas-finanzas/noticias/10652030/07/20/Los-prestamos-a-fondo-perdido-en-EEUU-benefician-a-los-allegados-a-Trump-varios-legisladores-Kanye-West-y-Khloe-Kardashian.html',\n",
       "  'text': 'Ni el mejor de los reality shows hubiera reunido a los multiples protagonistas que enumeran la lista de receptores de préstamos a fondo perdido en Estados Unidos. Esta iniciativa, conocida como Programa de Protección de Nóminas (PPP, por sus siglas en inglés) forma parte del programa de alivio aprobado a finales de marzo y su intención ha sido salvar el mayor número de empleos entre las pequeñas y medianas empresas del país tras el azote de la pandemia del coronavirus. Ni el mejor de los reality shows hubiera reunido a los multiples protagonistas que enumeran la lista de receptores de préstamos a fondo perdido en Estados Unidos. Esta iniciativa, conocida como Programa de Protección de Nóminas (PPP, por sus siglas en inglés) forma parte del programa de alivio aprobado a finales de marzo y su intención ha sido salvar el mayor número de empleos entre las pequeñas y medianas empresas del país tras el azote de la pandemia del coronavirus. El Departamento del Tesoro y la Administración de Pequeñas Empresas (SBA, por sus siglas en inglés) daban a conocer esta semana los detalles de las cerca de 700.000 compañías y entidades que solicitaron este tipo de ayudas, cuyo fondo total alcanzó alrededor de 670.000 millones de dólares. Entre las beneficiadas se incluyen múltiples empresas asociadas con el propio presidente de EEUU, Donald Trump, sus familiares y algunos de sus allegados.  Así, por ejemplo, Irongate Azrep Bw LLC, un socio de la Trump Organization en un hotel y edificio residencial en Waikiki, Hawai, recibió un préstamo de entre 2 y 5 millones de dólares, según los datos publicados. Por otro lado, compañías propiedad de la familia de Jared Kushner, el asesor principal de la Casa Blanca y yerno de Trump, también recibieron varios préstamos. Princeton Forrestal LLC, una filial de Kushner Cos que compró el Princeton Marriott Hotel en 2018, recibió un préstamo de entre 1 y 2 millones de dólares, según los datos de la SBA.     Otras empresas receptoras de estos préstamos están ligadas a funcionarios de la administración Trump, entre ellas una compañía a la secretaria de Educación, Betsy DeVos, recibió al menos 6 millones de dólares. Perdue Inc, una compañía de camiones con sede en Bonaire, Georgia, fundada por el secretario de Agricultura, Sonny Perdue, recibió un préstamo de entre 150.000 y 350.000 dólares. Pero la concesión de estos préstamos también salpica a los demócratas. EDI Associates, una compañía vinculada al marido de la presidenta de la Cámara de Representantes, Nancy Pelosi, recibió entre 250.000 y 500.00 dólares en ayudas a fondo perdido. Varias entidades relacionadas con legisladores tanto demócratas como republicanos en el Capitolio también aparecen en la lista de préstamos del programa. Además se incluye a Monzack Mersky McLaughlin and Browder, un bufete de abogados en el que trabajó hace 49 años el ex vicepresidente de EEUU y actual aspirante a la Casa Blanca, Joe Biden. Además de la clase política, la compañía de producción del cantante Kanye West, Yeezy, obtuvo un préstamo de entre 2 millones y 5 millones de dólares, que ayudaron a mantener 160 empleos. Su cuñada, Khloe Kardashian, también recibió fondos para su compañía de ropa, de la que es copropietaria con Emma Grede, Good American. Según los registros, recibieron entre 1 y 2 millones de dólares, para salvar 57 puestos de trabajo. En un comunicado, la compañía indicó que ni Kardashian ni Grede han cobrado un sueldo desde que comenzó la pandemia. El Departamento del Tesoro justificó que estos fondos han ayudado a salvar 50 millones de empleos y más del 75% de las nóminas de los pequeños negocios.\\xa0La cantidad media de los préstamos solicitados se situó en los 107.000 dólares aunque los prestatarios pueden obtener hasta un máximo de 10 millones de dólares.  En los datos publicados no se incluyeron los aproximadamente 30.000 millones de dólares en préstamos que fueron devueltos por entidades que posteriormente no podían acceder a estos fondos por no cumplir con los requisitos y solo se han divulgado los nombres de las empresas que obtuvieron más de 150.000 dólares. El pasado 5 de junio, Trump rubricó una ley que implementó cambios clave en las condiciones de condonación de estos préstamos. Entre los más significativos se incluye la posibilidad de los prestatarios de gastar el crédito en las 24 semanas posteriores a la fecha de origen, en lugar de las ocho semanas fijadas anteriormente.\\xa0 También se extendió del 30 de junio hasta finales de año, el plazo para volver a contratar a los empleados y revertir los recortes salariales de más del 25%. Si no se restablecen el empleo y los salarios antes de dicho plazo, se reducirá proporcionalmente la condonación de los préstamos. ¿No eres usuario?',\n",
       "  'current_date': time.struct_time(tm_year=2020, tm_mon=7, tm_mday=7, tm_hour=21, tm_min=51, tm_sec=10, tm_wday=1, tm_yday=189, tm_isdst=-1),\n",
       "  'img': None,\n",
       "  'premium': None},\n",
       " 'Noticia_15': {'newspaper': 'economista',\n",
       "  'title': 'Ribera reivindica como propia la prórroga del bono social que ha presentado Pablo Iglesias',\n",
       "  'headline': \"El Ministerio de Transición Ecológica ha reivindicado como propia la propuesta de ampliar los plazos para el bono social que ha sido adoptada en el Consejo de Ministros a propuesta de la vicepresidenta, Teresa Ribera. La medida ha formado parte de una ampliación del llamado 'escudo social' del Gobierno que ha sido presentado por el vicepresidente segundo, Pablo Iglesias, que asume así un paquete de medidas que tocan a varios departamentos. Pese a eso, la comunicación de la medida no ha recaído en el departamento de Asuntos sociales sino que ha sido el área de Ribera quién ha emitido la correspondiente nota de prensa explicando la medida antes incluso de que se diera a conocer la referencia del Consejo de Ministros.\",\n",
       "  'summarise': 'El Ministerio de Transición Ecológica ha reivindicado como propia la propuesta de ampliar los plazos para el bono social que ha sido adoptada en el Consejo de Ministros a propuesta de la vicepresidenta, Teresa Ribera.\\nEl Ministerio de Transición Ecológica ha reivindicado como propia la propuesta de ampliar los plazos para el bono social que ha sido adoptada en el Consejo de Ministros a propuesta de la vicepresidenta, Teresa Ribera.\\nEsta prohibición, habilitada durante el estado alarma, se amplía hasta el 30 de septiembre y no se podrán realizar cortes incluso aunque conste dicha posibilidad en los contratos de suministro o acceso suscritos por los consumidores.',\n",
       "  'date': {'date1': 'Tue, 07 Jul 2020 15:10:30 +0200',\n",
       "   'date2': time.struct_time(tm_year=2020, tm_mon=7, tm_mday=7, tm_hour=13, tm_min=10, tm_sec=30, tm_wday=1, tm_yday=189, tm_isdst=0)},\n",
       "  'link': 'http://www.eleconomista.es/energia/noticias/10652023/07/20/Ribera-reivindica-como-propia-la-prorroga-del-bono-social-que-ha-presentado-Pablo-Iglesias.html',\n",
       "  'text': \"El Ministerio de Transición Ecológica ha reivindicado como propia la propuesta de ampliar los plazos para el bono social que ha sido adoptada en el Consejo de Ministros a propuesta de la vicepresidenta, Teresa Ribera. La medida ha formado parte de una ampliación del llamado 'escudo social' del Gobierno que ha sido presentado por el vicepresidente segundo, Pablo Iglesias, que asume así un paquete de medidas que tocan a varios departamentos. Pese a eso, la comunicación de la medida no ha recaído en el departamento de Asuntos sociales sino que ha sido el área de Ribera quién ha emitido la correspondiente nota de prensa explicando la medida antes incluso de que se diera a conocer la referencia del Consejo de Ministros. El Ministerio de Transición Ecológica ha reivindicado como propia la propuesta de ampliar los plazos para el bono social que ha sido adoptada en el Consejo de Ministros a propuesta de la vicepresidenta, Teresa Ribera. La medida ha formado parte de una ampliación del llamado 'escudo social' del Gobierno que ha sido presentado por el vicepresidente segundo, Pablo Iglesias, que asume así un paquete de medidas que tocan a varios departamentos. Pese a eso, la comunicación de la medida no ha recaído en el departamento de Asuntos sociales sino que ha sido el área de Ribera quién ha emitido la correspondiente nota de prensa explicando la medida antes incluso de que se diera a conocer la referencia del Consejo de Ministros. Iglesias ha agradecido, por su parte, la colaboración de Ábalos en la rueda de prensa del Consejo de Ministros pero no ha citado a la vicepresidenta Ribera que no participó en la rueda de prensa pese a que el Consejo de ministros ha dado luz verde a otras dos importantes medidas en materia energética. La prórroga del bono social beneficiará a los 25.900 autónomos que se habían acogido a esta medida, así como a los más de 70.000 usarios que tenían que renovar la prestación. En el decreto que ha sido aprobado se prorroga la prohibición de suspender el suministro de agua, energía eléctrica y gas en ningún domicilio que tenga la consideración de primera vivienda. Esta prohibición, habilitada durante el estado alarma, se amplía hasta el 30 de septiembre y no se podrán realizar cortes incluso aunque conste dicha posibilidad en los contratos de suministro o acceso suscritos por los consumidores. La prohibición de cortes de agua, electricidad y gas natural, gases manufacturados y gases licuados de petróleo por canalización está dirigida exclusivamente a particulares y para los suministros adscritos a su vivienda habitual, cuestión que el consumidor podrá acreditar a través de cualquier medio documental que acredite esta circunstancia. Se amplía igualmente el periodo de tiempo por el que no computará a efectos de los plazos comprendidos entre el requerimiento fehaciente de pago y la suspensión de suministro por impago. Por tanto, si el primer aviso de pago se ha producido desde el inicio del estado de alarma hasta el 30 de septiembre, los plazos que han de transcurrir hasta que el suministrador pueda cortar el suministro empezarán a contar desde el próximo 1 de octubre. Por otro lado, el Consejo de Ministros ha autorizado la tramitación urgente de los reales decretos que regulan el nuevo régimen de subastas de energías renovables y el procedimiento y los criterios generales de acceso y conexión a las redes de transporte y distribución eléctricas. Con ello, el Gobierno agiliza la tramitación de sendas normas, que contribuyen a dotar de certidumbre y seguridad jurídica al marco normativo energético, preparándolo para el despliegue ordenado de energías renovables que vivirá el sistema energético español en los próximos años. Esta masiva penetración renovable \\x96están planificados unos 60 gigavatios hasta 2030- tendrá un efecto tractor sobre la cadena de valor industrial y la competitividad del país, generando actividad económica y empleo sostenible, en el contexto de la reactivación económica tras el COVID-19 para tratar de atraer una inversión cercana a los 90.000 millones euros. ¿No eres usuario?\",\n",
       "  'current_date': time.struct_time(tm_year=2020, tm_mon=7, tm_mday=7, tm_hour=21, tm_min=51, tm_sec=10, tm_wday=1, tm_yday=189, tm_isdst=-1),\n",
       "  'img': None,\n",
       "  'premium': None},\n",
       " 'Noticia_16': {'newspaper': 'economista',\n",
       "  'title': 'COMSA Industrial se adjudica dos proyectos de ingeniería en las autopistas de Colombia por 18 millones',\n",
       "  'headline': 'La división Industrial de COMSA Corporación se ha adjudicado dos nuevos contratos de ingeniería en Colombia, por valor de 18 millones de euros.',\n",
       "  'summarise': '\\x96 Ancón Sur. Los trabajos se llevarán a cabo en dos túneles paralelos de 1.500 metros, los de Sinifaná, y otros dos de 3.500 metros, los de Amagá, en los que el negocio también realizará el mantenimiento durante 2 años del sistema de control SCADA, los PLCs (Controlador Lógico Programable), las comunicaciones, el control de ventilación, iluminación, detección y extinción de incendios, señalización y radares, entre otros servicios.\\nEn paralelo, la compañía se ha adjudicado también el contrato de suministro, instalación y puesta en marcha del SCADA de control, los PLC y las comunicaciones de los 2 túneles paralelos de Mulatos que tienen una longitud de 2.500 metros.',\n",
       "  'date': {'date1': 'Tue, 07 Jul 2020 15:05:10 +0200',\n",
       "   'date2': time.struct_time(tm_year=2020, tm_mon=7, tm_mday=7, tm_hour=13, tm_min=5, tm_sec=10, tm_wday=1, tm_yday=189, tm_isdst=0)},\n",
       "  'link': 'http://www.eleconomista.es/catalunya/noticias/10651991/07/20/COMSA-Industrial-se-adjudica-dos-proyectos-de-ingenieria-en-las-autopistas-de-Colombia-por-18-millones.html',\n",
       "  'text': 'La división Industrial de COMSA Corporación se ha adjudicado dos nuevos contratos de ingeniería en Colombia, por valor de 18 millones de euros. La división Industrial de COMSA Corporación se ha adjudicado dos nuevos contratos de ingeniería en Colombia, por valor de 18 millones de euros. La compañía desarrollará los programas de ingeniería correspondientes a la instalación de sistemas ITS (Intelligent Traffic Systems) en los túneles de Sinifaná y Amagá en la Autopista Conexión Pacífico 1, así como en el Túnel de Mulatos en la Pacífico 2. Estos proyectos incluyen el suministro, instalación y puesta en marcha de los sistemas ITS para los túneles de la carretera entre Bolomolo \\x96 Camino C. \\x96 Ancón Sur. Los trabajos se llevarán a cabo en dos túneles paralelos de 1.500 metros, los de Sinifaná, y otros dos de 3.500 metros, los de Amagá, en los que el negocio también realizará el mantenimiento durante 2 años del sistema de control SCADA, los PLCs (Controlador Lógico Programable), las comunicaciones, el control de ventilación, iluminación, detección y extinción de incendios, señalización y radares, entre otros servicios.  En Colombia, uno de los 20 países en los que está presente la compañía, los equipos de ingeniería ya están implementando los sistemas de control de tráfico en el tercer tercio del Corredor Bogotá-Villavicencio y también en los túneles de la Línea ubicados en la Cordillera Central de los Andes.  En paralelo, la compañía se ha adjudicado también el contrato de suministro, instalación y puesta en marcha del SCADA de control, los PLC y las comunicaciones de los 2 túneles paralelos de Mulatos que tienen una longitud de 2.500 metros. El plazo de ejecución es de 6 meses. COMSA Corporación mantuvo un crecimiento sostenido durante 2019 y cerró el año con unas ventas globales por valor de 777 millones de euros. El grupo pasó a consolidar por el método de puesta en equivalencia desde enero de 2019, por lo que la cifra de facturación es inferior a los 1.101 millones de 2018 al no contemplarse los resultados de Trakcja, su filial en Polonia. No obstante, la comparativa de los datos con el mismo método de consolidación es un 5,8% superior. ¿No eres usuario?',\n",
       "  'current_date': time.struct_time(tm_year=2020, tm_mon=7, tm_mday=7, tm_hour=21, tm_min=51, tm_sec=10, tm_wday=1, tm_yday=189, tm_isdst=-1),\n",
       "  'img': None,\n",
       "  'premium': None},\n",
       " 'Noticia_17': {'newspaper': 'economista',\n",
       "  'title': 'La empresa española Immunostep fabricará test de coronavirus del CSIC con un 98% de fiabilidad',\n",
       "  'headline': 'La necesidad de contar con test de anticuerpos más fiables ha llevado al CSIC a diseñar un prototipo con el 98% de fiabilidad. Ahora, la empresa española Immunostep se encargará de su fabricación. El consejero delegado de la firma, Ricardo Jara, asegura que alcanzarán una producción de 14.000 kits diarios y que estarán en los centros sanitarios en cuestión de semanas.',\n",
       "  'summarise': 'case 2 : jQuery(parrafos[1]).after(jQuery(\"div[class=\\'b300 pub_mob251\\']\")); break;\\ndefault: jQuery(parrafos[2]).after(jQuery(\"div[class=\\'b300 pub_mob251\\']\"));\\n\"Con el nuevo test se solventan estos problemas ya que es una tecnología española, fabricada en España y que permitirá cubrir tanto la demanda nacional como la de otros países que lo puedan necesitar, y, además, cuenta con una fiabilidad del 98 por ciento\", ha comentado.\\n\"Con el nuevo test se solventan estos problemas ya que es una tecnología española, fabricada en España y que permitirá cubrir tanto la demanda nacional como la de otros países que lo puedan necesitar, y, además, cuenta con una fiabilidad del 98 por ciento\", ha comentado.',\n",
       "  'date': {'date1': 'Tue, 07 Jul 2020 13:31:11 +0200',\n",
       "   'date2': time.struct_time(tm_year=2020, tm_mon=7, tm_mday=7, tm_hour=11, tm_min=31, tm_sec=11, tm_wday=1, tm_yday=189, tm_isdst=0)},\n",
       "  'link': 'http://www.eleconomista.es/empresas-finanzas/noticias/10651674/07/20/La-empresa-espanola-Immunostep-fabricara-test-de-coronavirus-del-CSIC-con-un-98-de-fiabilidad.html',\n",
       "  'text': 'La necesidad de contar con test de anticuerpos más fiables ha llevado al CSIC a diseñar un prototipo con el 98% de fiabilidad. Ahora, la empresa española Immunostep se encargará de su fabricación. El consejero delegado de la firma, Ricardo Jara, asegura que alcanzarán una producción de 14.000 kits diarios y que estarán en los centros sanitarios en cuestión de semanas. La necesidad de contar con test de anticuerpos más fiables ha llevado al CSIC a diseñar un prototipo con el 98% de fiabilidad. Ahora, la empresa española Immunostep se encargará de su fabricación. El consejero delegado de la firma, Ricardo Jara, asegura que alcanzarán una producción de 14.000 kits diarios y que estarán en los centros sanitarios en cuestión de semanas. La fiabilidad ha sido evidenciada mediante los estudios realizados junto a los servicios madrileños de Inmunología del Hospital Universitario La Princesa y del Hospital Universitario de la Paz. \"Este test es un ejemplo de cómo los años de investigación básica dan sus frutos\", ha comentado la presidenta del CSIC, Rosa Menéndez, tras puntualizar el trabajo ha sido desarrollado por cuatro grupos de investigación del Centro Nacional de Biotecnología (CNB-CSIC). Por su parte, Jara ha confirmado que los kit serán del tipo ELISA, un sistema mucho más fiable que los primeros test rápidos con los que se contaba al principio de la pandemia. De hecho, los infectólogos siempre han afirmado que es la mejor manera de identificar a los anticuerpos que genera el cuerpo humano tras su contacto con el coronavirus.\\xa0    El jefe del área de Estrategia Comercial e Internacionalización del CSIC, Javier Maira Vidal, ha asegurado que con estos test se solventará el problema de no alcanzar más del 80% de fiabilidad, en el mejor de los casos, que aportaban los otros test de anticuerpos. \"Con el nuevo test se solventan estos problemas ya que es una tecnología española, fabricada en España y que permitirá cubrir tanto la demanda nacional como la de otros países que lo puedan necesitar, y, además, cuenta con una fiabilidad del 98 por ciento\", ha comentado.\\xa0\\nDurante la presentación del nuevo test, Menéndez ha destacado la importancia que para el CSIC tienen las donaciones privadas, ya que les permiten que puedan realizar sus proyectos. De hecho, ha informado de que han recibido más de 12 millones de euros a través de este tipo de donaciones. \"Sin ellos no hubiera sido posible\", ha asegurado.\\n\\t\\t\\t\\tif (dispositivo==\\'mobile\\'){\\n\\t\\t\\t\\t\\tjQuery(\"div[class=\\'b300 pub_desk251\\']\").remove();\\n\\t\\t\\t\\t\\tif(gts_gpt != \\'sync\\'){ googletag.cmd.push(function() { googletag.display(\\'300x251\\'); });}else{googletag.display(\\'300x251\\'); }\\n\\t\\t\\t\\t}\\n\\t\\t\\t\\n\\n\\t\\t\\t\\t\\t\\t\\tif (dispositivo==\\'mobile\\'){\\n\\t\\t\\t\\t\\t\\t\\t\\tparrafos = jQuery(\".Article__paragraphGroup p:not(:empty)\");\\n\\t\\t\\t\\t\\t\\t\\t\\tswitch(parrafos.length){\\n\\t\\t\\t\\t\\t\\t\\t\\t\\tcase 1 : jQuery(\"div[class=\\'b300 pub_mob250\\']\").after(jQuery(\"div[class=\\'b300 pub_mob251\\']\")); break;\\n\\t\\t\\t\\t\\t\\t\\t\\t\\tcase 2 : jQuery(parrafos[1]).after(jQuery(\"div[class=\\'b300 pub_mob251\\']\")); break;\\n\\t\\t\\t\\t\\t\\t\\t\\t\\tdefault: jQuery(parrafos[2]).after(jQuery(\"div[class=\\'b300 pub_mob251\\']\"));\\n\\t\\t\\t\\t\\t\\t\\t\\t}\\n\\t\\t\\t\\t\\t\\t\\t}\\n\\t\\t\\t\\t\\t\\t\\n                            parrafos = jQuery(\".Article__paragraphGroup>p:not(:empty)\");\\n                            parrafo_posicion = 5>parrafos.length?parrafos[parrafos.length-1]:parrafos[4];\\n                            div = document.createElement(\"div\");\\n                            div.id = \"contentbox1\";\\n                            div.className = \"contentbox\";\\n                            parrafo_posicion.after(div);\\n                            jQuery(\"#contentbox1\").html(\"<div id=\\'contentbox-inline\\'></div>\");\\n                        \\n\\n\\n\\n\\n\\n\\n\\n\\n\\n\\n\\n\\n\\n\\nGrifols pone a disposición de España 1,5 millones de test moleculares para el virus la próxima semana\\n\\n\\n\\t\\t\\t\\t\\tjQuery(function(){jQuery(\"caja-noticia\")[0].innerHTML=jQuery(\"caja-noticia-s\")[0].innerHTML;\\n\\t\\t\\t\\t\\tjQuery(\"caja-noticia\")[0].innerHTML = jQuery(\"caja-noticia\")[0].innerHTML.replace(\"lazy lazy-loading\", \"lazy lazy-loading lazy-loaded\")});\\n\\t\\t\\t\\t\\ncomentariosforum0WhatsAppFacebookTwitterLinkedin\\n\\n El jefe del área de Estrategia Comercial e Internacionalización del CSIC, Javier Maira Vidal, ha asegurado que con estos test se solventará el problema de no alcanzar más del 80% de fiabilidad, en el mejor de los casos, que aportaban los otros test de anticuerpos. \"Con el nuevo test se solventan estos problemas ya que es una tecnología española, fabricada en España y que permitirá cubrir tanto la demanda nacional como la de otros países que lo puedan necesitar, y, además, cuenta con una fiabilidad del 98 por ciento\", ha comentado.\\xa0 Durante la presentación del nuevo test, Menéndez ha destacado la importancia que para el CSIC tienen las donaciones privadas, ya que les permiten que puedan realizar sus proyectos. De hecho, ha informado de que han recibido más de 12 millones de euros a través de este tipo de donaciones. \"Sin ellos no hubiera sido posible\", ha asegurado. ¿No eres usuario?',\n",
       "  'current_date': time.struct_time(tm_year=2020, tm_mon=7, tm_mday=7, tm_hour=21, tm_min=51, tm_sec=11, tm_wday=1, tm_yday=189, tm_isdst=-1),\n",
       "  'img': None,\n",
       "  'premium': None},\n",
       " 'Noticia_18': {'newspaper': 'economista',\n",
       "  'title': 'BBVA, contrario a que PwC entregue los datos que unen a Francisco González con el espionaje a Ausbanc',\n",
       "  'headline': 'BBVA ha recurrido el requerimiento que realizó el pasado lunes el juez del caso Villarejo a PwC para que, en un plazo de siete días, aportara a la causa todos los datos, documentos e información  a los que hayan tenido acceso que relacionen al expresidente del banco, Francisco González (FG), con el espionaje a la asociación de consumidores Ausbanc.',\n",
       "  'summarise': 'Sin embargo, la entidad esgrime en su recurso, al que ha tenido acceso la agencia Efe, que el requerimiento del juez vulnera el derecho de defensa de BBVA y considera la imposibilidad de cumplir el plazo de una semana dado el volumen de información almacena.\\nPUES PARA IR PREGONANDO \"SU ABSOLUTA COLABORACIÓN\" EN ESTE TURBIO ASUNTO LA VERDAD ES QUE LO DISIMULAN BASTANTE BIEN.LO SIGUIENTE QUE VENDERA BBVA ES QUE ES \"UN BANCO ETICO\".\\nPARA IR PREGONANDO \"SU ABSOLUTA COLABORACIÓN\" EN ESTE TURBIO ASUNTO LA VERDAD ES QUE LO DISIMULAN BASTANTE BIEN.LO SIGUIENTE QUE VENDERA BBVA ES QUE ES \"UN BANCO ETICO\".',\n",
       "  'date': {'date1': 'Tue, 07 Jul 2020 12:53:43 +0200',\n",
       "   'date2': time.struct_time(tm_year=2020, tm_mon=7, tm_mday=7, tm_hour=10, tm_min=53, tm_sec=43, tm_wday=1, tm_yday=189, tm_isdst=0)},\n",
       "  'link': 'http://www.eleconomista.es/empresas-finanzas/noticias/10651523/07/20/BBVA-contrario-a-que-se-entregue-los-datos-que-unan-a-Francisco-Gonzalez-con-el-espionaje-a-Ausbanc.html',\n",
       "  'text': 'BBVA ha recurrido el requerimiento que realizó el pasado lunes el juez del caso Villarejo a PwC para que, en un plazo de siete días, aportara a la causa todos los datos, documentos e información  a los que hayan tenido acceso que relacionen al expresidente del banco, Francisco González (FG), con el espionaje a la asociación de consumidores Ausbanc.  BBVA ha recurrido el requerimiento que realizó el pasado lunes el juez del caso Villarejo a PwC para que, en un plazo de siete días, aportara a la causa todos los datos, documentos e información  a los que hayan tenido acceso que relacionen al expresidente del banco, Francisco González (FG), con el espionaje a la asociación de consumidores Ausbanc.  El magistrado de la Audiencia Nacional, Manuel García-Castellón, solicitó a la consultora la entrega de más 3.500 datos almacenados a los que tuvo acceso para realizar el informe. Sin embargo, la entidad esgrime en su recurso, al que ha tenido acceso la agencia Efe, que el requerimiento del juez vulnera el derecho de defensa de BBVA y considera la imposibilidad de cumplir el plazo de una semana dado el volumen de información almacena. Además, critica que realizar ese trabajo sería recursos de la defensa en beneficio de la acusación, en referencia al presidente de Ausbanc, Luis Pineda, personado en la causa y que solicitó la información.     El banco esgrime que PwC es un \"asistente técnico\" de la entidad, contratado por ella, y por tanto la actuación de la consultora se enmarca en el ejercicio del propio derecho de defensa de BBVA. Por tanto, entiende que se trata de una figura necesariamente protegida por el derecho de defensa y el deber de secreto profesional del abogado, con lo que el requerimiento judicial sería nulo de pleno derecho. Además, BBVA asegura en su escrito que PwC no dispone en la actualidad de esos 3.503 hits en carpetas separadas, listas para ser entregadas al Juzgado. Según el banco, la selección de los datos que el Juzgado pide requiere una ardua tarea para la consultora de análisis, procesado y extracción al que tendría que dedicar recursos y tiempo. La entidad considera que esta inversión perjudicaría económicamente al banco y beneficiaría a la acusación de Pineda. El banco asegura que ha puesto a disposición del juez y de la Fiscalía Anticorrupción los 2,3 millones de hits vinculados a la contratación del excomisario de policía por parte de la entidad y refiere que dentro de ese \"universo\" de información están los 3.506 hit que buscan. ¿No eres usuario? PUES PARA IR PREGONANDO \"SU ABSOLUTA COLABORACIÓN\" EN ESTE TURBIO ASUNTO LA VERDAD ES QUE LO DISIMULAN BASTANTE BIEN.LO SIGUIENTE QUE VENDERA BBVA ES QUE ES \"UN BANCO ETICO\". PARA IR PREGONANDO \"SU ABSOLUTA COLABORACIÓN\" EN ESTE TURBIO ASUNTO LA VERDAD ES QUE LO DISIMULAN BASTANTE BIEN.LO SIGUIENTE QUE VENDERA BBVA ES QUE ES \"UN BANCO ETICO\". ¿Bueno, y a este gangster cuándo lo encarcelan por \\x93alarma social\\x94?. ¿Este pájaro se va a ir siempre de rositas?',\n",
       "  'current_date': time.struct_time(tm_year=2020, tm_mon=7, tm_mday=7, tm_hour=21, tm_min=51, tm_sec=11, tm_wday=1, tm_yday=189, tm_isdst=-1),\n",
       "  'img': None,\n",
       "  'premium': None},\n",
       " 'Noticia_19': {'newspaper': 'economista',\n",
       "  'title': 'BBVA permitirá a los clientes conocer en qué comercios online están registradas sus tarjetas',\n",
       "  'headline': 'BBVA lanza una nueva funcionalidad para su aplicación. La app permitirá a partir de octubre a los usuarios conocer en qué comercios online están registradas sus tarjetas. El director de Soluciones Digitales de Pagos de BBVA, Jorge Moreno, ha explicado esta mañana que las tarjetas comienzan a estar registradas en multitud de sitios para realizar compras online que, en ocasiones, el usuario ni recuerda. Así, esta funcionalidad permitirá a los clientes ver en qué sistemas de pago (Google Pay, Apple Pay, Sansung Pay, etc) y comercios (Netflix, Amazon, Uber, etc) están dadas de alta las tarjetas. Asimismo, con posterioridad, en 2021, el usuario podrá tener el control de sus tarjetas en estos comercios y desactivar temporalmente o desvincular por completo sus tarjetas de los mismos.',\n",
       "  'summarise': 'El director de Soluciones Digitales de Pagos de BBVA, Jorge Moreno, ha explicado esta mañana que las tarjetas comienzan a estar registradas en multitud de sitios para realizar compras online que, en ocasiones, el usuario ni recuerda.\\nEl director de Soluciones Digitales de Pagos de BBVA, Jorge Moreno, ha explicado esta mañana que las tarjetas comienzan a estar registradas en multitud de sitios para realizar compras online que, en ocasiones, el usuario ni recuerda.\\nMoreno reconoció que la expansión de las credenciales de pago llevan a una sensación de descontrol por parte del usuario, pero gracias a la tecnología de tokenización, el banco es capaz de ofrecer dónde están dados de alta los plásticos de los clientes.',\n",
       "  'date': {'date1': 'Tue, 07 Jul 2020 12:13:25 +0200',\n",
       "   'date2': time.struct_time(tm_year=2020, tm_mon=7, tm_mday=7, tm_hour=10, tm_min=13, tm_sec=25, tm_wday=1, tm_yday=189, tm_isdst=0)},\n",
       "  'link': 'http://www.eleconomista.es/empresas-finanzas/noticias/10651378/07/20/BBVA-permitira-a-los-clientes-conocer-en-que-comercios-online-estan-registradas-sus-tarjetas.html',\n",
       "  'text': 'BBVA lanza una nueva funcionalidad para su aplicación. La app permitirá a partir de octubre a los usuarios conocer en qué comercios online están registradas sus tarjetas. El director de Soluciones Digitales de Pagos de BBVA, Jorge Moreno, ha explicado esta mañana que las tarjetas comienzan a estar registradas en multitud de sitios para realizar compras online que, en ocasiones, el usuario ni recuerda. Así, esta funcionalidad permitirá a los clientes ver en qué sistemas de pago (Google Pay, Apple Pay, Sansung Pay, etc) y comercios (Netflix, Amazon, Uber, etc) están dadas de alta las tarjetas. Asimismo, con posterioridad, en 2021, el usuario podrá tener el control de sus tarjetas en estos comercios y desactivar temporalmente o desvincular por completo sus tarjetas de los mismos.  BBVA lanza una nueva funcionalidad para su aplicación. La app permitirá a partir de octubre a los usuarios conocer en qué comercios online están registradas sus tarjetas. El director de Soluciones Digitales de Pagos de BBVA, Jorge Moreno, ha explicado esta mañana que las tarjetas comienzan a estar registradas en multitud de sitios para realizar compras online que, en ocasiones, el usuario ni recuerda. Así, esta funcionalidad permitirá a los clientes ver en qué sistemas de pago (Google Pay, Apple Pay, Sansung Pay, etc) y comercios (Netflix, Amazon, Uber, etc) están dadas de alta las tarjetas. Asimismo, con posterioridad, en 2021, el usuario podrá tener el control de sus tarjetas en estos comercios y desactivar temporalmente o desvincular por completo sus tarjetas de los mismos.  Moreno reconoció que la expansión de las credenciales de pago llevan a una sensación de descontrol por parte del usuario, pero gracias a la tecnología de tokenización, el banco es capaz de ofrecer dónde están dados de alta los plásticos de los clientes. La tecnología token sustituye el número impreso en las tarjetas bancarias (PAN) por una numeración aleatoria de la misma extensión que no es la numeración real, para proteger las tarjetas.     Cada vez que los clientes dan de alta su tarjeta para realizar un pago online, se emite un token específico para ese comercio digital. \"El cliente va a poder ver si su tarjeta ha sido tokenizada en Netflix o Uber, por ejemplo, y así tiene un centro de mando para controlar donde están sus credenciales de pago y gestionarlas apagándolas o encendiéndolas. Devolvemos al cliente la capacidad de controlar sus tarjetas y acabar con la incertidumbre\", ha explicado Jorge Moreno este martes a través de un encuentro telemático.  La gestión de apagado y encendido de las tarjetas en los comercios electrónicos, y también su desvinculación total, se puede realizar desde la aplicación del banco, pero también desde la página web de la entidad. Según un estudio de BBVA Research sobre el impacto del coronavirus en el consumo, desde finales de marzo y hasta mediados de mayo, las compras online descendieron menos que las presenciales, lo que incrementó el peso del comercio electrónico en el gasto total. A finales de marzo, el gasto online representaba el 20% del gasto total frente al 18% en 2019. No obstante, esta tendencia se ha invertido en las últimas semanas. Con datos hasta mediados de junio, se observa un aumento del gasto online en las categorías ligadas al consumo en el hogar, mientras que retrocede en las relacionadas con desplazamientos, como viajes, transporte o alojamiento, probablemente debido a las restricciones de movilidad por la pandemia. Las compras por internet han crecido más en las regiones que partían de una penetración del comercio electrónico menor. Las menores restricciones de movilidad están favoreciendo las compras presenciales con tarjeta, que ganan mayor peso en el gasto total de las compras realizadas con este medio de pago. ¿No eres usuario?',\n",
       "  'current_date': time.struct_time(tm_year=2020, tm_mon=7, tm_mday=7, tm_hour=21, tm_min=51, tm_sec=11, tm_wday=1, tm_yday=189, tm_isdst=-1),\n",
       "  'img': None,\n",
       "  'premium': None},\n",
       " 'Noticia_20': {'newspaper': 'economista',\n",
       "  'title': 'Las consultoras elevan sus ingresos el 5,9% en España gracias al mercado doméstico',\n",
       "  'headline': 'El sector de la consultoría mantiene su ritmo de crecimiento en España y elevó sus ingresos el 5,9% en  2019, hasta los 14.517 millones de euros. Encadena así siete ejercicios  consecutivo de crecimiento y se aleja así de las cifras del año 2012, cuando registró su último dato negativo (-0,9%), según los datos revelados ayer por la Asociación Española de Empresas de Consultoría  (AEC). La cifra positiva está muy ligada a la buena evolución del mercado doméstico, que ha representado el 77,8% de los ingresos totales de la industria (con un crecimiento del 5,5%), pese a que el ritmo de crecimiento del negocio internacional ha sido mayor (7,7%).',\n",
       "  'summarise': 'Encadena así siete ejercicios  consecutivo de crecimiento y se aleja así de las cifras del año 2012, cuando registró su último dato negativo (-0,9%), según los datos revelados ayer por la Asociación Española de Empresas de Consultoría  (AEC).\\nEncadena así siete ejercicios  consecutivo de crecimiento y se aleja así de las cifras del año 2012, cuando registró su último dato negativo (-0,9%), según los datos revelados ayer por la Asociación Española de Empresas de Consultoría  (AEC).\\nEsta tendencia de crecimiento se manifiesta de forma continuada desde 2009, y se ha acelerado en los dos últimos años, en los que las consultoras incorporaron en cada ejercicio más de 16.000 profesionales.',\n",
       "  'date': {'date1': 'Tue, 07 Jul 2020 12:05:04 +0200',\n",
       "   'date2': time.struct_time(tm_year=2020, tm_mon=7, tm_mday=7, tm_hour=10, tm_min=5, tm_sec=4, tm_wday=1, tm_yday=189, tm_isdst=0)},\n",
       "  'link': 'http://www.eleconomista.es/empresas-finanzas/noticias/10651337/07/20/Las-firmas-de-consultoria-ingresaron-14500-millones-en-2019-un-6-mas.html',\n",
       "  'text': 'El sector de la consultoría mantiene su ritmo de crecimiento en España y elevó sus ingresos el 5,9% en  2019, hasta los 14.517 millones de euros. Encadena así siete ejercicios  consecutivo de crecimiento y se aleja así de las cifras del año 2012, cuando registró su último dato negativo (-0,9%), según los datos revelados ayer por la Asociación Española de Empresas de Consultoría  (AEC). La cifra positiva está muy ligada a la buena evolución del mercado doméstico, que ha representado el 77,8% de los ingresos totales de la industria (con un crecimiento del 5,5%), pese a que el ritmo de crecimiento del negocio internacional ha sido mayor (7,7%). El sector de la consultoría mantiene su ritmo de crecimiento en España y elevó sus ingresos el 5,9% en  2019, hasta los 14.517 millones de euros. Encadena así siete ejercicios  consecutivo de crecimiento y se aleja así de las cifras del año 2012, cuando registró su último dato negativo (-0,9%), según los datos revelados ayer por la Asociación Española de Empresas de Consultoría  (AEC). La cifra positiva está muy ligada a la buena evolución del mercado doméstico, que ha representado el 77,8% de los ingresos totales de la industria (con un crecimiento del 5,5%), pese a que el ritmo de crecimiento del negocio internacional ha sido mayor (7,7%). Para 2020, la AEC ha mostrado prudencia y explicó que \"la pandemia ha puesto de manifiesto la urgencia de la transformación digital en todas las empresas e instituciones y, en ese sentido, es posible que el sector de la consultoría siga con niveles altos de actividad. No obstante, la prudencia aconseja esperar, al menos, hasta el tercer trimestre de 2020 antes de hacer previsiones para el total del año\". Por sectores, las empresas que más han demandado estos servicios han sido las entidades financieras, que representan el 34% de los ingresos totales. En concreto, los proyectos del sector financiero han facturado 5.067 millones de euros, un 8,7% más. Le sigue las Administraciones Públicas, que en 2019 representó el 17,5% del total de los ingresos, con 2.545 millones. Sin embargo, en los últimos años estas empresas han reducido su importancia relativa en el total de los ingresos, coincidiendo con los ajustes presupuestarios que afectaron a todos los niveles de la administración hasta 2015. En tercer lugar está el sector de energía y utilities con unos ingresos de 1.977 millones de euros.  En términos de empleo, en 2019 el sector de la consultoría dio trabajo a más de 202.000 profesionales, unos 16.000 más que en el ejercicio anterior, lo que representa un incremento del 8,9%. Esta tendencia de crecimiento se manifiesta de forma continuada desde 2009, y se ha acelerado en los dos últimos años, en los que las consultoras incorporaron en cada ejercicio más de 16.000 profesionales.',\n",
       "  'current_date': time.struct_time(tm_year=2020, tm_mon=7, tm_mday=7, tm_hour=21, tm_min=51, tm_sec=11, tm_wday=1, tm_yday=189, tm_isdst=-1),\n",
       "  'img': None,\n",
       "  'premium': None}}"
      ]
     },
     "execution_count": 53,
     "metadata": {},
     "output_type": "execute_result"
    }
   ],
   "source": [
    "economista"
   ]
  },
  {
   "cell_type": "code",
   "execution_count": 64,
   "metadata": {},
   "outputs": [
    {
     "name": "stdout",
     "output_type": "stream",
     "text": [
      "\u001b[1m\u001b[32mEXPANSION\u001b[0m\n",
      "\u001b[1m\u001b[30mWed, 01 Jul 2020 02:19:08 +0200\u001b[0m\n",
      "\u001b[1m\u001b[35mCatalana Occidente recorta su cobertura de seguro de crédito\u001b[0m\n",
      "\u001b[34mHeadline\u001b[0m\n",
      "Las pymes ven reducido el respaldo del seguro para cerrar operaciones comerciales ante el previsible aumento de las insolvencias.\n",
      "\u001b[34mSummarise\u001b[0m\n",
      "\u001b[31mPremium Content\u001b[0m\n",
      "\u001b[34mText\u001b[0m\n",
      "Las pymes ven reducido el respaldo del seguro para cerrar operaciones comerciales ante el previsible aumento de las insolvencias. Catalana Occidente está reduciendo la cobertura que da a sus clientes en el seguro de crédito, tras el estallido de la crisis del Covid-19.\n",
      "Este recorte de la protección, -del 15% de media, según fuentes del sector- no es exclusivo de Catalana Occid Para seguir leyendo, hágase Premium ¿Ya es Premium? Inicie sesión Mensual primer mes después 14,99€   Anual primer mes después 7,50€/mes (Pago único de 90€)\n",
      " 4 meses gratis  Descubra qué es Premium   Cancele cuando quiera    Consulte los términos y condiciones del servicio  \n"
     ]
    },
    {
     "data": {
      "text/html": [
       "<img src=\"https://e00-expansion.uecdn.es/assets/multimedia/imagenes/2020/06/30/15935461539845.jpg\" width=\"500\"/>"
      ],
      "text/plain": [
       "<IPython.core.display.Image object>"
      ]
     },
     "metadata": {},
     "output_type": "display_data"
    },
    {
     "data": {
      "text/markdown": [
       "<a href=\"https://www.expansion.com/empresas/banca/2020/07/01/5efba8e1468aebde618b45fe.html\">Link</a>"
      ],
      "text/plain": [
       "<IPython.core.display.Markdown object>"
      ]
     },
     "metadata": {},
     "output_type": "display_data"
    },
    {
     "name": "stdout",
     "output_type": "stream",
     "text": [
      "\n",
      "\n",
      "\u001b[1m\u001b[32mEXPANSION\u001b[0m\n",
      "\u001b[1m\u001b[30mWed, 01 Jul 2020 02:18:39 +0200\u001b[0m\n",
      "\u001b[1m\u001b[35mLa apuesta de Intesa por España\u001b[0m\n",
      "\u001b[34mHeadline\u001b[0m\n",
      "La entidad quiere ampliar su base de clientes más allá de las grandes empresas españolas.\n",
      "\u001b[34mSummarise\u001b[0m\n",
      "\u001b[31mPremium Content\u001b[0m\n",
      "\u001b[34mText\u001b[0m\n",
      "La entidad quiere ampliar su base de clientes más allá de las grandes empresas españolas. Intesa Sanpaolo quiere crecer en banca de inversión en España. Y ahora cuenta con dos banqueros más para conseguir ese objetivo.\n",
      "El responsable de la sucursal española, Juan Pontoni, ha fichado a Javier Vidal como director de Originación de DCM (sig Para seguir leyendo, hágase Premium ¿Ya es Premium? Inicie sesión Mensual primer mes después 14,99€   Anual primer mes después 7,50€/mes (Pago único de 90€)\n",
      " 4 meses gratis  Descubra qué es Premium   Cancele cuando quiera    Consulte los términos y condiciones del servicio  \n"
     ]
    },
    {
     "data": {
      "text/html": [
       "<img src=\"https://e00-expansion.uecdn.es/assets/multimedia/imagenes/2020/06/30/15935458406467.jpg\" width=\"500\"/>"
      ],
      "text/plain": [
       "<IPython.core.display.Image object>"
      ]
     },
     "metadata": {},
     "output_type": "display_data"
    },
    {
     "data": {
      "text/markdown": [
       "<a href=\"https://www.expansion.com/empresas/banca/2020/07/01/5efba7c6468aeb76208b4625.html\">Link</a>"
      ],
      "text/plain": [
       "<IPython.core.display.Markdown object>"
      ]
     },
     "metadata": {},
     "output_type": "display_data"
    },
    {
     "name": "stdout",
     "output_type": "stream",
     "text": [
      "\n",
      "\n",
      "\u001b[1m\u001b[32mEXPANSION\u001b[0m\n",
      "\u001b[1m\u001b[30mWed, 01 Jul 2020 01:10:48 +0200\u001b[0m\n",
      "\u001b[1m\u001b[35mEl Covid tendrá un impacto fuerte en los balances de la banca\u001b[0m\n",
      "\u001b[34mHeadline\u001b[0m\n",
      "\n",
      "\u001b[34mSummarise\u001b[0m\n",
      "El Banco de España está convencido de que esta crisis, a diferencia de la de 2008, ha cogido al sector financiero con una buena posición de capital, a pesar de que su ratio de solvencia esté por debajo del promedio europeo.\n",
      "En este sentido, advierte también que la recuperación de los créditos dudosos y su posterior venta (al capital riesgo) puede ser \"más complejo durante un tiempo\".\n",
      "Durante marzo y abril, la inyección de financiación bancaria a las empresas para cubrir necesidades de liquidez ha sido de 98.000 millones de euros.\n",
      "\u001b[34mText\u001b[0m\n",
      " El Banco de España está convencido de que esta crisis, a diferencia de la de 2008, ha cogido al sector financiero con una buena posición de capital, a pesar de que su ratio de solvencia esté por debajo del promedio europeo. Pero no oculta que esta recesión provocará un súbito aumento de la morosidad que afectará a los balances.  \"El Covid-19 tendrá un impacto significativo sobre la calidad de la cartera crediticia de las entidades que dependerá de la severidad final de la crisis. Por ello, los supervisores deberemos mantenernos vigilantes y estar dispuestos para dar una respuesta contundente a los riesgos para la estabilidad financiera en caso de que estos se materialicen\", afirma el gobernador, Pablo Hernández de Cos.  Correlación La experiencia histórica dice que cada punto de caída del PIB provoca un aumento de 0,7% de la morosidad. Teniendo en cuenta que el Banco de España prevé una caída del PIB del 15% en 2020 en su peor escenario, la tasa de impagos se iría al 10,5%. Se trataría de un repunte importante en relación al 4,8% actual, aunque no se alcanzarían los máximos de casi el 14% de la anterior crisis. El supervisor admite que esta estimación teórica puede cumplirse. En este sentido, advierte también que la recuperación de los créditos dudosos y su posterior venta (al capital riesgo) puede ser \"más complejo durante un tiempo\".  En la crisis financiera global, la existencia de las provisiones genéricas dotó a las entidades españolas de un colchón de 26.000 millones para poder hacer frente a las pérdidas crediticias. Los fondos que pueden liberarse ahora para absorber pérdidas ascienden a 93.000 millones. El Banco de España adviertió ayer de que el Covid va a alargar todavía más en el tiempo el entorno de bajos tipos de interés y le preocupa que el sector se vea tentado a protagonizar una \"asunción excesiva de riesgos\". El supervisor advierte que estará muy alerta para evitar que suceda.  Durante marzo y abril, la inyección de financiación bancaria a las empresas para cubrir necesidades de liquidez ha sido de 98.000 millones de euros. Esta cantidad multiplica por dos el flujo crediticio a la economía real frente al mismo periodo de 2019. De esa cifra, 34.600 millones fueron créditos ICO. Fuera del programa de avales públicos también ha habido mucha actividad. El crédito no ICO ha crecido un 32% durante los dos primeros meses de Covid.  Según el supervisor, la financiación bancaria ha permitido cubrir el 23% de las necesidades estimadas de liquidez de las empresas entre marzo y diciembre de 2020.  Los sectores de actividad más afectados por el Covid (comercio, hostelería y transporte) tienen un peso del 25,6% en el stock de crédito, la mitad del 47% que suponía el crédito promotor y constructor en 2008. \n"
     ]
    },
    {
     "data": {
      "text/html": [
       "<img src=\"https://e00-expansion.uecdn.es/assets/multimedia/imagenes/2020/06/30/15935537522319.jpg\" width=\"500\"/>"
      ],
      "text/plain": [
       "<IPython.core.display.Image object>"
      ]
     },
     "metadata": {},
     "output_type": "display_data"
    },
    {
     "data": {
      "text/markdown": [
       "<a href=\"https://www.expansion.com/empresas/banca/2020/07/01/5efbb374468aebac668b45ff.html\">Link</a>"
      ],
      "text/plain": [
       "<IPython.core.display.Markdown object>"
      ]
     },
     "metadata": {},
     "output_type": "display_data"
    },
    {
     "name": "stdout",
     "output_type": "stream",
     "text": [
      "\n",
      "\n",
      "\u001b[1m\u001b[32mEXPANSION\u001b[0m\n",
      "\u001b[1m\u001b[30mWed, 01 Jul 2020 01:08:55 +0200\u001b[0m\n",
      "\u001b[1m\u001b[35mLos bancos de Wall Street ingresan comisiones récord por las operaciones de financiación durante la pandemia\u001b[0m\n",
      "\u001b[34mHeadline\u001b[0m\n",
      "Las comisiones totales de la banca de inversión suben un 9% con respecto al primer semestre de 2019, según Refinitiv.\n",
      "\u001b[34mSummarise\u001b[0m\n",
      "\u001b[31mPremium Content\u001b[0m\n",
      "\u001b[34mText\u001b[0m\n",
      "Las comisiones totales de la banca de inversión suben un 9% con respecto al primer semestre de 2019, según Refinitiv. Las comisiones de los bancos de inversión se dispararon a un récord de 57.000 millones de dólares (50.800 millones de euros) en los seis primeros meses del este año, impulsadas por las lucrativas ventas de deuda llevadas a cabo por las compañías para Para seguir leyendo, hágase Premium ¿Ya es Premium? Inicie sesión Mensual primer mes después 14,99€   Anual primer mes después 7,50€/mes (Pago único de 90€)\n",
      " 4 meses gratis  Descubra qué es Premium   Cancele cuando quiera    Consulte los términos y condiciones del servicio  \n"
     ]
    },
    {
     "data": {
      "text/html": [
       "<img src=\"https://e00-expansion.uecdn.es/assets/multimedia/imagenes/2020/06/30/15935455674076.jpg\" width=\"500\"/>"
      ],
      "text/plain": [
       "<IPython.core.display.Image object>"
      ]
     },
     "metadata": {},
     "output_type": "display_data"
    },
    {
     "data": {
      "text/markdown": [
       "<a href=\"https://www.expansion.com/empresas/banca/2020/07/01/5efb931b468aeb772f8b45e1.html\">Link</a>"
      ],
      "text/plain": [
       "<IPython.core.display.Markdown object>"
      ]
     },
     "metadata": {},
     "output_type": "display_data"
    },
    {
     "name": "stdout",
     "output_type": "stream",
     "text": [
      "\n",
      "\n",
      "\u001b[1m\u001b[32mEXPANSION\u001b[0m\n",
      "\u001b[1m\u001b[30mWed, 01 Jul 2020 01:06:19 +0200\u001b[0m\n",
      "\u001b[1m\u001b[35mSantander refuerza su organigrama para su transformación digital\u001b[0m\n",
      "\u001b[34mHeadline\u001b[0m\n",
      "El grupo nombra a un ex alto ejecutivo de Amazon como presidente de Santander Consumer Finance y vicepresidente de Openbank. Será también asesor de Ana Botín en temas tecnológicos.\n",
      "\u001b[34mSummarise\u001b[0m\n",
      "\u001b[31mPremium Content\u001b[0m\n",
      "\u001b[34mText\u001b[0m\n",
      "El grupo nombra a un ex alto ejecutivo de Amazon como presidente de Santander Consumer Finance y vicepresidente de Openbank. Será también asesor de Ana Botín en temas tecnológicos. Santander ha remodelado su organigrama de primer nivel para incorporar más talento tecnológico en la cúpula del grupo.\n",
      "Santander ha fichado a Sebastian Gunningham, ex alto ejecutivo de Amazon, como presidente no ejecutivo de Santander Consumer Fina Para seguir leyendo, hágase Premium ¿Ya es Premium? Inicie sesión Mensual primer mes después 14,99€   Anual primer mes después 7,50€/mes (Pago único de 90€)\n",
      " 4 meses gratis  Descubra qué es Premium   Cancele cuando quiera    Consulte los términos y condiciones del servicio  \n"
     ]
    },
    {
     "data": {
      "text/html": [
       "<img src=\"https://e00-expansion.uecdn.es/assets/multimedia/imagenes/2020/06/30/15935530135552.jpg\" width=\"500\"/>"
      ],
      "text/plain": [
       "<IPython.core.display.Image object>"
      ]
     },
     "metadata": {},
     "output_type": "display_data"
    },
    {
     "data": {
      "text/markdown": [
       "<a href=\"https://www.expansion.com/empresas/banca/2020/07/01/5efbaf64e5fdea59588b45f4.html\">Link</a>"
      ],
      "text/plain": [
       "<IPython.core.display.Markdown object>"
      ]
     },
     "metadata": {},
     "output_type": "display_data"
    },
    {
     "name": "stdout",
     "output_type": "stream",
     "text": [
      "\n",
      "\n",
      "\u001b[1m\u001b[32mEXPANSION\u001b[0m\n",
      "\u001b[1m\u001b[30mTue, 30 Jun 2020 23:12:11 +0200\u001b[0m\n",
      "\u001b[1m\u001b[35mNueva línea del ICO para facilitar la inversión y el circulante\u001b[0m\n",
      "\u001b[34mHeadline\u001b[0m\n",
      "El 30 de junio era la fecha tope que tenían los bancos individualmente para materializar las peticiones de créditos avalados que les han solicitado autónomos, pymes y resto de empresas de acuerdo a las cuotas que el Instituto de Crédito Oficial (ICO) ha adjudicado a cada entidad en función de la cuota de mercado en cada uno de los segmentos de negocio.\n",
      "\u001b[34mSummarise\u001b[0m\n",
      "\u001b[31mPremium Content\u001b[0m\n",
      "\u001b[34mText\u001b[0m\n",
      "El 30 de junio era la fecha tope que tenían los bancos individualmente para materializar las peticiones de créditos avalados que les han solicitado autónomos, pymes y resto de empresas de acuerdo a las cuotas que el Instituto de Crédito Oficial (ICO) ha adjudicado a cada entidad en función de la cuota de mercado en cada uno de los segmentos de negocio. Las cantidades que no hayan sido adjudicadas en esa fecha (no solo las del último tramo de 12.500 millones de euros sino los sobrantes de tres de los cuatros tramos anteriores) se repartirán entre los bancos que hayan agotado todo lo que tenían adjud Para seguir leyendo, hágase Premium ¿Ya es Premium? Inicie sesión Mensual primer mes después 14,99€   Anual primer mes después 7,50€/mes (Pago único de 90€)\n",
      " 4 meses gratis  Descubra qué es Premium   Cancele cuando quiera    Consulte los términos y condiciones del servicio  \n"
     ]
    },
    {
     "data": {
      "text/html": [
       "<img src=\"https://e00-expansion.uecdn.es/assets/multimedia/imagenes/2020/06/25/15930781059049.jpg\" width=\"500\"/>"
      ],
      "text/plain": [
       "<IPython.core.display.Image object>"
      ]
     },
     "metadata": {},
     "output_type": "display_data"
    },
    {
     "data": {
      "text/markdown": [
       "<a href=\"https://www.expansion.com/empresas/banca/2020/06/25/5ef47188e5fdea073c8b45b0.html\">Link</a>"
      ],
      "text/plain": [
       "<IPython.core.display.Markdown object>"
      ]
     },
     "metadata": {},
     "output_type": "display_data"
    },
    {
     "name": "stdout",
     "output_type": "stream",
     "text": [
      "\n",
      "\n",
      "\u001b[1m\u001b[32mEXPANSION\u001b[0m\n",
      "\u001b[1m\u001b[30mTue, 30 Jun 2020 19:04:11 +0200\u001b[0m\n",
      "\u001b[1m\u001b[35mCinco bancos bajan los tipos del 'revolving' tras el fallo del Supremo\u001b[0m\n",
      "\u001b[34mHeadline\u001b[0m\n",
      "Cinco de los bancos más fuertes en el negocio de las tarjetas revolving han rebajado ya los tipos de interés que cobran por este tipo de financiación como reacción a la jurisprudencia dictada en marzo por el Supremo.\n",
      "\u001b[34mSummarise\u001b[0m\n",
      "Cinco de los bancos más fuertes en el negocio de las tarjetas revolving han rebajado ya los tipos de interés que cobran por este tipo de financiación como reacción a la jurisprudencia dictada en marzo por el Supremo.\n",
      "El descenso más notable es el que ha realizado Sabadell en las condiciones de su tarjeta Visa Shopping Sabadell, que ahora cobra un 18,86% TAE, muy por debajo del 26,82% que aplicaba antes de la sentencia del Supremo.\n",
      "Santander ha realizado una reducción de cinco puntos porcentuales en las condiciones de su tarjeta Mi otra 1,2,3, que ahora cobra un 19,56% de interés a quienes la utilizan para fraccionar la financiación de compras.\n",
      "\u001b[34mText\u001b[0m\n",
      "Cinco de los bancos más fuertes en el negocio de las tarjetas revolving han rebajado ya los tipos de interés que cobran por este tipo de financiación como reacción a la jurisprudencia dictada en marzo por el Supremo. El alto tribunal falló que tipos «notablemente superiores» al 20% debían considerarse usurarios. WiZink, el banco con mayor penetración en esta actividad y afectado directamente por la sentencia, fue el primero en mover ficha. Ese mismo mes redujo su catálogo de tarjetas revolving a un solo plástico y ha pasado de cobrar un promedio casi un 27% a un 21,94% TAE. Recientemente se le han unido otras cuatro entidades más, todas ellas muy relevantes en este segmento de negocio, según el barómetro realizado por la asociación de consumidores Asufin. Bankintercard ha disminuido el tipo medio que aplica en sus tarjetas del 26,82% TAE al 19,99% actual. El descenso más notable es el que ha realizado Sabadell en las condiciones de su tarjeta Visa Shopping Sabadell, que ahora cobra un 18,86% TAE, muy por debajo del 26,82% que aplicaba antes de la sentencia del Supremo. Santander ha realizado una reducción de cinco puntos porcentuales en las condiciones de su tarjeta Mi otra 1,2,3, que ahora cobra un 19,56% de interés a quienes la utilizan para fraccionar la financiación de compras. La lista de rebajas se completa con la tarjeta Visa Shopping DB, de Deutsche Bank, que ha pasado de estar aplicando un tipo TAE del 23,87% a cobrar un 18,16%. Según Asufin, de promedio la banca está cobrando ahora un 22,86%, un 2,34% menos que antes de la sentencia. \n"
     ]
    },
    {
     "data": {
      "text/html": [
       "<img src=\"https://e00-expansion.uecdn.es/assets/multimedia/imagenes/2020/06/30/15935366285556.jpg\" width=\"500\"/>"
      ],
      "text/plain": [
       "<IPython.core.display.Image object>"
      ]
     },
     "metadata": {},
     "output_type": "display_data"
    },
    {
     "data": {
      "text/markdown": [
       "<a href=\"https://www.expansion.com/empresas/banca/2020/06/30/5efb58c7468aeb76208b45ff.html\">Link</a>"
      ],
      "text/plain": [
       "<IPython.core.display.Markdown object>"
      ]
     },
     "metadata": {},
     "output_type": "display_data"
    },
    {
     "name": "stdout",
     "output_type": "stream",
     "text": [
      "\n",
      "\n",
      "\u001b[1m\u001b[32mEXPANSION\u001b[0m\n",
      "\u001b[1m\u001b[30mTue, 30 Jun 2020 18:52:00 +0200\u001b[0m\n",
      "\u001b[1m\u001b[35mSantander ficha a tres expertos americanos  para su  transformación digital\u001b[0m\n",
      "\u001b[34mHeadline\u001b[0m\n",
      "Banco Santander ha anunciado hoy el nombramiento de tres expertos en tecnología para impulsar su estrategia y transformación digital. Se trata de tres estadounidenses que proceden de Goldman, de Amazon y de la firma de servicios profesionales Cognizant.\n",
      "\u001b[34mSummarise\u001b[0m\n",
      "Chávez, de nacionalidad estadounidense, aporta una amplia experiencia en el sector financiero tras haber trabajado veinte años en Goldman Sachs, donde fue socio desde 2006 y miembro del comité de dirección desde 2012, hasta que abandonó la entidad a final de 2019.\n",
      "Además, Banco Santander nombrará a Sebastian Gunningham presidente de Santander Consumer Finance y vicepresidente de Openbank, sujeto a la aprobación regulatoria, y también será asesor sénior de la presidenta en tecnología.\n",
      "D'Souza, de nacionalidad estadounidense, es miembro del Consejo Asesor Internacional de Santander desde 2016 y cofundador de Cognizant, una empresa líder de servicios profesionales.\n",
      "\u001b[34mText\u001b[0m\n",
      "Banco Santander ha anunciado hoy el nombramiento de tres expertos en tecnología para impulsar su estrategia y transformación digital. Se trata de tres estadounidenses que proceden de Goldman, de Amazon y de la firma de servicios profesionales Cognizant. La comisión de nombramientos ha propuesto la incorporación de R. Martin Chávez como nuevo consejero independiente. Sustituirá a Esther Giménez-Salinas, que deja el consejo tras ocho años. Chávez, de nacionalidad estadounidense, aporta una amplia experiencia en el sector financiero tras haber trabajado veinte años en Goldman Sachs, donde fue socio desde 2006 y miembro del comité de dirección desde 2012, hasta que abandonó la entidad a final de 2019. Comenzó su carrera como ingeniero de software y fundó distintas empresas tecnológicas en Silicon Valley y Nueva York, de modo que también aporta experiencia digital al consejo. Chávez formará parte de las comisiones de retribuciones; de supervisión de riesgos, regulación y cumplimiento, y de innovación y tecnología. Su nombramiento está sujeto a las aprobaciones regulatorias correspondientes y se espera que sea sometido a la aprobación de la próxima junta de accionistas, que previsiblemente se celebrará en octubre. Además, Banco Santander nombrará a Sebastian Gunningham presidente de Santander Consumer Finance y vicepresidente de Openbank, sujeto a la aprobación regulatoria, y también será asesor sénior de la presidenta en tecnología. Gunningham, de nacionalidad estadounidense, ha ocupado distintas funciones en Amazon como director general con responsabilidad sobre Amazon Marketplace y otras unidades tecnológicas, incluido el servicio de pagos de Amazon. También ha trabajado en Apple, First Data, Oracle y WeWork. Sustituirá a Antonio Escámez como presidente de Santander Consumer Finance y vicepresidente de Openbank. Escámez seguirá siendo consejero en ambas entidades. Por último, Francisco D'Souza reforzará su colaboración con la entidad y desde ahora será el asesor estratégico del grupo para el desarrollo de Santander Global Platform (SGP). Dará apoyo al consejo para establecer e implementar la estrategia y los modelos de negocio de todas las actividades, existentes y nuevas, que se están desarrollando dentro de SGP.  D'Souza, de nacionalidad estadounidense, es miembro del Consejo Asesor Internacional de Santander desde 2016 y cofundador de Cognizant, una empresa líder de servicios profesionales. Como consejero delegado de Cognizant, lideró un periodo de crecimiento, transformación, innovación y éxito, lo que permitió multiplicar por 10 los ingresos. En 2015 y 2017, la revista Fortune le incluyó en la lista de empresarios del año. Ana Botín, presidenta de Banco Santander, afirma qu: \"Marty, Sebastian y Frank tienen una amplia experiencia y aportarán gran valor al grupo en el desarrollo y la ejecución de nuestra transformación digital. Los tres tienen destacadas carreras y estoy encantada de contar con ellos para seguir desarrollando nuestra estrategia de ser la mejor plataforma abierta de servicios financieros. En nombre del consejo, también me gustaría agradecer a Esther Giménez-Salinas y Antonio Escámez su gran aportación al grupo. Ambos han contribuido al crecimiento del banco los últimos años, y su conocimiento y experiencia han sido de gran ayuda\". \n"
     ]
    },
    {
     "data": {
      "text/html": [
       "<img src=\"https://e00-expansion.uecdn.es/assets/multimedia/imagenes/2020/06/30/15935370946302.jpg\" width=\"500\"/>"
      ],
      "text/plain": [
       "<IPython.core.display.Image object>"
      ]
     },
     "metadata": {},
     "output_type": "display_data"
    },
    {
     "data": {
      "text/markdown": [
       "<a href=\"https://www.expansion.com/empresas/banca/2020/06/30/5efb6da4e5fdea7f638b463c.html\">Link</a>"
      ],
      "text/plain": [
       "<IPython.core.display.Markdown object>"
      ]
     },
     "metadata": {},
     "output_type": "display_data"
    },
    {
     "name": "stdout",
     "output_type": "stream",
     "text": [
      "\n",
      "\n",
      "\u001b[1m\u001b[32mEXPANSION\u001b[0m\n",
      "\u001b[1m\u001b[30mTue, 30 Jun 2020 18:28:22 +0200\u001b[0m\n",
      "\u001b[1m\u001b[35mBanco Sabadell completa la venta de su gestora y refuerza su solvencia con 349 millones\u001b[0m\n",
      "\u001b[34mHeadline\u001b[0m\n",
      "Banco Sabadell ha cerrado la alianza estratégica con Amundi, que implica la venta del 100% de su gestora por un importe de 430 millones de euros, una operación con la que la entidad refuerza su solvencia con 349 millones de euros en plusvalías.\n",
      "\u001b[34mSummarise\u001b[0m\n",
      "Banco Sabadell ha cerrado la alianza estratégica con Amundi, que implica la venta del 100% de su gestora por un importe de 430 millones de euros, una operación con la que la entidad refuerza su solvencia con 349 millones de euros en plusvalías.\n",
      "Además, es posible que se reciban hasta 30 millones de euros adicionales a las 430 millones del total del importe de la operación, pagaderos en 2024 y sujetos a los rendimientos futuros y a los activos bajo gestión que mantenga Sabadell Asset Management (AM) de clientes del banco.\n",
      "\u001b[34mText\u001b[0m\n",
      "Banco Sabadell ha cerrado la alianza estratégica con Amundi, que implica la venta del 100% de su gestora por un importe de 430 millones de euros, una operación con la que la entidad refuerza su solvencia con 349 millones de euros en plusvalías. Las plusvalías que genera deshacerse de este activo reforzarán la posición de capital de Banco Sabadell y contribuirá a la ratio CET 1 'fully loaded' con 43 puntos básicos.   No obstante, en este momento se reconocerán 293 millones de euros en plusvalías, mientras que los 56 millones de euros restantes, correspondiente a 7 puntos básicos de CET1 'fully-loaded', están sujetos a determinadas garantías vigentes a lo largo del periodo del acuerdo de distribución, por lo que aflorarán proporcionalmente durante los próximos 10 años.   Además, es posible que se reciban hasta 30 millones de euros adicionales a las 430 millones del total del importe de la operación, pagaderos en 2024 y sujetos a los rendimientos futuros y a los activos bajo gestión que mantenga Sabadell Asset Management (AM) de clientes del banco.   El acuerdo de venta de Sabadell AM, que incluye la gestora de Sabadell Luxemburgo y excluye Sabadell Urquijo Gestión --sus activos serán transferidos al banco--, fue anunciado el pasado mes de enero y ha sido ahora cuando ha recibido las autorizaciones regulatorias pertinentes.  A su vez, la alianza estratégica suscrita con Amundi supone la distribución de productos de dicha compañía a través de la red comercial de Banco Sabadell en España. No obstante, Sabadell AM y Amundi serán dos entidades independientes para preservar la operativa actual de los fondos de inversión y planes de pensiones de cada entidad, que no sufrirán cambios.   De esta forma, no implica ningún cambio en los fondos de inversión o planes de pensiones existentes. Al contrario, permitirá a los clientes del banco acceder a nuevas oportunidades de inversión y a una gama más amplia de productos.   Para Banco Sabadell, el objetivo de la transacción es impulsar su oferta y acceder a las soluciones y herramientas de Amundi, aumentando además su compromiso con la inversión socialmente responsable al incluir productos en materia de sostenibilidad, temas sociales y gobierno corporativo.   Asimismo, le proporciona acceso a la experiencia de Amundi en la prestación de servicios a redes comerciales y mejora la escala, lo que proporciona ahorros y disminuye las necesidades de inversión, además de que potencia las capacidades digitales de Banco Sabadell en este segmento y le permite \"concentrarse plenamente en la captación de clientes y en la gestión de las relaciones con los mismos\".   De su lado, Amundi se beneficia con esta adquisición de la fuerte implantación territorial de Banco Sabadell a través de sus oficinas y refuerza significativamente su posición en España, un importante mercado de ahorro en Europa, desplegando sus capacidades en el Viejo Continente a través de redes minoristas. \n"
     ]
    },
    {
     "data": {
      "text/html": [
       "<img src=\"https://e00-expansion.uecdn.es/assets/multimedia/imagenes/2020/06/30/15935344567653.jpg\" width=\"500\"/>"
      ],
      "text/plain": [
       "<IPython.core.display.Image object>"
      ]
     },
     "metadata": {},
     "output_type": "display_data"
    },
    {
     "data": {
      "text/markdown": [
       "<a href=\"https://www.expansion.com/empresas/banca/2020/06/30/5efb680fe5fdea0e068b45d2.html\">Link</a>"
      ],
      "text/plain": [
       "<IPython.core.display.Markdown object>"
      ]
     },
     "metadata": {},
     "output_type": "display_data"
    },
    {
     "name": "stdout",
     "output_type": "stream",
     "text": [
      "\n",
      "\n",
      "\u001b[1m\u001b[32mEXPANSION\u001b[0m\n",
      "\u001b[1m\u001b[30mTue, 30 Jun 2020 16:37:01 +0200\u001b[0m\n",
      "\u001b[1m\u001b[35mMapfre ofrece servicios de asistencia adaptados a personas con discapacidad auditiva\u001b[0m\n",
      "\u001b[34mHeadline\u001b[0m\n",
      "Mapfre ofrece servicios de asistencia adaptados a personas con discapacidad auditiva que podrían ayudar a sus clientes para solicitar asistencia en viaje o realizar sus gestiones a través de diferentes sistemas como mensajes SMS, videointerpretación o mediante la app de la aseguradora.\n",
      "\u001b[34mSummarise\u001b[0m\n",
      "Mapfre ofrece servicios de asistencia adaptados a personas con discapacidad auditiva que podrían ayudar a sus clientes para solicitar asistencia en viaje o realizar sus gestiones a través de diferentes sistemas como mensajes SMS, videointerpretación o mediante la app de la aseguradora.\n",
      "Para facilitar su acceso promueve la utilización del servicio de SMS, disponible las 24 horas todos los días del año, mediante el cual el asegurado podrá gestionar cualquier incidente en su póliza de autos u hogar tan solo enviando un mensaje de texto acompañado de sus datos.\n",
      "\u001b[34mText\u001b[0m\n",
      "Mapfre ofrece servicios de asistencia adaptados a personas con discapacidad auditiva que podrían ayudar a sus clientes para solicitar asistencia en viaje o realizar sus gestiones a través de diferentes sistemas como mensajes SMS, videointerpretación o mediante la app de la aseguradora. Desde principios de este año, la compañía ha realizado cerca de 100 gestiones por esta vía, en sus seguros de autos y hogar. Para facilitar su acceso promueve la utilización del servicio de SMS, disponible las 24 horas todos los días del año, mediante el cual el asegurado podrá gestionar cualquier incidente en su póliza de autos u hogar tan solo enviando un mensaje de texto acompañado de sus datos. Los servicios de videointerpretación y de chat se encuentran a su vez disponibles de lunes a viernes entre las 10.30 y las 18.30 horas, con todas las herramientas necesarias para gestionar y facilitar las peticiones de las personas aseguradas mediante lenguaje de signos a través de un teléfono móvil, ordenador o tablet.  A través de la aplicación de Mapfre, todos los asegurados con discapacidad auditiva podrán seguir las indicaciones desde el menú para solicitar asistencia en carretera, también de manera muy sencilla. \n"
     ]
    },
    {
     "data": {
      "text/html": [
       "<img src=\"https://e00-expansion.uecdn.es/assets/multimedia/imagenes/2020/06/30/15935275027749.jpg\" width=\"500\"/>"
      ],
      "text/plain": [
       "<IPython.core.display.Image object>"
      ]
     },
     "metadata": {},
     "output_type": "display_data"
    },
    {
     "data": {
      "text/markdown": [
       "<a href=\"https://www.expansion.com/empresas/banca/2020/06/30/5efb4be8468aebac668b45eb.html\">Link</a>"
      ],
      "text/plain": [
       "<IPython.core.display.Markdown object>"
      ]
     },
     "metadata": {},
     "output_type": "display_data"
    },
    {
     "name": "stdout",
     "output_type": "stream",
     "text": [
      "\n",
      "\n",
      "\u001b[1m\u001b[32mEXPANSION\u001b[0m\n",
      "\u001b[1m\u001b[30mTue, 30 Jun 2020 09:55:38 +0200\u001b[0m\n",
      "\u001b[1m\u001b[35mSantander ficha de JPMorgan su nuevo presidente en Reino Unido\u001b[0m\n",
      "\u001b[34mHeadline\u001b[0m\n",
      "William Vereker, quien trabajó en UBS con Andrea Orcel, sustituirá a Shriti Vadera tras el verano.\n",
      "\u001b[34mSummarise\u001b[0m\n",
      "\u001b[31mPremium Content\u001b[0m\n",
      "\u001b[34mText\u001b[0m\n",
      "William Vereker, quien trabajó en UBS con Andrea Orcel, sustituirá a Shriti Vadera tras el verano. Un ejecutivo con una larga trayectoria en banca mayorista, y que también pasó por la administración de la primera ministra Theresa May, va a ser nombrado presidente de Santander UK este año. William Vereker, que ahora es vicepresidente de banca de in Para seguir leyendo, hágase Premium ¿Ya es Premium? Inicie sesión Mensual primer mes después 14,99€   Anual primer mes después 7,50€/mes (Pago único de 90€)\n",
      " 4 meses gratis  Descubra qué es Premium   Cancele cuando quiera    Consulte los términos y condiciones del servicio  \n"
     ]
    },
    {
     "data": {
      "text/html": [
       "<img src=\"https://e00-expansion.uecdn.es/assets/multimedia/imagenes/2020/06/30/15935036746581.jpg\" width=\"500\"/>"
      ],
      "text/plain": [
       "<IPython.core.display.Image object>"
      ]
     },
     "metadata": {},
     "output_type": "display_data"
    },
    {
     "data": {
      "text/markdown": [
       "<a href=\"https://www.expansion.com/empresas/banca/2020/06/30/5efaefea468aebe05c8b457e.html\">Link</a>"
      ],
      "text/plain": [
       "<IPython.core.display.Markdown object>"
      ]
     },
     "metadata": {},
     "output_type": "display_data"
    },
    {
     "name": "stdout",
     "output_type": "stream",
     "text": [
      "\n",
      "\n",
      "\u001b[1m\u001b[32mEXPANSION\u001b[0m\n",
      "\u001b[1m\u001b[30mTue, 30 Jun 2020 00:49:28 +0200\u001b[0m\n",
      "\u001b[1m\u001b[35mKlarna, la mayor 'fintech' de Europa, aterriza en España\u001b[0m\n",
      "\u001b[34mHeadline\u001b[0m\n",
      "La 'start up' sueca lanza su plataforma de pagos a través de Internet de la mano de Michael Kors.\n",
      "\u001b[34mSummarise\u001b[0m\n",
      "\u001b[31mPremium Content\u001b[0m\n",
      "\u001b[34mText\u001b[0m\n",
      "La 'start up' sueca lanza su plataforma de pagos a través de Internet de la mano de Michael Kors. La mayor fintech de Europa pone sus ojos en España. La start up sueca Klarna lanzará a finales de julio en nuestro país su plataforma de financiación al consumo, que permite financiar las compras directamente desde la web de una tienda.\n",
      "Para este la Para seguir leyendo, hágase Premium ¿Ya es Premium? Inicie sesión Mensual primer mes después 14,99€   Anual primer mes después 7,50€/mes (Pago único de 90€)\n",
      " 4 meses gratis  Descubra qué es Premium   Cancele cuando quiera    Consulte los términos y condiciones del servicio  \n"
     ]
    },
    {
     "data": {
      "text/html": [
       "<img src=\"https://e00-expansion.uecdn.es/assets/multimedia/imagenes/2020/06/29/15934601065664.jpg\" width=\"500\"/>"
      ],
      "text/plain": [
       "<IPython.core.display.Image object>"
      ]
     },
     "metadata": {},
     "output_type": "display_data"
    },
    {
     "data": {
      "text/markdown": [
       "<a href=\"https://www.expansion.com/empresas/banca/2020/06/30/5efa5b5c468aeb32558b45ba.html\">Link</a>"
      ],
      "text/plain": [
       "<IPython.core.display.Markdown object>"
      ]
     },
     "metadata": {},
     "output_type": "display_data"
    },
    {
     "name": "stdout",
     "output_type": "stream",
     "text": [
      "\n",
      "\n",
      "\u001b[1m\u001b[32mEXPANSION\u001b[0m\n",
      "\u001b[1m\u001b[30mTue, 30 Jun 2020 00:37:16 +0200\u001b[0m\n",
      "\u001b[1m\u001b[35mSantander alerta de una exposición de 600 millones a la quiebra de la aerolínea chilena Latam\u001b[0m\n",
      "\u001b[34mHeadline\u001b[0m\n",
      "La filial chilena, con un riesgo de 490 millones, y la matriz española, con otros 125 millones, se sitúan entre los seis mayores acreedores sin garantías.\n",
      "\u001b[34mSummarise\u001b[0m\n",
      "\u001b[31mPremium Content\u001b[0m\n",
      "\u001b[34mText\u001b[0m\n",
      "La filial chilena, con un riesgo de 490 millones, y la matriz española, con otros 125 millones, se sitúan entre los seis mayores acreedores sin garantías. Santander alerta contra la factura que la recesión económica provocada por el coronavirus está pasando a su negocio, en esta ocasión, en Chile. Tras el aviso lanzado hace mes y medio sobre el impacto de la pandemia en sus filiales mexicana y estadoun Para seguir leyendo, hágase Premium ¿Ya es Premium? Inicie sesión Mensual primer mes después 14,99€   Anual primer mes después 7,50€/mes (Pago único de 90€)\n",
      " 4 meses gratis  Descubra qué es Premium   Cancele cuando quiera    Consulte los términos y condiciones del servicio  \n"
     ]
    },
    {
     "data": {
      "text/html": [
       "<img src=\"https://e00-expansion.uecdn.es/assets/multimedia/imagenes/2020/06/29/15934553928513.jpg\" width=\"500\"/>"
      ],
      "text/plain": [
       "<IPython.core.display.Image object>"
      ]
     },
     "metadata": {},
     "output_type": "display_data"
    },
    {
     "data": {
      "text/markdown": [
       "<a href=\"https://www.expansion.com/empresas/banca/2020/06/29/5efa359ce5fdea37498b45df.html\">Link</a>"
      ],
      "text/plain": [
       "<IPython.core.display.Markdown object>"
      ]
     },
     "metadata": {},
     "output_type": "display_data"
    },
    {
     "name": "stdout",
     "output_type": "stream",
     "text": [
      "\n",
      "\n",
      "\u001b[1m\u001b[32mEXPANSION\u001b[0m\n",
      "\u001b[1m\u001b[30mTue, 30 Jun 2020 00:12:48 +0200\u001b[0m\n",
      "\u001b[1m\u001b[35mWirecard se dispara un 154% por el interés del capital riesgo en sus activos\u001b[0m\n",
      "\u001b[34mHeadline\u001b[0m\n",
      "También sobrevuela la compañía el gigante francés Worldline, que en febrero adquirió Ingenico, competidor directo, en una operación valorada en 7.800 millones de euros.\n",
      "\u001b[34mSummarise\u001b[0m\n",
      "\u001b[31mPremium Content\u001b[0m\n",
      "\u001b[34mText\u001b[0m\n",
      "También sobrevuela la compañía el gigante francés Worldline, que en febrero adquirió Ingenico, competidor directo, en una operación valorada en 7.800 millones de euros. La quiebra de Wirecard ha despertado el apetito del capital riesgo por parte de sus activos. La firma alemana, que se dedica a liquidar pagos electrónicos de ecommerce con los bancos, es una de las grandes a nivel europeo y llegó a valer en Bolsa 25. Para seguir leyendo, hágase Premium ¿Ya es Premium? Inicie sesión Mensual primer mes después 14,99€   Anual primer mes después 7,50€/mes (Pago único de 90€)\n",
      " 4 meses gratis  Descubra qué es Premium   Cancele cuando quiera    Consulte los términos y condiciones del servicio  \n"
     ]
    },
    {
     "data": {
      "text/html": [
       "<img src=\"https://e00-expansion.uecdn.es/assets/multimedia/imagenes/2020/06/29/15934561524674.jpg\" width=\"500\"/>"
      ],
      "text/plain": [
       "<IPython.core.display.Image object>"
      ]
     },
     "metadata": {},
     "output_type": "display_data"
    },
    {
     "data": {
      "text/markdown": [
       "<a href=\"https://www.expansion.com/empresas/banca/2020/06/30/5efa3a4ce5fdeafd728b45fa.html\">Link</a>"
      ],
      "text/plain": [
       "<IPython.core.display.Markdown object>"
      ]
     },
     "metadata": {},
     "output_type": "display_data"
    },
    {
     "name": "stdout",
     "output_type": "stream",
     "text": [
      "\n",
      "\n",
      "\u001b[1m\u001b[32mEXPANSION\u001b[0m\n",
      "\u001b[1m\u001b[30mMon, 29 Jun 2020 16:17:34 +0200\u001b[0m\n",
      "\u001b[1m\u001b[35mSoftBank obtendrá una plusvalía de 5.000 millones con la venta de su participación en T-Mobile\u001b[0m\n",
      "\u001b[34mHeadline\u001b[0m\n",
      "El grupo dirigido por Masayoshi Son había adelantado el pasado 23 de junio su intención de desprenderse del 65% de su participación en T-Mobile.\n",
      "\u001b[34mSummarise\u001b[0m\n",
      "El conglomerado japonés SoftBank espera contabilizar una plusvalía de 600.000 millones de yenes (4.952 millones de euros) por la venta de 198,3 millones de acciones de T-Mobile US, el equivalente a dos terceras partes de su participación en la operadora estadounidense, tras lo que la compañía llevará a cabo una recompra de bonos de hasta 200.000 millones de yenes (1.650 millones de euros) para reducir su endeudamiento.\n",
      "El grupo dirigido por Masayoshi Son había adelantado el pasado 23 de junio su intención de desprenderse del 65% de su participación en T-Mobile US en una operación valorada en unos 21.000 millones de dólares (18.623 millones de euros) que fue completada el pasado viernes.\n",
      "\u001b[34mText\u001b[0m\n",
      "El grupo dirigido por Masayoshi Son había adelantado el pasado 23 de junio su intención de desprenderse del 65% de su participación en T-Mobile. El conglomerado japonés SoftBank espera contabilizar una plusvalía de 600.000 millones de yenes (4.952 millones de euros) por la venta de 198,3 millones de acciones de T-Mobile US, el equivalente a dos terceras partes de su participación en la operadora estadounidense, tras lo que la compañía llevará a cabo una recompra de bonos de hasta 200.000 millones de yenes (1.650 millones de euros) para reducir su endeudamiento.   \"Esta plusvalía consiste de la ganancia por la venta de acciones y la revaluación del valor de las acciones que continúa ostentando SoftBank Group\", precisó la compañía.   El grupo dirigido por Masayoshi Son había adelantado el pasado 23 de junio su intención de desprenderse del 65% de su participación en T-Mobile US en una operación valorada en unos 21.000 millones de dólares (18.623 millones de euros) que fue completada el pasado viernes.   Asimismo, el grupo nipón ha informado de que entre el 30 de junio y el 17 de julio de 2020 llevará a cabo la recompra de un máximo de 200.000 millones de yenes en deuda subordinada no garantizada de la compañía.   La semana pasada, la compañía japonesa anunció que invertirá hasta 500.000 millones de yenes (4.151 millones de euros) en la recompra de un máximo de 115 millones de acciones de la compañía entre el 26 de junio de 2020 y el 31 de marzo de 2021 como parte del plan para reducir sus activos en 4,5 billones de yenes (38.834 millones de euros) con el objetivo de rebajar su nivel de deuda y aumentar sus reservas de liquidez. \n"
     ]
    },
    {
     "data": {
      "text/html": [
       "<img src=\"https://e00-expansion.uecdn.es/assets/multimedia/imagenes/2020/06/29/15934401759376.jpg\" width=\"500\"/>"
      ],
      "text/plain": [
       "<IPython.core.display.Image object>"
      ]
     },
     "metadata": {},
     "output_type": "display_data"
    },
    {
     "data": {
      "text/markdown": [
       "<a href=\"https://www.expansion.com/empresas/banca/2020/06/29/5ef9f7f3468aebd0768b45d9.html\">Link</a>"
      ],
      "text/plain": [
       "<IPython.core.display.Markdown object>"
      ]
     },
     "metadata": {},
     "output_type": "display_data"
    },
    {
     "name": "stdout",
     "output_type": "stream",
     "text": [
      "\n",
      "\n",
      "\u001b[1m\u001b[32mEXPANSION\u001b[0m\n",
      "\u001b[1m\u001b[30mMon, 29 Jun 2020 12:02:29 +0200\u001b[0m\n",
      "\u001b[1m\u001b[35mLa banca europea clausurará 40.000 sucursales o el 25% de su red en tres años\u001b[0m\n",
      "\u001b[34mHeadline\u001b[0m\n",
      "La banca europea clausurará 40.000 sucursales o el 25% de su red en los próximos tres años ante el menor rol que las oficinas van a tener para los clientes a tenor del avance de la adopción digital en el sector financiero, acelerado por el efecto del confinamiento durante la pandemia del Covid-19.\n",
      "\u001b[34mSummarise\u001b[0m\n",
      "La banca europea clausurará 40.000 sucursales o el 25% de su red en los próximos tres años ante el menor rol que las oficinas van a tener para los clientes a tenor del avance de la adopción digital en el sector financiero, acelerado por el efecto del confinamiento durante la pandemia del Covid-19.\n",
      "Según Kearney, el 70% de las operaciones bancarias más comunes en Europa se realizará online en tres años y los contact centers digitales \"se convertirán en el primer punto de contacto de los clientes de la banca\".\n",
      "\u001b[34mText\u001b[0m\n",
      "La banca europea clausurará 40.000 sucursales o el 25% de su red en los próximos tres años ante el menor rol que las oficinas van a tener para los clientes a tenor del avance de la adopción digital en el sector financiero, acelerado por el efecto del confinamiento durante la pandemia del Covid-19. Se trata de una de las principales conclusiones del 'Radar de la Banca Europea' que elabora anualmente la consultora y cuya última edición ha divulgado este lunes. Se trataría de acelerar un proceso que ya ha venido protagonizando el sector en los últimos años. Solo entre 2009 y 2019 el número de sucursales ha caído desde 240.000 a 165.000 en toda Europa.  El estudio prevé que el ajuste varíe según el país, ya que en los últimos años algunos mercados ya han recortado significativamente el número de sucursales, y espera que las sucursales bancarias cuenten principalmente con asesores altamente cualificados para centrarse en productos más complejos, como hipotecas, seguros de vida, pensiones y asesoramiento de inversiones.  Buena parte del nuevo ajuste en la red de sucursales vendrá influído por la necesidad de economizar costes para encarar la crisis provocada por el Covid-19. La consultora cree que la banca española necesita ajustar sus costes entre 2.000 y 3.000 millones de euros, y el conjunto de la banca europea se enfrenta al reto de reducir los suyos \"en más de 35.000 millones de euros para aminorar el efecto de la crisis desencadenada por la pandemia\".  Pero igualmente valorar la aceleración en la digitalización de servicios financieros y hábitos de los clientes con el confinamiento. Según Kearney, el 70% de las operaciones bancarias más comunes en Europa se realizará online en tres años y los contact centers digitales \"se convertirán en el primer punto de contacto de los clientes de la banca\".  Conforme a sus estimaciones, en la actualidad un 53% de los europeos acude a internet para informarse y adquirir productos y servicios bancarios y la cifra subirá al 65% en el año 2025. En el caso de las operaciones como aperturas de cuentas bancarias, créditos de consumo o solicitudes de las tarjetas de crédito, se estima que el 70% de las mismas se realizará online en los próximos tres años.  Según el presidente de Kearney en España, Pedro Mateache, los consumidores \"han demostrado que pueden interactuar con los bancos de forma digital\" con el confinamiento y esto supone \"una gran oportunidad para el sector financiero de avanzar en la digitalización de sus servicios, especialmente desde la perspectiva de revisar y mejorar sus procesos de experiencia del cliente\".  A la vez que la sucursal tendrá tendencia a mutar hacia un espacio con gestores especializados, la consultora cree que, en un futuro, \"muchos clientes que aún desean hablar con alguien en persona serán más propensos a utilizar el servicio de atención al cliente, ya sea a través de webchat, vídeollamadas, chatbots o por teléfono, que visitar una sucursal\".  Así los call centers podrían convertirse en el \"punto de contacto clave para los clientes de futuro\", al ofrecer una combinación entre acceso remoto y contacto personal, pudiendo asumir consultas más complejas y dar soporte adicional al canal online. \n"
     ]
    },
    {
     "data": {
      "text/html": [
       "<img src=\"https://e00-expansion.uecdn.es/assets/multimedia/imagenes/2020/06/29/15934248264297.jpg\" width=\"500\"/>"
      ],
      "text/plain": [
       "<IPython.core.display.Image object>"
      ]
     },
     "metadata": {},
     "output_type": "display_data"
    },
    {
     "data": {
      "text/markdown": [
       "<a href=\"https://www.expansion.com/empresas/banca/2020/06/29/5ef9bc29e5fdea35248b45df.html\">Link</a>"
      ],
      "text/plain": [
       "<IPython.core.display.Markdown object>"
      ]
     },
     "metadata": {},
     "output_type": "display_data"
    },
    {
     "name": "stdout",
     "output_type": "stream",
     "text": [
      "\n",
      "\n",
      "\u001b[1m\u001b[32mEXPANSION\u001b[0m\n",
      "\u001b[1m\u001b[30mMon, 29 Jun 2020 11:38:10 +0200\u001b[0m\n",
      "\u001b[1m\u001b[35mEl Banco de España 'congela' el colchón anticíclico hasta que el impacto del Covid se disipe\u001b[0m\n",
      "\u001b[34mHeadline\u001b[0m\n",
      "El Banco de España ha decidido no activar el colchón anticíclico que podía exigir a las entidades por su exposición crediticia ante la situación creada por el Covid-19 y lo mantendrá así \"por un período de tiempo prolongado\" o, al menos, \"hasta que los principales efectos económicos y financieros derivados de la crisis del coronavirus se hayan disipado y se haya retornado a una senda de recuperación\".\n",
      "\u001b[34mSummarise\u001b[0m\n",
      "El Banco de España ha decidido no activar el colchón anticíclico que podía exigir a las entidades por su exposición crediticia ante la situación creada por el Covid-19 y lo mantendrá así \"por un período de tiempo prolongado\" o, al menos, \"hasta que los principales efectos económicos y financieros derivados de la crisis del coronavirus se hayan disipado y se haya retornado a una senda de recuperación\".\n",
      "En la actual coyuntura el Banco de España detalla que la provisión de crédito a la economía real por parte de las entidades de crédito \"es una parte esencial de la estrategia para mitigar el impacto de la perturbación del coronavirus y asegurar que la reactivación económica se produce de la forma más rápida posible\".\n",
      "\u001b[34mText\u001b[0m\n",
      "El Banco de España ha decidido no activar el colchón anticíclico que podía exigir a las entidades por su exposición crediticia ante la situación creada por el Covid-19 y lo mantendrá así \"por un período de tiempo prolongado\" o, al menos, \"hasta que los principales efectos económicos y financieros derivados de la crisis del coronavirus se hayan disipado y se haya retornado a una senda de recuperación\". La decisión comunicada por el organismo este lunes tiene lugar después de que a finales del pasado año abriese la puerta precisamente a lo contrario, a requerir a las entidades acopiar provisiones y hacer hucha a la luz del comportamiento del crédito y sector inmobiliario.  Sin embargo, la situación creada por la pandemia ha decidido a las autoridades supervisoras y reguladoras precisamente a aliviar la carga de capital y liquidez a los bancos para que se vuelquen en ayudar a la reactivación, con la provisión de financiación que necesitan empresas y familias.  El colchón anticíclico es un instrumento macroprudencial por el que los supervisores pueden demandar acopiar recursos propios durante períodos expansivos a fin de que puedan ser liberado durante una fase subsiguiente de contracción. Al acumular recursos se refuerza la solvencia del sector durante las fases de crecimiento, que es cuando habitualmente se produce una acumulación de riesgos, y ayuda a mitigar la disminución del flujo de crédito nuevo a la economía cuando dichos riesgos se materializan.  En la actual coyuntura el Banco de España detalla que la provisión de crédito a la economía real por parte de las entidades de crédito \"es una parte esencial de la estrategia para mitigar el impacto de la perturbación del coronavirus y asegurar que la reactivación económica se produce de la forma más rápida posible\".  Si bien es una decisión que revisa de manera trimestral, el organismo prevé que continuarán 'congelado' en el 0% o no que reclamará la construcción de este colchón \"durante los próximos trimestres\".  Para evaluar si procede o no ponerlo en marcha, el organismo monitoriza un conjunto de indicadores macroeconómicos, que en la situación creada por el Covid-19 cree que podrían dar signos contradictorios por el impacto de la pandemia y las medidas que se están adoptando para mitigarlo. Por ello, avanza que prestará atención especial a otro tipo de indicadores como el de Riesgo Sistémico, que permite realizar un seguimiento en tiempo real del nivel estimado de las tensiones sistémicas en los mercados financieros. Este indicador repuntó bruscamente en España tras el estallido de la crisis y actualmente se encuentra estabilizado en niveles que sugieren un alto grado de estrés macrofinanciero, al igual que ocurre en el resto de países de nuestro entorno, detalló. \n"
     ]
    },
    {
     "data": {
      "text/html": [
       "<img src=\"https://e00-expansion.uecdn.es/assets/multimedia/imagenes/2020/06/29/15934233884379.jpg\" width=\"500\"/>"
      ],
      "text/plain": [
       "<IPython.core.display.Image object>"
      ]
     },
     "metadata": {},
     "output_type": "display_data"
    },
    {
     "data": {
      "text/markdown": [
       "<a href=\"https://www.expansion.com/empresas/banca/2020/06/29/5ef9b678e5fdea853c8b4626.html\">Link</a>"
      ],
      "text/plain": [
       "<IPython.core.display.Markdown object>"
      ]
     },
     "metadata": {},
     "output_type": "display_data"
    },
    {
     "name": "stdout",
     "output_type": "stream",
     "text": [
      "\n",
      "\n",
      "\u001b[1m\u001b[32mEXPANSION\u001b[0m\n",
      "\u001b[1m\u001b[30mMon, 29 Jun 2020 10:37:07 +0200\u001b[0m\n",
      "\u001b[1m\u001b[35mAndbank se alía con Inveready para ofrecer fondos de capital riesgo a sus clientes\u001b[0m\n",
      "\u001b[34mHeadline\u001b[0m\n",
      "El banco contará con un periodo de exclusividad en la comercialización de aquellos proyectos de inversión de Inveready que considere que pueden aportar valor a las carteras de los clientes de banca privada.\n",
      "\u001b[34mSummarise\u001b[0m\n",
      "El banco contará con un periodo de exclusividad en la comercialización de aquellos proyectos de inversión de Inveready que considere que pueden aportar valor a las carteras de los clientes de banca privada.\n",
      "Andbank España e Inveready han llegado a un acuerdo por el cual la sociedad gestora ofrecerá a los clientes de Andbank la inversión en los fondos de capital riesgo gestionados por Inveready.\n",
      "Andbank España contará con un periodo de exclusividad en la comercialización de aquellos proyectos de inversión de Inveready que considere que pueden aportar valor a las carteras de los clientes.\n",
      "\u001b[34mText\u001b[0m\n",
      "El banco contará con un periodo de exclusividad en la comercialización de aquellos proyectos de inversión de Inveready que considere que pueden aportar valor a las carteras de los clientes de banca privada. Andbank España e Inveready han llegado a un acuerdo por el cual la sociedad gestora ofrecerá a los clientes de Andbank la inversión en los fondos de capital riesgo gestionados por Inveready. Andbank España contará con un periodo de exclusividad en la comercialización de aquellos proyectos de inversión de Inveready que considere que pueden aportar valor a las carteras de los clientes. Andbank España lleva varios años distribuyendo con gran éxito oportunidades de inversión de Inveready en sus centros de banca privada. Entre ellos se encuentran: el fondo Inveready Convertible Finance, el Inveready First Capital III o Gaea Inversión. \"En nuestra génesis como gestora estaba democratizar el acceso al capital riesgo. Andbank es una de las bancas privadas pioneras en este aspecto, compartiendo esta visión al ofrecer a sus clientes este tipo de activo para descorrelacionar sus carteras y obtener retornos atractivos a largo plazo\", socio general de Inveready, Josep Maria Echarri. Por su parte, Carlos Aso, consejero delegado de Andbank España, considera que \"incrementar nuestras alianzas con la mejor gestora de venture capital nos permitirá ofrecer oportunidades de inversión únicas y exclusivas a nuestros clientes\" Inveready invierte en empresas de base tecnológica con diferentes estrategias de inversión: venture capital en tecnología digital, venture capital en ciencias de la salud, venture debt y obligaciones convertibles para empresas cotizadas en mercados alternativos europeos.  Andbank España, que cerró 2019 con un volumen de negocio de 10.600 millones de euros, cuenta en la actualidad con una red de 19 centros de banca privada, 105 agentes financieros y 60 contratos con ESIs. \n"
     ]
    },
    {
     "data": {
      "text/html": [
       "<img src=\"https://e00-expansion.uecdn.es/assets/multimedia/imagenes/2020/06/29/15934193265688.jpg\" width=\"500\"/>"
      ],
      "text/plain": [
       "<IPython.core.display.Image object>"
      ]
     },
     "metadata": {},
     "output_type": "display_data"
    },
    {
     "data": {
      "text/markdown": [
       "<a href=\"https://www.expansion.com/catalunya/2020/06/29/5ef9a827e5fdea37498b45b4.html\">Link</a>"
      ],
      "text/plain": [
       "<IPython.core.display.Markdown object>"
      ]
     },
     "metadata": {},
     "output_type": "display_data"
    },
    {
     "name": "stdout",
     "output_type": "stream",
     "text": [
      "\n",
      "\n"
     ]
    }
   ],
   "source": [
    "yesterday = datetime.datetime.today() - datetime.timedelta(days=1)\n",
    "before_yes = datetime.datetime.today() - datetime.timedelta(days=2)\n",
    "\n",
    "for i in list(expansion.keys()):\n",
    "    if expansion[i]['date']['date2'][2] in [datetime.datetime.today().day,yesterday.day,before_yes.day]:\n",
    "        print(colored((expansion[i]['newspaper']).upper(),'green',attrs=['bold']))\n",
    "        print(colored(expansion[i]['date']['date1'],'grey',attrs=['bold']))\n",
    "        print(colored(expansion[i]['title'],'magenta',attrs=['bold']))\n",
    "        print(colored('Headline','blue'))\n",
    "        print(expansion[i]['headline'])\n",
    "        print(colored('Summarise','blue'))\n",
    "        \n",
    "        if expansion[i]['summarise'] != 'Premium Content':\n",
    "            print(expansion[i]['summarise'])\n",
    "        else:\n",
    "            print(colored(expansion[i]['summarise'],'red'))\n",
    "        print(colored('Text','blue'))\n",
    "        print(expansion[i]['text'])\n",
    "        url = expansion[i]['img']\n",
    "        display(Image(url=url,width=500))\n",
    "        display(Markdown('<a href=\"'+expansion[i]['link']+'\">Link</a>'))\n",
    "        print('\\n')"
   ]
  },
  {
   "cell_type": "code",
   "execution_count": null,
   "metadata": {},
   "outputs": [],
   "source": []
  }
 ],
 "metadata": {
  "kernelspec": {
   "display_name": "Python 3",
   "language": "python",
   "name": "python3"
  },
  "language_info": {
   "codemirror_mode": {
    "name": "ipython",
    "version": 3
   },
   "file_extension": ".py",
   "mimetype": "text/x-python",
   "name": "python",
   "nbconvert_exporter": "python",
   "pygments_lexer": "ipython3",
   "version": "3.7.6"
  }
 },
 "nbformat": 4,
 "nbformat_minor": 4
}
