{
 "cells": [
  {
   "cell_type": "markdown",
   "metadata": {},
   "source": [
    "# Automated Term Extraction"
   ]
  },
  {
   "cell_type": "code",
   "execution_count": 2,
   "metadata": {},
   "outputs": [
    {
     "name": "stdout",
     "output_type": "stream",
     "text": [
      "Collecting pyate\n",
      "  Downloading pyate-0.3.9.tar.gz (3.7 MB)\n",
      "Collecting pandas==1.0.3\n",
      "  Downloading pandas-1.0.3-cp37-cp37m-win_amd64.whl (8.7 MB)\n",
      "Collecting numpy==1.18.4\n",
      "  Downloading numpy-1.18.4-cp37-cp37m-win_amd64.whl (12.8 MB)\n",
      "Collecting spacy==2.2.4\n",
      "  Downloading spacy-2.2.4-cp37-cp37m-win_amd64.whl (9.9 MB)\n",
      "Collecting pyahocorasick==1.4.0\n",
      "  Downloading pyahocorasick-1.4.0.tar.gz (312 kB)\n",
      "Requirement already satisfied: python-dateutil>=2.6.1 in c:\\users\\aranc\\anaconda3\\lib\\site-packages (from pandas==1.0.3->pyate) (2.8.1)\n",
      "Requirement already satisfied: pytz>=2017.2 in c:\\users\\aranc\\anaconda3\\lib\\site-packages (from pandas==1.0.3->pyate) (2019.3)\n",
      "Collecting murmurhash<1.1.0,>=0.28.0\n",
      "  Downloading murmurhash-1.0.2-cp37-cp37m-win_amd64.whl (20 kB)\n",
      "Collecting plac<1.2.0,>=0.9.6\n",
      "  Downloading plac-1.1.3-py2.py3-none-any.whl (20 kB)\n",
      "Collecting srsly<1.1.0,>=1.0.2\n",
      "  Downloading srsly-1.0.2-cp37-cp37m-win_amd64.whl (179 kB)\n",
      "Collecting catalogue<1.1.0,>=0.0.7\n",
      "  Downloading catalogue-1.0.0-py2.py3-none-any.whl (7.7 kB)\n",
      "Requirement already satisfied: requests<3.0.0,>=2.13.0 in c:\\users\\aranc\\anaconda3\\lib\\site-packages (from spacy==2.2.4->pyate) (2.22.0)\n",
      "Collecting wasabi<1.1.0,>=0.4.0\n",
      "  Downloading wasabi-0.7.1.tar.gz (22 kB)\n",
      "Collecting thinc==7.4.0\n",
      "  Downloading thinc-7.4.0-cp37-cp37m-win_amd64.whl (2.1 MB)\n",
      "Requirement already satisfied: tqdm<5.0.0,>=4.38.0 in c:\\users\\aranc\\anaconda3\\lib\\site-packages (from spacy==2.2.4->pyate) (4.42.1)\n",
      "Requirement already satisfied: setuptools in c:\\users\\aranc\\anaconda3\\lib\\site-packages (from spacy==2.2.4->pyate) (47.3.1)\n",
      "Collecting preshed<3.1.0,>=3.0.2\n",
      "  Downloading preshed-3.0.2-cp37-cp37m-win_amd64.whl (105 kB)\n",
      "Collecting blis<0.5.0,>=0.4.0\n",
      "  Downloading blis-0.4.1-cp37-cp37m-win_amd64.whl (5.0 MB)\n",
      "Collecting cymem<2.1.0,>=2.0.2\n",
      "  Downloading cymem-2.0.3-cp37-cp37m-win_amd64.whl (32 kB)\n",
      "Requirement already satisfied: six>=1.5 in c:\\users\\aranc\\anaconda3\\lib\\site-packages (from python-dateutil>=2.6.1->pandas==1.0.3->pyate) (1.14.0)\n",
      "Requirement already satisfied: importlib-metadata>=0.20; python_version < \"3.8\" in c:\\users\\aranc\\anaconda3\\lib\\site-packages (from catalogue<1.1.0,>=0.0.7->spacy==2.2.4->pyate) (1.5.0)\n",
      "Requirement already satisfied: chardet<3.1.0,>=3.0.2 in c:\\users\\aranc\\anaconda3\\lib\\site-packages (from requests<3.0.0,>=2.13.0->spacy==2.2.4->pyate) (3.0.4)\n",
      "Requirement already satisfied: certifi>=2017.4.17 in c:\\users\\aranc\\anaconda3\\lib\\site-packages (from requests<3.0.0,>=2.13.0->spacy==2.2.4->pyate) (2019.11.28)\n",
      "Requirement already satisfied: urllib3!=1.25.0,!=1.25.1,<1.26,>=1.21.1 in c:\\users\\aranc\\anaconda3\\lib\\site-packages (from requests<3.0.0,>=2.13.0->spacy==2.2.4->pyate) (1.25.8)\n",
      "Requirement already satisfied: idna<2.9,>=2.5 in c:\\users\\aranc\\anaconda3\\lib\\site-packages (from requests<3.0.0,>=2.13.0->spacy==2.2.4->pyate) (2.8)\n",
      "Requirement already satisfied: zipp>=0.5 in c:\\users\\aranc\\anaconda3\\lib\\site-packages (from importlib-metadata>=0.20; python_version < \"3.8\"->catalogue<1.1.0,>=0.0.7->spacy==2.2.4->pyate) (2.2.0)\n",
      "Building wheels for collected packages: pyate, pyahocorasick, wasabi\n",
      "  Building wheel for pyate (setup.py): started\n",
      "  Building wheel for pyate (setup.py): finished with status 'done'\n",
      "  Created wheel for pyate: filename=pyate-0.3.9-py3-none-any.whl size=3758917 sha256=4a7a893a75713d89832d26ac9c73a1c0f7debab1365e2c7353eb2f528f8424aa\n",
      "  Stored in directory: c:\\users\\aranc\\appdata\\local\\pip\\cache\\wheels\\89\\b4\\e4\\bc9f45d6d26843aa3c9b156015a5ef16e2713cac53503cda25\n",
      "  Building wheel for pyahocorasick (setup.py): started\n",
      "  Building wheel for pyahocorasick (setup.py): finished with status 'error'\n",
      "  Running setup.py clean for pyahocorasick\n",
      "  Building wheel for wasabi (setup.py): started\n",
      "  Building wheel for wasabi (setup.py): finished with status 'done'\n",
      "  Created wheel for wasabi: filename=wasabi-0.7.1-py3-none-any.whl size=20841 sha256=c32ba7e2345679c1f8cf969d7c48019143257341564311916e2a90f465e8e44c\n",
      "  Stored in directory: c:\\users\\aranc\\appdata\\local\\pip\\cache\\wheels\\dc\\5e\\d4\\727b6213e9ebec502ff1bf5998f4a83fef87c3aace8a492243\n",
      "Successfully built pyate wasabi\n",
      "Failed to build pyahocorasick\n",
      "Installing collected packages: numpy, pandas, murmurhash, plac, srsly, catalogue, wasabi, cymem, preshed, blis, thinc, spacy, pyahocorasick, pyate\n",
      "  Attempting uninstall: numpy\n",
      "    Found existing installation: numpy 1.18.1\n",
      "    Uninstalling numpy-1.18.1:\n",
      "      Successfully uninstalled numpy-1.18.1\n",
      "  Attempting uninstall: pandas\n",
      "    Found existing installation: pandas 0.23.4\n",
      "    Uninstalling pandas-0.23.4:\n",
      "      Successfully uninstalled pandas-0.23.4\n",
      "    Running setup.py install for pyahocorasick: started\n",
      "    Running setup.py install for pyahocorasick: finished with status 'error'\n"
     ]
    },
    {
     "name": "stderr",
     "output_type": "stream",
     "text": [
      "  ERROR: Command errored out with exit status 1:\n",
      "   command: 'c:\\users\\aranc\\anaconda3\\python.exe' -u -c 'import sys, setuptools, tokenize; sys.argv[0] = '\"'\"'C:\\\\Users\\\\aranc\\\\AppData\\\\Local\\\\Temp\\\\pip-install-nyesqtvg\\\\pyahocorasick\\\\setup.py'\"'\"'; __file__='\"'\"'C:\\\\Users\\\\aranc\\\\AppData\\\\Local\\\\Temp\\\\pip-install-nyesqtvg\\\\pyahocorasick\\\\setup.py'\"'\"';f=getattr(tokenize, '\"'\"'open'\"'\"', open)(__file__);code=f.read().replace('\"'\"'\\r\\n'\"'\"', '\"'\"'\\n'\"'\"');f.close();exec(compile(code, __file__, '\"'\"'exec'\"'\"'))' bdist_wheel -d 'C:\\Users\\aranc\\AppData\\Local\\Temp\\pip-wheel-wci69opg'\n",
      "       cwd: C:\\Users\\aranc\\AppData\\Local\\Temp\\pip-install-nyesqtvg\\pyahocorasick\\\n",
      "  Complete output (5 lines):\n",
      "  running bdist_wheel\n",
      "  running build\n",
      "  running build_ext\n",
      "  building 'ahocorasick' extension\n",
      "  error: Microsoft Visual C++ 14.0 is required. Get it with \"Build Tools for Visual Studio\": https://visualstudio.microsoft.com/downloads/\n",
      "  ----------------------------------------\n",
      "  ERROR: Failed building wheel for pyahocorasick\n",
      "    ERROR: Command errored out with exit status 1:\n",
      "     command: 'c:\\users\\aranc\\anaconda3\\python.exe' -u -c 'import sys, setuptools, tokenize; sys.argv[0] = '\"'\"'C:\\\\Users\\\\aranc\\\\AppData\\\\Local\\\\Temp\\\\pip-install-nyesqtvg\\\\pyahocorasick\\\\setup.py'\"'\"'; __file__='\"'\"'C:\\\\Users\\\\aranc\\\\AppData\\\\Local\\\\Temp\\\\pip-install-nyesqtvg\\\\pyahocorasick\\\\setup.py'\"'\"';f=getattr(tokenize, '\"'\"'open'\"'\"', open)(__file__);code=f.read().replace('\"'\"'\\r\\n'\"'\"', '\"'\"'\\n'\"'\"');f.close();exec(compile(code, __file__, '\"'\"'exec'\"'\"'))' install --record 'C:\\Users\\aranc\\AppData\\Local\\Temp\\pip-record-10wsa099\\install-record.txt' --single-version-externally-managed --compile --install-headers 'c:\\users\\aranc\\anaconda3\\Include\\pyahocorasick'\n",
      "         cwd: C:\\Users\\aranc\\AppData\\Local\\Temp\\pip-install-nyesqtvg\\pyahocorasick\\\n",
      "    Complete output (5 lines):\n",
      "    running install\n",
      "    running build\n",
      "    running build_ext\n",
      "    building 'ahocorasick' extension\n",
      "    error: Microsoft Visual C++ 14.0 is required. Get it with \"Build Tools for Visual Studio\": https://visualstudio.microsoft.com/downloads/\n",
      "    ----------------------------------------\n",
      "ERROR: Command errored out with exit status 1: 'c:\\users\\aranc\\anaconda3\\python.exe' -u -c 'import sys, setuptools, tokenize; sys.argv[0] = '\"'\"'C:\\\\Users\\\\aranc\\\\AppData\\\\Local\\\\Temp\\\\pip-install-nyesqtvg\\\\pyahocorasick\\\\setup.py'\"'\"'; __file__='\"'\"'C:\\\\Users\\\\aranc\\\\AppData\\\\Local\\\\Temp\\\\pip-install-nyesqtvg\\\\pyahocorasick\\\\setup.py'\"'\"';f=getattr(tokenize, '\"'\"'open'\"'\"', open)(__file__);code=f.read().replace('\"'\"'\\r\\n'\"'\"', '\"'\"'\\n'\"'\"');f.close();exec(compile(code, __file__, '\"'\"'exec'\"'\"'))' install --record 'C:\\Users\\aranc\\AppData\\Local\\Temp\\pip-record-10wsa099\\install-record.txt' --single-version-externally-managed --compile --install-headers 'c:\\users\\aranc\\anaconda3\\Include\\pyahocorasick' Check the logs for full command output.\n"
     ]
    }
   ],
   "source": [
    "! pip install pyate"
   ]
  },
  {
   "cell_type": "code",
   "execution_count": null,
   "metadata": {},
   "outputs": [],
   "source": []
  }
 ],
 "metadata": {
  "kernelspec": {
   "display_name": "Python 3",
   "language": "python",
   "name": "python3"
  },
  "language_info": {
   "codemirror_mode": {
    "name": "ipython",
    "version": 3
   },
   "file_extension": ".py",
   "mimetype": "text/x-python",
   "name": "python",
   "nbconvert_exporter": "python",
   "pygments_lexer": "ipython3",
   "version": "3.7.6"
  }
 },
 "nbformat": 4,
 "nbformat_minor": 4
}
