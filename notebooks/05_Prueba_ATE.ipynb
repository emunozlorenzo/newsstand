{
 "cells": [
  {
   "cell_type": "markdown",
   "metadata": {},
   "source": [
    "# Automated Term Extraction"
   ]
  },
  {
   "cell_type": "code",
   "execution_count": 52,
   "metadata": {},
   "outputs": [],
   "source": [
    "from pyate import combo_basic\n",
    "import googletrans\n",
    "import feedparser\n",
    "from urllib.request import urlopen\n",
    "from bs4 import BeautifulSoup\n",
    "\n",
    "\n",
    "\n",
    "def get_only_text(url):\n",
    "    \n",
    "    \"\"\"\n",
    "    return the title and the text of the article at the \n",
    "    specified url\n",
    "    \"\"\"\n",
    "    \n",
    "    page=urlopen(url)\n",
    "    soup=BeautifulSoup(page,\"html.parser\")\n",
    "    text=' '.join(map(lambda p: p.text, soup.find_all('p')))\n",
    "    # Eliminar Última Hora\n",
    "    rest = soup.find_all('p', attrs={'class' : \"line-clamp_x2 ue-c-widget__article-headline\"})[0].text\n",
    "    index = text.find(rest)\n",
    "    final_text = text[:index]\n",
    "    return [final_text,soup.title.text]"
   ]
  },
  {
   "cell_type": "code",
   "execution_count": 53,
   "metadata": {},
   "outputs": [
    {
     "name": "stdout",
     "output_type": "stream",
     "text": [
      "Total Entradas Expansión: 35\n"
     ]
    }
   ],
   "source": [
    "url_expansion = 'https://e00-expansion.uecdn.es/rss/empresasbanca.xml'\n",
    "expansion = feedparser.parse(url_expansion)\n",
    "expansion_entries = expansion['entries']\n",
    "\n",
    "print('Total Entradas Expansión:',len(expansion_entries))"
   ]
  },
  {
   "cell_type": "code",
   "execution_count": 74,
   "metadata": {},
   "outputs": [],
   "source": [
    "string_es = get_only_text(expansion_entries[1]['id'])[0]"
   ]
  },
  {
   "cell_type": "code",
   "execution_count": 75,
   "metadata": {},
   "outputs": [
    {
     "data": {
      "text/plain": [
       "'Bankia ha incorporado a Raimundo Sala, hasta ahora primer ejecutivo de PayPal para Desarrollo de Negocio Internacional, con el fin de reforzar el proceso de transformación digital que está llevando a cabo la entidad desde hace ya algunos años, como adelantó EXPANSIÓN.  Sala ha sido nombrado director corporativo de Soluciones de Negocio de Bankia, una dirección de nueva creación y que será clave para el desarrollo de los medios de pago en el ecosistema digital, además de los nuevos negocios relacionados con el mundo online. Reportará directamente a la Dirección General Adjunta de Banca de Particulares, a cuyo frente está Eugenio Solla. \"Es para mi todo un reto profesional contribuir a la transformación digital Bankia desde la Dirección de Soluciones de Negocio. Estoy seguro de que vamos a ofrecer la mejor experiencia de cliente en el ámbito de los pagos digitales, que actualmente está experimentando una rápida y profunda evolución y que es fundamental para cumplir nuestro compromiso de marca de hacer la vida fácil a nuestros clientes\", ha afirmado Sala. Bajo su responsabilidad estará el negocio de medios de pago, un área estratégica para la entidad, ya que es clave en el proceso de digitalización de los clientes, en la mejora de la experiencia de éstos en su relación con el banco y en todo lo relacionado con el comercio electrónico, para lo cual el desarrollo de las pasarelas de pago digitales es clave. Todo ello, sin olvidar el negocio vinculado a las tarjetas de débito y crédito, TPVs (datáfonos de los comercios) y cajeros automáticos. Además, Sala será el encargado de potenciar las iniciativas de Bankia en el entorno del \\'open business\\', la búsqueda de nuevos modelos de negocio en el ámbito digital y el desarrollo de la venta relacional. Sala es licenciado en administración y dirección de empresas por la Universidad de Alicante y la Hocheschool Zeeland de Holanda y cuenta con un máster por UCLA y PDG por el IESE. Desde 2015 y hasta su incorporación a Bankia, Sala fue primer ejecutivo de PayPal en Desarrollo de Negocio Internacional. Anteriormente, fue director de Ventas de PayPal España y Portugal, siendo responsable de la estrategia comercial para pequeñas, grandes y medianas empresas. '"
      ]
     },
     "execution_count": 75,
     "metadata": {},
     "output_type": "execute_result"
    }
   ],
   "source": [
    "string_es"
   ]
  },
  {
   "cell_type": "code",
   "execution_count": 78,
   "metadata": {},
   "outputs": [
    {
     "name": "stdout",
     "output_type": "stream",
     "text": [
      "international business development    2.397225\n",
      "international business                2.136294\n",
      "business development                  2.136294\n",
      "digital transformation                2.136294\n",
      "business phone                        1.443147\n",
      "dtype: float64\n"
     ]
    }
   ],
   "source": [
    "string = googletrans.Translator().translate(string_es,dest='en').text\n",
    "print(combo_basic(string).sort_values(ascending=False).head(5))"
   ]
  },
  {
   "cell_type": "code",
   "execution_count": 77,
   "metadata": {},
   "outputs": [
    {
     "name": "stdout",
     "output_type": "stream",
     "text": [
      "### ENG ###\n",
      "digital transformation    2.136294\n",
      "phone numbers             1.443147\n",
      "transformation process    1.443147\n",
      "digital payment           1.443147\n",
      "payment gateways          1.443147\n",
      "dtype: float64\n",
      "### ESP ###\n",
      "transformación digital       2.136294\n",
      "números de teléfono          1.443147\n",
      "Proceso de transformación    1.443147\n",
      "pago digital                 1.443147\n",
      "Via de pago                  1.443147\n",
      "dtype: float64\n"
     ]
    }
   ],
   "source": [
    "import spacy\n",
    "from pyate.term_extraction_pipeline import TermExtractionPipeline\n",
    "\n",
    "nlp = spacy.load(\"en_core_web_sm\")\n",
    "nlp.add_pipe(TermExtractionPipeline())\n",
    "doc = nlp(string)\n",
    "print('### ENG ###')\n",
    "print(doc._.combo_basic.sort_values(ascending=False).head(5))\n",
    "doc._.combo_basic.index = [googletrans.Translator().translate(i,dest='es').text for i in doc._.combo_basic.index]\n",
    "print('### ESP ###')\n",
    "print(doc._.combo_basic.sort_values(ascending=False).head(5))"
   ]
  },
  {
   "cell_type": "code",
   "execution_count": null,
   "metadata": {},
   "outputs": [],
   "source": []
  }
 ],
 "metadata": {
  "kernelspec": {
   "display_name": "Python 3",
   "language": "python",
   "name": "python3"
  },
  "language_info": {
   "codemirror_mode": {
    "name": "ipython",
    "version": 3
   },
   "file_extension": ".py",
   "mimetype": "text/x-python",
   "name": "python",
   "nbconvert_exporter": "python",
   "pygments_lexer": "ipython3",
   "version": "3.7.6"
  }
 },
 "nbformat": 4,
 "nbformat_minor": 4
}
