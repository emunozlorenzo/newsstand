{
 "cells": [
  {
   "cell_type": "markdown",
   "metadata": {},
   "source": [
    "# Automated Term Extraction"
   ]
  },
  {
   "cell_type": "code",
   "execution_count": 12,
   "metadata": {},
   "outputs": [],
   "source": [
    "from pyate import combo_basic\n",
    "import googletrans\n",
    "import feedparser\n",
    "from urllib.request import urlopen\n",
    "from bs4 import BeautifulSoup\n",
    "from gensim.summarization import keywords\n",
    "import gensim\n",
    "\n",
    "\n",
    "\n",
    "def get_only_text(url):\n",
    "    \n",
    "    \"\"\"\n",
    "    return the title and the text of the article at the \n",
    "    specified url\n",
    "    \"\"\"\n",
    "    \n",
    "    page=urlopen(url)\n",
    "    soup=BeautifulSoup(page,\"html.parser\")\n",
    "    text=' '.join(map(lambda p: p.text, soup.find_all('p')))\n",
    "    # Eliminar Última Hora\n",
    "    rest = soup.find_all('p', attrs={'class' : \"line-clamp_x2 ue-c-widget__article-headline\"})[0].text\n",
    "    index = text.find(rest)\n",
    "    final_text = text[:index]\n",
    "    return [final_text,soup.title.text]"
   ]
  },
  {
   "cell_type": "code",
   "execution_count": 2,
   "metadata": {},
   "outputs": [
    {
     "name": "stdout",
     "output_type": "stream",
     "text": [
      "Total Entradas Expansión: 35\n"
     ]
    }
   ],
   "source": [
    "url_expansion = 'https://e00-expansion.uecdn.es/rss/empresasbanca.xml'\n",
    "expansion = feedparser.parse(url_expansion)\n",
    "expansion_entries = expansion['entries']\n",
    "\n",
    "print('Total Entradas Expansión:',len(expansion_entries))"
   ]
  },
  {
   "cell_type": "code",
   "execution_count": 33,
   "metadata": {},
   "outputs": [],
   "source": [
    "string_es = get_only_text(expansion_entries[5]['id'])[0]"
   ]
  },
  {
   "cell_type": "code",
   "execution_count": 34,
   "metadata": {},
   "outputs": [
    {
     "data": {
      "text/plain": [
       "'En términos de resultados sería un impacto del 1% sobre el beneficio bruto previsto por el banco de inversión para el sector correspondiente al ejercicio 2022. Barclays limita a una horquilla entre 700 y 1.000 millones de euros el coste para la banca del dictamen emitido por el Tribunal de Justicia de la Unión Europea (TJUE) donde establece la obligación de devolver las cantidades cobradas en concepto de gastos de hipoteca que estén incluidas en cláusulas declaradas abusivas, salvo que el derecho nacional establezca lo contrario. En términos de resultados sería un impacto del 1% sobre el beneficio bruto previsto por el banco de inversión para el sector correspondiente al ejercicio 2022, ya que los litigios se prolongarán en el tiempo al tener los tribunales que pronunciarse caso por caso, tal y como prevé en un informe publicado este lunes.  Para efectuar el cálculo, el banco de inversión toma la hipótesis de que recurrirán el 50% de los clientes hipotecados cinco años antes de entrar en vigor la nueva ley hipotecaria, en junio de 2019; y los tribunales les darán la razón al 50% de ellos.  Sus analistas ven más opciones a que prosperen las demandas para recuperar el dinero pagado por comisiones de apertura, cuyo coste oscila entre el 0,5 y 5% del valor de préstamos, si el juez determina que no cubrían un servicio realmente prestado.  Sin embargo, recuerdan que las asociaciones de consumidores creen que también podrían pedir reintegros por los gastos notariales, de registro y otros costes asociados a la operación, excepto el impuesto de actos jurídicos documentados (IAJD) y reclamaban además su retroactividad durante 15 años. Barclays valora de forma positiva para el sector que el TJUE haya acotado la retroactividad a cinco años y que con su dictamen y el referido al indicador IRPH despeja el escenario de litigios para la banca en materia hipotecaria. No obstante, y dado que reclamar exige ir caso por caso, apunta que las potenciales demandas sobre los costes de constitución de los préstamos podrían prolongarse aún durante algunos años.  Por entidades, los menos afectados por el dictamen serían el Santander, BBVA y Caixabank y los más afectados Bankia, Sabadell y Bankinter. En el caso del Santander prevé una merma de entre el 0,1% y 0,2% del beneficio bruto en el año 2022 o de entre 15 y 23 millones de euros anuales y deja su previsión de beneficio en 11.874 millones de euros para el ejercicio 2022. La diferencia básicamente se explica en función de que los tribunales reconozcan solo las comisiones de apertura y obliguen a su devolución o incluyan algún otro coste.  En el caso de BBVA eleva el impacto a entre el 0,3 y 0,5% y reportaría una ganancia de 5.987 millones en el 2022. Supondría dejar de ganar entre 20 y 29 millones de euros al año. La cifra subiría a 21 y 31 millones en el caso de Caixabank, donde augura que ganará 2.116 millones para entonces y prevé un impacto de entre el 1 y 1,5%.  En Bankia y conforme a sus cálculos ganaría 481 millones para entonces. Prevé una merma de resultados de entre un 3,7 y 5,4%, o en una horquilla de 18 a 26 millones anuales. El beneficio del Sabadell se situaría en 685 millones y prevé un impacto de 2 al 3% (de 14 a 20 millones). En Bankinter espera que gane 427 millones y sufra una reducción de entre el 1,8 y 2,7% (de 8 a 11 millones) por la devolución de costes tras la sentencia del TJUE. '"
      ]
     },
     "execution_count": 34,
     "metadata": {},
     "output_type": "execute_result"
    }
   ],
   "source": [
    "string_es"
   ]
  },
  {
   "cell_type": "code",
   "execution_count": 35,
   "metadata": {},
   "outputs": [
    {
     "name": "stdout",
     "output_type": "stream",
     "text": [
      "gross profit       2.079442\n",
      "investment bank    2.079442\n",
      "new mortgage       1.443147\n",
      "acts tax           1.443147\n",
      "legal acts         1.443147\n",
      "dtype: float64\n"
     ]
    }
   ],
   "source": [
    "string = googletrans.Translator().translate(string_es,dest='en').text\n",
    "print(combo_basic(string).sort_values(ascending=False).head(5))"
   ]
  },
  {
   "cell_type": "code",
   "execution_count": 36,
   "metadata": {},
   "outputs": [
    {
     "name": "stdout",
     "output_type": "stream",
     "text": [
      "### ENG ###\n",
      "gross profit       2.079442\n",
      "investment bank    2.079442\n",
      "mortgage law       1.443147\n",
      "new mortgage       1.443147\n",
      "acts tax           1.443147\n",
      "dtype: float64\n",
      "### ESP ###\n",
      "beneficio bruto         2.079442\n",
      "Banco de inversiones    2.079442\n",
      "ley hipotecaria         1.443147\n",
      "nueva hipoteca          1.443147\n",
      "actúa impuesto          1.443147\n",
      "dtype: float64\n"
     ]
    }
   ],
   "source": [
    "import spacy\n",
    "from pyate.term_extraction_pipeline import TermExtractionPipeline\n",
    "\n",
    "nlp = spacy.load(\"en_core_web_sm\")\n",
    "nlp.add_pipe(TermExtractionPipeline())\n",
    "doc = nlp(string)\n",
    "print('### ENG ###')\n",
    "print(doc._.combo_basic.sort_values(ascending=False).head(5))\n",
    "doc._.combo_basic.index = [googletrans.Translator().translate(i,dest='es').text for i in doc._.combo_basic.index]\n",
    "print('### ESP ###')\n",
    "print(doc._.combo_basic.sort_values(ascending=False).head(5))"
   ]
  },
  {
   "cell_type": "code",
   "execution_count": 37,
   "metadata": {},
   "outputs": [
    {
     "data": {
      "text/plain": [
       "['mortgage',\n",
       " 'mortgaged',\n",
       " 'law',\n",
       " 'associations',\n",
       " 'associated',\n",
       " 'profit',\n",
       " 'bank',\n",
       " 'banks',\n",
       " 'banking',\n",
       " 'barclays',\n",
       " 'year',\n",
       " 'years',\n",
       " 'fees',\n",
       " 'actually',\n",
       " 'explained',\n",
       " 'requires',\n",
       " 'declared',\n",
       " 'cjeu',\n",
       " 'union',\n",
       " 'legal acts tax']"
      ]
     },
     "execution_count": 37,
     "metadata": {},
     "output_type": "execute_result"
    }
   ],
   "source": [
    "keywords(string).split('\\n')"
   ]
  },
  {
   "cell_type": "code",
   "execution_count": 38,
   "metadata": {},
   "outputs": [
    {
     "data": {
      "text/plain": [
       "[('mortgage', 0.2543473015361933),\n",
       " ('mortgaged', 0.2543473015361933),\n",
       " ('law', 0.20713738495718073),\n",
       " ('profit', 0.19455766881763562),\n",
       " ('associations', 0.19455766881763545),\n",
       " ('associated', 0.19455766881763545),\n",
       " ('bank', 0.16263987854102985),\n",
       " ('banks', 0.16263987854102985),\n",
       " ('banking', 0.16263987854102985),\n",
       " ('barclays', 0.16090141482775516),\n",
       " ('year', 0.15869003185265254),\n",
       " ('years', 0.15869003185265254),\n",
       " ('explained', 0.14797343825566717),\n",
       " ('actually', 0.14797343825566703),\n",
       " ('fees', 0.1479734382556669)]"
      ]
     },
     "execution_count": 38,
     "metadata": {},
     "output_type": "execute_result"
    }
   ],
   "source": [
    "gensim.summarization.keywords(string,split=True,scores=True,words=10)"
   ]
  },
  {
   "cell_type": "code",
   "execution_count": null,
   "metadata": {},
   "outputs": [],
   "source": []
  },
  {
   "cell_type": "code",
   "execution_count": null,
   "metadata": {},
   "outputs": [],
   "source": []
  }
 ],
 "metadata": {
  "kernelspec": {
   "display_name": "Python 3",
   "language": "python",
   "name": "python3"
  },
  "language_info": {
   "codemirror_mode": {
    "name": "ipython",
    "version": 3
   },
   "file_extension": ".py",
   "mimetype": "text/x-python",
   "name": "python",
   "nbconvert_exporter": "python",
   "pygments_lexer": "ipython3",
   "version": "3.7.6"
  }
 },
 "nbformat": 4,
 "nbformat_minor": 4
}
