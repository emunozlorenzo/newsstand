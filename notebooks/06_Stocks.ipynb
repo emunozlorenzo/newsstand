{
 "cells": [
  {
   "cell_type": "code",
   "execution_count": 6,
   "metadata": {},
   "outputs": [],
   "source": [
    "import yfinance as yf"
   ]
  },
  {
   "cell_type": "code",
   "execution_count": 39,
   "metadata": {},
   "outputs": [
    {
     "name": "stdout",
     "output_type": "stream",
     "text": [
      "- OPBK.MC: No data found, symbol may be delisted\n"
     ]
    },
    {
     "data": {
      "image/png": "[encoded data removed]",
      "text/plain": [
       "<Figure size 432x288 with 1 Axes>"
      ]
     },
     "metadata": {
      "needs_background": "light"
     },
     "output_type": "display_data"
    }
   ],
   "source": [
    "bbva = yf.Ticker(\"OPBK\")\n",
    "# get historical market data\n",
    "hist_bbva = bbva.history(period=\"6mo\")\n",
    "hist_bbva.tail()\n",
    "hist_bbva[['Close']].plot();"
   ]
  },
  {
   "cell_type": "code",
   "execution_count": 36,
   "metadata": {},
   "outputs": [
    {
     "data": {
      "image/png": "[encoded data removed]",
      "text/plain": [
       "<Figure size 432x288 with 1 Axes>"
      ]
     },
     "metadata": {
      "needs_background": "light"
     },
     "output_type": "display_data"
    }
   ],
   "source": [
    "san = yf.Ticker(\"SAN.MC\")\n",
    "# get historical market data\n",
    "hist_san = san.history(period=\"6mo\")\n",
    "hist_san.tail()\n",
    "hist_san[['Close']].plot();"
   ]
  },
  {
   "cell_type": "code",
   "execution_count": 37,
   "metadata": {},
   "outputs": [
    {
     "data": {
      "text/html": [
       "<div>\n",
       "<style scoped>\n",
       "    .dataframe tbody tr th:only-of-type {\n",
       "        vertical-align: middle;\n",
       "    }\n",
       "\n",
       "    .dataframe tbody tr th {\n",
       "        vertical-align: top;\n",
       "    }\n",
       "\n",
       "    .dataframe thead th {\n",
       "        text-align: right;\n",
       "    }\n",
       "</style>\n",
       "<table border=\"1\" class=\"dataframe\">\n",
       "  <thead>\n",
       "    <tr style=\"text-align: right;\">\n",
       "      <th></th>\n",
       "      <th>Open</th>\n",
       "      <th>High</th>\n",
       "      <th>Low</th>\n",
       "      <th>Close</th>\n",
       "      <th>Volume</th>\n",
       "      <th>Dividends</th>\n",
       "      <th>Stock Splits</th>\n",
       "    </tr>\n",
       "    <tr>\n",
       "      <th>Date</th>\n",
       "      <th></th>\n",
       "      <th></th>\n",
       "      <th></th>\n",
       "      <th></th>\n",
       "      <th></th>\n",
       "      <th></th>\n",
       "      <th></th>\n",
       "    </tr>\n",
       "  </thead>\n",
       "  <tbody>\n",
       "    <tr>\n",
       "      <th>2020-07-14</th>\n",
       "      <td>2.2350</td>\n",
       "      <td>2.2445</td>\n",
       "      <td>2.1915</td>\n",
       "      <td>2.2240</td>\n",
       "      <td>40772281</td>\n",
       "      <td>0.0</td>\n",
       "      <td>0</td>\n",
       "    </tr>\n",
       "    <tr>\n",
       "      <th>2020-07-15</th>\n",
       "      <td>2.2425</td>\n",
       "      <td>2.2985</td>\n",
       "      <td>2.1765</td>\n",
       "      <td>2.2670</td>\n",
       "      <td>80229768</td>\n",
       "      <td>0.0</td>\n",
       "      <td>0</td>\n",
       "    </tr>\n",
       "    <tr>\n",
       "      <th>2020-07-16</th>\n",
       "      <td>2.2640</td>\n",
       "      <td>2.2920</td>\n",
       "      <td>2.2365</td>\n",
       "      <td>2.2605</td>\n",
       "      <td>36430818</td>\n",
       "      <td>0.0</td>\n",
       "      <td>0</td>\n",
       "    </tr>\n",
       "    <tr>\n",
       "      <th>2020-07-17</th>\n",
       "      <td>2.2520</td>\n",
       "      <td>2.2590</td>\n",
       "      <td>2.1885</td>\n",
       "      <td>2.2150</td>\n",
       "      <td>73177683</td>\n",
       "      <td>0.0</td>\n",
       "      <td>0</td>\n",
       "    </tr>\n",
       "    <tr>\n",
       "      <th>2020-07-21</th>\n",
       "      <td>2.2285</td>\n",
       "      <td>2.3125</td>\n",
       "      <td>2.1845</td>\n",
       "      <td>2.1975</td>\n",
       "      <td>70237922</td>\n",
       "      <td>0.0</td>\n",
       "      <td>0</td>\n",
       "    </tr>\n",
       "  </tbody>\n",
       "</table>\n",
       "</div>"
      ],
      "text/plain": [
       "              Open    High     Low   Close    Volume  Dividends  Stock Splits\n",
       "Date                                                                         \n",
       "2020-07-14  2.2350  2.2445  2.1915  2.2240  40772281        0.0             0\n",
       "2020-07-15  2.2425  2.2985  2.1765  2.2670  80229768        0.0             0\n",
       "2020-07-16  2.2640  2.2920  2.2365  2.2605  36430818        0.0             0\n",
       "2020-07-17  2.2520  2.2590  2.1885  2.2150  73177683        0.0             0\n",
       "2020-07-21  2.2285  2.3125  2.1845  2.1975  70237922        0.0             0"
      ]
     },
     "execution_count": 37,
     "metadata": {},
     "output_type": "execute_result"
    }
   ],
   "source": [
    "hist_san.tail()"
   ]
  },
  {
   "cell_type": "code",
   "execution_count": null,
   "metadata": {},
   "outputs": [],
   "source": []
  }
 ],
 "metadata": {
  "kernelspec": {
   "display_name": "Python 3",
   "language": "python",
   "name": "python3"
  },
  "language_info": {
   "codemirror_mode": {
    "name": "ipython",
    "version": 3
   },
   "file_extension": ".py",
   "mimetype": "text/x-python",
   "name": "python",
   "nbconvert_exporter": "python",
   "pygments_lexer": "ipython3",
   "version": "3.7.6"
  }
 },
 "nbformat": 4,
 "nbformat_minor": 4
}
