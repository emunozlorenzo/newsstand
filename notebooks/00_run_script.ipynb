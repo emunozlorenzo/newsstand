{
 "cells": [
  {
   "cell_type": "code",
   "execution_count": 3,
   "metadata": {},
   "outputs": [
    {
     "name": "stdout",
     "output_type": "stream",
     "text": [
      "Cargando Entradas\n",
      "Desarrollando Diccionario\n",
      "Guardando Archivo Expansión\n",
      "Guardando Archivo General\n",
      "Cargando Entradas\n",
      "Desarrollando Diccionario\n",
      "Guardando Archivo Expansión\n",
      "Guardando Archivo General\n",
      "Cargando Entradas\n",
      "Desarrollando Diccionario\n",
      "Guardando Archivo Cinco Días\n",
      "Guardando Archivo General\n"
     ]
    }
   ],
   "source": [
    "!python ../src/expansion.py\n",
    "!python ../src/economista.py\n",
    "!python ../src/cincodias.py"
   ]
  },
  {
   "cell_type": "code",
   "execution_count": 6,
   "metadata": {},
   "outputs": [],
   "source": [
    "!pipreqs ../"
   ]
  },
  {
   "cell_type": "code",
   "execution_count": 3,
   "metadata": {},
   "outputs": [
    {
     "name": "stdout",
     "output_type": "stream",
     "text": [
      "Guardando Archivo General\n"
     ]
    }
   ],
   "source": [
    "#import json\n",
    "#dict_data = {\"expansion\":None,\"economista\":None,\"cincodias\":None}\n",
    "#print('Guardando Archivo General')\n",
    "#with open('../data/data.json', 'w') as fp:\n",
    "#    json.dump(dict_data, fp)"
   ]
  },
  {
   "cell_type": "code",
   "execution_count": 26,
   "metadata": {},
   "outputs": [],
   "source": [
    "import feedparser\n",
    "from gensim.summarization.summarizer import summarize\n",
    "from gensim.summarization import keywords\n",
    "import urllib.request\n",
    "from urllib.request import urlopen\n",
    "from bs4 import BeautifulSoup\n",
    "import requests\n",
    "import googletrans\n",
    "import datetime\n",
    "from termcolor import colored\n",
    "from IPython.display import display, Markdown, Latex, HTML\n",
    "import re\n",
    "from IPython.display import Image\n",
    "import pandas as pd\n",
    "import json\n",
    "import datetime\n",
    "\n",
    "def print_news(i,expansion):\n",
    "    print(colored((expansion[i]['newspaper']).upper(),'green',attrs=['bold']))\n",
    "    print(colored(expansion[i]['date']['date1'],'grey',attrs=['bold']))\n",
    "    print(colored(expansion[i]['title'],'magenta',attrs=['bold']))\n",
    "    print(colored('Headline','blue'))\n",
    "    print(expansion[i]['headline'])\n",
    "    print(colored('Summarise','blue'))\n",
    "\n",
    "    if expansion[i]['summarise'] != 'Premium Content':\n",
    "        print(expansion[i]['summarise'])\n",
    "    else:\n",
    "        print(colored(expansion[i]['summarise'],'red'))\n",
    "    print(colored('Text','blue'))\n",
    "    print(expansion[i]['text'])\n",
    "    url = expansion[i]['img']\n",
    "    display(Image(url=url,width=500))\n",
    "    display(Markdown('<a href=\"'+expansion[i]['link']+'\">Link</a>'))\n",
    "    print('\\n')"
   ]
  },
  {
   "cell_type": "code",
   "execution_count": 13,
   "metadata": {},
   "outputs": [],
   "source": [
    "# read file\n",
    "with open(\"../data/data_expansion.json\", 'r') as myfile:\n",
    "    data=myfile.read()"
   ]
  },
  {
   "cell_type": "code",
   "execution_count": 14,
   "metadata": {},
   "outputs": [
    {
     "data": {
      "text/html": [
       "<div>\n",
       "<style scoped>\n",
       "    .dataframe tbody tr th:only-of-type {\n",
       "        vertical-align: middle;\n",
       "    }\n",
       "\n",
       "    .dataframe tbody tr th {\n",
       "        vertical-align: top;\n",
       "    }\n",
       "\n",
       "    .dataframe thead th {\n",
       "        text-align: right;\n",
       "    }\n",
       "</style>\n",
       "<table border=\"1\" class=\"dataframe\">\n",
       "  <thead>\n",
       "    <tr style=\"text-align: right;\">\n",
       "      <th></th>\n",
       "      <th>Noticia_01</th>\n",
       "      <th>Noticia_02</th>\n",
       "      <th>Noticia_03</th>\n",
       "      <th>Noticia_04</th>\n",
       "      <th>Noticia_05</th>\n",
       "      <th>Noticia_06</th>\n",
       "      <th>Noticia_07</th>\n",
       "      <th>Noticia_08</th>\n",
       "      <th>Noticia_09</th>\n",
       "      <th>Noticia_10</th>\n",
       "      <th>...</th>\n",
       "      <th>Noticia_26</th>\n",
       "      <th>Noticia_27</th>\n",
       "      <th>Noticia_28</th>\n",
       "      <th>Noticia_29</th>\n",
       "      <th>Noticia_30</th>\n",
       "      <th>Noticia_31</th>\n",
       "      <th>Noticia_32</th>\n",
       "      <th>Noticia_33</th>\n",
       "      <th>Noticia_34</th>\n",
       "      <th>Noticia_35</th>\n",
       "    </tr>\n",
       "  </thead>\n",
       "  <tbody>\n",
       "    <tr>\n",
       "      <th>current_date</th>\n",
       "      <td>[2020, 7, 7, 19, 20, 0, 1, 189, -1]</td>\n",
       "      <td>[2020, 7, 7, 19, 20, 1, 1, 189, -1]</td>\n",
       "      <td>[2020, 7, 7, 19, 20, 2, 1, 189, -1]</td>\n",
       "      <td>[2020, 7, 7, 19, 20, 4, 1, 189, -1]</td>\n",
       "      <td>[2020, 7, 7, 19, 20, 5, 1, 189, -1]</td>\n",
       "      <td>[2020, 7, 7, 19, 20, 6, 1, 189, -1]</td>\n",
       "      <td>[2020, 7, 7, 19, 20, 8, 1, 189, -1]</td>\n",
       "      <td>[2020, 7, 7, 19, 20, 9, 1, 189, -1]</td>\n",
       "      <td>[2020, 7, 7, 19, 20, 10, 1, 189, -1]</td>\n",
       "      <td>[2020, 7, 7, 19, 20, 11, 1, 189, -1]</td>\n",
       "      <td>...</td>\n",
       "      <td>[2020, 7, 7, 19, 20, 31, 1, 189, -1]</td>\n",
       "      <td>[2020, 7, 7, 19, 20, 32, 1, 189, -1]</td>\n",
       "      <td>[2020, 7, 7, 19, 20, 34, 1, 189, -1]</td>\n",
       "      <td>[2020, 7, 7, 19, 20, 35, 1, 189, -1]</td>\n",
       "      <td>[2020, 7, 7, 19, 20, 37, 1, 189, -1]</td>\n",
       "      <td>[2020, 7, 7, 19, 20, 38, 1, 189, -1]</td>\n",
       "      <td>[2020, 7, 7, 19, 20, 39, 1, 189, -1]</td>\n",
       "      <td>[2020, 7, 7, 19, 20, 41, 1, 189, -1]</td>\n",
       "      <td>[2020, 7, 7, 19, 20, 42, 1, 189, -1]</td>\n",
       "      <td>[2020, 7, 7, 19, 20, 43, 1, 189, -1]</td>\n",
       "    </tr>\n",
       "    <tr>\n",
       "      <th>date</th>\n",
       "      <td>{'date1': 'Tue, 07 Jul 2020 17:00:51 +0200', '...</td>\n",
       "      <td>{'date1': 'Tue, 07 Jul 2020 13:37:28 +0200', '...</td>\n",
       "      <td>{'date1': 'Tue, 07 Jul 2020 11:01:39 +0200', '...</td>\n",
       "      <td>{'date1': 'Tue, 07 Jul 2020 10:55:40 +0200', '...</td>\n",
       "      <td>{'date1': 'Tue, 07 Jul 2020 10:18:45 +0200', '...</td>\n",
       "      <td>{'date1': 'Tue, 07 Jul 2020 01:40:20 +0200', '...</td>\n",
       "      <td>{'date1': 'Tue, 07 Jul 2020 01:27:23 +0200', '...</td>\n",
       "      <td>{'date1': 'Tue, 07 Jul 2020 01:26:06 +0200', '...</td>\n",
       "      <td>{'date1': 'Tue, 07 Jul 2020 00:49:59 +0200', '...</td>\n",
       "      <td>{'date1': 'Tue, 07 Jul 2020 00:44:39 +0200', '...</td>\n",
       "      <td>...</td>\n",
       "      <td>{'date1': 'Sun, 05 Jul 2020 20:49:14 +0200', '...</td>\n",
       "      <td>{'date1': 'Sun, 05 Jul 2020 12:21:40 +0200', '...</td>\n",
       "      <td>{'date1': 'Sun, 05 Jul 2020 12:09:16 +0200', '...</td>\n",
       "      <td>{'date1': 'Sun, 05 Jul 2020 12:04:29 +0200', '...</td>\n",
       "      <td>{'date1': 'Sat, 04 Jul 2020 20:31:09 +0200', '...</td>\n",
       "      <td>{'date1': 'Sat, 04 Jul 2020 20:29:13 +0200', '...</td>\n",
       "      <td>{'date1': 'Sat, 04 Jul 2020 20:26:07 +0200', '...</td>\n",
       "      <td>{'date1': 'Sat, 04 Jul 2020 20:24:01 +0200', '...</td>\n",
       "      <td>{'date1': 'Sat, 04 Jul 2020 12:25:26 +0200', '...</td>\n",
       "      <td>{'date1': 'Sat, 04 Jul 2020 01:37:03 +0200', '...</td>\n",
       "    </tr>\n",
       "    <tr>\n",
       "      <th>headline</th>\n",
       "      <td>La acción impositiva del regulador ha concluid...</td>\n",
       "      <td>El consejero delegado de Deutsche Bank, Christ...</td>\n",
       "      <td>Deutsche Bank y Google Cloud han llegado a un ...</td>\n",
       "      <td>BBVA ha recurrido el requerimiento que le hizo...</td>\n",
       "      <td>BBVA ha emitido este martes 1.000 millones de ...</td>\n",
       "      <td>Santander, BBVA y Sabadell son los bancos que ...</td>\n",
       "      <td>Los analistas ven el objetivo del índice para ...</td>\n",
       "      <td>Entre los candidatos como posibles sucesores f...</td>\n",
       "      <td>El juez Juan Ramón Brigidano, de la Audiencia ...</td>\n",
       "      <td>Cerberus, uno de los principales accionistas d...</td>\n",
       "      <td>...</td>\n",
       "      <td>Ana Botín, presidenta de la entidad, impulsa u...</td>\n",
       "      <td>La ejecución de sentencias y los acuerdos tran...</td>\n",
       "      <td>Ya se pueden solicitar en 16 bancos, incluidos...</td>\n",
       "      <td>Las entidades financieras y los prestamistas i...</td>\n",
       "      <td>Por cambios contables, la venta de Paraguay y ...</td>\n",
       "      <td>España se salva del desplome generalizado por ...</td>\n",
       "      <td>Los analistas calculan que las nuevas medidas ...</td>\n",
       "      <td>Las firmas de banca privada de tamaño medio ha...</td>\n",
       "      <td>La falta de regulación y supervisión de las te...</td>\n",
       "      <td>Las cuentas de resultados de los bancos están ...</td>\n",
       "    </tr>\n",
       "    <tr>\n",
       "      <th>img</th>\n",
       "      <td>https://e00-expansion.uecdn.es/assets/multimed...</td>\n",
       "      <td>https://e00-expansion.uecdn.es/assets/multimed...</td>\n",
       "      <td>https://e00-expansion.uecdn.es/assets/multimed...</td>\n",
       "      <td>https://e00-expansion.uecdn.es/assets/multimed...</td>\n",
       "      <td>https://e00-expansion.uecdn.es/assets/multimed...</td>\n",
       "      <td>https://e00-expansion.uecdn.es/assets/multimed...</td>\n",
       "      <td>https://e00-expansion.uecdn.es/assets/multimed...</td>\n",
       "      <td>https://e00-expansion.uecdn.es/assets/multimed...</td>\n",
       "      <td>https://e00-expansion.uecdn.es/assets/multimed...</td>\n",
       "      <td>https://e00-expansion.uecdn.es/assets/multimed...</td>\n",
       "      <td>...</td>\n",
       "      <td>https://e00-expansion.uecdn.es/assets/multimed...</td>\n",
       "      <td>https://e00-expansion.uecdn.es/assets/multimed...</td>\n",
       "      <td>https://e00-expansion.uecdn.es/assets/multimed...</td>\n",
       "      <td>https://e00-expansion.uecdn.es/assets/multimed...</td>\n",
       "      <td>https://e00-expansion.uecdn.es/assets/multimed...</td>\n",
       "      <td>https://e00-expansion.uecdn.es/assets/multimed...</td>\n",
       "      <td>https://e00-expansion.uecdn.es/assets/multimed...</td>\n",
       "      <td>https://e00-expansion.uecdn.es/assets/multimed...</td>\n",
       "      <td>https://e00-expansion.uecdn.es/assets/multimed...</td>\n",
       "      <td>https://e00-expansion.uecdn.es/assets/multimed...</td>\n",
       "    </tr>\n",
       "    <tr>\n",
       "      <th>link</th>\n",
       "      <td>https://www.expansion.com/empresas/banca/2020/...</td>\n",
       "      <td>https://www.expansion.com/empresas/banca/2020/...</td>\n",
       "      <td>https://www.expansion.com/empresas/banca/2020/...</td>\n",
       "      <td>https://www.expansion.com/empresas/banca/2020/...</td>\n",
       "      <td>https://www.expansion.com/empresas/banca/2020/...</td>\n",
       "      <td>https://www.expansion.com/empresas/banca/2020/...</td>\n",
       "      <td>https://www.expansion.com/mercados/2020/07/07/...</td>\n",
       "      <td>https://www.expansion.com/empresas/banca/2020/...</td>\n",
       "      <td>https://www.expansion.com/empresas/banca/2020/...</td>\n",
       "      <td>https://www.expansion.com/empresas/banca/2020/...</td>\n",
       "      <td>...</td>\n",
       "      <td>https://www.expansion.com/empresas/banca/2020/...</td>\n",
       "      <td>https://www.expansion.com/empresas/banca/2020/...</td>\n",
       "      <td>https://www.expansion.com/empresas/banca/2020/...</td>\n",
       "      <td>https://www.expansion.com/empresas/banca/2020/...</td>\n",
       "      <td>https://www.expansion.com/empresas/banca/2020/...</td>\n",
       "      <td>https://www.expansion.com/empresas/2020/07/04/...</td>\n",
       "      <td>https://www.expansion.com/empresas/banca/2020/...</td>\n",
       "      <td>https://www.expansion.com/empresas/banca/2020/...</td>\n",
       "      <td>https://www.expansion.com/empresas/banca/2020/...</td>\n",
       "      <td>https://www.expansion.com/empresas/banca/2020/...</td>\n",
       "    </tr>\n",
       "    <tr>\n",
       "      <th>newspaper</th>\n",
       "      <td>expansion</td>\n",
       "      <td>expansion</td>\n",
       "      <td>expansion</td>\n",
       "      <td>expansion</td>\n",
       "      <td>expansion</td>\n",
       "      <td>expansion</td>\n",
       "      <td>expansion</td>\n",
       "      <td>expansion</td>\n",
       "      <td>expansion</td>\n",
       "      <td>expansion</td>\n",
       "      <td>...</td>\n",
       "      <td>expansion</td>\n",
       "      <td>expansion</td>\n",
       "      <td>expansion</td>\n",
       "      <td>expansion</td>\n",
       "      <td>expansion</td>\n",
       "      <td>expansion</td>\n",
       "      <td>expansion</td>\n",
       "      <td>expansion</td>\n",
       "      <td>expansion</td>\n",
       "      <td>expansion</td>\n",
       "    </tr>\n",
       "    <tr>\n",
       "      <th>premium</th>\n",
       "      <td>False</td>\n",
       "      <td>False</td>\n",
       "      <td>False</td>\n",
       "      <td>False</td>\n",
       "      <td>False</td>\n",
       "      <td>True</td>\n",
       "      <td>True</td>\n",
       "      <td>True</td>\n",
       "      <td>False</td>\n",
       "      <td>True</td>\n",
       "      <td>...</td>\n",
       "      <td>True</td>\n",
       "      <td>False</td>\n",
       "      <td>False</td>\n",
       "      <td>False</td>\n",
       "      <td>True</td>\n",
       "      <td>False</td>\n",
       "      <td>True</td>\n",
       "      <td>True</td>\n",
       "      <td>False</td>\n",
       "      <td>True</td>\n",
       "    </tr>\n",
       "    <tr>\n",
       "      <th>summarise</th>\n",
       "      <td>El departamento de Servicios Financieros del e...</td>\n",
       "      <td>El consejero delegado de Deutsche Bank, Christ...</td>\n",
       "      <td>Deutsche Bank y Google Cloud han llegado a un ...</td>\n",
       "      <td>BBVA ha recurrido el requerimiento que le hizo...</td>\n",
       "      <td>BBVA ha emitido este martes 1.000 millones de ...</td>\n",
       "      <td>Premium Content</td>\n",
       "      <td>Premium Content</td>\n",
       "      <td>Premium Content</td>\n",
       "      <td>El juez Juan Ramón Brigidano, de la Audiencia ...</td>\n",
       "      <td>Premium Content</td>\n",
       "      <td>...</td>\n",
       "      <td>Premium Content</td>\n",
       "      <td>De este modo, el Estado ha ido ampliando su po...</td>\n",
       "      <td>CaixaBank se ha sumado a conceder los préstamo...</td>\n",
       "      <td>\"La norma busca ampliar las fuentes de informa...</td>\n",
       "      <td>Premium Content</td>\n",
       "      <td>La calma no será lo que siga a la tempestad pr...</td>\n",
       "      <td>Premium Content</td>\n",
       "      <td>Premium Content</td>\n",
       "      <td>El engaño, que se produjo desde 2014, ha cread...</td>\n",
       "      <td>Premium Content</td>\n",
       "    </tr>\n",
       "    <tr>\n",
       "      <th>text</th>\n",
       "      <td>La acción impositiva del regulador ha concluid...</td>\n",
       "      <td>El consejero delegado de Deutsche Bank, Christ...</td>\n",
       "      <td>Deutsche Bank y Google Cloud han llegado a un ...</td>\n",
       "      <td>BBVA ha recurrido el requerimiento que le hizo...</td>\n",
       "      <td>BBVA ha emitido este martes 1.000 millones de ...</td>\n",
       "      <td>Santander, BBVA y Sabadell son los bancos que ...</td>\n",
       "      <td>Los analistas ven el objetivo del índice para ...</td>\n",
       "      <td>Entre los candidatos como posibles sucesores f...</td>\n",
       "      <td>El juez Juan Ramón Brigidano, de la Audiencia ...</td>\n",
       "      <td>Cerberus, uno de los principales accionistas d...</td>\n",
       "      <td>...</td>\n",
       "      <td>Ana Botín, presidenta de la entidad, impulsa u...</td>\n",
       "      <td>La ejecución de sentencias y los acuerdos tran...</td>\n",
       "      <td>Ya se pueden solicitar en 16 bancos, incluidos...</td>\n",
       "      <td>Las entidades financieras y los prestamistas i...</td>\n",
       "      <td>Por cambios contables, la venta de Paraguay y ...</td>\n",
       "      <td>España se salva del desplome generalizado por ...</td>\n",
       "      <td>Los analistas calculan que las nuevas medidas ...</td>\n",
       "      <td>Las firmas de banca privada de tamaño medio ha...</td>\n",
       "      <td>La falta de regulación y supervisión de las te...</td>\n",
       "      <td>Las cuentas de resultados de los bancos están ...</td>\n",
       "    </tr>\n",
       "    <tr>\n",
       "      <th>title</th>\n",
       "      <td>Nueva York multa a Deutsche Bank por omitir la...</td>\n",
       "      <td>Deutsche Bank frena las expectativas de compra...</td>\n",
       "      <td>Deutsche Bank y Google acuerdan formar una ali...</td>\n",
       "      <td>BBVA recurre que se requiera a PWC los datos d...</td>\n",
       "      <td>BBVA emite 1.000 millones en bonos verdes conv...</td>\n",
       "      <td>La banca se prepara para la venta masiva de tó...</td>\n",
       "      <td>¿Llevará la banca al Ibex a los 8.000 puntos?</td>\n",
       "      <td>António Horta-Osório dejará Lloyds en 2021 tra...</td>\n",
       "      <td>Un juez declara gratuita una hipoteca IRPH</td>\n",
       "      <td>Commerzbank: búsqueda urgente de un CEO</td>\n",
       "      <td>...</td>\n",
       "      <td>El objetivo de Santander: acelerar en la digit...</td>\n",
       "      <td>Los acuerdos para evitar pleitos elevan la pos...</td>\n",
       "      <td>CaixaBank se suma a la concesión de préstamos ...</td>\n",
       "      <td>La banca deberá tener un registro de reclamaci...</td>\n",
       "      <td>Así espera BBVA generar 40 puntos básicos de c...</td>\n",
       "      <td>La banca de inversión prevé una fuerte recuper...</td>\n",
       "      <td>Barclays prevé que las fusiones de bancos arra...</td>\n",
       "      <td>Baile de banqueros para ganar cuota en el nego...</td>\n",
       "      <td>Wirecard: un gran engaño ante la falta de supe...</td>\n",
       "      <td>Los retos inmediatos de los bancos, uno a uno</td>\n",
       "    </tr>\n",
       "  </tbody>\n",
       "</table>\n",
       "<p>10 rows × 35 columns</p>\n",
       "</div>"
      ],
      "text/plain": [
       "                                                     Noticia_01  \\\n",
       "current_date                [2020, 7, 7, 19, 20, 0, 1, 189, -1]   \n",
       "date          {'date1': 'Tue, 07 Jul 2020 17:00:51 +0200', '...   \n",
       "headline      La acción impositiva del regulador ha concluid...   \n",
       "img           https://e00-expansion.uecdn.es/assets/multimed...   \n",
       "link          https://www.expansion.com/empresas/banca/2020/...   \n",
       "newspaper                                             expansion   \n",
       "premium                                                   False   \n",
       "summarise     El departamento de Servicios Financieros del e...   \n",
       "text          La acción impositiva del regulador ha concluid...   \n",
       "title         Nueva York multa a Deutsche Bank por omitir la...   \n",
       "\n",
       "                                                     Noticia_02  \\\n",
       "current_date                [2020, 7, 7, 19, 20, 1, 1, 189, -1]   \n",
       "date          {'date1': 'Tue, 07 Jul 2020 13:37:28 +0200', '...   \n",
       "headline      El consejero delegado de Deutsche Bank, Christ...   \n",
       "img           https://e00-expansion.uecdn.es/assets/multimed...   \n",
       "link          https://www.expansion.com/empresas/banca/2020/...   \n",
       "newspaper                                             expansion   \n",
       "premium                                                   False   \n",
       "summarise     El consejero delegado de Deutsche Bank, Christ...   \n",
       "text          El consejero delegado de Deutsche Bank, Christ...   \n",
       "title         Deutsche Bank frena las expectativas de compra...   \n",
       "\n",
       "                                                     Noticia_03  \\\n",
       "current_date                [2020, 7, 7, 19, 20, 2, 1, 189, -1]   \n",
       "date          {'date1': 'Tue, 07 Jul 2020 11:01:39 +0200', '...   \n",
       "headline      Deutsche Bank y Google Cloud han llegado a un ...   \n",
       "img           https://e00-expansion.uecdn.es/assets/multimed...   \n",
       "link          https://www.expansion.com/empresas/banca/2020/...   \n",
       "newspaper                                             expansion   \n",
       "premium                                                   False   \n",
       "summarise     Deutsche Bank y Google Cloud han llegado a un ...   \n",
       "text          Deutsche Bank y Google Cloud han llegado a un ...   \n",
       "title         Deutsche Bank y Google acuerdan formar una ali...   \n",
       "\n",
       "                                                     Noticia_04  \\\n",
       "current_date                [2020, 7, 7, 19, 20, 4, 1, 189, -1]   \n",
       "date          {'date1': 'Tue, 07 Jul 2020 10:55:40 +0200', '...   \n",
       "headline      BBVA ha recurrido el requerimiento que le hizo...   \n",
       "img           https://e00-expansion.uecdn.es/assets/multimed...   \n",
       "link          https://www.expansion.com/empresas/banca/2020/...   \n",
       "newspaper                                             expansion   \n",
       "premium                                                   False   \n",
       "summarise     BBVA ha recurrido el requerimiento que le hizo...   \n",
       "text          BBVA ha recurrido el requerimiento que le hizo...   \n",
       "title         BBVA recurre que se requiera a PWC los datos d...   \n",
       "\n",
       "                                                     Noticia_05  \\\n",
       "current_date                [2020, 7, 7, 19, 20, 5, 1, 189, -1]   \n",
       "date          {'date1': 'Tue, 07 Jul 2020 10:18:45 +0200', '...   \n",
       "headline      BBVA ha emitido este martes 1.000 millones de ...   \n",
       "img           https://e00-expansion.uecdn.es/assets/multimed...   \n",
       "link          https://www.expansion.com/empresas/banca/2020/...   \n",
       "newspaper                                             expansion   \n",
       "premium                                                   False   \n",
       "summarise     BBVA ha emitido este martes 1.000 millones de ...   \n",
       "text          BBVA ha emitido este martes 1.000 millones de ...   \n",
       "title         BBVA emite 1.000 millones en bonos verdes conv...   \n",
       "\n",
       "                                                     Noticia_06  \\\n",
       "current_date                [2020, 7, 7, 19, 20, 6, 1, 189, -1]   \n",
       "date          {'date1': 'Tue, 07 Jul 2020 01:40:20 +0200', '...   \n",
       "headline      Santander, BBVA y Sabadell son los bancos que ...   \n",
       "img           https://e00-expansion.uecdn.es/assets/multimed...   \n",
       "link          https://www.expansion.com/empresas/banca/2020/...   \n",
       "newspaper                                             expansion   \n",
       "premium                                                    True   \n",
       "summarise                                       Premium Content   \n",
       "text          Santander, BBVA y Sabadell son los bancos que ...   \n",
       "title         La banca se prepara para la venta masiva de tó...   \n",
       "\n",
       "                                                     Noticia_07  \\\n",
       "current_date                [2020, 7, 7, 19, 20, 8, 1, 189, -1]   \n",
       "date          {'date1': 'Tue, 07 Jul 2020 01:27:23 +0200', '...   \n",
       "headline      Los analistas ven el objetivo del índice para ...   \n",
       "img           https://e00-expansion.uecdn.es/assets/multimed...   \n",
       "link          https://www.expansion.com/mercados/2020/07/07/...   \n",
       "newspaper                                             expansion   \n",
       "premium                                                    True   \n",
       "summarise                                       Premium Content   \n",
       "text          Los analistas ven el objetivo del índice para ...   \n",
       "title             ¿Llevará la banca al Ibex a los 8.000 puntos?   \n",
       "\n",
       "                                                     Noticia_08  \\\n",
       "current_date                [2020, 7, 7, 19, 20, 9, 1, 189, -1]   \n",
       "date          {'date1': 'Tue, 07 Jul 2020 01:26:06 +0200', '...   \n",
       "headline      Entre los candidatos como posibles sucesores f...   \n",
       "img           https://e00-expansion.uecdn.es/assets/multimed...   \n",
       "link          https://www.expansion.com/empresas/banca/2020/...   \n",
       "newspaper                                             expansion   \n",
       "premium                                                    True   \n",
       "summarise                                       Premium Content   \n",
       "text          Entre los candidatos como posibles sucesores f...   \n",
       "title         António Horta-Osório dejará Lloyds en 2021 tra...   \n",
       "\n",
       "                                                     Noticia_09  \\\n",
       "current_date               [2020, 7, 7, 19, 20, 10, 1, 189, -1]   \n",
       "date          {'date1': 'Tue, 07 Jul 2020 00:49:59 +0200', '...   \n",
       "headline      El juez Juan Ramón Brigidano, de la Audiencia ...   \n",
       "img           https://e00-expansion.uecdn.es/assets/multimed...   \n",
       "link          https://www.expansion.com/empresas/banca/2020/...   \n",
       "newspaper                                             expansion   \n",
       "premium                                                   False   \n",
       "summarise     El juez Juan Ramón Brigidano, de la Audiencia ...   \n",
       "text          El juez Juan Ramón Brigidano, de la Audiencia ...   \n",
       "title                Un juez declara gratuita una hipoteca IRPH   \n",
       "\n",
       "                                                     Noticia_10  \\\n",
       "current_date               [2020, 7, 7, 19, 20, 11, 1, 189, -1]   \n",
       "date          {'date1': 'Tue, 07 Jul 2020 00:44:39 +0200', '...   \n",
       "headline      Cerberus, uno de los principales accionistas d...   \n",
       "img           https://e00-expansion.uecdn.es/assets/multimed...   \n",
       "link          https://www.expansion.com/empresas/banca/2020/...   \n",
       "newspaper                                             expansion   \n",
       "premium                                                    True   \n",
       "summarise                                       Premium Content   \n",
       "text          Cerberus, uno de los principales accionistas d...   \n",
       "title                   Commerzbank: búsqueda urgente de un CEO   \n",
       "\n",
       "                                    ...                          \\\n",
       "current_date                        ...                           \n",
       "date                                ...                           \n",
       "headline                            ...                           \n",
       "img                                 ...                           \n",
       "link                                ...                           \n",
       "newspaper                           ...                           \n",
       "premium                             ...                           \n",
       "summarise                           ...                           \n",
       "text                                ...                           \n",
       "title                               ...                           \n",
       "\n",
       "                                                     Noticia_26  \\\n",
       "current_date               [2020, 7, 7, 19, 20, 31, 1, 189, -1]   \n",
       "date          {'date1': 'Sun, 05 Jul 2020 20:49:14 +0200', '...   \n",
       "headline      Ana Botín, presidenta de la entidad, impulsa u...   \n",
       "img           https://e00-expansion.uecdn.es/assets/multimed...   \n",
       "link          https://www.expansion.com/empresas/banca/2020/...   \n",
       "newspaper                                             expansion   \n",
       "premium                                                    True   \n",
       "summarise                                       Premium Content   \n",
       "text          Ana Botín, presidenta de la entidad, impulsa u...   \n",
       "title         El objetivo de Santander: acelerar en la digit...   \n",
       "\n",
       "                                                     Noticia_27  \\\n",
       "current_date               [2020, 7, 7, 19, 20, 32, 1, 189, -1]   \n",
       "date          {'date1': 'Sun, 05 Jul 2020 12:21:40 +0200', '...   \n",
       "headline      La ejecución de sentencias y los acuerdos tran...   \n",
       "img           https://e00-expansion.uecdn.es/assets/multimed...   \n",
       "link          https://www.expansion.com/empresas/banca/2020/...   \n",
       "newspaper                                             expansion   \n",
       "premium                                                   False   \n",
       "summarise     De este modo, el Estado ha ido ampliando su po...   \n",
       "text          La ejecución de sentencias y los acuerdos tran...   \n",
       "title         Los acuerdos para evitar pleitos elevan la pos...   \n",
       "\n",
       "                                                     Noticia_28  \\\n",
       "current_date               [2020, 7, 7, 19, 20, 34, 1, 189, -1]   \n",
       "date          {'date1': 'Sun, 05 Jul 2020 12:09:16 +0200', '...   \n",
       "headline      Ya se pueden solicitar en 16 bancos, incluidos...   \n",
       "img           https://e00-expansion.uecdn.es/assets/multimed...   \n",
       "link          https://www.expansion.com/empresas/banca/2020/...   \n",
       "newspaper                                             expansion   \n",
       "premium                                                   False   \n",
       "summarise     CaixaBank se ha sumado a conceder los préstamo...   \n",
       "text          Ya se pueden solicitar en 16 bancos, incluidos...   \n",
       "title         CaixaBank se suma a la concesión de préstamos ...   \n",
       "\n",
       "                                                     Noticia_29  \\\n",
       "current_date               [2020, 7, 7, 19, 20, 35, 1, 189, -1]   \n",
       "date          {'date1': 'Sun, 05 Jul 2020 12:04:29 +0200', '...   \n",
       "headline      Las entidades financieras y los prestamistas i...   \n",
       "img           https://e00-expansion.uecdn.es/assets/multimed...   \n",
       "link          https://www.expansion.com/empresas/banca/2020/...   \n",
       "newspaper                                             expansion   \n",
       "premium                                                   False   \n",
       "summarise     \"La norma busca ampliar las fuentes de informa...   \n",
       "text          Las entidades financieras y los prestamistas i...   \n",
       "title         La banca deberá tener un registro de reclamaci...   \n",
       "\n",
       "                                                     Noticia_30  \\\n",
       "current_date               [2020, 7, 7, 19, 20, 37, 1, 189, -1]   \n",
       "date          {'date1': 'Sat, 04 Jul 2020 20:31:09 +0200', '...   \n",
       "headline      Por cambios contables, la venta de Paraguay y ...   \n",
       "img           https://e00-expansion.uecdn.es/assets/multimed...   \n",
       "link          https://www.expansion.com/empresas/banca/2020/...   \n",
       "newspaper                                             expansion   \n",
       "premium                                                    True   \n",
       "summarise                                       Premium Content   \n",
       "text          Por cambios contables, la venta de Paraguay y ...   \n",
       "title         Así espera BBVA generar 40 puntos básicos de c...   \n",
       "\n",
       "                                                     Noticia_31  \\\n",
       "current_date               [2020, 7, 7, 19, 20, 38, 1, 189, -1]   \n",
       "date          {'date1': 'Sat, 04 Jul 2020 20:29:13 +0200', '...   \n",
       "headline      España se salva del desplome generalizado por ...   \n",
       "img           https://e00-expansion.uecdn.es/assets/multimed...   \n",
       "link          https://www.expansion.com/empresas/2020/07/04/...   \n",
       "newspaper                                             expansion   \n",
       "premium                                                   False   \n",
       "summarise     La calma no será lo que siga a la tempestad pr...   \n",
       "text          España se salva del desplome generalizado por ...   \n",
       "title         La banca de inversión prevé una fuerte recuper...   \n",
       "\n",
       "                                                     Noticia_32  \\\n",
       "current_date               [2020, 7, 7, 19, 20, 39, 1, 189, -1]   \n",
       "date          {'date1': 'Sat, 04 Jul 2020 20:26:07 +0200', '...   \n",
       "headline      Los analistas calculan que las nuevas medidas ...   \n",
       "img           https://e00-expansion.uecdn.es/assets/multimed...   \n",
       "link          https://www.expansion.com/empresas/banca/2020/...   \n",
       "newspaper                                             expansion   \n",
       "premium                                                    True   \n",
       "summarise                                       Premium Content   \n",
       "text          Los analistas calculan que las nuevas medidas ...   \n",
       "title         Barclays prevé que las fusiones de bancos arra...   \n",
       "\n",
       "                                                     Noticia_33  \\\n",
       "current_date               [2020, 7, 7, 19, 20, 41, 1, 189, -1]   \n",
       "date          {'date1': 'Sat, 04 Jul 2020 20:24:01 +0200', '...   \n",
       "headline      Las firmas de banca privada de tamaño medio ha...   \n",
       "img           https://e00-expansion.uecdn.es/assets/multimed...   \n",
       "link          https://www.expansion.com/empresas/banca/2020/...   \n",
       "newspaper                                             expansion   \n",
       "premium                                                    True   \n",
       "summarise                                       Premium Content   \n",
       "text          Las firmas de banca privada de tamaño medio ha...   \n",
       "title         Baile de banqueros para ganar cuota en el nego...   \n",
       "\n",
       "                                                     Noticia_34  \\\n",
       "current_date               [2020, 7, 7, 19, 20, 42, 1, 189, -1]   \n",
       "date          {'date1': 'Sat, 04 Jul 2020 12:25:26 +0200', '...   \n",
       "headline      La falta de regulación y supervisión de las te...   \n",
       "img           https://e00-expansion.uecdn.es/assets/multimed...   \n",
       "link          https://www.expansion.com/empresas/banca/2020/...   \n",
       "newspaper                                             expansion   \n",
       "premium                                                   False   \n",
       "summarise     El engaño, que se produjo desde 2014, ha cread...   \n",
       "text          La falta de regulación y supervisión de las te...   \n",
       "title         Wirecard: un gran engaño ante la falta de supe...   \n",
       "\n",
       "                                                     Noticia_35  \n",
       "current_date               [2020, 7, 7, 19, 20, 43, 1, 189, -1]  \n",
       "date          {'date1': 'Sat, 04 Jul 2020 01:37:03 +0200', '...  \n",
       "headline      Las cuentas de resultados de los bancos están ...  \n",
       "img           https://e00-expansion.uecdn.es/assets/multimed...  \n",
       "link          https://www.expansion.com/empresas/banca/2020/...  \n",
       "newspaper                                             expansion  \n",
       "premium                                                    True  \n",
       "summarise                                       Premium Content  \n",
       "text          Las cuentas de resultados de los bancos están ...  \n",
       "title             Los retos inmediatos de los bancos, uno a uno  \n",
       "\n",
       "[10 rows x 35 columns]"
      ]
     },
     "execution_count": 14,
     "metadata": {},
     "output_type": "execute_result"
    }
   ],
   "source": [
    "df = pd.read_json(data)\n",
    "data = json.loads(data)\n",
    "df"
   ]
  },
  {
   "cell_type": "code",
   "execution_count": 15,
   "metadata": {},
   "outputs": [
    {
     "name": "stdout",
     "output_type": "stream",
     "text": [
      "\u001b[1m\u001b[32mEXPANSION\u001b[0m\n",
      "\u001b[1m\u001b[30mTue, 07 Jul 2020 00:14:35 +0200\u001b[0m\n",
      "\u001b[1m\u001b[35mLas autoridades chinas quieren acabar con los accionistas ilegales de los bancos\u001b[0m\n",
      "\u001b[34mHeadline\u001b[0m\n",
      "Los autoridades chinas quieren poner fin a las actividades de los accionistas \"ilegales\" de los bancos, muchos de los cuales utilizaban dichas participaciones para financiar sus propios proyectos.\n",
      "\u001b[34mSummarise\u001b[0m\n",
      "\u001b[31mPremium Content\u001b[0m\n",
      "\u001b[34mText\u001b[0m\n",
      "Los autoridades chinas quieren poner fin a las actividades de los accionistas \"ilegales\" de los bancos, muchos de los cuales utilizaban dichas participaciones para financiar sus propios proyectos. La Comisión Reguladora de la Banca y los Seguros de China (CBIRC) ha publicado una lista de 38 accionistas ilegales que estarán obligados a desinvertir en bancos y compañías de seguros. Entre ellos figuran empresas relacionadas con el banco regional  Para seguir leyendo, hágase Premium ¿Ya es Premium? Inicie sesión Mensual primer mes después 14,99€   Anual primer mes después 7,50€/mes (Pago único de 90€)\n",
      " 4 meses gratis  Descubra qué es Premium   Cancele cuando quiera    Consulte los términos y condiciones del servicio  \n"
     ]
    },
    {
     "data": {
      "text/html": [
       "<img src=\"https://e00-expansion.uecdn.es/assets/multimedia/imagenes/2020/07/06/15940628023579.jpg\" width=\"500\"/>"
      ],
      "text/plain": [
       "<IPython.core.display.Image object>"
      ]
     },
     "metadata": {},
     "output_type": "display_data"
    },
    {
     "data": {
      "text/markdown": [
       "<a href=\"https://www.expansion.com/mercados/2020/07/07/5f037800e5fdeaf43d8b45be.html\">Link</a>"
      ],
      "text/plain": [
       "<IPython.core.display.Markdown object>"
      ]
     },
     "metadata": {},
     "output_type": "display_data"
    },
    {
     "name": "stdout",
     "output_type": "stream",
     "text": [
      "\n",
      "\n"
     ]
    }
   ],
   "source": [
    "print_news(i='Noticia_12',expansion=data)"
   ]
  },
  {
   "cell_type": "code",
   "execution_count": 29,
   "metadata": {},
   "outputs": [],
   "source": [
    "jsonFile = open(\"../data/data.json\", \"r\")\n",
    "data = json.load(jsonFile)"
   ]
  },
  {
   "cell_type": "code",
   "execution_count": 30,
   "metadata": {},
   "outputs": [
    {
     "data": {
      "text/plain": [
       "['expansion', 'economista']"
      ]
     },
     "execution_count": 30,
     "metadata": {},
     "output_type": "execute_result"
    }
   ],
   "source": [
    "list(data.keys())"
   ]
  },
  {
   "cell_type": "code",
   "execution_count": 31,
   "metadata": {},
   "outputs": [
    {
     "data": {
      "text/plain": [
       "[2020, 7, 5]"
      ]
     },
     "execution_count": 31,
     "metadata": {},
     "output_type": "execute_result"
    }
   ],
   "source": [
    "date_ = data['expansion']['Noticia_20']['date']['date2'][:3]\n",
    "date_"
   ]
  },
  {
   "cell_type": "code",
   "execution_count": 34,
   "metadata": {},
   "outputs": [],
   "source": [
    "x = datetime.date(date_[0], date_[1], date_[2])"
   ]
  },
  {
   "cell_type": "code",
   "execution_count": 35,
   "metadata": {},
   "outputs": [
    {
     "data": {
      "text/plain": [
       "datetime.date(2020, 7, 5)"
      ]
     },
     "execution_count": 35,
     "metadata": {},
     "output_type": "execute_result"
    }
   ],
   "source": [
    "x"
   ]
  },
  {
   "cell_type": "code",
   "execution_count": 37,
   "metadata": {},
   "outputs": [],
   "source": [
    "dates = []\n",
    "for i in data['expansion']:\n",
    "    date_ = data['expansion'][i]['date']['date2'][:3]\n",
    "    new_date_ = datetime.date(date_[0], date_[1], date_[2])\n",
    "    dates.append(new_date_)"
   ]
  },
  {
   "cell_type": "code",
   "execution_count": 46,
   "metadata": {},
   "outputs": [],
   "source": [
    "dates = [datetime.date(data['expansion'][i]['date']['date2'][:3][0], data['expansion'][i]['date']['date2'][:3][1], data['expansion'][i]['date']['date2'][:3][2]) for i in data['expansion']]"
   ]
  },
  {
   "cell_type": "code",
   "execution_count": 43,
   "metadata": {},
   "outputs": [
    {
     "data": {
      "text/plain": [
       "datetime.date(2020, 7, 7)"
      ]
     },
     "execution_count": 43,
     "metadata": {},
     "output_type": "execute_result"
    }
   ],
   "source": [
    "max(d for d in dates if isinstance(d, datetime.date))"
   ]
  },
  {
   "cell_type": "code",
   "execution_count": 44,
   "metadata": {},
   "outputs": [
    {
     "data": {
      "text/plain": [
       "datetime.date(2020, 7, 4)"
      ]
     },
     "execution_count": 44,
     "metadata": {},
     "output_type": "execute_result"
    }
   ],
   "source": [
    "min(d for d in dates if isinstance(d, datetime.date))"
   ]
  },
  {
   "cell_type": "code",
   "execution_count": 48,
   "metadata": {},
   "outputs": [
    {
     "data": {
      "text/plain": [
       "5"
      ]
     },
     "execution_count": 48,
     "metadata": {},
     "output_type": "execute_result"
    }
   ],
   "source": [
    "data['expansion']['Noticia_20']['date']['date2'][2]"
   ]
  },
  {
   "cell_type": "code",
   "execution_count": 53,
   "metadata": {},
   "outputs": [
    {
     "name": "stdout",
     "output_type": "stream",
     "text": [
      "Cargando Entradas\n",
      "Desarrollando Diccionario\n"
     ]
    },
    {
     "ename": "IndexError",
     "evalue": "list index out of range",
     "output_type": "error",
     "traceback": [
      "\u001b[1;31m---------------------------------------------------------------------------\u001b[0m",
      "\u001b[1;31mIndexError\u001b[0m                                Traceback (most recent call last)",
      "\u001b[1;32m<ipython-input-53-176a18c41f98>\u001b[0m in \u001b[0;36m<module>\u001b[1;34m\u001b[0m\n\u001b[1;32m----> 1\u001b[1;33m \u001b[0mexec\u001b[0m\u001b[1;33m(\u001b[0m\u001b[0mopen\u001b[0m\u001b[1;33m(\u001b[0m\u001b[1;34m\"../src/expansion.py\"\u001b[0m\u001b[1;33m)\u001b[0m\u001b[1;33m.\u001b[0m\u001b[0mread\u001b[0m\u001b[1;33m(\u001b[0m\u001b[1;33m)\u001b[0m\u001b[1;33m)\u001b[0m\u001b[1;33m\u001b[0m\u001b[1;33m\u001b[0m\u001b[0m\n\u001b[0m",
      "\u001b[1;32m<string>\u001b[0m in \u001b[0;36m<module>\u001b[1;34m\u001b[0m\n",
      "\u001b[1;32m<string>\u001b[0m in \u001b[0;36mexpansion_news\u001b[1;34m(expansion_entries, word_count)\u001b[0m\n",
      "\u001b[1;32m<string>\u001b[0m in \u001b[0;36mget_only_text\u001b[1;34m(url)\u001b[0m\n",
      "\u001b[1;31mIndexError\u001b[0m: list index out of range"
     ]
    }
   ],
   "source": [
    "exec(open(\"../src/expansion.py\").read())"
   ]
  },
  {
   "cell_type": "code",
   "execution_count": null,
   "metadata": {},
   "outputs": [],
   "source": []
  }
 ],
 "metadata": {
  "kernelspec": {
   "display_name": "Python 3",
   "language": "python",
   "name": "python3"
  },
  "language_info": {
   "codemirror_mode": {
    "name": "ipython",
    "version": 3
   },
   "file_extension": ".py",
   "mimetype": "text/x-python",
   "name": "python",
   "nbconvert_exporter": "python",
   "pygments_lexer": "ipython3",
   "version": "3.7.6"
  }
 },
 "nbformat": 4,
 "nbformat_minor": 4
}
